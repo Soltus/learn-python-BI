{
 "cells": [
  {
   "cell_type": "code",
   "execution_count": 1,
   "metadata": {},
   "outputs": [],
   "source": [
    "# -*- coding: utf-8 -*-\n",
    "import pandas as pd\n",
    "data = pd.read_csv('./data/1.2/behavior.csv', sep = ',',encoding = 'utf-8')\n",
    "user = pd.read_csv('./data/1.2/user.csv', sep = ',',encoding = 'utf-8')"
   ]
  },
  {
   "cell_type": "markdown",
   "metadata": {},
   "source": [
    "# R：最近购买时间"
   ]
  },
  {
   "cell_type": "code",
   "execution_count": 2,
   "metadata": {},
   "outputs": [],
   "source": [
    "d1 = data[data['购买'] == 1][['用户','date']]\n",
    "d1.drop_duplicates(inplace=True)\n",
    "d1.sort_values(by = ['用户','date'],ascending = [True,True],inplace=True)"
   ]
  },
  {
   "cell_type": "code",
   "execution_count": 3,
   "metadata": {},
   "outputs": [],
   "source": [
    "d1['是否最后一次购买'] = 1  #标记用户最后一次购买日期\n",
    "for i in range(d1['用户'].count()-1):\n",
    "    if d1.iloc[i, 0] == d1.iloc[i+1, 0]:\n",
    "        d1.iloc[i, 2] = 0"
   ]
  },
  {
   "cell_type": "code",
   "execution_count": 4,
   "metadata": {},
   "outputs": [],
   "source": [
    "d2 = d1[d1['是否最后一次购买']==1]  #仅保留用户最后一次购买日期"
   ]
  },
  {
   "cell_type": "code",
   "execution_count": 5,
   "metadata": {},
   "outputs": [],
   "source": [
    "#计算R值\n",
    "import datetime\n",
    "for i in range(17654):\n",
    "    if datetime.datetime.strptime(d2.iloc[i, 1],'%Y-%m-%d').date() > datetime.datetime.strptime('2014-12-12','%Y-%m-%d').date():\n",
    "        d2.iloc[i, 2] = 5\n",
    "    elif (datetime.datetime.strptime(d2.iloc[i, 1],'%Y-%m-%d').date() <= datetime.datetime.strptime('2014-12-12','%Y-%m-%d').date()) \\\n",
    "    and (datetime.datetime.strptime(d2.iloc[i, 1],'%Y-%m-%d').date() > datetime.datetime.strptime('2014-12-06','%Y-%m-%d').date()):\n",
    "          d2.iloc[i, 2] = 4\n",
    "    elif (datetime.datetime.strptime(d2.iloc[i, 1],'%Y-%m-%d').date() <= datetime.datetime.strptime('2014-12-06','%Y-%m-%d').date()) \\\n",
    "    and (datetime.datetime.strptime(d2.iloc[i, 1],'%Y-%m-%d').date() > datetime.datetime.strptime('2014-12-01','%Y-%m-%d').date()):\n",
    "          d2.iloc[i, 2] = 3\n",
    "    elif (datetime.datetime.strptime(d2.iloc[i, 1],'%Y-%m-%d').date() <= datetime.datetime.strptime('2014-12-01','%Y-%m-%d').date()) \\\n",
    "    and (datetime.datetime.strptime(d2.iloc[i, 1],'%Y-%m-%d').date() > datetime.datetime.strptime('2014-11-25','%Y-%m-%d').date()):\n",
    "          d2.iloc[i, 2] = 2\n",
    "    elif datetime.datetime.strptime(d2.iloc[i, 1],'%Y-%m-%d').date() <= datetime.datetime.strptime('2014-11-25','%Y-%m-%d').date() :\n",
    "          d2.iloc[i, 2] = 1"
   ]
  },
  {
   "cell_type": "code",
   "execution_count": 6,
   "metadata": {},
   "outputs": [],
   "source": [
    "RFM = pd.merge(user,d2, how='outer',on='用户') #形成RFM数据集\n",
    "RFM['是否最后一次购买'].fillna(0,inplace = True)   #未购买的消费者R=0\n",
    "RFM['是否最后一次购买'] = RFM['是否最后一次购买'].astype(int)\n",
    "RFM.rename(columns={'是否最后一次购买':'R值'}, inplace = True)"
   ]
  },
  {
   "cell_type": "code",
   "execution_count": 7,
   "metadata": {},
   "outputs": [],
   "source": [
    "RFM = RFM.drop(['date'], axis=1) "
   ]
  },
  {
   "cell_type": "code",
   "execution_count": 8,
   "metadata": {},
   "outputs": [
    {
     "data": {
      "text/html": [
       "<div>\n",
       "<style scoped>\n",
       "    .dataframe tbody tr th:only-of-type {\n",
       "        vertical-align: middle;\n",
       "    }\n",
       "\n",
       "    .dataframe tbody tr th {\n",
       "        vertical-align: top;\n",
       "    }\n",
       "\n",
       "    .dataframe thead th {\n",
       "        text-align: right;\n",
       "    }\n",
       "</style>\n",
       "<table border=\"1\" class=\"dataframe\">\n",
       "  <thead>\n",
       "    <tr style=\"text-align: right;\">\n",
       "      <th></th>\n",
       "      <th>用户</th>\n",
       "      <th>R值</th>\n",
       "    </tr>\n",
       "  </thead>\n",
       "  <tbody>\n",
       "    <tr>\n",
       "      <th>0</th>\n",
       "      <td>10001082</td>\n",
       "      <td>5</td>\n",
       "    </tr>\n",
       "    <tr>\n",
       "      <th>1</th>\n",
       "      <td>100029775</td>\n",
       "      <td>5</td>\n",
       "    </tr>\n",
       "    <tr>\n",
       "      <th>2</th>\n",
       "      <td>100068031</td>\n",
       "      <td>5</td>\n",
       "    </tr>\n",
       "    <tr>\n",
       "      <th>3</th>\n",
       "      <td>100076491</td>\n",
       "      <td>3</td>\n",
       "    </tr>\n",
       "    <tr>\n",
       "      <th>4</th>\n",
       "      <td>100087810</td>\n",
       "      <td>0</td>\n",
       "    </tr>\n",
       "    <tr>\n",
       "      <th>...</th>\n",
       "      <td>...</td>\n",
       "      <td>...</td>\n",
       "    </tr>\n",
       "    <tr>\n",
       "      <th>19995</th>\n",
       "      <td>65186019</td>\n",
       "      <td>5</td>\n",
       "    </tr>\n",
       "    <tr>\n",
       "      <th>19996</th>\n",
       "      <td>65200062</td>\n",
       "      <td>5</td>\n",
       "    </tr>\n",
       "    <tr>\n",
       "      <th>19997</th>\n",
       "      <td>65222739</td>\n",
       "      <td>4</td>\n",
       "    </tr>\n",
       "    <tr>\n",
       "      <th>19998</th>\n",
       "      <td>65328951</td>\n",
       "      <td>5</td>\n",
       "    </tr>\n",
       "    <tr>\n",
       "      <th>19999</th>\n",
       "      <td>65341491</td>\n",
       "      <td>5</td>\n",
       "    </tr>\n",
       "  </tbody>\n",
       "</table>\n",
       "<p>20000 rows × 2 columns</p>\n",
       "</div>"
      ],
      "text/plain": [
       "              用户  R值\n",
       "0       10001082   5\n",
       "1      100029775   5\n",
       "2      100068031   5\n",
       "3      100076491   3\n",
       "4      100087810   0\n",
       "...          ...  ..\n",
       "19995   65186019   5\n",
       "19996   65200062   5\n",
       "19997   65222739   4\n",
       "19998   65328951   5\n",
       "19999   65341491   5\n",
       "\n",
       "[20000 rows x 2 columns]"
      ]
     },
     "execution_count": 8,
     "metadata": {},
     "output_type": "execute_result"
    }
   ],
   "source": [
    "RFM"
   ]
  },
  {
   "cell_type": "markdown",
   "metadata": {},
   "source": [
    "# F：消费频率，一天算一次"
   ]
  },
  {
   "cell_type": "code",
   "execution_count": 9,
   "metadata": {},
   "outputs": [],
   "source": [
    "d3 = data[data['购买'] == 1][['用户','date']]\n",
    "d3.sort_values(by = ['用户','date'],ascending = [True,True],inplace=True)"
   ]
  },
  {
   "cell_type": "code",
   "execution_count": 10,
   "metadata": {},
   "outputs": [],
   "source": [
    "d4 = d3.drop_duplicates()"
   ]
  },
  {
   "cell_type": "code",
   "execution_count": 11,
   "metadata": {},
   "outputs": [],
   "source": [
    "se = d4.groupby(['用户'])['date'].count()"
   ]
  },
  {
   "cell_type": "code",
   "execution_count": 12,
   "metadata": {},
   "outputs": [],
   "source": [
    "d5 = se.to_frame()  #se1为Series，需要转换为dataframe\n",
    "d5.reset_index(level=0, inplace=True)  #索引date转为列\n",
    "d5.rename(columns={'date':'购买次数'}, inplace = True)"
   ]
  },
  {
   "cell_type": "code",
   "execution_count": 13,
   "metadata": {},
   "outputs": [
    {
     "data": {
      "text/plain": [
       "31"
      ]
     },
     "execution_count": 13,
     "metadata": {},
     "output_type": "execute_result"
    }
   ],
   "source": [
    "d5.购买次数.max()"
   ]
  },
  {
   "cell_type": "code",
   "execution_count": 14,
   "metadata": {},
   "outputs": [
    {
     "data": {
      "text/plain": [
       "1"
      ]
     },
     "execution_count": 14,
     "metadata": {},
     "output_type": "execute_result"
    }
   ],
   "source": [
    "d5.购买次数.min()"
   ]
  },
  {
   "cell_type": "code",
   "execution_count": 15,
   "metadata": {},
   "outputs": [],
   "source": [
    "d5['F值'] = 0\n",
    "for i in range(17654):\n",
    "    if d5.iloc[i, 1] > 25:\n",
    "        d5.iloc[i, 2] = 5\n",
    "    elif (d5.iloc[i, 1] <= 25) and (d5.iloc[i, 1] > 19):\n",
    "        d5.iloc[i, 2] = 4\n",
    "    elif (d5.iloc[i, 1] <= 19) and (d5.iloc[i, 1] > 13):\n",
    "        d5.iloc[i, 2] = 3\n",
    "    elif (d5.iloc[i, 1] <= 13) and (d5.iloc[i, 1] > 7):\n",
    "        d5.iloc[i, 2] = 2\n",
    "    elif (d5.iloc[i, 1] <= 7) and (d5.iloc[i, 1] > 0):\n",
    "        d5.iloc[i, 2] = 1"
   ]
  },
  {
   "cell_type": "code",
   "execution_count": 16,
   "metadata": {},
   "outputs": [],
   "source": [
    "RFM = pd.merge(RFM,d5[['用户','F值']], how='outer',on='用户') #形成RFM数据集"
   ]
  },
  {
   "cell_type": "code",
   "execution_count": 17,
   "metadata": {},
   "outputs": [],
   "source": [
    "RFM['F值'].fillna(0,inplace = True)   #未购买的消费者R=0\n",
    "RFM['F值'] = RFM['F值'].astype(int)"
   ]
  },
  {
   "cell_type": "code",
   "execution_count": 18,
   "metadata": {},
   "outputs": [
    {
     "data": {
      "text/html": [
       "<div>\n",
       "<style scoped>\n",
       "    .dataframe tbody tr th:only-of-type {\n",
       "        vertical-align: middle;\n",
       "    }\n",
       "\n",
       "    .dataframe tbody tr th {\n",
       "        vertical-align: top;\n",
       "    }\n",
       "\n",
       "    .dataframe thead th {\n",
       "        text-align: right;\n",
       "    }\n",
       "</style>\n",
       "<table border=\"1\" class=\"dataframe\">\n",
       "  <thead>\n",
       "    <tr style=\"text-align: right;\">\n",
       "      <th></th>\n",
       "      <th>用户</th>\n",
       "      <th>R值</th>\n",
       "      <th>F值</th>\n",
       "    </tr>\n",
       "  </thead>\n",
       "  <tbody>\n",
       "    <tr>\n",
       "      <th>0</th>\n",
       "      <td>10001082</td>\n",
       "      <td>5</td>\n",
       "      <td>1</td>\n",
       "    </tr>\n",
       "    <tr>\n",
       "      <th>1</th>\n",
       "      <td>100029775</td>\n",
       "      <td>5</td>\n",
       "      <td>1</td>\n",
       "    </tr>\n",
       "    <tr>\n",
       "      <th>2</th>\n",
       "      <td>100068031</td>\n",
       "      <td>5</td>\n",
       "      <td>1</td>\n",
       "    </tr>\n",
       "    <tr>\n",
       "      <th>3</th>\n",
       "      <td>100076491</td>\n",
       "      <td>3</td>\n",
       "      <td>1</td>\n",
       "    </tr>\n",
       "    <tr>\n",
       "      <th>4</th>\n",
       "      <td>100087810</td>\n",
       "      <td>0</td>\n",
       "      <td>0</td>\n",
       "    </tr>\n",
       "    <tr>\n",
       "      <th>...</th>\n",
       "      <td>...</td>\n",
       "      <td>...</td>\n",
       "      <td>...</td>\n",
       "    </tr>\n",
       "    <tr>\n",
       "      <th>19995</th>\n",
       "      <td>65186019</td>\n",
       "      <td>5</td>\n",
       "      <td>2</td>\n",
       "    </tr>\n",
       "    <tr>\n",
       "      <th>19996</th>\n",
       "      <td>65200062</td>\n",
       "      <td>5</td>\n",
       "      <td>1</td>\n",
       "    </tr>\n",
       "    <tr>\n",
       "      <th>19997</th>\n",
       "      <td>65222739</td>\n",
       "      <td>4</td>\n",
       "      <td>2</td>\n",
       "    </tr>\n",
       "    <tr>\n",
       "      <th>19998</th>\n",
       "      <td>65328951</td>\n",
       "      <td>5</td>\n",
       "      <td>1</td>\n",
       "    </tr>\n",
       "    <tr>\n",
       "      <th>19999</th>\n",
       "      <td>65341491</td>\n",
       "      <td>5</td>\n",
       "      <td>1</td>\n",
       "    </tr>\n",
       "  </tbody>\n",
       "</table>\n",
       "<p>20000 rows × 3 columns</p>\n",
       "</div>"
      ],
      "text/plain": [
       "              用户  R值  F值\n",
       "0       10001082   5   1\n",
       "1      100029775   5   1\n",
       "2      100068031   5   1\n",
       "3      100076491   3   1\n",
       "4      100087810   0   0\n",
       "...          ...  ..  ..\n",
       "19995   65186019   5   2\n",
       "19996   65200062   5   1\n",
       "19997   65222739   4   2\n",
       "19998   65328951   5   1\n",
       "19999   65341491   5   1\n",
       "\n",
       "[20000 rows x 3 columns]"
      ]
     },
     "execution_count": 18,
     "metadata": {},
     "output_type": "execute_result"
    }
   ],
   "source": [
    "RFM"
   ]
  },
  {
   "cell_type": "markdown",
   "metadata": {},
   "source": [
    "# M消费金额"
   ]
  },
  {
   "cell_type": "code",
   "execution_count": 19,
   "metadata": {},
   "outputs": [
    {
     "data": {
      "text/html": [
       "<div>\n",
       "<style scoped>\n",
       "    .dataframe tbody tr th:only-of-type {\n",
       "        vertical-align: middle;\n",
       "    }\n",
       "\n",
       "    .dataframe tbody tr th {\n",
       "        vertical-align: top;\n",
       "    }\n",
       "\n",
       "    .dataframe thead th {\n",
       "        text-align: right;\n",
       "    }\n",
       "</style>\n",
       "<table border=\"1\" class=\"dataframe\">\n",
       "  <thead>\n",
       "    <tr style=\"text-align: right;\">\n",
       "      <th></th>\n",
       "      <th>用户</th>\n",
       "      <th>date</th>\n",
       "    </tr>\n",
       "  </thead>\n",
       "  <tbody>\n",
       "    <tr>\n",
       "      <th>9473876</th>\n",
       "      <td>492</td>\n",
       "      <td>2014-12-07</td>\n",
       "    </tr>\n",
       "    <tr>\n",
       "      <th>9473895</th>\n",
       "      <td>492</td>\n",
       "      <td>2014-12-07</td>\n",
       "    </tr>\n",
       "    <tr>\n",
       "      <th>9474023</th>\n",
       "      <td>492</td>\n",
       "      <td>2014-12-07</td>\n",
       "    </tr>\n",
       "    <tr>\n",
       "      <th>9473947</th>\n",
       "      <td>492</td>\n",
       "      <td>2014-12-14</td>\n",
       "    </tr>\n",
       "    <tr>\n",
       "      <th>13919204</th>\n",
       "      <td>3726</td>\n",
       "      <td>2014-12-02</td>\n",
       "    </tr>\n",
       "    <tr>\n",
       "      <th>...</th>\n",
       "      <td>...</td>\n",
       "      <td>...</td>\n",
       "    </tr>\n",
       "    <tr>\n",
       "      <th>7672879</th>\n",
       "      <td>142442955</td>\n",
       "      <td>2014-11-23</td>\n",
       "    </tr>\n",
       "    <tr>\n",
       "      <th>7672983</th>\n",
       "      <td>142442955</td>\n",
       "      <td>2014-11-24</td>\n",
       "    </tr>\n",
       "    <tr>\n",
       "      <th>7673025</th>\n",
       "      <td>142442955</td>\n",
       "      <td>2014-11-24</td>\n",
       "    </tr>\n",
       "    <tr>\n",
       "      <th>7673057</th>\n",
       "      <td>142442955</td>\n",
       "      <td>2014-12-06</td>\n",
       "    </tr>\n",
       "    <tr>\n",
       "      <th>7673077</th>\n",
       "      <td>142442955</td>\n",
       "      <td>2014-12-06</td>\n",
       "    </tr>\n",
       "  </tbody>\n",
       "</table>\n",
       "<p>214055 rows × 2 columns</p>\n",
       "</div>"
      ],
      "text/plain": [
       "                 用户        date\n",
       "9473876         492  2014-12-07\n",
       "9473895         492  2014-12-07\n",
       "9474023         492  2014-12-07\n",
       "9473947         492  2014-12-14\n",
       "13919204       3726  2014-12-02\n",
       "...             ...         ...\n",
       "7672879   142442955  2014-11-23\n",
       "7672983   142442955  2014-11-24\n",
       "7673025   142442955  2014-11-24\n",
       "7673057   142442955  2014-12-06\n",
       "7673077   142442955  2014-12-06\n",
       "\n",
       "[214055 rows x 2 columns]"
      ]
     },
     "execution_count": 19,
     "metadata": {},
     "output_type": "execute_result"
    }
   ],
   "source": [
    "d3"
   ]
  },
  {
   "cell_type": "code",
   "execution_count": 20,
   "metadata": {},
   "outputs": [],
   "source": [
    "se = d3.groupby(['用户'])['date'].count()"
   ]
  },
  {
   "cell_type": "code",
   "execution_count": 21,
   "metadata": {},
   "outputs": [],
   "source": [
    "d6 = se.to_frame()  #se1为Series，需要转换为dataframe\n",
    "d6.reset_index(level=0, inplace=True)  #索引date转为列\n",
    "d6.rename(columns={'date':'购买件数'}, inplace = True)"
   ]
  },
  {
   "cell_type": "code",
   "execution_count": 22,
   "metadata": {},
   "outputs": [
    {
     "data": {
      "text/plain": [
       "342"
      ]
     },
     "execution_count": 22,
     "metadata": {},
     "output_type": "execute_result"
    }
   ],
   "source": [
    "d6.购买件数.max()"
   ]
  },
  {
   "cell_type": "code",
   "execution_count": 23,
   "metadata": {},
   "outputs": [
    {
     "data": {
      "text/plain": [
       "1"
      ]
     },
     "execution_count": 23,
     "metadata": {},
     "output_type": "execute_result"
    }
   ],
   "source": [
    "d6.购买件数.min()"
   ]
  },
  {
   "cell_type": "code",
   "execution_count": 24,
   "metadata": {},
   "outputs": [],
   "source": [
    "d6['M值'] = 0\n",
    "for i in range(17654):  #17654为d6的记录数\n",
    "    if d6.iloc[i, 1] > 273:\n",
    "        d6.iloc[i, 2] = 5\n",
    "    elif (d6.iloc[i, 1] <= 273) and (d6.iloc[i, 1] > 204):\n",
    "        d6.iloc[i, 2] = 4\n",
    "    elif (d6.iloc[i, 1] <= 204) and (d6.iloc[i, 1] > 135):\n",
    "        d6.iloc[i, 2] = 3\n",
    "    elif (d6.iloc[i, 1] <= 135) and (d6.iloc[i, 1] > 66):\n",
    "        d6.iloc[i, 2] = 2\n",
    "    elif (d6.iloc[i, 1] <= 66) and (d6.iloc[i, 1] > 0):\n",
    "        d6.iloc[i, 2] = 1"
   ]
  },
  {
   "cell_type": "code",
   "execution_count": 25,
   "metadata": {},
   "outputs": [],
   "source": [
    "RFM = pd.merge(RFM,d6[['用户','M值']], how='outer',on='用户') #形成RFM数据集\n",
    "RFM['M值'].fillna(0,inplace = True)   #未购买的消费者R=0\n",
    "RFM['M值'] = RFM['M值'].astype(int)"
   ]
  },
  {
   "cell_type": "markdown",
   "metadata": {},
   "source": [
    "# 基于RFM分类"
   ]
  },
  {
   "cell_type": "code",
   "execution_count": 26,
   "metadata": {},
   "outputs": [],
   "source": [
    "RFM['类别'] = 8\n",
    "for i in range(20000):\n",
    "    if (RFM.iloc[i, 1] >=3) and (RFM.iloc[i, 2] >=3) and (RFM.iloc[i, 3] >=3):\n",
    "        RFM.iloc[i, 4] = 1\n",
    "    elif (RFM.iloc[i, 1] >=3) and (RFM.iloc[i, 2] >=3) and (RFM.iloc[i, 3] <3):\n",
    "        RFM.iloc[i, 4] = 2\n",
    "    elif (RFM.iloc[i, 1] >=3) and (RFM.iloc[i, 2] <3) and (RFM.iloc[i, 3] >=3):\n",
    "        RFM.iloc[i, 4] = 3\n",
    "    elif (RFM.iloc[i, 1] >=3) and (RFM.iloc[i, 2] <3) and (RFM.iloc[i, 3] <3):\n",
    "        RFM.iloc[i, 4] = 4\n",
    "    elif (RFM.iloc[i, 1] <3) and (RFM.iloc[i, 2] >=3) and (RFM.iloc[i, 3] >=3):\n",
    "        RFM.iloc[i, 4] = 5\n",
    "    elif (RFM.iloc[i, 1] <3) and (RFM.iloc[i, 2] >=3) and (RFM.iloc[i, 3] <3):\n",
    "        RFM.iloc[i, 4] = 6\n",
    "    elif (RFM.iloc[i, 1] <3) and (RFM.iloc[i, 2] <3) and (RFM.iloc[i, 3] >=3):\n",
    "        RFM.iloc[i, 4] = 7"
   ]
  },
  {
   "cell_type": "code",
   "execution_count": 27,
   "metadata": {},
   "outputs": [
    {
     "data": {
      "text/html": [
       "<div>\n",
       "<style scoped>\n",
       "    .dataframe tbody tr th:only-of-type {\n",
       "        vertical-align: middle;\n",
       "    }\n",
       "\n",
       "    .dataframe tbody tr th {\n",
       "        vertical-align: top;\n",
       "    }\n",
       "\n",
       "    .dataframe thead th {\n",
       "        text-align: right;\n",
       "    }\n",
       "</style>\n",
       "<table border=\"1\" class=\"dataframe\">\n",
       "  <thead>\n",
       "    <tr style=\"text-align: right;\">\n",
       "      <th></th>\n",
       "      <th>用户</th>\n",
       "      <th>R值</th>\n",
       "      <th>F值</th>\n",
       "      <th>M值</th>\n",
       "      <th>类别</th>\n",
       "    </tr>\n",
       "  </thead>\n",
       "  <tbody>\n",
       "    <tr>\n",
       "      <th>0</th>\n",
       "      <td>10001082</td>\n",
       "      <td>5</td>\n",
       "      <td>1</td>\n",
       "      <td>1</td>\n",
       "      <td>4</td>\n",
       "    </tr>\n",
       "    <tr>\n",
       "      <th>1</th>\n",
       "      <td>100029775</td>\n",
       "      <td>5</td>\n",
       "      <td>1</td>\n",
       "      <td>1</td>\n",
       "      <td>4</td>\n",
       "    </tr>\n",
       "    <tr>\n",
       "      <th>2</th>\n",
       "      <td>100068031</td>\n",
       "      <td>5</td>\n",
       "      <td>1</td>\n",
       "      <td>1</td>\n",
       "      <td>4</td>\n",
       "    </tr>\n",
       "    <tr>\n",
       "      <th>3</th>\n",
       "      <td>100076491</td>\n",
       "      <td>3</td>\n",
       "      <td>1</td>\n",
       "      <td>1</td>\n",
       "      <td>4</td>\n",
       "    </tr>\n",
       "    <tr>\n",
       "      <th>4</th>\n",
       "      <td>100087810</td>\n",
       "      <td>0</td>\n",
       "      <td>0</td>\n",
       "      <td>0</td>\n",
       "      <td>8</td>\n",
       "    </tr>\n",
       "    <tr>\n",
       "      <th>...</th>\n",
       "      <td>...</td>\n",
       "      <td>...</td>\n",
       "      <td>...</td>\n",
       "      <td>...</td>\n",
       "      <td>...</td>\n",
       "    </tr>\n",
       "    <tr>\n",
       "      <th>19995</th>\n",
       "      <td>65186019</td>\n",
       "      <td>5</td>\n",
       "      <td>2</td>\n",
       "      <td>1</td>\n",
       "      <td>4</td>\n",
       "    </tr>\n",
       "    <tr>\n",
       "      <th>19996</th>\n",
       "      <td>65200062</td>\n",
       "      <td>5</td>\n",
       "      <td>1</td>\n",
       "      <td>1</td>\n",
       "      <td>4</td>\n",
       "    </tr>\n",
       "    <tr>\n",
       "      <th>19997</th>\n",
       "      <td>65222739</td>\n",
       "      <td>4</td>\n",
       "      <td>2</td>\n",
       "      <td>1</td>\n",
       "      <td>4</td>\n",
       "    </tr>\n",
       "    <tr>\n",
       "      <th>19998</th>\n",
       "      <td>65328951</td>\n",
       "      <td>5</td>\n",
       "      <td>1</td>\n",
       "      <td>1</td>\n",
       "      <td>4</td>\n",
       "    </tr>\n",
       "    <tr>\n",
       "      <th>19999</th>\n",
       "      <td>65341491</td>\n",
       "      <td>5</td>\n",
       "      <td>1</td>\n",
       "      <td>1</td>\n",
       "      <td>4</td>\n",
       "    </tr>\n",
       "  </tbody>\n",
       "</table>\n",
       "<p>20000 rows × 5 columns</p>\n",
       "</div>"
      ],
      "text/plain": [
       "              用户  R值  F值  M值  类别\n",
       "0       10001082   5   1   1   4\n",
       "1      100029775   5   1   1   4\n",
       "2      100068031   5   1   1   4\n",
       "3      100076491   3   1   1   4\n",
       "4      100087810   0   0   0   8\n",
       "...          ...  ..  ..  ..  ..\n",
       "19995   65186019   5   2   1   4\n",
       "19996   65200062   5   1   1   4\n",
       "19997   65222739   4   2   1   4\n",
       "19998   65328951   5   1   1   4\n",
       "19999   65341491   5   1   1   4\n",
       "\n",
       "[20000 rows x 5 columns]"
      ]
     },
     "execution_count": 27,
     "metadata": {},
     "output_type": "execute_result"
    }
   ],
   "source": [
    "RFM"
   ]
  },
  {
   "cell_type": "code",
   "execution_count": 28,
   "metadata": {},
   "outputs": [
    {
     "data": {
      "text/html": [
       "<div>\n",
       "<style scoped>\n",
       "    .dataframe tbody tr th:only-of-type {\n",
       "        vertical-align: middle;\n",
       "    }\n",
       "\n",
       "    .dataframe tbody tr th {\n",
       "        vertical-align: top;\n",
       "    }\n",
       "\n",
       "    .dataframe thead th {\n",
       "        text-align: right;\n",
       "    }\n",
       "</style>\n",
       "<table border=\"1\" class=\"dataframe\">\n",
       "  <thead>\n",
       "    <tr style=\"text-align: right;\">\n",
       "      <th></th>\n",
       "      <th>用户</th>\n",
       "      <th>R值</th>\n",
       "      <th>F值</th>\n",
       "      <th>M值</th>\n",
       "      <th>类别</th>\n",
       "    </tr>\n",
       "  </thead>\n",
       "  <tbody>\n",
       "    <tr>\n",
       "      <th>735</th>\n",
       "      <td>110581771</td>\n",
       "      <td>5</td>\n",
       "      <td>5</td>\n",
       "      <td>3</td>\n",
       "      <td>1</td>\n",
       "    </tr>\n",
       "    <tr>\n",
       "      <th>4452</th>\n",
       "      <td>33538654</td>\n",
       "      <td>5</td>\n",
       "      <td>5</td>\n",
       "      <td>5</td>\n",
       "      <td>1</td>\n",
       "    </tr>\n",
       "    <tr>\n",
       "      <th>4831</th>\n",
       "      <td>38714774</td>\n",
       "      <td>5</td>\n",
       "      <td>3</td>\n",
       "      <td>3</td>\n",
       "      <td>1</td>\n",
       "    </tr>\n",
       "    <tr>\n",
       "      <th>5108</th>\n",
       "      <td>42873856</td>\n",
       "      <td>5</td>\n",
       "      <td>4</td>\n",
       "      <td>3</td>\n",
       "      <td>1</td>\n",
       "    </tr>\n",
       "    <tr>\n",
       "      <th>5172</th>\n",
       "      <td>4406018</td>\n",
       "      <td>5</td>\n",
       "      <td>4</td>\n",
       "      <td>3</td>\n",
       "      <td>1</td>\n",
       "    </tr>\n",
       "    <tr>\n",
       "      <th>5730</th>\n",
       "      <td>51940907</td>\n",
       "      <td>5</td>\n",
       "      <td>4</td>\n",
       "      <td>3</td>\n",
       "      <td>1</td>\n",
       "    </tr>\n",
       "    <tr>\n",
       "      <th>5795</th>\n",
       "      <td>52671560</td>\n",
       "      <td>5</td>\n",
       "      <td>4</td>\n",
       "      <td>3</td>\n",
       "      <td>1</td>\n",
       "    </tr>\n",
       "    <tr>\n",
       "      <th>12127</th>\n",
       "      <td>48191511</td>\n",
       "      <td>5</td>\n",
       "      <td>5</td>\n",
       "      <td>3</td>\n",
       "      <td>1</td>\n",
       "    </tr>\n",
       "    <tr>\n",
       "      <th>15041</th>\n",
       "      <td>124336007</td>\n",
       "      <td>5</td>\n",
       "      <td>5</td>\n",
       "      <td>3</td>\n",
       "      <td>1</td>\n",
       "    </tr>\n",
       "    <tr>\n",
       "      <th>15360</th>\n",
       "      <td>128878692</td>\n",
       "      <td>5</td>\n",
       "      <td>4</td>\n",
       "      <td>3</td>\n",
       "      <td>1</td>\n",
       "    </tr>\n",
       "    <tr>\n",
       "      <th>17537</th>\n",
       "      <td>30660351</td>\n",
       "      <td>5</td>\n",
       "      <td>3</td>\n",
       "      <td>3</td>\n",
       "      <td>1</td>\n",
       "    </tr>\n",
       "    <tr>\n",
       "      <th>18719</th>\n",
       "      <td>46993829</td>\n",
       "      <td>5</td>\n",
       "      <td>4</td>\n",
       "      <td>4</td>\n",
       "      <td>1</td>\n",
       "    </tr>\n",
       "    <tr>\n",
       "      <th>18907</th>\n",
       "      <td>49776801</td>\n",
       "      <td>5</td>\n",
       "      <td>4</td>\n",
       "      <td>5</td>\n",
       "      <td>1</td>\n",
       "    </tr>\n",
       "  </tbody>\n",
       "</table>\n",
       "</div>"
      ],
      "text/plain": [
       "              用户  R值  F值  M值  类别\n",
       "735    110581771   5   5   3   1\n",
       "4452    33538654   5   5   5   1\n",
       "4831    38714774   5   3   3   1\n",
       "5108    42873856   5   4   3   1\n",
       "5172     4406018   5   4   3   1\n",
       "5730    51940907   5   4   3   1\n",
       "5795    52671560   5   4   3   1\n",
       "12127   48191511   5   5   3   1\n",
       "15041  124336007   5   5   3   1\n",
       "15360  128878692   5   4   3   1\n",
       "17537   30660351   5   3   3   1\n",
       "18719   46993829   5   4   4   1\n",
       "18907   49776801   5   4   5   1"
      ]
     },
     "execution_count": 28,
     "metadata": {},
     "output_type": "execute_result"
    }
   ],
   "source": [
    "RFM[RFM['类别']==1]"
   ]
  },
  {
   "cell_type": "code",
   "execution_count": null,
   "metadata": {},
   "outputs": [],
   "source": []
  }
 ],
 "metadata": {
  "kernelspec": {
   "display_name": "Python 3 (ipykernel)",
   "language": "python",
   "name": "python3"
  },
  "language_info": {
   "codemirror_mode": {
    "name": "ipython",
    "version": 3
   },
   "file_extension": ".py",
   "mimetype": "text/x-python",
   "name": "python",
   "nbconvert_exporter": "python",
   "pygments_lexer": "ipython3",
   "version": "3.9.13"
  }
 },
 "nbformat": 4,
 "nbformat_minor": 2
}
