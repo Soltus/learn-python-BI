{
 "cells": [
  {
   "cell_type": "markdown",
   "id": "f5153233-4cbb-43d2-98d5-71beaa57b0dd",
   "metadata": {},
   "source": [
    "<!--\n",
    "模板使用方法：将此代码块转为Markdown块然后点击左侧三角渲染（依赖 jupyter-wysiwyg ）\n",
    "模板参数说明：将超链接的路径替换即可\n",
    "@hyperlink_1: href=\"https://github.com/{组织或用户}/{仓库}/blob/{分支}/{目录和文件名组成的路径}\"\n",
    "@hyperlink_2: href=\"https://nbviewer.org/github/{组织或用户}/{仓库}/blob/{分支}/{目录和文件名组成的路径}\"\n",
    "注意事项：在 <p>...</p> 中添加注释或者空行等行为会破坏渲染效果\n",
    "-->\n",
    "\n",
    "<!-- start of template header -->\n",
    "<p>\n",
    "<div style=\"display:flex\">\n",
    "<a alt=\"hyperlink_1\" title=\"在Github查看当前文件\" href=\"https://github.com/Soltus/learn-python-BI/blob/main/lesson2/%E4%BD%9C%E4%B8%9A/2/index.ipynb\" target=\"_blank\"><img src=\"https://img.shields.io/badge/File-black?logo=github\" style=\"height: 38px\"/></a>\n",
    "<span style=\"width:5.8px\"></span>\n",
    "<a alt=\"hyperlink_2\" title=\"在nbviewer查看当前文件\" href=\"https://nbviewer.org/github/Soltus/learn-python-BI/blob/main/lesson2/%E4%BD%9C%E4%B8%9A/2/index.ipynb\" target=\"_blank\"><img src=\"https://img.shields.io/badge/nbviewer-white?logo=jupyter\" style=\"height: 38px\"/></a>\n",
    "</div>\n",
    "</p>\n",
    "\n",
    "<!-- 避免二次渲染当前块 -->\n",
    "<!-- 请勿在此处添加内容 -->\n",
    "<!-- end of template header -->"
   ]
  },
  {
   "cell_type": "markdown",
   "id": "e96e14d1-9dbc-4562-9092-2e853c3090c1",
   "metadata": {},
   "source": [
    "<h1><span style=\"color: #b96ad9;\">题一</span></h1>\n",
    "<blockquote>\n",
    "<p>运用线性回归预测房价，数据集：housing.csv</p>\n",
    "</blockquote>"
   ]
  },
  {
   "cell_type": "code",
   "execution_count": null,
   "id": "fc71deda-4e27-4222-b6f4-9776e9b1dfaa",
   "metadata": {
    "tags": []
   },
   "outputs": [],
   "source": [
    "%pip install scikit-learn"
   ]
  },
  {
   "cell_type": "markdown",
   "id": "a3ab5bc8-03df-4965-8d05-1f8043bda0e3",
   "metadata": {},
   "source": [
    "<p>&nbsp;</p>\n",
    "<h2>（1）导入必要的库和数据集</h2>\n",
    "<p><span style=\"font-size: 14pt;\">首先需要导入 numpy、pandas、matplotlib 和 sklearn 等库，然后将数据集 <code>housing.csv</code> 加载到 pandasDataFrame 中。</span></p>"
   ]
  },
  {
   "cell_type": "code",
   "execution_count": 205,
   "id": "3d3da84c-abf0-4ed9-92c8-9be652f3eaf4",
   "metadata": {
    "execution": {
     "iopub.execute_input": "2023-05-03T08:09:28.207311Z",
     "iopub.status.busy": "2023-05-03T08:09:28.206308Z",
     "iopub.status.idle": "2023-05-03T08:09:28.243309Z",
     "shell.execute_reply": "2023-05-03T08:09:28.243309Z",
     "shell.execute_reply.started": "2023-05-03T08:09:28.207311Z"
    },
    "tags": []
   },
   "outputs": [
    {
     "name": "stdout",
     "output_type": "stream",
     "text": [
      "(20640, 9)\n"
     ]
    },
    {
     "data": {
      "text/html": [
       "<div>\n",
       "<style scoped>\n",
       "    .dataframe tbody tr th:only-of-type {\n",
       "        vertical-align: middle;\n",
       "    }\n",
       "\n",
       "    .dataframe tbody tr th {\n",
       "        vertical-align: top;\n",
       "    }\n",
       "\n",
       "    .dataframe thead th {\n",
       "        text-align: right;\n",
       "    }\n",
       "</style>\n",
       "<table border=\"1\" class=\"dataframe\">\n",
       "  <thead>\n",
       "    <tr style=\"text-align: right;\">\n",
       "      <th></th>\n",
       "      <th>经度</th>\n",
       "      <th>纬度</th>\n",
       "      <th>房龄</th>\n",
       "      <th>总房间</th>\n",
       "      <th>总卧室</th>\n",
       "      <th>人口</th>\n",
       "      <th>家庭</th>\n",
       "      <th>中位数收入</th>\n",
       "      <th>房价</th>\n",
       "    </tr>\n",
       "  </thead>\n",
       "  <tbody>\n",
       "    <tr>\n",
       "      <th>0</th>\n",
       "      <td>-122.23</td>\n",
       "      <td>37.88</td>\n",
       "      <td>41.0</td>\n",
       "      <td>880.0</td>\n",
       "      <td>129.0</td>\n",
       "      <td>322.0</td>\n",
       "      <td>126.0</td>\n",
       "      <td>8.3252</td>\n",
       "      <td>452600.0</td>\n",
       "    </tr>\n",
       "    <tr>\n",
       "      <th>1</th>\n",
       "      <td>-122.22</td>\n",
       "      <td>37.86</td>\n",
       "      <td>21.0</td>\n",
       "      <td>7099.0</td>\n",
       "      <td>1106.0</td>\n",
       "      <td>2401.0</td>\n",
       "      <td>1138.0</td>\n",
       "      <td>8.3014</td>\n",
       "      <td>358500.0</td>\n",
       "    </tr>\n",
       "    <tr>\n",
       "      <th>2</th>\n",
       "      <td>-122.24</td>\n",
       "      <td>37.85</td>\n",
       "      <td>52.0</td>\n",
       "      <td>1467.0</td>\n",
       "      <td>190.0</td>\n",
       "      <td>496.0</td>\n",
       "      <td>177.0</td>\n",
       "      <td>7.2574</td>\n",
       "      <td>352100.0</td>\n",
       "    </tr>\n",
       "    <tr>\n",
       "      <th>3</th>\n",
       "      <td>-122.25</td>\n",
       "      <td>37.85</td>\n",
       "      <td>52.0</td>\n",
       "      <td>1274.0</td>\n",
       "      <td>235.0</td>\n",
       "      <td>558.0</td>\n",
       "      <td>219.0</td>\n",
       "      <td>5.6431</td>\n",
       "      <td>341300.0</td>\n",
       "    </tr>\n",
       "    <tr>\n",
       "      <th>4</th>\n",
       "      <td>-122.25</td>\n",
       "      <td>37.85</td>\n",
       "      <td>52.0</td>\n",
       "      <td>1627.0</td>\n",
       "      <td>280.0</td>\n",
       "      <td>565.0</td>\n",
       "      <td>259.0</td>\n",
       "      <td>3.8462</td>\n",
       "      <td>342200.0</td>\n",
       "    </tr>\n",
       "  </tbody>\n",
       "</table>\n",
       "</div>"
      ],
      "text/plain": [
       "       经度     纬度    房龄     总房间     总卧室      人口      家庭   中位数收入        房价\n",
       "0 -122.23  37.88  41.0   880.0   129.0   322.0   126.0  8.3252  452600.0\n",
       "1 -122.22  37.86  21.0  7099.0  1106.0  2401.0  1138.0  8.3014  358500.0\n",
       "2 -122.24  37.85  52.0  1467.0   190.0   496.0   177.0  7.2574  352100.0\n",
       "3 -122.25  37.85  52.0  1274.0   235.0   558.0   219.0  5.6431  341300.0\n",
       "4 -122.25  37.85  52.0  1627.0   280.0   565.0   259.0  3.8462  342200.0"
      ]
     },
     "execution_count": 205,
     "metadata": {},
     "output_type": "execute_result"
    }
   ],
   "source": [
    "import matplotlib.pyplot as plt\n",
    "import numpy as np\n",
    "import pandas as pd\n",
    "from sklearn import linear_model\n",
    "\n",
    "data = pd.read_csv('../data/2/housing.csv')\n",
    "print(data.shape)\n",
    "data.head()"
   ]
  },
  {
   "cell_type": "code",
   "execution_count": 193,
   "id": "21cca4c0-e437-47fe-8b06-de05d07149ac",
   "metadata": {
    "execution": {
     "iopub.execute_input": "2023-05-03T08:04:48.071916Z",
     "iopub.status.busy": "2023-05-03T08:04:48.071916Z",
     "iopub.status.idle": "2023-05-03T08:04:48.093917Z",
     "shell.execute_reply": "2023-05-03T08:04:48.093917Z",
     "shell.execute_reply.started": "2023-05-03T08:04:48.071916Z"
    },
    "tags": []
   },
   "outputs": [
    {
     "data": {
      "text/html": [
       "<div>\n",
       "<style scoped>\n",
       "    .dataframe tbody tr th:only-of-type {\n",
       "        vertical-align: middle;\n",
       "    }\n",
       "\n",
       "    .dataframe tbody tr th {\n",
       "        vertical-align: top;\n",
       "    }\n",
       "\n",
       "    .dataframe thead th {\n",
       "        text-align: right;\n",
       "    }\n",
       "</style>\n",
       "<table border=\"1\" class=\"dataframe\">\n",
       "  <thead>\n",
       "    <tr style=\"text-align: right;\">\n",
       "      <th></th>\n",
       "      <th>经度</th>\n",
       "      <th>纬度</th>\n",
       "      <th>房龄</th>\n",
       "      <th>总房间</th>\n",
       "      <th>总卧室</th>\n",
       "      <th>人口</th>\n",
       "      <th>家庭</th>\n",
       "      <th>中位数收入</th>\n",
       "    </tr>\n",
       "  </thead>\n",
       "  <tbody>\n",
       "    <tr>\n",
       "      <th>count</th>\n",
       "      <td>20640.000000</td>\n",
       "      <td>20640.000000</td>\n",
       "      <td>20640.000000</td>\n",
       "      <td>20640.000000</td>\n",
       "      <td>20640.000000</td>\n",
       "      <td>20640.000000</td>\n",
       "      <td>20640.000000</td>\n",
       "      <td>20640.000000</td>\n",
       "    </tr>\n",
       "    <tr>\n",
       "      <th>mean</th>\n",
       "      <td>-119.569704</td>\n",
       "      <td>35.631861</td>\n",
       "      <td>28.639486</td>\n",
       "      <td>2635.763081</td>\n",
       "      <td>537.898014</td>\n",
       "      <td>1425.476744</td>\n",
       "      <td>499.539680</td>\n",
       "      <td>3.870671</td>\n",
       "    </tr>\n",
       "    <tr>\n",
       "      <th>std</th>\n",
       "      <td>2.003532</td>\n",
       "      <td>2.135952</td>\n",
       "      <td>12.585558</td>\n",
       "      <td>2181.615252</td>\n",
       "      <td>421.247906</td>\n",
       "      <td>1132.462122</td>\n",
       "      <td>382.329753</td>\n",
       "      <td>1.899822</td>\n",
       "    </tr>\n",
       "    <tr>\n",
       "      <th>min</th>\n",
       "      <td>-124.350000</td>\n",
       "      <td>32.540000</td>\n",
       "      <td>1.000000</td>\n",
       "      <td>2.000000</td>\n",
       "      <td>1.000000</td>\n",
       "      <td>3.000000</td>\n",
       "      <td>1.000000</td>\n",
       "      <td>0.499900</td>\n",
       "    </tr>\n",
       "    <tr>\n",
       "      <th>25%</th>\n",
       "      <td>-121.800000</td>\n",
       "      <td>33.930000</td>\n",
       "      <td>18.000000</td>\n",
       "      <td>1447.750000</td>\n",
       "      <td>295.000000</td>\n",
       "      <td>787.000000</td>\n",
       "      <td>280.000000</td>\n",
       "      <td>2.563400</td>\n",
       "    </tr>\n",
       "    <tr>\n",
       "      <th>50%</th>\n",
       "      <td>-118.490000</td>\n",
       "      <td>34.260000</td>\n",
       "      <td>29.000000</td>\n",
       "      <td>2127.000000</td>\n",
       "      <td>435.000000</td>\n",
       "      <td>1166.000000</td>\n",
       "      <td>409.000000</td>\n",
       "      <td>3.534800</td>\n",
       "    </tr>\n",
       "    <tr>\n",
       "      <th>75%</th>\n",
       "      <td>-118.010000</td>\n",
       "      <td>37.710000</td>\n",
       "      <td>37.000000</td>\n",
       "      <td>3148.000000</td>\n",
       "      <td>647.000000</td>\n",
       "      <td>1725.000000</td>\n",
       "      <td>605.000000</td>\n",
       "      <td>4.743250</td>\n",
       "    </tr>\n",
       "    <tr>\n",
       "      <th>max</th>\n",
       "      <td>-114.310000</td>\n",
       "      <td>41.950000</td>\n",
       "      <td>52.000000</td>\n",
       "      <td>39320.000000</td>\n",
       "      <td>6445.000000</td>\n",
       "      <td>35682.000000</td>\n",
       "      <td>6082.000000</td>\n",
       "      <td>15.000100</td>\n",
       "    </tr>\n",
       "  </tbody>\n",
       "</table>\n",
       "</div>"
      ],
      "text/plain": [
       "                 经度            纬度            房龄           总房间           总卧室   \n",
       "count  20640.000000  20640.000000  20640.000000  20640.000000  20640.000000  \\\n",
       "mean    -119.569704     35.631861     28.639486   2635.763081    537.898014   \n",
       "std        2.003532      2.135952     12.585558   2181.615252    421.247906   \n",
       "min     -124.350000     32.540000      1.000000      2.000000      1.000000   \n",
       "25%     -121.800000     33.930000     18.000000   1447.750000    295.000000   \n",
       "50%     -118.490000     34.260000     29.000000   2127.000000    435.000000   \n",
       "75%     -118.010000     37.710000     37.000000   3148.000000    647.000000   \n",
       "max     -114.310000     41.950000     52.000000  39320.000000   6445.000000   \n",
       "\n",
       "                 人口            家庭         中位数收入  \n",
       "count  20640.000000  20640.000000  20640.000000  \n",
       "mean    1425.476744    499.539680      3.870671  \n",
       "std     1132.462122    382.329753      1.899822  \n",
       "min        3.000000      1.000000      0.499900  \n",
       "25%      787.000000    280.000000      2.563400  \n",
       "50%     1166.000000    409.000000      3.534800  \n",
       "75%     1725.000000    605.000000      4.743250  \n",
       "max    35682.000000   6082.000000     15.000100  "
      ]
     },
     "execution_count": 193,
     "metadata": {},
     "output_type": "execute_result"
    }
   ],
   "source": [
    "X = data.drop('房价', axis=1)\n",
    "X.describe()"
   ]
  },
  {
   "cell_type": "code",
   "execution_count": 194,
   "id": "0a192dae-0b3d-48a2-9f9a-1c425bd90a28",
   "metadata": {
    "execution": {
     "iopub.execute_input": "2023-05-03T08:04:48.095921Z",
     "iopub.status.busy": "2023-05-03T08:04:48.094922Z",
     "iopub.status.idle": "2023-05-03T08:04:48.105921Z",
     "shell.execute_reply": "2023-05-03T08:04:48.105921Z",
     "shell.execute_reply.started": "2023-05-03T08:04:48.095921Z"
    },
    "tags": []
   },
   "outputs": [
    {
     "data": {
      "text/html": [
       "<div>\n",
       "<style scoped>\n",
       "    .dataframe tbody tr th:only-of-type {\n",
       "        vertical-align: middle;\n",
       "    }\n",
       "\n",
       "    .dataframe tbody tr th {\n",
       "        vertical-align: top;\n",
       "    }\n",
       "\n",
       "    .dataframe thead th {\n",
       "        text-align: right;\n",
       "    }\n",
       "</style>\n",
       "<table border=\"1\" class=\"dataframe\">\n",
       "  <thead>\n",
       "    <tr style=\"text-align: right;\">\n",
       "      <th></th>\n",
       "      <th>房价</th>\n",
       "    </tr>\n",
       "  </thead>\n",
       "  <tbody>\n",
       "    <tr>\n",
       "      <th>count</th>\n",
       "      <td>20640.000000</td>\n",
       "    </tr>\n",
       "    <tr>\n",
       "      <th>mean</th>\n",
       "      <td>206855.816909</td>\n",
       "    </tr>\n",
       "    <tr>\n",
       "      <th>std</th>\n",
       "      <td>115395.615874</td>\n",
       "    </tr>\n",
       "    <tr>\n",
       "      <th>min</th>\n",
       "      <td>14999.000000</td>\n",
       "    </tr>\n",
       "    <tr>\n",
       "      <th>25%</th>\n",
       "      <td>119600.000000</td>\n",
       "    </tr>\n",
       "    <tr>\n",
       "      <th>50%</th>\n",
       "      <td>179700.000000</td>\n",
       "    </tr>\n",
       "    <tr>\n",
       "      <th>75%</th>\n",
       "      <td>264725.000000</td>\n",
       "    </tr>\n",
       "    <tr>\n",
       "      <th>max</th>\n",
       "      <td>500001.000000</td>\n",
       "    </tr>\n",
       "  </tbody>\n",
       "</table>\n",
       "</div>"
      ],
      "text/plain": [
       "                  房价\n",
       "count   20640.000000\n",
       "mean   206855.816909\n",
       "std    115395.615874\n",
       "min     14999.000000\n",
       "25%    119600.000000\n",
       "50%    179700.000000\n",
       "75%    264725.000000\n",
       "max    500001.000000"
      ]
     },
     "execution_count": 194,
     "metadata": {},
     "output_type": "execute_result"
    }
   ],
   "source": [
    "y = data[['房价']]\n",
    "y.describe()"
   ]
  },
  {
   "cell_type": "markdown",
   "id": "62901a10-f972-40b9-aef9-c11745057ae2",
   "metadata": {},
   "source": [
    "<p>&nbsp;</p>\n",
    "<h2>（2）数据预处理</h2>\n",
    "<p><span style=\"font-size: 14pt;\">在这一步中，需要将数据集拆分为训练集和测试集，并对数据进行预处理操作。</span></p>"
   ]
  },
  {
   "cell_type": "code",
   "execution_count": 195,
   "id": "35dfd2d6-5c4b-41a0-8d89-946b46d96a29",
   "metadata": {
    "execution": {
     "iopub.execute_input": "2023-05-03T08:04:48.107473Z",
     "iopub.status.busy": "2023-05-03T08:04:48.107473Z",
     "iopub.status.idle": "2023-05-03T08:04:48.118014Z",
     "shell.execute_reply": "2023-05-03T08:04:48.118014Z",
     "shell.execute_reply.started": "2023-05-03T08:04:48.107473Z"
    },
    "tags": []
   },
   "outputs": [
    {
     "name": "stdout",
     "output_type": "stream",
     "text": [
      "(14448, 8) (14448, 1)\n",
      "\n",
      "(6192, 8) (6192, 1)\n",
      "\n"
     ]
    }
   ],
   "source": [
    "from sklearn.model_selection import train_test_split\n",
    "from sklearn.preprocessing import MinMaxScaler\n",
    "\n",
    "# 拆分数据集为训练集和测试集\n",
    "X_train, X_test, y_train, y_test = train_test_split(X, y, test_size=0.3, random_state=3) # 参数test_size表示测试集所占比例，而参数random_state的作用是为了保证每次划分都是相同的。如果不指定random_state的值，每次划分的结果都会不同，这会导致模型的评估结果不稳定。\n",
    "print(X_train.shape, y_train.shape)\n",
    "print()\n",
    "print(X_test.shape, y_test.shape)\n",
    "print()\n",
    "\n",
    "\n",
    "# 数据标准化\n",
    "scaler = MinMaxScaler() # 由于房价数据的范围较大，使用 MinMaxScaler更加合适，能够将房价数据缩放到[0,1]之间，避免了房价数据对其他特征的影响\n",
    "X_train = scaler.fit_transform(X_train)\n",
    "X_test = scaler.transform(X_test)\n"
   ]
  },
  {
   "cell_type": "markdown",
   "id": "ee62e4ca-ad99-4ee0-82b9-1f5c48e70f4d",
   "metadata": {},
   "source": [
    "<p>&nbsp;</p>\n",
    "<h2>（3）模型训练</h2>\n",
    "<p><span style=\"font-size: 14pt;\">导入线性回归的模型，并对训练集进行模型训练。</span></p>"
   ]
  },
  {
   "cell_type": "code",
   "execution_count": 196,
   "id": "2ce2db43-9b15-4615-8d9c-8be07ec90b4e",
   "metadata": {
    "execution": {
     "iopub.execute_input": "2023-05-03T08:04:48.120008Z",
     "iopub.status.busy": "2023-05-03T08:04:48.120008Z",
     "iopub.status.idle": "2023-05-03T08:04:48.128008Z",
     "shell.execute_reply": "2023-05-03T08:04:48.128008Z",
     "shell.execute_reply.started": "2023-05-03T08:04:48.120008Z"
    },
    "tags": []
   },
   "outputs": [
    {
     "name": "stdout",
     "output_type": "stream",
     "text": [
      "[365498.64871155]\n",
      "[[ -432465.24212518  -402300.35383755    62176.44068291  -341283.52332289\n",
      "    789664.22162959 -1303320.46622033   219073.83651368   589482.7537205 ]]\n"
     ]
    }
   ],
   "source": [
    "from sklearn.linear_model import LinearRegression\n",
    "\n",
    "# 使用LinearRegression类创建一个线性回归模型的对象linreg，然后使用fit函数对训练集进行拟合，从而训练出线性回归模型\n",
    "linreg = LinearRegression()\n",
    "linreg.fit(X_train, y_train)\n",
    "print(linreg.intercept_)   #截距\n",
    "print(linreg.coef_)        #回归系数"
   ]
  },
  {
   "cell_type": "code",
   "execution_count": 197,
   "id": "9f3945a3-fc76-424a-ada7-81ef10b14275",
   "metadata": {
    "execution": {
     "iopub.execute_input": "2023-05-03T08:04:48.129008Z",
     "iopub.status.busy": "2023-05-03T08:04:48.129008Z",
     "iopub.status.idle": "2023-05-03T08:04:48.135007Z",
     "shell.execute_reply": "2023-05-03T08:04:48.135007Z",
     "shell.execute_reply.started": "2023-05-03T08:04:48.129008Z"
    },
    "tags": []
   },
   "outputs": [
    {
     "data": {
      "text/plain": [
       "array([[0.21215139, 0.55744681, 0.7254902 , ..., 0.06065192, 0.10805921,\n",
       "        0.15841161],\n",
       "       [0.24302789, 0.6893617 , 0.92156863, ..., 0.01833011, 0.03240132,\n",
       "        0.15752886],\n",
       "       [0.60756972, 0.15425532, 0.78431373, ..., 0.04815157, 0.07763158,\n",
       "        0.05538544],\n",
       "       ...,\n",
       "       [0.62549801, 0.12446809, 0.45098039, ..., 0.01429412, 0.04144737,\n",
       "        0.30375443],\n",
       "       [0.20717131, 0.57765957, 0.43137255, ..., 0.03845399, 0.07763158,\n",
       "        0.38130509],\n",
       "       [0.66035857, 0.16382979, 0.62745098, ..., 0.07208722, 0.14342105,\n",
       "        0.22730031]])"
      ]
     },
     "execution_count": 197,
     "metadata": {},
     "output_type": "execute_result"
    }
   ],
   "source": [
    "X_train"
   ]
  },
  {
   "cell_type": "markdown",
   "id": "024bbf2c-91f6-4adf-9206-07177fba5483",
   "metadata": {},
   "source": [
    "<p>&nbsp;</p>\n",
    "<h2>（4）模型测试和评估</h2>\n",
    "<p><span style=\"font-size: 14pt;\">使用测试集对模型进行测试，并计算模型的评估指标，如均方误差（MSE）、均方根误差（RMSE）和R2得分等。可以</span><span style=\"font-size: 18.6667px;\">使用交叉验证来减少过拟合的风险。</span></p>"
   ]
  },
  {
   "cell_type": "code",
   "execution_count": 198,
   "id": "f8558ce8-4489-4f46-abc6-6c74a5720cf0",
   "metadata": {
    "execution": {
     "iopub.execute_input": "2023-05-03T08:04:48.136009Z",
     "iopub.status.busy": "2023-05-03T08:04:48.136009Z",
     "iopub.status.idle": "2023-05-03T08:04:48.144008Z",
     "shell.execute_reply": "2023-05-03T08:04:48.144008Z",
     "shell.execute_reply.started": "2023-05-03T08:04:48.136009Z"
    },
    "tags": []
   },
   "outputs": [
    {
     "name": "stdout",
     "output_type": "stream",
     "text": [
      "均方误差（MSE）： 4664231236.289809\n",
      "均方根误差（RMSE）： 68295.17725498491\n",
      "R2得分： 0.641656909528852\n"
     ]
    }
   ],
   "source": [
    "from sklearn.metrics import mean_squared_error, r2_score\n",
    "\n",
    "# 使用测试集对线性回归模型进行评估\n",
    "y_pred = linreg.predict(X_test)\n",
    "mse = mean_squared_error(y_test, y_pred)\n",
    "rmse = np.sqrt(mse)\n",
    "r2 = r2_score(y_test, y_pred)\n",
    "\n",
    "# 打印评估指标\n",
    "print(\"均方误差（MSE）：\", mse)\n",
    "print(\"均方根误差（RMSE）：\", rmse)\n",
    "print(\"R2得分：\", r2)\n",
    "# 均方误差（MSE）和均方根误差（RMSE）越小，模型的预测精度越高；R2得分越接近1，模型的拟合效果越好。"
   ]
  },
  {
   "cell_type": "code",
   "execution_count": 199,
   "id": "d8c203ec-f10f-45d9-b534-da46d701da2a",
   "metadata": {
    "execution": {
     "iopub.execute_input": "2023-05-03T08:04:48.145008Z",
     "iopub.status.busy": "2023-05-03T08:04:48.145008Z",
     "iopub.status.idle": "2023-05-03T08:04:48.151008Z",
     "shell.execute_reply": "2023-05-03T08:04:48.151008Z",
     "shell.execute_reply.started": "2023-05-03T08:04:48.145008Z"
    },
    "tags": []
   },
   "outputs": [
    {
     "name": "stdout",
     "output_type": "stream",
     "text": [
      "MSE: 4664231236.289809\n",
      "RMSE: 68295.17725498491\n"
     ]
    }
   ],
   "source": [
    "#模型拟合测试集\n",
    "y_pred = linreg.predict(X_test)\n",
    "from sklearn import metrics\n",
    "#scikit-learn计算 MSE RMSE\n",
    "print(\"MSE:\",metrics.mean_squared_error(y_test, y_pred))\n",
    "print(\"RMSE:\",np.sqrt(metrics.mean_squared_error(y_test, y_pred)))"
   ]
  },
  {
   "cell_type": "code",
   "execution_count": 200,
   "id": "a8f58327-0e5a-4f15-8e02-97b9ff878de5",
   "metadata": {
    "execution": {
     "iopub.execute_input": "2023-05-03T08:04:48.152008Z",
     "iopub.status.busy": "2023-05-03T08:04:48.152008Z",
     "iopub.status.idle": "2023-05-03T08:04:48.224524Z",
     "shell.execute_reply": "2023-05-03T08:04:48.224524Z",
     "shell.execute_reply.started": "2023-05-03T08:04:48.152008Z"
    },
    "tags": []
   },
   "outputs": [
    {
     "name": "stdout",
     "output_type": "stream",
     "text": [
      "MSE: 5083168215.393819\n",
      "RMSE: 71296.34082751947\n"
     ]
    }
   ],
   "source": [
    "from sklearn.model_selection import cross_val_predict\n",
    "\n",
    "# k-折交叉验证\n",
    "predicted = cross_val_predict(linreg, X, y, cv=10)\n",
    "\n",
    "print(\"MSE:\",metrics.mean_squared_error(y, predicted))\n",
    "print(\"RMSE:\",np.sqrt(metrics.mean_squared_error(y, predicted)))"
   ]
  },
  {
   "cell_type": "code",
   "execution_count": 201,
   "id": "952a9856-25b6-4495-b7ef-7a0b0776ef9d",
   "metadata": {
    "execution": {
     "iopub.execute_input": "2023-05-03T08:04:48.226523Z",
     "iopub.status.busy": "2023-05-03T08:04:48.225523Z",
     "iopub.status.idle": "2023-05-03T08:04:48.367038Z",
     "shell.execute_reply": "2023-05-03T08:04:48.367038Z",
     "shell.execute_reply.started": "2023-05-03T08:04:48.226523Z"
    },
    "tags": []
   },
   "outputs": [
    {
     "data": {
      "image/png": "[encoded data removed]",
      "text/plain": [
       "<Figure size 640x480 with 1 Axes>"
      ]
     },
     "metadata": {},
     "output_type": "display_data"
    }
   ],
   "source": [
    "fig, ax = plt.subplots()\n",
    "ax.scatter(y, predicted)\n",
    "ax.plot([y.min(), y.max()], [y.min(), y.max()], 'k--', lw=4)\n",
    "ax.set_xlabel('Measured')\n",
    "ax.set_ylabel('Predicted')\n",
    "plt.show()\n",
    "# 真实值和预测值的变化关系，离直线 y=x 越近的点代表预测损失越低"
   ]
  },
  {
   "cell_type": "markdown",
   "id": "ea7c2992-ae99-42de-aa2e-af671eb1eee4",
   "metadata": {},
   "source": [
    "<p>&nbsp;</p>\n",
    "<p>&nbsp;</p>\n",
    "<p>&nbsp;</p>"
   ]
  }
 ],
 "metadata": {
  "kernelspec": {
   "display_name": "Python 3 (ipykernel)",
   "language": "python",
   "name": "python3"
  },
  "language_info": {
   "codemirror_mode": {
    "name": "ipython",
    "version": 3
   },
   "file_extension": ".py",
   "mimetype": "text/x-python",
   "name": "python",
   "nbconvert_exporter": "python",
   "pygments_lexer": "ipython3",
   "version": "3.10.9"
  },
  "widgets": {
   "application/vnd.jupyter.widget-state+json": {
    "state": {},
    "version_major": 2,
    "version_minor": 0
   }
  }
 },
 "nbformat": 4,
 "nbformat_minor": 5
}
