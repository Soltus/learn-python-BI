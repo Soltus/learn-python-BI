{
 "cells": [
  {
   "cell_type": "markdown",
   "id": "8fc9cb32-9894-431e-af5e-1634ef6faf10",
   "metadata": {},
   "source": [
    "<!--\n",
    "模板使用方法：将此代码块转为Markdown块然后点击左侧三角渲染（依赖 jupyter-wysiwyg ）\n",
    "模板参数说明：将超链接的路径替换即可\n",
    "@hyperlink_1: href=\"https://github.com/{组织或用户}/{仓库}/blob/{分支}/{目录和文件名组成的路径}\"\n",
    "@hyperlink_2: href=\"https://nbviewer.org/github/{组织或用户}/{仓库}/blob/{分支}/{目录和文件名组成的路径}\"\n",
    "注意事项：在 <p>...</p> 中添加注释或者空行等行为会破坏渲染效果\n",
    "-->\n",
    "\n",
    "<!-- start of template header -->\n",
    "<p>\n",
    "<div style=\"display:flex\">\n",
    "<a alt=\"hyperlink_1\" title=\"在Github查看当前文件\" href=\"https://github.com/Soltus/learn-python-BI/tree/main/lesson2/%E4%BD%9C%E4%B8%9A/1/index.ipynb\" target=\"_blank\"><img src=\"https://img.shields.io/badge/File-black?logo=github\" style=\"height: 38px\"/></a>\n",
    "<span style=\"width:5.8px\"></span>\n",
    "<a alt=\"hyperlink_2\" title=\"在nbviewer查看当前文件\" href=\"https://nbviewer.org/github/Soltus/learn-python-BI/blob/main/lesson2/%E4%BD%9C%E4%B8%9A/1/index.ipynb\" target=\"_blank\"><img src=\"https://img.shields.io/badge/nbviewer-white?logo=jupyter\" style=\"height: 38px\"/></a>\n",
    "</div>\n",
    "</p>\n",
    "\n",
    "<!-- 避免二次渲染当前块 -->\n",
    "<!-- 请勿在此处添加内容 -->\n",
    "<!-- end of template header -->"
   ]
  },
  {
   "cell_type": "markdown",
   "id": "c4e001f8-8b88-4f4e-a40d-4c778e33a590",
   "metadata": {},
   "source": [
    "<h1><span style=\"color: #b96ad9;\">题一 </span></h1>\n",
    "<blockquote>\n",
    "<p>案例一的&ldquo;结论与建议&rdquo;部分非常粗浅，请重新撰写出较详细、具体的&ldquo;结论与建议&rdquo;，500字左右。</p>\n",
    "</blockquote>"
   ]
  },
  {
   "cell_type": "code",
   "execution_count": null,
   "id": "fcddbdbc-5017-4ee5-a54a-87d3a43e3474",
   "metadata": {},
   "outputs": [],
   "source": []
  },
  {
   "cell_type": "markdown",
   "id": "55c41911-0115-44ed-8b0e-8fa95d9d826e",
   "metadata": {},
   "source": [
    "<h1><span style=\"color: #b96ad9;\">题二</span></h1>\n",
    "<blockquote>\n",
    "<p>对案例一，针对某种具体商品，进行进一步分析，并撰写&ldquo;结论与建议&rdquo;。</p>\n",
    "</blockquote>"
   ]
  },
  {
   "cell_type": "code",
   "execution_count": null,
   "id": "c3d49d5b-4d16-4eb0-aea3-32f5334811d0",
   "metadata": {},
   "outputs": [],
   "source": []
  },
  {
   "cell_type": "markdown",
   "id": "b8439385-de77-4456-a586-7f3ef80b6c89",
   "metadata": {},
   "source": [
    "<h1><span style=\"color: #b96ad9;\">题三</span></h1>\n",
    "<blockquote>\n",
    "<p>对案例二的R.F.M重新划分，让分类更合适</p>\n",
    "</blockquote>"
   ]
  },
  {
   "cell_type": "code",
   "execution_count": null,
   "id": "ca46e696-fce6-4437-8fd9-4acd61ff4f32",
   "metadata": {},
   "outputs": [],
   "source": []
  },
  {
   "cell_type": "markdown",
   "id": "f03e5bb2-723e-4eea-adf3-b0f339049f86",
   "metadata": {},
   "source": [
    "<h1><span style=\"color: #b96ad9;\">题四</span></h1>\n",
    "<blockquote>\n",
    "<p>对案例二的漏斗模型代码进行简化</p>\n",
    "</blockquote>"
   ]
  },
  {
   "cell_type": "code",
   "execution_count": null,
   "id": "c9d5850a-8d47-4f61-b4c4-9bec29937dc5",
   "metadata": {},
   "outputs": [],
   "source": []
  }
 ],
 "metadata": {
  "kernelspec": {
   "display_name": "Python 3 (ipykernel)",
   "language": "python",
   "name": "python3"
  },
  "language_info": {
   "codemirror_mode": {
    "name": "ipython",
    "version": 3
   },
   "file_extension": ".py",
   "mimetype": "text/x-python",
   "name": "python",
   "nbconvert_exporter": "python",
   "pygments_lexer": "ipython3",
   "version": "3.10.9"
  },
  "widgets": {
   "application/vnd.jupyter.widget-state+json": {
    "state": {},
    "version_major": 2,
    "version_minor": 0
   }
  }
 },
 "nbformat": 4,
 "nbformat_minor": 5
}
