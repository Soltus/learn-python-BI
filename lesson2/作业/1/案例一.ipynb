{
 "cells": [
  {
   "cell_type": "markdown",
   "id": "bd4b8d54-62f9-4118-a9f8-13fcc66e64a1",
   "metadata": {},
   "source": [
    "<div>\n",
    "<h1><span style=\"font-size: 24pt;\"><span style=\"font-family: 华文中宋;\">第 </span><span style=\"font-family: TimesNewRomanPS-BoldMT;\">5 </span><span style=\"font-family: 华文中宋;\">章 描述性统计案例</span></span></h1>\n",
    "</div>"
   ]
  },
  {
   "cell_type": "markdown",
   "id": "279e1ed4-b38a-461e-8d50-54bcc1bbbee0",
   "metadata": {},
   "source": [
    "<p>&nbsp;</p>\n",
    "<div><span style=\"font-size: 13.92pt; font-family: 'Times New Roman';\">5.1 </span><span style=\"font-size: 13.92pt; font-family: 黑体;\">案例一：淘系生鲜品类销售行情分析 </span></div>\n",
    "<div><span style=\"font-size: 12pt; font-family: TimesNewRomanPS-BoldMT; font-weight: bold;\">5.1.1 </span><span style=\"font-size: 12pt; font-family: 楷体; font-weight: bold;\">项目背景 </span></div>\n",
    "<div><span style=\"font-size: 12pt; font-family: 宋体;\">在电商平台开店，最基本的数据分析是平台同品类店铺经营情况描述性统计分析。 </span></div>\n",
    "<div><span style=\"font-size: 12pt; font-family: 宋体;\">本数据采集于 </span><span style=\"font-size: 12pt; font-family: 'Times New Roman';\">2018 </span><span style=\"font-size: 12pt; font-family: 宋体;\">年 </span><span style=\"font-size: 12pt; font-family: 'Times New Roman';\">10 </span><span style=\"font-size: 12pt; font-family: 宋体;\">月至 </span><span style=\"font-size: 12pt; font-family: 'Times New Roman';\">2019 </span><span style=\"font-size: 12pt; font-family: 宋体;\">年 </span><span style=\"font-size: 12pt; font-family: 'Times New Roman';\">4 </span><span style=\"font-size: 12pt; font-family: 宋体;\">月之间。通过淘宝网分别搜索&ldquo;水果&rdquo;&ldquo;蔬 </span></div>\n",
    "<div><span style=\"font-size: 12pt; font-family: 宋体;\">菜&rdquo;&ldquo;肉&rdquo;&ldquo;蛋&rdquo;&ldquo;水产&rdquo;等 </span><span style=\"font-size: 12pt; font-family: 'Times New Roman';\">5 </span><span style=\"font-size: 12pt; font-family: 宋体;\">个关键词，每个关键词返回 </span><span style=\"font-size: 12pt; font-family: 'Times New Roman';\">100 </span><span style=\"font-size: 12pt; font-family: 宋体;\">页搜索结果，每页平均 </span></div>\n",
    "<div><span style=\"font-size: 12pt; font-family: 宋体;\">显示 </span><span style=\"font-size: 12pt; font-family: 'Times New Roman';\">48 </span><span style=\"font-size: 12pt; font-family: 宋体;\">款商品链接，返回的商品来自淘宝和天猫两个平台。首先，获取所有搜索商品 </span></div>\n",
    "<div><span style=\"font-size: 12pt; font-family: 宋体;\">的网址、标题、店铺名、商品详情等基本信息，经过技术分析，滤掉非生鲜农产品类目 </span></div>\n",
    "<div><span style=\"font-size: 12pt; font-family: 宋体;\">商品，形成生鲜农产品商品链接列表；然后，每月固定时间（每月 </span><span style=\"font-size: 12pt; font-family: 'Times New Roman';\">28 </span><span style=\"font-size: 12pt; font-family: 宋体;\">日凌晨开始）对 </span></div>\n",
    "<div><span style=\"font-size: 12pt; font-family: 宋体;\">列表商品的动态数据采集一次，包括月销量、累计评价数、价格、店铺信誉等数据项， </span></div>\n",
    "<div><span style=\"font-size: 12pt; font-family: 宋体;\">连续采集 </span><span style=\"font-size: 12pt; font-family: 'Times New Roman';\">6 </span><span style=\"font-size: 12pt; font-family: 宋体;\">次 </span></div>\n",
    "<p>&nbsp;</p>\n",
    "<p>&nbsp;</p>"
   ]
  },
  {
   "cell_type": "markdown",
   "id": "fbf2c5ff-43e1-47f7-85f0-93fbc5885a13",
   "metadata": {},
   "source": [
    "<div><span style=\"font-size: 12pt; font-family: TimesNewRomanPS-BoldMT;\">5.1.2 </span><span style=\"font-size: 12pt; font-family: 楷体;\">数据整理 </span></div>\n",
    "<div><span style=\"font-size: 12pt; font-family: 宋体;\">本案例提供的数据文件有 </span><span style=\"font-size: 12pt; font-family: 'Times New Roman';\">7 </span><span style=\"font-size: 12pt; font-family: 宋体;\">个，分别是： </span></div>\n",
    "<div><span style=\"font-size: 12pt;\">&nbsp;</span><span style=\"font-size: 12pt; font-family: 宋体;\">第一次</span><span style=\"font-size: 12pt; font-family: 'Times New Roman';\">.csv</span><span style=\"font-size: 12pt; font-family: 宋体;\">：</span><span style=\"font-size: 12pt; font-family: 'Times New Roman';\">ID</span><span style=\"font-size: 12pt; font-family: 宋体;\">，标题，店铺名，原价，快递费，快递地区，基本信息，品类 </span></div>\n",
    "<div><span style=\"font-size: 12pt;\">&nbsp;</span><span style=\"font-size: 12pt; font-family: 宋体;\">第二次</span><span style=\"font-size: 12pt; font-family: 'Times New Roman';\">.csv</span><span style=\"font-size: 12pt; font-family: 宋体;\">、第三次</span><span style=\"font-size: 12pt; font-family: 'Times New Roman';\">.csv</span><span style=\"font-size: 12pt; font-family: 宋体;\">、第四次</span><span style=\"font-size: 12pt; font-family: 'Times New Roman';\">.csv</span><span style=\"font-size: 12pt; font-family: 宋体;\">、第五次</span><span style=\"font-size: 12pt; font-family: 'Times New Roman';\">.csv</span><span style=\"font-size: 12pt; font-family: 宋体;\">、第六次</span><span style=\"font-size: 12pt; font-family: 'Times New Roman';\">.csv</span><span style=\"font-size: 12pt; font-family: 宋体;\">、第七次</span><span style=\"font-size: 12pt; font-family: 'Times New Roman';\">.csv</span><span style=\"font-size: 12pt; font-family: 宋体;\">：</span><span style=\"font-size: 12pt; font-family: 'Times New Roman';\">ID</span><span style=\"font-size: 12pt; font-family: 宋体;\">， </span></div>\n",
    "<div><span style=\"font-size: 12pt; font-family: 宋体;\">活动价，累计评价，月销量，信誉（仅淘宝店铺有信誉分），天猫分数 </span></div>\n",
    "<div><span style=\"font-size: 12pt; font-family: 宋体;\">本部分将 </span><span style=\"font-size: 12pt; font-family: 'Times New Roman';\">7 </span><span style=\"font-size: 12pt; font-family: 宋体;\">个文件合为一个数据文件。 </span></div>\n",
    "<div>&nbsp;</div>"
   ]
  },
  {
   "cell_type": "code",
   "execution_count": 3,
   "id": "5a6537e0-6a61-43d7-b6c4-2cf77ec9809e",
   "metadata": {
    "execution": {
     "iopub.execute_input": "2023-05-20T02:44:20.824720Z",
     "iopub.status.busy": "2023-05-20T02:44:20.824720Z",
     "iopub.status.idle": "2023-05-20T02:44:21.056079Z",
     "shell.execute_reply": "2023-05-20T02:44:21.056079Z",
     "shell.execute_reply.started": "2023-05-20T02:44:20.824720Z"
    },
    "tags": []
   },
   "outputs": [
    {
     "data": {
      "text/html": [
       "<div>\n",
       "<style scoped>\n",
       "    .dataframe tbody tr th:only-of-type {\n",
       "        vertical-align: middle;\n",
       "    }\n",
       "\n",
       "    .dataframe tbody tr th {\n",
       "        vertical-align: top;\n",
       "    }\n",
       "\n",
       "    .dataframe thead th {\n",
       "        text-align: right;\n",
       "    }\n",
       "</style>\n",
       "<table border=\"1\" class=\"dataframe\">\n",
       "  <thead>\n",
       "    <tr style=\"text-align: right;\">\n",
       "      <th></th>\n",
       "      <th>ID</th>\n",
       "      <th>标题</th>\n",
       "      <th>店铺名</th>\n",
       "      <th>原价</th>\n",
       "      <th>快递费</th>\n",
       "      <th>快递地区</th>\n",
       "      <th>基本信息</th>\n",
       "      <th>品类</th>\n",
       "    </tr>\n",
       "  </thead>\n",
       "  <tbody>\n",
       "    <tr>\n",
       "      <th>0</th>\n",
       "      <td>567797118294</td>\n",
       "      <td>[山客自养] 绿色有机土鸡蛋 农村散养 20枚装 破蛋包赔</td>\n",
       "      <td>267f241390522d93</td>\n",
       "      <td>56.2</td>\n",
       "      <td>12.0</td>\n",
       "      <td>吉林</td>\n",
       "      <td>包装方式：食用农产品||产地：中国大陆||省份：吉林省||城市：吉林市||枚数：20枚||净...</td>\n",
       "      <td>蛋</td>\n",
       "    </tr>\n",
       "    <tr>\n",
       "      <th>1</th>\n",
       "      <td>554095491655</td>\n",
       "      <td>超大蛋3斤鸵鸟蛋新鲜送礼土豪蛋自家养殖破损包赔</td>\n",
       "      <td>d32a9408880d6d3b</td>\n",
       "      <td>175.0</td>\n",
       "      <td>0.0</td>\n",
       "      <td>山东 淄博</td>\n",
       "      <td>包装方式：食用农产品||生鲜储存温度：0-8℃||产地：中国大陆||省份：山东省||城市：淄...</td>\n",
       "      <td>蛋</td>\n",
       "    </tr>\n",
       "    <tr>\n",
       "      <th>2</th>\n",
       "      <td>550183128850</td>\n",
       "      <td>天飨村 咕叽咕叽农家散养新鲜纯天然30枚 粉壳土鸡蛋</td>\n",
       "      <td>891d50a4b916c106</td>\n",
       "      <td>55.0</td>\n",
       "      <td>0.0</td>\n",
       "      <td>湖南 长沙</td>\n",
       "      <td>包装方式：食用农产品||同城服务：同城24小时卖家送货上门||售卖方式：组合||是否为有机食...</td>\n",
       "      <td>蛋</td>\n",
       "    </tr>\n",
       "    <tr>\n",
       "      <th>3</th>\n",
       "      <td>569390163639</td>\n",
       "      <td>正宗农村农家野外散养土鸡蛋 新鲜草鸡蛋柴笨鸡蛋 富硒土鸡蛋30枚</td>\n",
       "      <td>7a6d2e534db34688</td>\n",
       "      <td>43.8</td>\n",
       "      <td>0.0</td>\n",
       "      <td>安徽 安庆</td>\n",
       "      <td>净含量：1350g||包装方式：食用农产品||枚数：30枚||产地：中国大陆||省份：安徽省...</td>\n",
       "      <td>蛋</td>\n",
       "    </tr>\n",
       "    <tr>\n",
       "      <th>4</th>\n",
       "      <td>572170484146</td>\n",
       "      <td>野外散养土鸡蛋农家散养树林柴鸡蛋农村草鸡蛋新鲜当日鸡蛋30枚装</td>\n",
       "      <td>b4c281826b800e11</td>\n",
       "      <td>79.0</td>\n",
       "      <td>0.0</td>\n",
       "      <td>安徽 宣城</td>\n",
       "      <td>包装方式：食用农产品||产地：中国大陆||省份：安徽省||城市：宣城市||枚数：30枚||净...</td>\n",
       "      <td>蛋</td>\n",
       "    </tr>\n",
       "  </tbody>\n",
       "</table>\n",
       "</div>"
      ],
      "text/plain": [
       "             ID                                标题               店铺名     原价   \n",
       "0  567797118294     [山客自养] 绿色有机土鸡蛋 农村散养 20枚装 破蛋包赔  267f241390522d93   56.2  \\\n",
       "1  554095491655           超大蛋3斤鸵鸟蛋新鲜送礼土豪蛋自家养殖破损包赔  d32a9408880d6d3b  175.0   \n",
       "2  550183128850        天飨村 咕叽咕叽农家散养新鲜纯天然30枚 粉壳土鸡蛋  891d50a4b916c106   55.0   \n",
       "3  569390163639  正宗农村农家野外散养土鸡蛋 新鲜草鸡蛋柴笨鸡蛋 富硒土鸡蛋30枚  7a6d2e534db34688   43.8   \n",
       "4  572170484146   野外散养土鸡蛋农家散养树林柴鸡蛋农村草鸡蛋新鲜当日鸡蛋30枚装  b4c281826b800e11   79.0   \n",
       "\n",
       "    快递费   快递地区                                               基本信息 品类  \n",
       "0  12.0     吉林  包装方式：食用农产品||产地：中国大陆||省份：吉林省||城市：吉林市||枚数：20枚||净...  蛋  \n",
       "1   0.0  山东 淄博  包装方式：食用农产品||生鲜储存温度：0-8℃||产地：中国大陆||省份：山东省||城市：淄...  蛋  \n",
       "2   0.0  湖南 长沙  包装方式：食用农产品||同城服务：同城24小时卖家送货上门||售卖方式：组合||是否为有机食...  蛋  \n",
       "3   0.0  安徽 安庆  净含量：1350g||包装方式：食用农产品||枚数：30枚||产地：中国大陆||省份：安徽省...  蛋  \n",
       "4   0.0  安徽 宣城  包装方式：食用农产品||产地：中国大陆||省份：安徽省||城市：宣城市||枚数：30枚||净...  蛋  "
      ]
     },
     "execution_count": 3,
     "metadata": {},
     "output_type": "execute_result"
    }
   ],
   "source": [
    "# 引入 pandas 及正则式处理包：\n",
    "import pandas as pd\n",
    "pd.set_option('mode.chained_assignment', None) # 关闭警告\n",
    "# 打开并查看第一次.csv：\n",
    "data1 = pd.read_csv('../data/1.1/第一次.csv')\n",
    "data1.head(5)"
   ]
  },
  {
   "cell_type": "markdown",
   "id": "cd1ddb23-95e6-4221-a25f-9e124ece6cb1",
   "metadata": {},
   "source": [
    "<div><span style=\"font-size: 12pt; font-family: 宋体;\">查看第一次</span><span style=\"font-size: 12pt; font-family: 'Times New Roman';\">.csv </span><span style=\"font-size: 12pt; font-family: 宋体;\">的数据结构：</span></div>"
   ]
  },
  {
   "cell_type": "code",
   "execution_count": null,
   "id": "6e190e6f-2c3b-4afc-a771-40cc02f3d001",
   "metadata": {
    "tags": []
   },
   "outputs": [],
   "source": [
    "data1.info()"
   ]
  },
  {
   "cell_type": "markdown",
   "id": "18a9edbb-85e0-4103-b175-6e88027baddf",
   "metadata": {},
   "source": [
    "<div><span style=\"font-size: 12pt; font-family: 宋体;\">从上面可以看出，文件中有 </span><span style=\"font-size: 12pt; font-family: 'Times New Roman';\">18944 </span><span style=\"font-size: 12pt; font-family: 宋体;\">条商品记录，且经过初步处理，无缺失值。 </span></div>\n",
    "<div><span style=\"font-size: 12pt; font-family: 宋体;\">打开并查看第二次</span><span style=\"font-size: 12pt; font-family: 'Times New Roman';\">.csv</span><span style=\"font-size: 12pt; font-family: 宋体;\">：</span></div>"
   ]
  },
  {
   "cell_type": "code",
   "execution_count": null,
   "id": "222fea22-9876-4cff-9086-08b489a92d14",
   "metadata": {
    "tags": []
   },
   "outputs": [],
   "source": [
    "data2 = pd.read_csv('../data/1.1/第二次.csv')\n",
    "data2.head(5)"
   ]
  },
  {
   "cell_type": "markdown",
   "id": "184c7603-8c77-4f11-a1a4-8260152980e2",
   "metadata": {},
   "source": [
    "为了后面合并处理方便，对列名进行修改："
   ]
  },
  {
   "cell_type": "code",
   "execution_count": null,
   "id": "a4cc72b5-a8b8-456f-affc-d68994a69816",
   "metadata": {
    "tags": []
   },
   "outputs": [],
   "source": [
    "data2.rename(columns={'活动价':'活动价 1', '累计评价':'累计评价 1','月销量':'月销量 1','信誉':'信誉 1','天猫分数':'天猫分数 1'}, inplace = True)"
   ]
  },
  {
   "cell_type": "markdown",
   "id": "633a23f3-01de-46ce-aa8b-16cdcc0ceebd",
   "metadata": {},
   "source": [
    "查看第二次.csv 的数据结构："
   ]
  },
  {
   "cell_type": "code",
   "execution_count": null,
   "id": "8170d0df-b926-4a2d-b075-371c539acf02",
   "metadata": {
    "tags": []
   },
   "outputs": [],
   "source": [
    "data2.info()"
   ]
  },
  {
   "cell_type": "markdown",
   "id": "c0865d0a-45f6-43c4-8388-857031f58b7c",
   "metadata": {},
   "source": [
    "<p>从上面可以看出，文件中商品数量为 27999，比&ldquo;第一次&rdquo;数据多很多。这可能是 第一次处理过，删除了部分商品信息。另外，还存在缺失值，可能是爬虫抓取失败所 致。 删除&ldquo;累计评价 1&rdquo;&ldquo;月销量 1&rdquo;&ldquo;天猫分数 1&rdquo;（<span style=\"font-family: 宋体; font-size: 10pt;\">虽然&ldquo;信誉 1&rdquo;仅 19217，但因天猫店铺无该值，因此不能判断是否真为缺失值，因此不能作为删除条件）</span>中有缺失值的商品（所在行）， 并重建索引：</p>"
   ]
  },
  {
   "cell_type": "code",
   "execution_count": null,
   "id": "9f80ad2b-3eb5-4bc9-a6ba-eedf5db939e1",
   "metadata": {
    "tags": []
   },
   "outputs": [],
   "source": [
    "data2.dropna(subset = ['累计评价 1','月销量 1','天猫分数 1'], inplace = True)\n",
    "data2.reset_index(drop=True,inplace = True)\n",
    "data2.info()"
   ]
  },
  {
   "cell_type": "markdown",
   "id": "b17229d8-15c0-457d-8f2e-c22a2fd71bc3",
   "metadata": {},
   "source": [
    "对后 5 个文件做类似操作："
   ]
  },
  {
   "cell_type": "code",
   "execution_count": null,
   "id": "f021fef1-9317-49cc-bf06-ab9e0f602fa7",
   "metadata": {
    "tags": []
   },
   "outputs": [],
   "source": [
    "data3 = pd.read_csv('../data/1.1/第三次.csv')\n",
    "data3.head(5)"
   ]
  },
  {
   "cell_type": "code",
   "execution_count": null,
   "id": "fa67600e-fa8f-4df7-8fa4-2be87908e78c",
   "metadata": {
    "tags": []
   },
   "outputs": [],
   "source": [
    "data3.rename(columns={'活动价':'活动价 2', '累计评价':'累计评价 2','月销量':'月销量 2','信誉':'信誉 2','天猫分数':'天猫分数 2'}, inplace = True)\n",
    "data3.info()"
   ]
  },
  {
   "cell_type": "code",
   "execution_count": null,
   "id": "3fb2e662-1b48-4b67-a5be-b69053b4c6b3",
   "metadata": {
    "tags": []
   },
   "outputs": [],
   "source": [
    "data3.dropna(subset = ['累计评价 2','月销量 2'], inplace = True)\n",
    "data3.reset_index(drop=True,inplace = True)\n",
    "data3.info()"
   ]
  },
  {
   "cell_type": "code",
   "execution_count": null,
   "id": "afa5290b-6bad-48f2-b966-078e52810d09",
   "metadata": {
    "tags": []
   },
   "outputs": [],
   "source": [
    "data4 = pd.read_csv('../data/1.1/第四次.csv')\n",
    "data4.head(5)"
   ]
  },
  {
   "cell_type": "code",
   "execution_count": null,
   "id": "dc5d3690-9e61-46c4-bca8-4a203d7bd483",
   "metadata": {
    "tags": []
   },
   "outputs": [],
   "source": [
    "data4.info()"
   ]
  },
  {
   "cell_type": "code",
   "execution_count": null,
   "id": "2a6efcee-0bfb-4ccd-9257-87a8a51ba5e1",
   "metadata": {
    "tags": []
   },
   "outputs": [],
   "source": [
    "data4.rename(columns={'活动价':'活动价 3', '累计评价':'累计评价 3','月销量':'月销量 3','信誉':'信誉 3','天猫分数':'天猫分数 3'}, inplace = True)\n",
    "data4.dropna(subset = ['累计评价 3','月销量 3'], inplace = True)\n",
    "data4.reset_index(drop=True,inplace = True)\n",
    "data4.info()"
   ]
  },
  {
   "cell_type": "code",
   "execution_count": null,
   "id": "3f1150c5-8f30-4f92-92c1-10ce2dcccdff",
   "metadata": {
    "tags": []
   },
   "outputs": [],
   "source": [
    "data5 = pd.read_csv('../data/1.1/第五次.csv')\n",
    "data5.head(5)"
   ]
  },
  {
   "cell_type": "code",
   "execution_count": null,
   "id": "0baa734a-43fb-4b2b-92d8-6bfbddfc9773",
   "metadata": {
    "tags": []
   },
   "outputs": [],
   "source": [
    "data5.info()"
   ]
  },
  {
   "cell_type": "code",
   "execution_count": null,
   "id": "2b119f1b-0d8e-4efd-a048-d6cf935b9e65",
   "metadata": {
    "tags": []
   },
   "outputs": [],
   "source": [
    "data5.rename(columns={'活动价':'活动价 4', '累计评价':'累计评价 4','月销量':'月销量 4','信誉':'信誉 4','天猫分数':'天猫分数 4'}, inplace = True)\n",
    "data5.dropna(subset = ['累计评价 4','月销量 4','天猫分数 4'], inplace = True)\n",
    "data5.reset_index(drop=True,inplace = True) \n",
    "data5.info()"
   ]
  },
  {
   "cell_type": "code",
   "execution_count": null,
   "id": "356dec23-d704-4b28-ab0b-52ccb1f48227",
   "metadata": {
    "tags": []
   },
   "outputs": [],
   "source": [
    "data6 = pd.read_csv('../data/1.1/第六次.csv')\n",
    "data6.head(5)"
   ]
  },
  {
   "cell_type": "code",
   "execution_count": null,
   "id": "cd17dae2-b954-46d5-9e58-fed7627c6447",
   "metadata": {
    "tags": []
   },
   "outputs": [],
   "source": [
    "data6.info()"
   ]
  },
  {
   "cell_type": "code",
   "execution_count": null,
   "id": "3ba574ca-c473-48eb-98d7-39c04321e330",
   "metadata": {
    "tags": []
   },
   "outputs": [],
   "source": [
    "data6.rename(columns={'活动价':'活动价 5', '累计评价':'累计评价 5','月销量':'月销量 5','信誉':'信誉 5','天猫分数':'天猫分数 5'}, inplace = True)\n",
    "data6.dropna(subset = ['累计评价 5','月销量 5'], inplace = True)\n",
    "data6.reset_index(drop=True,inplace = True)\n",
    "data6.info()"
   ]
  },
  {
   "cell_type": "code",
   "execution_count": null,
   "id": "699940ad-b8b9-4b78-aca1-b879d3ffdbed",
   "metadata": {
    "tags": []
   },
   "outputs": [],
   "source": [
    "data7 = pd.read_csv('../data/1.1/第七次.csv')\n",
    "data7.head(5)"
   ]
  },
  {
   "cell_type": "code",
   "execution_count": null,
   "id": "2fcfa53f-83a2-47b8-ab16-4d9d18f8db04",
   "metadata": {
    "tags": []
   },
   "outputs": [],
   "source": [
    "data7.info()"
   ]
  },
  {
   "cell_type": "code",
   "execution_count": null,
   "id": "b0ddcc2a-403b-411e-a6fb-bd07f24e3c1f",
   "metadata": {
    "tags": []
   },
   "outputs": [],
   "source": [
    "data7.rename(columns={'活动价':'活动价 6', '累计评价':'累计评价 6','月销量':'月销量 6','信誉':'信誉 6','天猫分数':'天猫分数 6'}, inplace = True)\n",
    "data7.dropna(subset = ['累计评价 6','月销量 6'], inplace = True)\n",
    "data7.reset_index(drop=True,inplace = True)\n",
    "data7.info()"
   ]
  },
  {
   "cell_type": "markdown",
   "id": "68d6d794-92c8-4260-b2e6-8918a5d5043a",
   "metadata": {},
   "source": [
    "合并数据至一张表："
   ]
  },
  {
   "cell_type": "code",
   "execution_count": null,
   "id": "486382e3-511e-4bf2-b765-dd9e460ee9ea",
   "metadata": {
    "tags": []
   },
   "outputs": [],
   "source": [
    "data1 = pd.merge(data1,data2,on = 'ID')\n",
    "data1 = pd.merge(data1,data3,on = 'ID')\n",
    "data1 = pd.merge(data1,data4,on = 'ID')\n",
    "data1 = pd.merge(data1,data5,on = 'ID')\n",
    "data1 = pd.merge(data1,data6,on = 'ID')\n",
    "data1 = pd.merge(data1,data7,on = 'ID')\n",
    "data1"
   ]
  },
  {
   "cell_type": "markdown",
   "id": "737d4c2c-5d39-4ae2-86a8-cb04cf3dd3f0",
   "metadata": {},
   "source": [
    "筛选出后续用到的列："
   ]
  },
  {
   "cell_type": "code",
   "execution_count": null,
   "id": "addf615e-a6c8-4713-8b5b-fe80fa2ae50b",
   "metadata": {
    "tags": []
   },
   "outputs": [],
   "source": [
    "data = data1[['ID','品类','标题','店铺名','原价','快递费','快递地区','基本信息','天猫分数 1','活动价 1','累计评价 1','月销量 1','信誉 1','活动价 2','累计评价 2','月销量 2','信誉 2','活动价 3','累计评价 3','月销量 3','信誉 3','活动价 4','累计评价 4','月销量 4','信誉 4','活动价 5','累计评价 5','月销量 5','信誉 5','活动价 6','累计评价 6','月销量 6','信誉 6']]"
   ]
  },
  {
   "cell_type": "markdown",
   "id": "b5084a1f-eb88-4146-a33b-7868b3ff807f",
   "metadata": {},
   "source": [
    "查看新生成的数据表结构："
   ]
  },
  {
   "cell_type": "code",
   "execution_count": null,
   "id": "5cdfb62a-fff2-44c0-9b0a-b881916847d3",
   "metadata": {
    "tags": []
   },
   "outputs": [],
   "source": [
    "data.info()"
   ]
  },
  {
   "cell_type": "markdown",
   "id": "4b04d683-cbf2-4d85-9873-400b9dcf6fd8",
   "metadata": {},
   "source": [
    "由于天猫没有信誉分，此处将其改为布尔型变量，且名称更改为：是否天猫（此处\n",
    "仅用“第二次.csv”中的数据，以便统一）："
   ]
  },
  {
   "cell_type": "code",
   "execution_count": null,
   "id": "b97bad32-16f1-4528-9e24-d8324a3da0b8",
   "metadata": {
    "tags": []
   },
   "outputs": [],
   "source": [
    "data.rename(columns={'天猫分数 1':'是否天猫'}, inplace = True) # 输出警告可忽略，可以通过使用.copy()方法创建DataFrame的副本来避免这个警告"
   ]
  },
  {
   "cell_type": "markdown",
   "id": "d6b8d9d4-b5b4-4ce4-8b52-e7b17b2ab845",
   "metadata": {},
   "source": [
    "通过观察，发现该字段值为 0 的皆为淘宝店铺，因此做如下修改："
   ]
  },
  {
   "cell_type": "code",
   "execution_count": null,
   "id": "88df0d8d-5cab-4def-8ec5-742c859ce2e3",
   "metadata": {
    "tags": []
   },
   "outputs": [],
   "source": [
    "for i in range(len(data)):\n",
    "     if data['是否天猫'][i]>0:\n",
    "            data['是否天猫'][i] = 1\n",
    "data['是否天猫'] = data['是否天猫'].astype(int)"
   ]
  },
  {
   "cell_type": "markdown",
   "id": "73e9c9d5-4bc8-4c4e-a244-2f67f5ae0cc1",
   "metadata": {},
   "source": [
    "查看新生成的数据表结构："
   ]
  },
  {
   "cell_type": "code",
   "execution_count": null,
   "id": "d519f725-87c0-49c4-bb2f-5fb3273ffe8e",
   "metadata": {
    "tags": []
   },
   "outputs": [],
   "source": [
    "data.info()"
   ]
  },
  {
   "cell_type": "markdown",
   "id": "42687ea4-7de2-4a5d-aa6f-ce3163b6fc23",
   "metadata": {},
   "source": [
    "将天猫店的信誉分设定为-1，以便后续检索、统计："
   ]
  },
  {
   "cell_type": "code",
   "execution_count": null,
   "id": "ba974014-7ab4-4b6c-870b-b410309ab517",
   "metadata": {
    "tags": []
   },
   "outputs": [],
   "source": [
    "data.loc[data['是否天猫']==1,'信誉 1'] = -1\n",
    "data.loc[data['是否天猫']==1,'信誉 2'] = -1\n",
    "data.loc[data['是否天猫']==1,'信誉 3'] = -1\n",
    "data.loc[data['是否天猫']==1,'信誉 4'] = -1\n",
    "data.loc[data['是否天猫']==1,'信誉 5'] = -1\n",
    "data.loc[data['是否天猫']==1,'信誉 6'] = -1\n",
    "data.info()"
   ]
  },
  {
   "cell_type": "markdown",
   "id": "dae6194f-8350-4674-aef1-9199092032bc",
   "metadata": {},
   "source": [
    "删除信誉分存在缺失值的行："
   ]
  },
  {
   "cell_type": "code",
   "execution_count": null,
   "id": "03b511d7-ec1b-4c88-97f7-1e8bab33a569",
   "metadata": {
    "tags": []
   },
   "outputs": [],
   "source": [
    "data.dropna(subset = ['信誉 1','信誉 2','信誉 4','信誉 5'], inplace = True)\n",
    "data.reset_index(drop=True,inplace = True)\n",
    "data.info()"
   ]
  },
  {
   "cell_type": "markdown",
   "id": "620b588d-1872-4562-a476-622e5429a5fd",
   "metadata": {},
   "source": [
    "保存处理好的数据："
   ]
  },
  {
   "cell_type": "code",
   "execution_count": null,
   "id": "4c611138-07eb-4dcc-8bc8-6ecfceb01032",
   "metadata": {
    "tags": []
   },
   "outputs": [],
   "source": [
    "data.to_csv('./save_data.csv',header=True,index=False)"
   ]
  },
  {
   "cell_type": "markdown",
   "id": "d3f3365d-800f-453f-b0af-c279f3a3926c",
   "metadata": {},
   "source": [
    "<p>5.1.3 属性提取</p>\n",
    "<p>（1）商品名提取</p>"
   ]
  },
  {
   "cell_type": "code",
   "execution_count": null,
   "id": "38f426c1-1461-4849-a5e7-2e04d6c28b75",
   "metadata": {
    "tags": []
   },
   "outputs": [],
   "source": [
    "# 导入后续用到的包\n",
    "import pandas as pd\n",
    "import jieba\n",
    "import re"
   ]
  },
  {
   "cell_type": "markdown",
   "id": "7a4e07a8-3744-4c7c-8ea5-b9338593c5d9",
   "metadata": {},
   "source": [
    "引用中文分词类 Leijieba v2.0："
   ]
  },
  {
   "cell_type": "code",
   "execution_count": null,
   "id": "4a812407-d18a-486a-a62b-4f065765b9e1",
   "metadata": {
    "tags": []
   },
   "outputs": [],
   "source": [
    "#构建中文分词类 v2.0\n",
    "class Leijieba:\n",
    "    __stopwords = ''\n",
    "    def __init__(self,s,t='',b=''): #t 为停用词的文件参数（路径+文件名）；b 为本地词库的文件参数（路径+文件名）\n",
    "        self.__s = s\n",
    "        if t != '':\n",
    "            self.__stopwords = [line.strip() for line in open(t,encoding='UTF-8').readlines()] #逐行读取停用词文件，放入类内部变量__stopwords\n",
    "        if b != '':\n",
    "            jieba.load_userdict(b)\n",
    "\n",
    "    def cut(self):\n",
    "        seg_list = jieba.cut(self.__s, cut_all=False)\n",
    "        if self.__stopwords != '':\n",
    "            outstr = [] #目的是存储去掉停用用词的分词结果\n",
    "            for word in list(seg_list):\n",
    "                if word not in self.__stopwords:\n",
    "                    if word.strip() !='': #去空格\n",
    "                        outstr.append(word)\n",
    "            seg_list = outstr\n",
    "        return list(seg_list)\n",
    "\n",
    "    def num(self):\n",
    "        lst = self.cut()\n",
    "        word_dict = {}\n",
    "        for item in lst:\n",
    "            if item not in word_dict:\n",
    "                word_dict[item] = 1 #新建“键-值”\n",
    "            else:\n",
    "                word_dict[item] += 1 #增加 键的值\n",
    "        return sorted(word_dict.items(), key=lambda e:e[1], reverse=True)"
   ]
  },
  {
   "cell_type": "markdown",
   "id": "71b50383-42c4-4031-86f5-a482d96d2ea3",
   "metadata": {},
   "source": [
    "从文件中获取数据："
   ]
  },
  {
   "cell_type": "code",
   "execution_count": null,
   "id": "110e9fe7-3dcb-46d2-b73c-e9e50669ae49",
   "metadata": {
    "tags": []
   },
   "outputs": [],
   "source": [
    "data = pd.read_csv('./save_data.csv')\n",
    "data.head(5)"
   ]
  },
  {
   "cell_type": "markdown",
   "id": "1e2e5c34-3ccf-42b2-9195-4570be60802f",
   "metadata": {},
   "source": [
    "新建列“商品名”，并赋初值'其他'："
   ]
  },
  {
   "cell_type": "code",
   "execution_count": null,
   "id": "d3fde96f-c683-4789-ab5e-8fbf8235f700",
   "metadata": {
    "tags": []
   },
   "outputs": [],
   "source": [
    "data['商品名'] = '其他'"
   ]
  },
  {
   "cell_type": "markdown",
   "id": "965dc595-e947-4a4f-971f-ceb5a0ec7317",
   "metadata": {},
   "source": [
    "为了准确地对商品名分词，此处提前由领域专家构建了“蛋名称”“肉名称”“蔬\n",
    "菜名称”“水产名称”“水果名称”等 5 个本地词库："
   ]
  },
  {
   "cell_type": "code",
   "execution_count": null,
   "id": "225f4acc-e639-437f-9259-606223811dfa",
   "metadata": {
    "tags": []
   },
   "outputs": [],
   "source": [
    "productName = pd.read_csv('../data/1.1/蛋名称.txt', header=None)\n",
    "productNameList1 = productName[0].tolist()\n",
    "productName = pd.read_csv('../data/1.1/肉名称.txt', header=None)\n",
    "productNameList2 = productName[0].tolist()\n",
    "productName = pd.read_csv('../data/1.1/蔬菜名称.txt', header=None)\n",
    "productNameList3 = productName[0].tolist()\n",
    "productName = pd.read_csv('../data/1.1/水产名称.txt', header=None)\n",
    "productNameList4 = productName[0].tolist()\n",
    "productName = pd.read_csv('../data/1.1/水果名称.txt', header=None)\n",
    "productNameList5 = productName[0].tolist()"
   ]
  },
  {
   "cell_type": "markdown",
   "id": "95d55b02-f195-4c08-a272-eb8109ee0135",
   "metadata": {},
   "source": [
    "对标题分词，然后检索标题中含有相应本地词库中的商品名，取出对应商品名："
   ]
  },
  {
   "cell_type": "code",
   "execution_count": null,
   "id": "081d1f26-be9e-4821-8df0-6f7e893a7bd8",
   "metadata": {
    "scrolled": true,
    "tags": []
   },
   "outputs": [],
   "source": [
    "for j in range(len(data)):\n",
    "    if data['品类'][j] == '蛋':\n",
    "        m = Leijieba(data['标题'][j], t='../data/1.1/stopwords.txt',\n",
    "                 b='../data/1.1/蛋名称.txt')\n",
    "        productNameList = productNameList1\n",
    "    elif data['品类'][j] == '肉':\n",
    "        m = Leijieba(data['标题'][j], t='../data/1.1/stopwords.txt',\n",
    "                 b='../data/1.1/肉名称.txt')\n",
    "        productNameList = productNameList2\n",
    "    elif data['品类'][j] == '蔬菜':\n",
    "        m = Leijieba(data['标题'][j], t='../data/1.1/stopwords.txt',\n",
    "                 b='../data/1.1/蔬菜名称.txt')\n",
    "        productNameList = productNameList3\n",
    "    elif data['品类'][j] == '水产':\n",
    "        m = Leijieba(data['标题'][j], t='../data/1.1/stopwords.txt',\n",
    "                 b='../data/1.1/水产名称.txt')\n",
    "        productNameList = productNameList4\n",
    "    elif data['品类'][j] == '水果':\n",
    "        m = Leijieba(data['标题'][j], t='../data/1.1/stopwords.txt',\n",
    "                 b='../data/1.1/水果名称.txt')\n",
    "        productNameList = productNameList5\n",
    "\n",
    "    T = list(set(m.cut()))\n",
    "    for i in T:\n",
    "        if i in productNameList:\n",
    "            data['商品名'][j] = i\n",
    "            break\n"
   ]
  },
  {
   "cell_type": "code",
   "execution_count": 53,
   "id": "9230f201-23eb-4057-b74a-4c1180a93206",
   "metadata": {
    "execution": {
     "iopub.execute_input": "2023-04-22T14:48:23.724519Z",
     "iopub.status.busy": "2023-04-22T14:48:23.724519Z",
     "iopub.status.idle": "2023-04-22T14:48:23.761569Z",
     "shell.execute_reply": "2023-04-22T14:48:23.760568Z",
     "shell.execute_reply.started": "2023-04-22T14:48:23.724519Z"
    },
    "tags": []
   },
   "outputs": [
    {
     "data": {
      "text/html": [
       "<div>\n",
       "<style scoped>\n",
       "    .dataframe tbody tr th:only-of-type {\n",
       "        vertical-align: middle;\n",
       "    }\n",
       "\n",
       "    .dataframe tbody tr th {\n",
       "        vertical-align: top;\n",
       "    }\n",
       "\n",
       "    .dataframe thead th {\n",
       "        text-align: right;\n",
       "    }\n",
       "</style>\n",
       "<table border=\"1\" class=\"dataframe\">\n",
       "  <thead>\n",
       "    <tr style=\"text-align: right;\">\n",
       "      <th></th>\n",
       "      <th>ID</th>\n",
       "      <th>品类</th>\n",
       "      <th>标题</th>\n",
       "      <th>店铺名</th>\n",
       "      <th>原价</th>\n",
       "      <th>快递费</th>\n",
       "      <th>快递地区</th>\n",
       "      <th>基本信息</th>\n",
       "      <th>是否天猫</th>\n",
       "      <th>活动价 1</th>\n",
       "      <th>...</th>\n",
       "      <th>信誉 4</th>\n",
       "      <th>活动价 5</th>\n",
       "      <th>累计评价 5</th>\n",
       "      <th>月销量 5</th>\n",
       "      <th>信誉 5</th>\n",
       "      <th>活动价 6</th>\n",
       "      <th>累计评价 6</th>\n",
       "      <th>月销量 6</th>\n",
       "      <th>信誉 6</th>\n",
       "      <th>商品名</th>\n",
       "    </tr>\n",
       "  </thead>\n",
       "  <tbody>\n",
       "    <tr>\n",
       "      <th>0</th>\n",
       "      <td>567797118294</td>\n",
       "      <td>蛋</td>\n",
       "      <td>[山客自养] 绿色有机土鸡蛋 农村散养 20枚装 破蛋包赔</td>\n",
       "      <td>267f241390522d93</td>\n",
       "      <td>56.2</td>\n",
       "      <td>12.0</td>\n",
       "      <td>吉林</td>\n",
       "      <td>包装方式：食用农产品||产地：中国大陆||省份：吉林省||城市：吉林市||枚数：20枚||净...</td>\n",
       "      <td>0</td>\n",
       "      <td>56.2</td>\n",
       "      <td>...</td>\n",
       "      <td>928.0</td>\n",
       "      <td>56.2</td>\n",
       "      <td>4.0</td>\n",
       "      <td>0.0</td>\n",
       "      <td>938.0</td>\n",
       "      <td>56.2</td>\n",
       "      <td>0.0</td>\n",
       "      <td>0.0</td>\n",
       "      <td>939.0</td>\n",
       "      <td>鸡蛋</td>\n",
       "    </tr>\n",
       "    <tr>\n",
       "      <th>1</th>\n",
       "      <td>554095491655</td>\n",
       "      <td>蛋</td>\n",
       "      <td>超大蛋3斤鸵鸟蛋新鲜送礼土豪蛋自家养殖破损包赔</td>\n",
       "      <td>d32a9408880d6d3b</td>\n",
       "      <td>175.0</td>\n",
       "      <td>0.0</td>\n",
       "      <td>山东 淄博</td>\n",
       "      <td>包装方式：食用农产品||生鲜储存温度：0-8℃||产地：中国大陆||省份：山东省||城市：淄...</td>\n",
       "      <td>0</td>\n",
       "      <td>178.0</td>\n",
       "      <td>...</td>\n",
       "      <td>9340.0</td>\n",
       "      <td>155.0</td>\n",
       "      <td>232.0</td>\n",
       "      <td>109.0</td>\n",
       "      <td>9541.0</td>\n",
       "      <td>135.0</td>\n",
       "      <td>205.0</td>\n",
       "      <td>158.0</td>\n",
       "      <td>9919.0</td>\n",
       "      <td>鸵鸟蛋</td>\n",
       "    </tr>\n",
       "    <tr>\n",
       "      <th>2</th>\n",
       "      <td>550183128850</td>\n",
       "      <td>蛋</td>\n",
       "      <td>天飨村 咕叽咕叽农家散养新鲜纯天然30枚 粉壳土鸡蛋</td>\n",
       "      <td>891d50a4b916c106</td>\n",
       "      <td>55.0</td>\n",
       "      <td>0.0</td>\n",
       "      <td>湖南 长沙</td>\n",
       "      <td>包装方式：食用农产品||同城服务：同城24小时卖家送货上门||售卖方式：组合||是否为有机食...</td>\n",
       "      <td>0</td>\n",
       "      <td>55.0</td>\n",
       "      <td>...</td>\n",
       "      <td>2383.0</td>\n",
       "      <td>55.0</td>\n",
       "      <td>14.0</td>\n",
       "      <td>1.0</td>\n",
       "      <td>2385.0</td>\n",
       "      <td>55.0</td>\n",
       "      <td>12.0</td>\n",
       "      <td>0.0</td>\n",
       "      <td>2385.0</td>\n",
       "      <td>鸡蛋</td>\n",
       "    </tr>\n",
       "    <tr>\n",
       "      <th>3</th>\n",
       "      <td>569390163639</td>\n",
       "      <td>蛋</td>\n",
       "      <td>正宗农村农家野外散养土鸡蛋 新鲜草鸡蛋柴笨鸡蛋 富硒土鸡蛋30枚</td>\n",
       "      <td>7a6d2e534db34688</td>\n",
       "      <td>43.8</td>\n",
       "      <td>0.0</td>\n",
       "      <td>安徽 安庆</td>\n",
       "      <td>净含量：1350g||包装方式：食用农产品||枚数：30枚||产地：中国大陆||省份：安徽省...</td>\n",
       "      <td>0</td>\n",
       "      <td>43.8</td>\n",
       "      <td>...</td>\n",
       "      <td>13759.0</td>\n",
       "      <td>43.8</td>\n",
       "      <td>76.0</td>\n",
       "      <td>5.0</td>\n",
       "      <td>13770.0</td>\n",
       "      <td>43.8</td>\n",
       "      <td>42.0</td>\n",
       "      <td>1.0</td>\n",
       "      <td>13776.0</td>\n",
       "      <td>鸡蛋</td>\n",
       "    </tr>\n",
       "    <tr>\n",
       "      <th>4</th>\n",
       "      <td>572170484146</td>\n",
       "      <td>蛋</td>\n",
       "      <td>野外散养土鸡蛋农家散养树林柴鸡蛋农村草鸡蛋新鲜当日鸡蛋30枚装</td>\n",
       "      <td>b4c281826b800e11</td>\n",
       "      <td>79.0</td>\n",
       "      <td>0.0</td>\n",
       "      <td>安徽 宣城</td>\n",
       "      <td>包装方式：食用农产品||产地：中国大陆||省份：安徽省||城市：宣城市||枚数：30枚||净...</td>\n",
       "      <td>0</td>\n",
       "      <td>39.5</td>\n",
       "      <td>...</td>\n",
       "      <td>12088.0</td>\n",
       "      <td>39.5</td>\n",
       "      <td>2.0</td>\n",
       "      <td>0.0</td>\n",
       "      <td>13200.0</td>\n",
       "      <td>39.5</td>\n",
       "      <td>2.0</td>\n",
       "      <td>0.0</td>\n",
       "      <td>15004.0</td>\n",
       "      <td>柴鸡蛋</td>\n",
       "    </tr>\n",
       "    <tr>\n",
       "      <th>...</th>\n",
       "      <td>...</td>\n",
       "      <td>...</td>\n",
       "      <td>...</td>\n",
       "      <td>...</td>\n",
       "      <td>...</td>\n",
       "      <td>...</td>\n",
       "      <td>...</td>\n",
       "      <td>...</td>\n",
       "      <td>...</td>\n",
       "      <td>...</td>\n",
       "      <td>...</td>\n",
       "      <td>...</td>\n",
       "      <td>...</td>\n",
       "      <td>...</td>\n",
       "      <td>...</td>\n",
       "      <td>...</td>\n",
       "      <td>...</td>\n",
       "      <td>...</td>\n",
       "      <td>...</td>\n",
       "      <td>...</td>\n",
       "      <td>...</td>\n",
       "    </tr>\n",
       "    <tr>\n",
       "      <th>18894</th>\n",
       "      <td>554122150495</td>\n",
       "      <td>水果</td>\n",
       "      <td>鲜故事 圣女果小黄瓜5斤混装小番茄新鲜樱桃西红柿水果黄瓜小柿子</td>\n",
       "      <td>c5b1541973c2e732</td>\n",
       "      <td>42.0</td>\n",
       "      <td>0.0</td>\n",
       "      <td>山东 潍坊</td>\n",
       "      <td>生产日期：2017年06月23日 至 2017年06月25日||产地：中国大陆||省份：山东...</td>\n",
       "      <td>1</td>\n",
       "      <td>39.8</td>\n",
       "      <td>...</td>\n",
       "      <td>-1.0</td>\n",
       "      <td>39.8</td>\n",
       "      <td>13094.0</td>\n",
       "      <td>7153.0</td>\n",
       "      <td>-1.0</td>\n",
       "      <td>39.8</td>\n",
       "      <td>15146.0</td>\n",
       "      <td>6182.0</td>\n",
       "      <td>-1.0</td>\n",
       "      <td>樱桃</td>\n",
       "    </tr>\n",
       "    <tr>\n",
       "      <th>18895</th>\n",
       "      <td>565973303002</td>\n",
       "      <td>水果</td>\n",
       "      <td>山东特产莱阳梨当季新鲜时令水果香梨子 烟台贡梨慈梨5斤整箱包邮</td>\n",
       "      <td>2b9b4fb87b0336f8</td>\n",
       "      <td>39.0</td>\n",
       "      <td>0.0</td>\n",
       "      <td>山东 烟台</td>\n",
       "      <td>生产日期：2018年09月21日 至 2018年09月23日||品牌：LAIYANG PEA...</td>\n",
       "      <td>1</td>\n",
       "      <td>26.8</td>\n",
       "      <td>...</td>\n",
       "      <td>-1.0</td>\n",
       "      <td>29.8</td>\n",
       "      <td>219.0</td>\n",
       "      <td>151.0</td>\n",
       "      <td>-1.0</td>\n",
       "      <td>29.8</td>\n",
       "      <td>241.0</td>\n",
       "      <td>98.0</td>\n",
       "      <td>-1.0</td>\n",
       "      <td>香梨</td>\n",
       "    </tr>\n",
       "    <tr>\n",
       "      <th>18896</th>\n",
       "      <td>580245163878</td>\n",
       "      <td>水果</td>\n",
       "      <td>福建番石榴红心芭乐果混装5斤新鲜水果白心巴乐包邮蕃石榴潘石榴</td>\n",
       "      <td>d409413ea2111090</td>\n",
       "      <td>68.0</td>\n",
       "      <td>0.0</td>\n",
       "      <td>福建 漳州</td>\n",
       "      <td>生产日期：2018年10月19日 至 2018年10月19日||品牌：世纪村||系列：芭乐|...</td>\n",
       "      <td>1</td>\n",
       "      <td>22.8</td>\n",
       "      <td>...</td>\n",
       "      <td>-1.0</td>\n",
       "      <td>24.8</td>\n",
       "      <td>1255.0</td>\n",
       "      <td>377.0</td>\n",
       "      <td>-1.0</td>\n",
       "      <td>24.8</td>\n",
       "      <td>1326.0</td>\n",
       "      <td>223.0</td>\n",
       "      <td>-1.0</td>\n",
       "      <td>番石榴</td>\n",
       "    </tr>\n",
       "    <tr>\n",
       "      <th>18897</th>\n",
       "      <td>544935851035</td>\n",
       "      <td>水果</td>\n",
       "      <td>10斤包邮正宗湖南常德石门秀萍柑橘橘子桔子现摘早熟新鲜皮薄蜜桔</td>\n",
       "      <td>e9a1c946660f5d0a</td>\n",
       "      <td>31.8</td>\n",
       "      <td>0.0</td>\n",
       "      <td>湖南 常德</td>\n",
       "      <td>包装方式：食用农产品||水果种类：其他||产地：中国大陆||省份：湖南省||城市：常德市||...</td>\n",
       "      <td>0</td>\n",
       "      <td>34.8</td>\n",
       "      <td>...</td>\n",
       "      <td>800.0</td>\n",
       "      <td>45.8</td>\n",
       "      <td>692.0</td>\n",
       "      <td>0.0</td>\n",
       "      <td>800.0</td>\n",
       "      <td>45.8</td>\n",
       "      <td>411.0</td>\n",
       "      <td>0.0</td>\n",
       "      <td>800.0</td>\n",
       "      <td>柑橘</td>\n",
       "    </tr>\n",
       "    <tr>\n",
       "      <th>18898</th>\n",
       "      <td>534626465863</td>\n",
       "      <td>水果</td>\n",
       "      <td>欢乐家黄桃罐头256gX6罐新鲜糖水砀山黄桃罐头水果整箱玻璃瓶批发</td>\n",
       "      <td>7b0552767a1a471c</td>\n",
       "      <td>60.0</td>\n",
       "      <td>0.0</td>\n",
       "      <td>湖北 武汉</td>\n",
       "      <td>生产日期：2018年07月30日 至 2018年07月31日||净含量：1536g||包装方...</td>\n",
       "      <td>1</td>\n",
       "      <td>19.9</td>\n",
       "      <td>...</td>\n",
       "      <td>-1.0</td>\n",
       "      <td>29.9</td>\n",
       "      <td>33154.0</td>\n",
       "      <td>27250.0</td>\n",
       "      <td>-1.0</td>\n",
       "      <td>29.9</td>\n",
       "      <td>37223.0</td>\n",
       "      <td>14391.0</td>\n",
       "      <td>-1.0</td>\n",
       "      <td>其他</td>\n",
       "    </tr>\n",
       "  </tbody>\n",
       "</table>\n",
       "<p>18899 rows × 34 columns</p>\n",
       "</div>"
      ],
      "text/plain": [
       "                 ID  品类                                 标题               店铺名   \n",
       "0      567797118294   蛋      [山客自养] 绿色有机土鸡蛋 农村散养 20枚装 破蛋包赔  267f241390522d93  \\\n",
       "1      554095491655   蛋            超大蛋3斤鸵鸟蛋新鲜送礼土豪蛋自家养殖破损包赔  d32a9408880d6d3b   \n",
       "2      550183128850   蛋         天飨村 咕叽咕叽农家散养新鲜纯天然30枚 粉壳土鸡蛋  891d50a4b916c106   \n",
       "3      569390163639   蛋   正宗农村农家野外散养土鸡蛋 新鲜草鸡蛋柴笨鸡蛋 富硒土鸡蛋30枚  7a6d2e534db34688   \n",
       "4      572170484146   蛋    野外散养土鸡蛋农家散养树林柴鸡蛋农村草鸡蛋新鲜当日鸡蛋30枚装  b4c281826b800e11   \n",
       "...             ...  ..                                ...               ...   \n",
       "18894  554122150495  水果    鲜故事 圣女果小黄瓜5斤混装小番茄新鲜樱桃西红柿水果黄瓜小柿子  c5b1541973c2e732   \n",
       "18895  565973303002  水果    山东特产莱阳梨当季新鲜时令水果香梨子 烟台贡梨慈梨5斤整箱包邮  2b9b4fb87b0336f8   \n",
       "18896  580245163878  水果     福建番石榴红心芭乐果混装5斤新鲜水果白心巴乐包邮蕃石榴潘石榴  d409413ea2111090   \n",
       "18897  544935851035  水果    10斤包邮正宗湖南常德石门秀萍柑橘橘子桔子现摘早熟新鲜皮薄蜜桔  e9a1c946660f5d0a   \n",
       "18898  534626465863  水果  欢乐家黄桃罐头256gX6罐新鲜糖水砀山黄桃罐头水果整箱玻璃瓶批发  7b0552767a1a471c   \n",
       "\n",
       "          原价   快递费   快递地区                                               基本信息   \n",
       "0       56.2  12.0     吉林  包装方式：食用农产品||产地：中国大陆||省份：吉林省||城市：吉林市||枚数：20枚||净...  \\\n",
       "1      175.0   0.0  山东 淄博  包装方式：食用农产品||生鲜储存温度：0-8℃||产地：中国大陆||省份：山东省||城市：淄...   \n",
       "2       55.0   0.0  湖南 长沙  包装方式：食用农产品||同城服务：同城24小时卖家送货上门||售卖方式：组合||是否为有机食...   \n",
       "3       43.8   0.0  安徽 安庆  净含量：1350g||包装方式：食用农产品||枚数：30枚||产地：中国大陆||省份：安徽省...   \n",
       "4       79.0   0.0  安徽 宣城  包装方式：食用农产品||产地：中国大陆||省份：安徽省||城市：宣城市||枚数：30枚||净...   \n",
       "...      ...   ...    ...                                                ...   \n",
       "18894   42.0   0.0  山东 潍坊  生产日期：2017年06月23日 至 2017年06月25日||产地：中国大陆||省份：山东...   \n",
       "18895   39.0   0.0  山东 烟台  生产日期：2018年09月21日 至 2018年09月23日||品牌：LAIYANG PEA...   \n",
       "18896   68.0   0.0  福建 漳州  生产日期：2018年10月19日 至 2018年10月19日||品牌：世纪村||系列：芭乐|...   \n",
       "18897   31.8   0.0  湖南 常德  包装方式：食用农产品||水果种类：其他||产地：中国大陆||省份：湖南省||城市：常德市||...   \n",
       "18898   60.0   0.0  湖北 武汉  生产日期：2018年07月30日 至 2018年07月31日||净含量：1536g||包装方...   \n",
       "\n",
       "       是否天猫  活动价 1  ...     信誉 4  活动价 5   累计评价 5    月销量 5     信誉 5  活动价 6   \n",
       "0         0   56.2  ...    928.0   56.2      4.0      0.0    938.0   56.2  \\\n",
       "1         0  178.0  ...   9340.0  155.0    232.0    109.0   9541.0  135.0   \n",
       "2         0   55.0  ...   2383.0   55.0     14.0      1.0   2385.0   55.0   \n",
       "3         0   43.8  ...  13759.0   43.8     76.0      5.0  13770.0   43.8   \n",
       "4         0   39.5  ...  12088.0   39.5      2.0      0.0  13200.0   39.5   \n",
       "...     ...    ...  ...      ...    ...      ...      ...      ...    ...   \n",
       "18894     1   39.8  ...     -1.0   39.8  13094.0   7153.0     -1.0   39.8   \n",
       "18895     1   26.8  ...     -1.0   29.8    219.0    151.0     -1.0   29.8   \n",
       "18896     1   22.8  ...     -1.0   24.8   1255.0    377.0     -1.0   24.8   \n",
       "18897     0   34.8  ...    800.0   45.8    692.0      0.0    800.0   45.8   \n",
       "18898     1   19.9  ...     -1.0   29.9  33154.0  27250.0     -1.0   29.9   \n",
       "\n",
       "        累计评价 6    月销量 6     信誉 6  商品名  \n",
       "0          0.0      0.0    939.0   鸡蛋  \n",
       "1        205.0    158.0   9919.0  鸵鸟蛋  \n",
       "2         12.0      0.0   2385.0   鸡蛋  \n",
       "3         42.0      1.0  13776.0   鸡蛋  \n",
       "4          2.0      0.0  15004.0  柴鸡蛋  \n",
       "...        ...      ...      ...  ...  \n",
       "18894  15146.0   6182.0     -1.0   樱桃  \n",
       "18895    241.0     98.0     -1.0   香梨  \n",
       "18896   1326.0    223.0     -1.0  番石榴  \n",
       "18897    411.0      0.0    800.0   柑橘  \n",
       "18898  37223.0  14391.0     -1.0   其他  \n",
       "\n",
       "[18899 rows x 34 columns]"
      ]
     },
     "execution_count": 53,
     "metadata": {},
     "output_type": "execute_result"
    }
   ],
   "source": [
    "data"
   ]
  },
  {
   "cell_type": "markdown",
   "id": "4a3db9fd-6bb2-4d68-9f54-e7ea79dd4313",
   "metadata": {},
   "source": [
    "<p>（2）产地提取</p>\n",
    "<p>新建 3 列，用于存放经济体、省份、地级市，并赋初值'其他'：</p>"
   ]
  },
  {
   "cell_type": "code",
   "execution_count": 54,
   "id": "e30a289c-fa8e-4a7f-830a-9beaaf83e993",
   "metadata": {
    "execution": {
     "iopub.execute_input": "2023-04-22T14:49:37.798367Z",
     "iopub.status.busy": "2023-04-22T14:49:37.798367Z",
     "iopub.status.idle": "2023-04-22T14:49:37.802367Z",
     "shell.execute_reply": "2023-04-22T14:49:37.802367Z",
     "shell.execute_reply.started": "2023-04-22T14:49:37.798367Z"
    },
    "tags": []
   },
   "outputs": [],
   "source": [
    "#产地提取，精确到地级市\n",
    "data['经济体'] = '其他'\n",
    "data['省份'] = '其他'\n",
    "data['地级市'] = '其他'"
   ]
  },
  {
   "cell_type": "markdown",
   "id": "005a5c4e-3a35-4bff-bbe9-2514349fc2e3",
   "metadata": {},
   "source": [
    "构建正则表达式，用于提取："
   ]
  },
  {
   "cell_type": "code",
   "execution_count": 55,
   "id": "32855f00-3334-407a-9f76-1e21a4dc38dd",
   "metadata": {
    "execution": {
     "iopub.execute_input": "2023-04-22T14:49:53.976727Z",
     "iopub.status.busy": "2023-04-22T14:49:53.976197Z",
     "iopub.status.idle": "2023-04-22T14:49:53.980986Z",
     "shell.execute_reply": "2023-04-22T14:49:53.980451Z",
     "shell.execute_reply.started": "2023-04-22T14:49:53.976727Z"
    },
    "tags": []
   },
   "outputs": [],
   "source": [
    "pattern1 = re.compile('产地：(.+?)\\|\\|')\n",
    "pattern2 = re.compile('省份：(.+?)\\|\\|')\n",
    "pattern3 = re.compile('城市：(.+?)\\|\\|')"
   ]
  },
  {
   "cell_type": "markdown",
   "id": "d2705318-7af9-4403-bff6-81629bf3e7fb",
   "metadata": {},
   "source": [
    "提取相应地名："
   ]
  },
  {
   "cell_type": "code",
   "execution_count": null,
   "id": "6d4ddeff-fb00-4d79-89e1-ac677da69c3f",
   "metadata": {
    "tags": []
   },
   "outputs": [],
   "source": [
    "for i in range(len(data)):\n",
    "    data['经济体'][i] = pattern1.findall(data['基本信息'][i])\n",
    "    data['省份'][i] = pattern2.findall(data['基本信息'][i])\n",
    "    data['地级市'][i] = pattern3.findall(data['基本信息'][i])"
   ]
  },
  {
   "cell_type": "code",
   "execution_count": 57,
   "id": "bedc0dfd-0c07-4796-9494-f034a0f43d0a",
   "metadata": {
    "execution": {
     "iopub.execute_input": "2023-04-22T14:50:38.924144Z",
     "iopub.status.busy": "2023-04-22T14:50:38.923144Z",
     "iopub.status.idle": "2023-04-22T14:50:38.972145Z",
     "shell.execute_reply": "2023-04-22T14:50:38.971147Z",
     "shell.execute_reply.started": "2023-04-22T14:50:38.924144Z"
    },
    "tags": []
   },
   "outputs": [
    {
     "data": {
      "text/html": [
       "<div>\n",
       "<style scoped>\n",
       "    .dataframe tbody tr th:only-of-type {\n",
       "        vertical-align: middle;\n",
       "    }\n",
       "\n",
       "    .dataframe tbody tr th {\n",
       "        vertical-align: top;\n",
       "    }\n",
       "\n",
       "    .dataframe thead th {\n",
       "        text-align: right;\n",
       "    }\n",
       "</style>\n",
       "<table border=\"1\" class=\"dataframe\">\n",
       "  <thead>\n",
       "    <tr style=\"text-align: right;\">\n",
       "      <th></th>\n",
       "      <th>ID</th>\n",
       "      <th>品类</th>\n",
       "      <th>标题</th>\n",
       "      <th>店铺名</th>\n",
       "      <th>原价</th>\n",
       "      <th>快递费</th>\n",
       "      <th>快递地区</th>\n",
       "      <th>基本信息</th>\n",
       "      <th>是否天猫</th>\n",
       "      <th>活动价 1</th>\n",
       "      <th>...</th>\n",
       "      <th>月销量 5</th>\n",
       "      <th>信誉 5</th>\n",
       "      <th>活动价 6</th>\n",
       "      <th>累计评价 6</th>\n",
       "      <th>月销量 6</th>\n",
       "      <th>信誉 6</th>\n",
       "      <th>商品名</th>\n",
       "      <th>经济体</th>\n",
       "      <th>省份</th>\n",
       "      <th>地级市</th>\n",
       "    </tr>\n",
       "  </thead>\n",
       "  <tbody>\n",
       "    <tr>\n",
       "      <th>0</th>\n",
       "      <td>567797118294</td>\n",
       "      <td>蛋</td>\n",
       "      <td>[山客自养] 绿色有机土鸡蛋 农村散养 20枚装 破蛋包赔</td>\n",
       "      <td>267f241390522d93</td>\n",
       "      <td>56.2</td>\n",
       "      <td>12.0</td>\n",
       "      <td>吉林</td>\n",
       "      <td>包装方式：食用农产品||产地：中国大陆||省份：吉林省||城市：吉林市||枚数：20枚||净...</td>\n",
       "      <td>0</td>\n",
       "      <td>56.2</td>\n",
       "      <td>...</td>\n",
       "      <td>0.0</td>\n",
       "      <td>938.0</td>\n",
       "      <td>56.2</td>\n",
       "      <td>0.0</td>\n",
       "      <td>0.0</td>\n",
       "      <td>939.0</td>\n",
       "      <td>鸡蛋</td>\n",
       "      <td>[中国大陆]</td>\n",
       "      <td>[吉林省]</td>\n",
       "      <td>[吉林市]</td>\n",
       "    </tr>\n",
       "    <tr>\n",
       "      <th>1</th>\n",
       "      <td>554095491655</td>\n",
       "      <td>蛋</td>\n",
       "      <td>超大蛋3斤鸵鸟蛋新鲜送礼土豪蛋自家养殖破损包赔</td>\n",
       "      <td>d32a9408880d6d3b</td>\n",
       "      <td>175.0</td>\n",
       "      <td>0.0</td>\n",
       "      <td>山东 淄博</td>\n",
       "      <td>包装方式：食用农产品||生鲜储存温度：0-8℃||产地：中国大陆||省份：山东省||城市：淄...</td>\n",
       "      <td>0</td>\n",
       "      <td>178.0</td>\n",
       "      <td>...</td>\n",
       "      <td>109.0</td>\n",
       "      <td>9541.0</td>\n",
       "      <td>135.0</td>\n",
       "      <td>205.0</td>\n",
       "      <td>158.0</td>\n",
       "      <td>9919.0</td>\n",
       "      <td>鸵鸟蛋</td>\n",
       "      <td>[中国大陆]</td>\n",
       "      <td>[山东省]</td>\n",
       "      <td>[淄博市]</td>\n",
       "    </tr>\n",
       "    <tr>\n",
       "      <th>2</th>\n",
       "      <td>550183128850</td>\n",
       "      <td>蛋</td>\n",
       "      <td>天飨村 咕叽咕叽农家散养新鲜纯天然30枚 粉壳土鸡蛋</td>\n",
       "      <td>891d50a4b916c106</td>\n",
       "      <td>55.0</td>\n",
       "      <td>0.0</td>\n",
       "      <td>湖南 长沙</td>\n",
       "      <td>包装方式：食用农产品||同城服务：同城24小时卖家送货上门||售卖方式：组合||是否为有机食...</td>\n",
       "      <td>0</td>\n",
       "      <td>55.0</td>\n",
       "      <td>...</td>\n",
       "      <td>1.0</td>\n",
       "      <td>2385.0</td>\n",
       "      <td>55.0</td>\n",
       "      <td>12.0</td>\n",
       "      <td>0.0</td>\n",
       "      <td>2385.0</td>\n",
       "      <td>鸡蛋</td>\n",
       "      <td>[中国大陆]</td>\n",
       "      <td>[湖南省]</td>\n",
       "      <td>[长沙市]</td>\n",
       "    </tr>\n",
       "    <tr>\n",
       "      <th>3</th>\n",
       "      <td>569390163639</td>\n",
       "      <td>蛋</td>\n",
       "      <td>正宗农村农家野外散养土鸡蛋 新鲜草鸡蛋柴笨鸡蛋 富硒土鸡蛋30枚</td>\n",
       "      <td>7a6d2e534db34688</td>\n",
       "      <td>43.8</td>\n",
       "      <td>0.0</td>\n",
       "      <td>安徽 安庆</td>\n",
       "      <td>净含量：1350g||包装方式：食用农产品||枚数：30枚||产地：中国大陆||省份：安徽省...</td>\n",
       "      <td>0</td>\n",
       "      <td>43.8</td>\n",
       "      <td>...</td>\n",
       "      <td>5.0</td>\n",
       "      <td>13770.0</td>\n",
       "      <td>43.8</td>\n",
       "      <td>42.0</td>\n",
       "      <td>1.0</td>\n",
       "      <td>13776.0</td>\n",
       "      <td>鸡蛋</td>\n",
       "      <td>[中国大陆]</td>\n",
       "      <td>[安徽省]</td>\n",
       "      <td>[安庆市]</td>\n",
       "    </tr>\n",
       "    <tr>\n",
       "      <th>4</th>\n",
       "      <td>572170484146</td>\n",
       "      <td>蛋</td>\n",
       "      <td>野外散养土鸡蛋农家散养树林柴鸡蛋农村草鸡蛋新鲜当日鸡蛋30枚装</td>\n",
       "      <td>b4c281826b800e11</td>\n",
       "      <td>79.0</td>\n",
       "      <td>0.0</td>\n",
       "      <td>安徽 宣城</td>\n",
       "      <td>包装方式：食用农产品||产地：中国大陆||省份：安徽省||城市：宣城市||枚数：30枚||净...</td>\n",
       "      <td>0</td>\n",
       "      <td>39.5</td>\n",
       "      <td>...</td>\n",
       "      <td>0.0</td>\n",
       "      <td>13200.0</td>\n",
       "      <td>39.5</td>\n",
       "      <td>2.0</td>\n",
       "      <td>0.0</td>\n",
       "      <td>15004.0</td>\n",
       "      <td>柴鸡蛋</td>\n",
       "      <td>[中国大陆]</td>\n",
       "      <td>[安徽省]</td>\n",
       "      <td>[宣城市]</td>\n",
       "    </tr>\n",
       "    <tr>\n",
       "      <th>...</th>\n",
       "      <td>...</td>\n",
       "      <td>...</td>\n",
       "      <td>...</td>\n",
       "      <td>...</td>\n",
       "      <td>...</td>\n",
       "      <td>...</td>\n",
       "      <td>...</td>\n",
       "      <td>...</td>\n",
       "      <td>...</td>\n",
       "      <td>...</td>\n",
       "      <td>...</td>\n",
       "      <td>...</td>\n",
       "      <td>...</td>\n",
       "      <td>...</td>\n",
       "      <td>...</td>\n",
       "      <td>...</td>\n",
       "      <td>...</td>\n",
       "      <td>...</td>\n",
       "      <td>...</td>\n",
       "      <td>...</td>\n",
       "      <td>...</td>\n",
       "    </tr>\n",
       "    <tr>\n",
       "      <th>18894</th>\n",
       "      <td>554122150495</td>\n",
       "      <td>水果</td>\n",
       "      <td>鲜故事 圣女果小黄瓜5斤混装小番茄新鲜樱桃西红柿水果黄瓜小柿子</td>\n",
       "      <td>c5b1541973c2e732</td>\n",
       "      <td>42.0</td>\n",
       "      <td>0.0</td>\n",
       "      <td>山东 潍坊</td>\n",
       "      <td>生产日期：2017年06月23日 至 2017年06月25日||产地：中国大陆||省份：山东...</td>\n",
       "      <td>1</td>\n",
       "      <td>39.8</td>\n",
       "      <td>...</td>\n",
       "      <td>7153.0</td>\n",
       "      <td>-1.0</td>\n",
       "      <td>39.8</td>\n",
       "      <td>15146.0</td>\n",
       "      <td>6182.0</td>\n",
       "      <td>-1.0</td>\n",
       "      <td>樱桃</td>\n",
       "      <td>[中国大陆]</td>\n",
       "      <td>[山东省]</td>\n",
       "      <td>[]</td>\n",
       "    </tr>\n",
       "    <tr>\n",
       "      <th>18895</th>\n",
       "      <td>565973303002</td>\n",
       "      <td>水果</td>\n",
       "      <td>山东特产莱阳梨当季新鲜时令水果香梨子 烟台贡梨慈梨5斤整箱包邮</td>\n",
       "      <td>2b9b4fb87b0336f8</td>\n",
       "      <td>39.0</td>\n",
       "      <td>0.0</td>\n",
       "      <td>山东 烟台</td>\n",
       "      <td>生产日期：2018年09月21日 至 2018年09月23日||品牌：LAIYANG PEA...</td>\n",
       "      <td>1</td>\n",
       "      <td>26.8</td>\n",
       "      <td>...</td>\n",
       "      <td>151.0</td>\n",
       "      <td>-1.0</td>\n",
       "      <td>29.8</td>\n",
       "      <td>241.0</td>\n",
       "      <td>98.0</td>\n",
       "      <td>-1.0</td>\n",
       "      <td>香梨</td>\n",
       "      <td>[中国大陆, 中国]</td>\n",
       "      <td>[山东省]</td>\n",
       "      <td>[烟台市]</td>\n",
       "    </tr>\n",
       "    <tr>\n",
       "      <th>18896</th>\n",
       "      <td>580245163878</td>\n",
       "      <td>水果</td>\n",
       "      <td>福建番石榴红心芭乐果混装5斤新鲜水果白心巴乐包邮蕃石榴潘石榴</td>\n",
       "      <td>d409413ea2111090</td>\n",
       "      <td>68.0</td>\n",
       "      <td>0.0</td>\n",
       "      <td>福建 漳州</td>\n",
       "      <td>生产日期：2018年10月19日 至 2018年10月19日||品牌：世纪村||系列：芭乐|...</td>\n",
       "      <td>1</td>\n",
       "      <td>22.8</td>\n",
       "      <td>...</td>\n",
       "      <td>377.0</td>\n",
       "      <td>-1.0</td>\n",
       "      <td>24.8</td>\n",
       "      <td>1326.0</td>\n",
       "      <td>223.0</td>\n",
       "      <td>-1.0</td>\n",
       "      <td>番石榴</td>\n",
       "      <td>[中国大陆]</td>\n",
       "      <td>[福建省]</td>\n",
       "      <td>[漳州市]</td>\n",
       "    </tr>\n",
       "    <tr>\n",
       "      <th>18897</th>\n",
       "      <td>544935851035</td>\n",
       "      <td>水果</td>\n",
       "      <td>10斤包邮正宗湖南常德石门秀萍柑橘橘子桔子现摘早熟新鲜皮薄蜜桔</td>\n",
       "      <td>e9a1c946660f5d0a</td>\n",
       "      <td>31.8</td>\n",
       "      <td>0.0</td>\n",
       "      <td>湖南 常德</td>\n",
       "      <td>包装方式：食用农产品||水果种类：其他||产地：中国大陆||省份：湖南省||城市：常德市||...</td>\n",
       "      <td>0</td>\n",
       "      <td>34.8</td>\n",
       "      <td>...</td>\n",
       "      <td>0.0</td>\n",
       "      <td>800.0</td>\n",
       "      <td>45.8</td>\n",
       "      <td>411.0</td>\n",
       "      <td>0.0</td>\n",
       "      <td>800.0</td>\n",
       "      <td>柑橘</td>\n",
       "      <td>[中国大陆]</td>\n",
       "      <td>[湖南省]</td>\n",
       "      <td>[常德市]</td>\n",
       "    </tr>\n",
       "    <tr>\n",
       "      <th>18898</th>\n",
       "      <td>534626465863</td>\n",
       "      <td>水果</td>\n",
       "      <td>欢乐家黄桃罐头256gX6罐新鲜糖水砀山黄桃罐头水果整箱玻璃瓶批发</td>\n",
       "      <td>7b0552767a1a471c</td>\n",
       "      <td>60.0</td>\n",
       "      <td>0.0</td>\n",
       "      <td>湖北 武汉</td>\n",
       "      <td>生产日期：2018年07月30日 至 2018年07月31日||净含量：1536g||包装方...</td>\n",
       "      <td>1</td>\n",
       "      <td>19.9</td>\n",
       "      <td>...</td>\n",
       "      <td>27250.0</td>\n",
       "      <td>-1.0</td>\n",
       "      <td>29.9</td>\n",
       "      <td>37223.0</td>\n",
       "      <td>14391.0</td>\n",
       "      <td>-1.0</td>\n",
       "      <td>其他</td>\n",
       "      <td>[中国大陆]</td>\n",
       "      <td>[湖北省]</td>\n",
       "      <td>[孝感市]</td>\n",
       "    </tr>\n",
       "  </tbody>\n",
       "</table>\n",
       "<p>18899 rows × 37 columns</p>\n",
       "</div>"
      ],
      "text/plain": [
       "                 ID  品类                                 标题               店铺名   \n",
       "0      567797118294   蛋      [山客自养] 绿色有机土鸡蛋 农村散养 20枚装 破蛋包赔  267f241390522d93  \\\n",
       "1      554095491655   蛋            超大蛋3斤鸵鸟蛋新鲜送礼土豪蛋自家养殖破损包赔  d32a9408880d6d3b   \n",
       "2      550183128850   蛋         天飨村 咕叽咕叽农家散养新鲜纯天然30枚 粉壳土鸡蛋  891d50a4b916c106   \n",
       "3      569390163639   蛋   正宗农村农家野外散养土鸡蛋 新鲜草鸡蛋柴笨鸡蛋 富硒土鸡蛋30枚  7a6d2e534db34688   \n",
       "4      572170484146   蛋    野外散养土鸡蛋农家散养树林柴鸡蛋农村草鸡蛋新鲜当日鸡蛋30枚装  b4c281826b800e11   \n",
       "...             ...  ..                                ...               ...   \n",
       "18894  554122150495  水果    鲜故事 圣女果小黄瓜5斤混装小番茄新鲜樱桃西红柿水果黄瓜小柿子  c5b1541973c2e732   \n",
       "18895  565973303002  水果    山东特产莱阳梨当季新鲜时令水果香梨子 烟台贡梨慈梨5斤整箱包邮  2b9b4fb87b0336f8   \n",
       "18896  580245163878  水果     福建番石榴红心芭乐果混装5斤新鲜水果白心巴乐包邮蕃石榴潘石榴  d409413ea2111090   \n",
       "18897  544935851035  水果    10斤包邮正宗湖南常德石门秀萍柑橘橘子桔子现摘早熟新鲜皮薄蜜桔  e9a1c946660f5d0a   \n",
       "18898  534626465863  水果  欢乐家黄桃罐头256gX6罐新鲜糖水砀山黄桃罐头水果整箱玻璃瓶批发  7b0552767a1a471c   \n",
       "\n",
       "          原价   快递费   快递地区                                               基本信息   \n",
       "0       56.2  12.0     吉林  包装方式：食用农产品||产地：中国大陆||省份：吉林省||城市：吉林市||枚数：20枚||净...  \\\n",
       "1      175.0   0.0  山东 淄博  包装方式：食用农产品||生鲜储存温度：0-8℃||产地：中国大陆||省份：山东省||城市：淄...   \n",
       "2       55.0   0.0  湖南 长沙  包装方式：食用农产品||同城服务：同城24小时卖家送货上门||售卖方式：组合||是否为有机食...   \n",
       "3       43.8   0.0  安徽 安庆  净含量：1350g||包装方式：食用农产品||枚数：30枚||产地：中国大陆||省份：安徽省...   \n",
       "4       79.0   0.0  安徽 宣城  包装方式：食用农产品||产地：中国大陆||省份：安徽省||城市：宣城市||枚数：30枚||净...   \n",
       "...      ...   ...    ...                                                ...   \n",
       "18894   42.0   0.0  山东 潍坊  生产日期：2017年06月23日 至 2017年06月25日||产地：中国大陆||省份：山东...   \n",
       "18895   39.0   0.0  山东 烟台  生产日期：2018年09月21日 至 2018年09月23日||品牌：LAIYANG PEA...   \n",
       "18896   68.0   0.0  福建 漳州  生产日期：2018年10月19日 至 2018年10月19日||品牌：世纪村||系列：芭乐|...   \n",
       "18897   31.8   0.0  湖南 常德  包装方式：食用农产品||水果种类：其他||产地：中国大陆||省份：湖南省||城市：常德市||...   \n",
       "18898   60.0   0.0  湖北 武汉  生产日期：2018年07月30日 至 2018年07月31日||净含量：1536g||包装方...   \n",
       "\n",
       "       是否天猫  活动价 1  ...    月销量 5     信誉 5  活动价 6   累计评价 6    月销量 6     信誉 6   \n",
       "0         0   56.2  ...      0.0    938.0   56.2      0.0      0.0    939.0  \\\n",
       "1         0  178.0  ...    109.0   9541.0  135.0    205.0    158.0   9919.0   \n",
       "2         0   55.0  ...      1.0   2385.0   55.0     12.0      0.0   2385.0   \n",
       "3         0   43.8  ...      5.0  13770.0   43.8     42.0      1.0  13776.0   \n",
       "4         0   39.5  ...      0.0  13200.0   39.5      2.0      0.0  15004.0   \n",
       "...     ...    ...  ...      ...      ...    ...      ...      ...      ...   \n",
       "18894     1   39.8  ...   7153.0     -1.0   39.8  15146.0   6182.0     -1.0   \n",
       "18895     1   26.8  ...    151.0     -1.0   29.8    241.0     98.0     -1.0   \n",
       "18896     1   22.8  ...    377.0     -1.0   24.8   1326.0    223.0     -1.0   \n",
       "18897     0   34.8  ...      0.0    800.0   45.8    411.0      0.0    800.0   \n",
       "18898     1   19.9  ...  27250.0     -1.0   29.9  37223.0  14391.0     -1.0   \n",
       "\n",
       "       商品名         经济体     省份    地级市  \n",
       "0       鸡蛋      [中国大陆]  [吉林省]  [吉林市]  \n",
       "1      鸵鸟蛋      [中国大陆]  [山东省]  [淄博市]  \n",
       "2       鸡蛋      [中国大陆]  [湖南省]  [长沙市]  \n",
       "3       鸡蛋      [中国大陆]  [安徽省]  [安庆市]  \n",
       "4      柴鸡蛋      [中国大陆]  [安徽省]  [宣城市]  \n",
       "...    ...         ...    ...    ...  \n",
       "18894   樱桃      [中国大陆]  [山东省]     []  \n",
       "18895   香梨  [中国大陆, 中国]  [山东省]  [烟台市]  \n",
       "18896  番石榴      [中国大陆]  [福建省]  [漳州市]  \n",
       "18897   柑橘      [中国大陆]  [湖南省]  [常德市]  \n",
       "18898   其他      [中国大陆]  [湖北省]  [孝感市]  \n",
       "\n",
       "[18899 rows x 37 columns]"
      ]
     },
     "execution_count": 57,
     "metadata": {},
     "output_type": "execute_result"
    }
   ],
   "source": [
    "data"
   ]
  },
  {
   "cell_type": "markdown",
   "id": "3aaaa6ff-8f28-495a-a555-517abd09d362",
   "metadata": {},
   "source": [
    "从上面可以看出，取出来的地名是列表（[]）类型，需要转化为字符串类型："
   ]
  },
  {
   "cell_type": "code",
   "execution_count": 58,
   "id": "9a7bb922-7254-4eba-bdf8-ac631ce0d799",
   "metadata": {
    "execution": {
     "iopub.execute_input": "2023-04-22T14:51:04.904490Z",
     "iopub.status.busy": "2023-04-22T14:51:04.903490Z",
     "iopub.status.idle": "2023-04-22T14:51:04.960617Z",
     "shell.execute_reply": "2023-04-22T14:51:04.959616Z",
     "shell.execute_reply.started": "2023-04-22T14:51:04.904490Z"
    },
    "tags": []
   },
   "outputs": [],
   "source": [
    "data['经济体'] = data['经济体'].str.get(0)\n",
    "data['省份'] = data['省份'].str.get(0)\n",
    "data['地级市'] = data['地级市'].str.get(0)"
   ]
  },
  {
   "cell_type": "code",
   "execution_count": 59,
   "id": "d1a9bce1-5e1d-45ea-9bfd-af8786593172",
   "metadata": {
    "execution": {
     "iopub.execute_input": "2023-04-22T14:51:10.672024Z",
     "iopub.status.busy": "2023-04-22T14:51:10.672024Z",
     "iopub.status.idle": "2023-04-22T14:51:10.711475Z",
     "shell.execute_reply": "2023-04-22T14:51:10.711024Z",
     "shell.execute_reply.started": "2023-04-22T14:51:10.672024Z"
    },
    "tags": []
   },
   "outputs": [
    {
     "data": {
      "text/html": [
       "<div>\n",
       "<style scoped>\n",
       "    .dataframe tbody tr th:only-of-type {\n",
       "        vertical-align: middle;\n",
       "    }\n",
       "\n",
       "    .dataframe tbody tr th {\n",
       "        vertical-align: top;\n",
       "    }\n",
       "\n",
       "    .dataframe thead th {\n",
       "        text-align: right;\n",
       "    }\n",
       "</style>\n",
       "<table border=\"1\" class=\"dataframe\">\n",
       "  <thead>\n",
       "    <tr style=\"text-align: right;\">\n",
       "      <th></th>\n",
       "      <th>ID</th>\n",
       "      <th>品类</th>\n",
       "      <th>标题</th>\n",
       "      <th>店铺名</th>\n",
       "      <th>原价</th>\n",
       "      <th>快递费</th>\n",
       "      <th>快递地区</th>\n",
       "      <th>基本信息</th>\n",
       "      <th>是否天猫</th>\n",
       "      <th>活动价 1</th>\n",
       "      <th>...</th>\n",
       "      <th>月销量 5</th>\n",
       "      <th>信誉 5</th>\n",
       "      <th>活动价 6</th>\n",
       "      <th>累计评价 6</th>\n",
       "      <th>月销量 6</th>\n",
       "      <th>信誉 6</th>\n",
       "      <th>商品名</th>\n",
       "      <th>经济体</th>\n",
       "      <th>省份</th>\n",
       "      <th>地级市</th>\n",
       "    </tr>\n",
       "  </thead>\n",
       "  <tbody>\n",
       "    <tr>\n",
       "      <th>0</th>\n",
       "      <td>567797118294</td>\n",
       "      <td>蛋</td>\n",
       "      <td>[山客自养] 绿色有机土鸡蛋 农村散养 20枚装 破蛋包赔</td>\n",
       "      <td>267f241390522d93</td>\n",
       "      <td>56.2</td>\n",
       "      <td>12.0</td>\n",
       "      <td>吉林</td>\n",
       "      <td>包装方式：食用农产品||产地：中国大陆||省份：吉林省||城市：吉林市||枚数：20枚||净...</td>\n",
       "      <td>0</td>\n",
       "      <td>56.2</td>\n",
       "      <td>...</td>\n",
       "      <td>0.0</td>\n",
       "      <td>938.0</td>\n",
       "      <td>56.2</td>\n",
       "      <td>0.0</td>\n",
       "      <td>0.0</td>\n",
       "      <td>939.0</td>\n",
       "      <td>鸡蛋</td>\n",
       "      <td>中国大陆</td>\n",
       "      <td>吉林省</td>\n",
       "      <td>吉林市</td>\n",
       "    </tr>\n",
       "    <tr>\n",
       "      <th>1</th>\n",
       "      <td>554095491655</td>\n",
       "      <td>蛋</td>\n",
       "      <td>超大蛋3斤鸵鸟蛋新鲜送礼土豪蛋自家养殖破损包赔</td>\n",
       "      <td>d32a9408880d6d3b</td>\n",
       "      <td>175.0</td>\n",
       "      <td>0.0</td>\n",
       "      <td>山东 淄博</td>\n",
       "      <td>包装方式：食用农产品||生鲜储存温度：0-8℃||产地：中国大陆||省份：山东省||城市：淄...</td>\n",
       "      <td>0</td>\n",
       "      <td>178.0</td>\n",
       "      <td>...</td>\n",
       "      <td>109.0</td>\n",
       "      <td>9541.0</td>\n",
       "      <td>135.0</td>\n",
       "      <td>205.0</td>\n",
       "      <td>158.0</td>\n",
       "      <td>9919.0</td>\n",
       "      <td>鸵鸟蛋</td>\n",
       "      <td>中国大陆</td>\n",
       "      <td>山东省</td>\n",
       "      <td>淄博市</td>\n",
       "    </tr>\n",
       "    <tr>\n",
       "      <th>2</th>\n",
       "      <td>550183128850</td>\n",
       "      <td>蛋</td>\n",
       "      <td>天飨村 咕叽咕叽农家散养新鲜纯天然30枚 粉壳土鸡蛋</td>\n",
       "      <td>891d50a4b916c106</td>\n",
       "      <td>55.0</td>\n",
       "      <td>0.0</td>\n",
       "      <td>湖南 长沙</td>\n",
       "      <td>包装方式：食用农产品||同城服务：同城24小时卖家送货上门||售卖方式：组合||是否为有机食...</td>\n",
       "      <td>0</td>\n",
       "      <td>55.0</td>\n",
       "      <td>...</td>\n",
       "      <td>1.0</td>\n",
       "      <td>2385.0</td>\n",
       "      <td>55.0</td>\n",
       "      <td>12.0</td>\n",
       "      <td>0.0</td>\n",
       "      <td>2385.0</td>\n",
       "      <td>鸡蛋</td>\n",
       "      <td>中国大陆</td>\n",
       "      <td>湖南省</td>\n",
       "      <td>长沙市</td>\n",
       "    </tr>\n",
       "    <tr>\n",
       "      <th>3</th>\n",
       "      <td>569390163639</td>\n",
       "      <td>蛋</td>\n",
       "      <td>正宗农村农家野外散养土鸡蛋 新鲜草鸡蛋柴笨鸡蛋 富硒土鸡蛋30枚</td>\n",
       "      <td>7a6d2e534db34688</td>\n",
       "      <td>43.8</td>\n",
       "      <td>0.0</td>\n",
       "      <td>安徽 安庆</td>\n",
       "      <td>净含量：1350g||包装方式：食用农产品||枚数：30枚||产地：中国大陆||省份：安徽省...</td>\n",
       "      <td>0</td>\n",
       "      <td>43.8</td>\n",
       "      <td>...</td>\n",
       "      <td>5.0</td>\n",
       "      <td>13770.0</td>\n",
       "      <td>43.8</td>\n",
       "      <td>42.0</td>\n",
       "      <td>1.0</td>\n",
       "      <td>13776.0</td>\n",
       "      <td>鸡蛋</td>\n",
       "      <td>中国大陆</td>\n",
       "      <td>安徽省</td>\n",
       "      <td>安庆市</td>\n",
       "    </tr>\n",
       "    <tr>\n",
       "      <th>4</th>\n",
       "      <td>572170484146</td>\n",
       "      <td>蛋</td>\n",
       "      <td>野外散养土鸡蛋农家散养树林柴鸡蛋农村草鸡蛋新鲜当日鸡蛋30枚装</td>\n",
       "      <td>b4c281826b800e11</td>\n",
       "      <td>79.0</td>\n",
       "      <td>0.0</td>\n",
       "      <td>安徽 宣城</td>\n",
       "      <td>包装方式：食用农产品||产地：中国大陆||省份：安徽省||城市：宣城市||枚数：30枚||净...</td>\n",
       "      <td>0</td>\n",
       "      <td>39.5</td>\n",
       "      <td>...</td>\n",
       "      <td>0.0</td>\n",
       "      <td>13200.0</td>\n",
       "      <td>39.5</td>\n",
       "      <td>2.0</td>\n",
       "      <td>0.0</td>\n",
       "      <td>15004.0</td>\n",
       "      <td>柴鸡蛋</td>\n",
       "      <td>中国大陆</td>\n",
       "      <td>安徽省</td>\n",
       "      <td>宣城市</td>\n",
       "    </tr>\n",
       "    <tr>\n",
       "      <th>...</th>\n",
       "      <td>...</td>\n",
       "      <td>...</td>\n",
       "      <td>...</td>\n",
       "      <td>...</td>\n",
       "      <td>...</td>\n",
       "      <td>...</td>\n",
       "      <td>...</td>\n",
       "      <td>...</td>\n",
       "      <td>...</td>\n",
       "      <td>...</td>\n",
       "      <td>...</td>\n",
       "      <td>...</td>\n",
       "      <td>...</td>\n",
       "      <td>...</td>\n",
       "      <td>...</td>\n",
       "      <td>...</td>\n",
       "      <td>...</td>\n",
       "      <td>...</td>\n",
       "      <td>...</td>\n",
       "      <td>...</td>\n",
       "      <td>...</td>\n",
       "    </tr>\n",
       "    <tr>\n",
       "      <th>18894</th>\n",
       "      <td>554122150495</td>\n",
       "      <td>水果</td>\n",
       "      <td>鲜故事 圣女果小黄瓜5斤混装小番茄新鲜樱桃西红柿水果黄瓜小柿子</td>\n",
       "      <td>c5b1541973c2e732</td>\n",
       "      <td>42.0</td>\n",
       "      <td>0.0</td>\n",
       "      <td>山东 潍坊</td>\n",
       "      <td>生产日期：2017年06月23日 至 2017年06月25日||产地：中国大陆||省份：山东...</td>\n",
       "      <td>1</td>\n",
       "      <td>39.8</td>\n",
       "      <td>...</td>\n",
       "      <td>7153.0</td>\n",
       "      <td>-1.0</td>\n",
       "      <td>39.8</td>\n",
       "      <td>15146.0</td>\n",
       "      <td>6182.0</td>\n",
       "      <td>-1.0</td>\n",
       "      <td>樱桃</td>\n",
       "      <td>中国大陆</td>\n",
       "      <td>山东省</td>\n",
       "      <td>NaN</td>\n",
       "    </tr>\n",
       "    <tr>\n",
       "      <th>18895</th>\n",
       "      <td>565973303002</td>\n",
       "      <td>水果</td>\n",
       "      <td>山东特产莱阳梨当季新鲜时令水果香梨子 烟台贡梨慈梨5斤整箱包邮</td>\n",
       "      <td>2b9b4fb87b0336f8</td>\n",
       "      <td>39.0</td>\n",
       "      <td>0.0</td>\n",
       "      <td>山东 烟台</td>\n",
       "      <td>生产日期：2018年09月21日 至 2018年09月23日||品牌：LAIYANG PEA...</td>\n",
       "      <td>1</td>\n",
       "      <td>26.8</td>\n",
       "      <td>...</td>\n",
       "      <td>151.0</td>\n",
       "      <td>-1.0</td>\n",
       "      <td>29.8</td>\n",
       "      <td>241.0</td>\n",
       "      <td>98.0</td>\n",
       "      <td>-1.0</td>\n",
       "      <td>香梨</td>\n",
       "      <td>中国大陆</td>\n",
       "      <td>山东省</td>\n",
       "      <td>烟台市</td>\n",
       "    </tr>\n",
       "    <tr>\n",
       "      <th>18896</th>\n",
       "      <td>580245163878</td>\n",
       "      <td>水果</td>\n",
       "      <td>福建番石榴红心芭乐果混装5斤新鲜水果白心巴乐包邮蕃石榴潘石榴</td>\n",
       "      <td>d409413ea2111090</td>\n",
       "      <td>68.0</td>\n",
       "      <td>0.0</td>\n",
       "      <td>福建 漳州</td>\n",
       "      <td>生产日期：2018年10月19日 至 2018年10月19日||品牌：世纪村||系列：芭乐|...</td>\n",
       "      <td>1</td>\n",
       "      <td>22.8</td>\n",
       "      <td>...</td>\n",
       "      <td>377.0</td>\n",
       "      <td>-1.0</td>\n",
       "      <td>24.8</td>\n",
       "      <td>1326.0</td>\n",
       "      <td>223.0</td>\n",
       "      <td>-1.0</td>\n",
       "      <td>番石榴</td>\n",
       "      <td>中国大陆</td>\n",
       "      <td>福建省</td>\n",
       "      <td>漳州市</td>\n",
       "    </tr>\n",
       "    <tr>\n",
       "      <th>18897</th>\n",
       "      <td>544935851035</td>\n",
       "      <td>水果</td>\n",
       "      <td>10斤包邮正宗湖南常德石门秀萍柑橘橘子桔子现摘早熟新鲜皮薄蜜桔</td>\n",
       "      <td>e9a1c946660f5d0a</td>\n",
       "      <td>31.8</td>\n",
       "      <td>0.0</td>\n",
       "      <td>湖南 常德</td>\n",
       "      <td>包装方式：食用农产品||水果种类：其他||产地：中国大陆||省份：湖南省||城市：常德市||...</td>\n",
       "      <td>0</td>\n",
       "      <td>34.8</td>\n",
       "      <td>...</td>\n",
       "      <td>0.0</td>\n",
       "      <td>800.0</td>\n",
       "      <td>45.8</td>\n",
       "      <td>411.0</td>\n",
       "      <td>0.0</td>\n",
       "      <td>800.0</td>\n",
       "      <td>柑橘</td>\n",
       "      <td>中国大陆</td>\n",
       "      <td>湖南省</td>\n",
       "      <td>常德市</td>\n",
       "    </tr>\n",
       "    <tr>\n",
       "      <th>18898</th>\n",
       "      <td>534626465863</td>\n",
       "      <td>水果</td>\n",
       "      <td>欢乐家黄桃罐头256gX6罐新鲜糖水砀山黄桃罐头水果整箱玻璃瓶批发</td>\n",
       "      <td>7b0552767a1a471c</td>\n",
       "      <td>60.0</td>\n",
       "      <td>0.0</td>\n",
       "      <td>湖北 武汉</td>\n",
       "      <td>生产日期：2018年07月30日 至 2018年07月31日||净含量：1536g||包装方...</td>\n",
       "      <td>1</td>\n",
       "      <td>19.9</td>\n",
       "      <td>...</td>\n",
       "      <td>27250.0</td>\n",
       "      <td>-1.0</td>\n",
       "      <td>29.9</td>\n",
       "      <td>37223.0</td>\n",
       "      <td>14391.0</td>\n",
       "      <td>-1.0</td>\n",
       "      <td>其他</td>\n",
       "      <td>中国大陆</td>\n",
       "      <td>湖北省</td>\n",
       "      <td>孝感市</td>\n",
       "    </tr>\n",
       "  </tbody>\n",
       "</table>\n",
       "<p>18899 rows × 37 columns</p>\n",
       "</div>"
      ],
      "text/plain": [
       "                 ID  品类                                 标题               店铺名   \n",
       "0      567797118294   蛋      [山客自养] 绿色有机土鸡蛋 农村散养 20枚装 破蛋包赔  267f241390522d93  \\\n",
       "1      554095491655   蛋            超大蛋3斤鸵鸟蛋新鲜送礼土豪蛋自家养殖破损包赔  d32a9408880d6d3b   \n",
       "2      550183128850   蛋         天飨村 咕叽咕叽农家散养新鲜纯天然30枚 粉壳土鸡蛋  891d50a4b916c106   \n",
       "3      569390163639   蛋   正宗农村农家野外散养土鸡蛋 新鲜草鸡蛋柴笨鸡蛋 富硒土鸡蛋30枚  7a6d2e534db34688   \n",
       "4      572170484146   蛋    野外散养土鸡蛋农家散养树林柴鸡蛋农村草鸡蛋新鲜当日鸡蛋30枚装  b4c281826b800e11   \n",
       "...             ...  ..                                ...               ...   \n",
       "18894  554122150495  水果    鲜故事 圣女果小黄瓜5斤混装小番茄新鲜樱桃西红柿水果黄瓜小柿子  c5b1541973c2e732   \n",
       "18895  565973303002  水果    山东特产莱阳梨当季新鲜时令水果香梨子 烟台贡梨慈梨5斤整箱包邮  2b9b4fb87b0336f8   \n",
       "18896  580245163878  水果     福建番石榴红心芭乐果混装5斤新鲜水果白心巴乐包邮蕃石榴潘石榴  d409413ea2111090   \n",
       "18897  544935851035  水果    10斤包邮正宗湖南常德石门秀萍柑橘橘子桔子现摘早熟新鲜皮薄蜜桔  e9a1c946660f5d0a   \n",
       "18898  534626465863  水果  欢乐家黄桃罐头256gX6罐新鲜糖水砀山黄桃罐头水果整箱玻璃瓶批发  7b0552767a1a471c   \n",
       "\n",
       "          原价   快递费   快递地区                                               基本信息   \n",
       "0       56.2  12.0     吉林  包装方式：食用农产品||产地：中国大陆||省份：吉林省||城市：吉林市||枚数：20枚||净...  \\\n",
       "1      175.0   0.0  山东 淄博  包装方式：食用农产品||生鲜储存温度：0-8℃||产地：中国大陆||省份：山东省||城市：淄...   \n",
       "2       55.0   0.0  湖南 长沙  包装方式：食用农产品||同城服务：同城24小时卖家送货上门||售卖方式：组合||是否为有机食...   \n",
       "3       43.8   0.0  安徽 安庆  净含量：1350g||包装方式：食用农产品||枚数：30枚||产地：中国大陆||省份：安徽省...   \n",
       "4       79.0   0.0  安徽 宣城  包装方式：食用农产品||产地：中国大陆||省份：安徽省||城市：宣城市||枚数：30枚||净...   \n",
       "...      ...   ...    ...                                                ...   \n",
       "18894   42.0   0.0  山东 潍坊  生产日期：2017年06月23日 至 2017年06月25日||产地：中国大陆||省份：山东...   \n",
       "18895   39.0   0.0  山东 烟台  生产日期：2018年09月21日 至 2018年09月23日||品牌：LAIYANG PEA...   \n",
       "18896   68.0   0.0  福建 漳州  生产日期：2018年10月19日 至 2018年10月19日||品牌：世纪村||系列：芭乐|...   \n",
       "18897   31.8   0.0  湖南 常德  包装方式：食用农产品||水果种类：其他||产地：中国大陆||省份：湖南省||城市：常德市||...   \n",
       "18898   60.0   0.0  湖北 武汉  生产日期：2018年07月30日 至 2018年07月31日||净含量：1536g||包装方...   \n",
       "\n",
       "       是否天猫  活动价 1  ...    月销量 5     信誉 5  活动价 6   累计评价 6    月销量 6     信誉 6   \n",
       "0         0   56.2  ...      0.0    938.0   56.2      0.0      0.0    939.0  \\\n",
       "1         0  178.0  ...    109.0   9541.0  135.0    205.0    158.0   9919.0   \n",
       "2         0   55.0  ...      1.0   2385.0   55.0     12.0      0.0   2385.0   \n",
       "3         0   43.8  ...      5.0  13770.0   43.8     42.0      1.0  13776.0   \n",
       "4         0   39.5  ...      0.0  13200.0   39.5      2.0      0.0  15004.0   \n",
       "...     ...    ...  ...      ...      ...    ...      ...      ...      ...   \n",
       "18894     1   39.8  ...   7153.0     -1.0   39.8  15146.0   6182.0     -1.0   \n",
       "18895     1   26.8  ...    151.0     -1.0   29.8    241.0     98.0     -1.0   \n",
       "18896     1   22.8  ...    377.0     -1.0   24.8   1326.0    223.0     -1.0   \n",
       "18897     0   34.8  ...      0.0    800.0   45.8    411.0      0.0    800.0   \n",
       "18898     1   19.9  ...  27250.0     -1.0   29.9  37223.0  14391.0     -1.0   \n",
       "\n",
       "       商品名   经济体   省份  地级市  \n",
       "0       鸡蛋  中国大陆  吉林省  吉林市  \n",
       "1      鸵鸟蛋  中国大陆  山东省  淄博市  \n",
       "2       鸡蛋  中国大陆  湖南省  长沙市  \n",
       "3       鸡蛋  中国大陆  安徽省  安庆市  \n",
       "4      柴鸡蛋  中国大陆  安徽省  宣城市  \n",
       "...    ...   ...  ...  ...  \n",
       "18894   樱桃  中国大陆  山东省  NaN  \n",
       "18895   香梨  中国大陆  山东省  烟台市  \n",
       "18896  番石榴  中国大陆  福建省  漳州市  \n",
       "18897   柑橘  中国大陆  湖南省  常德市  \n",
       "18898   其他  中国大陆  湖北省  孝感市  \n",
       "\n",
       "[18899 rows x 37 columns]"
      ]
     },
     "execution_count": 59,
     "metadata": {},
     "output_type": "execute_result"
    }
   ],
   "source": [
    "data"
   ]
  },
  {
   "cell_type": "markdown",
   "id": "c65a8153-8d4c-46e8-b1ef-13c678160f36",
   "metadata": {},
   "source": [
    "填充缺失值为''："
   ]
  },
  {
   "cell_type": "code",
   "execution_count": 60,
   "id": "c661be24-32e9-4ec2-916c-a4298f1df3bf",
   "metadata": {
    "execution": {
     "iopub.execute_input": "2023-04-22T14:51:49.577188Z",
     "iopub.status.busy": "2023-04-22T14:51:49.577188Z",
     "iopub.status.idle": "2023-04-22T14:51:49.584188Z",
     "shell.execute_reply": "2023-04-22T14:51:49.584188Z",
     "shell.execute_reply.started": "2023-04-22T14:51:49.577188Z"
    },
    "tags": []
   },
   "outputs": [],
   "source": [
    "data['省份'].fillna('', inplace=True)\n",
    "data['地级市'].fillna('', inplace=True)"
   ]
  },
  {
   "cell_type": "markdown",
   "id": "888a8a69-fa5f-495c-a306-bd0dddabad50",
   "metadata": {},
   "source": [
    "对“经济体”为“中国大陆”且“地级市”没有赋值的，用“快递地区”填充："
   ]
  },
  {
   "cell_type": "code",
   "execution_count": 61,
   "id": "ce447d28-b021-498d-8e06-d88823331f61",
   "metadata": {
    "execution": {
     "iopub.execute_input": "2023-04-22T14:52:47.879886Z",
     "iopub.status.busy": "2023-04-22T14:52:47.878885Z",
     "iopub.status.idle": "2023-04-22T14:52:48.076907Z",
     "shell.execute_reply": "2023-04-22T14:52:48.076907Z",
     "shell.execute_reply.started": "2023-04-22T14:52:47.879886Z"
    },
    "tags": []
   },
   "outputs": [],
   "source": [
    "for i in range(len(data)):\n",
    "    if data['经济体'][i]=='中国大陆' and data['地级市'][i]=='':\n",
    "        tmp = data['快递地区'][i].split(' ')\n",
    "        if len(tmp)==2:\n",
    "            data['省份'][i] = tmp[0]\n",
    "            data['地级市'][i] = tmp[1]"
   ]
  },
  {
   "cell_type": "markdown",
   "id": "b3dce13f-4f56-43fa-8dbf-9e4c50948e2a",
   "metadata": {},
   "source": [
    "<p>（3）品牌提取</p>\n",
    "<p>新增 1 列，用于存放&ldquo;品牌&rdquo;，赋初值''：</p>"
   ]
  },
  {
   "cell_type": "code",
   "execution_count": 62,
   "id": "cc56de41-75d3-49f2-bba4-7896e63f8aec",
   "metadata": {
    "execution": {
     "iopub.execute_input": "2023-04-22T14:53:08.599512Z",
     "iopub.status.busy": "2023-04-22T14:53:08.599512Z",
     "iopub.status.idle": "2023-04-22T14:53:08.603516Z",
     "shell.execute_reply": "2023-04-22T14:53:08.603516Z",
     "shell.execute_reply.started": "2023-04-22T14:53:08.599512Z"
    },
    "tags": []
   },
   "outputs": [],
   "source": [
    "data['品牌'] = ''"
   ]
  },
  {
   "cell_type": "markdown",
   "id": "1d7420ad-7d1e-48e0-8c06-765846b34759",
   "metadata": {},
   "source": [
    "用正则式提取品牌名："
   ]
  },
  {
   "cell_type": "code",
   "execution_count": null,
   "id": "98b53f9b-0834-4671-b0ef-589a7b609825",
   "metadata": {
    "tags": []
   },
   "outputs": [],
   "source": [
    "pattern4 = re.compile('品牌：(.+?)\\|\\|')\n",
    "for i in range(len(data)):\n",
    "    data['品牌'][i] = pattern4.findall(data['基本信息'][i])"
   ]
  },
  {
   "cell_type": "markdown",
   "id": "87467abc-ca11-4f8f-835a-4231dc839465",
   "metadata": {},
   "source": [
    "提取的品牌名是列表类型，转换为字符串："
   ]
  },
  {
   "cell_type": "code",
   "execution_count": 64,
   "id": "ae35f85b-40fa-4cb1-b6d6-86f69fb688cb",
   "metadata": {
    "execution": {
     "iopub.execute_input": "2023-04-22T14:54:10.577338Z",
     "iopub.status.busy": "2023-04-22T14:54:10.577338Z",
     "iopub.status.idle": "2023-04-22T14:54:10.590336Z",
     "shell.execute_reply": "2023-04-22T14:54:10.590336Z",
     "shell.execute_reply.started": "2023-04-22T14:54:10.577338Z"
    },
    "tags": []
   },
   "outputs": [],
   "source": [
    "data['品牌'] = data['品牌'].str.get(0)\n",
    "data['品牌'].fillna('', inplace=True)"
   ]
  },
  {
   "cell_type": "code",
   "execution_count": 65,
   "id": "760f4c06-0b55-4fff-bed9-059b4172901d",
   "metadata": {
    "execution": {
     "iopub.execute_input": "2023-04-22T14:54:13.952044Z",
     "iopub.status.busy": "2023-04-22T14:54:13.951437Z",
     "iopub.status.idle": "2023-04-22T14:54:13.957898Z",
     "shell.execute_reply": "2023-04-22T14:54:13.957361Z",
     "shell.execute_reply.started": "2023-04-22T14:54:13.952044Z"
    },
    "tags": []
   },
   "outputs": [
    {
     "data": {
      "text/plain": [
       "0                        \n",
       "1                        \n",
       "2                        \n",
       "3                        \n",
       "4                        \n",
       "               ...       \n",
       "18894                 鲜故事\n",
       "18895    LAIYANG PEAR/莱阳梨\n",
       "18896                 世纪村\n",
       "18897                石门柑橘\n",
       "18898                 欢乐家\n",
       "Name: 品牌, Length: 18899, dtype: object"
      ]
     },
     "execution_count": 65,
     "metadata": {},
     "output_type": "execute_result"
    }
   ],
   "source": [
    "data['品牌']"
   ]
  },
  {
   "cell_type": "markdown",
   "id": "ecae8b39-a350-492e-8901-9bc1ea52e21f",
   "metadata": {},
   "source": [
    "选取后续用到的列："
   ]
  },
  {
   "cell_type": "code",
   "execution_count": 66,
   "id": "f3321ca5-6dcd-4502-9e92-41210def8865",
   "metadata": {
    "execution": {
     "iopub.execute_input": "2023-04-22T14:54:43.424733Z",
     "iopub.status.busy": "2023-04-22T14:54:43.424733Z",
     "iopub.status.idle": "2023-04-22T14:54:43.434732Z",
     "shell.execute_reply": "2023-04-22T14:54:43.434732Z",
     "shell.execute_reply.started": "2023-04-22T14:54:43.424733Z"
    },
    "tags": []
   },
   "outputs": [],
   "source": [
    "data = data[['ID','品类','商品名','品牌','店铺名','经济体','省份','地级市','原价','快递费','是否天猫','活动价 1','月销量 1','累计评价 1','信誉 1','活动价 2','月销量 2','累计评价 2','信誉 2','活动价 3','月销量 3','累计评价 3','信誉 3','活动价 4','月销量 4','累计评价 4','信誉 4','活动价 5','月销量 5','累计评价 5','信誉 5','活动价 6','月销量 6','累计评价 6','信誉 6']]"
   ]
  },
  {
   "cell_type": "code",
   "execution_count": 67,
   "id": "7c7a125a-efaa-4dbb-8fca-49fc4f90a72f",
   "metadata": {
    "execution": {
     "iopub.execute_input": "2023-04-22T14:54:50.597876Z",
     "iopub.status.busy": "2023-04-22T14:54:50.597876Z",
     "iopub.status.idle": "2023-04-22T14:54:50.631874Z",
     "shell.execute_reply": "2023-04-22T14:54:50.631874Z",
     "shell.execute_reply.started": "2023-04-22T14:54:50.597876Z"
    },
    "tags": []
   },
   "outputs": [
    {
     "data": {
      "text/html": [
       "<div>\n",
       "<style scoped>\n",
       "    .dataframe tbody tr th:only-of-type {\n",
       "        vertical-align: middle;\n",
       "    }\n",
       "\n",
       "    .dataframe tbody tr th {\n",
       "        vertical-align: top;\n",
       "    }\n",
       "\n",
       "    .dataframe thead th {\n",
       "        text-align: right;\n",
       "    }\n",
       "</style>\n",
       "<table border=\"1\" class=\"dataframe\">\n",
       "  <thead>\n",
       "    <tr style=\"text-align: right;\">\n",
       "      <th></th>\n",
       "      <th>ID</th>\n",
       "      <th>品类</th>\n",
       "      <th>商品名</th>\n",
       "      <th>品牌</th>\n",
       "      <th>店铺名</th>\n",
       "      <th>经济体</th>\n",
       "      <th>省份</th>\n",
       "      <th>地级市</th>\n",
       "      <th>原价</th>\n",
       "      <th>快递费</th>\n",
       "      <th>...</th>\n",
       "      <th>累计评价 4</th>\n",
       "      <th>信誉 4</th>\n",
       "      <th>活动价 5</th>\n",
       "      <th>月销量 5</th>\n",
       "      <th>累计评价 5</th>\n",
       "      <th>信誉 5</th>\n",
       "      <th>活动价 6</th>\n",
       "      <th>月销量 6</th>\n",
       "      <th>累计评价 6</th>\n",
       "      <th>信誉 6</th>\n",
       "    </tr>\n",
       "  </thead>\n",
       "  <tbody>\n",
       "    <tr>\n",
       "      <th>0</th>\n",
       "      <td>567797118294</td>\n",
       "      <td>蛋</td>\n",
       "      <td>鸡蛋</td>\n",
       "      <td></td>\n",
       "      <td>267f241390522d93</td>\n",
       "      <td>中国大陆</td>\n",
       "      <td>吉林省</td>\n",
       "      <td>吉林市</td>\n",
       "      <td>56.2</td>\n",
       "      <td>12.0</td>\n",
       "      <td>...</td>\n",
       "      <td>4.0</td>\n",
       "      <td>928.0</td>\n",
       "      <td>56.2</td>\n",
       "      <td>0.0</td>\n",
       "      <td>4.0</td>\n",
       "      <td>938.0</td>\n",
       "      <td>56.2</td>\n",
       "      <td>0.0</td>\n",
       "      <td>0.0</td>\n",
       "      <td>939.0</td>\n",
       "    </tr>\n",
       "    <tr>\n",
       "      <th>1</th>\n",
       "      <td>554095491655</td>\n",
       "      <td>蛋</td>\n",
       "      <td>鸵鸟蛋</td>\n",
       "      <td></td>\n",
       "      <td>d32a9408880d6d3b</td>\n",
       "      <td>中国大陆</td>\n",
       "      <td>山东省</td>\n",
       "      <td>淄博市</td>\n",
       "      <td>175.0</td>\n",
       "      <td>0.0</td>\n",
       "      <td>...</td>\n",
       "      <td>244.0</td>\n",
       "      <td>9340.0</td>\n",
       "      <td>155.0</td>\n",
       "      <td>109.0</td>\n",
       "      <td>232.0</td>\n",
       "      <td>9541.0</td>\n",
       "      <td>135.0</td>\n",
       "      <td>158.0</td>\n",
       "      <td>205.0</td>\n",
       "      <td>9919.0</td>\n",
       "    </tr>\n",
       "    <tr>\n",
       "      <th>2</th>\n",
       "      <td>550183128850</td>\n",
       "      <td>蛋</td>\n",
       "      <td>鸡蛋</td>\n",
       "      <td></td>\n",
       "      <td>891d50a4b916c106</td>\n",
       "      <td>中国大陆</td>\n",
       "      <td>湖南省</td>\n",
       "      <td>长沙市</td>\n",
       "      <td>55.0</td>\n",
       "      <td>0.0</td>\n",
       "      <td>...</td>\n",
       "      <td>17.0</td>\n",
       "      <td>2383.0</td>\n",
       "      <td>55.0</td>\n",
       "      <td>1.0</td>\n",
       "      <td>14.0</td>\n",
       "      <td>2385.0</td>\n",
       "      <td>55.0</td>\n",
       "      <td>0.0</td>\n",
       "      <td>12.0</td>\n",
       "      <td>2385.0</td>\n",
       "    </tr>\n",
       "    <tr>\n",
       "      <th>3</th>\n",
       "      <td>569390163639</td>\n",
       "      <td>蛋</td>\n",
       "      <td>鸡蛋</td>\n",
       "      <td></td>\n",
       "      <td>7a6d2e534db34688</td>\n",
       "      <td>中国大陆</td>\n",
       "      <td>安徽省</td>\n",
       "      <td>安庆市</td>\n",
       "      <td>43.8</td>\n",
       "      <td>0.0</td>\n",
       "      <td>...</td>\n",
       "      <td>114.0</td>\n",
       "      <td>13759.0</td>\n",
       "      <td>43.8</td>\n",
       "      <td>5.0</td>\n",
       "      <td>76.0</td>\n",
       "      <td>13770.0</td>\n",
       "      <td>43.8</td>\n",
       "      <td>1.0</td>\n",
       "      <td>42.0</td>\n",
       "      <td>13776.0</td>\n",
       "    </tr>\n",
       "    <tr>\n",
       "      <th>4</th>\n",
       "      <td>572170484146</td>\n",
       "      <td>蛋</td>\n",
       "      <td>柴鸡蛋</td>\n",
       "      <td></td>\n",
       "      <td>b4c281826b800e11</td>\n",
       "      <td>中国大陆</td>\n",
       "      <td>安徽省</td>\n",
       "      <td>宣城市</td>\n",
       "      <td>79.0</td>\n",
       "      <td>0.0</td>\n",
       "      <td>...</td>\n",
       "      <td>2.0</td>\n",
       "      <td>12088.0</td>\n",
       "      <td>39.5</td>\n",
       "      <td>0.0</td>\n",
       "      <td>2.0</td>\n",
       "      <td>13200.0</td>\n",
       "      <td>39.5</td>\n",
       "      <td>0.0</td>\n",
       "      <td>2.0</td>\n",
       "      <td>15004.0</td>\n",
       "    </tr>\n",
       "    <tr>\n",
       "      <th>...</th>\n",
       "      <td>...</td>\n",
       "      <td>...</td>\n",
       "      <td>...</td>\n",
       "      <td>...</td>\n",
       "      <td>...</td>\n",
       "      <td>...</td>\n",
       "      <td>...</td>\n",
       "      <td>...</td>\n",
       "      <td>...</td>\n",
       "      <td>...</td>\n",
       "      <td>...</td>\n",
       "      <td>...</td>\n",
       "      <td>...</td>\n",
       "      <td>...</td>\n",
       "      <td>...</td>\n",
       "      <td>...</td>\n",
       "      <td>...</td>\n",
       "      <td>...</td>\n",
       "      <td>...</td>\n",
       "      <td>...</td>\n",
       "      <td>...</td>\n",
       "    </tr>\n",
       "    <tr>\n",
       "      <th>18894</th>\n",
       "      <td>554122150495</td>\n",
       "      <td>水果</td>\n",
       "      <td>樱桃</td>\n",
       "      <td>鲜故事</td>\n",
       "      <td>c5b1541973c2e732</td>\n",
       "      <td>中国大陆</td>\n",
       "      <td>山东省</td>\n",
       "      <td></td>\n",
       "      <td>42.0</td>\n",
       "      <td>0.0</td>\n",
       "      <td>...</td>\n",
       "      <td>11585.0</td>\n",
       "      <td>-1.0</td>\n",
       "      <td>39.8</td>\n",
       "      <td>7153.0</td>\n",
       "      <td>13094.0</td>\n",
       "      <td>-1.0</td>\n",
       "      <td>39.8</td>\n",
       "      <td>6182.0</td>\n",
       "      <td>15146.0</td>\n",
       "      <td>-1.0</td>\n",
       "    </tr>\n",
       "    <tr>\n",
       "      <th>18895</th>\n",
       "      <td>565973303002</td>\n",
       "      <td>水果</td>\n",
       "      <td>香梨</td>\n",
       "      <td>LAIYANG PEAR/莱阳梨</td>\n",
       "      <td>2b9b4fb87b0336f8</td>\n",
       "      <td>中国大陆</td>\n",
       "      <td>山东省</td>\n",
       "      <td>烟台市</td>\n",
       "      <td>39.0</td>\n",
       "      <td>0.0</td>\n",
       "      <td>...</td>\n",
       "      <td>185.0</td>\n",
       "      <td>-1.0</td>\n",
       "      <td>29.8</td>\n",
       "      <td>151.0</td>\n",
       "      <td>219.0</td>\n",
       "      <td>-1.0</td>\n",
       "      <td>29.8</td>\n",
       "      <td>98.0</td>\n",
       "      <td>241.0</td>\n",
       "      <td>-1.0</td>\n",
       "    </tr>\n",
       "    <tr>\n",
       "      <th>18896</th>\n",
       "      <td>580245163878</td>\n",
       "      <td>水果</td>\n",
       "      <td>番石榴</td>\n",
       "      <td>世纪村</td>\n",
       "      <td>d409413ea2111090</td>\n",
       "      <td>中国大陆</td>\n",
       "      <td>福建省</td>\n",
       "      <td>漳州市</td>\n",
       "      <td>68.0</td>\n",
       "      <td>0.0</td>\n",
       "      <td>...</td>\n",
       "      <td>1107.0</td>\n",
       "      <td>-1.0</td>\n",
       "      <td>24.8</td>\n",
       "      <td>377.0</td>\n",
       "      <td>1255.0</td>\n",
       "      <td>-1.0</td>\n",
       "      <td>24.8</td>\n",
       "      <td>223.0</td>\n",
       "      <td>1326.0</td>\n",
       "      <td>-1.0</td>\n",
       "    </tr>\n",
       "    <tr>\n",
       "      <th>18897</th>\n",
       "      <td>544935851035</td>\n",
       "      <td>水果</td>\n",
       "      <td>柑橘</td>\n",
       "      <td>石门柑橘</td>\n",
       "      <td>e9a1c946660f5d0a</td>\n",
       "      <td>中国大陆</td>\n",
       "      <td>湖南省</td>\n",
       "      <td>常德市</td>\n",
       "      <td>31.8</td>\n",
       "      <td>0.0</td>\n",
       "      <td>...</td>\n",
       "      <td>755.0</td>\n",
       "      <td>800.0</td>\n",
       "      <td>45.8</td>\n",
       "      <td>0.0</td>\n",
       "      <td>692.0</td>\n",
       "      <td>800.0</td>\n",
       "      <td>45.8</td>\n",
       "      <td>0.0</td>\n",
       "      <td>411.0</td>\n",
       "      <td>800.0</td>\n",
       "    </tr>\n",
       "    <tr>\n",
       "      <th>18898</th>\n",
       "      <td>534626465863</td>\n",
       "      <td>水果</td>\n",
       "      <td>其他</td>\n",
       "      <td>欢乐家</td>\n",
       "      <td>7b0552767a1a471c</td>\n",
       "      <td>中国大陆</td>\n",
       "      <td>湖北省</td>\n",
       "      <td>孝感市</td>\n",
       "      <td>60.0</td>\n",
       "      <td>0.0</td>\n",
       "      <td>...</td>\n",
       "      <td>27292.0</td>\n",
       "      <td>-1.0</td>\n",
       "      <td>29.9</td>\n",
       "      <td>27250.0</td>\n",
       "      <td>33154.0</td>\n",
       "      <td>-1.0</td>\n",
       "      <td>29.9</td>\n",
       "      <td>14391.0</td>\n",
       "      <td>37223.0</td>\n",
       "      <td>-1.0</td>\n",
       "    </tr>\n",
       "  </tbody>\n",
       "</table>\n",
       "<p>18899 rows × 35 columns</p>\n",
       "</div>"
      ],
      "text/plain": [
       "                 ID  品类  商品名                品牌               店铺名   经济体   省份   \n",
       "0      567797118294   蛋   鸡蛋                    267f241390522d93  中国大陆  吉林省  \\\n",
       "1      554095491655   蛋  鸵鸟蛋                    d32a9408880d6d3b  中国大陆  山东省   \n",
       "2      550183128850   蛋   鸡蛋                    891d50a4b916c106  中国大陆  湖南省   \n",
       "3      569390163639   蛋   鸡蛋                    7a6d2e534db34688  中国大陆  安徽省   \n",
       "4      572170484146   蛋  柴鸡蛋                    b4c281826b800e11  中国大陆  安徽省   \n",
       "...             ...  ..  ...               ...               ...   ...  ...   \n",
       "18894  554122150495  水果   樱桃               鲜故事  c5b1541973c2e732  中国大陆  山东省   \n",
       "18895  565973303002  水果   香梨  LAIYANG PEAR/莱阳梨  2b9b4fb87b0336f8  中国大陆  山东省   \n",
       "18896  580245163878  水果  番石榴               世纪村  d409413ea2111090  中国大陆  福建省   \n",
       "18897  544935851035  水果   柑橘              石门柑橘  e9a1c946660f5d0a  中国大陆  湖南省   \n",
       "18898  534626465863  水果   其他               欢乐家  7b0552767a1a471c  中国大陆  湖北省   \n",
       "\n",
       "       地级市     原价   快递费  ...   累计评价 4     信誉 4  活动价 5    月销量 5   累计评价 5   \n",
       "0      吉林市   56.2  12.0  ...      4.0    928.0   56.2      0.0      4.0  \\\n",
       "1      淄博市  175.0   0.0  ...    244.0   9340.0  155.0    109.0    232.0   \n",
       "2      长沙市   55.0   0.0  ...     17.0   2383.0   55.0      1.0     14.0   \n",
       "3      安庆市   43.8   0.0  ...    114.0  13759.0   43.8      5.0     76.0   \n",
       "4      宣城市   79.0   0.0  ...      2.0  12088.0   39.5      0.0      2.0   \n",
       "...    ...    ...   ...  ...      ...      ...    ...      ...      ...   \n",
       "18894        42.0   0.0  ...  11585.0     -1.0   39.8   7153.0  13094.0   \n",
       "18895  烟台市   39.0   0.0  ...    185.0     -1.0   29.8    151.0    219.0   \n",
       "18896  漳州市   68.0   0.0  ...   1107.0     -1.0   24.8    377.0   1255.0   \n",
       "18897  常德市   31.8   0.0  ...    755.0    800.0   45.8      0.0    692.0   \n",
       "18898  孝感市   60.0   0.0  ...  27292.0     -1.0   29.9  27250.0  33154.0   \n",
       "\n",
       "          信誉 5  活动价 6    月销量 6   累计评价 6     信誉 6  \n",
       "0        938.0   56.2      0.0      0.0    939.0  \n",
       "1       9541.0  135.0    158.0    205.0   9919.0  \n",
       "2       2385.0   55.0      0.0     12.0   2385.0  \n",
       "3      13770.0   43.8      1.0     42.0  13776.0  \n",
       "4      13200.0   39.5      0.0      2.0  15004.0  \n",
       "...        ...    ...      ...      ...      ...  \n",
       "18894     -1.0   39.8   6182.0  15146.0     -1.0  \n",
       "18895     -1.0   29.8     98.0    241.0     -1.0  \n",
       "18896     -1.0   24.8    223.0   1326.0     -1.0  \n",
       "18897    800.0   45.8      0.0    411.0    800.0  \n",
       "18898     -1.0   29.9  14391.0  37223.0     -1.0  \n",
       "\n",
       "[18899 rows x 35 columns]"
      ]
     },
     "execution_count": 67,
     "metadata": {},
     "output_type": "execute_result"
    }
   ],
   "source": [
    "data"
   ]
  },
  {
   "cell_type": "markdown",
   "id": "89ae77cd-cdf6-47d3-baae-d7f95c69def8",
   "metadata": {},
   "source": [
    "去掉省市名中的“省”“市”："
   ]
  },
  {
   "cell_type": "code",
   "execution_count": 68,
   "id": "a99f0a11-2fea-46f1-9c3a-4f3d7ff3d809",
   "metadata": {
    "execution": {
     "iopub.execute_input": "2023-04-22T14:55:10.533425Z",
     "iopub.status.busy": "2023-04-22T14:55:10.533425Z",
     "iopub.status.idle": "2023-04-22T14:55:10.554425Z",
     "shell.execute_reply": "2023-04-22T14:55:10.553425Z",
     "shell.execute_reply.started": "2023-04-22T14:55:10.533425Z"
    },
    "tags": []
   },
   "outputs": [
    {
     "name": "stderr",
     "output_type": "stream",
     "text": [
      "C:\\Windows\\Temp\\ipykernel_17048\\1610982252.py:1: SettingWithCopyWarning: \n",
      "A value is trying to be set on a copy of a slice from a DataFrame.\n",
      "Try using .loc[row_indexer,col_indexer] = value instead\n",
      "\n",
      "See the caveats in the documentation: https://pandas.pydata.org/pandas-docs/stable/user_guide/indexing.html#returning-a-view-versus-a-copy\n",
      "  data['省份'] = data.省份.str.replace('省','')\n",
      "C:\\Windows\\Temp\\ipykernel_17048\\1610982252.py:2: SettingWithCopyWarning: \n",
      "A value is trying to be set on a copy of a slice from a DataFrame.\n",
      "Try using .loc[row_indexer,col_indexer] = value instead\n",
      "\n",
      "See the caveats in the documentation: https://pandas.pydata.org/pandas-docs/stable/user_guide/indexing.html#returning-a-view-versus-a-copy\n",
      "  data['地级市'] = data.地级市.str.replace('市','')\n"
     ]
    }
   ],
   "source": [
    "data['省份'] = data.省份.str.replace('省','')\n",
    "data['地级市'] = data.地级市.str.replace('市','')"
   ]
  },
  {
   "cell_type": "code",
   "execution_count": 69,
   "id": "f8f3c8da-27df-4a11-946a-c639d8799d68",
   "metadata": {
    "execution": {
     "iopub.execute_input": "2023-04-22T14:55:18.474155Z",
     "iopub.status.busy": "2023-04-22T14:55:18.474155Z",
     "iopub.status.idle": "2023-04-22T14:55:18.508211Z",
     "shell.execute_reply": "2023-04-22T14:55:18.508211Z",
     "shell.execute_reply.started": "2023-04-22T14:55:18.474155Z"
    },
    "tags": []
   },
   "outputs": [
    {
     "data": {
      "text/html": [
       "<div>\n",
       "<style scoped>\n",
       "    .dataframe tbody tr th:only-of-type {\n",
       "        vertical-align: middle;\n",
       "    }\n",
       "\n",
       "    .dataframe tbody tr th {\n",
       "        vertical-align: top;\n",
       "    }\n",
       "\n",
       "    .dataframe thead th {\n",
       "        text-align: right;\n",
       "    }\n",
       "</style>\n",
       "<table border=\"1\" class=\"dataframe\">\n",
       "  <thead>\n",
       "    <tr style=\"text-align: right;\">\n",
       "      <th></th>\n",
       "      <th>ID</th>\n",
       "      <th>品类</th>\n",
       "      <th>商品名</th>\n",
       "      <th>品牌</th>\n",
       "      <th>店铺名</th>\n",
       "      <th>经济体</th>\n",
       "      <th>省份</th>\n",
       "      <th>地级市</th>\n",
       "      <th>原价</th>\n",
       "      <th>快递费</th>\n",
       "      <th>...</th>\n",
       "      <th>累计评价 4</th>\n",
       "      <th>信誉 4</th>\n",
       "      <th>活动价 5</th>\n",
       "      <th>月销量 5</th>\n",
       "      <th>累计评价 5</th>\n",
       "      <th>信誉 5</th>\n",
       "      <th>活动价 6</th>\n",
       "      <th>月销量 6</th>\n",
       "      <th>累计评价 6</th>\n",
       "      <th>信誉 6</th>\n",
       "    </tr>\n",
       "  </thead>\n",
       "  <tbody>\n",
       "    <tr>\n",
       "      <th>0</th>\n",
       "      <td>567797118294</td>\n",
       "      <td>蛋</td>\n",
       "      <td>鸡蛋</td>\n",
       "      <td></td>\n",
       "      <td>267f241390522d93</td>\n",
       "      <td>中国大陆</td>\n",
       "      <td>吉林</td>\n",
       "      <td>吉林</td>\n",
       "      <td>56.2</td>\n",
       "      <td>12.0</td>\n",
       "      <td>...</td>\n",
       "      <td>4.0</td>\n",
       "      <td>928.0</td>\n",
       "      <td>56.2</td>\n",
       "      <td>0.0</td>\n",
       "      <td>4.0</td>\n",
       "      <td>938.0</td>\n",
       "      <td>56.2</td>\n",
       "      <td>0.0</td>\n",
       "      <td>0.0</td>\n",
       "      <td>939.0</td>\n",
       "    </tr>\n",
       "    <tr>\n",
       "      <th>1</th>\n",
       "      <td>554095491655</td>\n",
       "      <td>蛋</td>\n",
       "      <td>鸵鸟蛋</td>\n",
       "      <td></td>\n",
       "      <td>d32a9408880d6d3b</td>\n",
       "      <td>中国大陆</td>\n",
       "      <td>山东</td>\n",
       "      <td>淄博</td>\n",
       "      <td>175.0</td>\n",
       "      <td>0.0</td>\n",
       "      <td>...</td>\n",
       "      <td>244.0</td>\n",
       "      <td>9340.0</td>\n",
       "      <td>155.0</td>\n",
       "      <td>109.0</td>\n",
       "      <td>232.0</td>\n",
       "      <td>9541.0</td>\n",
       "      <td>135.0</td>\n",
       "      <td>158.0</td>\n",
       "      <td>205.0</td>\n",
       "      <td>9919.0</td>\n",
       "    </tr>\n",
       "    <tr>\n",
       "      <th>2</th>\n",
       "      <td>550183128850</td>\n",
       "      <td>蛋</td>\n",
       "      <td>鸡蛋</td>\n",
       "      <td></td>\n",
       "      <td>891d50a4b916c106</td>\n",
       "      <td>中国大陆</td>\n",
       "      <td>湖南</td>\n",
       "      <td>长沙</td>\n",
       "      <td>55.0</td>\n",
       "      <td>0.0</td>\n",
       "      <td>...</td>\n",
       "      <td>17.0</td>\n",
       "      <td>2383.0</td>\n",
       "      <td>55.0</td>\n",
       "      <td>1.0</td>\n",
       "      <td>14.0</td>\n",
       "      <td>2385.0</td>\n",
       "      <td>55.0</td>\n",
       "      <td>0.0</td>\n",
       "      <td>12.0</td>\n",
       "      <td>2385.0</td>\n",
       "    </tr>\n",
       "    <tr>\n",
       "      <th>3</th>\n",
       "      <td>569390163639</td>\n",
       "      <td>蛋</td>\n",
       "      <td>鸡蛋</td>\n",
       "      <td></td>\n",
       "      <td>7a6d2e534db34688</td>\n",
       "      <td>中国大陆</td>\n",
       "      <td>安徽</td>\n",
       "      <td>安庆</td>\n",
       "      <td>43.8</td>\n",
       "      <td>0.0</td>\n",
       "      <td>...</td>\n",
       "      <td>114.0</td>\n",
       "      <td>13759.0</td>\n",
       "      <td>43.8</td>\n",
       "      <td>5.0</td>\n",
       "      <td>76.0</td>\n",
       "      <td>13770.0</td>\n",
       "      <td>43.8</td>\n",
       "      <td>1.0</td>\n",
       "      <td>42.0</td>\n",
       "      <td>13776.0</td>\n",
       "    </tr>\n",
       "    <tr>\n",
       "      <th>4</th>\n",
       "      <td>572170484146</td>\n",
       "      <td>蛋</td>\n",
       "      <td>柴鸡蛋</td>\n",
       "      <td></td>\n",
       "      <td>b4c281826b800e11</td>\n",
       "      <td>中国大陆</td>\n",
       "      <td>安徽</td>\n",
       "      <td>宣城</td>\n",
       "      <td>79.0</td>\n",
       "      <td>0.0</td>\n",
       "      <td>...</td>\n",
       "      <td>2.0</td>\n",
       "      <td>12088.0</td>\n",
       "      <td>39.5</td>\n",
       "      <td>0.0</td>\n",
       "      <td>2.0</td>\n",
       "      <td>13200.0</td>\n",
       "      <td>39.5</td>\n",
       "      <td>0.0</td>\n",
       "      <td>2.0</td>\n",
       "      <td>15004.0</td>\n",
       "    </tr>\n",
       "    <tr>\n",
       "      <th>...</th>\n",
       "      <td>...</td>\n",
       "      <td>...</td>\n",
       "      <td>...</td>\n",
       "      <td>...</td>\n",
       "      <td>...</td>\n",
       "      <td>...</td>\n",
       "      <td>...</td>\n",
       "      <td>...</td>\n",
       "      <td>...</td>\n",
       "      <td>...</td>\n",
       "      <td>...</td>\n",
       "      <td>...</td>\n",
       "      <td>...</td>\n",
       "      <td>...</td>\n",
       "      <td>...</td>\n",
       "      <td>...</td>\n",
       "      <td>...</td>\n",
       "      <td>...</td>\n",
       "      <td>...</td>\n",
       "      <td>...</td>\n",
       "      <td>...</td>\n",
       "    </tr>\n",
       "    <tr>\n",
       "      <th>18894</th>\n",
       "      <td>554122150495</td>\n",
       "      <td>水果</td>\n",
       "      <td>樱桃</td>\n",
       "      <td>鲜故事</td>\n",
       "      <td>c5b1541973c2e732</td>\n",
       "      <td>中国大陆</td>\n",
       "      <td>山东</td>\n",
       "      <td></td>\n",
       "      <td>42.0</td>\n",
       "      <td>0.0</td>\n",
       "      <td>...</td>\n",
       "      <td>11585.0</td>\n",
       "      <td>-1.0</td>\n",
       "      <td>39.8</td>\n",
       "      <td>7153.0</td>\n",
       "      <td>13094.0</td>\n",
       "      <td>-1.0</td>\n",
       "      <td>39.8</td>\n",
       "      <td>6182.0</td>\n",
       "      <td>15146.0</td>\n",
       "      <td>-1.0</td>\n",
       "    </tr>\n",
       "    <tr>\n",
       "      <th>18895</th>\n",
       "      <td>565973303002</td>\n",
       "      <td>水果</td>\n",
       "      <td>香梨</td>\n",
       "      <td>LAIYANG PEAR/莱阳梨</td>\n",
       "      <td>2b9b4fb87b0336f8</td>\n",
       "      <td>中国大陆</td>\n",
       "      <td>山东</td>\n",
       "      <td>烟台</td>\n",
       "      <td>39.0</td>\n",
       "      <td>0.0</td>\n",
       "      <td>...</td>\n",
       "      <td>185.0</td>\n",
       "      <td>-1.0</td>\n",
       "      <td>29.8</td>\n",
       "      <td>151.0</td>\n",
       "      <td>219.0</td>\n",
       "      <td>-1.0</td>\n",
       "      <td>29.8</td>\n",
       "      <td>98.0</td>\n",
       "      <td>241.0</td>\n",
       "      <td>-1.0</td>\n",
       "    </tr>\n",
       "    <tr>\n",
       "      <th>18896</th>\n",
       "      <td>580245163878</td>\n",
       "      <td>水果</td>\n",
       "      <td>番石榴</td>\n",
       "      <td>世纪村</td>\n",
       "      <td>d409413ea2111090</td>\n",
       "      <td>中国大陆</td>\n",
       "      <td>福建</td>\n",
       "      <td>漳州</td>\n",
       "      <td>68.0</td>\n",
       "      <td>0.0</td>\n",
       "      <td>...</td>\n",
       "      <td>1107.0</td>\n",
       "      <td>-1.0</td>\n",
       "      <td>24.8</td>\n",
       "      <td>377.0</td>\n",
       "      <td>1255.0</td>\n",
       "      <td>-1.0</td>\n",
       "      <td>24.8</td>\n",
       "      <td>223.0</td>\n",
       "      <td>1326.0</td>\n",
       "      <td>-1.0</td>\n",
       "    </tr>\n",
       "    <tr>\n",
       "      <th>18897</th>\n",
       "      <td>544935851035</td>\n",
       "      <td>水果</td>\n",
       "      <td>柑橘</td>\n",
       "      <td>石门柑橘</td>\n",
       "      <td>e9a1c946660f5d0a</td>\n",
       "      <td>中国大陆</td>\n",
       "      <td>湖南</td>\n",
       "      <td>常德</td>\n",
       "      <td>31.8</td>\n",
       "      <td>0.0</td>\n",
       "      <td>...</td>\n",
       "      <td>755.0</td>\n",
       "      <td>800.0</td>\n",
       "      <td>45.8</td>\n",
       "      <td>0.0</td>\n",
       "      <td>692.0</td>\n",
       "      <td>800.0</td>\n",
       "      <td>45.8</td>\n",
       "      <td>0.0</td>\n",
       "      <td>411.0</td>\n",
       "      <td>800.0</td>\n",
       "    </tr>\n",
       "    <tr>\n",
       "      <th>18898</th>\n",
       "      <td>534626465863</td>\n",
       "      <td>水果</td>\n",
       "      <td>其他</td>\n",
       "      <td>欢乐家</td>\n",
       "      <td>7b0552767a1a471c</td>\n",
       "      <td>中国大陆</td>\n",
       "      <td>湖北</td>\n",
       "      <td>孝感</td>\n",
       "      <td>60.0</td>\n",
       "      <td>0.0</td>\n",
       "      <td>...</td>\n",
       "      <td>27292.0</td>\n",
       "      <td>-1.0</td>\n",
       "      <td>29.9</td>\n",
       "      <td>27250.0</td>\n",
       "      <td>33154.0</td>\n",
       "      <td>-1.0</td>\n",
       "      <td>29.9</td>\n",
       "      <td>14391.0</td>\n",
       "      <td>37223.0</td>\n",
       "      <td>-1.0</td>\n",
       "    </tr>\n",
       "  </tbody>\n",
       "</table>\n",
       "<p>18899 rows × 35 columns</p>\n",
       "</div>"
      ],
      "text/plain": [
       "                 ID  品类  商品名                品牌               店铺名   经济体  省份   \n",
       "0      567797118294   蛋   鸡蛋                    267f241390522d93  中国大陆  吉林  \\\n",
       "1      554095491655   蛋  鸵鸟蛋                    d32a9408880d6d3b  中国大陆  山东   \n",
       "2      550183128850   蛋   鸡蛋                    891d50a4b916c106  中国大陆  湖南   \n",
       "3      569390163639   蛋   鸡蛋                    7a6d2e534db34688  中国大陆  安徽   \n",
       "4      572170484146   蛋  柴鸡蛋                    b4c281826b800e11  中国大陆  安徽   \n",
       "...             ...  ..  ...               ...               ...   ...  ..   \n",
       "18894  554122150495  水果   樱桃               鲜故事  c5b1541973c2e732  中国大陆  山东   \n",
       "18895  565973303002  水果   香梨  LAIYANG PEAR/莱阳梨  2b9b4fb87b0336f8  中国大陆  山东   \n",
       "18896  580245163878  水果  番石榴               世纪村  d409413ea2111090  中国大陆  福建   \n",
       "18897  544935851035  水果   柑橘              石门柑橘  e9a1c946660f5d0a  中国大陆  湖南   \n",
       "18898  534626465863  水果   其他               欢乐家  7b0552767a1a471c  中国大陆  湖北   \n",
       "\n",
       "      地级市     原价   快递费  ...   累计评价 4     信誉 4  活动价 5    月销量 5   累计评价 5   \n",
       "0      吉林   56.2  12.0  ...      4.0    928.0   56.2      0.0      4.0  \\\n",
       "1      淄博  175.0   0.0  ...    244.0   9340.0  155.0    109.0    232.0   \n",
       "2      长沙   55.0   0.0  ...     17.0   2383.0   55.0      1.0     14.0   \n",
       "3      安庆   43.8   0.0  ...    114.0  13759.0   43.8      5.0     76.0   \n",
       "4      宣城   79.0   0.0  ...      2.0  12088.0   39.5      0.0      2.0   \n",
       "...    ..    ...   ...  ...      ...      ...    ...      ...      ...   \n",
       "18894       42.0   0.0  ...  11585.0     -1.0   39.8   7153.0  13094.0   \n",
       "18895  烟台   39.0   0.0  ...    185.0     -1.0   29.8    151.0    219.0   \n",
       "18896  漳州   68.0   0.0  ...   1107.0     -1.0   24.8    377.0   1255.0   \n",
       "18897  常德   31.8   0.0  ...    755.0    800.0   45.8      0.0    692.0   \n",
       "18898  孝感   60.0   0.0  ...  27292.0     -1.0   29.9  27250.0  33154.0   \n",
       "\n",
       "          信誉 5  活动价 6    月销量 6   累计评价 6     信誉 6  \n",
       "0        938.0   56.2      0.0      0.0    939.0  \n",
       "1       9541.0  135.0    158.0    205.0   9919.0  \n",
       "2       2385.0   55.0      0.0     12.0   2385.0  \n",
       "3      13770.0   43.8      1.0     42.0  13776.0  \n",
       "4      13200.0   39.5      0.0      2.0  15004.0  \n",
       "...        ...    ...      ...      ...      ...  \n",
       "18894     -1.0   39.8   6182.0  15146.0     -1.0  \n",
       "18895     -1.0   29.8     98.0    241.0     -1.0  \n",
       "18896     -1.0   24.8    223.0   1326.0     -1.0  \n",
       "18897    800.0   45.8      0.0    411.0    800.0  \n",
       "18898     -1.0   29.9  14391.0  37223.0     -1.0  \n",
       "\n",
       "[18899 rows x 35 columns]"
      ]
     },
     "execution_count": 69,
     "metadata": {},
     "output_type": "execute_result"
    }
   ],
   "source": [
    "data"
   ]
  },
  {
   "cell_type": "markdown",
   "id": "96809932-af69-4090-9f92-28986e19b80d",
   "metadata": {},
   "source": [
    "保存处理好的数据："
   ]
  },
  {
   "cell_type": "code",
   "execution_count": 70,
   "id": "505438d1-b92b-4707-8faf-1ab50634cd39",
   "metadata": {
    "execution": {
     "iopub.execute_input": "2023-04-22T14:55:45.951087Z",
     "iopub.status.busy": "2023-04-22T14:55:45.950087Z",
     "iopub.status.idle": "2023-04-22T14:55:46.235631Z",
     "shell.execute_reply": "2023-04-22T14:55:46.234629Z",
     "shell.execute_reply.started": "2023-04-22T14:55:45.951087Z"
    },
    "tags": []
   },
   "outputs": [],
   "source": [
    "data.to_csv('./save_data1.csv',header=True,index=False)"
   ]
  },
  {
   "cell_type": "markdown",
   "id": "d0d65f8c-edb8-4c6d-9acc-b265d1bdc3d6",
   "metadata": {},
   "source": [
    "<p>5.1.4 异常值检测</p>\n",
    "<p>由于采集或者提取属性时发生错误，data1.csv 中的数据集可能会存在异常值。因 此，在正式做描述性统计之前，有必要进行异常值检测和纠正。</p>\n",
    "<p>导入必备包：</p>"
   ]
  },
  {
   "cell_type": "code",
   "execution_count": 71,
   "id": "3cbbeea1-2853-469b-be45-ffc4656d5cb2",
   "metadata": {
    "execution": {
     "iopub.execute_input": "2023-04-22T14:56:14.756645Z",
     "iopub.status.busy": "2023-04-22T14:56:14.756645Z",
     "iopub.status.idle": "2023-04-22T14:56:14.760644Z",
     "shell.execute_reply": "2023-04-22T14:56:14.760644Z",
     "shell.execute_reply.started": "2023-04-22T14:56:14.756645Z"
    },
    "tags": []
   },
   "outputs": [],
   "source": [
    "import pandas as pd"
   ]
  },
  {
   "cell_type": "markdown",
   "id": "c302617d-6bb0-4a30-8649-265d0b14f93f",
   "metadata": {},
   "source": [
    "将数据文件读入 pandas："
   ]
  },
  {
   "cell_type": "code",
   "execution_count": 72,
   "id": "68680a41-4f79-491d-9a7c-0c283c180973",
   "metadata": {
    "execution": {
     "iopub.execute_input": "2023-04-22T14:57:03.609406Z",
     "iopub.status.busy": "2023-04-22T14:57:03.609406Z",
     "iopub.status.idle": "2023-04-22T14:57:03.671124Z",
     "shell.execute_reply": "2023-04-22T14:57:03.671124Z",
     "shell.execute_reply.started": "2023-04-22T14:57:03.609406Z"
    },
    "tags": []
   },
   "outputs": [],
   "source": [
    "data = pd.read_csv('./save_data1.csv')"
   ]
  },
  {
   "cell_type": "markdown",
   "id": "2619f76b-b919-499b-90a7-5eabae5e8cf3",
   "metadata": {},
   "source": [
    "返回“经济体”列的值集合："
   ]
  },
  {
   "cell_type": "code",
   "execution_count": 73,
   "id": "4bc5d5af-34ec-4740-a5e9-d73d8443124d",
   "metadata": {
    "execution": {
     "iopub.execute_input": "2023-04-22T14:57:21.879678Z",
     "iopub.status.busy": "2023-04-22T14:57:21.879678Z",
     "iopub.status.idle": "2023-04-22T14:57:21.885683Z",
     "shell.execute_reply": "2023-04-22T14:57:21.885683Z",
     "shell.execute_reply.started": "2023-04-22T14:57:21.879678Z"
    },
    "tags": []
   },
   "outputs": [
    {
     "data": {
      "text/plain": [
       "{nan,\n",
       " '东北地区',\n",
       " '中国',\n",
       " '中国大陆',\n",
       " '中国大陆地区',\n",
       " '丹麦',\n",
       " '以色列',\n",
       " '俄罗斯',\n",
       " '兴化',\n",
       " '其他',\n",
       " '其他/other',\n",
       " '其它国家',\n",
       " '加拿大',\n",
       " '南非',\n",
       " '印尼',\n",
       " '厄瓜多尔',\n",
       " '古巴',\n",
       " '塞内加尔',\n",
       " '墨西哥',\n",
       " '太湖',\n",
       " '山东省',\n",
       " '德国',\n",
       " '挪威',\n",
       " '斯里兰卡',\n",
       " '新加坡',\n",
       " '新西兰',\n",
       " '日本',\n",
       " '智利',\n",
       " '江苏省',\n",
       " '江西省',\n",
       " '沙特阿拉伯',\n",
       " '法国',\n",
       " '泰国',\n",
       " '浙江省',\n",
       " '海南省',\n",
       " '港澳台',\n",
       " '港澳台地区',\n",
       " '湖北省',\n",
       " '澳大利亚',\n",
       " '福建省',\n",
       " '缅甸',\n",
       " '美国',\n",
       " '英国',\n",
       " '菲律宾',\n",
       " '越南',\n",
       " '辽宁省',\n",
       " '阳澄湖',\n",
       " '阿根廷',\n",
       " '韩国',\n",
       " '马来西亚'}"
      ]
     },
     "execution_count": 73,
     "metadata": {},
     "output_type": "execute_result"
    }
   ],
   "source": [
    "set(data['经济体'].values.tolist())"
   ]
  },
  {
   "cell_type": "markdown",
   "id": "7109da07-88d2-4085-a189-0c6b4b6f1464",
   "metadata": {},
   "source": [
    "发现有很多是中国大陆的省市，需要修改："
   ]
  },
  {
   "cell_type": "code",
   "execution_count": 77,
   "id": "f4d25ab2-bbfd-4af0-bca6-a5b80b2d60a6",
   "metadata": {
    "execution": {
     "iopub.execute_input": "2023-04-22T14:58:17.028505Z",
     "iopub.status.busy": "2023-04-22T14:58:17.028505Z",
     "iopub.status.idle": "2023-04-22T14:58:17.051585Z",
     "shell.execute_reply": "2023-04-22T14:58:17.051585Z",
     "shell.execute_reply.started": "2023-04-22T14:58:17.028505Z"
    },
    "tags": []
   },
   "outputs": [],
   "source": [
    "data.loc[data['经济体'] == '其他/other', '经济体'] = '其他'\n",
    "data.loc[data['经济体'] == '其它国家', '经济体'] = '其他'\n",
    "data.loc[data['经济体'] == '东北地区','经济体'] = '中国大陆'\n",
    "data.loc[data['经济体'] =='中国','经济体'] = '中国大陆'\n",
    "data.loc[data['经济体'] =='中国大陆地区','经济体'] = '中国大陆'\n",
    "data.loc[data['经济体'] =='兴化','经济体'] = '中国大陆'\n",
    "data.loc[data['经济体'] =='太湖','经济体'] = '中国大陆'\n",
    "data.loc[data['经济体'] =='山东省','经济体'] = '中国大陆'\n",
    "data.loc[data['经济体'] =='江苏省','经济体'] = '中国大陆'\n",
    "data.loc[data['经济体'] =='江西省','经济体'] = '中国大陆'\n",
    "data.loc[data['经济体'] =='浙江省','经济体'] = '中国大陆'\n",
    "data.loc[data['经济体'] =='海南省','经济体'] = '中国大陆'\n",
    "data.loc[data['经济体'] =='湖北省','经济体'] = '中国大陆'\n",
    "data.loc[data['经济体'] =='福建省','经济体'] = '中国大陆'\n",
    "data.loc[data['经济体'] =='辽宁省','经济体'] = '中国大陆'\n",
    "data.loc[data['经济体'] =='阳澄湖','经济体'] = '中国大陆'\n",
    "data.loc[data['经济体'] == '港澳台地区', '经济体'] = '港澳台'"
   ]
  },
  {
   "cell_type": "markdown",
   "id": "061d811a-1699-4762-bc6f-01b0cf9ada04",
   "metadata": {},
   "source": [
    "删除“经济体”为缺失值的行："
   ]
  },
  {
   "cell_type": "code",
   "execution_count": 78,
   "id": "53f9b6c4-d033-4779-82b4-90549cb083e3",
   "metadata": {
    "execution": {
     "iopub.execute_input": "2023-04-22T14:58:34.331039Z",
     "iopub.status.busy": "2023-04-22T14:58:34.330037Z",
     "iopub.status.idle": "2023-04-22T14:58:34.339044Z",
     "shell.execute_reply": "2023-04-22T14:58:34.339044Z",
     "shell.execute_reply.started": "2023-04-22T14:58:34.331039Z"
    },
    "tags": []
   },
   "outputs": [],
   "source": [
    "data.dropna(subset = ['经济体'],inplace = True)"
   ]
  },
  {
   "cell_type": "markdown",
   "id": "d6e5d9e4-b767-45a5-a23d-04d6cc4022ae",
   "metadata": {},
   "source": [
    "返回“省份”列的值集合："
   ]
  },
  {
   "cell_type": "code",
   "execution_count": 79,
   "id": "5a044f4b-d481-482c-9b64-3971bf0e2d12",
   "metadata": {
    "execution": {
     "iopub.execute_input": "2023-04-22T14:58:49.354540Z",
     "iopub.status.busy": "2023-04-22T14:58:49.354540Z",
     "iopub.status.idle": "2023-04-22T14:58:49.361052Z",
     "shell.execute_reply": "2023-04-22T14:58:49.361052Z",
     "shell.execute_reply.started": "2023-04-22T14:58:49.354540Z"
    },
    "tags": []
   },
   "outputs": [
    {
     "data": {
      "text/plain": [
       "{nan,\n",
       " '上海',\n",
       " '上海市',\n",
       " '中国大陆',\n",
       " '云南',\n",
       " '其他',\n",
       " '其它国家',\n",
       " '内蒙古自治区',\n",
       " '北京',\n",
       " '北京市',\n",
       " '台湾',\n",
       " '吉林',\n",
       " '四川',\n",
       " '天津',\n",
       " '天津市',\n",
       " '宁夏回族自治区',\n",
       " '安徽',\n",
       " '山东',\n",
       " '山西',\n",
       " '广东',\n",
       " '广西',\n",
       " '广西壮族自治区',\n",
       " '新加坡',\n",
       " '新疆维吾尔族自治区',\n",
       " '新疆维吾尔自治区',\n",
       " '江苏',\n",
       " '江西',\n",
       " '河北',\n",
       " '河南',\n",
       " '浙江',\n",
       " '海南',\n",
       " '港澳台',\n",
       " '湖北',\n",
       " '湖南',\n",
       " '甘肃',\n",
       " '福建',\n",
       " '西藏自治区',\n",
       " '贵州',\n",
       " '辽宁',\n",
       " '重庆',\n",
       " '重庆市',\n",
       " '陕西',\n",
       " '青海',\n",
       " '黑龙江'}"
      ]
     },
     "execution_count": 79,
     "metadata": {},
     "output_type": "execute_result"
    }
   ],
   "source": [
    "set(data['省份'].values.tolist())"
   ]
  },
  {
   "cell_type": "markdown",
   "id": "f4b489ab-2fc2-427c-beb6-d15274aa93fd",
   "metadata": {},
   "source": [
    "同样需要修改一些值："
   ]
  },
  {
   "cell_type": "code",
   "execution_count": 80,
   "id": "783e35e3-9340-4b74-b17c-7c24a87ac3e0",
   "metadata": {
    "execution": {
     "iopub.execute_input": "2023-04-22T14:59:12.677121Z",
     "iopub.status.busy": "2023-04-22T14:59:12.677121Z",
     "iopub.status.idle": "2023-04-22T14:59:12.691794Z",
     "shell.execute_reply": "2023-04-22T14:59:12.691264Z",
     "shell.execute_reply.started": "2023-04-22T14:59:12.677121Z"
    },
    "tags": []
   },
   "outputs": [],
   "source": [
    "data.loc[data['省份'] == '上海市', '省份'] = '上海'\n",
    "data.loc[data['省份'] == '内蒙古自治区', '省份'] = '内蒙古'\n",
    "data.loc[data['省份'] == '北京市', '省份'] = '北京'\n",
    "data.loc[data['省份'] == '天津市', '省份'] = '天津'\n",
    "data.loc[data['省份'] == '宁夏回族自治区', '省份'] = '宁夏'\n",
    "data.loc[data['省份'] == '广西壮族自治区', '省份'] = '广西'\n",
    "data.loc[data['省份'] == '新疆维吾尔族自治区', '省份'] = '新疆'\n",
    "data.loc[data['省份'] == '西藏自治区', '省份'] = '西藏'\n",
    "data.loc[data['省份'] == '重庆市', '省份'] = '重庆'\n",
    "data.loc[data['省份'] == '中国大陆', '省份'] = '其他'"
   ]
  },
  {
   "cell_type": "markdown",
   "id": "fc57941e-e727-4d4b-90bd-148b46a23f73",
   "metadata": {},
   "source": [
    "对地级市做同样的处理："
   ]
  },
  {
   "cell_type": "code",
   "execution_count": 81,
   "id": "8ad965be-4de6-4e73-848c-13873ef481dc",
   "metadata": {
    "execution": {
     "iopub.execute_input": "2023-04-22T14:59:44.277795Z",
     "iopub.status.busy": "2023-04-22T14:59:44.276798Z",
     "iopub.status.idle": "2023-04-22T14:59:44.286801Z",
     "shell.execute_reply": "2023-04-22T14:59:44.286801Z",
     "shell.execute_reply.started": "2023-04-22T14:59:44.277795Z"
    },
    "tags": []
   },
   "outputs": [],
   "source": [
    "set(data['地级市'].values.tolist())\n",
    "data.loc[data['地级市'] == '阿克苏地区', '地级市'] = '阿克苏'\n",
    "data.loc[data['地级市'] == '红河哈尼族彝族自治州', '地级市'] = '红河'\n",
    "data.loc[data['地级市'] == '楚雄彝族自治州', '地级市'] = '楚雄'\n",
    "data.loc[data['地级市'] == '大理白族自治州', '地级市'] = '大理'"
   ]
  },
  {
   "cell_type": "markdown",
   "id": "10cb5222-8633-4f37-a5dc-e6187fbb4ea6",
   "metadata": {},
   "source": [
    "对“经济体”不是“中国大陆”的行，将其“省份”“地级市”改为“非中国大\n",
    "陆”："
   ]
  },
  {
   "cell_type": "code",
   "execution_count": 82,
   "id": "0e7414ad-49b2-4580-b101-19e8b2bf026f",
   "metadata": {
    "execution": {
     "iopub.execute_input": "2023-04-22T14:59:59.503915Z",
     "iopub.status.busy": "2023-04-22T14:59:59.503915Z",
     "iopub.status.idle": "2023-04-22T14:59:59.513426Z",
     "shell.execute_reply": "2023-04-22T14:59:59.513426Z",
     "shell.execute_reply.started": "2023-04-22T14:59:59.503915Z"
    },
    "tags": []
   },
   "outputs": [],
   "source": [
    "data.loc[data['经济体'] != '中国大陆', '省份'] = '非中国大陆'\n",
    "data.loc[data['经济体'] != '中国大陆', '地级市'] = '非中国大陆'"
   ]
  },
  {
   "cell_type": "markdown",
   "id": "807b6201-09d2-44d2-80b8-72697659416f",
   "metadata": {},
   "source": [
    "对“省份”为“其他国家”的修改为“其他”："
   ]
  },
  {
   "cell_type": "code",
   "execution_count": 83,
   "id": "423803e2-a14f-429d-bbe8-90f8742700cd",
   "metadata": {
    "execution": {
     "iopub.execute_input": "2023-04-22T15:00:16.101595Z",
     "iopub.status.busy": "2023-04-22T15:00:16.100593Z",
     "iopub.status.idle": "2023-04-22T15:00:16.106592Z",
     "shell.execute_reply": "2023-04-22T15:00:16.106592Z",
     "shell.execute_reply.started": "2023-04-22T15:00:16.101595Z"
    },
    "tags": []
   },
   "outputs": [],
   "source": [
    "data.loc[data['省份'] == '其它国家', '省份'] = '其他'"
   ]
  },
  {
   "cell_type": "markdown",
   "id": "4aef89d9-14fe-445c-a480-c58049d5cd55",
   "metadata": {},
   "source": [
    "删除有缺失值的行："
   ]
  },
  {
   "cell_type": "code",
   "execution_count": 84,
   "id": "23358ca7-4b82-47ac-8ce6-f81ef361f892",
   "metadata": {
    "execution": {
     "iopub.execute_input": "2023-04-22T15:00:30.511342Z",
     "iopub.status.busy": "2023-04-22T15:00:30.511342Z",
     "iopub.status.idle": "2023-04-22T15:00:30.521347Z",
     "shell.execute_reply": "2023-04-22T15:00:30.521347Z",
     "shell.execute_reply.started": "2023-04-22T15:00:30.511342Z"
    },
    "tags": []
   },
   "outputs": [],
   "source": [
    "data.dropna(inplace = True)"
   ]
  },
  {
   "cell_type": "markdown",
   "id": "7b7e77cf-a216-451a-92eb-98c3ca9c1c5b",
   "metadata": {},
   "source": [
    "查看数字型列，分析是否存在异常值："
   ]
  },
  {
   "cell_type": "code",
   "execution_count": 85,
   "id": "75787537-fa7b-4fcf-8ed2-3850516511bb",
   "metadata": {
    "execution": {
     "iopub.execute_input": "2023-04-22T15:00:51.752956Z",
     "iopub.status.busy": "2023-04-22T15:00:51.751954Z",
     "iopub.status.idle": "2023-04-22T15:00:51.846043Z",
     "shell.execute_reply": "2023-04-22T15:00:51.846043Z",
     "shell.execute_reply.started": "2023-04-22T15:00:51.752956Z"
    },
    "tags": []
   },
   "outputs": [
    {
     "data": {
      "text/html": [
       "<div>\n",
       "<style scoped>\n",
       "    .dataframe tbody tr th:only-of-type {\n",
       "        vertical-align: middle;\n",
       "    }\n",
       "\n",
       "    .dataframe tbody tr th {\n",
       "        vertical-align: top;\n",
       "    }\n",
       "\n",
       "    .dataframe thead th {\n",
       "        text-align: right;\n",
       "    }\n",
       "</style>\n",
       "<table border=\"1\" class=\"dataframe\">\n",
       "  <thead>\n",
       "    <tr style=\"text-align: right;\">\n",
       "      <th></th>\n",
       "      <th>原价</th>\n",
       "      <th>快递费</th>\n",
       "      <th>活动价 1</th>\n",
       "      <th>月销量 1</th>\n",
       "      <th>累计评价 1</th>\n",
       "      <th>信誉 1</th>\n",
       "      <th>活动价 2</th>\n",
       "      <th>月销量 2</th>\n",
       "      <th>累计评价 2</th>\n",
       "      <th>信誉 2</th>\n",
       "      <th>活动价 3</th>\n",
       "      <th>月销量 3</th>\n",
       "      <th>累计评价 3</th>\n",
       "      <th>信誉 3</th>\n",
       "    </tr>\n",
       "  </thead>\n",
       "  <tbody>\n",
       "    <tr>\n",
       "      <th>count</th>\n",
       "      <td>9565.000000</td>\n",
       "      <td>9565.000000</td>\n",
       "      <td>9565.000000</td>\n",
       "      <td>9565.000000</td>\n",
       "      <td>9.565000e+03</td>\n",
       "      <td>9.565000e+03</td>\n",
       "      <td>9565.000000</td>\n",
       "      <td>9565.000000</td>\n",
       "      <td>9.565000e+03</td>\n",
       "      <td>9.565000e+03</td>\n",
       "      <td>9565.000000</td>\n",
       "      <td>9565.000000</td>\n",
       "      <td>9.565000e+03</td>\n",
       "      <td>9.565000e+03</td>\n",
       "    </tr>\n",
       "    <tr>\n",
       "      <th>mean</th>\n",
       "      <td>95.959199</td>\n",
       "      <td>3.375787</td>\n",
       "      <td>64.814848</td>\n",
       "      <td>2033.939258</td>\n",
       "      <td>5.037580e+03</td>\n",
       "      <td>9.152489e+04</td>\n",
       "      <td>67.310083</td>\n",
       "      <td>1658.569890</td>\n",
       "      <td>5.401714e+03</td>\n",
       "      <td>9.442351e+04</td>\n",
       "      <td>69.280003</td>\n",
       "      <td>1874.318453</td>\n",
       "      <td>5.656990e+03</td>\n",
       "      <td>9.708243e+04</td>\n",
       "    </tr>\n",
       "    <tr>\n",
       "      <th>std</th>\n",
       "      <td>198.797490</td>\n",
       "      <td>25.927766</td>\n",
       "      <td>172.569922</td>\n",
       "      <td>16633.167049</td>\n",
       "      <td>3.569532e+04</td>\n",
       "      <td>6.443426e+05</td>\n",
       "      <td>204.773071</td>\n",
       "      <td>12541.009121</td>\n",
       "      <td>3.626365e+04</td>\n",
       "      <td>6.559566e+05</td>\n",
       "      <td>205.640680</td>\n",
       "      <td>13124.293240</td>\n",
       "      <td>3.658357e+04</td>\n",
       "      <td>6.667183e+05</td>\n",
       "    </tr>\n",
       "    <tr>\n",
       "      <th>min</th>\n",
       "      <td>0.490000</td>\n",
       "      <td>0.000000</td>\n",
       "      <td>0.270000</td>\n",
       "      <td>0.000000</td>\n",
       "      <td>1.000000e+00</td>\n",
       "      <td>-1.000000e+00</td>\n",
       "      <td>0.000000</td>\n",
       "      <td>0.000000</td>\n",
       "      <td>1.000000e+00</td>\n",
       "      <td>-1.000000e+00</td>\n",
       "      <td>0.000000</td>\n",
       "      <td>0.000000</td>\n",
       "      <td>1.000000e+00</td>\n",
       "      <td>-1.000000e+00</td>\n",
       "    </tr>\n",
       "    <tr>\n",
       "      <th>25%</th>\n",
       "      <td>36.800000</td>\n",
       "      <td>0.000000</td>\n",
       "      <td>25.900000</td>\n",
       "      <td>24.000000</td>\n",
       "      <td>5.200000e+01</td>\n",
       "      <td>-1.000000e+00</td>\n",
       "      <td>26.000000</td>\n",
       "      <td>19.000000</td>\n",
       "      <td>5.900000e+01</td>\n",
       "      <td>-1.000000e+00</td>\n",
       "      <td>26.800000</td>\n",
       "      <td>24.000000</td>\n",
       "      <td>6.500000e+01</td>\n",
       "      <td>-1.000000e+00</td>\n",
       "    </tr>\n",
       "    <tr>\n",
       "      <th>50%</th>\n",
       "      <td>65.000000</td>\n",
       "      <td>0.000000</td>\n",
       "      <td>39.800000</td>\n",
       "      <td>110.000000</td>\n",
       "      <td>2.520000e+02</td>\n",
       "      <td>1.076000e+03</td>\n",
       "      <td>39.800000</td>\n",
       "      <td>93.000000</td>\n",
       "      <td>2.880000e+02</td>\n",
       "      <td>1.238000e+03</td>\n",
       "      <td>39.900000</td>\n",
       "      <td>119.000000</td>\n",
       "      <td>3.130000e+02</td>\n",
       "      <td>1.322000e+03</td>\n",
       "    </tr>\n",
       "    <tr>\n",
       "      <th>75%</th>\n",
       "      <td>108.000000</td>\n",
       "      <td>0.000000</td>\n",
       "      <td>71.900000</td>\n",
       "      <td>508.000000</td>\n",
       "      <td>1.217000e+03</td>\n",
       "      <td>2.947600e+04</td>\n",
       "      <td>72.000000</td>\n",
       "      <td>430.000000</td>\n",
       "      <td>1.369000e+03</td>\n",
       "      <td>3.088900e+04</td>\n",
       "      <td>75.000000</td>\n",
       "      <td>536.000000</td>\n",
       "      <td>1.508000e+03</td>\n",
       "      <td>3.242500e+04</td>\n",
       "    </tr>\n",
       "    <tr>\n",
       "      <th>max</th>\n",
       "      <td>8000.000000</td>\n",
       "      <td>999.000000</td>\n",
       "      <td>8888.000000</td>\n",
       "      <td>855576.000000</td>\n",
       "      <td>1.022946e+06</td>\n",
       "      <td>1.955834e+07</td>\n",
       "      <td>8888.000000</td>\n",
       "      <td>481776.000000</td>\n",
       "      <td>1.022052e+06</td>\n",
       "      <td>1.973566e+07</td>\n",
       "      <td>8888.000000</td>\n",
       "      <td>541663.000000</td>\n",
       "      <td>1.032508e+06</td>\n",
       "      <td>1.996865e+07</td>\n",
       "    </tr>\n",
       "  </tbody>\n",
       "</table>\n",
       "</div>"
      ],
      "text/plain": [
       "                原价          快递费        活动价 1          月销量 1        累计评价 1   \n",
       "count  9565.000000  9565.000000  9565.000000    9565.000000  9.565000e+03  \\\n",
       "mean     95.959199     3.375787    64.814848    2033.939258  5.037580e+03   \n",
       "std     198.797490    25.927766   172.569922   16633.167049  3.569532e+04   \n",
       "min       0.490000     0.000000     0.270000       0.000000  1.000000e+00   \n",
       "25%      36.800000     0.000000    25.900000      24.000000  5.200000e+01   \n",
       "50%      65.000000     0.000000    39.800000     110.000000  2.520000e+02   \n",
       "75%     108.000000     0.000000    71.900000     508.000000  1.217000e+03   \n",
       "max    8000.000000   999.000000  8888.000000  855576.000000  1.022946e+06   \n",
       "\n",
       "               信誉 1        活动价 2          月销量 2        累计评价 2          信誉 2   \n",
       "count  9.565000e+03  9565.000000    9565.000000  9.565000e+03  9.565000e+03  \\\n",
       "mean   9.152489e+04    67.310083    1658.569890  5.401714e+03  9.442351e+04   \n",
       "std    6.443426e+05   204.773071   12541.009121  3.626365e+04  6.559566e+05   \n",
       "min   -1.000000e+00     0.000000       0.000000  1.000000e+00 -1.000000e+00   \n",
       "25%   -1.000000e+00    26.000000      19.000000  5.900000e+01 -1.000000e+00   \n",
       "50%    1.076000e+03    39.800000      93.000000  2.880000e+02  1.238000e+03   \n",
       "75%    2.947600e+04    72.000000     430.000000  1.369000e+03  3.088900e+04   \n",
       "max    1.955834e+07  8888.000000  481776.000000  1.022052e+06  1.973566e+07   \n",
       "\n",
       "             活动价 3          月销量 3        累计评价 3          信誉 3  \n",
       "count  9565.000000    9565.000000  9.565000e+03  9.565000e+03  \n",
       "mean     69.280003    1874.318453  5.656990e+03  9.708243e+04  \n",
       "std     205.640680   13124.293240  3.658357e+04  6.667183e+05  \n",
       "min       0.000000       0.000000  1.000000e+00 -1.000000e+00  \n",
       "25%      26.800000      24.000000  6.500000e+01 -1.000000e+00  \n",
       "50%      39.900000     119.000000  3.130000e+02  1.322000e+03  \n",
       "75%      75.000000     536.000000  1.508000e+03  3.242500e+04  \n",
       "max    8888.000000  541663.000000  1.032508e+06  1.996865e+07  "
      ]
     },
     "execution_count": 85,
     "metadata": {},
     "output_type": "execute_result"
    }
   ],
   "source": [
    "data[['原价','快递费','活动价 1','月销量 1','累计评价 1','信誉 1','活动价 2','月销量 2','累计评价 2','信誉 2','活动价 3','月销量 3','累计评价 3','信誉 3']].describe()"
   ]
  },
  {
   "cell_type": "code",
   "execution_count": 86,
   "id": "ffc10e76-5bd5-4111-bcbd-896e08fd2b84",
   "metadata": {
    "execution": {
     "iopub.execute_input": "2023-04-22T15:01:08.458596Z",
     "iopub.status.busy": "2023-04-22T15:01:08.457597Z",
     "iopub.status.idle": "2023-04-22T15:01:08.486158Z",
     "shell.execute_reply": "2023-04-22T15:01:08.486158Z",
     "shell.execute_reply.started": "2023-04-22T15:01:08.458596Z"
    },
    "tags": []
   },
   "outputs": [
    {
     "data": {
      "text/html": [
       "<div>\n",
       "<style scoped>\n",
       "    .dataframe tbody tr th:only-of-type {\n",
       "        vertical-align: middle;\n",
       "    }\n",
       "\n",
       "    .dataframe tbody tr th {\n",
       "        vertical-align: top;\n",
       "    }\n",
       "\n",
       "    .dataframe thead th {\n",
       "        text-align: right;\n",
       "    }\n",
       "</style>\n",
       "<table border=\"1\" class=\"dataframe\">\n",
       "  <thead>\n",
       "    <tr style=\"text-align: right;\">\n",
       "      <th></th>\n",
       "      <th>活动价 4</th>\n",
       "      <th>月销量 4</th>\n",
       "      <th>累计评价 4</th>\n",
       "      <th>信誉 4</th>\n",
       "      <th>活动价 5</th>\n",
       "      <th>月销量 5</th>\n",
       "      <th>累计评价 5</th>\n",
       "      <th>信誉 5</th>\n",
       "      <th>活动价 6</th>\n",
       "      <th>月销量 6</th>\n",
       "      <th>累计评价 6</th>\n",
       "      <th>信誉 6</th>\n",
       "    </tr>\n",
       "  </thead>\n",
       "  <tbody>\n",
       "    <tr>\n",
       "      <th>count</th>\n",
       "      <td>9565.000000</td>\n",
       "      <td>9565.000000</td>\n",
       "      <td>9.565000e+03</td>\n",
       "      <td>9.565000e+03</td>\n",
       "      <td>9565.000000</td>\n",
       "      <td>9565.000000</td>\n",
       "      <td>9.565000e+03</td>\n",
       "      <td>9.565000e+03</td>\n",
       "      <td>9565.000000</td>\n",
       "      <td>9565.000000</td>\n",
       "      <td>9.565000e+03</td>\n",
       "      <td>9.565000e+03</td>\n",
       "    </tr>\n",
       "    <tr>\n",
       "      <th>mean</th>\n",
       "      <td>70.202445</td>\n",
       "      <td>765.576268</td>\n",
       "      <td>5.736159e+03</td>\n",
       "      <td>9.903367e+04</td>\n",
       "      <td>69.831863</td>\n",
       "      <td>1370.334135</td>\n",
       "      <td>5.894097e+03</td>\n",
       "      <td>1.008798e+05</td>\n",
       "      <td>70.133341</td>\n",
       "      <td>1183.893675</td>\n",
       "      <td>6.026570e+03</td>\n",
       "      <td>1.031924e+05</td>\n",
       "    </tr>\n",
       "    <tr>\n",
       "      <th>std</th>\n",
       "      <td>216.785399</td>\n",
       "      <td>4923.806316</td>\n",
       "      <td>3.671857e+04</td>\n",
       "      <td>6.746762e+05</td>\n",
       "      <td>207.864261</td>\n",
       "      <td>9335.612469</td>\n",
       "      <td>3.738392e+04</td>\n",
       "      <td>6.822866e+05</td>\n",
       "      <td>208.237117</td>\n",
       "      <td>7954.268687</td>\n",
       "      <td>3.791892e+04</td>\n",
       "      <td>6.921961e+05</td>\n",
       "    </tr>\n",
       "    <tr>\n",
       "      <th>min</th>\n",
       "      <td>0.000000</td>\n",
       "      <td>0.000000</td>\n",
       "      <td>1.000000e+00</td>\n",
       "      <td>-1.000000e+00</td>\n",
       "      <td>0.000000</td>\n",
       "      <td>0.000000</td>\n",
       "      <td>1.000000e+00</td>\n",
       "      <td>-1.000000e+00</td>\n",
       "      <td>0.270000</td>\n",
       "      <td>0.000000</td>\n",
       "      <td>0.000000e+00</td>\n",
       "      <td>-1.000000e+00</td>\n",
       "    </tr>\n",
       "    <tr>\n",
       "      <th>25%</th>\n",
       "      <td>26.800000</td>\n",
       "      <td>10.000000</td>\n",
       "      <td>6.600000e+01</td>\n",
       "      <td>-1.000000e+00</td>\n",
       "      <td>26.800000</td>\n",
       "      <td>13.000000</td>\n",
       "      <td>6.500000e+01</td>\n",
       "      <td>-1.000000e+00</td>\n",
       "      <td>26.800000</td>\n",
       "      <td>11.000000</td>\n",
       "      <td>6.300000e+01</td>\n",
       "      <td>-1.000000e+00</td>\n",
       "    </tr>\n",
       "    <tr>\n",
       "      <th>50%</th>\n",
       "      <td>39.900000</td>\n",
       "      <td>48.000000</td>\n",
       "      <td>3.210000e+02</td>\n",
       "      <td>1.396000e+03</td>\n",
       "      <td>39.900000</td>\n",
       "      <td>68.000000</td>\n",
       "      <td>3.140000e+02</td>\n",
       "      <td>1.480000e+03</td>\n",
       "      <td>39.900000</td>\n",
       "      <td>60.000000</td>\n",
       "      <td>3.040000e+02</td>\n",
       "      <td>1.657000e+03</td>\n",
       "    </tr>\n",
       "    <tr>\n",
       "      <th>75%</th>\n",
       "      <td>75.000000</td>\n",
       "      <td>214.000000</td>\n",
       "      <td>1.538000e+03</td>\n",
       "      <td>3.410200e+04</td>\n",
       "      <td>74.900000</td>\n",
       "      <td>326.000000</td>\n",
       "      <td>1.548000e+03</td>\n",
       "      <td>3.572500e+04</td>\n",
       "      <td>75.000000</td>\n",
       "      <td>288.000000</td>\n",
       "      <td>1.541000e+03</td>\n",
       "      <td>3.697400e+04</td>\n",
       "    </tr>\n",
       "    <tr>\n",
       "      <th>max</th>\n",
       "      <td>8888.000000</td>\n",
       "      <td>154778.000000</td>\n",
       "      <td>1.020003e+06</td>\n",
       "      <td>2.016958e+07</td>\n",
       "      <td>8000.000000</td>\n",
       "      <td>320174.000000</td>\n",
       "      <td>1.041386e+06</td>\n",
       "      <td>2.030406e+07</td>\n",
       "      <td>8000.000000</td>\n",
       "      <td>248329.000000</td>\n",
       "      <td>1.033945e+06</td>\n",
       "      <td>2.047807e+07</td>\n",
       "    </tr>\n",
       "  </tbody>\n",
       "</table>\n",
       "</div>"
      ],
      "text/plain": [
       "             活动价 4          月销量 4        累计评价 4          信誉 4        活动价 5   \n",
       "count  9565.000000    9565.000000  9.565000e+03  9.565000e+03  9565.000000  \\\n",
       "mean     70.202445     765.576268  5.736159e+03  9.903367e+04    69.831863   \n",
       "std     216.785399    4923.806316  3.671857e+04  6.746762e+05   207.864261   \n",
       "min       0.000000       0.000000  1.000000e+00 -1.000000e+00     0.000000   \n",
       "25%      26.800000      10.000000  6.600000e+01 -1.000000e+00    26.800000   \n",
       "50%      39.900000      48.000000  3.210000e+02  1.396000e+03    39.900000   \n",
       "75%      75.000000     214.000000  1.538000e+03  3.410200e+04    74.900000   \n",
       "max    8888.000000  154778.000000  1.020003e+06  2.016958e+07  8000.000000   \n",
       "\n",
       "               月销量 5        累计评价 5          信誉 5        活动价 6          月销量 6   \n",
       "count    9565.000000  9.565000e+03  9.565000e+03  9565.000000    9565.000000  \\\n",
       "mean     1370.334135  5.894097e+03  1.008798e+05    70.133341    1183.893675   \n",
       "std      9335.612469  3.738392e+04  6.822866e+05   208.237117    7954.268687   \n",
       "min         0.000000  1.000000e+00 -1.000000e+00     0.270000       0.000000   \n",
       "25%        13.000000  6.500000e+01 -1.000000e+00    26.800000      11.000000   \n",
       "50%        68.000000  3.140000e+02  1.480000e+03    39.900000      60.000000   \n",
       "75%       326.000000  1.548000e+03  3.572500e+04    75.000000     288.000000   \n",
       "max    320174.000000  1.041386e+06  2.030406e+07  8000.000000  248329.000000   \n",
       "\n",
       "             累计评价 6          信誉 6  \n",
       "count  9.565000e+03  9.565000e+03  \n",
       "mean   6.026570e+03  1.031924e+05  \n",
       "std    3.791892e+04  6.921961e+05  \n",
       "min    0.000000e+00 -1.000000e+00  \n",
       "25%    6.300000e+01 -1.000000e+00  \n",
       "50%    3.040000e+02  1.657000e+03  \n",
       "75%    1.541000e+03  3.697400e+04  \n",
       "max    1.033945e+06  2.047807e+07  "
      ]
     },
     "execution_count": 86,
     "metadata": {},
     "output_type": "execute_result"
    }
   ],
   "source": [
    "data[['活动价 4','月销量 4','累计评价 4','信誉 4','活动价 5','月销量 5','累计评价 5','信誉 5','活动价 6','月销量 6','累计评价 6','信誉 6']].describe()"
   ]
  },
  {
   "cell_type": "markdown",
   "id": "af2ab343-f623-4fad-9bb6-9fd2219fd80b",
   "metadata": {},
   "source": [
    "基本没问题了，保存数据："
   ]
  },
  {
   "cell_type": "code",
   "execution_count": 87,
   "id": "929b069d-f8fc-4201-b4d9-0a1f2b24f006",
   "metadata": {
    "execution": {
     "iopub.execute_input": "2023-04-22T15:01:34.428031Z",
     "iopub.status.busy": "2023-04-22T15:01:34.427031Z",
     "iopub.status.idle": "2023-04-22T15:01:34.575175Z",
     "shell.execute_reply": "2023-04-22T15:01:34.574176Z",
     "shell.execute_reply.started": "2023-04-22T15:01:34.428031Z"
    },
    "tags": []
   },
   "outputs": [],
   "source": [
    "data.to_csv('./save_data2.csv',header=True,index=False)"
   ]
  },
  {
   "cell_type": "markdown",
   "id": "28d5ed9b-e8f3-4e29-ab08-8524922a84ce",
   "metadata": {},
   "source": [
    "<p>5.1.5 描述性分析</p>\n",
    "<p>（1）基本情况</p>\n",
    "<p>引入需要的包：</p>"
   ]
  },
  {
   "cell_type": "code",
   "execution_count": 88,
   "id": "2fa76dc7-c020-4df4-ad44-7959112091d0",
   "metadata": {
    "execution": {
     "iopub.execute_input": "2023-04-22T15:02:00.675840Z",
     "iopub.status.busy": "2023-04-22T15:02:00.675840Z",
     "iopub.status.idle": "2023-04-22T15:02:01.715914Z",
     "shell.execute_reply": "2023-04-22T15:02:01.715914Z",
     "shell.execute_reply.started": "2023-04-22T15:02:00.675840Z"
    },
    "tags": []
   },
   "outputs": [],
   "source": [
    "import pandas as pd\n",
    "import matplotlib.pyplot as plt"
   ]
  },
  {
   "cell_type": "markdown",
   "id": "1f9d6c1e-672a-46fe-9307-2bdd31457bb5",
   "metadata": {},
   "source": [
    "为了让中文及负号正常显示，做如下设置："
   ]
  },
  {
   "cell_type": "code",
   "execution_count": 89,
   "id": "d8501004-fc5b-4ef1-90e8-850a1f4f9472",
   "metadata": {
    "execution": {
     "iopub.execute_input": "2023-04-22T15:02:16.780869Z",
     "iopub.status.busy": "2023-04-22T15:02:16.779869Z",
     "iopub.status.idle": "2023-04-22T15:02:16.785874Z",
     "shell.execute_reply": "2023-04-22T15:02:16.785874Z",
     "shell.execute_reply.started": "2023-04-22T15:02:16.780869Z"
    },
    "tags": []
   },
   "outputs": [],
   "source": [
    "plt.rcParams['axes.unicode_minus']=False #用来正常显示负号\n",
    "plt.rcParams['font.sans-serif']=['SimHei'] #防止中文标签乱码"
   ]
  },
  {
   "cell_type": "markdown",
   "id": "23d485ab-ee8d-483d-9136-c822280c99e9",
   "metadata": {},
   "source": [
    "读出数据文件："
   ]
  },
  {
   "cell_type": "code",
   "execution_count": 90,
   "id": "1058e900-aace-4ba7-81f4-5e638a55343a",
   "metadata": {
    "execution": {
     "iopub.execute_input": "2023-04-22T15:02:40.578529Z",
     "iopub.status.busy": "2023-04-22T15:02:40.578529Z",
     "iopub.status.idle": "2023-04-22T15:02:40.616590Z",
     "shell.execute_reply": "2023-04-22T15:02:40.616590Z",
     "shell.execute_reply.started": "2023-04-22T15:02:40.578529Z"
    },
    "tags": []
   },
   "outputs": [],
   "source": [
    "data = pd.read_csv('./save_data2.csv')"
   ]
  },
  {
   "cell_type": "markdown",
   "id": "82a442bf-2aff-4cd5-a750-29fb8c6c6321",
   "metadata": {},
   "source": [
    "<p>按品类统计商品款数</p>\n",
    "<p>用 groupby 汇总：</p>"
   ]
  },
  {
   "cell_type": "code",
   "execution_count": 91,
   "id": "a4bd1c6f-0eae-4cb0-9593-96efec3bd548",
   "metadata": {
    "execution": {
     "iopub.execute_input": "2023-04-22T15:03:28.078405Z",
     "iopub.status.busy": "2023-04-22T15:03:28.078405Z",
     "iopub.status.idle": "2023-04-22T15:03:28.086402Z",
     "shell.execute_reply": "2023-04-22T15:03:28.086402Z",
     "shell.execute_reply.started": "2023-04-22T15:03:28.078405Z"
    },
    "tags": []
   },
   "outputs": [
    {
     "data": {
      "text/html": [
       "<div>\n",
       "<style scoped>\n",
       "    .dataframe tbody tr th:only-of-type {\n",
       "        vertical-align: middle;\n",
       "    }\n",
       "\n",
       "    .dataframe tbody tr th {\n",
       "        vertical-align: top;\n",
       "    }\n",
       "\n",
       "    .dataframe thead th {\n",
       "        text-align: right;\n",
       "    }\n",
       "</style>\n",
       "<table border=\"1\" class=\"dataframe\">\n",
       "  <thead>\n",
       "    <tr style=\"text-align: right;\">\n",
       "      <th></th>\n",
       "      <th>品类</th>\n",
       "      <th>ID</th>\n",
       "    </tr>\n",
       "  </thead>\n",
       "  <tbody>\n",
       "    <tr>\n",
       "      <th>0</th>\n",
       "      <td>水产</td>\n",
       "      <td>1061</td>\n",
       "    </tr>\n",
       "    <tr>\n",
       "      <th>1</th>\n",
       "      <td>水果</td>\n",
       "      <td>1016</td>\n",
       "    </tr>\n",
       "    <tr>\n",
       "      <th>2</th>\n",
       "      <td>肉</td>\n",
       "      <td>4971</td>\n",
       "    </tr>\n",
       "    <tr>\n",
       "      <th>3</th>\n",
       "      <td>蔬菜</td>\n",
       "      <td>676</td>\n",
       "    </tr>\n",
       "    <tr>\n",
       "      <th>4</th>\n",
       "      <td>蛋</td>\n",
       "      <td>1841</td>\n",
       "    </tr>\n",
       "  </tbody>\n",
       "</table>\n",
       "</div>"
      ],
      "text/plain": [
       "   品类    ID\n",
       "0  水产  1061\n",
       "1  水果  1016\n",
       "2   肉  4971\n",
       "3  蔬菜   676\n",
       "4   蛋  1841"
      ]
     },
     "execution_count": 91,
     "metadata": {},
     "output_type": "execute_result"
    }
   ],
   "source": [
    "#各品类的商品款数\n",
    "data_tmp = data[['品类','ID']]\n",
    "data_tmp = data_tmp.groupby('品类',as_index = False).count()\n",
    "data_tmp"
   ]
  },
  {
   "cell_type": "markdown",
   "id": "0282c8ab-ffa8-4508-81f3-cdf4ad73af34",
   "metadata": {},
   "source": [
    "绘图："
   ]
  },
  {
   "cell_type": "code",
   "execution_count": 92,
   "id": "a91d4b15-b179-4e45-8280-c46d1cac2e76",
   "metadata": {
    "execution": {
     "iopub.execute_input": "2023-04-22T15:03:49.756357Z",
     "iopub.status.busy": "2023-04-22T15:03:49.756357Z",
     "iopub.status.idle": "2023-04-22T15:03:50.328055Z",
     "shell.execute_reply": "2023-04-22T15:03:50.328055Z",
     "shell.execute_reply.started": "2023-04-22T15:03:49.756357Z"
    },
    "tags": []
   },
   "outputs": [
    {
     "data": {
      "text/plain": [
       "Text(0.5, 1.0, '各品类的商品款数')"
      ]
     },
     "execution_count": 92,
     "metadata": {},
     "output_type": "execute_result"
    },
    {
     "data": {
      "image/png": "[encoded data removed]",
      "text/plain": [
       "<Figure size 640x480 with 1 Axes>"
      ]
     },
     "metadata": {},
     "output_type": "display_data"
    }
   ],
   "source": [
    "plt.bar(data_tmp['品类'],data_tmp['ID'], color = ['r','b','g','m','c'] )\n",
    "plt.title('各品类的商品款数')"
   ]
  },
  {
   "cell_type": "markdown",
   "id": "9ae364bc-9102-47f0-8cf2-138774bbe140",
   "metadata": {},
   "source": [
    "<p>按品类统计店铺数量</p>\n",
    "<p>先对店铺去重，然后用 groupby 汇总：</p>"
   ]
  },
  {
   "cell_type": "code",
   "execution_count": 94,
   "id": "bd66d5bf-1ad1-457f-ae3e-90e5bf75d3ec",
   "metadata": {
    "execution": {
     "iopub.execute_input": "2023-04-22T15:04:31.907284Z",
     "iopub.status.busy": "2023-04-22T15:04:31.907284Z",
     "iopub.status.idle": "2023-04-22T15:04:31.940102Z",
     "shell.execute_reply": "2023-04-22T15:04:31.940102Z",
     "shell.execute_reply.started": "2023-04-22T15:04:31.907284Z"
    },
    "tags": []
   },
   "outputs": [
    {
     "name": "stderr",
     "output_type": "stream",
     "text": [
      "C:\\Windows\\Temp\\ipykernel_17048\\1498310168.py:4: SettingWithCopyWarning: \n",
      "A value is trying to be set on a copy of a slice from a DataFrame\n",
      "\n",
      "See the caveats in the documentation: https://pandas.pydata.org/pandas-docs/stable/user_guide/indexing.html#returning-a-view-versus-a-copy\n",
      "  data.是否皇冠[data['平均信誉']>=10001] = 1\n",
      "C:\\Windows\\Temp\\ipykernel_17048\\1498310168.py:6: SettingWithCopyWarning: \n",
      "A value is trying to be set on a copy of a slice from a DataFrame\n",
      "\n",
      "See the caveats in the documentation: https://pandas.pydata.org/pandas-docs/stable/user_guide/indexing.html#returning-a-view-versus-a-copy\n",
      "  data_tmp.drop_duplicates(inplace=True)\n"
     ]
    }
   ],
   "source": [
    "#各品类的店铺数\n",
    "data['平均信誉'] = (data['信誉 1']+data['信誉 2']+data['信誉 3']+data['信誉 4']+data['信誉 5']+data['信誉 6'])/6\n",
    "data['是否皇冠'] = 0\n",
    "data.是否皇冠[data['平均信誉']>=10001] = 1\n",
    "data_tmp = data[['品类','店铺名','是否天猫','是否皇冠']]\n",
    "data_tmp.drop_duplicates(inplace=True)\n",
    "data_tmp.reset_index(drop=True,inplace = True)\n",
    "data_tmp1 = data_tmp[['品类','店铺名']].groupby('品类',as_index = False).count()"
   ]
  },
  {
   "cell_type": "code",
   "execution_count": 95,
   "id": "c1d84ae8-cc57-49b7-b0cd-4377ca4f2e70",
   "metadata": {
    "execution": {
     "iopub.execute_input": "2023-04-22T15:04:40.600168Z",
     "iopub.status.busy": "2023-04-22T15:04:40.600168Z",
     "iopub.status.idle": "2023-04-22T15:04:40.607166Z",
     "shell.execute_reply": "2023-04-22T15:04:40.607166Z",
     "shell.execute_reply.started": "2023-04-22T15:04:40.600168Z"
    },
    "tags": []
   },
   "outputs": [
    {
     "data": {
      "text/html": [
       "<div>\n",
       "<style scoped>\n",
       "    .dataframe tbody tr th:only-of-type {\n",
       "        vertical-align: middle;\n",
       "    }\n",
       "\n",
       "    .dataframe tbody tr th {\n",
       "        vertical-align: top;\n",
       "    }\n",
       "\n",
       "    .dataframe thead th {\n",
       "        text-align: right;\n",
       "    }\n",
       "</style>\n",
       "<table border=\"1\" class=\"dataframe\">\n",
       "  <thead>\n",
       "    <tr style=\"text-align: right;\">\n",
       "      <th></th>\n",
       "      <th>品类</th>\n",
       "      <th>店铺名</th>\n",
       "    </tr>\n",
       "  </thead>\n",
       "  <tbody>\n",
       "    <tr>\n",
       "      <th>0</th>\n",
       "      <td>水产</td>\n",
       "      <td>416</td>\n",
       "    </tr>\n",
       "    <tr>\n",
       "      <th>1</th>\n",
       "      <td>水果</td>\n",
       "      <td>441</td>\n",
       "    </tr>\n",
       "    <tr>\n",
       "      <th>2</th>\n",
       "      <td>肉</td>\n",
       "      <td>2412</td>\n",
       "    </tr>\n",
       "    <tr>\n",
       "      <th>3</th>\n",
       "      <td>蔬菜</td>\n",
       "      <td>347</td>\n",
       "    </tr>\n",
       "    <tr>\n",
       "      <th>4</th>\n",
       "      <td>蛋</td>\n",
       "      <td>821</td>\n",
       "    </tr>\n",
       "  </tbody>\n",
       "</table>\n",
       "</div>"
      ],
      "text/plain": [
       "   品类   店铺名\n",
       "0  水产   416\n",
       "1  水果   441\n",
       "2   肉  2412\n",
       "3  蔬菜   347\n",
       "4   蛋   821"
      ]
     },
     "execution_count": 95,
     "metadata": {},
     "output_type": "execute_result"
    }
   ],
   "source": [
    "data_tmp1"
   ]
  },
  {
   "cell_type": "markdown",
   "id": "c862fada-c153-426b-acfa-ad22a4cd15b3",
   "metadata": {},
   "source": [
    "绘图："
   ]
  },
  {
   "cell_type": "code",
   "execution_count": 96,
   "id": "946f0ea2-4dfb-49ce-9318-4d464add45d8",
   "metadata": {
    "execution": {
     "iopub.execute_input": "2023-04-22T15:04:56.557026Z",
     "iopub.status.busy": "2023-04-22T15:04:56.557026Z",
     "iopub.status.idle": "2023-04-22T15:04:56.680601Z",
     "shell.execute_reply": "2023-04-22T15:04:56.679600Z",
     "shell.execute_reply.started": "2023-04-22T15:04:56.557026Z"
    },
    "tags": []
   },
   "outputs": [
    {
     "data": {
      "text/plain": [
       "Text(0.5, 1.0, '各品类的店铺家数')"
      ]
     },
     "execution_count": 96,
     "metadata": {},
     "output_type": "execute_result"
    },
    {
     "data": {
      "image/png": "[encoded data removed]",
      "text/plain": [
       "<Figure size 640x480 with 1 Axes>"
      ]
     },
     "metadata": {},
     "output_type": "display_data"
    }
   ],
   "source": [
    "plt.bar(data_tmp1['品类'],data_tmp1['店铺名'], color = ['r','b','g','m','c'] )\n",
    "plt.title('各品类的店铺家数')"
   ]
  },
  {
   "cell_type": "markdown",
   "id": "c603abdc-d766-403e-b8e2-439cb3f94fa7",
   "metadata": {},
   "source": [
    "<p>按品类统计天猫店铺占比、淘宝皇冠店铺占比</p>\n",
    "<p>用 groupby 汇总：</p>"
   ]
  },
  {
   "cell_type": "code",
   "execution_count": 97,
   "id": "8b75e286-fb43-42be-bb89-9152c66d55ab",
   "metadata": {
    "execution": {
     "iopub.execute_input": "2023-04-22T15:05:24.578399Z",
     "iopub.status.busy": "2023-04-22T15:05:24.578399Z",
     "iopub.status.idle": "2023-04-22T15:05:24.586400Z",
     "shell.execute_reply": "2023-04-22T15:05:24.586400Z",
     "shell.execute_reply.started": "2023-04-22T15:05:24.578399Z"
    },
    "tags": []
   },
   "outputs": [
    {
     "data": {
      "text/html": [
       "<div>\n",
       "<style scoped>\n",
       "    .dataframe tbody tr th:only-of-type {\n",
       "        vertical-align: middle;\n",
       "    }\n",
       "\n",
       "    .dataframe tbody tr th {\n",
       "        vertical-align: top;\n",
       "    }\n",
       "\n",
       "    .dataframe thead th {\n",
       "        text-align: right;\n",
       "    }\n",
       "</style>\n",
       "<table border=\"1\" class=\"dataframe\">\n",
       "  <thead>\n",
       "    <tr style=\"text-align: right;\">\n",
       "      <th></th>\n",
       "      <th>品类</th>\n",
       "      <th>是否天猫</th>\n",
       "    </tr>\n",
       "  </thead>\n",
       "  <tbody>\n",
       "    <tr>\n",
       "      <th>0</th>\n",
       "      <td>水产</td>\n",
       "      <td>178</td>\n",
       "    </tr>\n",
       "    <tr>\n",
       "      <th>1</th>\n",
       "      <td>水果</td>\n",
       "      <td>265</td>\n",
       "    </tr>\n",
       "    <tr>\n",
       "      <th>2</th>\n",
       "      <td>肉</td>\n",
       "      <td>604</td>\n",
       "    </tr>\n",
       "    <tr>\n",
       "      <th>3</th>\n",
       "      <td>蔬菜</td>\n",
       "      <td>78</td>\n",
       "    </tr>\n",
       "    <tr>\n",
       "      <th>4</th>\n",
       "      <td>蛋</td>\n",
       "      <td>244</td>\n",
       "    </tr>\n",
       "  </tbody>\n",
       "</table>\n",
       "</div>"
      ],
      "text/plain": [
       "   品类  是否天猫\n",
       "0  水产   178\n",
       "1  水果   265\n",
       "2   肉   604\n",
       "3  蔬菜    78\n",
       "4   蛋   244"
      ]
     },
     "execution_count": 97,
     "metadata": {},
     "output_type": "execute_result"
    }
   ],
   "source": [
    "data_tmp2 = data_tmp[['品类','是否天猫']].groupby('品类',as_index = False).sum()\n",
    "data_tmp2"
   ]
  },
  {
   "cell_type": "markdown",
   "id": "12c70484-f71c-4ac3-949d-6dd7e537804c",
   "metadata": {},
   "source": [
    "转换为百分比："
   ]
  },
  {
   "cell_type": "code",
   "execution_count": 98,
   "id": "d566457c-61ce-46b8-938c-fed0352e6626",
   "metadata": {
    "execution": {
     "iopub.execute_input": "2023-04-22T15:05:41.105772Z",
     "iopub.status.busy": "2023-04-22T15:05:41.104773Z",
     "iopub.status.idle": "2023-04-22T15:05:41.113781Z",
     "shell.execute_reply": "2023-04-22T15:05:41.112779Z",
     "shell.execute_reply.started": "2023-04-22T15:05:41.105772Z"
    },
    "tags": []
   },
   "outputs": [
    {
     "data": {
      "text/html": [
       "<div>\n",
       "<style scoped>\n",
       "    .dataframe tbody tr th:only-of-type {\n",
       "        vertical-align: middle;\n",
       "    }\n",
       "\n",
       "    .dataframe tbody tr th {\n",
       "        vertical-align: top;\n",
       "    }\n",
       "\n",
       "    .dataframe thead th {\n",
       "        text-align: right;\n",
       "    }\n",
       "</style>\n",
       "<table border=\"1\" class=\"dataframe\">\n",
       "  <thead>\n",
       "    <tr style=\"text-align: right;\">\n",
       "      <th></th>\n",
       "      <th>品类</th>\n",
       "      <th>是否天猫</th>\n",
       "      <th>天猫占比</th>\n",
       "    </tr>\n",
       "  </thead>\n",
       "  <tbody>\n",
       "    <tr>\n",
       "      <th>0</th>\n",
       "      <td>水产</td>\n",
       "      <td>178</td>\n",
       "      <td>0.427885</td>\n",
       "    </tr>\n",
       "    <tr>\n",
       "      <th>1</th>\n",
       "      <td>水果</td>\n",
       "      <td>265</td>\n",
       "      <td>0.600907</td>\n",
       "    </tr>\n",
       "    <tr>\n",
       "      <th>2</th>\n",
       "      <td>肉</td>\n",
       "      <td>604</td>\n",
       "      <td>0.250415</td>\n",
       "    </tr>\n",
       "    <tr>\n",
       "      <th>3</th>\n",
       "      <td>蔬菜</td>\n",
       "      <td>78</td>\n",
       "      <td>0.224784</td>\n",
       "    </tr>\n",
       "    <tr>\n",
       "      <th>4</th>\n",
       "      <td>蛋</td>\n",
       "      <td>244</td>\n",
       "      <td>0.297199</td>\n",
       "    </tr>\n",
       "  </tbody>\n",
       "</table>\n",
       "</div>"
      ],
      "text/plain": [
       "   品类  是否天猫      天猫占比\n",
       "0  水产   178  0.427885\n",
       "1  水果   265  0.600907\n",
       "2   肉   604  0.250415\n",
       "3  蔬菜    78  0.224784\n",
       "4   蛋   244  0.297199"
      ]
     },
     "execution_count": 98,
     "metadata": {},
     "output_type": "execute_result"
    }
   ],
   "source": [
    "data_tmp2['天猫占比'] = data_tmp2['是否天猫']/data_tmp1['店铺名']\n",
    "data_tmp2"
   ]
  },
  {
   "cell_type": "markdown",
   "id": "b2e08a6b-6a20-42ed-a1fe-b601222b350e",
   "metadata": {},
   "source": [
    "绘图："
   ]
  },
  {
   "cell_type": "code",
   "execution_count": 99,
   "id": "87040f15-b2c9-4342-8cdc-c0ca072cf26e",
   "metadata": {
    "execution": {
     "iopub.execute_input": "2023-04-22T15:05:58.289977Z",
     "iopub.status.busy": "2023-04-22T15:05:58.289977Z",
     "iopub.status.idle": "2023-04-22T15:05:58.440382Z",
     "shell.execute_reply": "2023-04-22T15:05:58.440382Z",
     "shell.execute_reply.started": "2023-04-22T15:05:58.289977Z"
    },
    "tags": []
   },
   "outputs": [
    {
     "data": {
      "text/plain": [
       "Text(0.5, 1.0, '各品类的店铺类型')"
      ]
     },
     "execution_count": 99,
     "metadata": {},
     "output_type": "execute_result"
    },
    {
     "data": {
      "image/png": "[encoded data removed]",
      "text/plain": [
       "<Figure size 640x480 with 1 Axes>"
      ]
     },
     "metadata": {},
     "output_type": "display_data"
    }
   ],
   "source": [
    "plt.ylim((0,1.3))\n",
    "plt.yticks([0,0.2,0.4,0.6,0.8,1])\n",
    "data_tmp2['淘宝占比'] = 1-data_tmp2['天猫占比']\n",
    "plt.bar(data_tmp2['品类'],data_tmp2['天猫占比'], color = ['m'] )\n",
    "plt.bar(data_tmp2['品类'],data_tmp2['淘宝占比'], bottom= data_tmp2['天猫占比'],color = ['g'] )\n",
    "plt.legend(['天猫店铺','淘宝店铺'])\n",
    "plt.title('各品类的店铺类型')"
   ]
  },
  {
   "cell_type": "markdown",
   "id": "9a244eb5-115c-403e-97fc-5fdbc9325e55",
   "metadata": {},
   "source": [
    "统计淘宝皇冠店铺数量："
   ]
  },
  {
   "cell_type": "code",
   "execution_count": 100,
   "id": "c999b852-a088-468c-bd70-979f8b4bfd27",
   "metadata": {
    "execution": {
     "iopub.execute_input": "2023-04-22T15:06:15.904555Z",
     "iopub.status.busy": "2023-04-22T15:06:15.903555Z",
     "iopub.status.idle": "2023-04-22T15:06:15.911555Z",
     "shell.execute_reply": "2023-04-22T15:06:15.911555Z",
     "shell.execute_reply.started": "2023-04-22T15:06:15.904555Z"
    },
    "tags": []
   },
   "outputs": [
    {
     "data": {
      "text/html": [
       "<div>\n",
       "<style scoped>\n",
       "    .dataframe tbody tr th:only-of-type {\n",
       "        vertical-align: middle;\n",
       "    }\n",
       "\n",
       "    .dataframe tbody tr th {\n",
       "        vertical-align: top;\n",
       "    }\n",
       "\n",
       "    .dataframe thead th {\n",
       "        text-align: right;\n",
       "    }\n",
       "</style>\n",
       "<table border=\"1\" class=\"dataframe\">\n",
       "  <thead>\n",
       "    <tr style=\"text-align: right;\">\n",
       "      <th></th>\n",
       "      <th>品类</th>\n",
       "      <th>是否皇冠</th>\n",
       "    </tr>\n",
       "  </thead>\n",
       "  <tbody>\n",
       "    <tr>\n",
       "      <th>0</th>\n",
       "      <td>水产</td>\n",
       "      <td>106</td>\n",
       "    </tr>\n",
       "    <tr>\n",
       "      <th>1</th>\n",
       "      <td>水果</td>\n",
       "      <td>91</td>\n",
       "    </tr>\n",
       "    <tr>\n",
       "      <th>2</th>\n",
       "      <td>肉</td>\n",
       "      <td>1272</td>\n",
       "    </tr>\n",
       "    <tr>\n",
       "      <th>3</th>\n",
       "      <td>蔬菜</td>\n",
       "      <td>125</td>\n",
       "    </tr>\n",
       "    <tr>\n",
       "      <th>4</th>\n",
       "      <td>蛋</td>\n",
       "      <td>257</td>\n",
       "    </tr>\n",
       "  </tbody>\n",
       "</table>\n",
       "</div>"
      ],
      "text/plain": [
       "   品类  是否皇冠\n",
       "0  水产   106\n",
       "1  水果    91\n",
       "2   肉  1272\n",
       "3  蔬菜   125\n",
       "4   蛋   257"
      ]
     },
     "execution_count": 100,
     "metadata": {},
     "output_type": "execute_result"
    }
   ],
   "source": [
    "#各品类的淘宝皇冠店铺占比\n",
    "data_tmp3 = data_tmp[['品类','是否皇冠']].groupby('品类',as_index = False).sum()\n",
    "data_tmp3"
   ]
  },
  {
   "cell_type": "markdown",
   "id": "96a76326-f674-4aae-98ff-e9d26c328eeb",
   "metadata": {},
   "source": [
    "计算占比："
   ]
  },
  {
   "cell_type": "code",
   "execution_count": 101,
   "id": "f6af0768-dbff-4cf7-8b7e-a3601d1c0b81",
   "metadata": {
    "execution": {
     "iopub.execute_input": "2023-04-22T15:06:32.458144Z",
     "iopub.status.busy": "2023-04-22T15:06:32.456639Z",
     "iopub.status.idle": "2023-04-22T15:06:32.468150Z",
     "shell.execute_reply": "2023-04-22T15:06:32.468150Z",
     "shell.execute_reply.started": "2023-04-22T15:06:32.458144Z"
    },
    "tags": []
   },
   "outputs": [
    {
     "data": {
      "text/html": [
       "<div>\n",
       "<style scoped>\n",
       "    .dataframe tbody tr th:only-of-type {\n",
       "        vertical-align: middle;\n",
       "    }\n",
       "\n",
       "    .dataframe tbody tr th {\n",
       "        vertical-align: top;\n",
       "    }\n",
       "\n",
       "    .dataframe thead th {\n",
       "        text-align: right;\n",
       "    }\n",
       "</style>\n",
       "<table border=\"1\" class=\"dataframe\">\n",
       "  <thead>\n",
       "    <tr style=\"text-align: right;\">\n",
       "      <th></th>\n",
       "      <th>品类</th>\n",
       "      <th>是否皇冠</th>\n",
       "      <th>皇冠占比</th>\n",
       "    </tr>\n",
       "  </thead>\n",
       "  <tbody>\n",
       "    <tr>\n",
       "      <th>0</th>\n",
       "      <td>水产</td>\n",
       "      <td>106</td>\n",
       "      <td>0.254808</td>\n",
       "    </tr>\n",
       "    <tr>\n",
       "      <th>1</th>\n",
       "      <td>水果</td>\n",
       "      <td>91</td>\n",
       "      <td>0.206349</td>\n",
       "    </tr>\n",
       "    <tr>\n",
       "      <th>2</th>\n",
       "      <td>肉</td>\n",
       "      <td>1272</td>\n",
       "      <td>0.527363</td>\n",
       "    </tr>\n",
       "    <tr>\n",
       "      <th>3</th>\n",
       "      <td>蔬菜</td>\n",
       "      <td>125</td>\n",
       "      <td>0.360231</td>\n",
       "    </tr>\n",
       "    <tr>\n",
       "      <th>4</th>\n",
       "      <td>蛋</td>\n",
       "      <td>257</td>\n",
       "      <td>0.313033</td>\n",
       "    </tr>\n",
       "  </tbody>\n",
       "</table>\n",
       "</div>"
      ],
      "text/plain": [
       "   品类  是否皇冠      皇冠占比\n",
       "0  水产   106  0.254808\n",
       "1  水果    91  0.206349\n",
       "2   肉  1272  0.527363\n",
       "3  蔬菜   125  0.360231\n",
       "4   蛋   257  0.313033"
      ]
     },
     "execution_count": 101,
     "metadata": {},
     "output_type": "execute_result"
    }
   ],
   "source": [
    "data_tmp3['皇冠占比'] = data_tmp3['是否皇冠']/data_tmp1['店铺名']\n",
    "data_tmp3"
   ]
  },
  {
   "cell_type": "markdown",
   "id": "5efdcece-f38d-4346-a02b-b13ec41ac786",
   "metadata": {},
   "source": [
    "将淘宝普通店和皇冠店分开："
   ]
  },
  {
   "cell_type": "code",
   "execution_count": 102,
   "id": "95336c41-b7af-4ea3-95ca-53faf1ba02bc",
   "metadata": {
    "execution": {
     "iopub.execute_input": "2023-04-22T15:06:50.305390Z",
     "iopub.status.busy": "2023-04-22T15:06:50.304389Z",
     "iopub.status.idle": "2023-04-22T15:06:50.313391Z",
     "shell.execute_reply": "2023-04-22T15:06:50.313391Z",
     "shell.execute_reply.started": "2023-04-22T15:06:50.304389Z"
    },
    "tags": []
   },
   "outputs": [
    {
     "data": {
      "text/html": [
       "<div>\n",
       "<style scoped>\n",
       "    .dataframe tbody tr th:only-of-type {\n",
       "        vertical-align: middle;\n",
       "    }\n",
       "\n",
       "    .dataframe tbody tr th {\n",
       "        vertical-align: top;\n",
       "    }\n",
       "\n",
       "    .dataframe thead th {\n",
       "        text-align: right;\n",
       "    }\n",
       "</style>\n",
       "<table border=\"1\" class=\"dataframe\">\n",
       "  <thead>\n",
       "    <tr style=\"text-align: right;\">\n",
       "      <th></th>\n",
       "      <th>品类</th>\n",
       "      <th>是否天猫</th>\n",
       "      <th>天猫占比</th>\n",
       "      <th>淘宝占比</th>\n",
       "      <th>皇冠占比</th>\n",
       "      <th>淘宝普通店占比</th>\n",
       "    </tr>\n",
       "  </thead>\n",
       "  <tbody>\n",
       "    <tr>\n",
       "      <th>0</th>\n",
       "      <td>水产</td>\n",
       "      <td>178</td>\n",
       "      <td>0.427885</td>\n",
       "      <td>0.572115</td>\n",
       "      <td>0.254808</td>\n",
       "      <td>0.317308</td>\n",
       "    </tr>\n",
       "    <tr>\n",
       "      <th>1</th>\n",
       "      <td>水果</td>\n",
       "      <td>265</td>\n",
       "      <td>0.600907</td>\n",
       "      <td>0.399093</td>\n",
       "      <td>0.206349</td>\n",
       "      <td>0.192744</td>\n",
       "    </tr>\n",
       "    <tr>\n",
       "      <th>2</th>\n",
       "      <td>肉</td>\n",
       "      <td>604</td>\n",
       "      <td>0.250415</td>\n",
       "      <td>0.749585</td>\n",
       "      <td>0.527363</td>\n",
       "      <td>0.222222</td>\n",
       "    </tr>\n",
       "    <tr>\n",
       "      <th>3</th>\n",
       "      <td>蔬菜</td>\n",
       "      <td>78</td>\n",
       "      <td>0.224784</td>\n",
       "      <td>0.775216</td>\n",
       "      <td>0.360231</td>\n",
       "      <td>0.414986</td>\n",
       "    </tr>\n",
       "    <tr>\n",
       "      <th>4</th>\n",
       "      <td>蛋</td>\n",
       "      <td>244</td>\n",
       "      <td>0.297199</td>\n",
       "      <td>0.702801</td>\n",
       "      <td>0.313033</td>\n",
       "      <td>0.389769</td>\n",
       "    </tr>\n",
       "  </tbody>\n",
       "</table>\n",
       "</div>"
      ],
      "text/plain": [
       "   品类  是否天猫      天猫占比      淘宝占比      皇冠占比   淘宝普通店占比\n",
       "0  水产   178  0.427885  0.572115  0.254808  0.317308\n",
       "1  水果   265  0.600907  0.399093  0.206349  0.192744\n",
       "2   肉   604  0.250415  0.749585  0.527363  0.222222\n",
       "3  蔬菜    78  0.224784  0.775216  0.360231  0.414986\n",
       "4   蛋   244  0.297199  0.702801  0.313033  0.389769"
      ]
     },
     "execution_count": 102,
     "metadata": {},
     "output_type": "execute_result"
    }
   ],
   "source": [
    "data_tmp2['皇冠占比'] = data_tmp3['皇冠占比'] \n",
    "data_tmp2['淘宝普通店占比'] = 1 - data_tmp2['天猫占比'] - data_tmp2['皇冠占比'] \n",
    "data_tmp2"
   ]
  },
  {
   "cell_type": "markdown",
   "id": "60363ac7-2b13-407e-8d7e-b41fb79e933c",
   "metadata": {},
   "source": [
    "绘图："
   ]
  },
  {
   "cell_type": "code",
   "execution_count": 104,
   "id": "45063119-dcc8-40d5-af93-5e3d6da1b3a9",
   "metadata": {
    "execution": {
     "iopub.execute_input": "2023-04-22T15:07:13.984564Z",
     "iopub.status.busy": "2023-04-22T15:07:13.984564Z",
     "iopub.status.idle": "2023-04-22T15:07:14.196291Z",
     "shell.execute_reply": "2023-04-22T15:07:14.193554Z",
     "shell.execute_reply.started": "2023-04-22T15:07:13.984564Z"
    },
    "tags": []
   },
   "outputs": [
    {
     "data": {
      "text/plain": [
       "Text(0.5, 1.0, '各品类的店铺类型')"
      ]
     },
     "execution_count": 104,
     "metadata": {},
     "output_type": "execute_result"
    },
    {
     "data": {
      "image/png": "[encoded data removed]",
      "text/plain": [
       "<Figure size 640x480 with 1 Axes>"
      ]
     },
     "metadata": {},
     "output_type": "display_data"
    }
   ],
   "source": [
    "plt.ylim((0,1.4))\n",
    "plt.yticks([0,0.2,0.4,0.6,0.8,1])\n",
    "plt.bar(data_tmp2['品类'],data_tmp2['天猫占比'], color = ['m'] )\n",
    "plt.bar(data_tmp2['品类'],data_tmp2['皇冠占比'], bottom= data_tmp2['天猫占比'],color = ['g'] )\n",
    "plt.bar(data_tmp2['品类'],data_tmp2['淘宝普通店占比'], bottom= data_tmp2['天猫占比']+data_tmp2['皇冠占比'],color = ['c'] )\n",
    "plt.legend(['天猫店铺','淘宝皇冠店铺','淘宝普通店铺'])\n",
    "plt.title('各品类的店铺类型')"
   ]
  },
  {
   "cell_type": "markdown",
   "id": "41d88303-3f39-4563-832d-9389842a781e",
   "metadata": {},
   "source": [
    "<p>按品类统计客单价</p>\n",
    "<p>计算客单价：</p>"
   ]
  },
  {
   "cell_type": "code",
   "execution_count": 105,
   "id": "2024641a-77c6-4b9b-bdfd-7997c4f02532",
   "metadata": {
    "execution": {
     "iopub.execute_input": "2023-04-22T15:07:56.190567Z",
     "iopub.status.busy": "2023-04-22T15:07:56.189568Z",
     "iopub.status.idle": "2023-04-22T15:07:56.198567Z",
     "shell.execute_reply": "2023-04-22T15:07:56.198567Z",
     "shell.execute_reply.started": "2023-04-22T15:07:56.190567Z"
    },
    "tags": []
   },
   "outputs": [],
   "source": [
    "data['半年销量'] = data['月销量 1']+data['月销量 2']+data['月销量 3']+data['月销量 4']+data['月销量 5']+data['月销量 6']\n",
    "data['半年销售额'] = data['月销量 1']*data['活动价 1']+data['月销量 2']*data['活动价 2']+data['月销量 3']*data['活动价 3']+data['月销量 4']*data['活动价 4']+data['月销量 5']*data['活动价 5']+data['月销量 6']*data['活动价 6']\n",
    "data['客单价'] = data['半年销售额']/data['半年销量']"
   ]
  },
  {
   "cell_type": "markdown",
   "id": "2c3852fd-7e3a-401e-9480-6d53ec8d899b",
   "metadata": {},
   "source": [
    "选择“品类”“客单价”："
   ]
  },
  {
   "cell_type": "code",
   "execution_count": 106,
   "id": "1cc39394-5dd5-44b8-8936-bf201508a20c",
   "metadata": {
    "execution": {
     "iopub.execute_input": "2023-04-22T15:08:12.548747Z",
     "iopub.status.busy": "2023-04-22T15:08:12.548747Z",
     "iopub.status.idle": "2023-04-22T15:08:12.558744Z",
     "shell.execute_reply": "2023-04-22T15:08:12.558744Z",
     "shell.execute_reply.started": "2023-04-22T15:08:12.548747Z"
    },
    "tags": []
   },
   "outputs": [
    {
     "name": "stdout",
     "output_type": "stream",
     "text": [
      "<class 'pandas.core.frame.DataFrame'>\n",
      "RangeIndex: 9565 entries, 0 to 9564\n",
      "Data columns (total 2 columns):\n",
      " #   Column  Non-Null Count  Dtype  \n",
      "---  ------  --------------  -----  \n",
      " 0   品类      9565 non-null   object \n",
      " 1   客单价     9487 non-null   float64\n",
      "dtypes: float64(1), object(1)\n",
      "memory usage: 149.6+ KB\n"
     ]
    }
   ],
   "source": [
    "data_tmp = data[['品类','客单价']]\n",
    "data_tmp.info()"
   ]
  },
  {
   "cell_type": "markdown",
   "id": "447d4e62-009d-404c-9760-31c12c19b5f1",
   "metadata": {},
   "source": [
    "有缺失值，需要删除："
   ]
  },
  {
   "cell_type": "code",
   "execution_count": 107,
   "id": "ba27cb66-a6f4-4a51-ae83-1a04c8e99074",
   "metadata": {
    "execution": {
     "iopub.execute_input": "2023-04-22T15:08:29.008148Z",
     "iopub.status.busy": "2023-04-22T15:08:29.007149Z",
     "iopub.status.idle": "2023-04-22T15:08:29.013149Z",
     "shell.execute_reply": "2023-04-22T15:08:29.013149Z",
     "shell.execute_reply.started": "2023-04-22T15:08:29.008148Z"
    },
    "tags": []
   },
   "outputs": [
    {
     "name": "stderr",
     "output_type": "stream",
     "text": [
      "C:\\Windows\\Temp\\ipykernel_17048\\2278731034.py:1: SettingWithCopyWarning: \n",
      "A value is trying to be set on a copy of a slice from a DataFrame\n",
      "\n",
      "See the caveats in the documentation: https://pandas.pydata.org/pandas-docs/stable/user_guide/indexing.html#returning-a-view-versus-a-copy\n",
      "  data_tmp.dropna(inplace = True)\n"
     ]
    }
   ],
   "source": [
    "data_tmp.dropna(inplace = True)"
   ]
  },
  {
   "cell_type": "markdown",
   "id": "1118823e-12c2-4272-ad01-c1b93348063a",
   "metadata": {},
   "source": [
    "用 groupby 汇总："
   ]
  },
  {
   "cell_type": "code",
   "execution_count": 108,
   "id": "651c5bef-4748-453b-bbf1-9e144fd2041b",
   "metadata": {
    "execution": {
     "iopub.execute_input": "2023-04-22T15:08:45.729873Z",
     "iopub.status.busy": "2023-04-22T15:08:45.729873Z",
     "iopub.status.idle": "2023-04-22T15:08:45.750880Z",
     "shell.execute_reply": "2023-04-22T15:08:45.750880Z",
     "shell.execute_reply.started": "2023-04-22T15:08:45.729873Z"
    },
    "tags": []
   },
   "outputs": [
    {
     "data": {
      "text/html": [
       "<div>\n",
       "<style scoped>\n",
       "    .dataframe tbody tr th:only-of-type {\n",
       "        vertical-align: middle;\n",
       "    }\n",
       "\n",
       "    .dataframe tbody tr th {\n",
       "        vertical-align: top;\n",
       "    }\n",
       "\n",
       "    .dataframe thead th {\n",
       "        text-align: right;\n",
       "    }\n",
       "</style>\n",
       "<table border=\"1\" class=\"dataframe\">\n",
       "  <thead>\n",
       "    <tr style=\"text-align: right;\">\n",
       "      <th></th>\n",
       "      <th>品类</th>\n",
       "      <th>客单价</th>\n",
       "    </tr>\n",
       "  </thead>\n",
       "  <tbody>\n",
       "    <tr>\n",
       "      <th>0</th>\n",
       "      <td>水产</td>\n",
       "      <td>119.376840</td>\n",
       "    </tr>\n",
       "    <tr>\n",
       "      <th>1</th>\n",
       "      <td>水果</td>\n",
       "      <td>68.995207</td>\n",
       "    </tr>\n",
       "    <tr>\n",
       "      <th>2</th>\n",
       "      <td>肉</td>\n",
       "      <td>54.490314</td>\n",
       "    </tr>\n",
       "    <tr>\n",
       "      <th>3</th>\n",
       "      <td>蔬菜</td>\n",
       "      <td>61.238302</td>\n",
       "    </tr>\n",
       "    <tr>\n",
       "      <th>4</th>\n",
       "      <td>蛋</td>\n",
       "      <td>63.022082</td>\n",
       "    </tr>\n",
       "  </tbody>\n",
       "</table>\n",
       "</div>"
      ],
      "text/plain": [
       "   品类         客单价\n",
       "0  水产  119.376840\n",
       "1  水果   68.995207\n",
       "2   肉   54.490314\n",
       "3  蔬菜   61.238302\n",
       "4   蛋   63.022082"
      ]
     },
     "execution_count": 108,
     "metadata": {},
     "output_type": "execute_result"
    }
   ],
   "source": [
    "data_tmp = data_tmp[['品类','客单价']].groupby('品类',as_index = False).mean()\n",
    "data_tmp"
   ]
  },
  {
   "cell_type": "markdown",
   "id": "096006b0-af86-451b-9017-c1d161bb2ca4",
   "metadata": {},
   "source": [
    "<p>各地店售情况</p>\n",
    "<p>由 groupby 汇总：</p>"
   ]
  },
  {
   "cell_type": "code",
   "execution_count": 109,
   "id": "109af67f-b55b-4bd2-8dd8-066306fd6d09",
   "metadata": {
    "execution": {
     "iopub.execute_input": "2023-04-22T15:09:06.990633Z",
     "iopub.status.busy": "2023-04-22T15:09:06.990108Z",
     "iopub.status.idle": "2023-04-22T15:09:07.015134Z",
     "shell.execute_reply": "2023-04-22T15:09:07.014598Z",
     "shell.execute_reply.started": "2023-04-22T15:09:06.990633Z"
    },
    "tags": []
   },
   "outputs": [],
   "source": [
    "#各地销售情况\n",
    "data_tmp = data[['省份','品类','半年销量']]\n",
    "data_tmp = data_tmp.groupby(by = ['品类','省份'],as_index = False).sum()"
   ]
  },
  {
   "cell_type": "markdown",
   "id": "5bcea633-ba8e-4bbf-8ea6-91e283beca28",
   "metadata": {},
   "source": [
    "降序排列："
   ]
  },
  {
   "cell_type": "code",
   "execution_count": 110,
   "id": "cd56bddc-cede-484f-a7c1-7d9dbe162e9d",
   "metadata": {
    "execution": {
     "iopub.execute_input": "2023-04-22T15:09:25.132743Z",
     "iopub.status.busy": "2023-04-22T15:09:25.132743Z",
     "iopub.status.idle": "2023-04-22T15:09:25.145743Z",
     "shell.execute_reply": "2023-04-22T15:09:25.145743Z",
     "shell.execute_reply.started": "2023-04-22T15:09:25.132743Z"
    },
    "tags": []
   },
   "outputs": [
    {
     "data": {
      "text/html": [
       "<div>\n",
       "<style scoped>\n",
       "    .dataframe tbody tr th:only-of-type {\n",
       "        vertical-align: middle;\n",
       "    }\n",
       "\n",
       "    .dataframe tbody tr th {\n",
       "        vertical-align: top;\n",
       "    }\n",
       "\n",
       "    .dataframe thead th {\n",
       "        text-align: right;\n",
       "    }\n",
       "</style>\n",
       "<table border=\"1\" class=\"dataframe\">\n",
       "  <thead>\n",
       "    <tr style=\"text-align: right;\">\n",
       "      <th></th>\n",
       "      <th>品类</th>\n",
       "      <th>省份</th>\n",
       "      <th>半年销量</th>\n",
       "    </tr>\n",
       "  </thead>\n",
       "  <tbody>\n",
       "    <tr>\n",
       "      <th>105</th>\n",
       "      <td>蛋</td>\n",
       "      <td>江苏</td>\n",
       "      <td>2222628.0</td>\n",
       "    </tr>\n",
       "    <tr>\n",
       "      <th>104</th>\n",
       "      <td>蛋</td>\n",
       "      <td>广西</td>\n",
       "      <td>1869324.0</td>\n",
       "    </tr>\n",
       "    <tr>\n",
       "      <th>109</th>\n",
       "      <td>蛋</td>\n",
       "      <td>浙江</td>\n",
       "      <td>600846.0</td>\n",
       "    </tr>\n",
       "    <tr>\n",
       "      <th>103</th>\n",
       "      <td>蛋</td>\n",
       "      <td>广东</td>\n",
       "      <td>490593.0</td>\n",
       "    </tr>\n",
       "    <tr>\n",
       "      <th>108</th>\n",
       "      <td>蛋</td>\n",
       "      <td>河南</td>\n",
       "      <td>307312.0</td>\n",
       "    </tr>\n",
       "    <tr>\n",
       "      <th>100</th>\n",
       "      <td>蛋</td>\n",
       "      <td>安徽</td>\n",
       "      <td>303138.0</td>\n",
       "    </tr>\n",
       "    <tr>\n",
       "      <th>111</th>\n",
       "      <td>蛋</td>\n",
       "      <td>湖北</td>\n",
       "      <td>292232.0</td>\n",
       "    </tr>\n",
       "    <tr>\n",
       "      <th>101</th>\n",
       "      <td>蛋</td>\n",
       "      <td>山东</td>\n",
       "      <td>218239.0</td>\n",
       "    </tr>\n",
       "    <tr>\n",
       "      <th>98</th>\n",
       "      <td>蛋</td>\n",
       "      <td>四川</td>\n",
       "      <td>177081.0</td>\n",
       "    </tr>\n",
       "    <tr>\n",
       "      <th>107</th>\n",
       "      <td>蛋</td>\n",
       "      <td>河北</td>\n",
       "      <td>163066.0</td>\n",
       "    </tr>\n",
       "    <tr>\n",
       "      <th>115</th>\n",
       "      <td>蛋</td>\n",
       "      <td>辽宁</td>\n",
       "      <td>149607.0</td>\n",
       "    </tr>\n",
       "    <tr>\n",
       "      <th>106</th>\n",
       "      <td>蛋</td>\n",
       "      <td>江西</td>\n",
       "      <td>70027.0</td>\n",
       "    </tr>\n",
       "    <tr>\n",
       "      <th>102</th>\n",
       "      <td>蛋</td>\n",
       "      <td>山西</td>\n",
       "      <td>14402.0</td>\n",
       "    </tr>\n",
       "    <tr>\n",
       "      <th>112</th>\n",
       "      <td>蛋</td>\n",
       "      <td>湖南</td>\n",
       "      <td>14023.0</td>\n",
       "    </tr>\n",
       "    <tr>\n",
       "      <th>96</th>\n",
       "      <td>蛋</td>\n",
       "      <td>云南</td>\n",
       "      <td>9954.0</td>\n",
       "    </tr>\n",
       "    <tr>\n",
       "      <th>97</th>\n",
       "      <td>蛋</td>\n",
       "      <td>吉林</td>\n",
       "      <td>6796.0</td>\n",
       "    </tr>\n",
       "    <tr>\n",
       "      <th>116</th>\n",
       "      <td>蛋</td>\n",
       "      <td>陕西</td>\n",
       "      <td>6509.0</td>\n",
       "    </tr>\n",
       "    <tr>\n",
       "      <th>113</th>\n",
       "      <td>蛋</td>\n",
       "      <td>福建</td>\n",
       "      <td>5266.0</td>\n",
       "    </tr>\n",
       "    <tr>\n",
       "      <th>114</th>\n",
       "      <td>蛋</td>\n",
       "      <td>贵州</td>\n",
       "      <td>2023.0</td>\n",
       "    </tr>\n",
       "    <tr>\n",
       "      <th>118</th>\n",
       "      <td>蛋</td>\n",
       "      <td>黑龙江</td>\n",
       "      <td>605.0</td>\n",
       "    </tr>\n",
       "    <tr>\n",
       "      <th>99</th>\n",
       "      <td>蛋</td>\n",
       "      <td>宁夏</td>\n",
       "      <td>596.0</td>\n",
       "    </tr>\n",
       "    <tr>\n",
       "      <th>117</th>\n",
       "      <td>蛋</td>\n",
       "      <td>非中国大陆</td>\n",
       "      <td>431.0</td>\n",
       "    </tr>\n",
       "    <tr>\n",
       "      <th>110</th>\n",
       "      <td>蛋</td>\n",
       "      <td>海南</td>\n",
       "      <td>230.0</td>\n",
       "    </tr>\n",
       "  </tbody>\n",
       "</table>\n",
       "</div>"
      ],
      "text/plain": [
       "    品类     省份       半年销量\n",
       "105  蛋     江苏  2222628.0\n",
       "104  蛋     广西  1869324.0\n",
       "109  蛋     浙江   600846.0\n",
       "103  蛋     广东   490593.0\n",
       "108  蛋     河南   307312.0\n",
       "100  蛋     安徽   303138.0\n",
       "111  蛋     湖北   292232.0\n",
       "101  蛋     山东   218239.0\n",
       "98   蛋     四川   177081.0\n",
       "107  蛋     河北   163066.0\n",
       "115  蛋     辽宁   149607.0\n",
       "106  蛋     江西    70027.0\n",
       "102  蛋     山西    14402.0\n",
       "112  蛋     湖南    14023.0\n",
       "96   蛋     云南     9954.0\n",
       "97   蛋     吉林     6796.0\n",
       "116  蛋     陕西     6509.0\n",
       "113  蛋     福建     5266.0\n",
       "114  蛋     贵州     2023.0\n",
       "118  蛋    黑龙江      605.0\n",
       "99   蛋     宁夏      596.0\n",
       "117  蛋  非中国大陆      431.0\n",
       "110  蛋     海南      230.0"
      ]
     },
     "execution_count": 110,
     "metadata": {},
     "output_type": "execute_result"
    }
   ],
   "source": [
    "data_tmp[data_tmp['品类']=='水产'].sort_values(by=['半年销量'],ascending = False)\n",
    "data_tmp[data_tmp['品类']=='水果'].sort_values(by=['半年销量'],ascending = False)\n",
    "data_tmp[data_tmp['品类']=='肉'].sort_values(by=['半年销量'],ascending = False)\n",
    "data_tmp[data_tmp['品类']=='蔬菜'].sort_values(by=['半年销量'],ascending = False)\n",
    "data_tmp[data_tmp['品类']=='蛋'].sort_values(by=['半年销量'],ascending = False)"
   ]
  },
  {
   "cell_type": "markdown",
   "id": "8d32746b-a91a-460a-b986-7856eca94dec",
   "metadata": {},
   "source": [
    "由于省份较多，用图形显示效果不好，先将前 9 名以后的归为“其他”："
   ]
  },
  {
   "cell_type": "code",
   "execution_count": 119,
   "id": "7da68968-9376-41d7-925f-ffb7b99842dd",
   "metadata": {
    "execution": {
     "iopub.execute_input": "2023-04-22T15:18:47.089760Z",
     "iopub.status.busy": "2023-04-22T15:18:47.088760Z",
     "iopub.status.idle": "2023-04-22T15:18:47.140764Z",
     "shell.execute_reply": "2023-04-22T15:18:47.140764Z",
     "shell.execute_reply.started": "2023-04-22T15:18:47.089760Z"
    },
    "tags": []
   },
   "outputs": [
    {
     "name": "stderr",
     "output_type": "stream",
     "text": [
      "C:\\Windows\\Temp\\ipykernel_17048\\3999961421.py:6: SettingWithCopyWarning: \n",
      "A value is trying to be set on a copy of a slice from a DataFrame\n",
      "\n",
      "See the caveats in the documentation: https://pandas.pydata.org/pandas-docs/stable/user_guide/indexing.html#returning-a-view-versus-a-copy\n",
      "  data_tmp.半年销量[data_tmp.省份=='其他'] = t+s\n"
     ]
    },
    {
     "data": {
      "text/html": [
       "<div>\n",
       "<style scoped>\n",
       "    .dataframe tbody tr th:only-of-type {\n",
       "        vertical-align: middle;\n",
       "    }\n",
       "\n",
       "    .dataframe tbody tr th {\n",
       "        vertical-align: top;\n",
       "    }\n",
       "\n",
       "    .dataframe thead th {\n",
       "        text-align: right;\n",
       "    }\n",
       "</style>\n",
       "<table border=\"1\" class=\"dataframe\">\n",
       "  <thead>\n",
       "    <tr style=\"text-align: right;\">\n",
       "      <th></th>\n",
       "      <th>品类</th>\n",
       "      <th>省份</th>\n",
       "      <th>半年销量</th>\n",
       "    </tr>\n",
       "  </thead>\n",
       "  <tbody>\n",
       "    <tr>\n",
       "      <th>0</th>\n",
       "      <td>水产</td>\n",
       "      <td>四川</td>\n",
       "      <td>2.0</td>\n",
       "    </tr>\n",
       "    <tr>\n",
       "      <th>1</th>\n",
       "      <td>水产</td>\n",
       "      <td>安徽</td>\n",
       "      <td>1543.0</td>\n",
       "    </tr>\n",
       "    <tr>\n",
       "      <th>2</th>\n",
       "      <td>水产</td>\n",
       "      <td>山东</td>\n",
       "      <td>1062627.0</td>\n",
       "    </tr>\n",
       "    <tr>\n",
       "      <th>3</th>\n",
       "      <td>水产</td>\n",
       "      <td>广东</td>\n",
       "      <td>43905.0</td>\n",
       "    </tr>\n",
       "    <tr>\n",
       "      <th>4</th>\n",
       "      <td>水产</td>\n",
       "      <td>广西</td>\n",
       "      <td>21369.0</td>\n",
       "    </tr>\n",
       "    <tr>\n",
       "      <th>5</th>\n",
       "      <td>水产</td>\n",
       "      <td>江苏</td>\n",
       "      <td>132961.0</td>\n",
       "    </tr>\n",
       "    <tr>\n",
       "      <th>6</th>\n",
       "      <td>水产</td>\n",
       "      <td>江西</td>\n",
       "      <td>746.0</td>\n",
       "    </tr>\n",
       "    <tr>\n",
       "      <th>7</th>\n",
       "      <td>水产</td>\n",
       "      <td>河北</td>\n",
       "      <td>4300.0</td>\n",
       "    </tr>\n",
       "    <tr>\n",
       "      <th>8</th>\n",
       "      <td>水产</td>\n",
       "      <td>浙江</td>\n",
       "      <td>55787.0</td>\n",
       "    </tr>\n",
       "    <tr>\n",
       "      <th>9</th>\n",
       "      <td>水产</td>\n",
       "      <td>海南</td>\n",
       "      <td>3240.0</td>\n",
       "    </tr>\n",
       "  </tbody>\n",
       "</table>\n",
       "</div>"
      ],
      "text/plain": [
       "   品类  省份       半年销量\n",
       "0  水产  四川        2.0\n",
       "1  水产  安徽     1543.0\n",
       "2  水产  山东  1062627.0\n",
       "3  水产  广东    43905.0\n",
       "4  水产  广西    21369.0\n",
       "5  水产  江苏   132961.0\n",
       "6  水产  江西      746.0\n",
       "7  水产  河北     4300.0\n",
       "8  水产  浙江    55787.0\n",
       "9  水产  海南     3240.0"
      ]
     },
     "execution_count": 119,
     "metadata": {},
     "output_type": "execute_result"
    }
   ],
   "source": [
    "data_tmp.reset_index(drop = True, inplace = True)\n",
    "s = 0\n",
    "for i in range(10,len(data_tmp1)):\n",
    "    s = s+data_tmp['半年销量'][i]\n",
    "t = data_tmp.半年销量[data_tmp.省份=='其他']\n",
    "data_tmp.半年销量[data_tmp.省份=='其他'] = t+s\n",
    "data_tmp.drop(labels=range(10,len(data_tmp)),axis=0, inplace=True)\n",
    "data_tmp"
   ]
  },
  {
   "cell_type": "markdown",
   "id": "a7277c17-96f0-4585-8e6c-da2b3dd588bd",
   "metadata": {},
   "source": [
    "用饼图显示："
   ]
  },
  {
   "cell_type": "code",
   "execution_count": 120,
   "id": "dee78279-da59-4d64-ab30-3c9d4a4400b9",
   "metadata": {
    "execution": {
     "iopub.execute_input": "2023-04-22T15:18:58.244294Z",
     "iopub.status.busy": "2023-04-22T15:18:58.244294Z",
     "iopub.status.idle": "2023-04-22T15:18:58.498477Z",
     "shell.execute_reply": "2023-04-22T15:18:58.498477Z",
     "shell.execute_reply.started": "2023-04-22T15:18:58.244294Z"
    },
    "tags": []
   },
   "outputs": [
    {
     "data": {
      "text/plain": [
       "Text(0.5, 1.0, '水产品类 Top9 省份')"
      ]
     },
     "execution_count": 120,
     "metadata": {},
     "output_type": "execute_result"
    },
    {
     "data": {
      "image/png": "[encoded data removed]",
      "text/plain": [
       "<Figure size 950x950 with 1 Axes>"
      ]
     },
     "metadata": {},
     "output_type": "display_data"
    }
   ],
   "source": [
    "plt.figure(figsize=(9.5,9.5))## 将画布设定为正方形，则绘制的饼图是正圆\n",
    "explode=[0.05, 0,0,0,0,0,0.05,0,0,0]\n",
    "plt.pie(data_tmp['半年销量'],explode = explode,labels = data_tmp['省份'])\n",
    "plt.title('水产品类 Top9 省份')"
   ]
  },
  {
   "cell_type": "markdown",
   "id": "86cf7340-11b1-42c8-b891-423a53cc8f4a",
   "metadata": {},
   "source": [
    "同样，可以得到其他品类相关数据："
   ]
  },
  {
   "cell_type": "code",
   "execution_count": 124,
   "id": "ec8125aa-5448-4198-a62e-77246713ff9b",
   "metadata": {
    "execution": {
     "iopub.execute_input": "2023-04-22T15:25:50.362139Z",
     "iopub.status.busy": "2023-04-22T15:25:50.362139Z",
     "iopub.status.idle": "2023-04-22T15:25:50.538224Z",
     "shell.execute_reply": "2023-04-22T15:25:50.537222Z",
     "shell.execute_reply.started": "2023-04-22T15:25:50.362139Z"
    },
    "tags": []
   },
   "outputs": [
    {
     "ename": "ValueError",
     "evalue": "'explode' must be of length 'x'",
     "output_type": "error",
     "traceback": [
      "\u001b[1;31m---------------------------------------------------------------------------\u001b[0m",
      "\u001b[1;31mValueError\u001b[0m                                Traceback (most recent call last)",
      "Cell \u001b[1;32mIn[124], line 11\u001b[0m\n\u001b[0;32m      9\u001b[0m plt\u001b[38;5;241m.\u001b[39mfigure(figsize\u001b[38;5;241m=\u001b[39m(\u001b[38;5;241m9.5\u001b[39m,\u001b[38;5;241m9.5\u001b[39m))\u001b[38;5;66;03m## 将画布设定为正方形，则绘制的饼图是正圆\u001b[39;00m\n\u001b[0;32m     10\u001b[0m explode\u001b[38;5;241m=\u001b[39m[\u001b[38;5;241m0.05\u001b[39m, \u001b[38;5;241m0\u001b[39m,\u001b[38;5;241m0\u001b[39m,\u001b[38;5;241m0\u001b[39m,\u001b[38;5;241m0\u001b[39m,\u001b[38;5;241m0\u001b[39m,\u001b[38;5;241m0\u001b[39m,\u001b[38;5;241m0\u001b[39m,\u001b[38;5;241m0\u001b[39m,\u001b[38;5;241m0.05\u001b[39m]\n\u001b[1;32m---> 11\u001b[0m \u001b[43mplt\u001b[49m\u001b[38;5;241;43m.\u001b[39;49m\u001b[43mpie\u001b[49m\u001b[43m(\u001b[49m\u001b[43mdata_tmp2\u001b[49m\u001b[43m[\u001b[49m\u001b[38;5;124;43m'\u001b[39;49m\u001b[38;5;124;43m半年销量\u001b[39;49m\u001b[38;5;124;43m'\u001b[39;49m\u001b[43m]\u001b[49m\u001b[43m,\u001b[49m\u001b[43mexplode\u001b[49m\u001b[43m \u001b[49m\u001b[38;5;241;43m=\u001b[39;49m\u001b[43m \u001b[49m\u001b[43mexplode\u001b[49m\u001b[43m,\u001b[49m\u001b[43mlabels\u001b[49m\u001b[43m \u001b[49m\u001b[38;5;241;43m=\u001b[39;49m\u001b[43m \u001b[49m\u001b[43mdata_tmp2\u001b[49m\u001b[43m[\u001b[49m\u001b[38;5;124;43m'\u001b[39;49m\u001b[38;5;124;43m省份\u001b[39;49m\u001b[38;5;124;43m'\u001b[39;49m\u001b[43m]\u001b[49m\u001b[43m)\u001b[49m\n\u001b[0;32m     12\u001b[0m plt\u001b[38;5;241m.\u001b[39mtitle(\u001b[38;5;124m'\u001b[39m\u001b[38;5;124m水果品类 Top9 省份\u001b[39m\u001b[38;5;124m'\u001b[39m)\n",
      "File \u001b[1;32mD:\\X-S01\\conda3\\envs\\lab\\lib\\site-packages\\matplotlib\\pyplot.py:2799\u001b[0m, in \u001b[0;36mpie\u001b[1;34m(x, explode, labels, colors, autopct, pctdistance, shadow, labeldistance, startangle, radius, counterclock, wedgeprops, textprops, center, frame, rotatelabels, normalize, hatch, data)\u001b[0m\n\u001b[0;32m   2792\u001b[0m \u001b[38;5;129m@_copy_docstring_and_deprecators\u001b[39m(Axes\u001b[38;5;241m.\u001b[39mpie)\n\u001b[0;32m   2793\u001b[0m \u001b[38;5;28;01mdef\u001b[39;00m \u001b[38;5;21mpie\u001b[39m(\n\u001b[0;32m   2794\u001b[0m         x, explode\u001b[38;5;241m=\u001b[39m\u001b[38;5;28;01mNone\u001b[39;00m, labels\u001b[38;5;241m=\u001b[39m\u001b[38;5;28;01mNone\u001b[39;00m, colors\u001b[38;5;241m=\u001b[39m\u001b[38;5;28;01mNone\u001b[39;00m, autopct\u001b[38;5;241m=\u001b[39m\u001b[38;5;28;01mNone\u001b[39;00m,\n\u001b[1;32m   (...)\u001b[0m\n\u001b[0;32m   2797\u001b[0m         textprops\u001b[38;5;241m=\u001b[39m\u001b[38;5;28;01mNone\u001b[39;00m, center\u001b[38;5;241m=\u001b[39m(\u001b[38;5;241m0\u001b[39m, \u001b[38;5;241m0\u001b[39m), frame\u001b[38;5;241m=\u001b[39m\u001b[38;5;28;01mFalse\u001b[39;00m,\n\u001b[0;32m   2798\u001b[0m         rotatelabels\u001b[38;5;241m=\u001b[39m\u001b[38;5;28;01mFalse\u001b[39;00m, \u001b[38;5;241m*\u001b[39m, normalize\u001b[38;5;241m=\u001b[39m\u001b[38;5;28;01mTrue\u001b[39;00m, hatch\u001b[38;5;241m=\u001b[39m\u001b[38;5;28;01mNone\u001b[39;00m, data\u001b[38;5;241m=\u001b[39m\u001b[38;5;28;01mNone\u001b[39;00m):\n\u001b[1;32m-> 2799\u001b[0m     \u001b[38;5;28;01mreturn\u001b[39;00m gca()\u001b[38;5;241m.\u001b[39mpie(\n\u001b[0;32m   2800\u001b[0m         x, explode\u001b[38;5;241m=\u001b[39mexplode, labels\u001b[38;5;241m=\u001b[39mlabels, colors\u001b[38;5;241m=\u001b[39mcolors,\n\u001b[0;32m   2801\u001b[0m         autopct\u001b[38;5;241m=\u001b[39mautopct, pctdistance\u001b[38;5;241m=\u001b[39mpctdistance, shadow\u001b[38;5;241m=\u001b[39mshadow,\n\u001b[0;32m   2802\u001b[0m         labeldistance\u001b[38;5;241m=\u001b[39mlabeldistance, startangle\u001b[38;5;241m=\u001b[39mstartangle,\n\u001b[0;32m   2803\u001b[0m         radius\u001b[38;5;241m=\u001b[39mradius, counterclock\u001b[38;5;241m=\u001b[39mcounterclock,\n\u001b[0;32m   2804\u001b[0m         wedgeprops\u001b[38;5;241m=\u001b[39mwedgeprops, textprops\u001b[38;5;241m=\u001b[39mtextprops, center\u001b[38;5;241m=\u001b[39mcenter,\n\u001b[0;32m   2805\u001b[0m         frame\u001b[38;5;241m=\u001b[39mframe, rotatelabels\u001b[38;5;241m=\u001b[39mrotatelabels, normalize\u001b[38;5;241m=\u001b[39mnormalize,\n\u001b[0;32m   2806\u001b[0m         hatch\u001b[38;5;241m=\u001b[39mhatch, \u001b[38;5;241m*\u001b[39m\u001b[38;5;241m*\u001b[39m({\u001b[38;5;124m\"\u001b[39m\u001b[38;5;124mdata\u001b[39m\u001b[38;5;124m\"\u001b[39m: data} \u001b[38;5;28;01mif\u001b[39;00m data \u001b[38;5;129;01mis\u001b[39;00m \u001b[38;5;129;01mnot\u001b[39;00m \u001b[38;5;28;01mNone\u001b[39;00m \u001b[38;5;28;01melse\u001b[39;00m {}))\n",
      "File \u001b[1;32mD:\\X-S01\\conda3\\envs\\lab\\lib\\site-packages\\matplotlib\\__init__.py:1459\u001b[0m, in \u001b[0;36m_preprocess_data.<locals>.inner\u001b[1;34m(ax, data, *args, **kwargs)\u001b[0m\n\u001b[0;32m   1456\u001b[0m \u001b[38;5;129m@functools\u001b[39m\u001b[38;5;241m.\u001b[39mwraps(func)\n\u001b[0;32m   1457\u001b[0m \u001b[38;5;28;01mdef\u001b[39;00m \u001b[38;5;21minner\u001b[39m(ax, \u001b[38;5;241m*\u001b[39margs, data\u001b[38;5;241m=\u001b[39m\u001b[38;5;28;01mNone\u001b[39;00m, \u001b[38;5;241m*\u001b[39m\u001b[38;5;241m*\u001b[39mkwargs):\n\u001b[0;32m   1458\u001b[0m     \u001b[38;5;28;01mif\u001b[39;00m data \u001b[38;5;129;01mis\u001b[39;00m \u001b[38;5;28;01mNone\u001b[39;00m:\n\u001b[1;32m-> 1459\u001b[0m         \u001b[38;5;28;01mreturn\u001b[39;00m func(ax, \u001b[38;5;241m*\u001b[39m\u001b[38;5;28mmap\u001b[39m(sanitize_sequence, args), \u001b[38;5;241m*\u001b[39m\u001b[38;5;241m*\u001b[39mkwargs)\n\u001b[0;32m   1461\u001b[0m     bound \u001b[38;5;241m=\u001b[39m new_sig\u001b[38;5;241m.\u001b[39mbind(ax, \u001b[38;5;241m*\u001b[39margs, \u001b[38;5;241m*\u001b[39m\u001b[38;5;241m*\u001b[39mkwargs)\n\u001b[0;32m   1462\u001b[0m     auto_label \u001b[38;5;241m=\u001b[39m (bound\u001b[38;5;241m.\u001b[39marguments\u001b[38;5;241m.\u001b[39mget(label_namer)\n\u001b[0;32m   1463\u001b[0m                   \u001b[38;5;129;01mor\u001b[39;00m bound\u001b[38;5;241m.\u001b[39mkwargs\u001b[38;5;241m.\u001b[39mget(label_namer))\n",
      "File \u001b[1;32mD:\\X-S01\\conda3\\envs\\lab\\lib\\site-packages\\matplotlib\\axes\\_axes.py:3211\u001b[0m, in \u001b[0;36mAxes.pie\u001b[1;34m(self, x, explode, labels, colors, autopct, pctdistance, shadow, labeldistance, startangle, radius, counterclock, wedgeprops, textprops, center, frame, rotatelabels, normalize, hatch)\u001b[0m\n\u001b[0;32m   3209\u001b[0m     \u001b[38;5;28;01mraise\u001b[39;00m \u001b[38;5;167;01mValueError\u001b[39;00m(\u001b[38;5;124m\"\u001b[39m\u001b[38;5;124m'\u001b[39m\u001b[38;5;124mlabel\u001b[39m\u001b[38;5;124m'\u001b[39m\u001b[38;5;124m must be of length \u001b[39m\u001b[38;5;124m'\u001b[39m\u001b[38;5;124mx\u001b[39m\u001b[38;5;124m'\u001b[39m\u001b[38;5;124m\"\u001b[39m)\n\u001b[0;32m   3210\u001b[0m \u001b[38;5;28;01mif\u001b[39;00m \u001b[38;5;28mlen\u001b[39m(x) \u001b[38;5;241m!=\u001b[39m \u001b[38;5;28mlen\u001b[39m(explode):\n\u001b[1;32m-> 3211\u001b[0m     \u001b[38;5;28;01mraise\u001b[39;00m \u001b[38;5;167;01mValueError\u001b[39;00m(\u001b[38;5;124m\"\u001b[39m\u001b[38;5;124m'\u001b[39m\u001b[38;5;124mexplode\u001b[39m\u001b[38;5;124m'\u001b[39m\u001b[38;5;124m must be of length \u001b[39m\u001b[38;5;124m'\u001b[39m\u001b[38;5;124mx\u001b[39m\u001b[38;5;124m'\u001b[39m\u001b[38;5;124m\"\u001b[39m)\n\u001b[0;32m   3212\u001b[0m \u001b[38;5;28;01mif\u001b[39;00m colors \u001b[38;5;129;01mis\u001b[39;00m \u001b[38;5;28;01mNone\u001b[39;00m:\n\u001b[0;32m   3213\u001b[0m     get_next_color \u001b[38;5;241m=\u001b[39m \u001b[38;5;28mself\u001b[39m\u001b[38;5;241m.\u001b[39m_get_patches_for_fill\u001b[38;5;241m.\u001b[39mget_next_color\n",
      "\u001b[1;31mValueError\u001b[0m: 'explode' must be of length 'x'"
     ]
    },
    {
     "data": {
      "image/png": "[encoded data removed]",
      "text/plain": [
       "<Figure size 950x950 with 1 Axes>"
      ]
     },
     "metadata": {},
     "output_type": "display_data"
    }
   ],
   "source": [
    "data_tmp2.reset_index(drop = True, inplace = True)\n",
    "s = 0\n",
    "for i in range(9,len(data_tmp2)):\n",
    "    s = s+data_tmp2['半年销量'][i]\n",
    "data_tmp2.drop(labels=range(9,len(data_tmp2)),axis=0, inplace=True)\n",
    "\n",
    "new_data = {'品类': '水果', '省份': '其他', '半年销量': s}\n",
    "data_tmp2 = data_tmp2._append(new_data,ignore_index=True)\n",
    "plt.figure(figsize=(9.5,9.5))## 将画布设定为正方形，则绘制的饼图是正圆\n",
    "explode=[0.05, 0,0,0,0,0,0,0,0,0.05]\n",
    "plt.pie(data_tmp2['半年销量'],explode = explode,labels = data_tmp2['省份'])\n",
    "plt.title('水果品类 Top9 省份')"
   ]
  },
  {
   "cell_type": "markdown",
   "id": "87aceffc-bb7f-40a1-bd1a-fff1f50be118",
   "metadata": {},
   "source": [
    "<h1><span style=\"color: #e03e2d;\">丫的全是报错，暂时不抄教材了</span></h1>"
   ]
  },
  {
   "cell_type": "markdown",
   "id": "9a3682f4-5e57-4931-887a-6dbc12635373",
   "metadata": {},
   "source": [
    "<div><span style=\"font-size: 12pt; font-family: TimesNewRomanPS-BoldMT;\">5.1.6 </span><span style=\"font-size: 12pt; font-family: 楷体;\">结论与建议 </span></div>\n",
    "<div><span style=\"font-size: 12pt; font-family: 宋体;\">（</span><span style=\"font-size: 12pt; font-family: 'Times New Roman';\">1</span><span style=\"font-size: 12pt; font-family: 宋体;\">）主要发现 </span></div>\n",
    "<div><span style=\"font-size: 12pt;\"> </span><span style=\"font-size: 12pt; font-family: 宋体;\">淘系生鲜农产品的交易量很大，但市场集中度分高，垄断现象非常严重。纳入统 </span></div>\n",
    "<div><span style=\"font-size: 12pt; font-family: 宋体;\">计的店铺数，水产为 </span><span style=\"font-size: 12pt; font-family: 'Times New Roman';\">485 </span><span style=\"font-size: 12pt; font-family: 宋体;\">家，水果为 </span><span style=\"font-size: 12pt; font-family: 'Times New Roman';\">449 </span><span style=\"font-size: 12pt; font-family: 宋体;\">家，肉类为 </span><span style=\"font-size: 12pt; font-family: 'Times New Roman';\">2491 </span><span style=\"font-size: 12pt; font-family: 宋体;\">家，蔬菜为 </span><span style=\"font-size: 12pt; font-family: 'Times New Roman';\">427 </span><span style=\"font-size: 12pt; font-family: 宋体;\">家，蛋类为 </span></div>\n",
    "<div><span style=\"font-size: 12pt; font-family: 'Times New Roman';\">828 </span><span style=\"font-size: 12pt; font-family: 宋体;\">家；各品类 </span><span style=\"font-size: 12pt; font-family: 'Times New Roman';\">Top20 </span><span style=\"font-size: 12pt; font-family: 宋体;\">累计市场份额，水产为 </span><span style=\"font-size: 12pt; font-family: 'Times New Roman';\">60.3%</span><span style=\"font-size: 12pt; font-family: 宋体;\">（</span><span style=\"font-size: 12pt; font-family: 'Times New Roman';\">4.1%</span><span style=\"font-size: 12pt; font-family: 宋体;\">），水果为 </span><span style=\"font-size: 12pt; font-family: 'Times New Roman';\">41.5% </span></div>\n",
    "<div><span style=\"font-size: 12pt; font-family: 宋体;\">（</span><span style=\"font-size: 12pt; font-family: 'Times New Roman';\">4.5%</span><span style=\"font-size: 12pt; font-family: 宋体;\">），肉类为 </span><span style=\"font-size: 12pt; font-family: 'Times New Roman';\">38.3%</span><span style=\"font-size: 12pt; font-family: 宋体;\">（</span><span style=\"font-size: 12pt; font-family: 'Times New Roman';\">0.8%</span><span style=\"font-size: 12pt; font-family: 宋体;\">），蔬菜为 </span><span style=\"font-size: 12pt; font-family: 'Times New Roman';\">44.4%</span><span style=\"font-size: 12pt; font-family: 宋体;\">（</span><span style=\"font-size: 12pt; font-family: 'Times New Roman';\">4.7%</span><span style=\"font-size: 12pt; font-family: 宋体;\">），蛋类为 </span><span style=\"font-size: 12pt; font-family: 'Times New Roman';\">43.4%</span><span style=\"font-size: 12pt; font-family: 宋体;\">（</span><span style=\"font-size: 12pt; font-family: 'Times New Roman';\">2.4%</span><span style=\"font-size: 12pt; font-family: 宋体;\">）。 </span></div>\n",
    "<div><span style=\"font-size: 12pt;\"> </span><span style=\"font-size: 12pt; font-family: 宋体;\">五大品类中，平均客单价分别为：水产为 </span><span style=\"font-size: 12pt; font-family: 'Times New Roman';\">112.9 </span><span style=\"font-size: 12pt; font-family: 宋体;\">元，水果为 </span><span style=\"font-size: 12pt; font-family: 'Times New Roman';\">70.1 </span><span style=\"font-size: 12pt; font-family: 宋体;\">元，肉为 </span><span style=\"font-size: 12pt; font-family: 'Times New Roman';\">54.5 </span></div>\n",
    "<div><span style=\"font-size: 12pt; font-family: 宋体;\">元，蔬菜为 </span><span style=\"font-size: 12pt; font-family: 'Times New Roman';\">54.7 </span><span style=\"font-size: 12pt; font-family: 宋体;\">元，蛋为 </span><span style=\"font-size: 12pt; font-family: 'Times New Roman';\">63.1 </span><span style=\"font-size: 12pt; font-family: 宋体;\">元。 </span></div>\n",
    "<div><span style=\"font-size: 12pt;\"> </span><span style=\"font-size: 12pt; font-family: 宋体;\">五大品类中，天猫及淘宝冠级店铺占比分别为：水产为 </span><span style=\"font-size: 12pt; font-family: 'Times New Roman';\">42.1%</span><span style=\"font-size: 12pt; font-family: 宋体;\">、</span><span style=\"font-size: 12pt; font-family: 'Times New Roman';\">24.0%</span><span style=\"font-size: 12pt; font-family: 宋体;\">，水果为 </span></div>\n",
    "<div><span style=\"font-size: 12pt; font-family: 'Times New Roman';\">60.6%</span><span style=\"font-size: 12pt; font-family: 宋体;\">、</span><span style=\"font-size: 12pt; font-family: 'Times New Roman';\">20.2%</span><span style=\"font-size: 12pt; font-family: 宋体;\">，肉为 </span><span style=\"font-size: 12pt; font-family: 'Times New Roman';\">25.0%</span><span style=\"font-size: 12pt; font-family: 宋体;\">、</span><span style=\"font-size: 12pt; font-family: 'Times New Roman';\">52.7%</span><span style=\"font-size: 12pt; font-family: 宋体;\">，蔬菜为 </span><span style=\"font-size: 12pt; font-family: 'Times New Roman';\">28.8%</span><span style=\"font-size: 12pt; font-family: 宋体;\">、</span><span style=\"font-size: 12pt; font-family: 'Times New Roman';\">32.8%</span><span style=\"font-size: 12pt; font-family: 宋体;\">，蛋为 </span><span style=\"font-size: 12pt; font-family: 'Times New Roman';\">29.7%</span><span style=\"font-size: 12pt; font-family: 宋体;\">、</span><span style=\"font-size: 12pt; font-family: 'Times New Roman';\">31.4%</span><span style=\"font-size: 12pt; font-family: 宋体;\">。 </span></div>\n",
    "<div><span style=\"font-size: 12pt;\"> </span><span style=\"font-size: 12pt; font-family: 宋体;\">苹果商品中，销量排名前十的店铺是 </span><span style=\"font-size: 12pt; font-family: 'Times New Roman';\">82a34b3fee69111c</span><span style=\"font-size: 12pt; font-family: 宋体;\">、</span><span style=\"font-size: 12pt; font-family: 'Times New Roman';\">df6c9fe7308bdb84</span><span style=\"font-size: 12pt; font-family: 宋体;\">、 </span></div>\n",
    "<div><span style=\"font-size: 12pt; font-family: 'Times New Roman';\">8f770100468d4129</span><span style=\"font-size: 12pt; font-family: 宋体;\">、</span><span style=\"font-size: 12pt; font-family: 'Times New Roman';\">df4d39f9d33740ea</span><span style=\"font-size: 12pt; font-family: 宋体;\">、</span><span style=\"font-size: 12pt; font-family: 'Times New Roman';\">91a91feb78abf6cc</span><span style=\"font-size: 12pt; font-family: 宋体;\">、</span><span style=\"font-size: 12pt; font-family: 'Times New Roman';\">3d3d5434ca5e3d08</span><span style=\"font-size: 12pt; font-family: 宋体;\">、 </span></div>\n",
    "<div><span style=\"font-size: 12pt; font-family: 'Times New Roman';\">96d74c1cb62f8cdb</span><span style=\"font-size: 12pt; font-family: 宋体;\">、</span><span style=\"font-size: 12pt; font-family: 'Times New Roman';\">8c8968a68af23ee9</span><span style=\"font-size: 12pt; font-family: 宋体;\">、</span><span style=\"font-size: 12pt; font-family: 'Times New Roman';\">39763bc04208e19e</span><span style=\"font-size: 12pt; font-family: 宋体;\">、</span><span style=\"font-size: 12pt; font-family: 'Times New Roman';\">3792f5b5f58a3f57</span><span style=\"font-size: 12pt; font-family: 宋体;\">，销量排 </span></div>\n",
    "<div><span style=\"font-size: 12pt; font-family: 宋体;\">名前十的地区是运城、徐州、阿克苏、天水、烟台、延安、渭南、临汾、咸阳、庆阳。 </span></div>\n",
    "<div><span style=\"font-size: 12pt; font-family: 宋体;\">（</span><span style=\"font-size: 12pt; font-family: 'Times New Roman';\">2</span><span style=\"font-size: 12pt; font-family: 宋体;\">）对策建议 </span></div>\n",
    "<div><span style=\"font-size: 12pt;\"> </span><span style=\"font-size: 12pt; font-family: 宋体;\">新进入者需考虑店铺运营规模； </span></div>\n",
    "<div><span style=\"font-size: 12pt;\"> </span><span style=\"font-size: 12pt; font-family: 宋体;\">新进入者首要考虑店铺排名，名列前茅者获利的可能性大。 </span></div>\n",
    "<div><span style=\"font-size: 12pt;\"> </span><span style=\"font-size: 12pt; font-family: 宋体;\">（如果为目标商户提供决策建议，可以提出有针对性的建议）</span></div>"
   ]
  },
  {
   "cell_type": "code",
   "execution_count": null,
   "id": "b2609f71-7c7b-4e57-a441-65aea5a901ea",
   "metadata": {},
   "outputs": [],
   "source": []
  }
 ],
 "metadata": {
  "kernelspec": {
   "display_name": "Python 3 (ipykernel)",
   "language": "python",
   "name": "python3"
  },
  "language_info": {
   "codemirror_mode": {
    "name": "ipython",
    "version": 3
   },
   "file_extension": ".py",
   "mimetype": "text/x-python",
   "name": "python",
   "nbconvert_exporter": "python",
   "pygments_lexer": "ipython3",
   "version": "3.10.11"
  },
  "widgets": {
   "application/vnd.jupyter.widget-state+json": {
    "state": {},
    "version_major": 2,
    "version_minor": 0
   }
  }
 },
 "nbformat": 4,
 "nbformat_minor": 5
}
