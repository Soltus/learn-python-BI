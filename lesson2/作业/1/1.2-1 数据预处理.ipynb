{
 "cells": [
  {
   "cell_type": "code",
   "execution_count": 1,
   "metadata": {},
   "outputs": [],
   "source": [
    "# -*- coding: utf-8 -*-\n",
    "\n",
    "import pandas as pd\n",
    "data = pd.read_csv('./data/1.2/tianchi_fresh_comp_train_user.csv', sep = ',',encoding = 'utf-8')"
   ]
  },
  {
   "cell_type": "code",
   "execution_count": 2,
   "metadata": {},
   "outputs": [
    {
     "data": {
      "text/html": [
       "<div>\n",
       "<style scoped>\n",
       "    .dataframe tbody tr th:only-of-type {\n",
       "        vertical-align: middle;\n",
       "    }\n",
       "\n",
       "    .dataframe tbody tr th {\n",
       "        vertical-align: top;\n",
       "    }\n",
       "\n",
       "    .dataframe thead th {\n",
       "        text-align: right;\n",
       "    }\n",
       "</style>\n",
       "<table border=\"1\" class=\"dataframe\">\n",
       "  <thead>\n",
       "    <tr style=\"text-align: right;\">\n",
       "      <th></th>\n",
       "      <th>user_id</th>\n",
       "      <th>item_id</th>\n",
       "      <th>behavior_type</th>\n",
       "      <th>user_geohash</th>\n",
       "      <th>item_category</th>\n",
       "      <th>time</th>\n",
       "    </tr>\n",
       "  </thead>\n",
       "  <tbody>\n",
       "    <tr>\n",
       "      <th>0</th>\n",
       "      <td>10001082</td>\n",
       "      <td>285259775</td>\n",
       "      <td>1</td>\n",
       "      <td>97lk14c</td>\n",
       "      <td>4076</td>\n",
       "      <td>2014-12-08 18</td>\n",
       "    </tr>\n",
       "    <tr>\n",
       "      <th>1</th>\n",
       "      <td>10001082</td>\n",
       "      <td>4368907</td>\n",
       "      <td>1</td>\n",
       "      <td>NaN</td>\n",
       "      <td>5503</td>\n",
       "      <td>2014-12-12 12</td>\n",
       "    </tr>\n",
       "    <tr>\n",
       "      <th>2</th>\n",
       "      <td>10001082</td>\n",
       "      <td>4368907</td>\n",
       "      <td>1</td>\n",
       "      <td>NaN</td>\n",
       "      <td>5503</td>\n",
       "      <td>2014-12-12 12</td>\n",
       "    </tr>\n",
       "    <tr>\n",
       "      <th>3</th>\n",
       "      <td>10001082</td>\n",
       "      <td>53616768</td>\n",
       "      <td>1</td>\n",
       "      <td>NaN</td>\n",
       "      <td>9762</td>\n",
       "      <td>2014-12-02 15</td>\n",
       "    </tr>\n",
       "    <tr>\n",
       "      <th>4</th>\n",
       "      <td>10001082</td>\n",
       "      <td>151466952</td>\n",
       "      <td>1</td>\n",
       "      <td>NaN</td>\n",
       "      <td>5232</td>\n",
       "      <td>2014-12-12 11</td>\n",
       "    </tr>\n",
       "    <tr>\n",
       "      <th>...</th>\n",
       "      <td>...</td>\n",
       "      <td>...</td>\n",
       "      <td>...</td>\n",
       "      <td>...</td>\n",
       "      <td>...</td>\n",
       "      <td>...</td>\n",
       "    </tr>\n",
       "    <tr>\n",
       "      <th>23291022</th>\n",
       "      <td>65341491</td>\n",
       "      <td>259008790</td>\n",
       "      <td>1</td>\n",
       "      <td>NaN</td>\n",
       "      <td>13164</td>\n",
       "      <td>2014-12-03 12</td>\n",
       "    </tr>\n",
       "    <tr>\n",
       "      <th>23291023</th>\n",
       "      <td>65341491</td>\n",
       "      <td>336404938</td>\n",
       "      <td>1</td>\n",
       "      <td>NaN</td>\n",
       "      <td>13164</td>\n",
       "      <td>2014-12-03 12</td>\n",
       "    </tr>\n",
       "    <tr>\n",
       "      <th>23291024</th>\n",
       "      <td>65341491</td>\n",
       "      <td>52142024</td>\n",
       "      <td>1</td>\n",
       "      <td>95qhbsu</td>\n",
       "      <td>5201</td>\n",
       "      <td>2014-12-10 22</td>\n",
       "    </tr>\n",
       "    <tr>\n",
       "      <th>23291025</th>\n",
       "      <td>65341491</td>\n",
       "      <td>250557965</td>\n",
       "      <td>1</td>\n",
       "      <td>NaN</td>\n",
       "      <td>13164</td>\n",
       "      <td>2014-12-03 12</td>\n",
       "    </tr>\n",
       "    <tr>\n",
       "      <th>23291026</th>\n",
       "      <td>65341491</td>\n",
       "      <td>300315408</td>\n",
       "      <td>1</td>\n",
       "      <td>NaN</td>\n",
       "      <td>1838</td>\n",
       "      <td>2014-11-29 08</td>\n",
       "    </tr>\n",
       "  </tbody>\n",
       "</table>\n",
       "<p>23291027 rows × 6 columns</p>\n",
       "</div>"
      ],
      "text/plain": [
       "           user_id    item_id  behavior_type user_geohash  item_category  \\\n",
       "0         10001082  285259775              1      97lk14c           4076   \n",
       "1         10001082    4368907              1          NaN           5503   \n",
       "2         10001082    4368907              1          NaN           5503   \n",
       "3         10001082   53616768              1          NaN           9762   \n",
       "4         10001082  151466952              1          NaN           5232   \n",
       "...            ...        ...            ...          ...            ...   \n",
       "23291022  65341491  259008790              1          NaN          13164   \n",
       "23291023  65341491  336404938              1          NaN          13164   \n",
       "23291024  65341491   52142024              1      95qhbsu           5201   \n",
       "23291025  65341491  250557965              1          NaN          13164   \n",
       "23291026  65341491  300315408              1          NaN           1838   \n",
       "\n",
       "                   time  \n",
       "0         2014-12-08 18  \n",
       "1         2014-12-12 12  \n",
       "2         2014-12-12 12  \n",
       "3         2014-12-02 15  \n",
       "4         2014-12-12 11  \n",
       "...                 ...  \n",
       "23291022  2014-12-03 12  \n",
       "23291023  2014-12-03 12  \n",
       "23291024  2014-12-10 22  \n",
       "23291025  2014-12-03 12  \n",
       "23291026  2014-11-29 08  \n",
       "\n",
       "[23291027 rows x 6 columns]"
      ]
     },
     "execution_count": 2,
     "metadata": {},
     "output_type": "execute_result"
    }
   ],
   "source": [
    "data"
   ]
  },
  {
   "cell_type": "markdown",
   "metadata": {},
   "source": [
    "# （1）查看数据表"
   ]
  },
  {
   "cell_type": "code",
   "execution_count": 3,
   "metadata": {},
   "outputs": [
    {
     "name": "stdout",
     "output_type": "stream",
     "text": [
      "<class 'pandas.core.frame.DataFrame'>\n",
      "RangeIndex: 23291027 entries, 0 to 23291026\n",
      "Data columns (total 6 columns):\n",
      " #   Column         Dtype \n",
      "---  ------         ----- \n",
      " 0   user_id        int64 \n",
      " 1   item_id        int64 \n",
      " 2   behavior_type  int64 \n",
      " 3   user_geohash   object\n",
      " 4   item_category  int64 \n",
      " 5   time           object\n",
      "dtypes: int64(4), object(2)\n",
      "memory usage: 1.0+ GB\n"
     ]
    }
   ],
   "source": [
    "data.info()"
   ]
  },
  {
   "cell_type": "markdown",
   "metadata": {},
   "source": [
    "# （2）去除重复值"
   ]
  },
  {
   "cell_type": "code",
   "execution_count": 4,
   "metadata": {},
   "outputs": [
    {
     "data": {
      "text/plain": [
       "15463110"
      ]
     },
     "execution_count": 4,
     "metadata": {},
     "output_type": "execute_result"
    }
   ],
   "source": [
    "data.drop_duplicates(inplace = True)   #inplace = True表示直接在data中修改\n",
    "len(data)"
   ]
  },
  {
   "cell_type": "markdown",
   "metadata": {},
   "source": [
    "# （3）查看缺失值"
   ]
  },
  {
   "cell_type": "code",
   "execution_count": 5,
   "metadata": {},
   "outputs": [
    {
     "data": {
      "text/plain": [
       "user_id                0\n",
       "item_id                0\n",
       "behavior_type          0\n",
       "user_geohash     8207386\n",
       "item_category          0\n",
       "time                   0\n",
       "dtype: int64"
      ]
     },
     "execution_count": 5,
     "metadata": {},
     "output_type": "execute_result"
    }
   ],
   "source": [
    "data.isnull().sum()"
   ]
  },
  {
   "cell_type": "markdown",
   "metadata": {},
   "source": [
    "# （4）变换数据表"
   ]
  },
  {
   "cell_type": "code",
   "execution_count": 6,
   "metadata": {},
   "outputs": [
    {
     "data": {
      "text/html": [
       "<div>\n",
       "<style scoped>\n",
       "    .dataframe tbody tr th:only-of-type {\n",
       "        vertical-align: middle;\n",
       "    }\n",
       "\n",
       "    .dataframe tbody tr th {\n",
       "        vertical-align: top;\n",
       "    }\n",
       "\n",
       "    .dataframe thead th {\n",
       "        text-align: right;\n",
       "    }\n",
       "</style>\n",
       "<table border=\"1\" class=\"dataframe\">\n",
       "  <thead>\n",
       "    <tr style=\"text-align: right;\">\n",
       "      <th></th>\n",
       "      <th>0</th>\n",
       "      <th>1</th>\n",
       "    </tr>\n",
       "  </thead>\n",
       "  <tbody>\n",
       "    <tr>\n",
       "      <th>0</th>\n",
       "      <td>2014-12-08</td>\n",
       "      <td>18</td>\n",
       "    </tr>\n",
       "    <tr>\n",
       "      <th>1</th>\n",
       "      <td>2014-12-12</td>\n",
       "      <td>12</td>\n",
       "    </tr>\n",
       "    <tr>\n",
       "      <th>3</th>\n",
       "      <td>2014-12-02</td>\n",
       "      <td>15</td>\n",
       "    </tr>\n",
       "    <tr>\n",
       "      <th>4</th>\n",
       "      <td>2014-12-12</td>\n",
       "      <td>11</td>\n",
       "    </tr>\n",
       "    <tr>\n",
       "      <th>5</th>\n",
       "      <td>2014-12-02</td>\n",
       "      <td>15</td>\n",
       "    </tr>\n",
       "    <tr>\n",
       "      <th>...</th>\n",
       "      <td>...</td>\n",
       "      <td>...</td>\n",
       "    </tr>\n",
       "    <tr>\n",
       "      <th>23291015</th>\n",
       "      <td>2014-12-18</td>\n",
       "      <td>01</td>\n",
       "    </tr>\n",
       "    <tr>\n",
       "      <th>23291018</th>\n",
       "      <td>2014-12-08</td>\n",
       "      <td>12</td>\n",
       "    </tr>\n",
       "    <tr>\n",
       "      <th>23291019</th>\n",
       "      <td>2014-12-08</td>\n",
       "      <td>12</td>\n",
       "    </tr>\n",
       "    <tr>\n",
       "      <th>23291023</th>\n",
       "      <td>2014-12-03</td>\n",
       "      <td>12</td>\n",
       "    </tr>\n",
       "    <tr>\n",
       "      <th>23291024</th>\n",
       "      <td>2014-12-10</td>\n",
       "      <td>22</td>\n",
       "    </tr>\n",
       "  </tbody>\n",
       "</table>\n",
       "<p>15463110 rows × 2 columns</p>\n",
       "</div>"
      ],
      "text/plain": [
       "                   0   1\n",
       "0         2014-12-08  18\n",
       "1         2014-12-12  12\n",
       "3         2014-12-02  15\n",
       "4         2014-12-12  11\n",
       "5         2014-12-02  15\n",
       "...              ...  ..\n",
       "23291015  2014-12-18  01\n",
       "23291018  2014-12-08  12\n",
       "23291019  2014-12-08  12\n",
       "23291023  2014-12-03  12\n",
       "23291024  2014-12-10  22\n",
       "\n",
       "[15463110 rows x 2 columns]"
      ]
     },
     "execution_count": 6,
     "metadata": {},
     "output_type": "execute_result"
    }
   ],
   "source": [
    "df = data['time'].str.split(' ', expand=True) \n",
    "df"
   ]
  },
  {
   "cell_type": "code",
   "execution_count": 7,
   "metadata": {},
   "outputs": [
    {
     "data": {
      "text/plain": [
       "0           [2014-12-08, 18]\n",
       "1           [2014-12-12, 12]\n",
       "3           [2014-12-02, 15]\n",
       "4           [2014-12-12, 11]\n",
       "5           [2014-12-02, 15]\n",
       "                  ...       \n",
       "23291015    [2014-12-18, 01]\n",
       "23291018    [2014-12-08, 12]\n",
       "23291019    [2014-12-08, 12]\n",
       "23291023    [2014-12-03, 12]\n",
       "23291024    [2014-12-10, 22]\n",
       "Name: time, Length: 15463110, dtype: object"
      ]
     },
     "execution_count": 7,
     "metadata": {},
     "output_type": "execute_result"
    }
   ],
   "source": [
    "df = data['time'].str.split(' ') \n",
    "df"
   ]
  },
  {
   "cell_type": "markdown",
   "metadata": {},
   "source": [
    "### 将“time”字段拆分为日期字段“date”和小时字段“hour”"
   ]
  },
  {
   "cell_type": "code",
   "execution_count": 8,
   "metadata": {},
   "outputs": [],
   "source": [
    "df = data['time'].str.split(' ', expand=True)  #将原表中'time'的日期和时间（小时）拆开\n",
    "data['date'] = df.iloc[:, 0]\n",
    "data['time'] = df.iloc[:, 1]\n",
    "data.rename(columns={'time':'hour'},inplace=True)   # 将列名'time'改为'hour'"
   ]
  },
  {
   "cell_type": "code",
   "execution_count": 9,
   "metadata": {},
   "outputs": [
    {
     "data": {
      "text/html": [
       "<div>\n",
       "<style scoped>\n",
       "    .dataframe tbody tr th:only-of-type {\n",
       "        vertical-align: middle;\n",
       "    }\n",
       "\n",
       "    .dataframe tbody tr th {\n",
       "        vertical-align: top;\n",
       "    }\n",
       "\n",
       "    .dataframe thead th {\n",
       "        text-align: right;\n",
       "    }\n",
       "</style>\n",
       "<table border=\"1\" class=\"dataframe\">\n",
       "  <thead>\n",
       "    <tr style=\"text-align: right;\">\n",
       "      <th></th>\n",
       "      <th>user_id</th>\n",
       "      <th>item_id</th>\n",
       "      <th>behavior_type</th>\n",
       "      <th>user_geohash</th>\n",
       "      <th>item_category</th>\n",
       "      <th>hour</th>\n",
       "      <th>date</th>\n",
       "    </tr>\n",
       "  </thead>\n",
       "  <tbody>\n",
       "    <tr>\n",
       "      <th>0</th>\n",
       "      <td>10001082</td>\n",
       "      <td>285259775</td>\n",
       "      <td>1</td>\n",
       "      <td>97lk14c</td>\n",
       "      <td>4076</td>\n",
       "      <td>18</td>\n",
       "      <td>2014-12-08</td>\n",
       "    </tr>\n",
       "    <tr>\n",
       "      <th>1</th>\n",
       "      <td>10001082</td>\n",
       "      <td>4368907</td>\n",
       "      <td>1</td>\n",
       "      <td>NaN</td>\n",
       "      <td>5503</td>\n",
       "      <td>12</td>\n",
       "      <td>2014-12-12</td>\n",
       "    </tr>\n",
       "    <tr>\n",
       "      <th>3</th>\n",
       "      <td>10001082</td>\n",
       "      <td>53616768</td>\n",
       "      <td>1</td>\n",
       "      <td>NaN</td>\n",
       "      <td>9762</td>\n",
       "      <td>15</td>\n",
       "      <td>2014-12-02</td>\n",
       "    </tr>\n",
       "    <tr>\n",
       "      <th>4</th>\n",
       "      <td>10001082</td>\n",
       "      <td>151466952</td>\n",
       "      <td>1</td>\n",
       "      <td>NaN</td>\n",
       "      <td>5232</td>\n",
       "      <td>11</td>\n",
       "      <td>2014-12-12</td>\n",
       "    </tr>\n",
       "    <tr>\n",
       "      <th>5</th>\n",
       "      <td>10001082</td>\n",
       "      <td>53616768</td>\n",
       "      <td>4</td>\n",
       "      <td>NaN</td>\n",
       "      <td>9762</td>\n",
       "      <td>15</td>\n",
       "      <td>2014-12-02</td>\n",
       "    </tr>\n",
       "  </tbody>\n",
       "</table>\n",
       "</div>"
      ],
      "text/plain": [
       "    user_id    item_id  behavior_type user_geohash  item_category hour  \\\n",
       "0  10001082  285259775              1      97lk14c           4076   18   \n",
       "1  10001082    4368907              1          NaN           5503   12   \n",
       "3  10001082   53616768              1          NaN           9762   15   \n",
       "4  10001082  151466952              1          NaN           5232   11   \n",
       "5  10001082   53616768              4          NaN           9762   15   \n",
       "\n",
       "         date  \n",
       "0  2014-12-08  \n",
       "1  2014-12-12  \n",
       "3  2014-12-02  \n",
       "4  2014-12-12  \n",
       "5  2014-12-02  "
      ]
     },
     "execution_count": 9,
     "metadata": {},
     "output_type": "execute_result"
    }
   ],
   "source": [
    "data.head()"
   ]
  },
  {
   "cell_type": "markdown",
   "metadata": {},
   "source": [
    "### 将“behavior_type”字段拆分为“浏览”“收藏”“加购物车”“购买”等四个“0-1”型字段"
   ]
  },
  {
   "cell_type": "code",
   "execution_count": 10,
   "metadata": {},
   "outputs": [],
   "source": [
    "data['收藏'] = 0\n",
    "data['加购物车'] = 0\n",
    "data['购买'] = 0\n",
    "\n",
    "data.loc[data['behavior_type'] == 2, '收藏'] = 1\n",
    "data.loc[data['behavior_type'] == 3, '加购物车'] = 1\n",
    "data.loc[data['behavior_type'] == 4, '购买'] = 1\n",
    "data.loc[data['behavior_type'] != 1, 'behavior_type'] = 0\n",
    "data.rename(columns={'behavior_type':'浏览'},inplace=True)   # 将列名'behavior_type'改为'浏览'\n",
    "data.rename(columns={'user_id':'用户'},inplace=True)   # 将列名'user_id'改为'用户'\n",
    "data.rename(columns={'item_id':'商品'},inplace=True)   # 将列名'item_id'改为'商品'\n",
    "data.rename(columns={'item_category':'品类'},inplace=True)   # 将列名'item_category'改为'品类'\n",
    "data.rename(columns={'user_geohash':'地理位置'},inplace=True)   # 将列名'user_geohash'改为'地理位置'"
   ]
  },
  {
   "cell_type": "code",
   "execution_count": 11,
   "metadata": {},
   "outputs": [],
   "source": [
    "data = data[['用户','商品','品类','地理位置','date','hour','浏览','收藏','加购物车','购买']]"
   ]
  },
  {
   "cell_type": "code",
   "execution_count": 12,
   "metadata": {},
   "outputs": [
    {
     "data": {
      "text/html": [
       "<div>\n",
       "<style scoped>\n",
       "    .dataframe tbody tr th:only-of-type {\n",
       "        vertical-align: middle;\n",
       "    }\n",
       "\n",
       "    .dataframe tbody tr th {\n",
       "        vertical-align: top;\n",
       "    }\n",
       "\n",
       "    .dataframe thead th {\n",
       "        text-align: right;\n",
       "    }\n",
       "</style>\n",
       "<table border=\"1\" class=\"dataframe\">\n",
       "  <thead>\n",
       "    <tr style=\"text-align: right;\">\n",
       "      <th></th>\n",
       "      <th>用户</th>\n",
       "      <th>商品</th>\n",
       "      <th>品类</th>\n",
       "      <th>地理位置</th>\n",
       "      <th>date</th>\n",
       "      <th>hour</th>\n",
       "      <th>浏览</th>\n",
       "      <th>收藏</th>\n",
       "      <th>加购物车</th>\n",
       "      <th>购买</th>\n",
       "    </tr>\n",
       "  </thead>\n",
       "  <tbody>\n",
       "    <tr>\n",
       "      <th>0</th>\n",
       "      <td>10001082</td>\n",
       "      <td>285259775</td>\n",
       "      <td>4076</td>\n",
       "      <td>97lk14c</td>\n",
       "      <td>2014-12-08</td>\n",
       "      <td>18</td>\n",
       "      <td>1</td>\n",
       "      <td>0</td>\n",
       "      <td>0</td>\n",
       "      <td>0</td>\n",
       "    </tr>\n",
       "    <tr>\n",
       "      <th>1</th>\n",
       "      <td>10001082</td>\n",
       "      <td>4368907</td>\n",
       "      <td>5503</td>\n",
       "      <td>NaN</td>\n",
       "      <td>2014-12-12</td>\n",
       "      <td>12</td>\n",
       "      <td>1</td>\n",
       "      <td>0</td>\n",
       "      <td>0</td>\n",
       "      <td>0</td>\n",
       "    </tr>\n",
       "    <tr>\n",
       "      <th>3</th>\n",
       "      <td>10001082</td>\n",
       "      <td>53616768</td>\n",
       "      <td>9762</td>\n",
       "      <td>NaN</td>\n",
       "      <td>2014-12-02</td>\n",
       "      <td>15</td>\n",
       "      <td>1</td>\n",
       "      <td>0</td>\n",
       "      <td>0</td>\n",
       "      <td>0</td>\n",
       "    </tr>\n",
       "    <tr>\n",
       "      <th>4</th>\n",
       "      <td>10001082</td>\n",
       "      <td>151466952</td>\n",
       "      <td>5232</td>\n",
       "      <td>NaN</td>\n",
       "      <td>2014-12-12</td>\n",
       "      <td>11</td>\n",
       "      <td>1</td>\n",
       "      <td>0</td>\n",
       "      <td>0</td>\n",
       "      <td>0</td>\n",
       "    </tr>\n",
       "    <tr>\n",
       "      <th>5</th>\n",
       "      <td>10001082</td>\n",
       "      <td>53616768</td>\n",
       "      <td>9762</td>\n",
       "      <td>NaN</td>\n",
       "      <td>2014-12-02</td>\n",
       "      <td>15</td>\n",
       "      <td>0</td>\n",
       "      <td>0</td>\n",
       "      <td>0</td>\n",
       "      <td>1</td>\n",
       "    </tr>\n",
       "  </tbody>\n",
       "</table>\n",
       "</div>"
      ],
      "text/plain": [
       "         用户         商品    品类     地理位置        date hour  浏览  收藏  加购物车  购买\n",
       "0  10001082  285259775  4076  97lk14c  2014-12-08   18   1   0     0   0\n",
       "1  10001082    4368907  5503      NaN  2014-12-12   12   1   0     0   0\n",
       "3  10001082   53616768  9762      NaN  2014-12-02   15   1   0     0   0\n",
       "4  10001082  151466952  5232      NaN  2014-12-12   11   1   0     0   0\n",
       "5  10001082   53616768  9762      NaN  2014-12-02   15   0   0     0   1"
      ]
     },
     "execution_count": 12,
     "metadata": {},
     "output_type": "execute_result"
    }
   ],
   "source": [
    "data.head()"
   ]
  },
  {
   "cell_type": "code",
   "execution_count": 13,
   "metadata": {},
   "outputs": [],
   "source": [
    "data.to_csv('./data/1.2/behavior.csv',encoding = 'utf-8',index=False)"
   ]
  },
  {
   "cell_type": "markdown",
   "metadata": {},
   "source": [
    "### 生成新数据文件——用户表users.csv"
   ]
  },
  {
   "cell_type": "code",
   "execution_count": 14,
   "metadata": {},
   "outputs": [],
   "source": [
    "# -*- coding: utf-8 -*-\n",
    "\n",
    "import pandas as pd\n",
    "data = pd.read_csv('./data/1.2/behavior.csv', sep = ',',encoding = 'utf-8')"
   ]
  },
  {
   "cell_type": "code",
   "execution_count": 15,
   "metadata": {},
   "outputs": [
    {
     "data": {
      "text/plain": [
       "0            10001082\n",
       "122         100029775\n",
       "379         100068031\n",
       "751         100076491\n",
       "1158        100087810\n",
       "              ...    \n",
       "15458935     65186019\n",
       "15461365     65200062\n",
       "15462046     65222739\n",
       "15462552     65328951\n",
       "15462824     65341491\n",
       "Name: 用户, Length: 20000, dtype: int64"
      ]
     },
     "execution_count": 15,
     "metadata": {},
     "output_type": "execute_result"
    }
   ],
   "source": [
    "data1 = data['用户']\n",
    "data1.drop_duplicates(inplace = True)\n",
    "data1"
   ]
  },
  {
   "cell_type": "code",
   "execution_count": 16,
   "metadata": {},
   "outputs": [],
   "source": [
    "data1.to_csv('./data/1.2/user.csv',encoding = 'utf-8',index=False, header = True)"
   ]
  },
  {
   "cell_type": "code",
   "execution_count": 17,
   "metadata": {},
   "outputs": [
    {
     "data": {
      "text/plain": [
       "0            10001082\n",
       "122         100029775\n",
       "379         100068031\n",
       "751         100076491\n",
       "1158        100087810\n",
       "              ...    \n",
       "15458935     65186019\n",
       "15461365     65200062\n",
       "15462046     65222739\n",
       "15462552     65328951\n",
       "15462824     65341491\n",
       "Name: 用户, Length: 20000, dtype: int64"
      ]
     },
     "execution_count": 17,
     "metadata": {},
     "output_type": "execute_result"
    }
   ],
   "source": [
    "data1"
   ]
  },
  {
   "cell_type": "code",
   "execution_count": null,
   "metadata": {},
   "outputs": [],
   "source": []
  }
 ],
 "metadata": {
  "kernelspec": {
   "display_name": "Python 3 (ipykernel)",
   "language": "python",
   "name": "python3"
  },
  "language_info": {
   "codemirror_mode": {
    "name": "ipython",
    "version": 3
   },
   "file_extension": ".py",
   "mimetype": "text/x-python",
   "name": "python",
   "nbconvert_exporter": "python",
   "pygments_lexer": "ipython3",
   "version": "3.9.13"
  }
 },
 "nbformat": 4,
 "nbformat_minor": 2
}
