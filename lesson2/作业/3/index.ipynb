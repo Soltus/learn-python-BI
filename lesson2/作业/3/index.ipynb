{
 "cells": [
  {
   "cell_type": "markdown",
   "id": "be73bd49-5e57-4894-a2dc-c97daaf0413f",
   "metadata": {},
   "source": [
    "<!--\n",
    "模板使用方法：将此代码块转为Markdown块然后点击左侧三角渲染（依赖 jupyter-wysiwyg ）\n",
    "模板参数说明：将超链接的路径替换即可\n",
    "@hyperlink_1: href=\"https://github.com/{组织或用户}/{仓库}/blob/{分支}/{目录和文件名组成的路径}\"\n",
    "@hyperlink_2: href=\"https://nbviewer.org/github/{组织或用户}/{仓库}/blob/{分支}/{目录和文件名组成的路径}\"\n",
    "注意事项：在 <p>...</p> 中添加注释或者空行等行为会破坏渲染效果\n",
    "-->\n",
    "\n",
    "<!-- start of template header -->\n",
    "<p>\n",
    "<div style=\"display:flex\">\n",
    "<a alt=\"hyperlink_1\" title=\"在Github查看当前文件\" href=\"https://github.com/Soltus/learn-python-BI/blob/main/lesson2/%E4%BD%9C%E4%B8%9A/3/index.ipynb\" target=\"_blank\"><img src=\"https://img.shields.io/badge/File-black?logo=github\" style=\"height: 38px\"/></a>\n",
    "<span style=\"width:5.8px\"></span>\n",
    "<a alt=\"hyperlink_2\" title=\"在nbviewer查看当前文件\" href=\"https://nbviewer.org/github/Soltus/learn-python-BI/blob/main/lesson2/%E4%BD%9C%E4%B8%9A/3/index.ipynb\" target=\"_blank\"><img src=\"https://img.shields.io/badge/nbviewer-white?logo=jupyter\" style=\"height: 38px\"/></a>\n",
    "</div>\n",
    "</p>\n",
    "\n",
    "<!-- 避免二次渲染当前块 -->\n",
    "<!-- 请勿在此处添加内容 -->\n",
    "<!-- end of template header -->"
   ]
  },
  {
   "cell_type": "code",
   "execution_count": null,
   "id": "80f475c6-a702-4044-9ffc-1729b3eaab01",
   "metadata": {},
   "outputs": [],
   "source": []
  }
 ],
 "metadata": {
  "kernelspec": {
   "display_name": "Python 3 (ipykernel)",
   "language": "python",
   "name": "python3"
  },
  "language_info": {
   "codemirror_mode": {
    "name": "ipython",
    "version": 3
   },
   "file_extension": ".py",
   "mimetype": "text/x-python",
   "name": "python",
   "nbconvert_exporter": "python",
   "pygments_lexer": "ipython3",
   "version": "3.10.9"
  },
  "widgets": {
   "application/vnd.jupyter.widget-state+json": {
    "state": {},
    "version_major": 2,
    "version_minor": 0
   }
  }
 },
 "nbformat": 4,
 "nbformat_minor": 5
}
