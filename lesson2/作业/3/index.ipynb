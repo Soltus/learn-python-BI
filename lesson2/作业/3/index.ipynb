{
 "cells": [
  {
   "cell_type": "markdown",
   "id": "be73bd49-5e57-4894-a2dc-c97daaf0413f",
   "metadata": {},
   "source": [
    "<!--\n",
    "模板使用方法：将此代码块转为Markdown块然后点击左侧三角渲染（依赖 jupyter-wysiwyg ）\n",
    "模板参数说明：将超链接的路径替换即可\n",
    "@hyperlink_1: href=\"https://github.com/{组织或用户}/{仓库}/blob/{分支}/{目录和文件名组成的路径}\"\n",
    "@hyperlink_2: href=\"https://nbviewer.org/github/{组织或用户}/{仓库}/blob/{分支}/{目录和文件名组成的路径}\"\n",
    "注意事项：在 <p>...</p> 中添加注释或者空行等行为会破坏渲染效果\n",
    "-->\n",
    "\n",
    "<!-- start of template header -->\n",
    "<p>\n",
    "<div style=\"display:flex\">\n",
    "<a alt=\"hyperlink_1\" title=\"在Github查看当前文件\" href=\"https://github.com/Soltus/learn-python-BI/blob/main/lesson2/%E4%BD%9C%E4%B8%9A/3/index.ipynb\" target=\"_blank\"><img src=\"https://img.shields.io/badge/File-black?logo=github\" style=\"height: 38px\"/></a>\n",
    "<span style=\"width:5.8px\"></span>\n",
    "<a alt=\"hyperlink_2\" title=\"在nbviewer查看当前文件\" href=\"https://nbviewer.org/github/Soltus/learn-python-BI/blob/main/lesson2/%E4%BD%9C%E4%B8%9A/3/index.ipynb\" target=\"_blank\"><img src=\"https://img.shields.io/badge/nbviewer-white?logo=jupyter\" style=\"height: 38px\"/></a>\n",
    "</div>\n",
    "</p>\n",
    "\n",
    "<!-- 避免二次渲染当前块 -->\n",
    "<!-- 请勿在此处添加内容 -->\n",
    "<!-- end of template header -->"
   ]
  },
  {
   "cell_type": "markdown",
   "id": "0d1dcc3c-710f-4477-89d8-aabcf413475e",
   "metadata": {},
   "source": [
    "<h1><span style=\"color: #b96ad9;\">题一 </span></h1>\n",
    "<blockquote>\n",
    "<p>中文新闻分类学习，参考：<code>中文新闻分类.txt</code></p>\n",
    "</blockquote>"
   ]
  },
  {
   "cell_type": "code",
   "execution_count": 976,
   "id": "c4e51a10-c5d4-471c-9c81-fdf2bfe945f2",
   "metadata": {
    "execution": {
     "iopub.execute_input": "2023-05-14T07:55:27.616480Z",
     "iopub.status.busy": "2023-05-14T07:55:27.615480Z",
     "iopub.status.idle": "2023-05-14T07:55:27.630493Z",
     "shell.execute_reply": "2023-05-14T07:55:27.630493Z",
     "shell.execute_reply.started": "2023-05-14T07:55:27.616480Z"
    },
    "tags": []
   },
   "outputs": [],
   "source": [
    "import numpy as np\n",
    "import pandas as pd\n",
    "CNEWS_DATA_TXT = '../data/3/中文新闻分类.txt'\n",
    "CNEWS_SPLITED_TXT = 'cnews.jieba.txt'\n",
    "STOPWORDS_TXT = '../data/3/stopwords.txt'\n",
    "USERDIC_TXT = 'userdic.txt'"
   ]
  },
  {
   "cell_type": "markdown",
   "id": "589a12cb-3a2f-483a-b6de-bce22b65a960",
   "metadata": {},
   "source": [
    "## 定义分词类"
   ]
  },
  {
   "cell_type": "code",
   "execution_count": 977,
   "id": "638d6da8-bf2c-41a1-a9fc-f7d9aa15dc1b",
   "metadata": {
    "execution": {
     "iopub.execute_input": "2023-05-14T07:55:27.632494Z",
     "iopub.status.busy": "2023-05-14T07:55:27.632494Z",
     "iopub.status.idle": "2023-05-14T07:55:27.646510Z",
     "shell.execute_reply": "2023-05-14T07:55:27.646510Z",
     "shell.execute_reply.started": "2023-05-14T07:55:27.632494Z"
    },
    "tags": []
   },
   "outputs": [],
   "source": [
    "import jieba\n",
    "import warnings, os\n",
    "from collections import Counter\n",
    "\n",
    "class ChineseSegmentation:\n",
    "    ''' base on Leijieba '''\n",
    "    stopwords = []\n",
    "\n",
    "    def __init__(self, sentence, stopword_file_path='', user_dict_file_path='', debug=False):\n",
    "        ''''''\n",
    "        self.sentence = sentence\n",
    "        self.debug = debug\n",
    "\n",
    "        if stopword_file_path != '':\n",
    "            self.stopwords = [line.strip() for line in open(stopword_file_path, encoding='UTF-8').readlines()]\n",
    "        else:\n",
    "            warnings.warn('丫的 stopword_file_path 为空')\n",
    "\n",
    "        if user_dict_file_path != '':\n",
    "            jieba.load_userdict(user_dict_file_path)\n",
    "        else:\n",
    "            warnings.warn('丫的 user_dict_file_path 为空')\n",
    "\n",
    "    def _fn_cut_words(self):\n",
    "        ''''''\n",
    "        if os.name == 'posix':  # 在 POSIX 系统上启用并行分词加速\n",
    "            jieba.enable_parallel()\n",
    "        seg_list = jieba.cut(self.sentence, cut_all=False)\n",
    "        if self.stopwords:\n",
    "            output_words = []\n",
    "            for word in seg_list:\n",
    "                word = word.strip()\n",
    "                if word and word not in self.stopwords:\n",
    "                    output_words.append(word)\n",
    "        else:\n",
    "            output_words = list(seg_list)\n",
    "\n",
    "        return output_words\n",
    "\n",
    "\n",
    "    def word_frequency(self, chunk_size=2000):\n",
    "        ''''''\n",
    "        word_list = self._fn_cut_words()\n",
    "        word_dict = {}\n",
    "        for word in word_list:\n",
    "            if word not in word_dict:\n",
    "                word_dict[word] = 1\n",
    "            else:\n",
    "                word_dict[word] += 1\n",
    "        return sorted(word_dict.items(), key=lambda e:e[1], reverse=True)\n",
    "\n",
    "\n",
    "    def cut_words_filter(self, frequency_threshold=0, remove_single_word=False):\n",
    "        '''\n",
    "        因为只有出现频率大于frequency_threshold的单词才会被保留下来\n",
    "        如果remove_single_word被设置为True，则单个字符的单词将始终被过滤掉\n",
    "        优化了数据量大时异常耗时问题，执行速度大幅提升\n",
    "        '''\n",
    "        word_list = self._fn_cut_words()\n",
    "        word_counter = Counter(word_list)\n",
    "        removed_list = []\n",
    "\n",
    "        # 对词频进行排序\n",
    "        word_dict_sorted = dict(sorted(word_counter.items(), key=lambda e: e[1], reverse=True))\n",
    "\n",
    "        if remove_single_word:\n",
    "            # 移除单个字符的词语和低频词语\n",
    "            filtered_word_list = [word for word in word_list if len(word) > 1 and word_dict_sorted[word] > frequency_threshold]\n",
    "            removed_list = [word for word in word_list if len(word) == 1 or word_dict_sorted[word] <= frequency_threshold]\n",
    "        else:\n",
    "            # 仅移除低频词语\n",
    "            filtered_word_list = [word for word in word_list if word_dict_sorted[word] > frequency_threshold]\n",
    "            removed_list = [word for word in word_list if word_dict_sorted[word] <= frequency_threshold]\n",
    "\n",
    "\n",
    "        if self.debug:\n",
    "            removed_list_len = len(removed_list)\n",
    "            if 0 < removed_list_len < 50:\n",
    "                warnings.warn(f'\\t removed_list from filtered_word_list : ( {removed_list_len} ) \\n {removed_list} ')\n",
    "            elif 50 < removed_list_len:\n",
    "                warnings.warn(f'\\t removed_list from filtered_word_list : ( {removed_list_len} ) \\n {removed_list[:20]} \\n ... \\n {removed_list[-20:]} ')\n",
    "\n",
    "            print('-'*10)\n",
    "\n",
    "            filtered_word_list_len = len(filtered_word_list)\n",
    "            if 0 < filtered_word_list_len < 100:\n",
    "                print(f'\\t filtered_word_list : ( {filtered_word_list_len} ) \\n {filtered_word_list} ')\n",
    "            elif 100 < filtered_word_list_len:\n",
    "                print(f'\\t filtered_word_list : ( {filtered_word_list_len} ) \\n {filtered_word_list[:40]} \\n ... \\n {filtered_word_list[-40:]} ')\n",
    "\n",
    "\n",
    "        return filtered_word_list\n"
   ]
  },
  {
   "cell_type": "markdown",
   "id": "d2e98bc6-7554-4e46-a5d2-34640a294ec8",
   "metadata": {},
   "source": [
    "## 数据处理"
   ]
  },
  {
   "cell_type": "code",
   "execution_count": 978,
   "id": "26dbe368-5a94-4ea0-adb1-9fb6b5e6238a",
   "metadata": {
    "execution": {
     "iopub.execute_input": "2023-05-14T07:55:27.647511Z",
     "iopub.status.busy": "2023-05-14T07:55:27.647511Z",
     "iopub.status.idle": "2023-05-14T07:55:27.741101Z",
     "shell.execute_reply": "2023-05-14T07:55:27.741101Z",
     "shell.execute_reply.started": "2023-05-14T07:55:27.647511Z"
    },
    "tags": []
   },
   "outputs": [
    {
     "data": {
      "text/html": [
       "<div>\n",
       "<style scoped>\n",
       "    .dataframe tbody tr th:only-of-type {\n",
       "        vertical-align: middle;\n",
       "    }\n",
       "\n",
       "    .dataframe tbody tr th {\n",
       "        vertical-align: top;\n",
       "    }\n",
       "\n",
       "    .dataframe thead th {\n",
       "        text-align: right;\n",
       "    }\n",
       "</style>\n",
       "<table border=\"1\" class=\"dataframe\">\n",
       "  <thead>\n",
       "    <tr style=\"text-align: right;\">\n",
       "      <th></th>\n",
       "      <th>0</th>\n",
       "      <th>1</th>\n",
       "      <th>2</th>\n",
       "      <th>3</th>\n",
       "    </tr>\n",
       "  </thead>\n",
       "  <tbody>\n",
       "    <tr>\n",
       "      <th>0</th>\n",
       "      <td>汽车</td>\n",
       "      <td>新辉腾　４．２　Ｖ８　４座加长Ｉｎｄｉｖｉｄｕａｌ版２０１１款　最新报价</td>\n",
       "      <td>http://auto.data.people.com.cn/model_15782/</td>\n",
       "      <td>经销商　电话　试驾／订车Ｕ憬杭州滨江区江陵路１７８０号４００８－１１２２３３转５８６４＃保常...</td>\n",
       "    </tr>\n",
       "    <tr>\n",
       "      <th>1</th>\n",
       "      <td>汽车</td>\n",
       "      <td>９１８　Ｓｐｙｄｅｒ概念车</td>\n",
       "      <td>http://auto.data.people.com.cn/prdview_165423....</td>\n",
       "      <td>呼叫热线　４００８－１００－３００　服务邮箱　ｋｆ＠ｐｅｏｐｌｅｄａｉｌｙ．ｃｏｍ．ｃｎ</td>\n",
       "    </tr>\n",
       "    <tr>\n",
       "      <th>2</th>\n",
       "      <td>汽车</td>\n",
       "      <td>日内瓦亮相　ＭＩＮＩ性能版／概念车－１．６Ｔ引擎</td>\n",
       "      <td>http://auto.data.people.com.cn/news/story_5249...</td>\n",
       "      <td>ＭＩＮＩ品牌在二月曾经公布了最新的ＭＩＮＩ新概念车Ｃｌｕｂｖａｎ效果图，不过现在在日内瓦车展...</td>\n",
       "    </tr>\n",
       "    <tr>\n",
       "      <th>3</th>\n",
       "      <td>汽车</td>\n",
       "      <td>清仓大甩卖一汽夏利Ｎ５威志Ｖ２低至３．３９万</td>\n",
       "      <td>http://auto.data.people.com.cn/news/story_6144...</td>\n",
       "      <td>清仓大甩卖！一汽夏利Ｎ５、威志Ｖ２低至３．３９万＝日，启新中国一汽强势推出一汽夏利Ｎ５、威志...</td>\n",
       "    </tr>\n",
       "    <tr>\n",
       "      <th>4</th>\n",
       "      <td>汽车</td>\n",
       "      <td>大众敞篷家族新成员　高尔夫敞篷版实拍</td>\n",
       "      <td>http://auto.data.people.com.cn/news/story_5686...</td>\n",
       "      <td>在今年３月的日内瓦车展上，我们见到了高尔夫家族的新成员，高尔夫敞篷版，这款全新敞篷车受到了众...</td>\n",
       "    </tr>\n",
       "    <tr>\n",
       "      <th>...</th>\n",
       "      <td>...</td>\n",
       "      <td>...</td>\n",
       "      <td>...</td>\n",
       "      <td>...</td>\n",
       "    </tr>\n",
       "    <tr>\n",
       "      <th>4995</th>\n",
       "      <td>时尚</td>\n",
       "      <td>常吃六类食物快速补充水分</td>\n",
       "      <td>http://lady.people.com.cn/GB/18248366.html</td>\n",
       "      <td>随着天气逐渐炎热，补水变得日益重要。据美国《跑步世界》杂志报道，喝水并不是为身体补充水分的唯...</td>\n",
       "    </tr>\n",
       "    <tr>\n",
       "      <th>4996</th>\n",
       "      <td>时尚</td>\n",
       "      <td>情感：你是我的那盘菜　吃不起我走【２】</td>\n",
       "      <td>http://lady.people.com.cn/n/2012/0712/c1014-18...</td>\n",
       "      <td>我其实不想说这些话刺激他，他也是不得已。可是，我又该怎样说，怎样做？我只能走，离开这个伤心地...</td>\n",
       "    </tr>\n",
       "    <tr>\n",
       "      <th>4997</th>\n",
       "      <td>时尚</td>\n",
       "      <td>揭秘不老女神刘晓庆的四任丈夫（图）</td>\n",
       "      <td>http://lady.people.com.cn/n/2012/0730/c1014-18...</td>\n",
       "      <td>５８岁刘晓庆最新嫩照Ｏ衷诘牧跸庆绝对看不出她已经５８岁了，她绝对可以秒杀刘亦菲、范冰冰这类美...</td>\n",
       "    </tr>\n",
       "    <tr>\n",
       "      <th>4998</th>\n",
       "      <td>时尚</td>\n",
       "      <td>样板潮爸　时尚圈里的父亲们</td>\n",
       "      <td>http://lady.people.com.cn/GB/18215232.html</td>\n",
       "      <td>导语：做了爸爸就是一种幸福，无论是领养还是亲生，更何况出现在影视剧中。时尚圈永远是需要领军人...</td>\n",
       "    </tr>\n",
       "    <tr>\n",
       "      <th>4999</th>\n",
       "      <td>时尚</td>\n",
       "      <td>全球最美女人长啥样？中国最美女人酷似章子怡（图）</td>\n",
       "      <td>http://lady.people.com.cn/BIG5/n/2012/0727/c10...</td>\n",
       "      <td>全球最美女人合成图：：国整形外科教授李承哲，在国际学术杂志美容整形外科学会学报发表了考虑种族...</td>\n",
       "    </tr>\n",
       "  </tbody>\n",
       "</table>\n",
       "<p>5000 rows × 4 columns</p>\n",
       "</div>"
      ],
      "text/plain": [
       "       0                                     1   \n",
       "0     汽车  新辉腾　４．２　Ｖ８　４座加长Ｉｎｄｉｖｉｄｕａｌ版２０１１款　最新报价  \\\n",
       "1     汽车                         ９１８　Ｓｐｙｄｅｒ概念车   \n",
       "2     汽车              日内瓦亮相　ＭＩＮＩ性能版／概念车－１．６Ｔ引擎   \n",
       "3     汽车                清仓大甩卖一汽夏利Ｎ５威志Ｖ２低至３．３９万   \n",
       "4     汽车                    大众敞篷家族新成员　高尔夫敞篷版实拍   \n",
       "...   ..                                   ...   \n",
       "4995  时尚                          常吃六类食物快速补充水分   \n",
       "4996  时尚                   情感：你是我的那盘菜　吃不起我走【２】   \n",
       "4997  时尚                     揭秘不老女神刘晓庆的四任丈夫（图）   \n",
       "4998  时尚                         样板潮爸　时尚圈里的父亲们   \n",
       "4999  时尚              全球最美女人长啥样？中国最美女人酷似章子怡（图）   \n",
       "\n",
       "                                                      2   \n",
       "0           http://auto.data.people.com.cn/model_15782/  \\\n",
       "1     http://auto.data.people.com.cn/prdview_165423....   \n",
       "2     http://auto.data.people.com.cn/news/story_5249...   \n",
       "3     http://auto.data.people.com.cn/news/story_6144...   \n",
       "4     http://auto.data.people.com.cn/news/story_5686...   \n",
       "...                                                 ...   \n",
       "4995         http://lady.people.com.cn/GB/18248366.html   \n",
       "4996  http://lady.people.com.cn/n/2012/0712/c1014-18...   \n",
       "4997  http://lady.people.com.cn/n/2012/0730/c1014-18...   \n",
       "4998         http://lady.people.com.cn/GB/18215232.html   \n",
       "4999  http://lady.people.com.cn/BIG5/n/2012/0727/c10...   \n",
       "\n",
       "                                                      3  \n",
       "0     经销商　电话　试驾／订车Ｕ憬杭州滨江区江陵路１７８０号４００８－１１２２３３转５８６４＃保常...  \n",
       "1          呼叫热线　４００８－１００－３００　服务邮箱　ｋｆ＠ｐｅｏｐｌｅｄａｉｌｙ．ｃｏｍ．ｃｎ  \n",
       "2     ＭＩＮＩ品牌在二月曾经公布了最新的ＭＩＮＩ新概念车Ｃｌｕｂｖａｎ效果图，不过现在在日内瓦车展...  \n",
       "3     清仓大甩卖！一汽夏利Ｎ５、威志Ｖ２低至３．３９万＝日，启新中国一汽强势推出一汽夏利Ｎ５、威志...  \n",
       "4     在今年３月的日内瓦车展上，我们见到了高尔夫家族的新成员，高尔夫敞篷版，这款全新敞篷车受到了众...  \n",
       "...                                                 ...  \n",
       "4995  随着天气逐渐炎热，补水变得日益重要。据美国《跑步世界》杂志报道，喝水并不是为身体补充水分的唯...  \n",
       "4996  我其实不想说这些话刺激他，他也是不得已。可是，我又该怎样说，怎样做？我只能走，离开这个伤心地...  \n",
       "4997  ５８岁刘晓庆最新嫩照Ｏ衷诘牧跸庆绝对看不出她已经５８岁了，她绝对可以秒杀刘亦菲、范冰冰这类美...  \n",
       "4998  导语：做了爸爸就是一种幸福，无论是领养还是亲生，更何况出现在影视剧中。时尚圈永远是需要领军人...  \n",
       "4999  全球最美女人合成图：：国整形外科教授李承哲，在国际学术杂志美容整形外科学会学报发表了考虑种族...  \n",
       "\n",
       "[5000 rows x 4 columns]"
      ]
     },
     "execution_count": 978,
     "metadata": {},
     "output_type": "execute_result"
    }
   ],
   "source": [
    "txtfile = pd.read_csv(CNEWS_DATA_TXT, sep='\\t', encoding = 'utf-8', header = None)\n",
    "txtfile"
   ]
  },
  {
   "cell_type": "code",
   "execution_count": 979,
   "id": "b2c37552-9216-4500-9d98-38de864aad3f",
   "metadata": {
    "execution": {
     "iopub.execute_input": "2023-05-14T07:55:27.743103Z",
     "iopub.status.busy": "2023-05-14T07:55:27.743103Z",
     "iopub.status.idle": "2023-05-14T07:55:29.618432Z",
     "shell.execute_reply": "2023-05-14T07:55:29.618432Z",
     "shell.execute_reply.started": "2023-05-14T07:55:27.743103Z"
    },
    "tags": []
   },
   "outputs": [],
   "source": [
    "# 要包括第三列的内容啊，不然只用第一列的标题建模的精度不到 0.8\n",
    "txtfile[1] = txtfile[1].apply(lambda x: x + ' ' + str(txtfile[3][txtfile[txtfile[1] == x].index[0]]))"
   ]
  },
  {
   "cell_type": "code",
   "execution_count": 980,
   "id": "36e57de5-c1bd-4e28-bc50-fdaad5555d89",
   "metadata": {
    "execution": {
     "iopub.execute_input": "2023-05-14T07:55:29.620434Z",
     "iopub.status.busy": "2023-05-14T07:55:29.619433Z",
     "iopub.status.idle": "2023-05-14T07:55:30.391631Z",
     "shell.execute_reply": "2023-05-14T07:55:30.391631Z",
     "shell.execute_reply.started": "2023-05-14T07:55:29.620434Z"
    },
    "tags": []
   },
   "outputs": [
    {
     "name": "stdout",
     "output_type": "stream",
     "text": [
      "2\n",
      "0\n"
     ]
    },
    {
     "data": {
      "text/plain": [
       "0       新辉腾 座加长 版 款 最新报价 经销商 电话 试驾 订车 憬杭州滨江区江陵路 号 转 保常...\n",
       "1                                          概念车 呼叫热线 服务邮箱 \n",
       "2       日内瓦亮相 性能版 概念车 引擎 品牌在二月曾经公布了最新的 新概念车 效果图 不过现在在日...\n",
       "3       清仓大甩卖一汽夏利 威志 低至 万 清仓大甩卖 一汽夏利 威志 低至 万 日 启新中国一汽强...\n",
       "4       大众敞篷家族新成员 高尔夫敞篷版实拍 在今年 月的日内瓦车展上 我们见到了高尔夫家族的新成员...\n",
       "                              ...                        \n",
       "4993    常吃六类食物快速补充水分 随着天气逐渐炎热 补水变得日益重要 据美国 跑步世界 杂志报道 喝...\n",
       "4994    情感 你是我的那盘菜 吃不起我走 我其实不想说这些话刺激他 他也是不得已 可是 我又该怎样说...\n",
       "4995    揭秘不老女神刘晓庆的四任丈夫 图 岁刘晓庆最新嫩照 衷诘牧跸庆绝对看不出她已经 岁了 她绝对...\n",
       "4996    样板潮爸 时尚圈里的父亲们 导语 做了爸爸就是一种幸福 无论是领养还是亲生 更何况出现在影视...\n",
       "4997    全球最美女人长啥样 中国最美女人酷似章子怡 图 全球最美女人合成图 国整形外科教授李承哲 在...\n",
       "Name: 1, Length: 4998, dtype: object"
      ]
     },
     "execution_count": 980,
     "metadata": {},
     "output_type": "execute_result"
    }
   ],
   "source": [
    "import re\n",
    "for i in range(len(txtfile)):\n",
    "    txtfile[1][i] = re.sub(r'[^\\u4e00-\\u9fa5]+',' ',txtfile[1][i])\n",
    "txtfile[1].replace(' ', np.nan, inplace=True)\n",
    "print(txtfile[1].isnull().sum())\n",
    "txtfile.dropna(subset=txtfile.columns.tolist()[1], inplace=True)\n",
    "txtfile.reset_index(drop=True, inplace=True)\n",
    "print(txtfile[1].isnull().sum())\n",
    "# 此处直接替换了 txtfile ，重新运行需要先运行前置单元格\n",
    "txtfile[1]"
   ]
  },
  {
   "cell_type": "code",
   "execution_count": 981,
   "id": "17b37b3a-6b6c-465c-8021-1aa8fadbd066",
   "metadata": {
    "execution": {
     "iopub.execute_input": "2023-05-14T07:55:30.393634Z",
     "iopub.status.busy": "2023-05-14T07:55:30.392633Z",
     "iopub.status.idle": "2023-05-14T07:55:30.408647Z",
     "shell.execute_reply": "2023-05-14T07:55:30.407646Z",
     "shell.execute_reply.started": "2023-05-14T07:55:30.392633Z"
    },
    "tags": []
   },
   "outputs": [],
   "source": [
    "userdic = 'QQ694357845QQ'\n",
    "with open(USERDIC_TXT,'w', encoding='utf-8') as f:\n",
    "    f.write(userdic)\n",
    "s = userdic.join(list(txtfile[1]))\n",
    "m = ChineseSegmentation(s, STOPWORDS_TXT, USERDIC_TXT, 1)\n"
   ]
  },
  {
   "cell_type": "code",
   "execution_count": 982,
   "id": "715a473e-d0da-49d7-bc12-fd6defb44664",
   "metadata": {
    "execution": {
     "iopub.execute_input": "2023-05-14T07:55:30.409647Z",
     "iopub.status.busy": "2023-05-14T07:55:30.408647Z",
     "iopub.status.idle": "2023-05-14T07:56:18.230744Z",
     "shell.execute_reply": "2023-05-14T07:56:18.229742Z",
     "shell.execute_reply.started": "2023-05-14T07:55:30.409647Z"
    },
    "tags": []
   },
   "outputs": [
    {
     "name": "stdout",
     "output_type": "stream",
     "text": [
      "耗时处理，耐心等候……\n",
      "\n",
      "\n"
     ]
    },
    {
     "data": {
      "image/png": "[encoded data removed]",
      "text/plain": [
       "<Figure size 2096x1310 with 1 Axes>"
      ]
     },
     "metadata": {},
     "output_type": "display_data"
    }
   ],
   "source": [
    "import matplotlib.pyplot as plt\n",
    "plt.rcParams['axes.unicode_minus'] = False    # 用来正常显示负号\n",
    "plt.rcParams['font.sans-serif'] = ['SimHei']   # 防止中文标签乱码\n",
    "CANVAS = lambda x : plt.figure(figsize=(16, 10), dpi=x)  # 设置画布\n",
    "print('耗时处理，耐心等候……')\n",
    "word_count = dict(m.word_frequency())\n",
    "del word_count[userdic]\n",
    "print()\n",
    "count = {}\n",
    "for value in word_count.values():\n",
    "    if value not in count:\n",
    "        count[value] = 1\n",
    "    else:\n",
    "        count[value] += 1\n",
    "print()\n",
    "# 绘制频数统计图\n",
    "CANVAS(131)\n",
    "plt.bar(count.keys(), count.values())\n",
    "plt.title('图1-词频分布统计图')\n",
    "plt.xlabel('Frequency')\n",
    "plt.ylabel('Count')\n",
    "# 显示每条柱形图的具体数值\n",
    "for x, y in zip(count.keys(), count.values()):\n",
    "    if 0 <= x < 30:   # 只在x轴范围为0到29的情况下显示数值\n",
    "        plt.text(x, y, str(y), ha='center', va='bottom')\n",
    "plt.xticks(list(count.keys()))  # 设置x轴刻度\n",
    "plt.xlim(0, 30)   # 设置x轴显示范围\n",
    "plt.show()\n",
    "# print(sorted(count.items(),key=lambda e:e[1],reverse=1))"
   ]
  },
  {
   "cell_type": "code",
   "execution_count": 983,
   "id": "efb4b4e7-34dd-4f06-b7b7-c559e3b4fb24",
   "metadata": {
    "execution": {
     "iopub.execute_input": "2023-05-14T07:56:18.231744Z",
     "iopub.status.busy": "2023-05-14T07:56:18.231744Z",
     "iopub.status.idle": "2023-05-14T07:57:05.233561Z",
     "shell.execute_reply": "2023-05-14T07:57:05.232558Z",
     "shell.execute_reply.started": "2023-05-14T07:56:18.231744Z"
    },
    "tags": []
   },
   "outputs": [
    {
     "name": "stdout",
     "output_type": "stream",
     "text": [
      "耗时处理，耐心等候……\n",
      "----------\n",
      "\t filtered_word_list : ( 755001 ) \n",
      " ['加长', '最新', '报价', '经销商', '电话', '试驾', '订车', '杭州', '保常', '自魄', '白云', '大道北', '广州市', '天河区', '黄埔', '大道', '富力', '盈泰', '大厦', '保常福', '淄博市', '张店区', '山泉', '保常', '保税区', '黄海', '三路', '保玻埃', '纺锨', '复兴路', '保常', '云南', '昆明市', '度假区', '滇池', '保常', '川市', '兴庆区', '丽景', '北街'] \n",
      " ... \n",
      " ['学术', '杂志', '美容', '整形外科', '学会', '学报', '发表', '种族', '民族', '脸型', '多样性', '黑人', '白人', '中国', '日本', '女性', '最具', '魅力', '脸型', '论文', '李承哲', '合成', '脸型', '采用', '脸型', '黑人', '白人', '中国', '日本', '脸型', '黑人', '美女', '白人', '美女', '中国', '美女', '日本', '美女', '韩国', '美女'] \n",
      "----------\n",
      "\t write 4998 lines to cnews.jieba.txt\n",
      "\n"
     ]
    },
    {
     "name": "stderr",
     "output_type": "stream",
     "text": [
      "C:\\Windows\\Temp\\ipykernel_15332\\2261473325.py:81: UserWarning: \t removed_list from filtered_word_list : ( 209632 ) \n",
      " ['新辉腾', '座', '版', '款', '憬', '滨江区', '江陵', '路', '号', '转', '叮', '万', '阒', '菔', '邪', '号', '西', '号', '室', '转'] \n",
      " ... \n",
      " ['玻', '款', '雅痞', '型', '秀', '长', '样', '图', '国', '演艺人', '名', '名', '名', '名', '名', '贾凶', '宰笙', '蛴', '乙来', '挝'] \n",
      "  warnings.warn(f'\\t removed_list from filtered_word_list : ( {removed_list_len} ) \\n {removed_list[:20]} \\n ... \\n {removed_list[-20:]} ')\n"
     ]
    }
   ],
   "source": [
    "print('耗时处理，耐心等候……')\n",
    "filtered_word_list = m.cut_words_filter(1, 1)\n",
    "\n",
    "s1 = ' '.join(filtered_word_list)\n",
    "\n",
    "with open(CNEWS_SPLITED_TXT,'w', encoding='utf-8') as f:\n",
    "    f.write(s1.replace(f'{userdic}','\\n'))\n",
    "print('-'*10)\n",
    "with open(CNEWS_SPLITED_TXT,'r', encoding='utf-8') as f:\n",
    "    print(f'\\t write {len(f.readlines())} lines to {CNEWS_SPLITED_TXT}')\n",
    "print()"
   ]
  },
  {
   "cell_type": "code",
   "execution_count": 984,
   "id": "10a78fb9-0c14-45fc-9b79-2c71642114a7",
   "metadata": {
    "execution": {
     "iopub.execute_input": "2023-05-14T07:57:05.234562Z",
     "iopub.status.busy": "2023-05-14T07:57:05.234562Z",
     "iopub.status.idle": "2023-05-14T07:57:05.296120Z",
     "shell.execute_reply": "2023-05-14T07:57:05.296120Z",
     "shell.execute_reply.started": "2023-05-14T07:57:05.234562Z"
    },
    "tags": []
   },
   "outputs": [
    {
     "data": {
      "text/html": [
       "<div>\n",
       "<style scoped>\n",
       "    .dataframe tbody tr th:only-of-type {\n",
       "        vertical-align: middle;\n",
       "    }\n",
       "\n",
       "    .dataframe tbody tr th {\n",
       "        vertical-align: top;\n",
       "    }\n",
       "\n",
       "    .dataframe thead th {\n",
       "        text-align: right;\n",
       "    }\n",
       "</style>\n",
       "<table border=\"1\" class=\"dataframe\">\n",
       "  <thead>\n",
       "    <tr style=\"text-align: right;\">\n",
       "      <th></th>\n",
       "      <th>0</th>\n",
       "    </tr>\n",
       "  </thead>\n",
       "  <tbody>\n",
       "    <tr>\n",
       "      <th>0</th>\n",
       "      <td>加长 最新 报价 经销商 电话 试驾 订车 杭州 保常 自魄 白云 大道北 广州市 天河区 ...</td>\n",
       "    </tr>\n",
       "    <tr>\n",
       "      <th>1</th>\n",
       "      <td>概念车 呼叫 热线 服务 邮箱</td>\n",
       "    </tr>\n",
       "    <tr>\n",
       "      <th>2</th>\n",
       "      <td>日内瓦 亮相 性能 概念车 引擎 品牌 二月 公布 最新 概念车 效果图 日内瓦 车展 品...</td>\n",
       "    </tr>\n",
       "    <tr>\n",
       "      <th>3</th>\n",
       "      <td>清仓 甩卖 一汽 夏利 威志 低至 清仓 甩卖 一汽 夏利 威志 低至 启新 中国 一汽 ...</td>\n",
       "    </tr>\n",
       "    <tr>\n",
       "      <th>4</th>\n",
       "      <td>大众 敞篷 家族 成员 高尔夫 敞篷版 实拍 日内瓦 车展 见到 高尔夫 家族 成员 高尔...</td>\n",
       "    </tr>\n",
       "    <tr>\n",
       "      <th>...</th>\n",
       "      <td>...</td>\n",
       "    </tr>\n",
       "    <tr>\n",
       "      <th>4993</th>\n",
       "      <td>常吃 食物 快速 补充 水分 天气 炎热 补水 变得 美国 跑步 世界 杂志 报道 喝水 ...</td>\n",
       "    </tr>\n",
       "    <tr>\n",
       "      <th>4994</th>\n",
       "      <td>情感 吃不起 不想 刺激 只能 离开 伤心地 想起 一句 命中 命中 强求 只能 安慰 担...</td>\n",
       "    </tr>\n",
       "    <tr>\n",
       "      <th>4995</th>\n",
       "      <td>揭秘 不老 女神 刘晓庆 丈夫 刘晓庆 最新 嫩照 牧跸 看不出 秒杀 刘亦菲 范冰冰 美...</td>\n",
       "    </tr>\n",
       "    <tr>\n",
       "      <th>4996</th>\n",
       "      <td>样板 潮爸 时尚 圈里 父亲 导语 爸爸 一种 幸福 无论是 领养 亲生 更何况 影视剧 ...</td>\n",
       "    </tr>\n",
       "    <tr>\n",
       "      <th>4997</th>\n",
       "      <td>全球 最美 女人 中国 最美 女人 酷似 章子怡 全球 最美 女人 合成图 整形外科 教授...</td>\n",
       "    </tr>\n",
       "  </tbody>\n",
       "</table>\n",
       "<p>4998 rows × 1 columns</p>\n",
       "</div>"
      ],
      "text/plain": [
       "                                                      0\n",
       "0     加长 最新 报价 经销商 电话 试驾 订车 杭州 保常 自魄 白云 大道北 广州市 天河区 ...\n",
       "1                                      概念车 呼叫 热线 服务 邮箱 \n",
       "2      日内瓦 亮相 性能 概念车 引擎 品牌 二月 公布 最新 概念车 效果图 日内瓦 车展 品...\n",
       "3      清仓 甩卖 一汽 夏利 威志 低至 清仓 甩卖 一汽 夏利 威志 低至 启新 中国 一汽 ...\n",
       "4      大众 敞篷 家族 成员 高尔夫 敞篷版 实拍 日内瓦 车展 见到 高尔夫 家族 成员 高尔...\n",
       "...                                                 ...\n",
       "4993   常吃 食物 快速 补充 水分 天气 炎热 补水 变得 美国 跑步 世界 杂志 报道 喝水 ...\n",
       "4994   情感 吃不起 不想 刺激 只能 离开 伤心地 想起 一句 命中 命中 强求 只能 安慰 担...\n",
       "4995   揭秘 不老 女神 刘晓庆 丈夫 刘晓庆 最新 嫩照 牧跸 看不出 秒杀 刘亦菲 范冰冰 美...\n",
       "4996   样板 潮爸 时尚 圈里 父亲 导语 爸爸 一种 幸福 无论是 领养 亲生 更何况 影视剧 ...\n",
       "4997   全球 最美 女人 中国 最美 女人 酷似 章子怡 全球 最美 女人 合成图 整形外科 教授...\n",
       "\n",
       "[4998 rows x 1 columns]"
      ]
     },
     "execution_count": 984,
     "metadata": {},
     "output_type": "execute_result"
    }
   ],
   "source": [
    "txt = pd.read_csv(CNEWS_SPLITED_TXT, sep='\\t', encoding = 'utf-8', header = None, skip_blank_lines=False) # skip_blank_lines=False 禁用跳过空行，否则会导致下面train_test_split 的 X 和 y 行数不一致\n",
    "txt"
   ]
  },
  {
   "cell_type": "markdown",
   "id": "97aa660c-f602-4b86-bf03-9795e512995a",
   "metadata": {},
   "source": [
    "## 训练模型"
   ]
  },
  {
   "cell_type": "code",
   "execution_count": 997,
   "id": "c826cc5a-00e6-46c7-b64d-cd3f96e47fad",
   "metadata": {
    "execution": {
     "iopub.execute_input": "2023-05-14T07:58:03.668798Z",
     "iopub.status.busy": "2023-05-14T07:58:03.667799Z",
     "iopub.status.idle": "2023-05-14T07:58:04.584216Z",
     "shell.execute_reply": "2023-05-14T07:58:04.583214Z",
     "shell.execute_reply.started": "2023-05-14T07:58:03.668798Z"
    },
    "tags": []
   },
   "outputs": [
    {
     "data": {
      "text/plain": [
       "(4998, 52158)"
      ]
     },
     "execution_count": 997,
     "metadata": {},
     "output_type": "execute_result"
    }
   ],
   "source": [
    "from sklearn.feature_extraction.text import TfidfVectorizer\n",
    "\n",
    "vectorizer = TfidfVectorizer(analyzer='word', lowercase = False)\n",
    "vectorizer.fit(list(txt[0]))\n",
    "X = vectorizer.transform(list(txt[0]))\n",
    "X.shape"
   ]
  },
  {
   "cell_type": "code",
   "execution_count": 998,
   "id": "2230f943-783a-4f22-9867-15a3572709e7",
   "metadata": {
    "execution": {
     "iopub.execute_input": "2023-05-14T07:58:04.585217Z",
     "iopub.status.busy": "2023-05-14T07:58:04.585217Z",
     "iopub.status.idle": "2023-05-14T07:58:04.599734Z",
     "shell.execute_reply": "2023-05-14T07:58:04.598733Z",
     "shell.execute_reply.started": "2023-05-14T07:58:04.585217Z"
    },
    "tags": []
   },
   "outputs": [
    {
     "name": "stdout",
     "output_type": "stream",
     "text": [
      "['汽车', '财经', '科技', '健康', '体育', '教育', '文化', '军事', '娱乐', '时尚']\n"
     ]
    },
    {
     "data": {
      "text/plain": [
       "(4998,)"
      ]
     },
     "execution_count": 998,
     "metadata": {},
     "output_type": "execute_result"
    }
   ],
   "source": [
    "# 生成类别列表\n",
    "categories = txtfile[0].unique()\n",
    "ordering = list(categories)\n",
    "print(ordering)\n",
    "\n",
    "# 将类别列表中的类别名转化为对应的序号\n",
    "y = np.array(txtfile[0].map(lambda x: ordering.index(x)))\n",
    "y.shape"
   ]
  },
  {
   "cell_type": "code",
   "execution_count": 1031,
   "id": "7f0d004e-394f-41d7-9150-1fdc24409cb6",
   "metadata": {
    "execution": {
     "iopub.execute_input": "2023-05-14T07:59:51.892332Z",
     "iopub.status.busy": "2023-05-14T07:59:51.891331Z",
     "iopub.status.idle": "2023-05-14T07:59:51.908346Z",
     "shell.execute_reply": "2023-05-14T07:59:51.908346Z",
     "shell.execute_reply.started": "2023-05-14T07:59:51.892332Z"
    },
    "tags": []
   },
   "outputs": [],
   "source": [
    "from sklearn.model_selection import train_test_split\n",
    "X_train, X_test, y_train, y_test = train_test_split(X, y, test_size=0.111, random_state=31)"
   ]
  },
  {
   "cell_type": "code",
   "execution_count": 1032,
   "id": "f23e63cf-1864-4ac0-95a7-937a370f0b30",
   "metadata": {
    "execution": {
     "iopub.execute_input": "2023-05-14T07:59:51.910347Z",
     "iopub.status.busy": "2023-05-14T07:59:51.910347Z",
     "iopub.status.idle": "2023-05-14T07:59:51.940933Z",
     "shell.execute_reply": "2023-05-14T07:59:51.940429Z",
     "shell.execute_reply.started": "2023-05-14T07:59:51.910347Z"
    },
    "tags": []
   },
   "outputs": [
    {
     "data": {
      "text/html": [
       "<style>#sk-container-id-116 {color: black;background-color: white;}#sk-container-id-116 pre{padding: 0;}#sk-container-id-116 div.sk-toggleable {background-color: white;}#sk-container-id-116 label.sk-toggleable__label {cursor: pointer;display: block;width: 100%;margin-bottom: 0;padding: 0.3em;box-sizing: border-box;text-align: center;}#sk-container-id-116 label.sk-toggleable__label-arrow:before {content: \"▸\";float: left;margin-right: 0.25em;color: #696969;}#sk-container-id-116 label.sk-toggleable__label-arrow:hover:before {color: black;}#sk-container-id-116 div.sk-estimator:hover label.sk-toggleable__label-arrow:before {color: black;}#sk-container-id-116 div.sk-toggleable__content {max-height: 0;max-width: 0;overflow: hidden;text-align: left;background-color: #f0f8ff;}#sk-container-id-116 div.sk-toggleable__content pre {margin: 0.2em;color: black;border-radius: 0.25em;background-color: #f0f8ff;}#sk-container-id-116 input.sk-toggleable__control:checked~div.sk-toggleable__content {max-height: 200px;max-width: 100%;overflow: auto;}#sk-container-id-116 input.sk-toggleable__control:checked~label.sk-toggleable__label-arrow:before {content: \"▾\";}#sk-container-id-116 div.sk-estimator input.sk-toggleable__control:checked~label.sk-toggleable__label {background-color: #d4ebff;}#sk-container-id-116 div.sk-label input.sk-toggleable__control:checked~label.sk-toggleable__label {background-color: #d4ebff;}#sk-container-id-116 input.sk-hidden--visually {border: 0;clip: rect(1px 1px 1px 1px);clip: rect(1px, 1px, 1px, 1px);height: 1px;margin: -1px;overflow: hidden;padding: 0;position: absolute;width: 1px;}#sk-container-id-116 div.sk-estimator {font-family: monospace;background-color: #f0f8ff;border: 1px dotted black;border-radius: 0.25em;box-sizing: border-box;margin-bottom: 0.5em;}#sk-container-id-116 div.sk-estimator:hover {background-color: #d4ebff;}#sk-container-id-116 div.sk-parallel-item::after {content: \"\";width: 100%;border-bottom: 1px solid gray;flex-grow: 1;}#sk-container-id-116 div.sk-label:hover label.sk-toggleable__label {background-color: #d4ebff;}#sk-container-id-116 div.sk-serial::before {content: \"\";position: absolute;border-left: 1px solid gray;box-sizing: border-box;top: 0;bottom: 0;left: 50%;z-index: 0;}#sk-container-id-116 div.sk-serial {display: flex;flex-direction: column;align-items: center;background-color: white;padding-right: 0.2em;padding-left: 0.2em;position: relative;}#sk-container-id-116 div.sk-item {position: relative;z-index: 1;}#sk-container-id-116 div.sk-parallel {display: flex;align-items: stretch;justify-content: center;background-color: white;position: relative;}#sk-container-id-116 div.sk-item::before, #sk-container-id-116 div.sk-parallel-item::before {content: \"\";position: absolute;border-left: 1px solid gray;box-sizing: border-box;top: 0;bottom: 0;left: 50%;z-index: -1;}#sk-container-id-116 div.sk-parallel-item {display: flex;flex-direction: column;z-index: 1;position: relative;background-color: white;}#sk-container-id-116 div.sk-parallel-item:first-child::after {align-self: flex-end;width: 50%;}#sk-container-id-116 div.sk-parallel-item:last-child::after {align-self: flex-start;width: 50%;}#sk-container-id-116 div.sk-parallel-item:only-child::after {width: 0;}#sk-container-id-116 div.sk-dashed-wrapped {border: 1px dashed gray;margin: 0 0.4em 0.5em 0.4em;box-sizing: border-box;padding-bottom: 0.4em;background-color: white;}#sk-container-id-116 div.sk-label label {font-family: monospace;font-weight: bold;display: inline-block;line-height: 1.2em;}#sk-container-id-116 div.sk-label-container {text-align: center;}#sk-container-id-116 div.sk-container {/* jupyter's `normalize.less` sets `[hidden] { display: none; }` but bootstrap.min.css set `[hidden] { display: none !important; }` so we also need the `!important` here to be able to override the default hidden behavior on the sphinx rendered scikit-learn.org. See: https://github.com/scikit-learn/scikit-learn/issues/21755 */display: inline-block !important;position: relative;}#sk-container-id-116 div.sk-text-repr-fallback {display: none;}</style><div id=\"sk-container-id-116\" class=\"sk-top-container\"><div class=\"sk-text-repr-fallback\"><pre>MultinomialNB()</pre><b>In a Jupyter environment, please rerun this cell to show the HTML representation or trust the notebook. <br />On GitHub, the HTML representation is unable to render, please try loading this page with nbviewer.org.</b></div><div class=\"sk-container\" hidden><div class=\"sk-item\"><div class=\"sk-estimator sk-toggleable\"><input class=\"sk-toggleable__control sk-hidden--visually\" id=\"sk-estimator-id-116\" type=\"checkbox\" checked><label for=\"sk-estimator-id-116\" class=\"sk-toggleable__label sk-toggleable__label-arrow\">MultinomialNB</label><div class=\"sk-toggleable__content\"><pre>MultinomialNB()</pre></div></div></div></div></div>"
      ],
      "text/plain": [
       "MultinomialNB()"
      ]
     },
     "execution_count": 1032,
     "metadata": {},
     "output_type": "execute_result"
    }
   ],
   "source": [
    "# 朴素贝叶斯\n",
    "from sklearn.naive_bayes import MultinomialNB\n",
    "classifier = MultinomialNB()\n",
    "classifier.fit(X_train, y_train)"
   ]
  },
  {
   "cell_type": "code",
   "execution_count": 1033,
   "id": "1a82b50b-5726-4ea6-aab5-0cf8580e9b5f",
   "metadata": {
    "execution": {
     "iopub.execute_input": "2023-05-14T07:59:51.941936Z",
     "iopub.status.busy": "2023-05-14T07:59:51.941936Z",
     "iopub.status.idle": "2023-05-14T07:59:51.956949Z",
     "shell.execute_reply": "2023-05-14T07:59:51.955948Z",
     "shell.execute_reply.started": "2023-05-14T07:59:51.941936Z"
    }
   },
   "outputs": [],
   "source": [
    "# 逻辑回归\n",
    "# from sklearn.linear_model import LogisticRegression\n",
    "# classifier = LogisticRegression()\n",
    "# classifier.fit(X_train, y_train)"
   ]
  },
  {
   "cell_type": "markdown",
   "id": "90537e74-4582-4477-95bc-839b832dae35",
   "metadata": {},
   "source": [
    "## 结果分析"
   ]
  },
  {
   "cell_type": "code",
   "execution_count": 1034,
   "id": "f6adab39-ab13-416a-b3c0-06d7b81e3dc9",
   "metadata": {
    "execution": {
     "iopub.execute_input": "2023-05-14T07:59:51.957951Z",
     "iopub.status.busy": "2023-05-14T07:59:51.957951Z",
     "iopub.status.idle": "2023-05-14T07:59:51.972963Z",
     "shell.execute_reply": "2023-05-14T07:59:51.971963Z",
     "shell.execute_reply.started": "2023-05-14T07:59:51.957951Z"
    },
    "tags": []
   },
   "outputs": [
    {
     "name": "stdout",
     "output_type": "stream",
     "text": [
      "              precision    recall  f1-score   support\n",
      "\n",
      "          汽车       1.00      1.00      1.00        53\n",
      "          财经       0.78      0.91      0.84        57\n",
      "          科技       0.86      0.91      0.88        46\n",
      "          健康       0.81      0.85      0.83        60\n",
      "          体育       0.94      1.00      0.97        51\n",
      "          教育       0.93      0.89      0.91        61\n",
      "          文化       0.84      0.60      0.70        53\n",
      "          军事       0.95      0.87      0.91        62\n",
      "          娱乐       0.67      0.89      0.76        54\n",
      "          时尚       0.89      0.67      0.76        58\n",
      "\n",
      "    accuracy                           0.86       555\n",
      "   macro avg       0.87      0.86      0.86       555\n",
      "weighted avg       0.87      0.86      0.86       555\n",
      "\n"
     ]
    }
   ],
   "source": [
    "from sklearn.metrics import classification_report\n",
    "y_pred = classifier.predict(X_test)\n",
    "t = classification_report(y_test, y_pred, target_names = ordering)\n",
    "print(t)"
   ]
  },
  {
   "cell_type": "markdown",
   "id": "3ad87e24-dfdb-4455-920d-c544eefc8cac",
   "metadata": {},
   "source": [
    "<p><span style=\"font-size: 14pt;\">macro avg 即使用宏平均值（average='macro'）来计算模型的性能指标</span></p>\n",
    "<p><span style=\"font-size: 14pt;\">weighted avg 即使用加权平均值（average='weighted'）来计算模型的性能指标</span></p>\n",
    "<p><span style=\"font-size: 14pt;\"><span style=\"font-size: 18.6667px;\">accuracy、precision、recall 、f1-score&nbsp;分别表示计算模型在测试集上的准确率、精确率、召回率和 F1 值</span></span></p>"
   ]
  },
  {
   "cell_type": "markdown",
   "id": "dd7f6385-325a-4cc5-be7f-97f44b3a1df3",
   "metadata": {},
   "source": [
    "<p><span style=\"font-size: 14pt; color: #e67e23;\">结果显示，该模型在汽车领域的预测效果最好，在文化领域则较差</span></p>\n",
    "<p>&nbsp;</p>"
   ]
  }
 ],
 "metadata": {
  "kernelspec": {
   "display_name": "Python 3 (ipykernel)",
   "language": "python",
   "name": "python3"
  },
  "language_info": {
   "codemirror_mode": {
    "name": "ipython",
    "version": 3
   },
   "file_extension": ".py",
   "mimetype": "text/x-python",
   "name": "python",
   "nbconvert_exporter": "python",
   "pygments_lexer": "ipython3",
   "version": "3.10.11"
  },
  "widgets": {
   "application/vnd.jupyter.widget-state+json": {
    "state": {},
    "version_major": 2,
    "version_minor": 0
   }
  }
 },
 "nbformat": 4,
 "nbformat_minor": 5
}
