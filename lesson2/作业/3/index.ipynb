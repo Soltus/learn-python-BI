{
 "cells": [
  {
   "cell_type": "markdown",
   "id": "be73bd49-5e57-4894-a2dc-c97daaf0413f",
   "metadata": {},
   "source": [
    "<!--\n",
    "模板使用方法：将此代码块转为Markdown块然后点击左侧三角渲染（依赖 jupyter-wysiwyg ）\n",
    "模板参数说明：将超链接的路径替换即可\n",
    "@hyperlink_1: href=\"https://github.com/{组织或用户}/{仓库}/blob/{分支}/{目录和文件名组成的路径}\"\n",
    "@hyperlink_2: href=\"https://nbviewer.org/github/{组织或用户}/{仓库}/blob/{分支}/{目录和文件名组成的路径}\"\n",
    "注意事项：在 <p>...</p> 中添加注释或者空行等行为会破坏渲染效果\n",
    "-->\n",
    "\n",
    "<!-- start of template header -->\n",
    "<p>\n",
    "<div style=\"display:flex\">\n",
    "<a alt=\"hyperlink_1\" title=\"在Github查看当前文件\" href=\"https://github.com/Soltus/learn-python-BI/blob/main/lesson2/%E4%BD%9C%E4%B8%9A/3/index.ipynb\" target=\"_blank\"><img src=\"https://img.shields.io/badge/File-black?logo=github\" style=\"height: 38px\"/></a>\n",
    "<span style=\"width:5.8px\"></span>\n",
    "<a alt=\"hyperlink_2\" title=\"在nbviewer查看当前文件\" href=\"https://nbviewer.org/github/Soltus/learn-python-BI/blob/main/lesson2/%E4%BD%9C%E4%B8%9A/3/index.ipynb\" target=\"_blank\"><img src=\"https://img.shields.io/badge/nbviewer-white?logo=jupyter\" style=\"height: 38px\"/></a>\n",
    "</div>\n",
    "</p>\n",
    "\n",
    "<!-- 避免二次渲染当前块 -->\n",
    "<!-- 请勿在此处添加内容 -->\n",
    "<!-- end of template header -->"
   ]
  },
  {
   "cell_type": "markdown",
   "id": "0d1dcc3c-710f-4477-89d8-aabcf413475e",
   "metadata": {},
   "source": [
    "<h1><span style=\"color: #b96ad9;\">题一 </span></h1>\n",
    "<blockquote>\n",
    "<p>中文新闻分类学习，参考：<code>中文新闻分类.txt</code></p>\n",
    "</blockquote>"
   ]
  },
  {
   "cell_type": "code",
   "execution_count": 148,
   "id": "c4e51a10-c5d4-471c-9c81-fdf2bfe945f2",
   "metadata": {
    "execution": {
     "iopub.execute_input": "2023-05-13T16:50:42.964891Z",
     "iopub.status.busy": "2023-05-13T16:50:42.963889Z",
     "iopub.status.idle": "2023-05-13T16:50:42.980907Z",
     "shell.execute_reply": "2023-05-13T16:50:42.979906Z",
     "shell.execute_reply.started": "2023-05-13T16:50:42.964891Z"
    }
   },
   "outputs": [],
   "source": [
    "CNEWS_DATA_TXT = '../data/3/中文新闻分类.txt'\n",
    "CNEWS_SPLITED_TXT = 'cnews.jieba.txt'\n",
    "STOPWORDS_TXT = '../data/3/stopwords.txt'\n",
    "USERDIC_TXT = 'userdic.txt'"
   ]
  },
  {
   "cell_type": "code",
   "execution_count": 189,
   "id": "263eb2b3-53e4-44d0-a26a-e265ca2cdcb0",
   "metadata": {
    "execution": {
     "iopub.execute_input": "2023-05-13T17:06:58.587057Z",
     "iopub.status.busy": "2023-05-13T17:06:58.587057Z",
     "iopub.status.idle": "2023-05-13T17:06:58.614102Z",
     "shell.execute_reply": "2023-05-13T17:06:58.613101Z",
     "shell.execute_reply.started": "2023-05-13T17:06:58.587057Z"
    },
    "tags": []
   },
   "outputs": [],
   "source": [
    "import jieba\n",
    "import warnings\n",
    "\n",
    "class ChineseSegmentation:\n",
    "    ''' base on Leijieba '''\n",
    "    stopwords = []\n",
    "\n",
    "    def __init__(self, sentence, stopword_file_path='', user_dict_file_path='', debug=False):\n",
    "        ''''''\n",
    "        self.sentence = sentence\n",
    "        self.debug = debug\n",
    "\n",
    "        if stopword_file_path != '':\n",
    "            self.stopwords = [line.strip() for line in open(stopword_file_path, encoding='UTF-8').readlines()]\n",
    "        else:\n",
    "            warnings.warn('丫的 stopword_file_path 为空')\n",
    "\n",
    "        if user_dict_file_path != '':\n",
    "            jieba.load_userdict(user_dict_file_path)\n",
    "        else:\n",
    "            warnings.warn('丫的 user_dict_file_path 为空')\n",
    "\n",
    "    def _fn_cut_words(self):\n",
    "        ''''''\n",
    "        seg_list = jieba.cut(self.sentence, cut_all=False)\n",
    "        if self.stopwords:\n",
    "            output_words = [word for word in list(seg_list) if word not in self.stopwords and word.strip() != '']\n",
    "            seg_list = output_words\n",
    "        return list(seg_list)\n",
    "\n",
    "    def word_frequency(self):\n",
    "        ''''''\n",
    "        word_list = self._fn_cut_words()\n",
    "        word_dict = {}\n",
    "        for word in word_list:\n",
    "            if word not in word_dict:\n",
    "                word_dict[word] = 1\n",
    "            else:\n",
    "                word_dict[word] += 1\n",
    "        return sorted(word_dict.items(), key=lambda e:e[1], reverse=True)\n",
    "\n",
    "    def cut_words_filter(self, frequency_threshold=0, remove_single_word=False):\n",
    "        ''''''\n",
    "        word_list = self._fn_cut_words()\n",
    "        word_dict = {}\n",
    "        removed_list = []\n",
    "        for word in word_list:\n",
    "            if word not in word_dict:\n",
    "                word_dict[word] = 1\n",
    "            else:\n",
    "                word_dict[word] += 1\n",
    "        word_dict_sorted = dict(sorted(word_dict.items(), key=lambda e:e[1], reverse=True)) \n",
    "        filtered_word_list = word_list[:]\n",
    "\n",
    "        if remove_single_word:\n",
    "            for word in word_list:\n",
    "                if len(word) == 1:\n",
    "                    filtered_word_list.remove(word)\n",
    "                    removed_list.append(word)\n",
    "                else:\n",
    "                    if word_dict_sorted[word] <= frequency_threshold:\n",
    "                        filtered_word_list.remove(word)\n",
    "                        removed_list.append(word)\n",
    "        else:\n",
    "            for word in word_list:\n",
    "                if word_dict_sorted[word] <= frequency_threshold:\n",
    "                    filtered_word_list.remove(word)\n",
    "                    removed_list.append(word)\n",
    "\n",
    "        if self.debug:\n",
    "            removed_list_len = len(removed_list)\n",
    "            if 0 < removed_list_len < 50:\n",
    "                warnings.warn(f'\\t removed_list from filtered_word_list : ( {removed_list_len} ) \\n {removed_list} ')\n",
    "            elif 50 < removed_list_len:\n",
    "                warnings.warn(f'\\t removed_list from filtered_word_list : ( {removed_list_len} ) \\n {removed_list[:20]} \\n ... \\n {removed_list[-20:]} ')\n",
    "\n",
    "            print('-'*10)\n",
    "\n",
    "            filtered_word_list_len = len(filtered_word_list)\n",
    "            if 0 < filtered_word_list_len < 100:\n",
    "                print(f'\\t filtered_word_list : ( {filtered_word_list_len} ) \\n {filtered_word_list} ')\n",
    "            elif 100 < filtered_word_list_len:\n",
    "                print(f'\\t filtered_word_list : ( {filtered_word_list_len} ) \\n {filtered_word_list[:40]} \\n ... \\n {filtered_word_list[-40:]} ')\n",
    "\n",
    "            print('-'*10)\n",
    "\n",
    "            print(f'\\t TOP10 words : \\n {self.word_frequency()[:10]} ')\n",
    "\n",
    "        return filtered_word_list\n"
   ]
  },
  {
   "cell_type": "code",
   "execution_count": 237,
   "id": "26dbe368-5a94-4ea0-adb1-9fb6b5e6238a",
   "metadata": {
    "execution": {
     "iopub.execute_input": "2023-05-13T17:31:11.798724Z",
     "iopub.status.busy": "2023-05-13T17:31:11.797723Z",
     "iopub.status.idle": "2023-05-13T17:31:11.910298Z",
     "shell.execute_reply": "2023-05-13T17:31:11.909298Z",
     "shell.execute_reply.started": "2023-05-13T17:31:11.798724Z"
    },
    "tags": []
   },
   "outputs": [
    {
     "data": {
      "text/plain": [
       "0       新辉腾　４．２　Ｖ８　４座加长Ｉｎｄｉｖｉｄｕａｌ版２０１１款　最新报价\n",
       "1                              ９１８　Ｓｐｙｄｅｒ概念车\n",
       "2                   日内瓦亮相　ＭＩＮＩ性能版／概念车－１．６Ｔ引擎\n",
       "3                     清仓大甩卖一汽夏利Ｎ５威志Ｖ２低至３．３９万\n",
       "4                         大众敞篷家族新成员　高尔夫敞篷版实拍\n",
       "                        ...                 \n",
       "4995                            常吃六类食物快速补充水分\n",
       "4996                     情感：你是我的那盘菜　吃不起我走【２】\n",
       "4997                       揭秘不老女神刘晓庆的四任丈夫（图）\n",
       "4998                           样板潮爸　时尚圈里的父亲们\n",
       "4999                全球最美女人长啥样？中国最美女人酷似章子怡（图）\n",
       "Name: 1, Length: 5000, dtype: object"
      ]
     },
     "execution_count": 237,
     "metadata": {},
     "output_type": "execute_result"
    }
   ],
   "source": [
    "import pandas as pd\n",
    "txtfile = pd.read_csv(CNEWS_DATA_TXT, sep='\\t', encoding = 'utf-8', header = None)\n",
    "txtfile[1]"
   ]
  },
  {
   "cell_type": "code",
   "execution_count": 238,
   "id": "36e57de5-c1bd-4e28-bc50-fdaad5555d89",
   "metadata": {
    "execution": {
     "iopub.execute_input": "2023-05-13T17:31:13.805597Z",
     "iopub.status.busy": "2023-05-13T17:31:13.804597Z",
     "iopub.status.idle": "2023-05-13T17:31:14.171479Z",
     "shell.execute_reply": "2023-05-13T17:31:14.171479Z",
     "shell.execute_reply.started": "2023-05-13T17:31:13.805597Z"
    },
    "tags": []
   },
   "outputs": [
    {
     "name": "stdout",
     "output_type": "stream",
     "text": [
      "47\n",
      "0\n"
     ]
    },
    {
     "data": {
      "text/plain": [
       "0               新辉腾 座加长 版 款 最新报价\n",
       "1                            概念车\n",
       "2               日内瓦亮相 性能版 概念车 引擎\n",
       "3              清仓大甩卖一汽夏利 威志 低至 万\n",
       "4             大众敞篷家族新成员 高尔夫敞篷版实拍\n",
       "                  ...           \n",
       "4948                常吃六类食物快速补充水分\n",
       "4949           情感 你是我的那盘菜 吃不起我走 \n",
       "4950           揭秘不老女神刘晓庆的四任丈夫 图 \n",
       "4951               样板潮爸 时尚圈里的父亲们\n",
       "4952    全球最美女人长啥样 中国最美女人酷似章子怡 图 \n",
       "Name: 1, Length: 4953, dtype: object"
      ]
     },
     "execution_count": 238,
     "metadata": {},
     "output_type": "execute_result"
    }
   ],
   "source": [
    "import re\n",
    "for i in range(len(txtfile)):\n",
    "    txtfile[1][i] = re.sub(r'[^\\u4e00-\\u9fa5]+',' ',txtfile[1][i])\n",
    "txtfile[1].replace(' ', np.nan, inplace=True)\n",
    "print(txtfile[1].isnull().sum())\n",
    "txtfile.dropna(subset=txtfile.columns.tolist()[1], inplace=True)\n",
    "txtfile.reset_index(drop=True, inplace=True)\n",
    "print(txtfile[1].isnull().sum())\n",
    "# 此处直接替换了 txtfile ，重新运行需要先运行前置单元格\n",
    "txtfile[1]"
   ]
  },
  {
   "cell_type": "code",
   "execution_count": 239,
   "id": "17b37b3a-6b6c-465c-8021-1aa8fadbd066",
   "metadata": {
    "execution": {
     "iopub.execute_input": "2023-05-13T17:31:20.629487Z",
     "iopub.status.busy": "2023-05-13T17:31:20.629487Z",
     "iopub.status.idle": "2023-05-13T17:31:25.065924Z",
     "shell.execute_reply": "2023-05-13T17:31:25.064925Z",
     "shell.execute_reply.started": "2023-05-13T17:31:20.629487Z"
    },
    "tags": []
   },
   "outputs": [
    {
     "name": "stderr",
     "output_type": "stream",
     "text": [
      "C:\\Windows\\Temp\\ipykernel_36328\\1205931394.py:75: UserWarning: \t removed_list from filtered_word_list : ( 4979 ) \n",
      " ['座', '版', '款', '版', '万', '新', '款', '款', '新', '拍', '享', '元', '客', '版', '款', '逸', '款', '中', '车', '试'] \n",
      " ... \n",
      " ['型', '街', '拍', '捉', '岁', '教', '吃', '葱', '蒜', '买', '长', '条', '甩', '裙', '菜', '走', '图', '长', '样', '图'] \n",
      "  warnings.warn(f'\\t removed_list from filtered_word_list : ( {removed_list_len} ) \\n {removed_list[:20]} \\n ... \\n {removed_list[-20:]} ')\n"
     ]
    },
    {
     "name": "stdout",
     "output_type": "stream",
     "text": [
      "----------\n",
      "\t filtered_word_list : ( 35565 ) \n",
      " ['新辉腾', '加长', '最新', '报价', 'QQ694357845QQ', '概念车', 'QQ694357845QQ', '日内瓦', '亮相', '性能', '概念车', '引擎', 'QQ694357845QQ', '清仓', '甩卖', '一汽', '夏利', '威志', '低至', 'QQ694357845QQ', '大众', '敞篷', '家族', '成员', '高尔夫', '敞篷版', '实拍', 'QQ694357845QQ', '悦翔', '两厢', '舒适型', '最新', '报价', 'QQ694357845QQ', '戈蓝', '旗舰', '升级版', '最新', '报价', 'QQ694357845QQ'] \n",
      " ... \n",
      " ['铅笔', '诱惑', '来袭', '盘点', '明星', '时尚', '裙装', 'QQ694357845QQ', '常吃', '六类', '食物', '快速', '补充', '水分', 'QQ694357845QQ', '情感', '那盘', '吃不起', 'QQ694357845QQ', '揭秘', '不老', '女神', '刘晓庆', '四任', '丈夫', 'QQ694357845QQ', '样板', '潮爸', '时尚', '圈里', '父亲', 'QQ694357845QQ', '全球', '最美', '女人', '中国', '最美', '女人', '酷似', '章子怡'] \n",
      "----------\n",
      "\t TOP10 words : \n",
      " [('QQ694357845QQ', 4952), ('图', 202), ('中国', 192), ('报价', 151), ('组图', 143), ('款', 137), ('最新', 121), ('新', 111), ('称', 106), ('万', 94)] \n",
      "----------\n",
      "\t write 4953 lines to cnews.jieba.txt\n",
      "\n"
     ]
    }
   ],
   "source": [
    "userdic = 'QQ694357845QQ'\n",
    "with open(USERDIC_TXT,'w', encoding='utf-8') as f:\n",
    "    f.write(userdic)\n",
    "s = userdic.join(list(txtfile[1]))\n",
    "m = ChineseSegmentation(s, STOPWORDS_TXT, USERDIC_TXT, 1)\n",
    "filtered_word_list = m.cut_words_filter(0,1)\n",
    "\n",
    "s1 = ' '.join(filtered_word_list)\n",
    "\n",
    "with open(CNEWS_SPLITED_TXT,'w', encoding='utf-8') as f:\n",
    "    f.write(s1.replace(f'{userdic}','\\n').replace('\\n\\n','\\n'))\n",
    "print('-'*10)\n",
    "with open(CNEWS_SPLITED_TXT,'r', encoding='utf-8') as f:\n",
    "    print(f'\\t write {len(f.readlines())} lines to {CNEWS_SPLITED_TXT}')\n",
    "print()"
   ]
  },
  {
   "cell_type": "code",
   "execution_count": 247,
   "id": "10a78fb9-0c14-45fc-9b79-2c71642114a7",
   "metadata": {
    "execution": {
     "iopub.execute_input": "2023-05-13T17:35:00.430485Z",
     "iopub.status.busy": "2023-05-13T17:35:00.429296Z",
     "iopub.status.idle": "2023-05-13T17:35:00.444498Z",
     "shell.execute_reply": "2023-05-13T17:35:00.444498Z",
     "shell.execute_reply.started": "2023-05-13T17:35:00.430485Z"
    },
    "tags": []
   },
   "outputs": [
    {
     "data": {
      "text/html": [
       "<div>\n",
       "<style scoped>\n",
       "    .dataframe tbody tr th:only-of-type {\n",
       "        vertical-align: middle;\n",
       "    }\n",
       "\n",
       "    .dataframe tbody tr th {\n",
       "        vertical-align: top;\n",
       "    }\n",
       "\n",
       "    .dataframe thead th {\n",
       "        text-align: right;\n",
       "    }\n",
       "</style>\n",
       "<table border=\"1\" class=\"dataframe\">\n",
       "  <thead>\n",
       "    <tr style=\"text-align: right;\">\n",
       "      <th></th>\n",
       "      <th>0</th>\n",
       "    </tr>\n",
       "  </thead>\n",
       "  <tbody>\n",
       "    <tr>\n",
       "      <th>0</th>\n",
       "      <td>新辉腾 加长 最新 报价</td>\n",
       "    </tr>\n",
       "    <tr>\n",
       "      <th>1</th>\n",
       "      <td>概念车</td>\n",
       "    </tr>\n",
       "    <tr>\n",
       "      <th>2</th>\n",
       "      <td>日内瓦 亮相 性能 概念车 引擎</td>\n",
       "    </tr>\n",
       "    <tr>\n",
       "      <th>3</th>\n",
       "      <td>清仓 甩卖 一汽 夏利 威志 低至</td>\n",
       "    </tr>\n",
       "    <tr>\n",
       "      <th>4</th>\n",
       "      <td>大众 敞篷 家族 成员 高尔夫 敞篷版 实拍</td>\n",
       "    </tr>\n",
       "    <tr>\n",
       "      <th>...</th>\n",
       "      <td>...</td>\n",
       "    </tr>\n",
       "    <tr>\n",
       "      <th>4948</th>\n",
       "      <td>常吃 六类 食物 快速 补充 水分</td>\n",
       "    </tr>\n",
       "    <tr>\n",
       "      <th>4949</th>\n",
       "      <td>情感 那盘 吃不起</td>\n",
       "    </tr>\n",
       "    <tr>\n",
       "      <th>4950</th>\n",
       "      <td>揭秘 不老 女神 刘晓庆 四任 丈夫</td>\n",
       "    </tr>\n",
       "    <tr>\n",
       "      <th>4951</th>\n",
       "      <td>样板 潮爸 时尚 圈里 父亲</td>\n",
       "    </tr>\n",
       "    <tr>\n",
       "      <th>4952</th>\n",
       "      <td>全球 最美 女人 中国 最美 女人 酷似 章子怡</td>\n",
       "    </tr>\n",
       "  </tbody>\n",
       "</table>\n",
       "<p>4953 rows × 1 columns</p>\n",
       "</div>"
      ],
      "text/plain": [
       "                              0\n",
       "0                 新辉腾 加长 最新 报价 \n",
       "1                          概念车 \n",
       "2             日内瓦 亮相 性能 概念车 引擎 \n",
       "3            清仓 甩卖 一汽 夏利 威志 低至 \n",
       "4       大众 敞篷 家族 成员 高尔夫 敞篷版 实拍 \n",
       "...                         ...\n",
       "4948         常吃 六类 食物 快速 补充 水分 \n",
       "4949                 情感 那盘 吃不起 \n",
       "4950        揭秘 不老 女神 刘晓庆 四任 丈夫 \n",
       "4951            样板 潮爸 时尚 圈里 父亲 \n",
       "4952   全球 最美 女人 中国 最美 女人 酷似 章子怡\n",
       "\n",
       "[4953 rows x 1 columns]"
      ]
     },
     "execution_count": 247,
     "metadata": {},
     "output_type": "execute_result"
    }
   ],
   "source": [
    "txt = pd.read_csv(CNEWS_SPLITED_TXT, sep='\\t', encoding = 'utf-8', header = None, skip_blank_lines=False) # skip_blank_lines=False 禁用跳过空行，否则将导致下面train_test_split 的 X 和 y 行数不一致\n",
    "txt"
   ]
  },
  {
   "cell_type": "code",
   "execution_count": 248,
   "id": "c826cc5a-00e6-46c7-b64d-cd3f96e47fad",
   "metadata": {
    "execution": {
     "iopub.execute_input": "2023-05-13T17:35:04.356636Z",
     "iopub.status.busy": "2023-05-13T17:35:04.356636Z",
     "iopub.status.idle": "2023-05-13T17:35:04.437416Z",
     "shell.execute_reply": "2023-05-13T17:35:04.437416Z",
     "shell.execute_reply.started": "2023-05-13T17:35:04.356636Z"
    },
    "tags": []
   },
   "outputs": [
    {
     "data": {
      "text/plain": [
       "(4953, 4000)"
      ]
     },
     "execution_count": 248,
     "metadata": {},
     "output_type": "execute_result"
    }
   ],
   "source": [
    "from sklearn.feature_extraction.text import TfidfVectorizer\n",
    "vectorizer = TfidfVectorizer(analyzer='word', max_features=4000,  lowercase = False)\n",
    "vectorizer.fit(list(txt[0]))\n",
    "X = vectorizer.transform(list(txt[0]))\n",
    "X.shape"
   ]
  },
  {
   "cell_type": "code",
   "execution_count": 249,
   "id": "2230f943-783a-4f22-9867-15a3572709e7",
   "metadata": {
    "execution": {
     "iopub.execute_input": "2023-05-13T17:35:06.411838Z",
     "iopub.status.busy": "2023-05-13T17:35:06.410837Z",
     "iopub.status.idle": "2023-05-13T17:35:06.432543Z",
     "shell.execute_reply": "2023-05-13T17:35:06.431542Z",
     "shell.execute_reply.started": "2023-05-13T17:35:06.411838Z"
    },
    "tags": []
   },
   "outputs": [
    {
     "name": "stdout",
     "output_type": "stream",
     "text": [
      "['汽车', '财经', '科技', '健康', '体育', '教育', '文化', '军事', '娱乐', '时尚']\n"
     ]
    },
    {
     "data": {
      "text/plain": [
       "(4953,)"
      ]
     },
     "execution_count": 249,
     "metadata": {},
     "output_type": "execute_result"
    }
   ],
   "source": [
    "import numpy as np\n",
    "\n",
    "# 生成类别列表\n",
    "categories = txtfile[0].unique()\n",
    "ordering = list(categories)\n",
    "print(ordering)\n",
    "\n",
    "# 将类别列表中的类别名转化为对应的序号\n",
    "y = np.array(txtfile[0].map(lambda x: ordering.index(x)))\n",
    "y.shape"
   ]
  },
  {
   "cell_type": "code",
   "execution_count": 250,
   "id": "7f0d004e-394f-41d7-9150-1fdc24409cb6",
   "metadata": {
    "execution": {
     "iopub.execute_input": "2023-05-13T17:35:09.107559Z",
     "iopub.status.busy": "2023-05-13T17:35:09.107559Z",
     "iopub.status.idle": "2023-05-13T17:35:09.121573Z",
     "shell.execute_reply": "2023-05-13T17:35:09.120570Z",
     "shell.execute_reply.started": "2023-05-13T17:35:09.107559Z"
    },
    "tags": []
   },
   "outputs": [],
   "source": [
    "from sklearn.model_selection import train_test_split\n",
    "X_train, X_test, y_train, y_test = train_test_split(X, y, random_state=1)"
   ]
  },
  {
   "cell_type": "code",
   "execution_count": 251,
   "id": "f23e63cf-1864-4ac0-95a7-937a370f0b30",
   "metadata": {
    "execution": {
     "iopub.execute_input": "2023-05-13T17:37:45.453543Z",
     "iopub.status.busy": "2023-05-13T17:37:45.453543Z",
     "iopub.status.idle": "2023-05-13T17:37:45.467557Z",
     "shell.execute_reply": "2023-05-13T17:37:45.466558Z",
     "shell.execute_reply.started": "2023-05-13T17:37:45.453543Z"
    },
    "tags": []
   },
   "outputs": [
    {
     "data": {
      "text/html": [
       "<style>#sk-container-id-1 {color: black;background-color: white;}#sk-container-id-1 pre{padding: 0;}#sk-container-id-1 div.sk-toggleable {background-color: white;}#sk-container-id-1 label.sk-toggleable__label {cursor: pointer;display: block;width: 100%;margin-bottom: 0;padding: 0.3em;box-sizing: border-box;text-align: center;}#sk-container-id-1 label.sk-toggleable__label-arrow:before {content: \"▸\";float: left;margin-right: 0.25em;color: #696969;}#sk-container-id-1 label.sk-toggleable__label-arrow:hover:before {color: black;}#sk-container-id-1 div.sk-estimator:hover label.sk-toggleable__label-arrow:before {color: black;}#sk-container-id-1 div.sk-toggleable__content {max-height: 0;max-width: 0;overflow: hidden;text-align: left;background-color: #f0f8ff;}#sk-container-id-1 div.sk-toggleable__content pre {margin: 0.2em;color: black;border-radius: 0.25em;background-color: #f0f8ff;}#sk-container-id-1 input.sk-toggleable__control:checked~div.sk-toggleable__content {max-height: 200px;max-width: 100%;overflow: auto;}#sk-container-id-1 input.sk-toggleable__control:checked~label.sk-toggleable__label-arrow:before {content: \"▾\";}#sk-container-id-1 div.sk-estimator input.sk-toggleable__control:checked~label.sk-toggleable__label {background-color: #d4ebff;}#sk-container-id-1 div.sk-label input.sk-toggleable__control:checked~label.sk-toggleable__label {background-color: #d4ebff;}#sk-container-id-1 input.sk-hidden--visually {border: 0;clip: rect(1px 1px 1px 1px);clip: rect(1px, 1px, 1px, 1px);height: 1px;margin: -1px;overflow: hidden;padding: 0;position: absolute;width: 1px;}#sk-container-id-1 div.sk-estimator {font-family: monospace;background-color: #f0f8ff;border: 1px dotted black;border-radius: 0.25em;box-sizing: border-box;margin-bottom: 0.5em;}#sk-container-id-1 div.sk-estimator:hover {background-color: #d4ebff;}#sk-container-id-1 div.sk-parallel-item::after {content: \"\";width: 100%;border-bottom: 1px solid gray;flex-grow: 1;}#sk-container-id-1 div.sk-label:hover label.sk-toggleable__label {background-color: #d4ebff;}#sk-container-id-1 div.sk-serial::before {content: \"\";position: absolute;border-left: 1px solid gray;box-sizing: border-box;top: 0;bottom: 0;left: 50%;z-index: 0;}#sk-container-id-1 div.sk-serial {display: flex;flex-direction: column;align-items: center;background-color: white;padding-right: 0.2em;padding-left: 0.2em;position: relative;}#sk-container-id-1 div.sk-item {position: relative;z-index: 1;}#sk-container-id-1 div.sk-parallel {display: flex;align-items: stretch;justify-content: center;background-color: white;position: relative;}#sk-container-id-1 div.sk-item::before, #sk-container-id-1 div.sk-parallel-item::before {content: \"\";position: absolute;border-left: 1px solid gray;box-sizing: border-box;top: 0;bottom: 0;left: 50%;z-index: -1;}#sk-container-id-1 div.sk-parallel-item {display: flex;flex-direction: column;z-index: 1;position: relative;background-color: white;}#sk-container-id-1 div.sk-parallel-item:first-child::after {align-self: flex-end;width: 50%;}#sk-container-id-1 div.sk-parallel-item:last-child::after {align-self: flex-start;width: 50%;}#sk-container-id-1 div.sk-parallel-item:only-child::after {width: 0;}#sk-container-id-1 div.sk-dashed-wrapped {border: 1px dashed gray;margin: 0 0.4em 0.5em 0.4em;box-sizing: border-box;padding-bottom: 0.4em;background-color: white;}#sk-container-id-1 div.sk-label label {font-family: monospace;font-weight: bold;display: inline-block;line-height: 1.2em;}#sk-container-id-1 div.sk-label-container {text-align: center;}#sk-container-id-1 div.sk-container {/* jupyter's `normalize.less` sets `[hidden] { display: none; }` but bootstrap.min.css set `[hidden] { display: none !important; }` so we also need the `!important` here to be able to override the default hidden behavior on the sphinx rendered scikit-learn.org. See: https://github.com/scikit-learn/scikit-learn/issues/21755 */display: inline-block !important;position: relative;}#sk-container-id-1 div.sk-text-repr-fallback {display: none;}</style><div id=\"sk-container-id-1\" class=\"sk-top-container\"><div class=\"sk-text-repr-fallback\"><pre>MultinomialNB()</pre><b>In a Jupyter environment, please rerun this cell to show the HTML representation or trust the notebook. <br />On GitHub, the HTML representation is unable to render, please try loading this page with nbviewer.org.</b></div><div class=\"sk-container\" hidden><div class=\"sk-item\"><div class=\"sk-estimator sk-toggleable\"><input class=\"sk-toggleable__control sk-hidden--visually\" id=\"sk-estimator-id-1\" type=\"checkbox\" checked><label for=\"sk-estimator-id-1\" class=\"sk-toggleable__label sk-toggleable__label-arrow\">MultinomialNB</label><div class=\"sk-toggleable__content\"><pre>MultinomialNB()</pre></div></div></div></div></div>"
      ],
      "text/plain": [
       "MultinomialNB()"
      ]
     },
     "execution_count": 251,
     "metadata": {},
     "output_type": "execute_result"
    }
   ],
   "source": [
    "from sklearn.naive_bayes import MultinomialNB\n",
    "classifier = MultinomialNB()\n",
    "classifier.fit(X_train, y_train)"
   ]
  },
  {
   "cell_type": "code",
   "execution_count": 252,
   "id": "3a0e8dbb-c804-454c-b5fb-c906787174ed",
   "metadata": {
    "execution": {
     "iopub.execute_input": "2023-05-13T17:37:54.828979Z",
     "iopub.status.busy": "2023-05-13T17:37:54.827978Z",
     "iopub.status.idle": "2023-05-13T17:37:54.833984Z",
     "shell.execute_reply": "2023-05-13T17:37:54.833984Z",
     "shell.execute_reply.started": "2023-05-13T17:37:54.828979Z"
    },
    "tags": []
   },
   "outputs": [],
   "source": [
    "y_pred = classifier.predict(X_test)"
   ]
  },
  {
   "cell_type": "code",
   "execution_count": 253,
   "id": "f6adab39-ab13-416a-b3c0-06d7b81e3dc9",
   "metadata": {
    "execution": {
     "iopub.execute_input": "2023-05-13T17:38:05.052951Z",
     "iopub.status.busy": "2023-05-13T17:38:05.052951Z",
     "iopub.status.idle": "2023-05-13T17:38:05.072477Z",
     "shell.execute_reply": "2023-05-13T17:38:05.071475Z",
     "shell.execute_reply.started": "2023-05-13T17:38:05.052951Z"
    },
    "tags": []
   },
   "outputs": [
    {
     "name": "stdout",
     "output_type": "stream",
     "text": [
      "              precision    recall  f1-score   support\n",
      "\n",
      "          汽车       0.96      0.88      0.92       120\n",
      "          财经       0.61      0.71      0.66       119\n",
      "          科技       0.71      0.69      0.70       130\n",
      "          健康       0.78      0.55      0.64       144\n",
      "          体育       0.70      0.92      0.80       111\n",
      "          教育       0.73      0.72      0.73       130\n",
      "          文化       0.55      0.59      0.57       114\n",
      "          军事       0.77      0.70      0.73       121\n",
      "          娱乐       0.64      0.60      0.62       131\n",
      "          时尚       0.66      0.75      0.70       119\n",
      "\n",
      "    accuracy                           0.71      1239\n",
      "   macro avg       0.71      0.71      0.71      1239\n",
      "weighted avg       0.71      0.71      0.71      1239\n",
      "\n"
     ]
    }
   ],
   "source": [
    "from sklearn.metrics import classification_report\n",
    "t = classification_report(y_test, y_pred, target_names = ordering)\n",
    "print(t)"
   ]
  }
 ],
 "metadata": {
  "kernelspec": {
   "display_name": "Python 3 (ipykernel)",
   "language": "python",
   "name": "python3"
  },
  "language_info": {
   "codemirror_mode": {
    "name": "ipython",
    "version": 3
   },
   "file_extension": ".py",
   "mimetype": "text/x-python",
   "name": "python",
   "nbconvert_exporter": "python",
   "pygments_lexer": "ipython3",
   "version": "3.10.9"
  },
  "widgets": {
   "application/vnd.jupyter.widget-state+json": {
    "state": {},
    "version_major": 2,
    "version_minor": 0
   }
  }
 },
 "nbformat": 4,
 "nbformat_minor": 5
}
