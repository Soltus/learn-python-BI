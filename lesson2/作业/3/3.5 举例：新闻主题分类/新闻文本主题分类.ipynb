{
 "cells": [
  {
   "cell_type": "code",
   "execution_count": 22,
   "metadata": {
    "execution": {
     "iopub.execute_input": "2023-05-13T15:52:31.210869Z",
     "iopub.status.busy": "2023-05-13T15:52:31.210869Z",
     "iopub.status.idle": "2023-05-13T15:52:31.241937Z",
     "shell.execute_reply": "2023-05-13T15:52:31.240936Z",
     "shell.execute_reply.started": "2023-05-13T15:52:31.210869Z"
    }
   },
   "outputs": [],
   "source": [
    "import jieba\n",
    "#构建中文分词类v3.0\n",
    "class Leijieba:    \n",
    "    \n",
    "    __stopwords = ''\n",
    "        \n",
    "    def __init__(self,s,t='',b=''):    #t为停用词的文件参数（路径+文件名）；b为本地词库的文件参数（路径+文件名）\n",
    "        self.__s = s\n",
    "        \n",
    "        if t != '':\n",
    "            self.__stopwords = [line.strip() for line in open(t,encoding='UTF-8').readlines()]  #逐行读取停用词文件，放入类内部变量__stopwords\n",
    "            \n",
    "        if b != '':\n",
    "            jieba.load_userdict(b)\n",
    "        \n",
    "    def cut(self):\n",
    "        seg_list = jieba.cut(self.__s, cut_all=False)\n",
    "        if self.__stopwords != '':\n",
    "            outstr = []    #目的是存储去掉停用用词的分词结果\n",
    "            for word in list(seg_list):\n",
    "                if word not in self.__stopwords:\n",
    "                    if word.strip() !='':   #去空格\n",
    "                        outstr.append(word)\n",
    "                        \n",
    "            seg_list = outstr                                                \n",
    "        return list(seg_list)\n",
    "    \n",
    "    def num(self):\n",
    "        lst = self.cut()\n",
    "        \n",
    "        word_dict = {}        \n",
    "        for item in lst:\n",
    "            if item not in word_dict:\n",
    "                word_dict[item] = 1   #新建“键-值”\n",
    "            else:\n",
    "                word_dict[item] += 1  #增加 键的值\n",
    "        return sorted(word_dict.items(), key=lambda e:e[1], reverse=True)  \n",
    "    \n",
    "    def cut1(self,num = 0,sw = 0):   #1.删除词频低于lnum的词,2.if sw ==1,删除单字的词\n",
    "        lst = self.cut()\n",
    "        \n",
    "        word_dict = {}        \n",
    "        for item in lst:\n",
    "            if item not in word_dict:\n",
    "                word_dict[item] = 1   #新建“键-值”\n",
    "            else:\n",
    "                word_dict[item] += 1  #增加 键的值\n",
    "        dic = dict(sorted(word_dict.items(), key=lambda e:e[1], reverse=True)) \n",
    "        lst1 = lst[:]\n",
    "        \n",
    "        if sw == 1:\n",
    "            for item in lst:\n",
    "                if len(item) == 1:\n",
    "                    lst1.remove(item)\n",
    "                else:\n",
    "                    if dic[item] <= num:\n",
    "                        lst1.remove(item)\n",
    "        else:\n",
    "            for item in lst:\n",
    "                if dic[item] <= num:\n",
    "                    lst1.remove(item)\n",
    "                \n",
    "        return lst1 "
   ]
  },
  {
   "cell_type": "code",
   "execution_count": 23,
   "metadata": {
    "execution": {
     "iopub.execute_input": "2023-05-13T15:52:31.242937Z",
     "iopub.status.busy": "2023-05-13T15:52:31.242937Z",
     "iopub.status.idle": "2023-05-13T15:52:31.921528Z",
     "shell.execute_reply": "2023-05-13T15:52:31.920674Z",
     "shell.execute_reply.started": "2023-05-13T15:52:31.242937Z"
    }
   },
   "outputs": [],
   "source": [
    "import pandas as pd\n",
    "txtfile = pd.read_csv('cnews.txt', sep='\\t', encoding = 'utf-8', header = None)"
   ]
  },
  {
   "cell_type": "code",
   "execution_count": 24,
   "metadata": {
    "execution": {
     "iopub.execute_input": "2023-05-13T15:52:31.922544Z",
     "iopub.status.busy": "2023-05-13T15:52:31.922030Z",
     "iopub.status.idle": "2023-05-13T15:52:32.394653Z",
     "shell.execute_reply": "2023-05-13T15:52:32.394653Z",
     "shell.execute_reply.started": "2023-05-13T15:52:31.922544Z"
    }
   },
   "outputs": [],
   "source": [
    "import re\n",
    "for i in range(len(txtfile)):\n",
    "    txtfile[1][i] = re.sub(r'[^\\u4e00-\\u9fa5]+',' ',txtfile[1][i])"
   ]
  },
  {
   "cell_type": "code",
   "execution_count": 25,
   "metadata": {
    "execution": {
     "iopub.execute_input": "2023-05-13T15:52:32.396655Z",
     "iopub.status.busy": "2023-05-13T15:52:32.395655Z",
     "iopub.status.idle": "2023-05-13T16:25:37.199620Z",
     "shell.execute_reply": "2023-05-13T16:25:37.198618Z",
     "shell.execute_reply.started": "2023-05-13T15:52:32.396655Z"
    }
   },
   "outputs": [
    {
     "name": "stderr",
     "output_type": "stream",
     "text": [
      "Building prefix dict from the default dictionary ...\n",
      "Loading model from cache C:\\WINDOWS\\TEMP\\jieba.cache\n",
      "Loading model cost 0.471 seconds.\n",
      "Prefix dict has been built successfully.\n"
     ]
    }
   ],
   "source": [
    "s = 'AAA我是分词的间隔符BBB'.join(list(txtfile[1]))\n",
    "m = Leijieba(s,t='stopwords.txt',b='userdic.txt')\n",
    "s1 = ' '.join(m.cut1(10,1))\n",
    "txtf = open('cnews.jieba.txt','wt', encoding='utf-8')\n",
    "txtf.write(s1.replace('AAA我是分词的间隔符BBB','\\n'))\n",
    "txtf.close()"
   ]
  },
  {
   "cell_type": "code",
   "execution_count": 26,
   "metadata": {
    "execution": {
     "iopub.execute_input": "2023-05-13T16:25:37.200620Z",
     "iopub.status.busy": "2023-05-13T16:25:37.199620Z",
     "iopub.status.idle": "2023-05-13T16:25:37.278200Z",
     "shell.execute_reply": "2023-05-13T16:25:37.277198Z",
     "shell.execute_reply.started": "2023-05-13T16:25:37.200620Z"
    }
   },
   "outputs": [],
   "source": [
    "txt = pd.read_csv('cnews.jieba.txt', sep='\\t', encoding = 'utf-8', header = None)"
   ]
  },
  {
   "cell_type": "code",
   "execution_count": 27,
   "metadata": {
    "execution": {
     "iopub.execute_input": "2023-05-13T16:25:37.279200Z",
     "iopub.status.busy": "2023-05-13T16:25:37.278200Z",
     "iopub.status.idle": "2023-05-13T16:25:39.012571Z",
     "shell.execute_reply": "2023-05-13T16:25:39.011571Z",
     "shell.execute_reply.started": "2023-05-13T16:25:37.279200Z"
    }
   },
   "outputs": [
    {
     "data": {
      "text/plain": [
       "(5000, 4000)"
      ]
     },
     "execution_count": 27,
     "metadata": {},
     "output_type": "execute_result"
    }
   ],
   "source": [
    "from sklearn.feature_extraction.text import TfidfVectorizer\n",
    "vectorizer = TfidfVectorizer(analyzer='word', max_features=4000,  lowercase = False)\n",
    "vectorizer.fit(list(txt[0]))\n",
    "X = vectorizer.transform(list(txt[0]))\n",
    "X.shape"
   ]
  },
  {
   "cell_type": "code",
   "execution_count": 28,
   "metadata": {
    "execution": {
     "iopub.execute_input": "2023-05-13T16:25:39.013572Z",
     "iopub.status.busy": "2023-05-13T16:25:39.012571Z",
     "iopub.status.idle": "2023-05-13T16:25:39.028586Z",
     "shell.execute_reply": "2023-05-13T16:25:39.027585Z",
     "shell.execute_reply.started": "2023-05-13T16:25:39.013572Z"
    }
   },
   "outputs": [
    {
     "data": {
      "text/plain": [
       "(5000,)"
      ]
     },
     "execution_count": 28,
     "metadata": {},
     "output_type": "execute_result"
    }
   ],
   "source": [
    "import numpy as np\n",
    "ordering = ['体育','娱乐','家居','房产','教育','时尚','时政','游戏','科技','财经']\n",
    "y = np.array(txtfile[0].map(lambda x: ordering.index(x)))\n",
    "y.shape"
   ]
  },
  {
   "cell_type": "code",
   "execution_count": 29,
   "metadata": {
    "execution": {
     "iopub.execute_input": "2023-05-13T16:25:39.029587Z",
     "iopub.status.busy": "2023-05-13T16:25:39.029587Z",
     "iopub.status.idle": "2023-05-13T16:25:39.106246Z",
     "shell.execute_reply": "2023-05-13T16:25:39.105244Z",
     "shell.execute_reply.started": "2023-05-13T16:25:39.029587Z"
    }
   },
   "outputs": [],
   "source": [
    "from sklearn.model_selection import train_test_split\n",
    "X_train, X_test, y_train, y_test = train_test_split(X, y, random_state=1)"
   ]
  },
  {
   "cell_type": "code",
   "execution_count": 30,
   "metadata": {
    "execution": {
     "iopub.execute_input": "2023-05-13T16:25:39.107246Z",
     "iopub.status.busy": "2023-05-13T16:25:39.107246Z",
     "iopub.status.idle": "2023-05-13T16:25:39.168313Z",
     "shell.execute_reply": "2023-05-13T16:25:39.167312Z",
     "shell.execute_reply.started": "2023-05-13T16:25:39.107246Z"
    }
   },
   "outputs": [
    {
     "data": {
      "text/html": [
       "<style>#sk-container-id-1 {color: black;background-color: white;}#sk-container-id-1 pre{padding: 0;}#sk-container-id-1 div.sk-toggleable {background-color: white;}#sk-container-id-1 label.sk-toggleable__label {cursor: pointer;display: block;width: 100%;margin-bottom: 0;padding: 0.3em;box-sizing: border-box;text-align: center;}#sk-container-id-1 label.sk-toggleable__label-arrow:before {content: \"▸\";float: left;margin-right: 0.25em;color: #696969;}#sk-container-id-1 label.sk-toggleable__label-arrow:hover:before {color: black;}#sk-container-id-1 div.sk-estimator:hover label.sk-toggleable__label-arrow:before {color: black;}#sk-container-id-1 div.sk-toggleable__content {max-height: 0;max-width: 0;overflow: hidden;text-align: left;background-color: #f0f8ff;}#sk-container-id-1 div.sk-toggleable__content pre {margin: 0.2em;color: black;border-radius: 0.25em;background-color: #f0f8ff;}#sk-container-id-1 input.sk-toggleable__control:checked~div.sk-toggleable__content {max-height: 200px;max-width: 100%;overflow: auto;}#sk-container-id-1 input.sk-toggleable__control:checked~label.sk-toggleable__label-arrow:before {content: \"▾\";}#sk-container-id-1 div.sk-estimator input.sk-toggleable__control:checked~label.sk-toggleable__label {background-color: #d4ebff;}#sk-container-id-1 div.sk-label input.sk-toggleable__control:checked~label.sk-toggleable__label {background-color: #d4ebff;}#sk-container-id-1 input.sk-hidden--visually {border: 0;clip: rect(1px 1px 1px 1px);clip: rect(1px, 1px, 1px, 1px);height: 1px;margin: -1px;overflow: hidden;padding: 0;position: absolute;width: 1px;}#sk-container-id-1 div.sk-estimator {font-family: monospace;background-color: #f0f8ff;border: 1px dotted black;border-radius: 0.25em;box-sizing: border-box;margin-bottom: 0.5em;}#sk-container-id-1 div.sk-estimator:hover {background-color: #d4ebff;}#sk-container-id-1 div.sk-parallel-item::after {content: \"\";width: 100%;border-bottom: 1px solid gray;flex-grow: 1;}#sk-container-id-1 div.sk-label:hover label.sk-toggleable__label {background-color: #d4ebff;}#sk-container-id-1 div.sk-serial::before {content: \"\";position: absolute;border-left: 1px solid gray;box-sizing: border-box;top: 0;bottom: 0;left: 50%;z-index: 0;}#sk-container-id-1 div.sk-serial {display: flex;flex-direction: column;align-items: center;background-color: white;padding-right: 0.2em;padding-left: 0.2em;position: relative;}#sk-container-id-1 div.sk-item {position: relative;z-index: 1;}#sk-container-id-1 div.sk-parallel {display: flex;align-items: stretch;justify-content: center;background-color: white;position: relative;}#sk-container-id-1 div.sk-item::before, #sk-container-id-1 div.sk-parallel-item::before {content: \"\";position: absolute;border-left: 1px solid gray;box-sizing: border-box;top: 0;bottom: 0;left: 50%;z-index: -1;}#sk-container-id-1 div.sk-parallel-item {display: flex;flex-direction: column;z-index: 1;position: relative;background-color: white;}#sk-container-id-1 div.sk-parallel-item:first-child::after {align-self: flex-end;width: 50%;}#sk-container-id-1 div.sk-parallel-item:last-child::after {align-self: flex-start;width: 50%;}#sk-container-id-1 div.sk-parallel-item:only-child::after {width: 0;}#sk-container-id-1 div.sk-dashed-wrapped {border: 1px dashed gray;margin: 0 0.4em 0.5em 0.4em;box-sizing: border-box;padding-bottom: 0.4em;background-color: white;}#sk-container-id-1 div.sk-label label {font-family: monospace;font-weight: bold;display: inline-block;line-height: 1.2em;}#sk-container-id-1 div.sk-label-container {text-align: center;}#sk-container-id-1 div.sk-container {/* jupyter's `normalize.less` sets `[hidden] { display: none; }` but bootstrap.min.css set `[hidden] { display: none !important; }` so we also need the `!important` here to be able to override the default hidden behavior on the sphinx rendered scikit-learn.org. See: https://github.com/scikit-learn/scikit-learn/issues/21755 */display: inline-block !important;position: relative;}#sk-container-id-1 div.sk-text-repr-fallback {display: none;}</style><div id=\"sk-container-id-1\" class=\"sk-top-container\"><div class=\"sk-text-repr-fallback\"><pre>MultinomialNB()</pre><b>In a Jupyter environment, please rerun this cell to show the HTML representation or trust the notebook. <br />On GitHub, the HTML representation is unable to render, please try loading this page with nbviewer.org.</b></div><div class=\"sk-container\" hidden><div class=\"sk-item\"><div class=\"sk-estimator sk-toggleable\"><input class=\"sk-toggleable__control sk-hidden--visually\" id=\"sk-estimator-id-1\" type=\"checkbox\" checked><label for=\"sk-estimator-id-1\" class=\"sk-toggleable__label sk-toggleable__label-arrow\">MultinomialNB</label><div class=\"sk-toggleable__content\"><pre>MultinomialNB()</pre></div></div></div></div></div>"
      ],
      "text/plain": [
       "MultinomialNB()"
      ]
     },
     "execution_count": 30,
     "metadata": {},
     "output_type": "execute_result"
    }
   ],
   "source": [
    "from sklearn.naive_bayes import MultinomialNB\n",
    "classifier = MultinomialNB()\n",
    "classifier.fit(X_train, y_train)"
   ]
  },
  {
   "cell_type": "code",
   "execution_count": 31,
   "metadata": {
    "execution": {
     "iopub.execute_input": "2023-05-13T16:25:39.170315Z",
     "iopub.status.busy": "2023-05-13T16:25:39.169314Z",
     "iopub.status.idle": "2023-05-13T16:25:39.184328Z",
     "shell.execute_reply": "2023-05-13T16:25:39.183327Z",
     "shell.execute_reply.started": "2023-05-13T16:25:39.170315Z"
    }
   },
   "outputs": [],
   "source": [
    "y_pred = classifier.predict(X_test)"
   ]
  },
  {
   "cell_type": "code",
   "execution_count": 32,
   "metadata": {
    "execution": {
     "iopub.execute_input": "2023-05-13T16:25:39.186329Z",
     "iopub.status.busy": "2023-05-13T16:25:39.185329Z",
     "iopub.status.idle": "2023-05-13T16:25:39.200342Z",
     "shell.execute_reply": "2023-05-13T16:25:39.199342Z",
     "shell.execute_reply.started": "2023-05-13T16:25:39.185329Z"
    }
   },
   "outputs": [
    {
     "name": "stdout",
     "output_type": "stream",
     "text": [
      "              precision    recall  f1-score   support\n",
      "\n",
      "          体育       1.00      0.98      0.99       124\n",
      "          娱乐       0.94      0.98      0.96       121\n",
      "          家居       0.97      0.90      0.93       127\n",
      "          房产       0.99      0.93      0.96       150\n",
      "          教育       0.97      1.00      0.99       108\n",
      "          时尚       0.93      0.98      0.95       129\n",
      "          时政       0.95      0.92      0.94       111\n",
      "          游戏       1.00      0.99      1.00       130\n",
      "          科技       0.99      1.00      1.00       128\n",
      "          财经       0.95      1.00      0.97       122\n",
      "\n",
      "    accuracy                           0.97      1250\n",
      "   macro avg       0.97      0.97      0.97      1250\n",
      "weighted avg       0.97      0.97      0.97      1250\n",
      "\n"
     ]
    }
   ],
   "source": [
    "from sklearn.metrics import classification_report\n",
    "t = classification_report(y_test, y_pred, target_names = ordering)\n",
    "print(t)"
   ]
  },
  {
   "cell_type": "code",
   "execution_count": null,
   "metadata": {},
   "outputs": [],
   "source": []
  }
 ],
 "metadata": {
  "kernelspec": {
   "display_name": "Python 3 (ipykernel)",
   "language": "python",
   "name": "python3"
  },
  "language_info": {
   "codemirror_mode": {
    "name": "ipython",
    "version": 3
   },
   "file_extension": ".py",
   "mimetype": "text/x-python",
   "name": "python",
   "nbconvert_exporter": "python",
   "pygments_lexer": "ipython3",
   "version": "3.10.9"
  },
  "widgets": {
   "application/vnd.jupyter.widget-state+json": {
    "state": {},
    "version_major": 2,
    "version_minor": 0
   }
  }
 },
 "nbformat": 4,
 "nbformat_minor": 4
}
