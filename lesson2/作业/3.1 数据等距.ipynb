{
 "cells": [
  {
   "cell_type": "code",
   "execution_count": 1,
   "metadata": {},
   "outputs": [],
   "source": [
    "import pandas as pd\n",
    "import matplotlib.pyplot as plt\n",
    "plt.rcParams['axes.unicode_minus']=False    #用来正常显示负号\n",
    "plt.rcParams['font.sans-serif']=['SimHei']   #防止中文标签乱码"
   ]
  },
  {
   "cell_type": "code",
   "execution_count": 2,
   "metadata": {},
   "outputs": [],
   "source": [
    "# load in the data set\n",
    "data = pd.read_csv('./data/旧金山工资数据集.csv')"
   ]
  },
  {
   "cell_type": "code",
   "execution_count": 3,
   "metadata": {},
   "outputs": [
    {
     "data": {
      "text/html": [
       "<div>\n",
       "<style scoped>\n",
       "    .dataframe tbody tr th:only-of-type {\n",
       "        vertical-align: middle;\n",
       "    }\n",
       "\n",
       "    .dataframe tbody tr th {\n",
       "        vertical-align: top;\n",
       "    }\n",
       "\n",
       "    .dataframe thead th {\n",
       "        text-align: right;\n",
       "    }\n",
       "</style>\n",
       "<table border=\"1\" class=\"dataframe\">\n",
       "  <thead>\n",
       "    <tr style=\"text-align: right;\">\n",
       "      <th></th>\n",
       "      <th>SetID</th>\n",
       "      <th>Job Code</th>\n",
       "      <th>Eff Date</th>\n",
       "      <th>Sal End Date</th>\n",
       "      <th>Salary SetID</th>\n",
       "      <th>Sal Plan</th>\n",
       "      <th>工作种类</th>\n",
       "      <th>Step</th>\n",
       "      <th>双周最高工资</th>\n",
       "      <th>双周最低工资</th>\n",
       "      <th>工会代码</th>\n",
       "      <th>Extended Step</th>\n",
       "      <th>Pay Type</th>\n",
       "    </tr>\n",
       "  </thead>\n",
       "  <tbody>\n",
       "    <tr>\n",
       "      <th>0</th>\n",
       "      <td>COMMN</td>\n",
       "      <td>0109</td>\n",
       "      <td>07/01/2009 12:00:00 AM</td>\n",
       "      <td>06/30/2010 12:00:00 AM</td>\n",
       "      <td>COMMN</td>\n",
       "      <td>SFM</td>\n",
       "      <td>00000</td>\n",
       "      <td>1</td>\n",
       "      <td>$0.00</td>\n",
       "      <td>$0.00</td>\n",
       "      <td>330</td>\n",
       "      <td>0</td>\n",
       "      <td>C</td>\n",
       "    </tr>\n",
       "    <tr>\n",
       "      <th>1</th>\n",
       "      <td>COMMN</td>\n",
       "      <td>0110</td>\n",
       "      <td>07/01/2009 12:00:00 AM</td>\n",
       "      <td>06/30/2010 12:00:00 AM</td>\n",
       "      <td>COMMN</td>\n",
       "      <td>SFM</td>\n",
       "      <td>00000</td>\n",
       "      <td>1</td>\n",
       "      <td>$15.00</td>\n",
       "      <td>$15.00</td>\n",
       "      <td>323</td>\n",
       "      <td>0</td>\n",
       "      <td>D</td>\n",
       "    </tr>\n",
       "    <tr>\n",
       "      <th>2</th>\n",
       "      <td>COMMN</td>\n",
       "      <td>0111</td>\n",
       "      <td>07/01/2009 12:00:00 AM</td>\n",
       "      <td>06/30/2010 12:00:00 AM</td>\n",
       "      <td>COMMN</td>\n",
       "      <td>SFM</td>\n",
       "      <td>00000</td>\n",
       "      <td>1</td>\n",
       "      <td>$25.00</td>\n",
       "      <td>$25.00</td>\n",
       "      <td>323</td>\n",
       "      <td>0</td>\n",
       "      <td>D</td>\n",
       "    </tr>\n",
       "    <tr>\n",
       "      <th>3</th>\n",
       "      <td>COMMN</td>\n",
       "      <td>0112</td>\n",
       "      <td>07/01/2009 12:00:00 AM</td>\n",
       "      <td>06/30/2010 12:00:00 AM</td>\n",
       "      <td>COMMN</td>\n",
       "      <td>SFM</td>\n",
       "      <td>00000</td>\n",
       "      <td>1</td>\n",
       "      <td>$50.00</td>\n",
       "      <td>$50.00</td>\n",
       "      <td>323</td>\n",
       "      <td>0</td>\n",
       "      <td>D</td>\n",
       "    </tr>\n",
       "    <tr>\n",
       "      <th>4</th>\n",
       "      <td>COMMN</td>\n",
       "      <td>0114</td>\n",
       "      <td>07/01/2009 12:00:00 AM</td>\n",
       "      <td>06/30/2010 12:00:00 AM</td>\n",
       "      <td>COMMN</td>\n",
       "      <td>SFM</td>\n",
       "      <td>00000</td>\n",
       "      <td>1</td>\n",
       "      <td>$100.00</td>\n",
       "      <td>$100.00</td>\n",
       "      <td>323</td>\n",
       "      <td>0</td>\n",
       "      <td>M</td>\n",
       "    </tr>\n",
       "    <tr>\n",
       "      <th>...</th>\n",
       "      <td>...</td>\n",
       "      <td>...</td>\n",
       "      <td>...</td>\n",
       "      <td>...</td>\n",
       "      <td>...</td>\n",
       "      <td>...</td>\n",
       "      <td>...</td>\n",
       "      <td>...</td>\n",
       "      <td>...</td>\n",
       "      <td>...</td>\n",
       "      <td>...</td>\n",
       "      <td>...</td>\n",
       "      <td>...</td>\n",
       "    </tr>\n",
       "    <tr>\n",
       "      <th>1351</th>\n",
       "      <td>COMMN</td>\n",
       "      <td>7412</td>\n",
       "      <td>05/15/2010 12:00:00 AM</td>\n",
       "      <td>06/30/2010 12:00:00 AM</td>\n",
       "      <td>COMMN</td>\n",
       "      <td>SFM</td>\n",
       "      <td>06470</td>\n",
       "      <td>1</td>\n",
       "      <td>$2145.00</td>\n",
       "      <td>$2607.00</td>\n",
       "      <td>200</td>\n",
       "      <td>0</td>\n",
       "      <td>B</td>\n",
       "    </tr>\n",
       "    <tr>\n",
       "      <th>1352</th>\n",
       "      <td>COMMN</td>\n",
       "      <td>8126</td>\n",
       "      <td>05/15/2010 12:00:00 AM</td>\n",
       "      <td>06/30/2010 12:00:00 AM</td>\n",
       "      <td>COMMN</td>\n",
       "      <td>SFM</td>\n",
       "      <td>07185</td>\n",
       "      <td>1</td>\n",
       "      <td>$3041.00</td>\n",
       "      <td>$3696.00</td>\n",
       "      <td>200</td>\n",
       "      <td>0</td>\n",
       "      <td>B</td>\n",
       "    </tr>\n",
       "    <tr>\n",
       "      <th>1353</th>\n",
       "      <td>COMMN</td>\n",
       "      <td>9155</td>\n",
       "      <td>05/15/2010 12:00:00 AM</td>\n",
       "      <td>06/30/2010 12:00:00 AM</td>\n",
       "      <td>COMMN</td>\n",
       "      <td>SFM</td>\n",
       "      <td>07245</td>\n",
       "      <td>1</td>\n",
       "      <td>$3132.00</td>\n",
       "      <td>$3807.00</td>\n",
       "      <td>200</td>\n",
       "      <td>0</td>\n",
       "      <td>B</td>\n",
       "    </tr>\n",
       "    <tr>\n",
       "      <th>1354</th>\n",
       "      <td>COMMN</td>\n",
       "      <td>9156</td>\n",
       "      <td>05/15/2010 12:00:00 AM</td>\n",
       "      <td>06/30/2010 12:00:00 AM</td>\n",
       "      <td>COMMN</td>\n",
       "      <td>SFM</td>\n",
       "      <td>07445</td>\n",
       "      <td>1</td>\n",
       "      <td>$3453.00</td>\n",
       "      <td>$4197.00</td>\n",
       "      <td>200</td>\n",
       "      <td>0</td>\n",
       "      <td>B</td>\n",
       "    </tr>\n",
       "    <tr>\n",
       "      <th>1355</th>\n",
       "      <td>COMMN</td>\n",
       "      <td>9157</td>\n",
       "      <td>05/15/2010 12:00:00 AM</td>\n",
       "      <td>06/30/2010 12:00:00 AM</td>\n",
       "      <td>COMMN</td>\n",
       "      <td>SFM</td>\n",
       "      <td>07445</td>\n",
       "      <td>1</td>\n",
       "      <td>$3453.00</td>\n",
       "      <td>$4197.00</td>\n",
       "      <td>200</td>\n",
       "      <td>0</td>\n",
       "      <td>B</td>\n",
       "    </tr>\n",
       "  </tbody>\n",
       "</table>\n",
       "<p>1356 rows × 13 columns</p>\n",
       "</div>"
      ],
      "text/plain": [
       "      SetID Job Code                Eff Date            Sal End Date  \\\n",
       "0     COMMN     0109  07/01/2009 12:00:00 AM  06/30/2010 12:00:00 AM   \n",
       "1     COMMN     0110  07/01/2009 12:00:00 AM  06/30/2010 12:00:00 AM   \n",
       "2     COMMN     0111  07/01/2009 12:00:00 AM  06/30/2010 12:00:00 AM   \n",
       "3     COMMN     0112  07/01/2009 12:00:00 AM  06/30/2010 12:00:00 AM   \n",
       "4     COMMN     0114  07/01/2009 12:00:00 AM  06/30/2010 12:00:00 AM   \n",
       "...     ...      ...                     ...                     ...   \n",
       "1351  COMMN     7412  05/15/2010 12:00:00 AM  06/30/2010 12:00:00 AM   \n",
       "1352  COMMN     8126  05/15/2010 12:00:00 AM  06/30/2010 12:00:00 AM   \n",
       "1353  COMMN     9155  05/15/2010 12:00:00 AM  06/30/2010 12:00:00 AM   \n",
       "1354  COMMN     9156  05/15/2010 12:00:00 AM  06/30/2010 12:00:00 AM   \n",
       "1355  COMMN     9157  05/15/2010 12:00:00 AM  06/30/2010 12:00:00 AM   \n",
       "\n",
       "     Salary SetID Sal Plan   工作种类  Step    双周最高工资    双周最低工资  工会代码  \\\n",
       "0           COMMN      SFM  00000     1     $0.00     $0.00   330   \n",
       "1           COMMN      SFM  00000     1    $15.00    $15.00   323   \n",
       "2           COMMN      SFM  00000     1    $25.00    $25.00   323   \n",
       "3           COMMN      SFM  00000     1    $50.00    $50.00   323   \n",
       "4           COMMN      SFM  00000     1   $100.00   $100.00   323   \n",
       "...           ...      ...    ...   ...       ...       ...   ...   \n",
       "1351        COMMN      SFM  06470     1  $2145.00  $2607.00   200   \n",
       "1352        COMMN      SFM  07185     1  $3041.00  $3696.00   200   \n",
       "1353        COMMN      SFM  07245     1  $3132.00  $3807.00   200   \n",
       "1354        COMMN      SFM  07445     1  $3453.00  $4197.00   200   \n",
       "1355        COMMN      SFM  07445     1  $3453.00  $4197.00   200   \n",
       "\n",
       "      Extended Step Pay Type  \n",
       "0                 0        C  \n",
       "1                 0        D  \n",
       "2                 0        D  \n",
       "3                 0        D  \n",
       "4                 0        M  \n",
       "...             ...      ...  \n",
       "1351              0        B  \n",
       "1352              0        B  \n",
       "1353              0        B  \n",
       "1354              0        B  \n",
       "1355              0        B  \n",
       "\n",
       "[1356 rows x 13 columns]"
      ]
     },
     "execution_count": 3,
     "metadata": {},
     "output_type": "execute_result"
    }
   ],
   "source": [
    "data"
   ]
  },
  {
   "cell_type": "code",
   "execution_count": 4,
   "metadata": {},
   "outputs": [
    {
     "data": {
      "text/plain": [
       "00000    61\n",
       "07450    12\n",
       "06870     9\n",
       "07420     9\n",
       "07170     9\n",
       "Name: 工作种类, dtype: int64"
      ]
     },
     "execution_count": 4,
     "metadata": {},
     "output_type": "execute_result"
    }
   ],
   "source": [
    "data['工作种类'].value_counts().head()"
   ]
  },
  {
   "cell_type": "code",
   "execution_count": 5,
   "metadata": {},
   "outputs": [
    {
     "data": {
      "text/plain": [
       "00000    61\n",
       "07450    12\n",
       "06870     9\n",
       "07420     9\n",
       "07170     9\n",
       "         ..\n",
       "4310F     1\n",
       "1063F     1\n",
       "4290F     1\n",
       "4267F     1\n",
       "06465     1\n",
       "Name: 工作种类, Length: 688, dtype: int64"
      ]
     },
     "execution_count": 5,
     "metadata": {},
     "output_type": "execute_result"
    }
   ],
   "source": [
    "data['工作种类'].value_counts()"
   ]
  },
  {
   "cell_type": "code",
   "execution_count": 6,
   "metadata": {},
   "outputs": [
    {
     "data": {
      "text/plain": [
       "<AxesSubplot:>"
      ]
     },
     "execution_count": 6,
     "metadata": {},
     "output_type": "execute_result"
    },
    {
     "data": {
      "image/png": "[encoded data removed]",
      "text/plain": [
       "<Figure size 432x288 with 1 Axes>"
      ]
     },
     "metadata": {
      "needs_background": "light"
     },
     "output_type": "display_data"
    }
   ],
   "source": [
    "# Bar Chart of the Grade column\n",
    "data['工作种类'].value_counts().sort_values(ascending=False).head(20).plot(kind='bar')"
   ]
  },
  {
   "cell_type": "code",
   "execution_count": 7,
   "metadata": {},
   "outputs": [
    {
     "data": {
      "text/plain": [
       "00000    61\n",
       "07450    12\n",
       "06870     9\n",
       "07420     9\n",
       "07170     9\n",
       "06450     8\n",
       "07110     8\n",
       "06070     8\n",
       "07230     8\n",
       "06940     8\n",
       "07020     8\n",
       "06470     8\n",
       "07220     8\n",
       "07380     7\n",
       "06860     7\n",
       "07080     7\n",
       "06990     7\n",
       "07150     7\n",
       "07160     7\n",
       "07060     7\n",
       "Name: 工作种类, dtype: int64"
      ]
     },
     "execution_count": 7,
     "metadata": {},
     "output_type": "execute_result"
    }
   ],
   "source": [
    "data['工作种类'].value_counts().sort_values(ascending=False).head(20)"
   ]
  },
  {
   "cell_type": "code",
   "execution_count": 8,
   "metadata": {},
   "outputs": [
    {
     "data": {
      "text/plain": [
       "00000    61\n",
       "07450    12\n",
       "06870     9\n",
       "07420     9\n",
       "07170     9\n",
       "         ..\n",
       "Q80H0     1\n",
       "Q81H0     1\n",
       "Q82H0     1\n",
       "Q90H0     1\n",
       "06465     1\n",
       "Name: 工作种类, Length: 688, dtype: int64"
      ]
     },
     "execution_count": 8,
     "metadata": {},
     "output_type": "execute_result"
    }
   ],
   "source": [
    "data['工作种类'].value_counts().sort_values(ascending=False)"
   ]
  },
  {
   "cell_type": "code",
   "execution_count": 9,
   "metadata": {},
   "outputs": [
    {
     "data": {
      "text/plain": [
       "00000    61\n",
       "07450    12\n",
       "06870     9\n",
       "07420     9\n",
       "07170     9\n",
       "         ..\n",
       "4310F     1\n",
       "1063F     1\n",
       "4290F     1\n",
       "4267F     1\n",
       "06465     1\n",
       "Name: 工作种类, Length: 688, dtype: int64"
      ]
     },
     "execution_count": 9,
     "metadata": {},
     "output_type": "execute_result"
    }
   ],
   "source": [
    "data1 = data['工作种类'].value_counts()\n",
    "data1"
   ]
  },
  {
   "cell_type": "code",
   "execution_count": 10,
   "metadata": {},
   "outputs": [
    {
     "data": {
      "text/plain": [
       "00000    61\n",
       "07450    12\n",
       "06870     9\n",
       "07420     9\n",
       "07170     9\n",
       "         ..\n",
       "Q80H0     1\n",
       "Q81H0     1\n",
       "Q82H0     1\n",
       "Q90H0     1\n",
       "06465     1\n",
       "Name: 工作种类, Length: 688, dtype: int64"
      ]
     },
     "execution_count": 10,
     "metadata": {},
     "output_type": "execute_result"
    }
   ],
   "source": [
    "data2 = data1.sort_values(ascending=False)\n",
    "data2"
   ]
  },
  {
   "cell_type": "code",
   "execution_count": 11,
   "metadata": {},
   "outputs": [
    {
     "data": {
      "text/plain": [
       "00000    61\n",
       "07450    12\n",
       "06870     9\n",
       "07420     9\n",
       "07170     9\n",
       "06450     8\n",
       "07110     8\n",
       "06070     8\n",
       "07230     8\n",
       "06940     8\n",
       "07020     8\n",
       "06470     8\n",
       "07220     8\n",
       "07380     7\n",
       "06860     7\n",
       "07080     7\n",
       "06990     7\n",
       "07150     7\n",
       "07160     7\n",
       "07060     7\n",
       "Name: 工作种类, dtype: int64"
      ]
     },
     "execution_count": 11,
     "metadata": {},
     "output_type": "execute_result"
    }
   ],
   "source": [
    "data3 = data2.head(20)\n",
    "data3"
   ]
  },
  {
   "cell_type": "code",
   "execution_count": 12,
   "metadata": {},
   "outputs": [
    {
     "data": {
      "text/plain": [
       "<AxesSubplot:>"
      ]
     },
     "execution_count": 12,
     "metadata": {},
     "output_type": "execute_result"
    },
    {
     "data": {
      "image/png": "[encoded data removed]",
      "text/plain": [
       "<Figure size 432x288 with 1 Axes>"
      ]
     },
     "metadata": {
      "needs_background": "light"
     },
     "output_type": "display_data"
    }
   ],
   "source": [
    "data3.plot(kind='bar')"
   ]
  },
  {
   "cell_type": "code",
   "execution_count": 13,
   "metadata": {},
   "outputs": [
    {
     "data": {
      "text/plain": [
       "<AxesSubplot:ylabel='工作种类'>"
      ]
     },
     "execution_count": 13,
     "metadata": {},
     "output_type": "execute_result"
    },
    {
     "data": {
      "image/png": "[encoded data removed]",
      "text/plain": [
       "<Figure size 432x288 with 1 Axes>"
      ]
     },
     "metadata": {},
     "output_type": "display_data"
    }
   ],
   "source": [
    "# Bar Chart of the Grade column as a pie chart (top 5 values only)\n",
    "data['工作种类'].value_counts().sort_values(ascending=False).head(5).plot(kind='pie')"
   ]
  },
  {
   "cell_type": "code",
   "execution_count": 14,
   "metadata": {},
   "outputs": [],
   "source": [
    "# load in the data set\n",
    "customer = pd.read_csv('./data/旧金山机场客户调查数据集.csv')"
   ]
  },
  {
   "cell_type": "code",
   "execution_count": 15,
   "metadata": {},
   "outputs": [
    {
     "data": {
      "text/plain": [
       "(3535, 95)"
      ]
     },
     "execution_count": 15,
     "metadata": {},
     "output_type": "execute_result"
    }
   ],
   "source": [
    "customer.shape"
   ]
  },
  {
   "cell_type": "code",
   "execution_count": 16,
   "metadata": {},
   "outputs": [
    {
     "data": {
      "text/plain": [
       "0       3\n",
       "1       4\n",
       "2       3\n",
       "3       3\n",
       "4       3\n",
       "       ..\n",
       "3530    6\n",
       "3531    3\n",
       "3532    6\n",
       "3533    5\n",
       "3534    4\n",
       "Name: Q7A_ART, Length: 3535, dtype: int64"
      ]
     },
     "execution_count": 16,
     "metadata": {},
     "output_type": "execute_result"
    }
   ],
   "source": [
    "customer['Q7A_ART']"
   ]
  },
  {
   "cell_type": "code",
   "execution_count": 17,
   "metadata": {},
   "outputs": [
    {
     "data": {
      "text/plain": [
       "count    3535.000000\n",
       "mean        4.300707\n",
       "std         1.341445\n",
       "min         0.000000\n",
       "25%         3.000000\n",
       "50%         4.000000\n",
       "75%         5.000000\n",
       "max         6.000000\n",
       "Name: Q7A_ART, dtype: float64"
      ]
     },
     "execution_count": 17,
     "metadata": {},
     "output_type": "execute_result"
    }
   ],
   "source": [
    "art_ratings = customer['Q7A_ART']\n",
    "art_ratings .describe()"
   ]
  },
  {
   "cell_type": "code",
   "execution_count": 18,
   "metadata": {},
   "outputs": [],
   "source": [
    "#只考虑1-5\n",
    "art_ratings = art_ratings[(art_ratings>=1) & (art_ratings<=5)]"
   ]
  },
  {
   "cell_type": "code",
   "execution_count": 19,
   "metadata": {},
   "outputs": [
    {
     "data": {
      "text/plain": [
       "count     2656\n",
       "unique       5\n",
       "top          4\n",
       "freq      1066\n",
       "Name: Q7A_ART, dtype: object"
      ]
     },
     "execution_count": 19,
     "metadata": {},
     "output_type": "execute_result"
    }
   ],
   "source": [
    "#将值转换为字符串\n",
    "art_ratings = art_ratings.astype(str)\n",
    "art_ratings.describe()"
   ]
  },
  {
   "cell_type": "code",
   "execution_count": 20,
   "metadata": {},
   "outputs": [
    {
     "data": {
      "text/plain": [
       "<AxesSubplot:ylabel='Q7A_ART'>"
      ]
     },
     "execution_count": 20,
     "metadata": {},
     "output_type": "execute_result"
    },
    {
     "data": {
      "image/png": "[encoded data removed]",
      "text/plain": [
       "<Figure size 432x288 with 1 Axes>"
      ]
     },
     "metadata": {},
     "output_type": "display_data"
    }
   ],
   "source": [
    "#像定类等级一样用饼图\n",
    "art_ratings.value_counts().plot(kind='pie')"
   ]
  },
  {
   "cell_type": "code",
   "execution_count": 21,
   "metadata": {},
   "outputs": [
    {
     "data": {
      "text/plain": [
       "<AxesSubplot:>"
      ]
     },
     "execution_count": 21,
     "metadata": {},
     "output_type": "execute_result"
    },
    {
     "data": {
      "image/png": "[encoded data removed]",
      "text/plain": [
       "<Figure size 432x288 with 1 Axes>"
      ]
     },
     "metadata": {
      "needs_background": "light"
     },
     "output_type": "display_data"
    }
   ],
   "source": [
    "#像定类等级一样用条形图\n",
    "art_ratings.value_counts().plot(kind= 'bar')"
   ]
  },
  {
   "cell_type": "code",
   "execution_count": 22,
   "metadata": {},
   "outputs": [
    {
     "data": {
      "text/plain": [
       "<AxesSubplot:>"
      ]
     },
     "execution_count": 22,
     "metadata": {},
     "output_type": "execute_result"
    },
    {
     "data": {
      "image/png": "[encoded data removed]",
      "text/plain": [
       "<Figure size 432x288 with 1 Axes>"
      ]
     },
     "metadata": {
      "needs_background": "light"
     },
     "output_type": "display_data"
    }
   ],
   "source": [
    "#定序等级也可以画箱线图\n",
    "art_ratings.value_counts().plot(kind= 'box')"
   ]
  },
  {
   "cell_type": "code",
   "execution_count": 23,
   "metadata": {},
   "outputs": [
    {
     "data": {
      "text/html": [
       "<div>\n",
       "<style scoped>\n",
       "    .dataframe tbody tr th:only-of-type {\n",
       "        vertical-align: middle;\n",
       "    }\n",
       "\n",
       "    .dataframe tbody tr th {\n",
       "        vertical-align: top;\n",
       "    }\n",
       "\n",
       "    .dataframe thead th {\n",
       "        text-align: right;\n",
       "    }\n",
       "</style>\n",
       "<table border=\"1\" class=\"dataframe\">\n",
       "  <thead>\n",
       "    <tr style=\"text-align: right;\">\n",
       "      <th></th>\n",
       "      <th>日期</th>\n",
       "      <th>平均温度</th>\n",
       "      <th>AverageTemperatureUncertainty</th>\n",
       "      <th>City</th>\n",
       "      <th>Country</th>\n",
       "      <th>纬度</th>\n",
       "      <th>经度</th>\n",
       "    </tr>\n",
       "  </thead>\n",
       "  <tbody>\n",
       "    <tr>\n",
       "      <th>0</th>\n",
       "      <td>1743-11-01</td>\n",
       "      <td>6.068</td>\n",
       "      <td>1.737</td>\n",
       "      <td>Århus</td>\n",
       "      <td>Denmark</td>\n",
       "      <td>57.05N</td>\n",
       "      <td>10.33E</td>\n",
       "    </tr>\n",
       "    <tr>\n",
       "      <th>1</th>\n",
       "      <td>1743-12-01</td>\n",
       "      <td>NaN</td>\n",
       "      <td>NaN</td>\n",
       "      <td>Århus</td>\n",
       "      <td>Denmark</td>\n",
       "      <td>57.05N</td>\n",
       "      <td>10.33E</td>\n",
       "    </tr>\n",
       "    <tr>\n",
       "      <th>2</th>\n",
       "      <td>1744-01-01</td>\n",
       "      <td>NaN</td>\n",
       "      <td>NaN</td>\n",
       "      <td>Århus</td>\n",
       "      <td>Denmark</td>\n",
       "      <td>57.05N</td>\n",
       "      <td>10.33E</td>\n",
       "    </tr>\n",
       "    <tr>\n",
       "      <th>3</th>\n",
       "      <td>1744-02-01</td>\n",
       "      <td>NaN</td>\n",
       "      <td>NaN</td>\n",
       "      <td>Århus</td>\n",
       "      <td>Denmark</td>\n",
       "      <td>57.05N</td>\n",
       "      <td>10.33E</td>\n",
       "    </tr>\n",
       "    <tr>\n",
       "      <th>4</th>\n",
       "      <td>1744-03-01</td>\n",
       "      <td>NaN</td>\n",
       "      <td>NaN</td>\n",
       "      <td>Århus</td>\n",
       "      <td>Denmark</td>\n",
       "      <td>57.05N</td>\n",
       "      <td>10.33E</td>\n",
       "    </tr>\n",
       "  </tbody>\n",
       "</table>\n",
       "</div>"
      ],
      "text/plain": [
       "           日期   平均温度  AverageTemperatureUncertainty   City  Country      纬度  \\\n",
       "0  1743-11-01  6.068                          1.737  Århus  Denmark  57.05N   \n",
       "1  1743-12-01    NaN                            NaN  Århus  Denmark  57.05N   \n",
       "2  1744-01-01    NaN                            NaN  Århus  Denmark  57.05N   \n",
       "3  1744-02-01    NaN                            NaN  Århus  Denmark  57.05N   \n",
       "4  1744-03-01    NaN                            NaN  Århus  Denmark  57.05N   \n",
       "\n",
       "       经度  \n",
       "0  10.33E  \n",
       "1  10.33E  \n",
       "2  10.33E  \n",
       "3  10.33E  \n",
       "4  10.33E  "
      ]
     },
     "execution_count": 23,
     "metadata": {},
     "output_type": "execute_result"
    }
   ],
   "source": [
    "#加载数据集\n",
    "climate = pd.read_csv('./data/气候数据集.csv')\n",
    "climate.head()"
   ]
  },
  {
   "cell_type": "code",
   "execution_count": 24,
   "metadata": {},
   "outputs": [],
   "source": [
    "#移除缺失值\n",
    "climate.dropna(axis = 0,inplace = True)"
   ]
  },
  {
   "cell_type": "code",
   "execution_count": 25,
   "metadata": {},
   "outputs": [
    {
     "data": {
      "text/plain": [
       "103481"
      ]
     },
     "execution_count": 25,
     "metadata": {},
     "output_type": "execute_result"
    }
   ],
   "source": [
    "#显示独特值的数量\n",
    "climate['平均温度'].nunique()"
   ]
  },
  {
   "cell_type": "code",
   "execution_count": 26,
   "metadata": {},
   "outputs": [
    {
     "data": {
      "text/plain": [
       "<AxesSubplot:>"
      ]
     },
     "execution_count": 26,
     "metadata": {},
     "output_type": "execute_result"
    },
    {
     "data": {
      "image/png": "[encoded data removed]",
      "text/plain": [
       "<Figure size 432x288 with 1 Axes>"
      ]
     },
     "metadata": {
      "needs_background": "light"
     },
     "output_type": "display_data"
    }
   ],
   "source": [
    "climate['平均温度'].hist()"
   ]
  },
  {
   "cell_type": "code",
   "execution_count": 27,
   "metadata": {},
   "outputs": [
    {
     "data": {
      "text/plain": [
       "count    8.235082e+06\n",
       "mean     1.672743e+01\n",
       "std      1.035344e+01\n",
       "min     -4.270400e+01\n",
       "25%      1.029900e+01\n",
       "50%      1.883100e+01\n",
       "75%      2.521000e+01\n",
       "max      3.965100e+01\n",
       "Name: 平均温度, dtype: float64"
      ]
     },
     "execution_count": 27,
     "metadata": {},
     "output_type": "execute_result"
    }
   ],
   "source": [
    "climate['平均温度'].describe()"
   ]
  },
  {
   "cell_type": "code",
   "execution_count": 28,
   "metadata": {},
   "outputs": [],
   "source": [
    "#将dt 栏转换为日期，取年份\n",
    "climate['日期'] = pd.to_datetime(climate['日期'])\n",
    "climate['year'] = climate['日期'].map(lambda value: value.year)"
   ]
  },
  {
   "cell_type": "code",
   "execution_count": 29,
   "metadata": {},
   "outputs": [
    {
     "name": "stderr",
     "output_type": "stream",
     "text": [
      "C:\\Users\\SR\\AppData\\Local\\Temp/ipykernel_3844/4276499081.py:3: SettingWithCopyWarning: \n",
      "A value is trying to be set on a copy of a slice from a DataFrame.\n",
      "Try using .loc[row_indexer,col_indexer] = value instead\n",
      "\n",
      "See the caveats in the documentation: https://pandas.pydata.org/pandas-docs/stable/user_guide/indexing.html#returning-a-view-versus-a-copy\n",
      "  climate_sub_us['世纪'] = climate_sub_us['year'].map(lambda x: int(x/100+1))\n"
     ]
    }
   ],
   "source": [
    "#只看美国\n",
    "climate_sub_us = climate.loc[climate['Country'] == 'United States']\n",
    "climate_sub_us['世纪'] = climate_sub_us['year'].map(lambda x: int(x/100+1))\n",
    "# 1983 变成20\n",
    "# 1750 变成18"
   ]
  },
  {
   "cell_type": "code",
   "execution_count": 30,
   "metadata": {},
   "outputs": [
    {
     "data": {
      "text/plain": [
       "47555       2.101\n",
       "47556       6.926\n",
       "47557      10.767\n",
       "47558      17.989\n",
       "47559      21.809\n",
       "            ...  \n",
       "8439242    15.544\n",
       "8439243    20.892\n",
       "8439244    24.722\n",
       "8439245    21.001\n",
       "8439246    17.408\n",
       "Name: 平均温度, Length: 661524, dtype: float64"
      ]
     },
     "execution_count": 30,
     "metadata": {},
     "output_type": "execute_result"
    }
   ],
   "source": [
    "climate_sub_us['平均温度']"
   ]
  },
  {
   "cell_type": "code",
   "execution_count": 31,
   "metadata": {},
   "outputs": [
    {
     "data": {
      "text/plain": [
       "array([[<AxesSubplot:title={'center':'18'}>,\n",
       "        <AxesSubplot:title={'center':'19'}>],\n",
       "       [<AxesSubplot:title={'center':'20'}>,\n",
       "        <AxesSubplot:title={'center':'21'}>]], dtype=object)"
      ]
     },
     "execution_count": 31,
     "metadata": {},
     "output_type": "execute_result"
    },
    {
     "data": {
      "image/png": "[encoded data removed]",
      "text/plain": [
       "<Figure size 720x720 with 4 Axes>"
      ]
     },
     "metadata": {
      "needs_background": "light"
     },
     "output_type": "display_data"
    }
   ],
   "source": [
    "climate_sub_us['平均温度'].hist(by=climate_sub_us['世纪'], \n",
    "                                          sharex=True, sharey=True, \n",
    "                                          figsize=(10, 10), \n",
    "                                          bins=20)"
   ]
  },
  {
   "cell_type": "code",
   "execution_count": 32,
   "metadata": {},
   "outputs": [
    {
     "data": {
      "text/plain": [
       "<AxesSubplot:xlabel='世纪'>"
      ]
     },
     "execution_count": 32,
     "metadata": {},
     "output_type": "execute_result"
    },
    {
     "data": {
      "image/png": "[encoded data removed]",
      "text/plain": [
       "<Figure size 432x288 with 1 Axes>"
      ]
     },
     "metadata": {
      "needs_background": "light"
     },
     "output_type": "display_data"
    }
   ],
   "source": [
    "climate_sub_us.groupby('世纪')['平均温度'].mean().plot(kind='line')"
   ]
  },
  {
   "cell_type": "code",
   "execution_count": 33,
   "metadata": {},
   "outputs": [
    {
     "data": {
      "text/plain": [
       "世纪\n",
       "18    12.073243\n",
       "19    13.662870\n",
       "20    14.386622\n",
       "21    15.197692\n",
       "Name: 平均温度, dtype: float64"
      ]
     },
     "execution_count": 33,
     "metadata": {},
     "output_type": "execute_result"
    }
   ],
   "source": [
    "century_changes = climate_sub_us.groupby('世纪')['平均温度'].mean()\n",
    "century_changes"
   ]
  },
  {
   "cell_type": "code",
   "execution_count": 34,
   "metadata": {},
   "outputs": [
    {
     "data": {
      "text/plain": [
       "3.124449115460898"
      ]
     },
     "execution_count": 34,
     "metadata": {},
     "output_type": "execute_result"
    }
   ],
   "source": [
    "century_changes[21] - century_changes[18]  "
   ]
  },
  {
   "cell_type": "code",
   "execution_count": 35,
   "metadata": {},
   "outputs": [
    {
     "data": {
      "image/png": "[encoded data removed]",
      "text/plain": [
       "<Figure size 720x360 with 1 Axes>"
      ]
     },
     "metadata": {
      "needs_background": "light"
     },
     "output_type": "display_data"
    }
   ],
   "source": [
    "x = climate_sub_us['year']\n",
    "y = climate_sub_us['平均温度']\n",
    "\n",
    "fig, ax = plt.subplots(figsize=(10,5))\n",
    "ax.scatter(x, y)\n",
    "plt.show()"
   ]
  },
  {
   "cell_type": "code",
   "execution_count": 36,
   "metadata": {},
   "outputs": [
    {
     "data": {
      "text/plain": [
       "<AxesSubplot:xlabel='year'>"
      ]
     },
     "execution_count": 36,
     "metadata": {},
     "output_type": "execute_result"
    },
    {
     "data": {
      "image/png": "[encoded data removed]",
      "text/plain": [
       "<Figure size 432x288 with 1 Axes>"
      ]
     },
     "metadata": {
      "needs_background": "light"
     },
     "output_type": "display_data"
    }
   ],
   "source": [
    "climate_sub_us.groupby('year').mean()['平均温度'].plot()"
   ]
  },
  {
   "cell_type": "code",
   "execution_count": 37,
   "metadata": {},
   "outputs": [
    {
     "data": {
      "text/plain": [
       "<AxesSubplot:xlabel='year'>"
      ]
     },
     "execution_count": 37,
     "metadata": {},
     "output_type": "execute_result"
    },
    {
     "data": {
      "image/png": "[encoded data removed]",
      "text/plain": [
       "<Figure size 432x288 with 1 Axes>"
      ]
     },
     "metadata": {
      "needs_background": "light"
     },
     "output_type": "display_data"
    }
   ],
   "source": [
    "climate_sub_us.groupby('year').mean()['平均温度'].rolling(10).mean().plot()"
   ]
  },
  {
   "cell_type": "code",
   "execution_count": 38,
   "metadata": {},
   "outputs": [
    {
     "data": {
      "text/plain": [
       "<AxesSubplot:xlabel='year'>"
      ]
     },
     "execution_count": 38,
     "metadata": {},
     "output_type": "execute_result"
    },
    {
     "data": {
      "image/png": "[encoded data removed]",
      "text/plain": [
       "<Figure size 432x288 with 1 Axes>"
      ]
     },
     "metadata": {
      "needs_background": "light"
     },
     "output_type": "display_data"
    }
   ],
   "source": [
    "climate_sub_us.groupby('year').mean()['平均温度'].rolling(10,min_periods=1).mean().plot()"
   ]
  },
  {
   "cell_type": "code",
   "execution_count": 39,
   "metadata": {},
   "outputs": [
    {
     "name": "stderr",
     "output_type": "stream",
     "text": [
      "C:\\Users\\SR\\AppData\\Local\\Temp/ipykernel_3844/2735522403.py:7: SettingWithCopyWarning: \n",
      "A value is trying to be set on a copy of a slice from a DataFrame\n",
      "\n",
      "See the caveats in the documentation: https://pandas.pydata.org/pandas-docs/stable/user_guide/indexing.html#returning-a-view-versus-a-copy\n",
      "  data['双周最高工资'][i] = data['双周最高工资'][i].replace('$','')\n"
     ]
    },
    {
     "data": {
      "text/plain": [
       "Text(0.5, 1.0, '平均双周最高工资Top20')"
      ]
     },
     "execution_count": 39,
     "metadata": {},
     "output_type": "execute_result"
    },
    {
     "data": {
      "image/png": "[encoded data removed]",
      "text/plain": [
       "<Figure size 1080x360 with 1 Axes>"
      ]
     },
     "metadata": {
      "needs_background": "light"
     },
     "output_type": "display_data"
    }
   ],
   "source": [
    "#哪个工作种类的工资最高\n",
    "#每个工作种类的平均工资是多少\n",
    "data = pd.read_csv('./data/旧金山工资数据集.csv')\n",
    "fig = plt.figure(figsize=(15,5))\n",
    "ax = fig.gca()\n",
    "for i in range(len(data)):\n",
    "    data['双周最高工资'][i] = data['双周最高工资'][i].replace('$','')\n",
    "data['双周最高工资'] = data['双周最高工资'].astype('float64')\n",
    "data.groupby('工作种类')[['双周最高工资']].mean().sort_values(\n",
    "    '双周最高工资', ascending=False).head(20).plot.bar(stacked=False, ax=ax, color='darkorange')\n",
    "ax.set_title('平均双周最高工资Top20')"
   ]
  },
  {
   "cell_type": "code",
   "execution_count": 40,
   "metadata": {},
   "outputs": [
    {
     "data": {
      "text/plain": [
       "Text(0.5, 1.0, '平均双周最高工资Bottom 20')"
      ]
     },
     "execution_count": 40,
     "metadata": {},
     "output_type": "execute_result"
    },
    {
     "data": {
      "image/png": "[encoded data removed]",
      "text/plain": [
       "<Figure size 1080x360 with 1 Axes>"
      ]
     },
     "metadata": {
      "needs_background": "light"
     },
     "output_type": "display_data"
    }
   ],
   "source": [
    "fig = plt.figure(figsize=(15,5))\n",
    "ax = fig.gca()\n",
    "\n",
    "data.groupby('工作种类')[['双周最高工资']].mean().sort_values(\n",
    "    '双周最高工资', ascending=False).tail(20).plot.bar(stacked=False, ax=ax, color='darkorange')\n",
    "ax.set_title('平均双周最高工资Bottom 20')"
   ]
  },
  {
   "cell_type": "code",
   "execution_count": 41,
   "metadata": {},
   "outputs": [
    {
     "data": {
      "text/plain": [
       "13.931919540229886"
      ]
     },
     "execution_count": 41,
     "metadata": {},
     "output_type": "execute_result"
    }
   ],
   "source": [
    "sorted_df = data.groupby('工作种类')[['双周最高工资']].mean().sort_values(\n",
    "    '双周最高工资', ascending=False)\n",
    "sorted_df.iloc[0][0] / sorted_df.iloc[-1][0]"
   ]
  },
  {
   "cell_type": "code",
   "execution_count": null,
   "metadata": {},
   "outputs": [],
   "source": []
  }
 ],
 "metadata": {
  "kernelspec": {
   "display_name": "Python 3 (ipykernel)",
   "language": "python",
   "name": "python3"
  },
  "language_info": {
   "codemirror_mode": {
    "name": "ipython",
    "version": 3
   },
   "file_extension": ".py",
   "mimetype": "text/x-python",
   "name": "python",
   "nbconvert_exporter": "python",
   "pygments_lexer": "ipython3",
   "version": "3.9.13"
  }
 },
 "nbformat": 4,
 "nbformat_minor": 4
}
