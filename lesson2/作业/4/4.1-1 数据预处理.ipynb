{
 "cells": [
  {
   "cell_type": "code",
   "execution_count": 1,
   "metadata": {
    "ExecuteTime": {
     "end_time": "2020-12-18T03:23:23.042065Z",
     "start_time": "2020-12-18T03:23:22.158049Z"
    }
   },
   "outputs": [],
   "source": [
    "import pandas as pd\n",
    "import re"
   ]
  },
  {
   "cell_type": "code",
   "execution_count": 2,
   "metadata": {},
   "outputs": [
    {
     "name": "stderr",
     "output_type": "stream",
     "text": [
      "C:\\Users\\lb\\AppData\\Local\\Temp\\ipykernel_12976\\3309788504.py:4: FutureWarning: The frame.append method is deprecated and will be removed from pandas in a future version. Use pandas.concat instead.\n",
      "  all_data = all_data.append(data,ignore_index=True)\n",
      "C:\\Users\\lb\\AppData\\Local\\Temp\\ipykernel_12976\\3309788504.py:4: FutureWarning: The frame.append method is deprecated and will be removed from pandas in a future version. Use pandas.concat instead.\n",
      "  all_data = all_data.append(data,ignore_index=True)\n",
      "C:\\Users\\lb\\AppData\\Local\\Temp\\ipykernel_12976\\3309788504.py:4: FutureWarning: The frame.append method is deprecated and will be removed from pandas in a future version. Use pandas.concat instead.\n",
      "  all_data = all_data.append(data,ignore_index=True)\n",
      "C:\\Users\\lb\\AppData\\Local\\Temp\\ipykernel_12976\\3309788504.py:4: FutureWarning: The frame.append method is deprecated and will be removed from pandas in a future version. Use pandas.concat instead.\n",
      "  all_data = all_data.append(data,ignore_index=True)\n",
      "C:\\Users\\lb\\AppData\\Local\\Temp\\ipykernel_12976\\3309788504.py:4: FutureWarning: The frame.append method is deprecated and will be removed from pandas in a future version. Use pandas.concat instead.\n",
      "  all_data = all_data.append(data,ignore_index=True)\n",
      "C:\\Users\\lb\\AppData\\Local\\Temp\\ipykernel_12976\\3309788504.py:4: FutureWarning: The frame.append method is deprecated and will be removed from pandas in a future version. Use pandas.concat instead.\n",
      "  all_data = all_data.append(data,ignore_index=True)\n",
      "C:\\Users\\lb\\AppData\\Local\\Temp\\ipykernel_12976\\3309788504.py:4: FutureWarning: The frame.append method is deprecated and will be removed from pandas in a future version. Use pandas.concat instead.\n",
      "  all_data = all_data.append(data,ignore_index=True)\n",
      "C:\\Users\\lb\\AppData\\Local\\Temp\\ipykernel_12976\\3309788504.py:4: FutureWarning: The frame.append method is deprecated and will be removed from pandas in a future version. Use pandas.concat instead.\n",
      "  all_data = all_data.append(data,ignore_index=True)\n",
      "C:\\Users\\lb\\AppData\\Local\\Temp\\ipykernel_12976\\3309788504.py:4: FutureWarning: The frame.append method is deprecated and will be removed from pandas in a future version. Use pandas.concat instead.\n",
      "  all_data = all_data.append(data,ignore_index=True)\n",
      "C:\\Users\\lb\\AppData\\Local\\Temp\\ipykernel_12976\\3309788504.py:4: FutureWarning: The frame.append method is deprecated and will be removed from pandas in a future version. Use pandas.concat instead.\n",
      "  all_data = all_data.append(data,ignore_index=True)\n",
      "C:\\Users\\lb\\AppData\\Local\\Temp\\ipykernel_12976\\3309788504.py:4: FutureWarning: The frame.append method is deprecated and will be removed from pandas in a future version. Use pandas.concat instead.\n",
      "  all_data = all_data.append(data,ignore_index=True)\n",
      "C:\\Users\\lb\\AppData\\Local\\Temp\\ipykernel_12976\\3309788504.py:4: FutureWarning: The frame.append method is deprecated and will be removed from pandas in a future version. Use pandas.concat instead.\n",
      "  all_data = all_data.append(data,ignore_index=True)\n",
      "C:\\Users\\lb\\AppData\\Local\\Temp\\ipykernel_12976\\3309788504.py:4: FutureWarning: The frame.append method is deprecated and will be removed from pandas in a future version. Use pandas.concat instead.\n",
      "  all_data = all_data.append(data,ignore_index=True)\n",
      "C:\\Users\\lb\\AppData\\Local\\Temp\\ipykernel_12976\\3309788504.py:4: FutureWarning: The frame.append method is deprecated and will be removed from pandas in a future version. Use pandas.concat instead.\n",
      "  all_data = all_data.append(data,ignore_index=True)\n",
      "C:\\Users\\lb\\AppData\\Local\\Temp\\ipykernel_12976\\3309788504.py:4: FutureWarning: The frame.append method is deprecated and will be removed from pandas in a future version. Use pandas.concat instead.\n",
      "  all_data = all_data.append(data,ignore_index=True)\n",
      "C:\\Users\\lb\\AppData\\Local\\Temp\\ipykernel_12976\\3309788504.py:4: FutureWarning: The frame.append method is deprecated and will be removed from pandas in a future version. Use pandas.concat instead.\n",
      "  all_data = all_data.append(data,ignore_index=True)\n",
      "C:\\Users\\lb\\AppData\\Local\\Temp\\ipykernel_12976\\3309788504.py:4: FutureWarning: The frame.append method is deprecated and will be removed from pandas in a future version. Use pandas.concat instead.\n",
      "  all_data = all_data.append(data,ignore_index=True)\n",
      "C:\\Users\\lb\\AppData\\Local\\Temp\\ipykernel_12976\\3309788504.py:4: FutureWarning: The frame.append method is deprecated and will be removed from pandas in a future version. Use pandas.concat instead.\n",
      "  all_data = all_data.append(data,ignore_index=True)\n",
      "C:\\Users\\lb\\AppData\\Local\\Temp\\ipykernel_12976\\3309788504.py:4: FutureWarning: The frame.append method is deprecated and will be removed from pandas in a future version. Use pandas.concat instead.\n",
      "  all_data = all_data.append(data,ignore_index=True)\n",
      "C:\\Users\\lb\\AppData\\Local\\Temp\\ipykernel_12976\\3309788504.py:4: FutureWarning: The frame.append method is deprecated and will be removed from pandas in a future version. Use pandas.concat instead.\n",
      "  all_data = all_data.append(data,ignore_index=True)\n",
      "C:\\Users\\lb\\AppData\\Local\\Temp\\ipykernel_12976\\3309788504.py:4: FutureWarning: The frame.append method is deprecated and will be removed from pandas in a future version. Use pandas.concat instead.\n",
      "  all_data = all_data.append(data,ignore_index=True)\n",
      "C:\\Users\\lb\\AppData\\Local\\Temp\\ipykernel_12976\\3309788504.py:4: FutureWarning: The frame.append method is deprecated and will be removed from pandas in a future version. Use pandas.concat instead.\n",
      "  all_data = all_data.append(data,ignore_index=True)\n",
      "C:\\Users\\lb\\AppData\\Local\\Temp\\ipykernel_12976\\3309788504.py:4: FutureWarning: The frame.append method is deprecated and will be removed from pandas in a future version. Use pandas.concat instead.\n",
      "  all_data = all_data.append(data,ignore_index=True)\n",
      "C:\\Users\\lb\\AppData\\Local\\Temp\\ipykernel_12976\\3309788504.py:4: FutureWarning: The frame.append method is deprecated and will be removed from pandas in a future version. Use pandas.concat instead.\n",
      "  all_data = all_data.append(data,ignore_index=True)\n",
      "C:\\Users\\lb\\AppData\\Local\\Temp\\ipykernel_12976\\3309788504.py:4: FutureWarning: The frame.append method is deprecated and will be removed from pandas in a future version. Use pandas.concat instead.\n",
      "  all_data = all_data.append(data,ignore_index=True)\n",
      "C:\\Users\\lb\\AppData\\Local\\Temp\\ipykernel_12976\\3309788504.py:4: FutureWarning: The frame.append method is deprecated and will be removed from pandas in a future version. Use pandas.concat instead.\n",
      "  all_data = all_data.append(data,ignore_index=True)\n",
      "C:\\Users\\lb\\AppData\\Local\\Temp\\ipykernel_12976\\3309788504.py:4: FutureWarning: The frame.append method is deprecated and will be removed from pandas in a future version. Use pandas.concat instead.\n",
      "  all_data = all_data.append(data,ignore_index=True)\n",
      "C:\\Users\\lb\\AppData\\Local\\Temp\\ipykernel_12976\\3309788504.py:4: FutureWarning: The frame.append method is deprecated and will be removed from pandas in a future version. Use pandas.concat instead.\n",
      "  all_data = all_data.append(data,ignore_index=True)\n",
      "C:\\Users\\lb\\AppData\\Local\\Temp\\ipykernel_12976\\3309788504.py:4: FutureWarning: The frame.append method is deprecated and will be removed from pandas in a future version. Use pandas.concat instead.\n",
      "  all_data = all_data.append(data,ignore_index=True)\n",
      "C:\\Users\\lb\\AppData\\Local\\Temp\\ipykernel_12976\\3309788504.py:4: FutureWarning: The frame.append method is deprecated and will be removed from pandas in a future version. Use pandas.concat instead.\n",
      "  all_data = all_data.append(data,ignore_index=True)\n",
      "C:\\Users\\lb\\AppData\\Local\\Temp\\ipykernel_12976\\3309788504.py:4: FutureWarning: The frame.append method is deprecated and will be removed from pandas in a future version. Use pandas.concat instead.\n",
      "  all_data = all_data.append(data,ignore_index=True)\n",
      "C:\\Users\\lb\\AppData\\Local\\Temp\\ipykernel_12976\\3309788504.py:4: FutureWarning: The frame.append method is deprecated and will be removed from pandas in a future version. Use pandas.concat instead.\n",
      "  all_data = all_data.append(data,ignore_index=True)\n",
      "C:\\Users\\lb\\AppData\\Local\\Temp\\ipykernel_12976\\3309788504.py:4: FutureWarning: The frame.append method is deprecated and will be removed from pandas in a future version. Use pandas.concat instead.\n",
      "  all_data = all_data.append(data,ignore_index=True)\n",
      "C:\\Users\\lb\\AppData\\Local\\Temp\\ipykernel_12976\\3309788504.py:4: FutureWarning: The frame.append method is deprecated and will be removed from pandas in a future version. Use pandas.concat instead.\n",
      "  all_data = all_data.append(data,ignore_index=True)\n",
      "C:\\Users\\lb\\AppData\\Local\\Temp\\ipykernel_12976\\3309788504.py:4: FutureWarning: The frame.append method is deprecated and will be removed from pandas in a future version. Use pandas.concat instead.\n",
      "  all_data = all_data.append(data,ignore_index=True)\n",
      "C:\\Users\\lb\\AppData\\Local\\Temp\\ipykernel_12976\\3309788504.py:4: FutureWarning: The frame.append method is deprecated and will be removed from pandas in a future version. Use pandas.concat instead.\n",
      "  all_data = all_data.append(data,ignore_index=True)\n",
      "C:\\Users\\lb\\AppData\\Local\\Temp\\ipykernel_12976\\3309788504.py:4: FutureWarning: The frame.append method is deprecated and will be removed from pandas in a future version. Use pandas.concat instead.\n",
      "  all_data = all_data.append(data,ignore_index=True)\n",
      "C:\\Users\\lb\\AppData\\Local\\Temp\\ipykernel_12976\\3309788504.py:4: FutureWarning: The frame.append method is deprecated and will be removed from pandas in a future version. Use pandas.concat instead.\n",
      "  all_data = all_data.append(data,ignore_index=True)\n",
      "C:\\Users\\lb\\AppData\\Local\\Temp\\ipykernel_12976\\3309788504.py:4: FutureWarning: The frame.append method is deprecated and will be removed from pandas in a future version. Use pandas.concat instead.\n",
      "  all_data = all_data.append(data,ignore_index=True)\n",
      "C:\\Users\\lb\\AppData\\Local\\Temp\\ipykernel_12976\\3309788504.py:4: FutureWarning: The frame.append method is deprecated and will be removed from pandas in a future version. Use pandas.concat instead.\n",
      "  all_data = all_data.append(data,ignore_index=True)\n",
      "C:\\Users\\lb\\AppData\\Local\\Temp\\ipykernel_12976\\3309788504.py:4: FutureWarning: The frame.append method is deprecated and will be removed from pandas in a future version. Use pandas.concat instead.\n",
      "  all_data = all_data.append(data,ignore_index=True)\n",
      "C:\\Users\\lb\\AppData\\Local\\Temp\\ipykernel_12976\\3309788504.py:4: FutureWarning: The frame.append method is deprecated and will be removed from pandas in a future version. Use pandas.concat instead.\n",
      "  all_data = all_data.append(data,ignore_index=True)\n"
     ]
    },
    {
     "name": "stderr",
     "output_type": "stream",
     "text": [
      "C:\\Users\\lb\\AppData\\Local\\Temp\\ipykernel_12976\\3309788504.py:4: FutureWarning: The frame.append method is deprecated and will be removed from pandas in a future version. Use pandas.concat instead.\n",
      "  all_data = all_data.append(data,ignore_index=True)\n",
      "C:\\Users\\lb\\AppData\\Local\\Temp\\ipykernel_12976\\3309788504.py:4: FutureWarning: The frame.append method is deprecated and will be removed from pandas in a future version. Use pandas.concat instead.\n",
      "  all_data = all_data.append(data,ignore_index=True)\n",
      "C:\\Users\\lb\\AppData\\Local\\Temp\\ipykernel_12976\\3309788504.py:4: FutureWarning: The frame.append method is deprecated and will be removed from pandas in a future version. Use pandas.concat instead.\n",
      "  all_data = all_data.append(data,ignore_index=True)\n",
      "C:\\Users\\lb\\AppData\\Local\\Temp\\ipykernel_12976\\3309788504.py:4: FutureWarning: The frame.append method is deprecated and will be removed from pandas in a future version. Use pandas.concat instead.\n",
      "  all_data = all_data.append(data,ignore_index=True)\n",
      "C:\\Users\\lb\\AppData\\Local\\Temp\\ipykernel_12976\\3309788504.py:4: FutureWarning: The frame.append method is deprecated and will be removed from pandas in a future version. Use pandas.concat instead.\n",
      "  all_data = all_data.append(data,ignore_index=True)\n",
      "C:\\Users\\lb\\AppData\\Local\\Temp\\ipykernel_12976\\3309788504.py:4: FutureWarning: The frame.append method is deprecated and will be removed from pandas in a future version. Use pandas.concat instead.\n",
      "  all_data = all_data.append(data,ignore_index=True)\n",
      "C:\\Users\\lb\\AppData\\Local\\Temp\\ipykernel_12976\\3309788504.py:4: FutureWarning: The frame.append method is deprecated and will be removed from pandas in a future version. Use pandas.concat instead.\n",
      "  all_data = all_data.append(data,ignore_index=True)\n",
      "C:\\Users\\lb\\AppData\\Local\\Temp\\ipykernel_12976\\3309788504.py:4: FutureWarning: The frame.append method is deprecated and will be removed from pandas in a future version. Use pandas.concat instead.\n",
      "  all_data = all_data.append(data,ignore_index=True)\n",
      "C:\\Users\\lb\\AppData\\Local\\Temp\\ipykernel_12976\\3309788504.py:4: FutureWarning: The frame.append method is deprecated and will be removed from pandas in a future version. Use pandas.concat instead.\n",
      "  all_data = all_data.append(data,ignore_index=True)\n",
      "C:\\Users\\lb\\AppData\\Local\\Temp\\ipykernel_12976\\3309788504.py:4: FutureWarning: The frame.append method is deprecated and will be removed from pandas in a future version. Use pandas.concat instead.\n",
      "  all_data = all_data.append(data,ignore_index=True)\n",
      "C:\\Users\\lb\\AppData\\Local\\Temp\\ipykernel_12976\\3309788504.py:4: FutureWarning: The frame.append method is deprecated and will be removed from pandas in a future version. Use pandas.concat instead.\n",
      "  all_data = all_data.append(data,ignore_index=True)\n",
      "C:\\Users\\lb\\AppData\\Local\\Temp\\ipykernel_12976\\3309788504.py:4: FutureWarning: The frame.append method is deprecated and will be removed from pandas in a future version. Use pandas.concat instead.\n",
      "  all_data = all_data.append(data,ignore_index=True)\n",
      "C:\\Users\\lb\\AppData\\Local\\Temp\\ipykernel_12976\\3309788504.py:4: FutureWarning: The frame.append method is deprecated and will be removed from pandas in a future version. Use pandas.concat instead.\n",
      "  all_data = all_data.append(data,ignore_index=True)\n",
      "C:\\Users\\lb\\AppData\\Local\\Temp\\ipykernel_12976\\3309788504.py:4: FutureWarning: The frame.append method is deprecated and will be removed from pandas in a future version. Use pandas.concat instead.\n",
      "  all_data = all_data.append(data,ignore_index=True)\n",
      "C:\\Users\\lb\\AppData\\Local\\Temp\\ipykernel_12976\\3309788504.py:4: FutureWarning: The frame.append method is deprecated and will be removed from pandas in a future version. Use pandas.concat instead.\n",
      "  all_data = all_data.append(data,ignore_index=True)\n",
      "C:\\Users\\lb\\AppData\\Local\\Temp\\ipykernel_12976\\3309788504.py:4: FutureWarning: The frame.append method is deprecated and will be removed from pandas in a future version. Use pandas.concat instead.\n",
      "  all_data = all_data.append(data,ignore_index=True)\n",
      "C:\\Users\\lb\\AppData\\Local\\Temp\\ipykernel_12976\\3309788504.py:4: FutureWarning: The frame.append method is deprecated and will be removed from pandas in a future version. Use pandas.concat instead.\n",
      "  all_data = all_data.append(data,ignore_index=True)\n",
      "C:\\Users\\lb\\AppData\\Local\\Temp\\ipykernel_12976\\3309788504.py:4: FutureWarning: The frame.append method is deprecated and will be removed from pandas in a future version. Use pandas.concat instead.\n",
      "  all_data = all_data.append(data,ignore_index=True)\n",
      "C:\\Users\\lb\\AppData\\Local\\Temp\\ipykernel_12976\\3309788504.py:4: FutureWarning: The frame.append method is deprecated and will be removed from pandas in a future version. Use pandas.concat instead.\n",
      "  all_data = all_data.append(data,ignore_index=True)\n",
      "C:\\Users\\lb\\AppData\\Local\\Temp\\ipykernel_12976\\3309788504.py:4: FutureWarning: The frame.append method is deprecated and will be removed from pandas in a future version. Use pandas.concat instead.\n",
      "  all_data = all_data.append(data,ignore_index=True)\n",
      "C:\\Users\\lb\\AppData\\Local\\Temp\\ipykernel_12976\\3309788504.py:4: FutureWarning: The frame.append method is deprecated and will be removed from pandas in a future version. Use pandas.concat instead.\n",
      "  all_data = all_data.append(data,ignore_index=True)\n",
      "C:\\Users\\lb\\AppData\\Local\\Temp\\ipykernel_12976\\3309788504.py:4: FutureWarning: The frame.append method is deprecated and will be removed from pandas in a future version. Use pandas.concat instead.\n",
      "  all_data = all_data.append(data,ignore_index=True)\n",
      "C:\\Users\\lb\\AppData\\Local\\Temp\\ipykernel_12976\\3309788504.py:4: FutureWarning: The frame.append method is deprecated and will be removed from pandas in a future version. Use pandas.concat instead.\n",
      "  all_data = all_data.append(data,ignore_index=True)\n",
      "C:\\Users\\lb\\AppData\\Local\\Temp\\ipykernel_12976\\3309788504.py:4: FutureWarning: The frame.append method is deprecated and will be removed from pandas in a future version. Use pandas.concat instead.\n",
      "  all_data = all_data.append(data,ignore_index=True)\n",
      "C:\\Users\\lb\\AppData\\Local\\Temp\\ipykernel_12976\\3309788504.py:4: FutureWarning: The frame.append method is deprecated and will be removed from pandas in a future version. Use pandas.concat instead.\n",
      "  all_data = all_data.append(data,ignore_index=True)\n",
      "C:\\Users\\lb\\AppData\\Local\\Temp\\ipykernel_12976\\3309788504.py:4: FutureWarning: The frame.append method is deprecated and will be removed from pandas in a future version. Use pandas.concat instead.\n",
      "  all_data = all_data.append(data,ignore_index=True)\n",
      "C:\\Users\\lb\\AppData\\Local\\Temp\\ipykernel_12976\\3309788504.py:4: FutureWarning: The frame.append method is deprecated and will be removed from pandas in a future version. Use pandas.concat instead.\n",
      "  all_data = all_data.append(data,ignore_index=True)\n",
      "C:\\Users\\lb\\AppData\\Local\\Temp\\ipykernel_12976\\3309788504.py:4: FutureWarning: The frame.append method is deprecated and will be removed from pandas in a future version. Use pandas.concat instead.\n",
      "  all_data = all_data.append(data,ignore_index=True)\n",
      "C:\\Users\\lb\\AppData\\Local\\Temp\\ipykernel_12976\\3309788504.py:4: FutureWarning: The frame.append method is deprecated and will be removed from pandas in a future version. Use pandas.concat instead.\n",
      "  all_data = all_data.append(data,ignore_index=True)\n",
      "C:\\Users\\lb\\AppData\\Local\\Temp\\ipykernel_12976\\3309788504.py:4: FutureWarning: The frame.append method is deprecated and will be removed from pandas in a future version. Use pandas.concat instead.\n",
      "  all_data = all_data.append(data,ignore_index=True)\n",
      "C:\\Users\\lb\\AppData\\Local\\Temp\\ipykernel_12976\\3309788504.py:4: FutureWarning: The frame.append method is deprecated and will be removed from pandas in a future version. Use pandas.concat instead.\n",
      "  all_data = all_data.append(data,ignore_index=True)\n",
      "C:\\Users\\lb\\AppData\\Local\\Temp\\ipykernel_12976\\3309788504.py:4: FutureWarning: The frame.append method is deprecated and will be removed from pandas in a future version. Use pandas.concat instead.\n",
      "  all_data = all_data.append(data,ignore_index=True)\n",
      "C:\\Users\\lb\\AppData\\Local\\Temp\\ipykernel_12976\\3309788504.py:4: FutureWarning: The frame.append method is deprecated and will be removed from pandas in a future version. Use pandas.concat instead.\n",
      "  all_data = all_data.append(data,ignore_index=True)\n",
      "C:\\Users\\lb\\AppData\\Local\\Temp\\ipykernel_12976\\3309788504.py:4: FutureWarning: The frame.append method is deprecated and will be removed from pandas in a future version. Use pandas.concat instead.\n",
      "  all_data = all_data.append(data,ignore_index=True)\n",
      "C:\\Users\\lb\\AppData\\Local\\Temp\\ipykernel_12976\\3309788504.py:4: FutureWarning: The frame.append method is deprecated and will be removed from pandas in a future version. Use pandas.concat instead.\n",
      "  all_data = all_data.append(data,ignore_index=True)\n",
      "C:\\Users\\lb\\AppData\\Local\\Temp\\ipykernel_12976\\3309788504.py:4: FutureWarning: The frame.append method is deprecated and will be removed from pandas in a future version. Use pandas.concat instead.\n",
      "  all_data = all_data.append(data,ignore_index=True)\n",
      "C:\\Users\\lb\\AppData\\Local\\Temp\\ipykernel_12976\\3309788504.py:4: FutureWarning: The frame.append method is deprecated and will be removed from pandas in a future version. Use pandas.concat instead.\n",
      "  all_data = all_data.append(data,ignore_index=True)\n",
      "C:\\Users\\lb\\AppData\\Local\\Temp\\ipykernel_12976\\3309788504.py:4: FutureWarning: The frame.append method is deprecated and will be removed from pandas in a future version. Use pandas.concat instead.\n",
      "  all_data = all_data.append(data,ignore_index=True)\n"
     ]
    },
    {
     "name": "stderr",
     "output_type": "stream",
     "text": [
      "C:\\Users\\lb\\AppData\\Local\\Temp\\ipykernel_12976\\3309788504.py:4: FutureWarning: The frame.append method is deprecated and will be removed from pandas in a future version. Use pandas.concat instead.\n",
      "  all_data = all_data.append(data,ignore_index=True)\n",
      "C:\\Users\\lb\\AppData\\Local\\Temp\\ipykernel_12976\\3309788504.py:4: FutureWarning: The frame.append method is deprecated and will be removed from pandas in a future version. Use pandas.concat instead.\n",
      "  all_data = all_data.append(data,ignore_index=True)\n",
      "C:\\Users\\lb\\AppData\\Local\\Temp\\ipykernel_12976\\3309788504.py:4: FutureWarning: The frame.append method is deprecated and will be removed from pandas in a future version. Use pandas.concat instead.\n",
      "  all_data = all_data.append(data,ignore_index=True)\n",
      "C:\\Users\\lb\\AppData\\Local\\Temp\\ipykernel_12976\\3309788504.py:4: FutureWarning: The frame.append method is deprecated and will be removed from pandas in a future version. Use pandas.concat instead.\n",
      "  all_data = all_data.append(data,ignore_index=True)\n",
      "C:\\Users\\lb\\AppData\\Local\\Temp\\ipykernel_12976\\3309788504.py:4: FutureWarning: The frame.append method is deprecated and will be removed from pandas in a future version. Use pandas.concat instead.\n",
      "  all_data = all_data.append(data,ignore_index=True)\n",
      "C:\\Users\\lb\\AppData\\Local\\Temp\\ipykernel_12976\\3309788504.py:4: FutureWarning: The frame.append method is deprecated and will be removed from pandas in a future version. Use pandas.concat instead.\n",
      "  all_data = all_data.append(data,ignore_index=True)\n",
      "C:\\Users\\lb\\AppData\\Local\\Temp\\ipykernel_12976\\3309788504.py:4: FutureWarning: The frame.append method is deprecated and will be removed from pandas in a future version. Use pandas.concat instead.\n",
      "  all_data = all_data.append(data,ignore_index=True)\n",
      "C:\\Users\\lb\\AppData\\Local\\Temp\\ipykernel_12976\\3309788504.py:4: FutureWarning: The frame.append method is deprecated and will be removed from pandas in a future version. Use pandas.concat instead.\n",
      "  all_data = all_data.append(data,ignore_index=True)\n",
      "C:\\Users\\lb\\AppData\\Local\\Temp\\ipykernel_12976\\3309788504.py:4: FutureWarning: The frame.append method is deprecated and will be removed from pandas in a future version. Use pandas.concat instead.\n",
      "  all_data = all_data.append(data,ignore_index=True)\n",
      "C:\\Users\\lb\\AppData\\Local\\Temp\\ipykernel_12976\\3309788504.py:4: FutureWarning: The frame.append method is deprecated and will be removed from pandas in a future version. Use pandas.concat instead.\n",
      "  all_data = all_data.append(data,ignore_index=True)\n",
      "C:\\Users\\lb\\AppData\\Local\\Temp\\ipykernel_12976\\3309788504.py:4: FutureWarning: The frame.append method is deprecated and will be removed from pandas in a future version. Use pandas.concat instead.\n",
      "  all_data = all_data.append(data,ignore_index=True)\n",
      "C:\\Users\\lb\\AppData\\Local\\Temp\\ipykernel_12976\\3309788504.py:4: FutureWarning: The frame.append method is deprecated and will be removed from pandas in a future version. Use pandas.concat instead.\n",
      "  all_data = all_data.append(data,ignore_index=True)\n",
      "C:\\Users\\lb\\AppData\\Local\\Temp\\ipykernel_12976\\3309788504.py:4: FutureWarning: The frame.append method is deprecated and will be removed from pandas in a future version. Use pandas.concat instead.\n",
      "  all_data = all_data.append(data,ignore_index=True)\n",
      "C:\\Users\\lb\\AppData\\Local\\Temp\\ipykernel_12976\\3309788504.py:4: FutureWarning: The frame.append method is deprecated and will be removed from pandas in a future version. Use pandas.concat instead.\n",
      "  all_data = all_data.append(data,ignore_index=True)\n",
      "C:\\Users\\lb\\AppData\\Local\\Temp\\ipykernel_12976\\3309788504.py:4: FutureWarning: The frame.append method is deprecated and will be removed from pandas in a future version. Use pandas.concat instead.\n",
      "  all_data = all_data.append(data,ignore_index=True)\n",
      "C:\\Users\\lb\\AppData\\Local\\Temp\\ipykernel_12976\\3309788504.py:4: FutureWarning: The frame.append method is deprecated and will be removed from pandas in a future version. Use pandas.concat instead.\n",
      "  all_data = all_data.append(data,ignore_index=True)\n",
      "C:\\Users\\lb\\AppData\\Local\\Temp\\ipykernel_12976\\3309788504.py:4: FutureWarning: The frame.append method is deprecated and will be removed from pandas in a future version. Use pandas.concat instead.\n",
      "  all_data = all_data.append(data,ignore_index=True)\n"
     ]
    }
   ],
   "source": [
    "all_data = pd.read_csv('./data/4.1/tmall1.txt')\n",
    "for i in range(97):\n",
    "    data = pd.read_csv('./data/4.1/tmall'+ str(i+2)+ '.txt')\n",
    "    all_data = all_data.append(data,ignore_index=True)"
   ]
  },
  {
   "cell_type": "code",
   "execution_count": 3,
   "metadata": {
    "ExecuteTime": {
     "end_time": "2020-12-18T03:25:10.421286Z",
     "start_time": "2020-12-18T03:25:10.362385Z"
    }
   },
   "outputs": [],
   "source": [
    "all_data.dropna(subset=['price','monthly_sales','productDescription'],inplace = True,)  #删除价格、销量为空值的行"
   ]
  },
  {
   "cell_type": "code",
   "execution_count": 4,
   "metadata": {
    "ExecuteTime": {
     "end_time": "2020-12-18T03:25:10.467396Z",
     "start_time": "2020-12-18T03:25:10.424289Z"
    }
   },
   "outputs": [],
   "source": [
    "all_data.reset_index(drop=True,inplace = True)"
   ]
  },
  {
   "cell_type": "code",
   "execution_count": 5,
   "metadata": {
    "ExecuteTime": {
     "end_time": "2020-12-18T03:25:10.561050Z",
     "start_time": "2020-12-18T03:25:10.470335Z"
    }
   },
   "outputs": [],
   "source": [
    "all_data['age'] = ''"
   ]
  },
  {
   "cell_type": "code",
   "execution_count": 6,
   "metadata": {
    "ExecuteTime": {
     "end_time": "2020-12-18T03:25:11.385873Z",
     "start_time": "2020-12-18T03:25:10.564048Z"
    }
   },
   "outputs": [
    {
     "name": "stderr",
     "output_type": "stream",
     "text": [
      "C:\\Users\\lb\\AppData\\Local\\Temp\\ipykernel_12976\\1502166080.py:3: SettingWithCopyWarning: \n",
      "A value is trying to be set on a copy of a slice from a DataFrame\n",
      "\n",
      "See the caveats in the documentation: https://pandas.pydata.org/pandas-docs/stable/user_guide/indexing.html#returning-a-view-versus-a-copy\n",
      "  all_data['age'][j] = pattern.findall(all_data['productDescription'][j])\n"
     ]
    }
   ],
   "source": [
    "pattern = re.compile('适用年龄:\\xa0(.+)周岁',re.DOTALL)\n",
    "for j in range(len(all_data)):\n",
    "    all_data['age'][j] = pattern.findall(all_data['productDescription'][j])"
   ]
  },
  {
   "cell_type": "code",
   "execution_count": 7,
   "metadata": {
    "ExecuteTime": {
     "end_time": "2020-12-18T03:25:25.351032Z",
     "start_time": "2020-12-18T03:25:25.331043Z"
    }
   },
   "outputs": [],
   "source": [
    "all_data['shopAge'] = 0\n",
    "all_data['shopPlace'] = ''"
   ]
  },
  {
   "cell_type": "code",
   "execution_count": 8,
   "metadata": {
    "ExecuteTime": {
     "end_time": "2020-12-18T03:25:38.731684Z",
     "start_time": "2020-12-18T03:25:37.139034Z"
    }
   },
   "outputs": [
    {
     "name": "stderr",
     "output_type": "stream",
     "text": [
      "C:\\Users\\lb\\AppData\\Local\\Temp\\ipykernel_12976\\662763002.py:4: SettingWithCopyWarning: \n",
      "A value is trying to be set on a copy of a slice from a DataFrame\n",
      "\n",
      "See the caveats in the documentation: https://pandas.pydata.org/pandas-docs/stable/user_guide/indexing.html#returning-a-view-versus-a-copy\n",
      "  all_data['shopAge'][j] = pattern2.findall(all_data['seller'][j])\n",
      "C:\\Users\\lb\\AppData\\Local\\Temp\\ipykernel_12976\\662763002.py:5: SettingWithCopyWarning: \n",
      "A value is trying to be set on a copy of a slice from a DataFrame\n",
      "\n",
      "See the caveats in the documentation: https://pandas.pydata.org/pandas-docs/stable/user_guide/indexing.html#returning-a-view-versus-a-copy\n",
      "  all_data['shopPlace'][j] = pattern3.findall(all_data['seller'][j])\n"
     ]
    }
   ],
   "source": [
    "pattern2 = re.compile('天猫(.+)年店')\n",
    "pattern3 = re.compile('所在地区：(.+)\\n\\n\\n\\n',re.DOTALL)\n",
    "for j in range(len(all_data)):\n",
    "    all_data['shopAge'][j] = pattern2.findall(all_data['seller'][j])\n",
    "    all_data['shopPlace'][j] = pattern3.findall(all_data['seller'][j])"
   ]
  },
  {
   "cell_type": "code",
   "execution_count": 9,
   "metadata": {
    "ExecuteTime": {
     "end_time": "2020-12-18T03:26:08.914013Z",
     "start_time": "2020-12-18T03:26:08.899039Z"
    }
   },
   "outputs": [],
   "source": [
    "all_data['shopMiaoshu'] = 0\n",
    "all_data['shopWuliu'] = 0\n",
    "all_data['shopFuwu'] = 0"
   ]
  },
  {
   "cell_type": "code",
   "execution_count": 10,
   "metadata": {
    "ExecuteTime": {
     "end_time": "2020-12-18T03:26:14.513886Z",
     "start_time": "2020-12-18T03:26:12.395022Z"
    }
   },
   "outputs": [
    {
     "name": "stderr",
     "output_type": "stream",
     "text": [
      "C:\\Users\\lb\\AppData\\Local\\Temp\\ipykernel_12976\\1797833593.py:5: SettingWithCopyWarning: \n",
      "A value is trying to be set on a copy of a slice from a DataFrame\n",
      "\n",
      "See the caveats in the documentation: https://pandas.pydata.org/pandas-docs/stable/user_guide/indexing.html#returning-a-view-versus-a-copy\n",
      "  all_data['shopMiaoshu'][j] = pattern4.findall(all_data['info'][j])\n",
      "C:\\Users\\lb\\AppData\\Local\\Temp\\ipykernel_12976\\1797833593.py:6: SettingWithCopyWarning: \n",
      "A value is trying to be set on a copy of a slice from a DataFrame\n",
      "\n",
      "See the caveats in the documentation: https://pandas.pydata.org/pandas-docs/stable/user_guide/indexing.html#returning-a-view-versus-a-copy\n",
      "  all_data['shopWuliu'][j] = pattern5.findall(all_data['info'][j])\n",
      "C:\\Users\\lb\\AppData\\Local\\Temp\\ipykernel_12976\\1797833593.py:7: SettingWithCopyWarning: \n",
      "A value is trying to be set on a copy of a slice from a DataFrame\n",
      "\n",
      "See the caveats in the documentation: https://pandas.pydata.org/pandas-docs/stable/user_guide/indexing.html#returning-a-view-versus-a-copy\n",
      "  all_data['shopFuwu'][j] = pattern6.findall(all_data['info'][j])\n"
     ]
    }
   ],
   "source": [
    "pattern4 = re.compile('宝贝与描述相符：\\n(.+?)分')\n",
    "pattern5 = re.compile('卖家的服务态度：\\n(.+?)分')\n",
    "pattern6 = re.compile('物流服务的质量：\\n(.+?)分')\n",
    "for j in range(len(all_data)):\n",
    "    all_data['shopMiaoshu'][j] = pattern4.findall(all_data['info'][j])\n",
    "    all_data['shopWuliu'][j] = pattern5.findall(all_data['info'][j])\n",
    "    all_data['shopFuwu'][j] = pattern6.findall(all_data['info'][j])"
   ]
  },
  {
   "cell_type": "code",
   "execution_count": 11,
   "metadata": {
    "ExecuteTime": {
     "end_time": "2020-12-18T03:26:39.457189Z",
     "start_time": "2020-12-18T03:26:39.435201Z"
    }
   },
   "outputs": [],
   "source": [
    "data = all_data[['goodsName','shopName','shopAge','shopPlace','shopMiaoshu','shopWuliu','shopFuwu','age','price','monthly_sales','productDescription']]"
   ]
  },
  {
   "cell_type": "code",
   "execution_count": 12,
   "metadata": {
    "ExecuteTime": {
     "end_time": "2020-12-18T03:27:07.177907Z",
     "start_time": "2020-12-18T03:27:07.129981Z"
    }
   },
   "outputs": [
    {
     "name": "stderr",
     "output_type": "stream",
     "text": [
      "C:\\Users\\lb\\AppData\\Local\\Temp\\ipykernel_12976\\3825961384.py:1: SettingWithCopyWarning: \n",
      "A value is trying to be set on a copy of a slice from a DataFrame.\n",
      "Try using .loc[row_indexer,col_indexer] = value instead\n",
      "\n",
      "See the caveats in the documentation: https://pandas.pydata.org/pandas-docs/stable/user_guide/indexing.html#returning-a-view-versus-a-copy\n",
      "  data['shopAge'] = data['shopAge'].str.get(0)\n",
      "C:\\Users\\lb\\AppData\\Local\\Temp\\ipykernel_12976\\3825961384.py:2: SettingWithCopyWarning: \n",
      "A value is trying to be set on a copy of a slice from a DataFrame.\n",
      "Try using .loc[row_indexer,col_indexer] = value instead\n",
      "\n",
      "See the caveats in the documentation: https://pandas.pydata.org/pandas-docs/stable/user_guide/indexing.html#returning-a-view-versus-a-copy\n",
      "  data['shopPlace'] = data['shopPlace'].str.get(0)\n",
      "C:\\Users\\lb\\AppData\\Local\\Temp\\ipykernel_12976\\3825961384.py:3: SettingWithCopyWarning: \n",
      "A value is trying to be set on a copy of a slice from a DataFrame.\n",
      "Try using .loc[row_indexer,col_indexer] = value instead\n",
      "\n",
      "See the caveats in the documentation: https://pandas.pydata.org/pandas-docs/stable/user_guide/indexing.html#returning-a-view-versus-a-copy\n",
      "  data['shopMiaoshu'] = data['shopMiaoshu'].str.get(0)\n",
      "C:\\Users\\lb\\AppData\\Local\\Temp\\ipykernel_12976\\3825961384.py:4: SettingWithCopyWarning: \n",
      "A value is trying to be set on a copy of a slice from a DataFrame.\n",
      "Try using .loc[row_indexer,col_indexer] = value instead\n",
      "\n",
      "See the caveats in the documentation: https://pandas.pydata.org/pandas-docs/stable/user_guide/indexing.html#returning-a-view-versus-a-copy\n",
      "  data['shopWuliu'] = data['shopWuliu'].str.get(0)\n",
      "C:\\Users\\lb\\AppData\\Local\\Temp\\ipykernel_12976\\3825961384.py:5: SettingWithCopyWarning: \n",
      "A value is trying to be set on a copy of a slice from a DataFrame.\n",
      "Try using .loc[row_indexer,col_indexer] = value instead\n",
      "\n",
      "See the caveats in the documentation: https://pandas.pydata.org/pandas-docs/stable/user_guide/indexing.html#returning-a-view-versus-a-copy\n",
      "  data['shopFuwu'] = data['shopFuwu'].str.get(0)\n",
      "C:\\Users\\lb\\AppData\\Local\\Temp\\ipykernel_12976\\3825961384.py:6: SettingWithCopyWarning: \n",
      "A value is trying to be set on a copy of a slice from a DataFrame.\n",
      "Try using .loc[row_indexer,col_indexer] = value instead\n",
      "\n",
      "See the caveats in the documentation: https://pandas.pydata.org/pandas-docs/stable/user_guide/indexing.html#returning-a-view-versus-a-copy\n",
      "  data['age'] = data['age'].str.get(0)\n"
     ]
    }
   ],
   "source": [
    "data['shopAge'] = data['shopAge'].str.get(0)\n",
    "data['shopPlace'] = data['shopPlace'].str.get(0)\n",
    "data['shopMiaoshu'] = data['shopMiaoshu'].str.get(0)\n",
    "data['shopWuliu'] = data['shopWuliu'].str.get(0)\n",
    "data['shopFuwu'] = data['shopFuwu'].str.get(0)\n",
    "data['age'] = data['age'].str.get(0)"
   ]
  },
  {
   "cell_type": "code",
   "execution_count": 13,
   "metadata": {
    "ExecuteTime": {
     "end_time": "2020-12-18T03:27:23.477961Z",
     "start_time": "2020-12-18T03:27:23.445001Z"
    }
   },
   "outputs": [
    {
     "name": "stderr",
     "output_type": "stream",
     "text": [
      "C:\\Users\\lb\\AppData\\Local\\Temp\\ipykernel_12976\\3206766163.py:1: SettingWithCopyWarning: \n",
      "A value is trying to be set on a copy of a slice from a DataFrame.\n",
      "Try using .loc[row_indexer,col_indexer] = value instead\n",
      "\n",
      "See the caveats in the documentation: https://pandas.pydata.org/pandas-docs/stable/user_guide/indexing.html#returning-a-view-versus-a-copy\n",
      "  data['shopPlace'] = data.shopPlace.str.replace('市','')\n",
      "C:\\Users\\lb\\AppData\\Local\\Temp\\ipykernel_12976\\3206766163.py:2: SettingWithCopyWarning: \n",
      "A value is trying to be set on a copy of a slice from a DataFrame.\n",
      "Try using .loc[row_indexer,col_indexer] = value instead\n",
      "\n",
      "See the caveats in the documentation: https://pandas.pydata.org/pandas-docs/stable/user_guide/indexing.html#returning-a-view-versus-a-copy\n",
      "  data['monthly_sales'] = data.monthly_sales.str.replace('笔','')\n"
     ]
    }
   ],
   "source": [
    "data['shopPlace'] = data.shopPlace.str.replace('市','')\n",
    "data['monthly_sales'] = data.monthly_sales.str.replace('笔','')"
   ]
  },
  {
   "cell_type": "code",
   "execution_count": 14,
   "metadata": {
    "ExecuteTime": {
     "end_time": "2020-12-18T03:27:26.686424Z",
     "start_time": "2020-12-18T03:27:26.565001Z"
    },
    "scrolled": false
   },
   "outputs": [
    {
     "name": "stderr",
     "output_type": "stream",
     "text": [
      "C:\\Users\\lb\\AppData\\Local\\Temp\\ipykernel_12976\\942858021.py:1: SettingWithCopyWarning: \n",
      "A value is trying to be set on a copy of a slice from a DataFrame\n",
      "\n",
      "See the caveats in the documentation: https://pandas.pydata.org/pandas-docs/stable/user_guide/indexing.html#returning-a-view-versus-a-copy\n",
      "  data['shopAge'].fillna(0,inplace=True)\n"
     ]
    }
   ],
   "source": [
    "data['shopAge'].fillna(0,inplace=True)"
   ]
  },
  {
   "cell_type": "code",
   "execution_count": 15,
   "metadata": {
    "ExecuteTime": {
     "end_time": "2020-12-18T03:27:38.384013Z",
     "start_time": "2020-12-18T03:27:38.355032Z"
    }
   },
   "outputs": [
    {
     "data": {
      "text/plain": [
       "goodsName              0\n",
       "shopName               0\n",
       "shopAge                0\n",
       "shopPlace              0\n",
       "shopMiaoshu            0\n",
       "shopWuliu              0\n",
       "shopFuwu               1\n",
       "age                   27\n",
       "price                  0\n",
       "monthly_sales          0\n",
       "productDescription     0\n",
       "dtype: int64"
      ]
     },
     "execution_count": 15,
     "metadata": {},
     "output_type": "execute_result"
    }
   ],
   "source": [
    "data.isnull().sum()"
   ]
  },
  {
   "cell_type": "code",
   "execution_count": 16,
   "metadata": {
    "ExecuteTime": {
     "end_time": "2020-12-18T03:27:48.449535Z",
     "start_time": "2020-12-18T03:27:48.426548Z"
    }
   },
   "outputs": [
    {
     "name": "stderr",
     "output_type": "stream",
     "text": [
      "C:\\Users\\lb\\AppData\\Local\\Temp\\ipykernel_12976\\339833404.py:1: SettingWithCopyWarning: \n",
      "A value is trying to be set on a copy of a slice from a DataFrame\n",
      "\n",
      "See the caveats in the documentation: https://pandas.pydata.org/pandas-docs/stable/user_guide/indexing.html#returning-a-view-versus-a-copy\n",
      "  data.dropna(inplace = True)\n"
     ]
    }
   ],
   "source": [
    "data.dropna(inplace = True)"
   ]
  },
  {
   "cell_type": "code",
   "execution_count": 17,
   "metadata": {
    "ExecuteTime": {
     "end_time": "2020-12-18T03:27:58.759382Z",
     "start_time": "2020-12-18T03:27:58.754403Z"
    }
   },
   "outputs": [],
   "source": [
    "data.reset_index(drop=True,inplace = True)"
   ]
  },
  {
   "cell_type": "code",
   "execution_count": 18,
   "metadata": {
    "ExecuteTime": {
     "end_time": "2020-12-18T03:29:45.572984Z",
     "start_time": "2020-12-18T03:29:45.552013Z"
    }
   },
   "outputs": [
    {
     "data": {
      "text/html": [
       "<div>\n",
       "<style scoped>\n",
       "    .dataframe tbody tr th:only-of-type {\n",
       "        vertical-align: middle;\n",
       "    }\n",
       "\n",
       "    .dataframe tbody tr th {\n",
       "        vertical-align: top;\n",
       "    }\n",
       "\n",
       "    .dataframe thead th {\n",
       "        text-align: right;\n",
       "    }\n",
       "</style>\n",
       "<table border=\"1\" class=\"dataframe\">\n",
       "  <thead>\n",
       "    <tr style=\"text-align: right;\">\n",
       "      <th></th>\n",
       "      <th>goodsName</th>\n",
       "      <th>shopName</th>\n",
       "      <th>shopAge</th>\n",
       "      <th>shopPlace</th>\n",
       "      <th>shopMiaoshu</th>\n",
       "      <th>shopWuliu</th>\n",
       "      <th>shopFuwu</th>\n",
       "      <th>age</th>\n",
       "      <th>price</th>\n",
       "      <th>monthly_sales</th>\n",
       "      <th>productDescription</th>\n",
       "    </tr>\n",
       "  </thead>\n",
       "  <tbody>\n",
       "    <tr>\n",
       "      <th>0</th>\n",
       "      <td>歌兔雪纺连衣裙夏季长裙修身显瘦小清新 中长款女装露肩高腰裙子</td>\n",
       "      <td>歌兔服饰旗舰店</td>\n",
       "      <td>3</td>\n",
       "      <td>杭州</td>\n",
       "      <td>4.8</td>\n",
       "      <td>4.7</td>\n",
       "      <td>4.7</td>\n",
       "      <td>25-29</td>\n",
       "      <td>69.0</td>\n",
       "      <td>2952</td>\n",
       "      <td>\\n廓形: A型\\n材质成分: 聚酯纤维100%\\n货号: GT16CQZ53\\n风格: 通...</td>\n",
       "    </tr>\n",
       "    <tr>\n",
       "      <th>1</th>\n",
       "      <td>卡洛莱韩版气质修身露肩收腰a字裙夏季新款女装时尚雪纺连衣裙女</td>\n",
       "      <td>卡洛莱旗舰店</td>\n",
       "      <td>4</td>\n",
       "      <td>杭州</td>\n",
       "      <td>4.8</td>\n",
       "      <td>4.7</td>\n",
       "      <td>4.7</td>\n",
       "      <td>25-29</td>\n",
       "      <td>99.0</td>\n",
       "      <td>2944</td>\n",
       "      <td>\\n廓形: A型\\n材质成分: 聚酯纤维100%\\n销售渠道类型: 纯电商(只在线上销售)\\...</td>\n",
       "    </tr>\n",
       "    <tr>\n",
       "      <th>2</th>\n",
       "      <td>Krazy清新减龄显瘦32支纯棉撞色polo领海魂条纹学院风弹力连衣裙</td>\n",
       "      <td>krazy服饰旗舰店</td>\n",
       "      <td>6</td>\n",
       "      <td>广州</td>\n",
       "      <td>4.8</td>\n",
       "      <td>4.8</td>\n",
       "      <td>4.8</td>\n",
       "      <td>25-29</td>\n",
       "      <td>131.0</td>\n",
       "      <td>2943</td>\n",
       "      <td>\\n廓形: A型\\n材质成分: 棉95% 聚氨酯弹性纤维(氨纶)5%\\n销售渠道类型: 纯电...</td>\n",
       "    </tr>\n",
       "    <tr>\n",
       "      <th>3</th>\n",
       "      <td>连衣裙女夏2016新款潮大码露肩小清新吊带裙印花V领雪纺沙滩裙子</td>\n",
       "      <td>多曼妮旗舰店</td>\n",
       "      <td>0</td>\n",
       "      <td>广州</td>\n",
       "      <td>4.8</td>\n",
       "      <td>4.7</td>\n",
       "      <td>4.7</td>\n",
       "      <td>18-24</td>\n",
       "      <td>69.0</td>\n",
       "      <td>2925</td>\n",
       "      <td>\\n廓形: A型\\n材质成分: 其他100%\\n销售渠道类型: 纯电商(只在线上销售)\\n货...</td>\n",
       "    </tr>\n",
       "    <tr>\n",
       "      <th>4</th>\n",
       "      <td>韩版显瘦鱼尾裙子2016夏季高腰包臀挂脖露肩荷叶边无袖连衣裙修身</td>\n",
       "      <td>米莱伊旗舰店</td>\n",
       "      <td>3</td>\n",
       "      <td>杭州</td>\n",
       "      <td>4.8</td>\n",
       "      <td>4.8</td>\n",
       "      <td>4.8</td>\n",
       "      <td>25-29</td>\n",
       "      <td>158.0</td>\n",
       "      <td>2924</td>\n",
       "      <td>\\n廓形: X型\\n材质成分: 聚酯纤维96.9% 聚氨酯弹性纤维(氨纶)3.1%\\n销售渠...</td>\n",
       "    </tr>\n",
       "  </tbody>\n",
       "</table>\n",
       "</div>"
      ],
      "text/plain": [
       "                             goodsName    shopName shopAge shopPlace  \\\n",
       "0       歌兔雪纺连衣裙夏季长裙修身显瘦小清新 中长款女装露肩高腰裙子     歌兔服饰旗舰店       3       杭州    \n",
       "1       卡洛莱韩版气质修身露肩收腰a字裙夏季新款女装时尚雪纺连衣裙女      卡洛莱旗舰店       4       杭州    \n",
       "2  Krazy清新减龄显瘦32支纯棉撞色polo领海魂条纹学院风弹力连衣裙  krazy服饰旗舰店       6       广州    \n",
       "3     连衣裙女夏2016新款潮大码露肩小清新吊带裙印花V领雪纺沙滩裙子      多曼妮旗舰店       0       广州    \n",
       "4     韩版显瘦鱼尾裙子2016夏季高腰包臀挂脖露肩荷叶边无袖连衣裙修身      米莱伊旗舰店       3       杭州    \n",
       "\n",
       "  shopMiaoshu shopWuliu shopFuwu    age  price monthly_sales  \\\n",
       "0         4.8       4.7      4.7  25-29   69.0          2952   \n",
       "1         4.8       4.7      4.7  25-29   99.0          2944   \n",
       "2         4.8       4.8      4.8  25-29  131.0          2943   \n",
       "3         4.8       4.7      4.7  18-24   69.0          2925   \n",
       "4         4.8       4.8      4.8  25-29  158.0          2924   \n",
       "\n",
       "                                  productDescription  \n",
       "0  \\n廓形: A型\\n材质成分: 聚酯纤维100%\\n货号: GT16CQZ53\\n风格: 通...  \n",
       "1  \\n廓形: A型\\n材质成分: 聚酯纤维100%\\n销售渠道类型: 纯电商(只在线上销售)\\...  \n",
       "2  \\n廓形: A型\\n材质成分: 棉95% 聚氨酯弹性纤维(氨纶)5%\\n销售渠道类型: 纯电...  \n",
       "3  \\n廓形: A型\\n材质成分: 其他100%\\n销售渠道类型: 纯电商(只在线上销售)\\n货...  \n",
       "4  \\n廓形: X型\\n材质成分: 聚酯纤维96.9% 聚氨酯弹性纤维(氨纶)3.1%\\n销售渠...  "
      ]
     },
     "execution_count": 18,
     "metadata": {},
     "output_type": "execute_result"
    }
   ],
   "source": [
    "data.head(5)"
   ]
  },
  {
   "cell_type": "code",
   "execution_count": 19,
   "metadata": {},
   "outputs": [
    {
     "data": {
      "text/plain": [
       "{' \\xa0 ',\n",
       " ' \\xa0 \\n服务电话：4001637820',\n",
       " '三明 ',\n",
       " '上海 ',\n",
       " '上海 \\n服务电话：4001637183',\n",
       " '上海 \\n服务电话：4001686026',\n",
       " '上海 \\n服务电话：4009103651',\n",
       " '东莞 ',\n",
       " '东莞 \\n服务电话：4009121328',\n",
       " '东莞 \\n服务电话：4009670269',\n",
       " '中山 ',\n",
       " '丽水 ',\n",
       " '九江 ',\n",
       " '佛山 ',\n",
       " '北京 ',\n",
       " '南京 ',\n",
       " '南充 ',\n",
       " '南宁 ',\n",
       " '南昌 ',\n",
       " '南通 ',\n",
       " '厦门 ',\n",
       " '台州 ',\n",
       " '合肥 ',\n",
       " '合肥 \\n服务电话：4009103927',\n",
       " '嘉兴 ',\n",
       " '固原 ',\n",
       " '大连 ',\n",
       " '天津 ',\n",
       " '宁德 ',\n",
       " '宁波 ',\n",
       " '宁波 \\n服务电话：4009678988',\n",
       " '宜春 ',\n",
       " '宿迁 ',\n",
       " '常州 ',\n",
       " '广州 ',\n",
       " '广州 \\n服务电话：4009678896',\n",
       " '徐州 ',\n",
       " '惠州 ',\n",
       " '成都 ',\n",
       " '无锡 ',\n",
       " '日照 ',\n",
       " '杭州 ',\n",
       " '杭州 \\n服务电话：4001682601',\n",
       " '杭州 \\n服务电话：4009103146',\n",
       " '杭州 \\n服务电话：4009120580',\n",
       " '杭州 \\n服务电话：4009678315',\n",
       " '杭州 \\n服务电话：4009678781',\n",
       " '株洲 ',\n",
       " '桂林 ',\n",
       " '梅州 ',\n",
       " '武汉 ',\n",
       " '汕头 ',\n",
       " '江门 ',\n",
       " '泉州 ',\n",
       " '泰州 ',\n",
       " '济南 ',\n",
       " '淮安 ',\n",
       " '深圳 ',\n",
       " '深圳 \\n服务电话：4009121785',\n",
       " '温州 ',\n",
       " '湖州 ',\n",
       " '潮州 ',\n",
       " '烟台 ',\n",
       " '珠海 ',\n",
       " '珠海 \\n服务电话：4009121320',\n",
       " '益阳 ',\n",
       " '石家庄 ',\n",
       " '福州 ',\n",
       " '绍兴 ',\n",
       " '聊城 ',\n",
       " '芜湖 ',\n",
       " '苏州 ',\n",
       " '菏泽 ',\n",
       " '衡阳 ',\n",
       " '赣州 ',\n",
       " '连云港 ',\n",
       " '邯郸 ',\n",
       " '郑州 ',\n",
       " '鄂尔多斯 ',\n",
       " '重庆 ',\n",
       " '金华 ',\n",
       " '长沙 ',\n",
       " '鞍山 ',\n",
       " '鹰潭 ',\n",
       " '龙岩 '}"
      ]
     },
     "execution_count": 19,
     "metadata": {},
     "output_type": "execute_result"
    }
   ],
   "source": [
    "set(data['shopPlace'].values.tolist())"
   ]
  },
  {
   "cell_type": "code",
   "execution_count": 20,
   "metadata": {},
   "outputs": [
    {
     "name": "stderr",
     "output_type": "stream",
     "text": [
      "C:\\Users\\lb\\AppData\\Local\\Temp\\ipykernel_12976\\3345840887.py:18: SettingWithCopyWarning: \n",
      "A value is trying to be set on a copy of a slice from a DataFrame.\n",
      "Try using .loc[row_indexer,col_indexer] = value instead\n",
      "\n",
      "See the caveats in the documentation: https://pandas.pydata.org/pandas-docs/stable/user_guide/indexing.html#returning-a-view-versus-a-copy\n",
      "  data['shopPlace'] = data['shopPlace'].str.strip()\n"
     ]
    }
   ],
   "source": [
    "data.loc[data['shopPlace'] =='上海 \\n服务电话：4001637183','shopPlace'] =  '上海'\n",
    "data.loc[data['shopPlace'] =='上海 \\n服务电话：4001686026','shopPlace'] =  '上海'\n",
    "data.loc[data['shopPlace'] =='上海 \\n服务电话：4009103651','shopPlace'] =  '上海'\n",
    "data.loc[data['shopPlace'] =='东莞 \\n服务电话：4009121328','shopPlace'] =  '东莞'\n",
    "data.loc[data['shopPlace'] =='东莞 \\n服务电话：4009670269','shopPlace'] =  '东莞'\n",
    "data.loc[data['shopPlace'] =='合肥 \\n服务电话：4009103927','shopPlace'] =  '合肥'\n",
    "data.loc[data['shopPlace'] =='宁波 \\n服务电话：4009678988','shopPlace'] =  '宁波'\n",
    "data.loc[data['shopPlace'] =='广州 \\n服务电话：4009678896','shopPlace'] =  '广州'\n",
    "data.loc[data['shopPlace'] =='杭州 \\n服务电话：4001682601','shopPlace'] =  '杭州'\n",
    "data.loc[data['shopPlace'] =='杭州 \\n服务电话：4009103146','shopPlace'] =  '杭州'\n",
    "data.loc[data['shopPlace'] =='杭州 \\n服务电话：4009120580','shopPlace'] =  '杭州'\n",
    "data.loc[data['shopPlace'] =='杭州 \\n服务电话：4009678315','shopPlace'] =  '杭州'\n",
    "data.loc[data['shopPlace'] =='杭州 \\n服务电话：4009678781','shopPlace'] =  '杭州'\n",
    "data.loc[data['shopPlace'] =='深圳 \\n服务电话：4009121785','shopPlace'] =  '深圳'\n",
    "data.loc[data['shopPlace'] =='珠海 \\n服务电话：4009121320','shopPlace'] =  '珠海'\n",
    "data.loc[data['shopPlace'] ==' \\xa0 ','shopPlace'] =  '其他'\n",
    "data.loc[data['shopPlace'] ==' \\xa0 \\n服务电话：4001637820','shopPlace'] =  '其他'\n",
    "data['shopPlace'] = data['shopPlace'].str.strip()"
   ]
  },
  {
   "cell_type": "code",
   "execution_count": 21,
   "metadata": {
    "ExecuteTime": {
     "end_time": "2020-12-17T08:46:38.653729Z",
     "start_time": "2020-12-17T08:46:38.532400Z"
    }
   },
   "outputs": [],
   "source": [
    "data.to_csv('./data/4.1/data.csv',header=True,index=False)"
   ]
  },
  {
   "cell_type": "code",
   "execution_count": null,
   "metadata": {},
   "outputs": [],
   "source": []
  }
 ],
 "metadata": {
  "kernelspec": {
   "display_name": "Python 3 (ipykernel)",
   "language": "python",
   "name": "python3"
  },
  "language_info": {
   "codemirror_mode": {
    "name": "ipython",
    "version": 3
   },
   "file_extension": ".py",
   "mimetype": "text/x-python",
   "name": "python",
   "nbconvert_exporter": "python",
   "pygments_lexer": "ipython3",
   "version": "3.9.13"
  },
  "toc": {
   "base_numbering": 1,
   "nav_menu": {},
   "number_sections": true,
   "sideBar": true,
   "skip_h1_title": false,
   "title_cell": "Table of Contents",
   "title_sidebar": "Contents",
   "toc_cell": false,
   "toc_position": {},
   "toc_section_display": true,
   "toc_window_display": false
  }
 },
 "nbformat": 4,
 "nbformat_minor": 2
}
