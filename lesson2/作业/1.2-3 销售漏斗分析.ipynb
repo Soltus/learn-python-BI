{
 "cells": [
  {
   "cell_type": "code",
   "execution_count": 1,
   "metadata": {},
   "outputs": [],
   "source": [
    "# -*- coding: utf-8 -*-\n",
    "import pandas as pd\n",
    "data = pd.read_csv('./data/1.2/behavior.csv', sep = ',',encoding = 'utf-8')"
   ]
  },
  {
   "cell_type": "code",
   "execution_count": 2,
   "metadata": {},
   "outputs": [
    {
     "data": {
      "text/html": [
       "<div>\n",
       "<style scoped>\n",
       "    .dataframe tbody tr th:only-of-type {\n",
       "        vertical-align: middle;\n",
       "    }\n",
       "\n",
       "    .dataframe tbody tr th {\n",
       "        vertical-align: top;\n",
       "    }\n",
       "\n",
       "    .dataframe thead th {\n",
       "        text-align: right;\n",
       "    }\n",
       "</style>\n",
       "<table border=\"1\" class=\"dataframe\">\n",
       "  <thead>\n",
       "    <tr style=\"text-align: right;\">\n",
       "      <th></th>\n",
       "      <th>用户</th>\n",
       "      <th>商品</th>\n",
       "      <th>品类</th>\n",
       "      <th>地理位置</th>\n",
       "      <th>date</th>\n",
       "      <th>hour</th>\n",
       "      <th>浏览</th>\n",
       "      <th>收藏</th>\n",
       "      <th>加购物车</th>\n",
       "      <th>购买</th>\n",
       "    </tr>\n",
       "  </thead>\n",
       "  <tbody>\n",
       "    <tr>\n",
       "      <th>0</th>\n",
       "      <td>10001082</td>\n",
       "      <td>285259775</td>\n",
       "      <td>4076</td>\n",
       "      <td>97lk14c</td>\n",
       "      <td>2014-12-08</td>\n",
       "      <td>18</td>\n",
       "      <td>1</td>\n",
       "      <td>0</td>\n",
       "      <td>0</td>\n",
       "      <td>0</td>\n",
       "    </tr>\n",
       "    <tr>\n",
       "      <th>1</th>\n",
       "      <td>10001082</td>\n",
       "      <td>4368907</td>\n",
       "      <td>5503</td>\n",
       "      <td>NaN</td>\n",
       "      <td>2014-12-12</td>\n",
       "      <td>12</td>\n",
       "      <td>1</td>\n",
       "      <td>0</td>\n",
       "      <td>0</td>\n",
       "      <td>0</td>\n",
       "    </tr>\n",
       "    <tr>\n",
       "      <th>2</th>\n",
       "      <td>10001082</td>\n",
       "      <td>53616768</td>\n",
       "      <td>9762</td>\n",
       "      <td>NaN</td>\n",
       "      <td>2014-12-02</td>\n",
       "      <td>15</td>\n",
       "      <td>1</td>\n",
       "      <td>0</td>\n",
       "      <td>0</td>\n",
       "      <td>0</td>\n",
       "    </tr>\n",
       "    <tr>\n",
       "      <th>3</th>\n",
       "      <td>10001082</td>\n",
       "      <td>151466952</td>\n",
       "      <td>5232</td>\n",
       "      <td>NaN</td>\n",
       "      <td>2014-12-12</td>\n",
       "      <td>11</td>\n",
       "      <td>1</td>\n",
       "      <td>0</td>\n",
       "      <td>0</td>\n",
       "      <td>0</td>\n",
       "    </tr>\n",
       "    <tr>\n",
       "      <th>4</th>\n",
       "      <td>10001082</td>\n",
       "      <td>53616768</td>\n",
       "      <td>9762</td>\n",
       "      <td>NaN</td>\n",
       "      <td>2014-12-02</td>\n",
       "      <td>15</td>\n",
       "      <td>0</td>\n",
       "      <td>0</td>\n",
       "      <td>0</td>\n",
       "      <td>1</td>\n",
       "    </tr>\n",
       "  </tbody>\n",
       "</table>\n",
       "</div>"
      ],
      "text/plain": [
       "         用户         商品    品类     地理位置        date  hour  浏览  收藏  加购物车  购买\n",
       "0  10001082  285259775  4076  97lk14c  2014-12-08    18   1   0     0   0\n",
       "1  10001082    4368907  5503      NaN  2014-12-12    12   1   0     0   0\n",
       "2  10001082   53616768  9762      NaN  2014-12-02    15   1   0     0   0\n",
       "3  10001082  151466952  5232      NaN  2014-12-12    11   1   0     0   0\n",
       "4  10001082   53616768  9762      NaN  2014-12-02    15   0   0     0   1"
      ]
     },
     "execution_count": 2,
     "metadata": {},
     "output_type": "execute_result"
    }
   ],
   "source": [
    "data.head()"
   ]
  },
  {
   "cell_type": "code",
   "execution_count": 3,
   "metadata": {},
   "outputs": [],
   "source": [
    "#计算PV数\n",
    "PV = data.浏览.sum()"
   ]
  },
  {
   "cell_type": "code",
   "execution_count": 4,
   "metadata": {},
   "outputs": [
    {
     "name": "stderr",
     "output_type": "stream",
     "text": [
      "C:\\Users\\lb\\AppData\\Local\\Temp\\ipykernel_408\\1272086602.py:6: SettingWithCopyWarning: \n",
      "A value is trying to be set on a copy of a slice from a DataFrame\n",
      "\n",
      "See the caveats in the documentation: https://pandas.pydata.org/pandas-docs/stable/user_guide/indexing.html#returning-a-view-versus-a-copy\n",
      "  data2.drop_duplicates(inplace=True)\n"
     ]
    }
   ],
   "source": [
    "#计算收藏或加购物车数\n",
    "data1 = data[['用户','商品','收藏','加购物车']]\n",
    "data1.eval('收藏或加购物车 = 收藏 + 加购物车', inplace=True)\n",
    "data1.loc[data1['收藏或加购物车'] == 2, '收藏或加购物车'] = 1  #将同时收藏和加购物车的值改为1\n",
    "data2 = data1[['用户','商品','收藏或加购物车']]\n",
    "data2.drop_duplicates(inplace=True)\n",
    "收藏或加购物车 = data2.收藏或加购物车.sum()"
   ]
  },
  {
   "cell_type": "code",
   "execution_count": 5,
   "metadata": {},
   "outputs": [],
   "source": [
    "#计算购买数\n",
    "data1 = data[['用户','商品','购买']]\n",
    "data2 = data1.drop_duplicates()\n",
    "购买 = data2.购买.sum()"
   ]
  },
  {
   "cell_type": "code",
   "execution_count": 6,
   "metadata": {},
   "outputs": [
    {
     "data": {
      "text/plain": [
       "array([14153441,   938497,   199819], dtype=int64)"
      ]
     },
     "execution_count": 6,
     "metadata": {},
     "output_type": "execute_result"
    }
   ],
   "source": [
    "import numpy as np\n",
    "import matplotlib.pyplot as plt\n",
    "from matplotlib.offsetbox import (TextArea, DrawingArea, OffsetImage,AnnotationBbox)\n",
    "plt.rcParams['font.sans-serif'] = 'SimHei'\n",
    "\n",
    "N = 3\n",
    "width = 0.55\n",
    "x1 = np.array([PV, 收藏或加购物车, 购买])  #产生array([14153441,   938497,   199819], dtype=int64)\n",
    "x1"
   ]
  },
  {
   "cell_type": "code",
   "execution_count": 7,
   "metadata": {},
   "outputs": [
    {
     "data": {
      "text/plain": [
       "array([      0., 6607472., 6976811.])"
      ]
     },
     "execution_count": 7,
     "metadata": {},
     "output_type": "execute_result"
    }
   ],
   "source": [
    "x2 = np.array((x1.max()-x1)/2) # 占位：array([      0., 6607472., 6976811.])\n",
    "x2"
   ]
  },
  {
   "cell_type": "code",
   "execution_count": 8,
   "metadata": {},
   "outputs": [
    {
     "name": "stdout",
     "output_type": "stream",
     "text": [
      "[14153441.0]\n",
      "[14153441.0, 7545969.0]\n",
      "[14153441.0, 7545969.0, 7176630.0]\n"
     ]
    },
    {
     "data": {
      "text/plain": [
       "array([14153441.,  7545969.,  7176630.])"
      ]
     },
     "execution_count": 8,
     "metadata": {},
     "output_type": "execute_result"
    }
   ],
   "source": [
    "#x1+x2\n",
    "x3 = []\n",
    "for i,j in zip(x1,x2):\n",
    "    x3.append(i+j)\n",
    "    print(x3)\n",
    "x3 = np.array(x3)\n",
    "x3"
   ]
  },
  {
   "cell_type": "code",
   "execution_count": 9,
   "metadata": {},
   "outputs": [
    {
     "name": "stdout",
     "output_type": "stream",
     "text": [
      "[(7076720.5, 1), (7076720.5, 0)]\n"
     ]
    },
    {
     "name": "stderr",
     "output_type": "stream",
     "text": [
      "C:\\Users\\lb\\AppData\\Local\\Temp\\ipykernel_408\\253543684.py:22: MatplotlibDeprecationWarning: \n",
      "The 'minimumdescent' parameter of __init__() was deprecated in Matplotlib 3.4 and will be removed two minor releases later. If any parameter follows 'minimumdescent', they should be passed as keyword, not positionally.\n",
      "  offsetbox = TextArea(a, minimumdescent=False)\n"
     ]
    },
    {
     "data": {
      "image/png": "[encoded data removed]",
      "text/plain": [
       "<Figure size 1200x800 with 1 Axes>"
      ]
     },
     "metadata": {},
     "output_type": "display_data"
    }
   ],
   "source": [
    "y = -np.sort(-np.arange(N)) # 产生array([2, 1, 0])\n",
    "labels=['PV','收藏或加购物车','购买']\n",
    "\n",
    "#figure\n",
    "fig = plt.figure(figsize=(12,8))\n",
    "ax = fig.add_subplot(1,1,1)\n",
    "\n",
    "#plot\n",
    "ax.barh(y,x3,width,tick_label=labels,color= ['c','b','r'],alpha=0.85)  #横条形图\n",
    "ax.plot(x3,y,'r',alpha=0.7) #右部折线\n",
    "ax.barh(y,x2,width,color='w',alpha =1) #辅助图,用于遮挡，必须为白色\n",
    "ax.plot(x2,y,'r',alpha=0.7) #左部折现\n",
    "\n",
    "#setting #添加转化率值\n",
    "transform = []       \n",
    "for i in range(0,len(x1)):\n",
    "    if i < len(x1)-1:\n",
    "        transform.append('%.2f%%'%((x1[i+1]/x1[i])*100))\n",
    "l = [(x1.max()/2, 1),(x1.max()/2, 0)]\n",
    "print(l)\n",
    "for a,b in zip(transform,l):\n",
    "    offsetbox = TextArea(a, minimumdescent=False)\n",
    "    ab = AnnotationBbox(offsetbox, b,\n",
    "                        xybox=(0, 40),\n",
    "                        boxcoords=\"offset points\",\n",
    "                        arrowprops=dict(arrowstyle=\"->\"))\n",
    "    ax.add_artist(ab)\n",
    "ax.set_xticks([])\n",
    "ax.set_yticks(y)\n",
    "ax.set_xlim(0,PV+5000)  #设置x轴的长度，便于美观\n",
    "plt.title('销售漏斗分析',fontsize='xx-large',fontweight='bold')\n",
    "plt.show()"
   ]
  },
  {
   "cell_type": "code",
   "execution_count": null,
   "metadata": {},
   "outputs": [],
   "source": []
  },
  {
   "cell_type": "code",
   "execution_count": null,
   "metadata": {},
   "outputs": [],
   "source": []
  }
 ],
 "metadata": {
  "kernelspec": {
   "display_name": "Python 3 (ipykernel)",
   "language": "python",
   "name": "python3"
  },
  "language_info": {
   "codemirror_mode": {
    "name": "ipython",
    "version": 3
   },
   "file_extension": ".py",
   "mimetype": "text/x-python",
   "name": "python",
   "nbconvert_exporter": "python",
   "pygments_lexer": "ipython3",
   "version": "3.10.9"
  },
  "widgets": {
   "application/vnd.jupyter.widget-state+json": {
    "state": {},
    "version_major": 2,
    "version_minor": 0
   }
  }
 },
 "nbformat": 4,
 "nbformat_minor": 4
}
