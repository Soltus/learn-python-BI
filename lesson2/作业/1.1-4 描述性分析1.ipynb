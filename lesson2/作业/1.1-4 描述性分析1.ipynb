{
 "cells": [
  {
   "cell_type": "code",
   "execution_count": 1,
   "metadata": {
    "ExecuteTime": {
     "end_time": "2020-12-21T05:49:18.024588Z",
     "start_time": "2020-12-21T05:49:18.010596Z"
    }
   },
   "outputs": [],
   "source": [
    "import pandas as pd\n",
    "import matplotlib.pyplot as plt "
   ]
  },
  {
   "cell_type": "code",
   "execution_count": 2,
   "metadata": {
    "ExecuteTime": {
     "end_time": "2020-12-21T05:49:18.541486Z",
     "start_time": "2020-12-21T05:49:18.526494Z"
    }
   },
   "outputs": [],
   "source": [
    "plt.rcParams['axes.unicode_minus']=False    #用来正常显示负号\n",
    "plt.rcParams['font.sans-serif']=['SimHei']   #防止中文标签乱码"
   ]
  },
  {
   "cell_type": "code",
   "execution_count": 3,
   "metadata": {
    "ExecuteTime": {
     "end_time": "2020-12-21T05:49:19.317501Z",
     "start_time": "2020-12-21T05:49:19.137603Z"
    },
    "scrolled": false
   },
   "outputs": [
    {
     "data": {
      "text/html": [
       "<div>\n",
       "<style scoped>\n",
       "    .dataframe tbody tr th:only-of-type {\n",
       "        vertical-align: middle;\n",
       "    }\n",
       "\n",
       "    .dataframe tbody tr th {\n",
       "        vertical-align: top;\n",
       "    }\n",
       "\n",
       "    .dataframe thead th {\n",
       "        text-align: right;\n",
       "    }\n",
       "</style>\n",
       "<table border=\"1\" class=\"dataframe\">\n",
       "  <thead>\n",
       "    <tr style=\"text-align: right;\">\n",
       "      <th></th>\n",
       "      <th>ID</th>\n",
       "      <th>品类</th>\n",
       "      <th>商品名</th>\n",
       "      <th>品牌</th>\n",
       "      <th>店铺名</th>\n",
       "      <th>经济体</th>\n",
       "      <th>省份</th>\n",
       "      <th>地级市</th>\n",
       "      <th>原价</th>\n",
       "      <th>快递费</th>\n",
       "      <th>...</th>\n",
       "      <th>累计评价4</th>\n",
       "      <th>信誉4</th>\n",
       "      <th>活动价5</th>\n",
       "      <th>月销量5</th>\n",
       "      <th>累计评价5</th>\n",
       "      <th>信誉5</th>\n",
       "      <th>活动价6</th>\n",
       "      <th>月销量6</th>\n",
       "      <th>累计评价6</th>\n",
       "      <th>信誉6</th>\n",
       "    </tr>\n",
       "  </thead>\n",
       "  <tbody>\n",
       "    <tr>\n",
       "      <th>0</th>\n",
       "      <td>558596846348</td>\n",
       "      <td>蛋</td>\n",
       "      <td>鸽子蛋</td>\n",
       "      <td>亿嘉</td>\n",
       "      <td>ecde08c9e65779b6</td>\n",
       "      <td>中国大陆</td>\n",
       "      <td>湖北</td>\n",
       "      <td>孝感</td>\n",
       "      <td>112.86</td>\n",
       "      <td>0.0</td>\n",
       "      <td>...</td>\n",
       "      <td>69.0</td>\n",
       "      <td>1239.0</td>\n",
       "      <td>69.00</td>\n",
       "      <td>33.0</td>\n",
       "      <td>72.0</td>\n",
       "      <td>1247.0</td>\n",
       "      <td>69.00</td>\n",
       "      <td>20.0</td>\n",
       "      <td>72.0</td>\n",
       "      <td>1260.0</td>\n",
       "    </tr>\n",
       "    <tr>\n",
       "      <th>1</th>\n",
       "      <td>531664242111</td>\n",
       "      <td>蛋</td>\n",
       "      <td>其他</td>\n",
       "      <td>other/其他</td>\n",
       "      <td>e25da776fa2f0726</td>\n",
       "      <td>中国大陆</td>\n",
       "      <td>浙江</td>\n",
       "      <td>嘉兴</td>\n",
       "      <td>45.68</td>\n",
       "      <td>0.0</td>\n",
       "      <td>...</td>\n",
       "      <td>257.0</td>\n",
       "      <td>2704.0</td>\n",
       "      <td>45.68</td>\n",
       "      <td>104.0</td>\n",
       "      <td>201.0</td>\n",
       "      <td>2759.0</td>\n",
       "      <td>45.68</td>\n",
       "      <td>94.0</td>\n",
       "      <td>171.0</td>\n",
       "      <td>2800.0</td>\n",
       "    </tr>\n",
       "    <tr>\n",
       "      <th>2</th>\n",
       "      <td>576710529109</td>\n",
       "      <td>蛋</td>\n",
       "      <td>鸡蛋</td>\n",
       "      <td>初晓</td>\n",
       "      <td>ccba4eec3fdff6da</td>\n",
       "      <td>中国大陆</td>\n",
       "      <td>安徽</td>\n",
       "      <td>宣城</td>\n",
       "      <td>98.00</td>\n",
       "      <td>0.0</td>\n",
       "      <td>...</td>\n",
       "      <td>1214.0</td>\n",
       "      <td>-1.0</td>\n",
       "      <td>69.80</td>\n",
       "      <td>1346.0</td>\n",
       "      <td>1548.0</td>\n",
       "      <td>-1.0</td>\n",
       "      <td>69.80</td>\n",
       "      <td>1131.0</td>\n",
       "      <td>1825.0</td>\n",
       "      <td>-1.0</td>\n",
       "    </tr>\n",
       "    <tr>\n",
       "      <th>3</th>\n",
       "      <td>548104662762</td>\n",
       "      <td>蛋</td>\n",
       "      <td>鸭蛋</td>\n",
       "      <td>百百阳</td>\n",
       "      <td>0e84d4953d5a816a</td>\n",
       "      <td>中国大陆</td>\n",
       "      <td>广西</td>\n",
       "      <td>南宁</td>\n",
       "      <td>118.00</td>\n",
       "      <td>0.0</td>\n",
       "      <td>...</td>\n",
       "      <td>1676.0</td>\n",
       "      <td>-1.0</td>\n",
       "      <td>59.80</td>\n",
       "      <td>549.0</td>\n",
       "      <td>1768.0</td>\n",
       "      <td>-1.0</td>\n",
       "      <td>59.80</td>\n",
       "      <td>451.0</td>\n",
       "      <td>1803.0</td>\n",
       "      <td>-1.0</td>\n",
       "    </tr>\n",
       "    <tr>\n",
       "      <th>4</th>\n",
       "      <td>563546480661</td>\n",
       "      <td>蛋</td>\n",
       "      <td>鸟蛋</td>\n",
       "      <td>金必得</td>\n",
       "      <td>e339d3da3c0db9f9</td>\n",
       "      <td>中国大陆</td>\n",
       "      <td>山东</td>\n",
       "      <td>临沂</td>\n",
       "      <td>69.00</td>\n",
       "      <td>0.0</td>\n",
       "      <td>...</td>\n",
       "      <td>6949.0</td>\n",
       "      <td>-1.0</td>\n",
       "      <td>26.90</td>\n",
       "      <td>3960.0</td>\n",
       "      <td>8125.0</td>\n",
       "      <td>-1.0</td>\n",
       "      <td>26.60</td>\n",
       "      <td>2791.0</td>\n",
       "      <td>9086.0</td>\n",
       "      <td>-1.0</td>\n",
       "    </tr>\n",
       "  </tbody>\n",
       "</table>\n",
       "<p>5 rows × 35 columns</p>\n",
       "</div>"
      ],
      "text/plain": [
       "             ID 品类  商品名        品牌               店铺名   经济体  省份 地级市      原价  \\\n",
       "0  558596846348  蛋  鸽子蛋        亿嘉  ecde08c9e65779b6  中国大陆  湖北  孝感  112.86   \n",
       "1  531664242111  蛋   其他  other/其他  e25da776fa2f0726  中国大陆  浙江  嘉兴   45.68   \n",
       "2  576710529109  蛋   鸡蛋        初晓  ccba4eec3fdff6da  中国大陆  安徽  宣城   98.00   \n",
       "3  548104662762  蛋   鸭蛋       百百阳  0e84d4953d5a816a  中国大陆  广西  南宁  118.00   \n",
       "4  563546480661  蛋   鸟蛋       金必得  e339d3da3c0db9f9  中国大陆  山东  临沂   69.00   \n",
       "\n",
       "   快递费  ...   累计评价4     信誉4   活动价5    月销量5   累计评价5     信誉5   活动价6    月销量6  \\\n",
       "0  0.0  ...    69.0  1239.0  69.00    33.0    72.0  1247.0  69.00    20.0   \n",
       "1  0.0  ...   257.0  2704.0  45.68   104.0   201.0  2759.0  45.68    94.0   \n",
       "2  0.0  ...  1214.0    -1.0  69.80  1346.0  1548.0    -1.0  69.80  1131.0   \n",
       "3  0.0  ...  1676.0    -1.0  59.80   549.0  1768.0    -1.0  59.80   451.0   \n",
       "4  0.0  ...  6949.0    -1.0  26.90  3960.0  8125.0    -1.0  26.60  2791.0   \n",
       "\n",
       "    累计评价6     信誉6  \n",
       "0    72.0  1260.0  \n",
       "1   171.0  2800.0  \n",
       "2  1825.0    -1.0  \n",
       "3  1803.0    -1.0  \n",
       "4  9086.0    -1.0  \n",
       "\n",
       "[5 rows x 35 columns]"
      ]
     },
     "execution_count": 3,
     "metadata": {},
     "output_type": "execute_result"
    }
   ],
   "source": [
    "data = pd.read_csv('./data/1.1/data2.csv')\n",
    "data.head(5)"
   ]
  },
  {
   "cell_type": "code",
   "execution_count": 4,
   "metadata": {
    "ExecuteTime": {
     "end_time": "2020-12-21T05:49:19.955575Z",
     "start_time": "2020-12-21T05:49:19.934588Z"
    }
   },
   "outputs": [],
   "source": [
    "#各品类的商品款数\n",
    "data_tmp = data[['品类','ID']]\n",
    "data_tmp = data_tmp.groupby('品类',as_index = False).count()"
   ]
  },
  {
   "cell_type": "code",
   "execution_count": 5,
   "metadata": {
    "ExecuteTime": {
     "end_time": "2020-12-21T05:49:20.713593Z",
     "start_time": "2020-12-21T05:49:20.695604Z"
    }
   },
   "outputs": [
    {
     "data": {
      "text/html": [
       "<div>\n",
       "<style scoped>\n",
       "    .dataframe tbody tr th:only-of-type {\n",
       "        vertical-align: middle;\n",
       "    }\n",
       "\n",
       "    .dataframe tbody tr th {\n",
       "        vertical-align: top;\n",
       "    }\n",
       "\n",
       "    .dataframe thead th {\n",
       "        text-align: right;\n",
       "    }\n",
       "</style>\n",
       "<table border=\"1\" class=\"dataframe\">\n",
       "  <thead>\n",
       "    <tr style=\"text-align: right;\">\n",
       "      <th></th>\n",
       "      <th>品类</th>\n",
       "      <th>ID</th>\n",
       "    </tr>\n",
       "  </thead>\n",
       "  <tbody>\n",
       "    <tr>\n",
       "      <th>0</th>\n",
       "      <td>水产</td>\n",
       "      <td>1334</td>\n",
       "    </tr>\n",
       "    <tr>\n",
       "      <th>1</th>\n",
       "      <td>水果</td>\n",
       "      <td>1041</td>\n",
       "    </tr>\n",
       "    <tr>\n",
       "      <th>2</th>\n",
       "      <td>肉</td>\n",
       "      <td>5182</td>\n",
       "    </tr>\n",
       "    <tr>\n",
       "      <th>3</th>\n",
       "      <td>蔬菜</td>\n",
       "      <td>851</td>\n",
       "    </tr>\n",
       "    <tr>\n",
       "      <th>4</th>\n",
       "      <td>蛋</td>\n",
       "      <td>1854</td>\n",
       "    </tr>\n",
       "  </tbody>\n",
       "</table>\n",
       "</div>"
      ],
      "text/plain": [
       "   品类    ID\n",
       "0  水产  1334\n",
       "1  水果  1041\n",
       "2   肉  5182\n",
       "3  蔬菜   851\n",
       "4   蛋  1854"
      ]
     },
     "execution_count": 5,
     "metadata": {},
     "output_type": "execute_result"
    }
   ],
   "source": [
    "data_tmp"
   ]
  },
  {
   "cell_type": "code",
   "execution_count": 6,
   "metadata": {
    "ExecuteTime": {
     "end_time": "2020-12-21T05:49:21.460436Z",
     "start_time": "2020-12-21T05:49:21.270544Z"
    }
   },
   "outputs": [
    {
     "data": {
      "text/plain": [
       "Text(0.5, 1.0, '各品类的商品款数')"
      ]
     },
     "execution_count": 6,
     "metadata": {},
     "output_type": "execute_result"
    },
    {
     "data": {
      "image/png": "[encoded data removed]",
      "text/plain": [
       "<Figure size 640x480 with 1 Axes>"
      ]
     },
     "metadata": {},
     "output_type": "display_data"
    }
   ],
   "source": [
    "plt.bar(data_tmp['品类'],data_tmp['ID'], color = ['r','b','g','m','c'] )\n",
    "plt.title('各品类的商品款数')"
   ]
  },
  {
   "cell_type": "code",
   "execution_count": 7,
   "metadata": {
    "ExecuteTime": {
     "end_time": "2020-12-21T05:49:21.821569Z",
     "start_time": "2020-12-21T05:49:21.774614Z"
    }
   },
   "outputs": [
    {
     "name": "stderr",
     "output_type": "stream",
     "text": [
      "C:\\Users\\lb\\AppData\\Local\\Temp\\ipykernel_6464\\1228456995.py:4: SettingWithCopyWarning: \n",
      "A value is trying to be set on a copy of a slice from a DataFrame\n",
      "\n",
      "See the caveats in the documentation: https://pandas.pydata.org/pandas-docs/stable/user_guide/indexing.html#returning-a-view-versus-a-copy\n",
      "  data.是否皇冠[data['平均信誉']>=10001] = 1\n",
      "C:\\Users\\lb\\AppData\\Local\\Temp\\ipykernel_6464\\1228456995.py:7: SettingWithCopyWarning: \n",
      "A value is trying to be set on a copy of a slice from a DataFrame\n",
      "\n",
      "See the caveats in the documentation: https://pandas.pydata.org/pandas-docs/stable/user_guide/indexing.html#returning-a-view-versus-a-copy\n",
      "  data_tmp.drop_duplicates(inplace=True)\n"
     ]
    }
   ],
   "source": [
    "#各品类的店铺数\n",
    "data['平均信誉'] = (data['信誉1']+data['信誉2']+data['信誉3']+data['信誉4']+data['信誉5']+data['信誉6'])/6\n",
    "data['是否皇冠'] = 0\n",
    "data.是否皇冠[data['平均信誉']>=10001] = 1\n",
    "\n",
    "data_tmp = data[['品类','店铺名','是否天猫','是否皇冠']]\n",
    "data_tmp.drop_duplicates(inplace=True)\n",
    "data_tmp.reset_index(drop=True,inplace = True)\n",
    "data_tmp1 = data_tmp[['品类','店铺名']].groupby('品类',as_index = False).count()"
   ]
  },
  {
   "cell_type": "code",
   "execution_count": 8,
   "metadata": {
    "ExecuteTime": {
     "end_time": "2020-12-21T05:49:22.306580Z",
     "start_time": "2020-12-21T05:49:22.294605Z"
    }
   },
   "outputs": [
    {
     "data": {
      "text/html": [
       "<div>\n",
       "<style scoped>\n",
       "    .dataframe tbody tr th:only-of-type {\n",
       "        vertical-align: middle;\n",
       "    }\n",
       "\n",
       "    .dataframe tbody tr th {\n",
       "        vertical-align: top;\n",
       "    }\n",
       "\n",
       "    .dataframe thead th {\n",
       "        text-align: right;\n",
       "    }\n",
       "</style>\n",
       "<table border=\"1\" class=\"dataframe\">\n",
       "  <thead>\n",
       "    <tr style=\"text-align: right;\">\n",
       "      <th></th>\n",
       "      <th>品类</th>\n",
       "      <th>店铺名</th>\n",
       "    </tr>\n",
       "  </thead>\n",
       "  <tbody>\n",
       "    <tr>\n",
       "      <th>0</th>\n",
       "      <td>水产</td>\n",
       "      <td>485</td>\n",
       "    </tr>\n",
       "    <tr>\n",
       "      <th>1</th>\n",
       "      <td>水果</td>\n",
       "      <td>449</td>\n",
       "    </tr>\n",
       "    <tr>\n",
       "      <th>2</th>\n",
       "      <td>肉</td>\n",
       "      <td>2491</td>\n",
       "    </tr>\n",
       "    <tr>\n",
       "      <th>3</th>\n",
       "      <td>蔬菜</td>\n",
       "      <td>427</td>\n",
       "    </tr>\n",
       "    <tr>\n",
       "      <th>4</th>\n",
       "      <td>蛋</td>\n",
       "      <td>828</td>\n",
       "    </tr>\n",
       "  </tbody>\n",
       "</table>\n",
       "</div>"
      ],
      "text/plain": [
       "   品类   店铺名\n",
       "0  水产   485\n",
       "1  水果   449\n",
       "2   肉  2491\n",
       "3  蔬菜   427\n",
       "4   蛋   828"
      ]
     },
     "execution_count": 8,
     "metadata": {},
     "output_type": "execute_result"
    }
   ],
   "source": [
    "data_tmp1"
   ]
  },
  {
   "cell_type": "code",
   "execution_count": 9,
   "metadata": {
    "ExecuteTime": {
     "end_time": "2020-12-21T05:49:23.132493Z",
     "start_time": "2020-12-21T05:49:22.942605Z"
    }
   },
   "outputs": [
    {
     "data": {
      "text/plain": [
       "Text(0.5, 1.0, '各品类的店铺家数')"
      ]
     },
     "execution_count": 9,
     "metadata": {},
     "output_type": "execute_result"
    },
    {
     "data": {
      "image/png": "[encoded data removed]",
      "text/plain": [
       "<Figure size 640x480 with 1 Axes>"
      ]
     },
     "metadata": {},
     "output_type": "display_data"
    }
   ],
   "source": [
    "plt.bar(data_tmp1['品类'],data_tmp1['店铺名'], color = ['r','b','g','m','c'] )\n",
    "plt.title('各品类的店铺家数')"
   ]
  },
  {
   "cell_type": "code",
   "execution_count": 10,
   "metadata": {
    "ExecuteTime": {
     "end_time": "2020-12-21T05:49:23.580115Z",
     "start_time": "2020-12-21T05:49:23.558606Z"
    }
   },
   "outputs": [],
   "source": [
    "data_tmp2 = data_tmp[['品类','是否天猫']].groupby('品类',as_index = False).sum()"
   ]
  },
  {
   "cell_type": "code",
   "execution_count": 11,
   "metadata": {
    "ExecuteTime": {
     "end_time": "2020-12-21T05:49:24.202642Z",
     "start_time": "2020-12-21T05:49:24.192630Z"
    }
   },
   "outputs": [
    {
     "data": {
      "text/html": [
       "<div>\n",
       "<style scoped>\n",
       "    .dataframe tbody tr th:only-of-type {\n",
       "        vertical-align: middle;\n",
       "    }\n",
       "\n",
       "    .dataframe tbody tr th {\n",
       "        vertical-align: top;\n",
       "    }\n",
       "\n",
       "    .dataframe thead th {\n",
       "        text-align: right;\n",
       "    }\n",
       "</style>\n",
       "<table border=\"1\" class=\"dataframe\">\n",
       "  <thead>\n",
       "    <tr style=\"text-align: right;\">\n",
       "      <th></th>\n",
       "      <th>品类</th>\n",
       "      <th>是否天猫</th>\n",
       "    </tr>\n",
       "  </thead>\n",
       "  <tbody>\n",
       "    <tr>\n",
       "      <th>0</th>\n",
       "      <td>水产</td>\n",
       "      <td>204</td>\n",
       "    </tr>\n",
       "    <tr>\n",
       "      <th>1</th>\n",
       "      <td>水果</td>\n",
       "      <td>272</td>\n",
       "    </tr>\n",
       "    <tr>\n",
       "      <th>2</th>\n",
       "      <td>肉</td>\n",
       "      <td>623</td>\n",
       "    </tr>\n",
       "    <tr>\n",
       "      <th>3</th>\n",
       "      <td>蔬菜</td>\n",
       "      <td>123</td>\n",
       "    </tr>\n",
       "    <tr>\n",
       "      <th>4</th>\n",
       "      <td>蛋</td>\n",
       "      <td>246</td>\n",
       "    </tr>\n",
       "  </tbody>\n",
       "</table>\n",
       "</div>"
      ],
      "text/plain": [
       "   品类  是否天猫\n",
       "0  水产   204\n",
       "1  水果   272\n",
       "2   肉   623\n",
       "3  蔬菜   123\n",
       "4   蛋   246"
      ]
     },
     "execution_count": 11,
     "metadata": {},
     "output_type": "execute_result"
    }
   ],
   "source": [
    "data_tmp2"
   ]
  },
  {
   "cell_type": "code",
   "execution_count": 12,
   "metadata": {
    "ExecuteTime": {
     "end_time": "2020-12-21T05:49:24.713574Z",
     "start_time": "2020-12-21T05:49:24.694589Z"
    }
   },
   "outputs": [],
   "source": [
    "data_tmp2['天猫占比'] = data_tmp2['是否天猫']/data_tmp1['店铺名']"
   ]
  },
  {
   "cell_type": "code",
   "execution_count": 13,
   "metadata": {
    "ExecuteTime": {
     "end_time": "2020-12-21T05:49:25.177726Z",
     "start_time": "2020-12-21T05:49:25.151743Z"
    }
   },
   "outputs": [
    {
     "data": {
      "text/html": [
       "<div>\n",
       "<style scoped>\n",
       "    .dataframe tbody tr th:only-of-type {\n",
       "        vertical-align: middle;\n",
       "    }\n",
       "\n",
       "    .dataframe tbody tr th {\n",
       "        vertical-align: top;\n",
       "    }\n",
       "\n",
       "    .dataframe thead th {\n",
       "        text-align: right;\n",
       "    }\n",
       "</style>\n",
       "<table border=\"1\" class=\"dataframe\">\n",
       "  <thead>\n",
       "    <tr style=\"text-align: right;\">\n",
       "      <th></th>\n",
       "      <th>品类</th>\n",
       "      <th>是否天猫</th>\n",
       "      <th>天猫占比</th>\n",
       "    </tr>\n",
       "  </thead>\n",
       "  <tbody>\n",
       "    <tr>\n",
       "      <th>0</th>\n",
       "      <td>水产</td>\n",
       "      <td>204</td>\n",
       "      <td>0.420619</td>\n",
       "    </tr>\n",
       "    <tr>\n",
       "      <th>1</th>\n",
       "      <td>水果</td>\n",
       "      <td>272</td>\n",
       "      <td>0.605791</td>\n",
       "    </tr>\n",
       "    <tr>\n",
       "      <th>2</th>\n",
       "      <td>肉</td>\n",
       "      <td>623</td>\n",
       "      <td>0.250100</td>\n",
       "    </tr>\n",
       "    <tr>\n",
       "      <th>3</th>\n",
       "      <td>蔬菜</td>\n",
       "      <td>123</td>\n",
       "      <td>0.288056</td>\n",
       "    </tr>\n",
       "    <tr>\n",
       "      <th>4</th>\n",
       "      <td>蛋</td>\n",
       "      <td>246</td>\n",
       "      <td>0.297101</td>\n",
       "    </tr>\n",
       "  </tbody>\n",
       "</table>\n",
       "</div>"
      ],
      "text/plain": [
       "   品类  是否天猫      天猫占比\n",
       "0  水产   204  0.420619\n",
       "1  水果   272  0.605791\n",
       "2   肉   623  0.250100\n",
       "3  蔬菜   123  0.288056\n",
       "4   蛋   246  0.297101"
      ]
     },
     "execution_count": 13,
     "metadata": {},
     "output_type": "execute_result"
    }
   ],
   "source": [
    "data_tmp2"
   ]
  },
  {
   "cell_type": "code",
   "execution_count": 14,
   "metadata": {
    "ExecuteTime": {
     "end_time": "2020-12-21T05:49:25.785900Z",
     "start_time": "2020-12-21T05:49:25.604841Z"
    }
   },
   "outputs": [
    {
     "data": {
      "text/plain": [
       "Text(0.5, 1.0, '各品类的店铺类型')"
      ]
     },
     "execution_count": 14,
     "metadata": {},
     "output_type": "execute_result"
    },
    {
     "data": {
      "image/png": "[encoded data removed]",
      "text/plain": [
       "<Figure size 640x480 with 1 Axes>"
      ]
     },
     "metadata": {},
     "output_type": "display_data"
    }
   ],
   "source": [
    "plt.ylim((0,1.3))\n",
    "plt.yticks([0,0.2,0.4,0.6,0.8,1])\n",
    "data_tmp2['淘宝占比'] = 1-data_tmp2['天猫占比']\n",
    "plt.bar(data_tmp2['品类'],data_tmp2['天猫占比'], color = ['m'] )\n",
    "plt.bar(data_tmp2['品类'],data_tmp2['淘宝占比'], bottom= data_tmp2['天猫占比'],color = ['g'] )\n",
    "plt.legend(['天猫店铺','淘宝店铺'])\n",
    "plt.title('各品类的店铺类型')"
   ]
  },
  {
   "cell_type": "code",
   "execution_count": 15,
   "metadata": {
    "ExecuteTime": {
     "end_time": "2020-12-21T05:49:26.095595Z",
     "start_time": "2020-12-21T05:49:26.078587Z"
    }
   },
   "outputs": [],
   "source": [
    "#各品类的淘宝皇冠店铺占比\n",
    "data_tmp3 = data_tmp[['品类','是否皇冠']].groupby('品类',as_index = False).sum()"
   ]
  },
  {
   "cell_type": "code",
   "execution_count": 16,
   "metadata": {
    "ExecuteTime": {
     "end_time": "2020-12-21T05:49:26.593605Z",
     "start_time": "2020-12-21T05:49:26.574598Z"
    }
   },
   "outputs": [
    {
     "data": {
      "text/html": [
       "<div>\n",
       "<style scoped>\n",
       "    .dataframe tbody tr th:only-of-type {\n",
       "        vertical-align: middle;\n",
       "    }\n",
       "\n",
       "    .dataframe tbody tr th {\n",
       "        vertical-align: top;\n",
       "    }\n",
       "\n",
       "    .dataframe thead th {\n",
       "        text-align: right;\n",
       "    }\n",
       "</style>\n",
       "<table border=\"1\" class=\"dataframe\">\n",
       "  <thead>\n",
       "    <tr style=\"text-align: right;\">\n",
       "      <th></th>\n",
       "      <th>品类</th>\n",
       "      <th>是否皇冠</th>\n",
       "    </tr>\n",
       "  </thead>\n",
       "  <tbody>\n",
       "    <tr>\n",
       "      <th>0</th>\n",
       "      <td>水产</td>\n",
       "      <td>116</td>\n",
       "    </tr>\n",
       "    <tr>\n",
       "      <th>1</th>\n",
       "      <td>水果</td>\n",
       "      <td>91</td>\n",
       "    </tr>\n",
       "    <tr>\n",
       "      <th>2</th>\n",
       "      <td>肉</td>\n",
       "      <td>1313</td>\n",
       "    </tr>\n",
       "    <tr>\n",
       "      <th>3</th>\n",
       "      <td>蔬菜</td>\n",
       "      <td>140</td>\n",
       "    </tr>\n",
       "    <tr>\n",
       "      <th>4</th>\n",
       "      <td>蛋</td>\n",
       "      <td>260</td>\n",
       "    </tr>\n",
       "  </tbody>\n",
       "</table>\n",
       "</div>"
      ],
      "text/plain": [
       "   品类  是否皇冠\n",
       "0  水产   116\n",
       "1  水果    91\n",
       "2   肉  1313\n",
       "3  蔬菜   140\n",
       "4   蛋   260"
      ]
     },
     "execution_count": 16,
     "metadata": {},
     "output_type": "execute_result"
    }
   ],
   "source": [
    "data_tmp3"
   ]
  },
  {
   "cell_type": "code",
   "execution_count": 17,
   "metadata": {
    "ExecuteTime": {
     "end_time": "2020-12-21T05:49:27.063210Z",
     "start_time": "2020-12-21T05:49:27.054200Z"
    }
   },
   "outputs": [],
   "source": [
    "data_tmp3['皇冠占比'] = data_tmp3['是否皇冠']/data_tmp1['店铺名']"
   ]
  },
  {
   "cell_type": "code",
   "execution_count": 18,
   "metadata": {
    "ExecuteTime": {
     "end_time": "2020-12-21T05:49:27.544607Z",
     "start_time": "2020-12-21T05:49:27.518602Z"
    }
   },
   "outputs": [
    {
     "data": {
      "text/html": [
       "<div>\n",
       "<style scoped>\n",
       "    .dataframe tbody tr th:only-of-type {\n",
       "        vertical-align: middle;\n",
       "    }\n",
       "\n",
       "    .dataframe tbody tr th {\n",
       "        vertical-align: top;\n",
       "    }\n",
       "\n",
       "    .dataframe thead th {\n",
       "        text-align: right;\n",
       "    }\n",
       "</style>\n",
       "<table border=\"1\" class=\"dataframe\">\n",
       "  <thead>\n",
       "    <tr style=\"text-align: right;\">\n",
       "      <th></th>\n",
       "      <th>品类</th>\n",
       "      <th>是否皇冠</th>\n",
       "      <th>皇冠占比</th>\n",
       "    </tr>\n",
       "  </thead>\n",
       "  <tbody>\n",
       "    <tr>\n",
       "      <th>0</th>\n",
       "      <td>水产</td>\n",
       "      <td>116</td>\n",
       "      <td>0.239175</td>\n",
       "    </tr>\n",
       "    <tr>\n",
       "      <th>1</th>\n",
       "      <td>水果</td>\n",
       "      <td>91</td>\n",
       "      <td>0.202673</td>\n",
       "    </tr>\n",
       "    <tr>\n",
       "      <th>2</th>\n",
       "      <td>肉</td>\n",
       "      <td>1313</td>\n",
       "      <td>0.527098</td>\n",
       "    </tr>\n",
       "    <tr>\n",
       "      <th>3</th>\n",
       "      <td>蔬菜</td>\n",
       "      <td>140</td>\n",
       "      <td>0.327869</td>\n",
       "    </tr>\n",
       "    <tr>\n",
       "      <th>4</th>\n",
       "      <td>蛋</td>\n",
       "      <td>260</td>\n",
       "      <td>0.314010</td>\n",
       "    </tr>\n",
       "  </tbody>\n",
       "</table>\n",
       "</div>"
      ],
      "text/plain": [
       "   品类  是否皇冠      皇冠占比\n",
       "0  水产   116  0.239175\n",
       "1  水果    91  0.202673\n",
       "2   肉  1313  0.527098\n",
       "3  蔬菜   140  0.327869\n",
       "4   蛋   260  0.314010"
      ]
     },
     "execution_count": 18,
     "metadata": {},
     "output_type": "execute_result"
    }
   ],
   "source": [
    "data_tmp3"
   ]
  },
  {
   "cell_type": "code",
   "execution_count": 19,
   "metadata": {},
   "outputs": [
    {
     "data": {
      "text/html": [
       "<div>\n",
       "<style scoped>\n",
       "    .dataframe tbody tr th:only-of-type {\n",
       "        vertical-align: middle;\n",
       "    }\n",
       "\n",
       "    .dataframe tbody tr th {\n",
       "        vertical-align: top;\n",
       "    }\n",
       "\n",
       "    .dataframe thead th {\n",
       "        text-align: right;\n",
       "    }\n",
       "</style>\n",
       "<table border=\"1\" class=\"dataframe\">\n",
       "  <thead>\n",
       "    <tr style=\"text-align: right;\">\n",
       "      <th></th>\n",
       "      <th>品类</th>\n",
       "      <th>是否天猫</th>\n",
       "      <th>天猫占比</th>\n",
       "      <th>淘宝占比</th>\n",
       "      <th>皇冠占比</th>\n",
       "      <th>淘宝普通店占比</th>\n",
       "    </tr>\n",
       "  </thead>\n",
       "  <tbody>\n",
       "    <tr>\n",
       "      <th>0</th>\n",
       "      <td>水产</td>\n",
       "      <td>204</td>\n",
       "      <td>0.420619</td>\n",
       "      <td>0.579381</td>\n",
       "      <td>0.239175</td>\n",
       "      <td>0.340206</td>\n",
       "    </tr>\n",
       "    <tr>\n",
       "      <th>1</th>\n",
       "      <td>水果</td>\n",
       "      <td>272</td>\n",
       "      <td>0.605791</td>\n",
       "      <td>0.394209</td>\n",
       "      <td>0.202673</td>\n",
       "      <td>0.191537</td>\n",
       "    </tr>\n",
       "    <tr>\n",
       "      <th>2</th>\n",
       "      <td>肉</td>\n",
       "      <td>623</td>\n",
       "      <td>0.250100</td>\n",
       "      <td>0.749900</td>\n",
       "      <td>0.527098</td>\n",
       "      <td>0.222802</td>\n",
       "    </tr>\n",
       "    <tr>\n",
       "      <th>3</th>\n",
       "      <td>蔬菜</td>\n",
       "      <td>123</td>\n",
       "      <td>0.288056</td>\n",
       "      <td>0.711944</td>\n",
       "      <td>0.327869</td>\n",
       "      <td>0.384075</td>\n",
       "    </tr>\n",
       "    <tr>\n",
       "      <th>4</th>\n",
       "      <td>蛋</td>\n",
       "      <td>246</td>\n",
       "      <td>0.297101</td>\n",
       "      <td>0.702899</td>\n",
       "      <td>0.314010</td>\n",
       "      <td>0.388889</td>\n",
       "    </tr>\n",
       "  </tbody>\n",
       "</table>\n",
       "</div>"
      ],
      "text/plain": [
       "   品类  是否天猫      天猫占比      淘宝占比      皇冠占比   淘宝普通店占比\n",
       "0  水产   204  0.420619  0.579381  0.239175  0.340206\n",
       "1  水果   272  0.605791  0.394209  0.202673  0.191537\n",
       "2   肉   623  0.250100  0.749900  0.527098  0.222802\n",
       "3  蔬菜   123  0.288056  0.711944  0.327869  0.384075\n",
       "4   蛋   246  0.297101  0.702899  0.314010  0.388889"
      ]
     },
     "execution_count": 19,
     "metadata": {},
     "output_type": "execute_result"
    }
   ],
   "source": [
    "data_tmp2['皇冠占比'] = data_tmp3['皇冠占比'] \n",
    "data_tmp2['淘宝普通店占比'] = 1 - data_tmp2['天猫占比'] - data_tmp2['皇冠占比'] \n",
    "data_tmp2"
   ]
  },
  {
   "cell_type": "code",
   "execution_count": 20,
   "metadata": {
    "ExecuteTime": {
     "end_time": "2020-12-21T05:49:28.261479Z",
     "start_time": "2020-12-21T05:49:28.069589Z"
    }
   },
   "outputs": [
    {
     "data": {
      "text/plain": [
       "Text(0.5, 1.0, '各品类的店铺类型')"
      ]
     },
     "execution_count": 20,
     "metadata": {},
     "output_type": "execute_result"
    },
    {
     "data": {
      "image/png": "[encoded data removed]",
      "text/plain": [
       "<Figure size 640x480 with 1 Axes>"
      ]
     },
     "metadata": {},
     "output_type": "display_data"
    }
   ],
   "source": [
    "plt.ylim((0,1.4))\n",
    "plt.yticks([0,0.2,0.4,0.6,0.8,1])\n",
    "plt.bar(data_tmp2['品类'],data_tmp2['天猫占比'], color = ['m'] )\n",
    "plt.bar(data_tmp2['品类'],data_tmp2['皇冠占比'], bottom= data_tmp2['天猫占比'],color = ['g'] )\n",
    "plt.bar(data_tmp2['品类'],data_tmp2['淘宝普通店占比'], bottom= data_tmp2['天猫占比']+data_tmp2['皇冠占比'],color = ['c'] )\n",
    "plt.legend(['天猫店铺','淘宝皇冠店铺','淘宝普通店铺'])\n",
    "plt.title('各品类的店铺类型')"
   ]
  },
  {
   "cell_type": "code",
   "execution_count": 21,
   "metadata": {
    "ExecuteTime": {
     "end_time": "2020-12-21T05:49:30.180275Z",
     "start_time": "2020-12-21T05:49:30.167300Z"
    }
   },
   "outputs": [],
   "source": [
    "data['半年销量'] = data['月销量1']+data['月销量2']+data['月销量3']+data['月销量4']+data['月销量5']+data['月销量6']\n",
    "data['半年销售额'] = data['月销量1']*data['活动价1']+data['月销量2']*data['活动价2']+data['月销量3']*data['活动价3'] \\\n",
    "                     +data['月销量4']*data['活动价4']+data['月销量5']*data['活动价5']+data['月销量6']*data['活动价6']\n",
    "data['客单价'] = data['半年销售额']/data['半年销量']"
   ]
  },
  {
   "cell_type": "code",
   "execution_count": 22,
   "metadata": {
    "ExecuteTime": {
     "end_time": "2020-12-21T05:49:31.831590Z",
     "start_time": "2020-12-21T05:49:31.805591Z"
    }
   },
   "outputs": [],
   "source": [
    "data_tmp = data[['品类','客单价']]"
   ]
  },
  {
   "cell_type": "code",
   "execution_count": 23,
   "metadata": {
    "ExecuteTime": {
     "end_time": "2020-12-21T05:49:32.312601Z",
     "start_time": "2020-12-21T05:49:32.293615Z"
    }
   },
   "outputs": [
    {
     "name": "stdout",
     "output_type": "stream",
     "text": [
      "<class 'pandas.core.frame.DataFrame'>\n",
      "RangeIndex: 10262 entries, 0 to 10261\n",
      "Data columns (total 2 columns):\n",
      " #   Column  Non-Null Count  Dtype  \n",
      "---  ------  --------------  -----  \n",
      " 0   品类      10262 non-null  object \n",
      " 1   客单价     10174 non-null  float64\n",
      "dtypes: float64(1), object(1)\n",
      "memory usage: 160.5+ KB\n"
     ]
    }
   ],
   "source": [
    "data_tmp.info()"
   ]
  },
  {
   "cell_type": "code",
   "execution_count": 24,
   "metadata": {
    "ExecuteTime": {
     "end_time": "2020-12-21T05:49:32.793775Z",
     "start_time": "2020-12-21T05:49:32.781768Z"
    }
   },
   "outputs": [
    {
     "name": "stderr",
     "output_type": "stream",
     "text": [
      "C:\\Users\\lb\\AppData\\Local\\Temp\\ipykernel_6464\\2278731034.py:1: SettingWithCopyWarning: \n",
      "A value is trying to be set on a copy of a slice from a DataFrame\n",
      "\n",
      "See the caveats in the documentation: https://pandas.pydata.org/pandas-docs/stable/user_guide/indexing.html#returning-a-view-versus-a-copy\n",
      "  data_tmp.dropna(inplace = True)\n"
     ]
    }
   ],
   "source": [
    "data_tmp.dropna(inplace = True)"
   ]
  },
  {
   "cell_type": "code",
   "execution_count": 25,
   "metadata": {
    "ExecuteTime": {
     "end_time": "2020-12-21T05:49:33.521595Z",
     "start_time": "2020-12-21T05:49:33.501608Z"
    }
   },
   "outputs": [],
   "source": [
    "data_tmp = data_tmp[['品类','客单价']].groupby('品类',as_index = False).mean()"
   ]
  },
  {
   "cell_type": "code",
   "execution_count": 26,
   "metadata": {
    "ExecuteTime": {
     "end_time": "2020-12-21T05:49:34.001886Z",
     "start_time": "2020-12-21T05:49:33.981898Z"
    }
   },
   "outputs": [
    {
     "data": {
      "text/html": [
       "<div>\n",
       "<style scoped>\n",
       "    .dataframe tbody tr th:only-of-type {\n",
       "        vertical-align: middle;\n",
       "    }\n",
       "\n",
       "    .dataframe tbody tr th {\n",
       "        vertical-align: top;\n",
       "    }\n",
       "\n",
       "    .dataframe thead th {\n",
       "        text-align: right;\n",
       "    }\n",
       "</style>\n",
       "<table border=\"1\" class=\"dataframe\">\n",
       "  <thead>\n",
       "    <tr style=\"text-align: right;\">\n",
       "      <th></th>\n",
       "      <th>品类</th>\n",
       "      <th>客单价</th>\n",
       "    </tr>\n",
       "  </thead>\n",
       "  <tbody>\n",
       "    <tr>\n",
       "      <th>0</th>\n",
       "      <td>水产</td>\n",
       "      <td>112.924025</td>\n",
       "    </tr>\n",
       "    <tr>\n",
       "      <th>1</th>\n",
       "      <td>水果</td>\n",
       "      <td>70.143394</td>\n",
       "    </tr>\n",
       "    <tr>\n",
       "      <th>2</th>\n",
       "      <td>肉</td>\n",
       "      <td>54.479974</td>\n",
       "    </tr>\n",
       "    <tr>\n",
       "      <th>3</th>\n",
       "      <td>蔬菜</td>\n",
       "      <td>54.746936</td>\n",
       "    </tr>\n",
       "    <tr>\n",
       "      <th>4</th>\n",
       "      <td>蛋</td>\n",
       "      <td>63.055770</td>\n",
       "    </tr>\n",
       "  </tbody>\n",
       "</table>\n",
       "</div>"
      ],
      "text/plain": [
       "   品类         客单价\n",
       "0  水产  112.924025\n",
       "1  水果   70.143394\n",
       "2   肉   54.479974\n",
       "3  蔬菜   54.746936\n",
       "4   蛋   63.055770"
      ]
     },
     "execution_count": 26,
     "metadata": {},
     "output_type": "execute_result"
    }
   ],
   "source": [
    "data_tmp"
   ]
  },
  {
   "cell_type": "code",
   "execution_count": 27,
   "metadata": {
    "ExecuteTime": {
     "end_time": "2020-12-21T05:55:25.253909Z",
     "start_time": "2020-12-21T05:55:25.221927Z"
    }
   },
   "outputs": [],
   "source": [
    "#各地销售情况\n",
    "data_tmp = data[['省份','品类','半年销量']]\n",
    "data_tmp = data_tmp.groupby(by = ['品类','省份'],as_index = False).sum()"
   ]
  },
  {
   "cell_type": "code",
   "execution_count": 28,
   "metadata": {
    "ExecuteTime": {
     "end_time": "2020-12-21T05:55:26.303889Z",
     "start_time": "2020-12-21T05:55:26.279889Z"
    }
   },
   "outputs": [],
   "source": [
    "data_tmp1 = data_tmp[data_tmp['品类']=='水产'].sort_values(by=['半年销量'],ascending = False)"
   ]
  },
  {
   "cell_type": "code",
   "execution_count": 29,
   "metadata": {
    "ExecuteTime": {
     "end_time": "2020-12-21T05:55:32.773865Z",
     "start_time": "2020-12-21T05:55:32.743883Z"
    }
   },
   "outputs": [],
   "source": [
    "data_tmp2 = data_tmp[data_tmp['品类']=='水果'].sort_values(by=['半年销量'],ascending = False)"
   ]
  },
  {
   "cell_type": "code",
   "execution_count": 30,
   "metadata": {
    "ExecuteTime": {
     "end_time": "2020-12-21T05:55:38.957761Z",
     "start_time": "2020-12-21T05:55:38.927875Z"
    }
   },
   "outputs": [],
   "source": [
    "data_tmp3 = data_tmp[data_tmp['品类']=='肉'].sort_values(by=['半年销量'],ascending = False)"
   ]
  },
  {
   "cell_type": "code",
   "execution_count": 31,
   "metadata": {
    "ExecuteTime": {
     "end_time": "2020-12-21T05:55:47.021896Z",
     "start_time": "2020-12-21T05:55:46.999912Z"
    }
   },
   "outputs": [],
   "source": [
    "data_tmp4 = data_tmp[data_tmp['品类']=='蔬菜'].sort_values(by=['半年销量'],ascending = False)"
   ]
  },
  {
   "cell_type": "code",
   "execution_count": 32,
   "metadata": {
    "ExecuteTime": {
     "end_time": "2020-12-21T05:55:56.657879Z",
     "start_time": "2020-12-21T05:55:56.623897Z"
    }
   },
   "outputs": [],
   "source": [
    "data_tmp5 = data_tmp[data_tmp['品类']=='蛋'].sort_values(by=['半年销量'],ascending = False)"
   ]
  },
  {
   "cell_type": "code",
   "execution_count": 33,
   "metadata": {},
   "outputs": [
    {
     "name": "stderr",
     "output_type": "stream",
     "text": [
      "C:\\Users\\lb\\AppData\\Local\\Temp\\ipykernel_6464\\714968236.py:6: SettingWithCopyWarning: \n",
      "A value is trying to be set on a copy of a slice from a DataFrame\n",
      "\n",
      "See the caveats in the documentation: https://pandas.pydata.org/pandas-docs/stable/user_guide/indexing.html#returning-a-view-versus-a-copy\n",
      "  data_tmp1.半年销量[data_tmp1.省份=='其他'] = t+s\n"
     ]
    },
    {
     "data": {
      "text/html": [
       "<div>\n",
       "<style scoped>\n",
       "    .dataframe tbody tr th:only-of-type {\n",
       "        vertical-align: middle;\n",
       "    }\n",
       "\n",
       "    .dataframe tbody tr th {\n",
       "        vertical-align: top;\n",
       "    }\n",
       "\n",
       "    .dataframe thead th {\n",
       "        text-align: right;\n",
       "    }\n",
       "</style>\n",
       "<table border=\"1\" class=\"dataframe\">\n",
       "  <thead>\n",
       "    <tr style=\"text-align: right;\">\n",
       "      <th></th>\n",
       "      <th>品类</th>\n",
       "      <th>省份</th>\n",
       "      <th>半年销量</th>\n",
       "    </tr>\n",
       "  </thead>\n",
       "  <tbody>\n",
       "    <tr>\n",
       "      <th>0</th>\n",
       "      <td>水产</td>\n",
       "      <td>山东</td>\n",
       "      <td>1278465.0</td>\n",
       "    </tr>\n",
       "    <tr>\n",
       "      <th>1</th>\n",
       "      <td>水产</td>\n",
       "      <td>非中国大陆</td>\n",
       "      <td>858956.0</td>\n",
       "    </tr>\n",
       "    <tr>\n",
       "      <th>2</th>\n",
       "      <td>水产</td>\n",
       "      <td>福建</td>\n",
       "      <td>171929.0</td>\n",
       "    </tr>\n",
       "    <tr>\n",
       "      <th>3</th>\n",
       "      <td>水产</td>\n",
       "      <td>江苏</td>\n",
       "      <td>145065.0</td>\n",
       "    </tr>\n",
       "    <tr>\n",
       "      <th>4</th>\n",
       "      <td>水产</td>\n",
       "      <td>广东</td>\n",
       "      <td>121519.0</td>\n",
       "    </tr>\n",
       "    <tr>\n",
       "      <th>5</th>\n",
       "      <td>水产</td>\n",
       "      <td>浙江</td>\n",
       "      <td>63373.0</td>\n",
       "    </tr>\n",
       "    <tr>\n",
       "      <th>6</th>\n",
       "      <td>水产</td>\n",
       "      <td>辽宁</td>\n",
       "      <td>58073.0</td>\n",
       "    </tr>\n",
       "    <tr>\n",
       "      <th>7</th>\n",
       "      <td>水产</td>\n",
       "      <td>广西</td>\n",
       "      <td>21369.0</td>\n",
       "    </tr>\n",
       "    <tr>\n",
       "      <th>8</th>\n",
       "      <td>水产</td>\n",
       "      <td>湖南</td>\n",
       "      <td>20529.0</td>\n",
       "    </tr>\n",
       "    <tr>\n",
       "      <th>9</th>\n",
       "      <td>水产</td>\n",
       "      <td>河北</td>\n",
       "      <td>4338.0</td>\n",
       "    </tr>\n",
       "  </tbody>\n",
       "</table>\n",
       "</div>"
      ],
      "text/plain": [
       "   品类     省份       半年销量\n",
       "0  水产     山东  1278465.0\n",
       "1  水产  非中国大陆   858956.0\n",
       "2  水产     福建   171929.0\n",
       "3  水产     江苏   145065.0\n",
       "4  水产     广东   121519.0\n",
       "5  水产     浙江    63373.0\n",
       "6  水产     辽宁    58073.0\n",
       "7  水产     广西    21369.0\n",
       "8  水产     湖南    20529.0\n",
       "9  水产     河北     4338.0"
      ]
     },
     "execution_count": 33,
     "metadata": {},
     "output_type": "execute_result"
    }
   ],
   "source": [
    "data_tmp1.reset_index(drop = True, inplace = True)\n",
    "s = 0\n",
    "for i in range(10,len(data_tmp1)):\n",
    "    s = s+data_tmp1['半年销量'][i]\n",
    "t = data_tmp1.半年销量[data_tmp1.省份=='其他']\n",
    "data_tmp1.半年销量[data_tmp1.省份=='其他'] = t+s\n",
    "data_tmp1.drop(labels=range(10,len(data_tmp1)),axis=0, inplace=True)\n",
    "data_tmp1"
   ]
  },
  {
   "cell_type": "code",
   "execution_count": 34,
   "metadata": {},
   "outputs": [
    {
     "data": {
      "text/plain": [
       "Text(0.5, 1.0, '水产品类Top9省份')"
      ]
     },
     "execution_count": 34,
     "metadata": {},
     "output_type": "execute_result"
    },
    {
     "data": {
      "image/png": "[encoded data removed]",
      "text/plain": [
       "<Figure size 950x950 with 1 Axes>"
      ]
     },
     "metadata": {},
     "output_type": "display_data"
    }
   ],
   "source": [
    "plt.figure(figsize=(9.5,9.5))## 将画布设定为正方形，则绘制的饼图是正圆\n",
    "explode=[0.05, 0,0,0,0,0,0.05,0,0,0]\n",
    "plt.pie(data_tmp1['半年销量'],explode = explode,labels = data_tmp1['省份'])\n",
    "plt.title('水产品类Top9省份')"
   ]
  },
  {
   "cell_type": "code",
   "execution_count": 35,
   "metadata": {},
   "outputs": [
    {
     "data": {
      "text/html": [
       "<div>\n",
       "<style scoped>\n",
       "    .dataframe tbody tr th:only-of-type {\n",
       "        vertical-align: middle;\n",
       "    }\n",
       "\n",
       "    .dataframe tbody tr th {\n",
       "        vertical-align: top;\n",
       "    }\n",
       "\n",
       "    .dataframe thead th {\n",
       "        text-align: right;\n",
       "    }\n",
       "</style>\n",
       "<table border=\"1\" class=\"dataframe\">\n",
       "  <thead>\n",
       "    <tr style=\"text-align: right;\">\n",
       "      <th></th>\n",
       "      <th>品类</th>\n",
       "      <th>省份</th>\n",
       "      <th>半年销量</th>\n",
       "    </tr>\n",
       "  </thead>\n",
       "  <tbody>\n",
       "    <tr>\n",
       "      <th>0</th>\n",
       "      <td>水果</td>\n",
       "      <td>广西</td>\n",
       "      <td>5534491.0</td>\n",
       "    </tr>\n",
       "    <tr>\n",
       "      <th>1</th>\n",
       "      <td>水果</td>\n",
       "      <td>江苏</td>\n",
       "      <td>4283324.0</td>\n",
       "    </tr>\n",
       "    <tr>\n",
       "      <th>2</th>\n",
       "      <td>水果</td>\n",
       "      <td>四川</td>\n",
       "      <td>4174821.0</td>\n",
       "    </tr>\n",
       "    <tr>\n",
       "      <th>3</th>\n",
       "      <td>水果</td>\n",
       "      <td>山西</td>\n",
       "      <td>2798776.0</td>\n",
       "    </tr>\n",
       "    <tr>\n",
       "      <th>4</th>\n",
       "      <td>水果</td>\n",
       "      <td>非中国大陆</td>\n",
       "      <td>2561250.0</td>\n",
       "    </tr>\n",
       "    <tr>\n",
       "      <th>5</th>\n",
       "      <td>水果</td>\n",
       "      <td>云南</td>\n",
       "      <td>2452862.0</td>\n",
       "    </tr>\n",
       "    <tr>\n",
       "      <th>6</th>\n",
       "      <td>水果</td>\n",
       "      <td>湖南</td>\n",
       "      <td>2382166.0</td>\n",
       "    </tr>\n",
       "    <tr>\n",
       "      <th>7</th>\n",
       "      <td>水果</td>\n",
       "      <td>江西</td>\n",
       "      <td>1663799.0</td>\n",
       "    </tr>\n",
       "    <tr>\n",
       "      <th>8</th>\n",
       "      <td>水果</td>\n",
       "      <td>新疆</td>\n",
       "      <td>1513459.0</td>\n",
       "    </tr>\n",
       "    <tr>\n",
       "      <th>9</th>\n",
       "      <td>水果</td>\n",
       "      <td>海南</td>\n",
       "      <td>1371302.0</td>\n",
       "    </tr>\n",
       "    <tr>\n",
       "      <th>10</th>\n",
       "      <td>水果</td>\n",
       "      <td>陕西</td>\n",
       "      <td>751535.0</td>\n",
       "    </tr>\n",
       "    <tr>\n",
       "      <th>11</th>\n",
       "      <td>水果</td>\n",
       "      <td>山东</td>\n",
       "      <td>690886.0</td>\n",
       "    </tr>\n",
       "    <tr>\n",
       "      <th>12</th>\n",
       "      <td>水果</td>\n",
       "      <td>福建</td>\n",
       "      <td>674744.0</td>\n",
       "    </tr>\n",
       "    <tr>\n",
       "      <th>13</th>\n",
       "      <td>水果</td>\n",
       "      <td>甘肃</td>\n",
       "      <td>285125.0</td>\n",
       "    </tr>\n",
       "    <tr>\n",
       "      <th>14</th>\n",
       "      <td>水果</td>\n",
       "      <td>广东</td>\n",
       "      <td>255852.0</td>\n",
       "    </tr>\n",
       "    <tr>\n",
       "      <th>15</th>\n",
       "      <td>水果</td>\n",
       "      <td>安徽</td>\n",
       "      <td>160574.0</td>\n",
       "    </tr>\n",
       "    <tr>\n",
       "      <th>16</th>\n",
       "      <td>水果</td>\n",
       "      <td>湖北</td>\n",
       "      <td>127871.0</td>\n",
       "    </tr>\n",
       "    <tr>\n",
       "      <th>17</th>\n",
       "      <td>水果</td>\n",
       "      <td>河北</td>\n",
       "      <td>93739.0</td>\n",
       "    </tr>\n",
       "    <tr>\n",
       "      <th>18</th>\n",
       "      <td>水果</td>\n",
       "      <td>河南</td>\n",
       "      <td>75378.0</td>\n",
       "    </tr>\n",
       "    <tr>\n",
       "      <th>19</th>\n",
       "      <td>水果</td>\n",
       "      <td>辽宁</td>\n",
       "      <td>47611.0</td>\n",
       "    </tr>\n",
       "    <tr>\n",
       "      <th>20</th>\n",
       "      <td>水果</td>\n",
       "      <td>浙江</td>\n",
       "      <td>19798.0</td>\n",
       "    </tr>\n",
       "    <tr>\n",
       "      <th>21</th>\n",
       "      <td>水果</td>\n",
       "      <td>吉林</td>\n",
       "      <td>7866.0</td>\n",
       "    </tr>\n",
       "    <tr>\n",
       "      <th>22</th>\n",
       "      <td>水果</td>\n",
       "      <td>贵州</td>\n",
       "      <td>4220.0</td>\n",
       "    </tr>\n",
       "    <tr>\n",
       "      <th>23</th>\n",
       "      <td>水果</td>\n",
       "      <td>宁夏</td>\n",
       "      <td>489.0</td>\n",
       "    </tr>\n",
       "  </tbody>\n",
       "</table>\n",
       "</div>"
      ],
      "text/plain": [
       "    品类     省份       半年销量\n",
       "0   水果     广西  5534491.0\n",
       "1   水果     江苏  4283324.0\n",
       "2   水果     四川  4174821.0\n",
       "3   水果     山西  2798776.0\n",
       "4   水果  非中国大陆  2561250.0\n",
       "5   水果     云南  2452862.0\n",
       "6   水果     湖南  2382166.0\n",
       "7   水果     江西  1663799.0\n",
       "8   水果     新疆  1513459.0\n",
       "9   水果     海南  1371302.0\n",
       "10  水果     陕西   751535.0\n",
       "11  水果     山东   690886.0\n",
       "12  水果     福建   674744.0\n",
       "13  水果     甘肃   285125.0\n",
       "14  水果     广东   255852.0\n",
       "15  水果     安徽   160574.0\n",
       "16  水果     湖北   127871.0\n",
       "17  水果     河北    93739.0\n",
       "18  水果     河南    75378.0\n",
       "19  水果     辽宁    47611.0\n",
       "20  水果     浙江    19798.0\n",
       "21  水果     吉林     7866.0\n",
       "22  水果     贵州     4220.0\n",
       "23  水果     宁夏      489.0"
      ]
     },
     "execution_count": 35,
     "metadata": {},
     "output_type": "execute_result"
    }
   ],
   "source": [
    "data_tmp2.reset_index(drop = True, inplace = True)\n",
    "data_tmp2"
   ]
  },
  {
   "cell_type": "code",
   "execution_count": 36,
   "metadata": {},
   "outputs": [],
   "source": [
    "s = 0\n",
    "for i in range(9,len(data_tmp2)):\n",
    "    s = s+data_tmp2['半年销量'][i]\n",
    "data_tmp2.drop(labels=range(9,len(data_tmp2)),axis=0, inplace=True)"
   ]
  },
  {
   "cell_type": "code",
   "execution_count": 37,
   "metadata": {},
   "outputs": [
    {
     "name": "stderr",
     "output_type": "stream",
     "text": [
      "C:\\Users\\lb\\AppData\\Local\\Temp\\ipykernel_6464\\2033839287.py:1: FutureWarning: The frame.append method is deprecated and will be removed from pandas in a future version. Use pandas.concat instead.\n",
      "  data_tmp2 = data_tmp2.append({'品类':'水果','省份':'其他','半年销量':s},ignore_index=True)\n"
     ]
    }
   ],
   "source": [
    "data_tmp2 = data_tmp2.append({'品类':'水果','省份':'其他','半年销量':s},ignore_index=True)"
   ]
  },
  {
   "cell_type": "code",
   "execution_count": 38,
   "metadata": {},
   "outputs": [
    {
     "data": {
      "text/html": [
       "<div>\n",
       "<style scoped>\n",
       "    .dataframe tbody tr th:only-of-type {\n",
       "        vertical-align: middle;\n",
       "    }\n",
       "\n",
       "    .dataframe tbody tr th {\n",
       "        vertical-align: top;\n",
       "    }\n",
       "\n",
       "    .dataframe thead th {\n",
       "        text-align: right;\n",
       "    }\n",
       "</style>\n",
       "<table border=\"1\" class=\"dataframe\">\n",
       "  <thead>\n",
       "    <tr style=\"text-align: right;\">\n",
       "      <th></th>\n",
       "      <th>品类</th>\n",
       "      <th>省份</th>\n",
       "      <th>半年销量</th>\n",
       "    </tr>\n",
       "  </thead>\n",
       "  <tbody>\n",
       "    <tr>\n",
       "      <th>0</th>\n",
       "      <td>水果</td>\n",
       "      <td>广西</td>\n",
       "      <td>5534491.0</td>\n",
       "    </tr>\n",
       "    <tr>\n",
       "      <th>1</th>\n",
       "      <td>水果</td>\n",
       "      <td>江苏</td>\n",
       "      <td>4283324.0</td>\n",
       "    </tr>\n",
       "    <tr>\n",
       "      <th>2</th>\n",
       "      <td>水果</td>\n",
       "      <td>四川</td>\n",
       "      <td>4174821.0</td>\n",
       "    </tr>\n",
       "    <tr>\n",
       "      <th>3</th>\n",
       "      <td>水果</td>\n",
       "      <td>山西</td>\n",
       "      <td>2798776.0</td>\n",
       "    </tr>\n",
       "    <tr>\n",
       "      <th>4</th>\n",
       "      <td>水果</td>\n",
       "      <td>非中国大陆</td>\n",
       "      <td>2561250.0</td>\n",
       "    </tr>\n",
       "    <tr>\n",
       "      <th>5</th>\n",
       "      <td>水果</td>\n",
       "      <td>云南</td>\n",
       "      <td>2452862.0</td>\n",
       "    </tr>\n",
       "    <tr>\n",
       "      <th>6</th>\n",
       "      <td>水果</td>\n",
       "      <td>湖南</td>\n",
       "      <td>2382166.0</td>\n",
       "    </tr>\n",
       "    <tr>\n",
       "      <th>7</th>\n",
       "      <td>水果</td>\n",
       "      <td>江西</td>\n",
       "      <td>1663799.0</td>\n",
       "    </tr>\n",
       "    <tr>\n",
       "      <th>8</th>\n",
       "      <td>水果</td>\n",
       "      <td>新疆</td>\n",
       "      <td>1513459.0</td>\n",
       "    </tr>\n",
       "    <tr>\n",
       "      <th>9</th>\n",
       "      <td>水果</td>\n",
       "      <td>其他</td>\n",
       "      <td>4566990.0</td>\n",
       "    </tr>\n",
       "  </tbody>\n",
       "</table>\n",
       "</div>"
      ],
      "text/plain": [
       "   品类     省份       半年销量\n",
       "0  水果     广西  5534491.0\n",
       "1  水果     江苏  4283324.0\n",
       "2  水果     四川  4174821.0\n",
       "3  水果     山西  2798776.0\n",
       "4  水果  非中国大陆  2561250.0\n",
       "5  水果     云南  2452862.0\n",
       "6  水果     湖南  2382166.0\n",
       "7  水果     江西  1663799.0\n",
       "8  水果     新疆  1513459.0\n",
       "9  水果     其他  4566990.0"
      ]
     },
     "execution_count": 38,
     "metadata": {},
     "output_type": "execute_result"
    }
   ],
   "source": [
    "data_tmp2"
   ]
  },
  {
   "cell_type": "code",
   "execution_count": 39,
   "metadata": {},
   "outputs": [
    {
     "data": {
      "text/plain": [
       "Text(0.5, 1.0, '水果品类Top9省份')"
      ]
     },
     "execution_count": 39,
     "metadata": {},
     "output_type": "execute_result"
    },
    {
     "data": {
      "image/png": "[encoded data removed]",
      "text/plain": [
       "<Figure size 950x950 with 1 Axes>"
      ]
     },
     "metadata": {},
     "output_type": "display_data"
    }
   ],
   "source": [
    "plt.figure(figsize=(9.5,9.5))## 将画布设定为正方形，则绘制的饼图是正圆\n",
    "explode=[0.05, 0,0,0,0,0,0,0,0,0.05]\n",
    "plt.pie(data_tmp2['半年销量'],explode = explode,labels = data_tmp2['省份'])\n",
    "plt.title('水果品类Top9省份')"
   ]
  },
  {
   "cell_type": "code",
   "execution_count": 40,
   "metadata": {},
   "outputs": [],
   "source": [
    "data.to_csv('./data/1.1/data2.csv',header=True,index=False)"
   ]
  },
  {
   "cell_type": "code",
   "execution_count": null,
   "metadata": {},
   "outputs": [],
   "source": []
  }
 ],
 "metadata": {
  "kernelspec": {
   "display_name": "Python 3 (ipykernel)",
   "language": "python",
   "name": "python3"
  },
  "language_info": {
   "codemirror_mode": {
    "name": "ipython",
    "version": 3
   },
   "file_extension": ".py",
   "mimetype": "text/x-python",
   "name": "python",
   "nbconvert_exporter": "python",
   "pygments_lexer": "ipython3",
   "version": "3.9.13"
  },
  "toc": {
   "base_numbering": 1,
   "nav_menu": {},
   "number_sections": true,
   "sideBar": true,
   "skip_h1_title": false,
   "title_cell": "Table of Contents",
   "title_sidebar": "Contents",
   "toc_cell": false,
   "toc_position": {},
   "toc_section_display": true,
   "toc_window_display": false
  }
 },
 "nbformat": 4,
 "nbformat_minor": 2
}
