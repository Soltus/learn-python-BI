{
 "cells": [
  {
   "cell_type": "code",
   "execution_count": 1,
   "metadata": {
    "ExecuteTime": {
     "end_time": "2020-12-20T01:58:17.204676Z",
     "start_time": "2020-12-20T01:58:17.188685Z"
    }
   },
   "outputs": [],
   "source": [
    "import pandas as pd"
   ]
  },
  {
   "cell_type": "code",
   "execution_count": 2,
   "metadata": {
    "ExecuteTime": {
     "end_time": "2020-12-20T01:58:18.166038Z",
     "start_time": "2020-12-20T01:58:17.951680Z"
    }
   },
   "outputs": [
    {
     "data": {
      "text/html": [
       "<div>\n",
       "<style scoped>\n",
       "    .dataframe tbody tr th:only-of-type {\n",
       "        vertical-align: middle;\n",
       "    }\n",
       "\n",
       "    .dataframe tbody tr th {\n",
       "        vertical-align: top;\n",
       "    }\n",
       "\n",
       "    .dataframe thead th {\n",
       "        text-align: right;\n",
       "    }\n",
       "</style>\n",
       "<table border=\"1\" class=\"dataframe\">\n",
       "  <thead>\n",
       "    <tr style=\"text-align: right;\">\n",
       "      <th></th>\n",
       "      <th>ID</th>\n",
       "      <th>标题</th>\n",
       "      <th>店铺名</th>\n",
       "      <th>原价</th>\n",
       "      <th>快递费</th>\n",
       "      <th>快递地区</th>\n",
       "      <th>基本信息</th>\n",
       "      <th>品类</th>\n",
       "    </tr>\n",
       "  </thead>\n",
       "  <tbody>\n",
       "    <tr>\n",
       "      <th>0</th>\n",
       "      <td>567797118294</td>\n",
       "      <td>[山客自养] 绿色有机土鸡蛋 农村散养 20枚装 破蛋包赔</td>\n",
       "      <td>267f241390522d93</td>\n",
       "      <td>56.2</td>\n",
       "      <td>12.0</td>\n",
       "      <td>吉林</td>\n",
       "      <td>包装方式：食用农产品||产地：中国大陆||省份：吉林省||城市：吉林市||枚数：20枚||净...</td>\n",
       "      <td>蛋</td>\n",
       "    </tr>\n",
       "    <tr>\n",
       "      <th>1</th>\n",
       "      <td>554095491655</td>\n",
       "      <td>超大蛋3斤鸵鸟蛋新鲜送礼土豪蛋自家养殖破损包赔</td>\n",
       "      <td>d32a9408880d6d3b</td>\n",
       "      <td>175.0</td>\n",
       "      <td>0.0</td>\n",
       "      <td>山东 淄博</td>\n",
       "      <td>包装方式：食用农产品||生鲜储存温度：0-8℃||产地：中国大陆||省份：山东省||城市：淄...</td>\n",
       "      <td>蛋</td>\n",
       "    </tr>\n",
       "    <tr>\n",
       "      <th>2</th>\n",
       "      <td>550183128850</td>\n",
       "      <td>天飨村 咕叽咕叽农家散养新鲜纯天然30枚 粉壳土鸡蛋</td>\n",
       "      <td>891d50a4b916c106</td>\n",
       "      <td>55.0</td>\n",
       "      <td>0.0</td>\n",
       "      <td>湖南 长沙</td>\n",
       "      <td>包装方式：食用农产品||同城服务：同城24小时卖家送货上门||售卖方式：组合||是否为有机食...</td>\n",
       "      <td>蛋</td>\n",
       "    </tr>\n",
       "    <tr>\n",
       "      <th>3</th>\n",
       "      <td>569390163639</td>\n",
       "      <td>正宗农村农家野外散养土鸡蛋 新鲜草鸡蛋柴笨鸡蛋 富硒土鸡蛋30枚</td>\n",
       "      <td>7a6d2e534db34688</td>\n",
       "      <td>43.8</td>\n",
       "      <td>0.0</td>\n",
       "      <td>安徽 安庆</td>\n",
       "      <td>净含量：1350g||包装方式：食用农产品||枚数：30枚||产地：中国大陆||省份：安徽省...</td>\n",
       "      <td>蛋</td>\n",
       "    </tr>\n",
       "    <tr>\n",
       "      <th>4</th>\n",
       "      <td>572170484146</td>\n",
       "      <td>野外散养土鸡蛋农家散养树林柴鸡蛋农村草鸡蛋新鲜当日鸡蛋30枚装</td>\n",
       "      <td>b4c281826b800e11</td>\n",
       "      <td>79.0</td>\n",
       "      <td>0.0</td>\n",
       "      <td>安徽 宣城</td>\n",
       "      <td>包装方式：食用农产品||产地：中国大陆||省份：安徽省||城市：宣城市||枚数：30枚||净...</td>\n",
       "      <td>蛋</td>\n",
       "    </tr>\n",
       "  </tbody>\n",
       "</table>\n",
       "</div>"
      ],
      "text/plain": [
       "             ID                                标题               店铺名     原价  \\\n",
       "0  567797118294     [山客自养] 绿色有机土鸡蛋 农村散养 20枚装 破蛋包赔  267f241390522d93   56.2   \n",
       "1  554095491655           超大蛋3斤鸵鸟蛋新鲜送礼土豪蛋自家养殖破损包赔  d32a9408880d6d3b  175.0   \n",
       "2  550183128850        天飨村 咕叽咕叽农家散养新鲜纯天然30枚 粉壳土鸡蛋  891d50a4b916c106   55.0   \n",
       "3  569390163639  正宗农村农家野外散养土鸡蛋 新鲜草鸡蛋柴笨鸡蛋 富硒土鸡蛋30枚  7a6d2e534db34688   43.8   \n",
       "4  572170484146   野外散养土鸡蛋农家散养树林柴鸡蛋农村草鸡蛋新鲜当日鸡蛋30枚装  b4c281826b800e11   79.0   \n",
       "\n",
       "    快递费   快递地区                                               基本信息 品类  \n",
       "0  12.0     吉林  包装方式：食用农产品||产地：中国大陆||省份：吉林省||城市：吉林市||枚数：20枚||净...  蛋  \n",
       "1   0.0  山东 淄博  包装方式：食用农产品||生鲜储存温度：0-8℃||产地：中国大陆||省份：山东省||城市：淄...  蛋  \n",
       "2   0.0  湖南 长沙  包装方式：食用农产品||同城服务：同城24小时卖家送货上门||售卖方式：组合||是否为有机食...  蛋  \n",
       "3   0.0  安徽 安庆  净含量：1350g||包装方式：食用农产品||枚数：30枚||产地：中国大陆||省份：安徽省...  蛋  \n",
       "4   0.0  安徽 宣城  包装方式：食用农产品||产地：中国大陆||省份：安徽省||城市：宣城市||枚数：30枚||净...  蛋  "
      ]
     },
     "execution_count": 2,
     "metadata": {},
     "output_type": "execute_result"
    }
   ],
   "source": [
    "data1 = pd.read_csv('./data/1.1/第一次.csv')\n",
    "data1.head(5)"
   ]
  },
  {
   "cell_type": "code",
   "execution_count": 3,
   "metadata": {
    "ExecuteTime": {
     "end_time": "2020-12-20T01:58:21.350706Z",
     "start_time": "2020-12-20T01:58:21.315745Z"
    }
   },
   "outputs": [
    {
     "name": "stdout",
     "output_type": "stream",
     "text": [
      "<class 'pandas.core.frame.DataFrame'>\n",
      "RangeIndex: 18944 entries, 0 to 18943\n",
      "Data columns (total 8 columns):\n",
      " #   Column  Non-Null Count  Dtype  \n",
      "---  ------  --------------  -----  \n",
      " 0   ID      18944 non-null  int64  \n",
      " 1   标题      18944 non-null  object \n",
      " 2   店铺名     18944 non-null  object \n",
      " 3   原价      18944 non-null  float64\n",
      " 4   快递费     18944 non-null  float64\n",
      " 5   快递地区    18944 non-null  object \n",
      " 6   基本信息    18944 non-null  object \n",
      " 7   品类      18944 non-null  object \n",
      "dtypes: float64(2), int64(1), object(5)\n",
      "memory usage: 1.2+ MB\n"
     ]
    }
   ],
   "source": [
    "data1.info()"
   ]
  },
  {
   "cell_type": "code",
   "execution_count": 5,
   "metadata": {
    "ExecuteTime": {
     "end_time": "2020-12-20T01:58:54.784521Z",
     "start_time": "2020-12-20T01:58:54.733551Z"
    }
   },
   "outputs": [
    {
     "data": {
      "text/html": [
       "<div>\n",
       "<style scoped>\n",
       "    .dataframe tbody tr th:only-of-type {\n",
       "        vertical-align: middle;\n",
       "    }\n",
       "\n",
       "    .dataframe tbody tr th {\n",
       "        vertical-align: top;\n",
       "    }\n",
       "\n",
       "    .dataframe thead th {\n",
       "        text-align: right;\n",
       "    }\n",
       "</style>\n",
       "<table border=\"1\" class=\"dataframe\">\n",
       "  <thead>\n",
       "    <tr style=\"text-align: right;\">\n",
       "      <th></th>\n",
       "      <th>ID</th>\n",
       "      <th>活动价</th>\n",
       "      <th>累计评价</th>\n",
       "      <th>月销量</th>\n",
       "      <th>信誉</th>\n",
       "      <th>天猫分数</th>\n",
       "    </tr>\n",
       "  </thead>\n",
       "  <tbody>\n",
       "    <tr>\n",
       "      <th>0</th>\n",
       "      <td>567797118294</td>\n",
       "      <td>56.2</td>\n",
       "      <td>11.0</td>\n",
       "      <td>0.0</td>\n",
       "      <td>816.0</td>\n",
       "      <td>0.0</td>\n",
       "    </tr>\n",
       "    <tr>\n",
       "      <th>1</th>\n",
       "      <td>554095491655</td>\n",
       "      <td>178.0</td>\n",
       "      <td>339.0</td>\n",
       "      <td>39.0</td>\n",
       "      <td>8456.0</td>\n",
       "      <td>0.0</td>\n",
       "    </tr>\n",
       "    <tr>\n",
       "      <th>2</th>\n",
       "      <td>576944413519</td>\n",
       "      <td>99.0</td>\n",
       "      <td>40.0</td>\n",
       "      <td>0.0</td>\n",
       "      <td>40.0</td>\n",
       "      <td>0.0</td>\n",
       "    </tr>\n",
       "    <tr>\n",
       "      <th>3</th>\n",
       "      <td>550183128850</td>\n",
       "      <td>55.0</td>\n",
       "      <td>27.0</td>\n",
       "      <td>5.0</td>\n",
       "      <td>2371.0</td>\n",
       "      <td>0.0</td>\n",
       "    </tr>\n",
       "    <tr>\n",
       "      <th>4</th>\n",
       "      <td>569390163639</td>\n",
       "      <td>43.8</td>\n",
       "      <td>181.0</td>\n",
       "      <td>24.0</td>\n",
       "      <td>13464.0</td>\n",
       "      <td>0.0</td>\n",
       "    </tr>\n",
       "  </tbody>\n",
       "</table>\n",
       "</div>"
      ],
      "text/plain": [
       "             ID    活动价   累计评价   月销量       信誉  天猫分数\n",
       "0  567797118294   56.2   11.0   0.0    816.0   0.0\n",
       "1  554095491655  178.0  339.0  39.0   8456.0   0.0\n",
       "2  576944413519   99.0   40.0   0.0     40.0   0.0\n",
       "3  550183128850   55.0   27.0   5.0   2371.0   0.0\n",
       "4  569390163639   43.8  181.0  24.0  13464.0   0.0"
      ]
     },
     "execution_count": 5,
     "metadata": {},
     "output_type": "execute_result"
    }
   ],
   "source": [
    "data2 = pd.read_csv('./data/1.1/第二次.csv')\n",
    "data2.head(5)"
   ]
  },
  {
   "cell_type": "code",
   "execution_count": 6,
   "metadata": {
    "ExecuteTime": {
     "end_time": "2020-12-20T01:58:55.662691Z",
     "start_time": "2020-12-20T01:58:55.651714Z"
    }
   },
   "outputs": [],
   "source": [
    "data2.rename(columns={'活动价':'活动价1', '累计评价':'累计评价1','月销量':'月销量1','信誉':'信誉1','天猫分数':'天猫分数1'}, inplace = True)"
   ]
  },
  {
   "cell_type": "code",
   "execution_count": 7,
   "metadata": {
    "ExecuteTime": {
     "end_time": "2020-12-20T01:59:09.038728Z",
     "start_time": "2020-12-20T01:59:09.011729Z"
    }
   },
   "outputs": [
    {
     "name": "stdout",
     "output_type": "stream",
     "text": [
      "<class 'pandas.core.frame.DataFrame'>\n",
      "RangeIndex: 27999 entries, 0 to 27998\n",
      "Data columns (total 6 columns):\n",
      " #   Column  Non-Null Count  Dtype  \n",
      "---  ------  --------------  -----  \n",
      " 0   ID      27999 non-null  int64  \n",
      " 1   活动价1    27999 non-null  float64\n",
      " 2   累计评价1   27946 non-null  float64\n",
      " 3   月销量1    27998 non-null  float64\n",
      " 4   信誉1     19217 non-null  float64\n",
      " 5   天猫分数1   27993 non-null  float64\n",
      "dtypes: float64(5), int64(1)\n",
      "memory usage: 1.3 MB\n"
     ]
    }
   ],
   "source": [
    "data2.info()"
   ]
  },
  {
   "cell_type": "code",
   "execution_count": 8,
   "metadata": {
    "ExecuteTime": {
     "end_time": "2020-12-20T01:59:23.669718Z",
     "start_time": "2020-12-20T01:59:23.643751Z"
    }
   },
   "outputs": [
    {
     "name": "stdout",
     "output_type": "stream",
     "text": [
      "<class 'pandas.core.frame.DataFrame'>\n",
      "RangeIndex: 27939 entries, 0 to 27938\n",
      "Data columns (total 6 columns):\n",
      " #   Column  Non-Null Count  Dtype  \n",
      "---  ------  --------------  -----  \n",
      " 0   ID      27939 non-null  int64  \n",
      " 1   活动价1    27939 non-null  float64\n",
      " 2   累计评价1   27939 non-null  float64\n",
      " 3   月销量1    27939 non-null  float64\n",
      " 4   信誉1     19158 non-null  float64\n",
      " 5   天猫分数1   27939 non-null  float64\n",
      "dtypes: float64(5), int64(1)\n",
      "memory usage: 1.3 MB\n"
     ]
    }
   ],
   "source": [
    "data2.dropna(subset = ['累计评价1','月销量1','天猫分数1'], inplace = True)\n",
    "data2.reset_index(drop=True,inplace = True)\n",
    "data2.info()"
   ]
  },
  {
   "cell_type": "code",
   "execution_count": 9,
   "metadata": {
    "ExecuteTime": {
     "end_time": "2020-12-20T01:59:27.789691Z",
     "start_time": "2020-12-20T01:59:27.724730Z"
    }
   },
   "outputs": [
    {
     "data": {
      "text/html": [
       "<div>\n",
       "<style scoped>\n",
       "    .dataframe tbody tr th:only-of-type {\n",
       "        vertical-align: middle;\n",
       "    }\n",
       "\n",
       "    .dataframe tbody tr th {\n",
       "        vertical-align: top;\n",
       "    }\n",
       "\n",
       "    .dataframe thead th {\n",
       "        text-align: right;\n",
       "    }\n",
       "</style>\n",
       "<table border=\"1\" class=\"dataframe\">\n",
       "  <thead>\n",
       "    <tr style=\"text-align: right;\">\n",
       "      <th></th>\n",
       "      <th>ID</th>\n",
       "      <th>活动价</th>\n",
       "      <th>累计评价</th>\n",
       "      <th>月销量</th>\n",
       "      <th>信誉</th>\n",
       "      <th>天猫分数</th>\n",
       "    </tr>\n",
       "  </thead>\n",
       "  <tbody>\n",
       "    <tr>\n",
       "      <th>0</th>\n",
       "      <td>567797118294</td>\n",
       "      <td>56.2</td>\n",
       "      <td>9.0</td>\n",
       "      <td>0.0</td>\n",
       "      <td>862.0</td>\n",
       "      <td>0.0</td>\n",
       "    </tr>\n",
       "    <tr>\n",
       "      <th>1</th>\n",
       "      <td>554095491655</td>\n",
       "      <td>196.0</td>\n",
       "      <td>321.0</td>\n",
       "      <td>34.0</td>\n",
       "      <td>8728.0</td>\n",
       "      <td>0.0</td>\n",
       "    </tr>\n",
       "    <tr>\n",
       "      <th>2</th>\n",
       "      <td>576944413519</td>\n",
       "      <td>79.0</td>\n",
       "      <td>40.0</td>\n",
       "      <td>1.0</td>\n",
       "      <td>40.0</td>\n",
       "      <td>0.0</td>\n",
       "    </tr>\n",
       "    <tr>\n",
       "      <th>3</th>\n",
       "      <td>550183128850</td>\n",
       "      <td>55.0</td>\n",
       "      <td>28.0</td>\n",
       "      <td>8.0</td>\n",
       "      <td>2378.0</td>\n",
       "      <td>0.0</td>\n",
       "    </tr>\n",
       "    <tr>\n",
       "      <th>4</th>\n",
       "      <td>569390163639</td>\n",
       "      <td>43.8</td>\n",
       "      <td>171.0</td>\n",
       "      <td>10.0</td>\n",
       "      <td>13664.0</td>\n",
       "      <td>0.0</td>\n",
       "    </tr>\n",
       "  </tbody>\n",
       "</table>\n",
       "</div>"
      ],
      "text/plain": [
       "             ID    活动价   累计评价   月销量       信誉  天猫分数\n",
       "0  567797118294   56.2    9.0   0.0    862.0   0.0\n",
       "1  554095491655  196.0  321.0  34.0   8728.0   0.0\n",
       "2  576944413519   79.0   40.0   1.0     40.0   0.0\n",
       "3  550183128850   55.0   28.0   8.0   2378.0   0.0\n",
       "4  569390163639   43.8  171.0  10.0  13664.0   0.0"
      ]
     },
     "execution_count": 9,
     "metadata": {},
     "output_type": "execute_result"
    }
   ],
   "source": [
    "data3 = pd.read_csv('./data/1.1/第三次.csv')\n",
    "data3.head(5)"
   ]
  },
  {
   "cell_type": "code",
   "execution_count": 10,
   "metadata": {
    "ExecuteTime": {
     "end_time": "2020-12-20T01:59:41.457689Z",
     "start_time": "2020-12-20T01:59:41.443697Z"
    }
   },
   "outputs": [],
   "source": [
    "data3.rename(columns={'活动价':'活动价2', '累计评价':'累计评价2','月销量':'月销量2','信誉':'信誉2','天猫分数':'天猫分数2'}, inplace = True)"
   ]
  },
  {
   "cell_type": "code",
   "execution_count": 11,
   "metadata": {
    "ExecuteTime": {
     "end_time": "2020-12-20T01:59:43.111068Z",
     "start_time": "2020-12-20T01:59:43.079819Z"
    }
   },
   "outputs": [
    {
     "name": "stdout",
     "output_type": "stream",
     "text": [
      "<class 'pandas.core.frame.DataFrame'>\n",
      "RangeIndex: 25924 entries, 0 to 25923\n",
      "Data columns (total 6 columns):\n",
      " #   Column  Non-Null Count  Dtype  \n",
      "---  ------  --------------  -----  \n",
      " 0   ID      25924 non-null  int64  \n",
      " 1   活动价2    25924 non-null  float64\n",
      " 2   累计评价2   25834 non-null  float64\n",
      " 3   月销量2    25922 non-null  float64\n",
      " 4   信誉2     17923 non-null  float64\n",
      " 5   天猫分数2   25924 non-null  float64\n",
      "dtypes: float64(5), int64(1)\n",
      "memory usage: 1.2 MB\n"
     ]
    }
   ],
   "source": [
    "data3.info()"
   ]
  },
  {
   "cell_type": "code",
   "execution_count": 12,
   "metadata": {
    "ExecuteTime": {
     "end_time": "2020-12-20T01:59:48.775677Z",
     "start_time": "2020-12-20T01:59:48.747693Z"
    }
   },
   "outputs": [
    {
     "name": "stdout",
     "output_type": "stream",
     "text": [
      "<class 'pandas.core.frame.DataFrame'>\n",
      "RangeIndex: 25832 entries, 0 to 25831\n",
      "Data columns (total 6 columns):\n",
      " #   Column  Non-Null Count  Dtype  \n",
      "---  ------  --------------  -----  \n",
      " 0   ID      25832 non-null  int64  \n",
      " 1   活动价2    25832 non-null  float64\n",
      " 2   累计评价2   25832 non-null  float64\n",
      " 3   月销量2    25832 non-null  float64\n",
      " 4   信誉2     17835 non-null  float64\n",
      " 5   天猫分数2   25832 non-null  float64\n",
      "dtypes: float64(5), int64(1)\n",
      "memory usage: 1.2 MB\n"
     ]
    }
   ],
   "source": [
    "data3.dropna(subset = ['累计评价2','月销量2'], inplace = True)\n",
    "data3.reset_index(drop=True,inplace = True)\n",
    "data3.info()"
   ]
  },
  {
   "cell_type": "code",
   "execution_count": 14,
   "metadata": {
    "ExecuteTime": {
     "end_time": "2020-12-20T01:59:54.070975Z",
     "start_time": "2020-12-20T01:59:54.019781Z"
    }
   },
   "outputs": [
    {
     "data": {
      "text/html": [
       "<div>\n",
       "<style scoped>\n",
       "    .dataframe tbody tr th:only-of-type {\n",
       "        vertical-align: middle;\n",
       "    }\n",
       "\n",
       "    .dataframe tbody tr th {\n",
       "        vertical-align: top;\n",
       "    }\n",
       "\n",
       "    .dataframe thead th {\n",
       "        text-align: right;\n",
       "    }\n",
       "</style>\n",
       "<table border=\"1\" class=\"dataframe\">\n",
       "  <thead>\n",
       "    <tr style=\"text-align: right;\">\n",
       "      <th></th>\n",
       "      <th>ID</th>\n",
       "      <th>活动价</th>\n",
       "      <th>累计评价</th>\n",
       "      <th>月销量</th>\n",
       "      <th>信誉</th>\n",
       "      <th>天猫分数</th>\n",
       "    </tr>\n",
       "  </thead>\n",
       "  <tbody>\n",
       "    <tr>\n",
       "      <th>0</th>\n",
       "      <td>567797118294</td>\n",
       "      <td>56.2</td>\n",
       "      <td>5.0</td>\n",
       "      <td>0.0</td>\n",
       "      <td>914.0</td>\n",
       "      <td>0.0</td>\n",
       "    </tr>\n",
       "    <tr>\n",
       "      <th>1</th>\n",
       "      <td>554095491655</td>\n",
       "      <td>300.0</td>\n",
       "      <td>294.0</td>\n",
       "      <td>37.0</td>\n",
       "      <td>9053.0</td>\n",
       "      <td>0.0</td>\n",
       "    </tr>\n",
       "    <tr>\n",
       "      <th>2</th>\n",
       "      <td>576944413519</td>\n",
       "      <td>79.0</td>\n",
       "      <td>41.0</td>\n",
       "      <td>5.0</td>\n",
       "      <td>41.0</td>\n",
       "      <td>0.0</td>\n",
       "    </tr>\n",
       "    <tr>\n",
       "      <th>3</th>\n",
       "      <td>550183128850</td>\n",
       "      <td>55.0</td>\n",
       "      <td>27.0</td>\n",
       "      <td>11.0</td>\n",
       "      <td>2381.0</td>\n",
       "      <td>0.0</td>\n",
       "    </tr>\n",
       "    <tr>\n",
       "      <th>4</th>\n",
       "      <td>569390163639</td>\n",
       "      <td>43.8</td>\n",
       "      <td>142.0</td>\n",
       "      <td>14.0</td>\n",
       "      <td>13738.0</td>\n",
       "      <td>0.0</td>\n",
       "    </tr>\n",
       "  </tbody>\n",
       "</table>\n",
       "</div>"
      ],
      "text/plain": [
       "             ID    活动价   累计评价   月销量       信誉  天猫分数\n",
       "0  567797118294   56.2    5.0   0.0    914.0   0.0\n",
       "1  554095491655  300.0  294.0  37.0   9053.0   0.0\n",
       "2  576944413519   79.0   41.0   5.0     41.0   0.0\n",
       "3  550183128850   55.0   27.0  11.0   2381.0   0.0\n",
       "4  569390163639   43.8  142.0  14.0  13738.0   0.0"
      ]
     },
     "execution_count": 14,
     "metadata": {},
     "output_type": "execute_result"
    }
   ],
   "source": [
    "data4 = pd.read_csv('./data/1.1/第四次.csv')\n",
    "data4.head(5)"
   ]
  },
  {
   "cell_type": "code",
   "execution_count": 15,
   "metadata": {
    "ExecuteTime": {
     "end_time": "2020-12-20T01:59:55.974728Z",
     "start_time": "2020-12-20T01:59:55.956739Z"
    }
   },
   "outputs": [
    {
     "name": "stdout",
     "output_type": "stream",
     "text": [
      "<class 'pandas.core.frame.DataFrame'>\n",
      "RangeIndex: 23361 entries, 0 to 23360\n",
      "Data columns (total 6 columns):\n",
      " #   Column  Non-Null Count  Dtype  \n",
      "---  ------  --------------  -----  \n",
      " 0   ID      23361 non-null  int64  \n",
      " 1   活动价     23361 non-null  float64\n",
      " 2   累计评价    23244 non-null  float64\n",
      " 3   月销量     23361 non-null  float64\n",
      " 4   信誉      16591 non-null  float64\n",
      " 5   天猫分数    23361 non-null  float64\n",
      "dtypes: float64(5), int64(1)\n",
      "memory usage: 1.1 MB\n"
     ]
    }
   ],
   "source": [
    "data4.info()"
   ]
  },
  {
   "cell_type": "code",
   "execution_count": 16,
   "metadata": {
    "ExecuteTime": {
     "end_time": "2020-12-20T02:00:08.958705Z",
     "start_time": "2020-12-20T02:00:08.947712Z"
    }
   },
   "outputs": [],
   "source": [
    "data4.rename(columns={'活动价':'活动价3', '累计评价':'累计评价3','月销量':'月销量3','信誉':'信誉3','天猫分数':'天猫分数3'}, inplace = True)"
   ]
  },
  {
   "cell_type": "code",
   "execution_count": 17,
   "metadata": {
    "ExecuteTime": {
     "end_time": "2020-12-20T02:00:14.676044Z",
     "start_time": "2020-12-20T02:00:14.651075Z"
    }
   },
   "outputs": [
    {
     "name": "stdout",
     "output_type": "stream",
     "text": [
      "<class 'pandas.core.frame.DataFrame'>\n",
      "RangeIndex: 23244 entries, 0 to 23243\n",
      "Data columns (total 6 columns):\n",
      " #   Column  Non-Null Count  Dtype  \n",
      "---  ------  --------------  -----  \n",
      " 0   ID      23244 non-null  int64  \n",
      " 1   活动价3    23244 non-null  float64\n",
      " 2   累计评价3   23244 non-null  float64\n",
      " 3   月销量3    23244 non-null  float64\n",
      " 4   信誉3     16479 non-null  float64\n",
      " 5   天猫分数3   23244 non-null  float64\n",
      "dtypes: float64(5), int64(1)\n",
      "memory usage: 1.1 MB\n"
     ]
    }
   ],
   "source": [
    "data4.dropna(subset = ['累计评价3','月销量3'], inplace = True)\n",
    "data4.reset_index(drop=True,inplace = True)\n",
    "data4.info()"
   ]
  },
  {
   "cell_type": "code",
   "execution_count": 18,
   "metadata": {
    "ExecuteTime": {
     "end_time": "2020-12-20T02:00:17.853488Z",
     "start_time": "2020-12-20T02:00:17.795528Z"
    }
   },
   "outputs": [
    {
     "data": {
      "text/html": [
       "<div>\n",
       "<style scoped>\n",
       "    .dataframe tbody tr th:only-of-type {\n",
       "        vertical-align: middle;\n",
       "    }\n",
       "\n",
       "    .dataframe tbody tr th {\n",
       "        vertical-align: top;\n",
       "    }\n",
       "\n",
       "    .dataframe thead th {\n",
       "        text-align: right;\n",
       "    }\n",
       "</style>\n",
       "<table border=\"1\" class=\"dataframe\">\n",
       "  <thead>\n",
       "    <tr style=\"text-align: right;\">\n",
       "      <th></th>\n",
       "      <th>ID</th>\n",
       "      <th>活动价</th>\n",
       "      <th>累计评价</th>\n",
       "      <th>月销量</th>\n",
       "      <th>信誉</th>\n",
       "      <th>天猫分数</th>\n",
       "    </tr>\n",
       "  </thead>\n",
       "  <tbody>\n",
       "    <tr>\n",
       "      <th>0</th>\n",
       "      <td>567797118294</td>\n",
       "      <td>56.2</td>\n",
       "      <td>4.0</td>\n",
       "      <td>0.0</td>\n",
       "      <td>928.0</td>\n",
       "      <td>0.0</td>\n",
       "    </tr>\n",
       "    <tr>\n",
       "      <th>1</th>\n",
       "      <td>554095491655</td>\n",
       "      <td>188.0</td>\n",
       "      <td>244.0</td>\n",
       "      <td>59.0</td>\n",
       "      <td>9340.0</td>\n",
       "      <td>0.0</td>\n",
       "    </tr>\n",
       "    <tr>\n",
       "      <th>2</th>\n",
       "      <td>576944413519</td>\n",
       "      <td>79.0</td>\n",
       "      <td>41.0</td>\n",
       "      <td>0.0</td>\n",
       "      <td>41.0</td>\n",
       "      <td>0.0</td>\n",
       "    </tr>\n",
       "    <tr>\n",
       "      <th>3</th>\n",
       "      <td>550183128850</td>\n",
       "      <td>55.0</td>\n",
       "      <td>17.0</td>\n",
       "      <td>2.0</td>\n",
       "      <td>2383.0</td>\n",
       "      <td>0.0</td>\n",
       "    </tr>\n",
       "    <tr>\n",
       "      <th>4</th>\n",
       "      <td>569390163639</td>\n",
       "      <td>43.8</td>\n",
       "      <td>114.0</td>\n",
       "      <td>6.0</td>\n",
       "      <td>13759.0</td>\n",
       "      <td>0.0</td>\n",
       "    </tr>\n",
       "  </tbody>\n",
       "</table>\n",
       "</div>"
      ],
      "text/plain": [
       "             ID    活动价   累计评价   月销量       信誉  天猫分数\n",
       "0  567797118294   56.2    4.0   0.0    928.0   0.0\n",
       "1  554095491655  188.0  244.0  59.0   9340.0   0.0\n",
       "2  576944413519   79.0   41.0   0.0     41.0   0.0\n",
       "3  550183128850   55.0   17.0   2.0   2383.0   0.0\n",
       "4  569390163639   43.8  114.0   6.0  13759.0   0.0"
      ]
     },
     "execution_count": 18,
     "metadata": {},
     "output_type": "execute_result"
    }
   ],
   "source": [
    "data5 = pd.read_csv('./data/1.1/第五次.csv')\n",
    "data5.head(5)"
   ]
  },
  {
   "cell_type": "code",
   "execution_count": 19,
   "metadata": {
    "ExecuteTime": {
     "end_time": "2020-12-20T02:00:22.175730Z",
     "start_time": "2020-12-20T02:00:22.155741Z"
    }
   },
   "outputs": [
    {
     "name": "stdout",
     "output_type": "stream",
     "text": [
      "<class 'pandas.core.frame.DataFrame'>\n",
      "RangeIndex: 22769 entries, 0 to 22768\n",
      "Data columns (total 6 columns):\n",
      " #   Column  Non-Null Count  Dtype  \n",
      "---  ------  --------------  -----  \n",
      " 0   ID      22769 non-null  int64  \n",
      " 1   活动价     22769 non-null  float64\n",
      " 2   累计评价    22653 non-null  float64\n",
      " 3   月销量     22768 non-null  float64\n",
      " 4   信誉      16212 non-null  float64\n",
      " 5   天猫分数    22767 non-null  float64\n",
      "dtypes: float64(5), int64(1)\n",
      "memory usage: 1.0 MB\n"
     ]
    }
   ],
   "source": [
    "data5.info()"
   ]
  },
  {
   "cell_type": "code",
   "execution_count": 20,
   "metadata": {
    "ExecuteTime": {
     "end_time": "2020-12-20T02:00:32.826754Z",
     "start_time": "2020-12-20T02:00:32.811745Z"
    }
   },
   "outputs": [],
   "source": [
    "data5.rename(columns={'活动价':'活动价4', '累计评价':'累计评价4','月销量':'月销量4','信誉':'信誉4','天猫分数':'天猫分数4'}, inplace = True)"
   ]
  },
  {
   "cell_type": "code",
   "execution_count": 21,
   "metadata": {
    "ExecuteTime": {
     "end_time": "2020-12-20T02:00:39.892700Z",
     "start_time": "2020-12-20T02:00:39.868713Z"
    }
   },
   "outputs": [
    {
     "name": "stdout",
     "output_type": "stream",
     "text": [
      "<class 'pandas.core.frame.DataFrame'>\n",
      "RangeIndex: 22650 entries, 0 to 22649\n",
      "Data columns (total 6 columns):\n",
      " #   Column  Non-Null Count  Dtype  \n",
      "---  ------  --------------  -----  \n",
      " 0   ID      22650 non-null  int64  \n",
      " 1   活动价4    22650 non-null  float64\n",
      " 2   累计评价4   22650 non-null  float64\n",
      " 3   月销量4    22650 non-null  float64\n",
      " 4   信誉4     16100 non-null  float64\n",
      " 5   天猫分数4   22650 non-null  float64\n",
      "dtypes: float64(5), int64(1)\n",
      "memory usage: 1.0 MB\n"
     ]
    }
   ],
   "source": [
    "data5.dropna(subset = ['累计评价4','月销量4','天猫分数4'], inplace = True)\n",
    "data5.reset_index(drop=True,inplace = True)\n",
    "data5.info()"
   ]
  },
  {
   "cell_type": "code",
   "execution_count": 22,
   "metadata": {
    "ExecuteTime": {
     "end_time": "2020-12-20T02:00:43.707813Z",
     "start_time": "2020-12-20T02:00:43.651682Z"
    }
   },
   "outputs": [
    {
     "data": {
      "text/html": [
       "<div>\n",
       "<style scoped>\n",
       "    .dataframe tbody tr th:only-of-type {\n",
       "        vertical-align: middle;\n",
       "    }\n",
       "\n",
       "    .dataframe tbody tr th {\n",
       "        vertical-align: top;\n",
       "    }\n",
       "\n",
       "    .dataframe thead th {\n",
       "        text-align: right;\n",
       "    }\n",
       "</style>\n",
       "<table border=\"1\" class=\"dataframe\">\n",
       "  <thead>\n",
       "    <tr style=\"text-align: right;\">\n",
       "      <th></th>\n",
       "      <th>ID</th>\n",
       "      <th>活动价</th>\n",
       "      <th>累计评价</th>\n",
       "      <th>月销量</th>\n",
       "      <th>信誉</th>\n",
       "      <th>天猫分数</th>\n",
       "    </tr>\n",
       "  </thead>\n",
       "  <tbody>\n",
       "    <tr>\n",
       "      <th>0</th>\n",
       "      <td>12927784414</td>\n",
       "      <td>0.00</td>\n",
       "      <td>131.0</td>\n",
       "      <td>33.0</td>\n",
       "      <td>721749.0</td>\n",
       "      <td>0.0</td>\n",
       "    </tr>\n",
       "    <tr>\n",
       "      <th>1</th>\n",
       "      <td>578382575069</td>\n",
       "      <td>0.00</td>\n",
       "      <td>950.0</td>\n",
       "      <td>242.0</td>\n",
       "      <td>839.0</td>\n",
       "      <td>0.0</td>\n",
       "    </tr>\n",
       "    <tr>\n",
       "      <th>2</th>\n",
       "      <td>521252350985</td>\n",
       "      <td>0.27</td>\n",
       "      <td>6224.0</td>\n",
       "      <td>2993.0</td>\n",
       "      <td>780399.0</td>\n",
       "      <td>0.0</td>\n",
       "    </tr>\n",
       "    <tr>\n",
       "      <th>3</th>\n",
       "      <td>45021826239</td>\n",
       "      <td>0.27</td>\n",
       "      <td>5287.0</td>\n",
       "      <td>5000.0</td>\n",
       "      <td>1137058.0</td>\n",
       "      <td>0.0</td>\n",
       "    </tr>\n",
       "    <tr>\n",
       "      <th>4</th>\n",
       "      <td>557718704000</td>\n",
       "      <td>0.29</td>\n",
       "      <td>764.0</td>\n",
       "      <td>1596.0</td>\n",
       "      <td>169507.0</td>\n",
       "      <td>0.0</td>\n",
       "    </tr>\n",
       "  </tbody>\n",
       "</table>\n",
       "</div>"
      ],
      "text/plain": [
       "             ID   活动价    累计评价     月销量         信誉  天猫分数\n",
       "0   12927784414  0.00   131.0    33.0   721749.0   0.0\n",
       "1  578382575069  0.00   950.0   242.0      839.0   0.0\n",
       "2  521252350985  0.27  6224.0  2993.0   780399.0   0.0\n",
       "3   45021826239  0.27  5287.0  5000.0  1137058.0   0.0\n",
       "4  557718704000  0.29   764.0  1596.0   169507.0   0.0"
      ]
     },
     "execution_count": 22,
     "metadata": {},
     "output_type": "execute_result"
    }
   ],
   "source": [
    "data6 = pd.read_csv('./data/1.1/第六次.csv')\n",
    "data6.head(5)"
   ]
  },
  {
   "cell_type": "code",
   "execution_count": 23,
   "metadata": {
    "ExecuteTime": {
     "end_time": "2020-12-20T02:00:46.697634Z",
     "start_time": "2020-12-20T02:00:46.683642Z"
    }
   },
   "outputs": [
    {
     "name": "stdout",
     "output_type": "stream",
     "text": [
      "<class 'pandas.core.frame.DataFrame'>\n",
      "RangeIndex: 23253 entries, 0 to 23252\n",
      "Data columns (total 6 columns):\n",
      " #   Column  Non-Null Count  Dtype  \n",
      "---  ------  --------------  -----  \n",
      " 0   ID      23253 non-null  int64  \n",
      " 1   活动价     23253 non-null  float64\n",
      " 2   累计评价    23092 non-null  float64\n",
      " 3   月销量     23251 non-null  float64\n",
      " 4   信誉      16510 non-null  float64\n",
      " 5   天猫分数    23253 non-null  float64\n",
      "dtypes: float64(5), int64(1)\n",
      "memory usage: 1.1 MB\n"
     ]
    }
   ],
   "source": [
    "data6.info()"
   ]
  },
  {
   "cell_type": "code",
   "execution_count": 24,
   "metadata": {
    "ExecuteTime": {
     "end_time": "2020-12-20T02:00:58.245725Z",
     "start_time": "2020-12-20T02:00:58.227717Z"
    }
   },
   "outputs": [],
   "source": [
    "data6.rename(columns={'活动价':'活动价5', '累计评价':'累计评价5','月销量':'月销量5','信誉':'信誉5','天猫分数':'天猫分数5'}, inplace = True)"
   ]
  },
  {
   "cell_type": "code",
   "execution_count": 25,
   "metadata": {
    "ExecuteTime": {
     "end_time": "2020-12-20T02:01:03.927787Z",
     "start_time": "2020-12-20T02:01:03.899785Z"
    }
   },
   "outputs": [
    {
     "name": "stdout",
     "output_type": "stream",
     "text": [
      "<class 'pandas.core.frame.DataFrame'>\n",
      "RangeIndex: 23090 entries, 0 to 23089\n",
      "Data columns (total 6 columns):\n",
      " #   Column  Non-Null Count  Dtype  \n",
      "---  ------  --------------  -----  \n",
      " 0   ID      23090 non-null  int64  \n",
      " 1   活动价5    23090 non-null  float64\n",
      " 2   累计评价5   23090 non-null  float64\n",
      " 3   月销量5    23090 non-null  float64\n",
      " 4   信誉5     16356 non-null  float64\n",
      " 5   天猫分数5   23090 non-null  float64\n",
      "dtypes: float64(5), int64(1)\n",
      "memory usage: 1.1 MB\n"
     ]
    }
   ],
   "source": [
    "data6.dropna(subset = ['累计评价5','月销量5'], inplace = True)\n",
    "data6.reset_index(drop=True,inplace = True)\n",
    "data6.info()"
   ]
  },
  {
   "cell_type": "code",
   "execution_count": 26,
   "metadata": {
    "ExecuteTime": {
     "end_time": "2020-12-20T02:01:07.115659Z",
     "start_time": "2020-12-20T02:01:07.059709Z"
    }
   },
   "outputs": [
    {
     "data": {
      "text/html": [
       "<div>\n",
       "<style scoped>\n",
       "    .dataframe tbody tr th:only-of-type {\n",
       "        vertical-align: middle;\n",
       "    }\n",
       "\n",
       "    .dataframe tbody tr th {\n",
       "        vertical-align: top;\n",
       "    }\n",
       "\n",
       "    .dataframe thead th {\n",
       "        text-align: right;\n",
       "    }\n",
       "</style>\n",
       "<table border=\"1\" class=\"dataframe\">\n",
       "  <thead>\n",
       "    <tr style=\"text-align: right;\">\n",
       "      <th></th>\n",
       "      <th>ID</th>\n",
       "      <th>活动价</th>\n",
       "      <th>累计评价</th>\n",
       "      <th>月销量</th>\n",
       "      <th>信誉</th>\n",
       "      <th>天猫分数</th>\n",
       "    </tr>\n",
       "  </thead>\n",
       "  <tbody>\n",
       "    <tr>\n",
       "      <th>0</th>\n",
       "      <td>567797118294</td>\n",
       "      <td>56.2</td>\n",
       "      <td>0.0</td>\n",
       "      <td>0.0</td>\n",
       "      <td>939.0</td>\n",
       "      <td>0.0</td>\n",
       "    </tr>\n",
       "    <tr>\n",
       "      <th>1</th>\n",
       "      <td>554095491655</td>\n",
       "      <td>135.0</td>\n",
       "      <td>205.0</td>\n",
       "      <td>158.0</td>\n",
       "      <td>9919.0</td>\n",
       "      <td>0.0</td>\n",
       "    </tr>\n",
       "    <tr>\n",
       "      <th>2</th>\n",
       "      <td>550183128850</td>\n",
       "      <td>55.0</td>\n",
       "      <td>12.0</td>\n",
       "      <td>0.0</td>\n",
       "      <td>2385.0</td>\n",
       "      <td>0.0</td>\n",
       "    </tr>\n",
       "    <tr>\n",
       "      <th>3</th>\n",
       "      <td>569390163639</td>\n",
       "      <td>43.8</td>\n",
       "      <td>42.0</td>\n",
       "      <td>1.0</td>\n",
       "      <td>13776.0</td>\n",
       "      <td>0.0</td>\n",
       "    </tr>\n",
       "    <tr>\n",
       "      <th>4</th>\n",
       "      <td>572170484146</td>\n",
       "      <td>39.5</td>\n",
       "      <td>2.0</td>\n",
       "      <td>0.0</td>\n",
       "      <td>15004.0</td>\n",
       "      <td>0.0</td>\n",
       "    </tr>\n",
       "  </tbody>\n",
       "</table>\n",
       "</div>"
      ],
      "text/plain": [
       "             ID    活动价   累计评价    月销量       信誉  天猫分数\n",
       "0  567797118294   56.2    0.0    0.0    939.0   0.0\n",
       "1  554095491655  135.0  205.0  158.0   9919.0   0.0\n",
       "2  550183128850   55.0   12.0    0.0   2385.0   0.0\n",
       "3  569390163639   43.8   42.0    1.0  13776.0   0.0\n",
       "4  572170484146   39.5    2.0    0.0  15004.0   0.0"
      ]
     },
     "execution_count": 26,
     "metadata": {},
     "output_type": "execute_result"
    }
   ],
   "source": [
    "data7 = pd.read_csv('./data/1.1/第七次.csv')\n",
    "data7.head(5)"
   ]
  },
  {
   "cell_type": "code",
   "execution_count": 27,
   "metadata": {
    "ExecuteTime": {
     "end_time": "2020-12-20T02:01:10.146747Z",
     "start_time": "2020-12-20T02:01:10.123777Z"
    }
   },
   "outputs": [
    {
     "name": "stdout",
     "output_type": "stream",
     "text": [
      "<class 'pandas.core.frame.DataFrame'>\n",
      "RangeIndex: 20206 entries, 0 to 20205\n",
      "Data columns (total 6 columns):\n",
      " #   Column  Non-Null Count  Dtype  \n",
      "---  ------  --------------  -----  \n",
      " 0   ID      20206 non-null  int64  \n",
      " 1   活动价     20206 non-null  float64\n",
      " 2   累计评价    20195 non-null  float64\n",
      " 3   月销量     20205 non-null  float64\n",
      " 4   信誉      14795 non-null  float64\n",
      " 5   天猫分数    20206 non-null  float64\n",
      "dtypes: float64(5), int64(1)\n",
      "memory usage: 947.3 KB\n"
     ]
    }
   ],
   "source": [
    "data7.info()"
   ]
  },
  {
   "cell_type": "code",
   "execution_count": 28,
   "metadata": {
    "ExecuteTime": {
     "end_time": "2020-12-20T02:01:21.455731Z",
     "start_time": "2020-12-20T02:01:21.443721Z"
    }
   },
   "outputs": [],
   "source": [
    "data7.rename(columns={'活动价':'活动价6', '累计评价':'累计评价6','月销量':'月销量6','信誉':'信誉6','天猫分数':'天猫分数6'}, inplace = True)"
   ]
  },
  {
   "cell_type": "code",
   "execution_count": 29,
   "metadata": {
    "ExecuteTime": {
     "end_time": "2020-12-20T02:01:26.965558Z",
     "start_time": "2020-12-20T02:01:26.947587Z"
    }
   },
   "outputs": [
    {
     "name": "stdout",
     "output_type": "stream",
     "text": [
      "<class 'pandas.core.frame.DataFrame'>\n",
      "RangeIndex: 20194 entries, 0 to 20193\n",
      "Data columns (total 6 columns):\n",
      " #   Column  Non-Null Count  Dtype  \n",
      "---  ------  --------------  -----  \n",
      " 0   ID      20194 non-null  int64  \n",
      " 1   活动价6    20194 non-null  float64\n",
      " 2   累计评价6   20194 non-null  float64\n",
      " 3   月销量6    20194 non-null  float64\n",
      " 4   信誉6     14787 non-null  float64\n",
      " 5   天猫分数6   20194 non-null  float64\n",
      "dtypes: float64(5), int64(1)\n",
      "memory usage: 946.7 KB\n"
     ]
    }
   ],
   "source": [
    "data7.dropna(subset = ['累计评价6','月销量6'], inplace = True)\n",
    "data7.reset_index(drop=True,inplace = True)\n",
    "data7.info()"
   ]
  },
  {
   "cell_type": "code",
   "execution_count": 30,
   "metadata": {
    "ExecuteTime": {
     "end_time": "2020-12-20T02:01:35.211129Z",
     "start_time": "2020-12-20T02:01:35.171154Z"
    }
   },
   "outputs": [],
   "source": [
    "data1 = pd.merge(data1,data2,on = 'ID')\n",
    "data1 = pd.merge(data1,data3,on = 'ID')\n",
    "data1 = pd.merge(data1,data4,on = 'ID')\n",
    "data1 = pd.merge(data1,data5,on = 'ID')\n",
    "data1 = pd.merge(data1,data6,on = 'ID')\n",
    "data1 = pd.merge(data1,data7,on = 'ID')"
   ]
  },
  {
   "cell_type": "code",
   "execution_count": 31,
   "metadata": {
    "ExecuteTime": {
     "end_time": "2020-12-20T02:01:40.443117Z",
     "start_time": "2020-12-20T02:01:40.357776Z"
    },
    "scrolled": false
   },
   "outputs": [
    {
     "data": {
      "text/html": [
       "<div>\n",
       "<style scoped>\n",
       "    .dataframe tbody tr th:only-of-type {\n",
       "        vertical-align: middle;\n",
       "    }\n",
       "\n",
       "    .dataframe tbody tr th {\n",
       "        vertical-align: top;\n",
       "    }\n",
       "\n",
       "    .dataframe thead th {\n",
       "        text-align: right;\n",
       "    }\n",
       "</style>\n",
       "<table border=\"1\" class=\"dataframe\">\n",
       "  <thead>\n",
       "    <tr style=\"text-align: right;\">\n",
       "      <th></th>\n",
       "      <th>ID</th>\n",
       "      <th>标题</th>\n",
       "      <th>店铺名</th>\n",
       "      <th>原价</th>\n",
       "      <th>快递费</th>\n",
       "      <th>快递地区</th>\n",
       "      <th>基本信息</th>\n",
       "      <th>品类</th>\n",
       "      <th>活动价1</th>\n",
       "      <th>累计评价1</th>\n",
       "      <th>...</th>\n",
       "      <th>活动价5</th>\n",
       "      <th>累计评价5</th>\n",
       "      <th>月销量5</th>\n",
       "      <th>信誉5</th>\n",
       "      <th>天猫分数5</th>\n",
       "      <th>活动价6</th>\n",
       "      <th>累计评价6</th>\n",
       "      <th>月销量6</th>\n",
       "      <th>信誉6</th>\n",
       "      <th>天猫分数6</th>\n",
       "    </tr>\n",
       "  </thead>\n",
       "  <tbody>\n",
       "    <tr>\n",
       "      <th>0</th>\n",
       "      <td>567797118294</td>\n",
       "      <td>[山客自养] 绿色有机土鸡蛋 农村散养 20枚装 破蛋包赔</td>\n",
       "      <td>267f241390522d93</td>\n",
       "      <td>56.2</td>\n",
       "      <td>12.0</td>\n",
       "      <td>吉林</td>\n",
       "      <td>包装方式：食用农产品||产地：中国大陆||省份：吉林省||城市：吉林市||枚数：20枚||净...</td>\n",
       "      <td>蛋</td>\n",
       "      <td>56.2</td>\n",
       "      <td>11.0</td>\n",
       "      <td>...</td>\n",
       "      <td>56.2</td>\n",
       "      <td>4.0</td>\n",
       "      <td>0.0</td>\n",
       "      <td>938.0</td>\n",
       "      <td>0.0</td>\n",
       "      <td>56.2</td>\n",
       "      <td>0.0</td>\n",
       "      <td>0.0</td>\n",
       "      <td>939.0</td>\n",
       "      <td>0.0</td>\n",
       "    </tr>\n",
       "    <tr>\n",
       "      <th>1</th>\n",
       "      <td>554095491655</td>\n",
       "      <td>超大蛋3斤鸵鸟蛋新鲜送礼土豪蛋自家养殖破损包赔</td>\n",
       "      <td>d32a9408880d6d3b</td>\n",
       "      <td>175.0</td>\n",
       "      <td>0.0</td>\n",
       "      <td>山东 淄博</td>\n",
       "      <td>包装方式：食用农产品||生鲜储存温度：0-8℃||产地：中国大陆||省份：山东省||城市：淄...</td>\n",
       "      <td>蛋</td>\n",
       "      <td>178.0</td>\n",
       "      <td>339.0</td>\n",
       "      <td>...</td>\n",
       "      <td>155.0</td>\n",
       "      <td>232.0</td>\n",
       "      <td>109.0</td>\n",
       "      <td>9541.0</td>\n",
       "      <td>0.0</td>\n",
       "      <td>135.0</td>\n",
       "      <td>205.0</td>\n",
       "      <td>158.0</td>\n",
       "      <td>9919.0</td>\n",
       "      <td>0.0</td>\n",
       "    </tr>\n",
       "    <tr>\n",
       "      <th>2</th>\n",
       "      <td>550183128850</td>\n",
       "      <td>天飨村 咕叽咕叽农家散养新鲜纯天然30枚 粉壳土鸡蛋</td>\n",
       "      <td>891d50a4b916c106</td>\n",
       "      <td>55.0</td>\n",
       "      <td>0.0</td>\n",
       "      <td>湖南 长沙</td>\n",
       "      <td>包装方式：食用农产品||同城服务：同城24小时卖家送货上门||售卖方式：组合||是否为有机食...</td>\n",
       "      <td>蛋</td>\n",
       "      <td>55.0</td>\n",
       "      <td>27.0</td>\n",
       "      <td>...</td>\n",
       "      <td>55.0</td>\n",
       "      <td>14.0</td>\n",
       "      <td>1.0</td>\n",
       "      <td>2385.0</td>\n",
       "      <td>0.0</td>\n",
       "      <td>55.0</td>\n",
       "      <td>12.0</td>\n",
       "      <td>0.0</td>\n",
       "      <td>2385.0</td>\n",
       "      <td>0.0</td>\n",
       "    </tr>\n",
       "    <tr>\n",
       "      <th>3</th>\n",
       "      <td>569390163639</td>\n",
       "      <td>正宗农村农家野外散养土鸡蛋 新鲜草鸡蛋柴笨鸡蛋 富硒土鸡蛋30枚</td>\n",
       "      <td>7a6d2e534db34688</td>\n",
       "      <td>43.8</td>\n",
       "      <td>0.0</td>\n",
       "      <td>安徽 安庆</td>\n",
       "      <td>净含量：1350g||包装方式：食用农产品||枚数：30枚||产地：中国大陆||省份：安徽省...</td>\n",
       "      <td>蛋</td>\n",
       "      <td>43.8</td>\n",
       "      <td>181.0</td>\n",
       "      <td>...</td>\n",
       "      <td>43.8</td>\n",
       "      <td>76.0</td>\n",
       "      <td>5.0</td>\n",
       "      <td>13770.0</td>\n",
       "      <td>0.0</td>\n",
       "      <td>43.8</td>\n",
       "      <td>42.0</td>\n",
       "      <td>1.0</td>\n",
       "      <td>13776.0</td>\n",
       "      <td>0.0</td>\n",
       "    </tr>\n",
       "    <tr>\n",
       "      <th>4</th>\n",
       "      <td>572170484146</td>\n",
       "      <td>野外散养土鸡蛋农家散养树林柴鸡蛋农村草鸡蛋新鲜当日鸡蛋30枚装</td>\n",
       "      <td>b4c281826b800e11</td>\n",
       "      <td>79.0</td>\n",
       "      <td>0.0</td>\n",
       "      <td>安徽 宣城</td>\n",
       "      <td>包装方式：食用农产品||产地：中国大陆||省份：安徽省||城市：宣城市||枚数：30枚||净...</td>\n",
       "      <td>蛋</td>\n",
       "      <td>39.5</td>\n",
       "      <td>4.0</td>\n",
       "      <td>...</td>\n",
       "      <td>39.5</td>\n",
       "      <td>2.0</td>\n",
       "      <td>0.0</td>\n",
       "      <td>13200.0</td>\n",
       "      <td>0.0</td>\n",
       "      <td>39.5</td>\n",
       "      <td>2.0</td>\n",
       "      <td>0.0</td>\n",
       "      <td>15004.0</td>\n",
       "      <td>0.0</td>\n",
       "    </tr>\n",
       "    <tr>\n",
       "      <th>...</th>\n",
       "      <td>...</td>\n",
       "      <td>...</td>\n",
       "      <td>...</td>\n",
       "      <td>...</td>\n",
       "      <td>...</td>\n",
       "      <td>...</td>\n",
       "      <td>...</td>\n",
       "      <td>...</td>\n",
       "      <td>...</td>\n",
       "      <td>...</td>\n",
       "      <td>...</td>\n",
       "      <td>...</td>\n",
       "      <td>...</td>\n",
       "      <td>...</td>\n",
       "      <td>...</td>\n",
       "      <td>...</td>\n",
       "      <td>...</td>\n",
       "      <td>...</td>\n",
       "      <td>...</td>\n",
       "      <td>...</td>\n",
       "      <td>...</td>\n",
       "    </tr>\n",
       "    <tr>\n",
       "      <th>18939</th>\n",
       "      <td>554122150495</td>\n",
       "      <td>鲜故事 圣女果小黄瓜5斤混装小番茄新鲜樱桃西红柿水果黄瓜小柿子</td>\n",
       "      <td>c5b1541973c2e732</td>\n",
       "      <td>42.0</td>\n",
       "      <td>0.0</td>\n",
       "      <td>山东 潍坊</td>\n",
       "      <td>生产日期：2017年06月23日 至 2017年06月25日||产地：中国大陆||省份：山东...</td>\n",
       "      <td>水果</td>\n",
       "      <td>39.8</td>\n",
       "      <td>10314.0</td>\n",
       "      <td>...</td>\n",
       "      <td>39.8</td>\n",
       "      <td>13094.0</td>\n",
       "      <td>7153.0</td>\n",
       "      <td>NaN</td>\n",
       "      <td>4.8</td>\n",
       "      <td>39.8</td>\n",
       "      <td>15146.0</td>\n",
       "      <td>6182.0</td>\n",
       "      <td>NaN</td>\n",
       "      <td>4.8</td>\n",
       "    </tr>\n",
       "    <tr>\n",
       "      <th>18940</th>\n",
       "      <td>565973303002</td>\n",
       "      <td>山东特产莱阳梨当季新鲜时令水果香梨子 烟台贡梨慈梨5斤整箱包邮</td>\n",
       "      <td>2b9b4fb87b0336f8</td>\n",
       "      <td>39.0</td>\n",
       "      <td>0.0</td>\n",
       "      <td>山东 烟台</td>\n",
       "      <td>生产日期：2018年09月21日 至 2018年09月23日||品牌：LAIYANG PEA...</td>\n",
       "      <td>水果</td>\n",
       "      <td>26.8</td>\n",
       "      <td>83.0</td>\n",
       "      <td>...</td>\n",
       "      <td>29.8</td>\n",
       "      <td>219.0</td>\n",
       "      <td>151.0</td>\n",
       "      <td>NaN</td>\n",
       "      <td>4.6</td>\n",
       "      <td>29.8</td>\n",
       "      <td>241.0</td>\n",
       "      <td>98.0</td>\n",
       "      <td>NaN</td>\n",
       "      <td>4.6</td>\n",
       "    </tr>\n",
       "    <tr>\n",
       "      <th>18941</th>\n",
       "      <td>580245163878</td>\n",
       "      <td>福建番石榴红心芭乐果混装5斤新鲜水果白心巴乐包邮蕃石榴潘石榴</td>\n",
       "      <td>d409413ea2111090</td>\n",
       "      <td>68.0</td>\n",
       "      <td>0.0</td>\n",
       "      <td>福建 漳州</td>\n",
       "      <td>生产日期：2018年10月19日 至 2018年10月19日||品牌：世纪村||系列：芭乐|...</td>\n",
       "      <td>水果</td>\n",
       "      <td>22.8</td>\n",
       "      <td>415.0</td>\n",
       "      <td>...</td>\n",
       "      <td>24.8</td>\n",
       "      <td>1255.0</td>\n",
       "      <td>377.0</td>\n",
       "      <td>NaN</td>\n",
       "      <td>4.7</td>\n",
       "      <td>24.8</td>\n",
       "      <td>1326.0</td>\n",
       "      <td>223.0</td>\n",
       "      <td>NaN</td>\n",
       "      <td>4.7</td>\n",
       "    </tr>\n",
       "    <tr>\n",
       "      <th>18942</th>\n",
       "      <td>544935851035</td>\n",
       "      <td>10斤包邮正宗湖南常德石门秀萍柑橘橘子桔子现摘早熟新鲜皮薄蜜桔</td>\n",
       "      <td>e9a1c946660f5d0a</td>\n",
       "      <td>31.8</td>\n",
       "      <td>0.0</td>\n",
       "      <td>湖南 常德</td>\n",
       "      <td>包装方式：食用农产品||水果种类：其他||产地：中国大陆||省份：湖南省||城市：常德市||...</td>\n",
       "      <td>水果</td>\n",
       "      <td>34.8</td>\n",
       "      <td>634.0</td>\n",
       "      <td>...</td>\n",
       "      <td>45.8</td>\n",
       "      <td>692.0</td>\n",
       "      <td>0.0</td>\n",
       "      <td>800.0</td>\n",
       "      <td>0.0</td>\n",
       "      <td>45.8</td>\n",
       "      <td>411.0</td>\n",
       "      <td>0.0</td>\n",
       "      <td>800.0</td>\n",
       "      <td>0.0</td>\n",
       "    </tr>\n",
       "    <tr>\n",
       "      <th>18943</th>\n",
       "      <td>534626465863</td>\n",
       "      <td>欢乐家黄桃罐头256gX6罐新鲜糖水砀山黄桃罐头水果整箱玻璃瓶批发</td>\n",
       "      <td>7b0552767a1a471c</td>\n",
       "      <td>60.0</td>\n",
       "      <td>0.0</td>\n",
       "      <td>湖北 武汉</td>\n",
       "      <td>生产日期：2018年07月30日 至 2018年07月31日||净含量：1536g||包装方...</td>\n",
       "      <td>水果</td>\n",
       "      <td>19.9</td>\n",
       "      <td>11742.0</td>\n",
       "      <td>...</td>\n",
       "      <td>29.9</td>\n",
       "      <td>33154.0</td>\n",
       "      <td>27250.0</td>\n",
       "      <td>NaN</td>\n",
       "      <td>4.8</td>\n",
       "      <td>29.9</td>\n",
       "      <td>37223.0</td>\n",
       "      <td>14391.0</td>\n",
       "      <td>NaN</td>\n",
       "      <td>4.8</td>\n",
       "    </tr>\n",
       "  </tbody>\n",
       "</table>\n",
       "<p>18944 rows × 38 columns</p>\n",
       "</div>"
      ],
      "text/plain": [
       "                 ID                                 标题               店铺名  \\\n",
       "0      567797118294      [山客自养] 绿色有机土鸡蛋 农村散养 20枚装 破蛋包赔  267f241390522d93   \n",
       "1      554095491655            超大蛋3斤鸵鸟蛋新鲜送礼土豪蛋自家养殖破损包赔  d32a9408880d6d3b   \n",
       "2      550183128850         天飨村 咕叽咕叽农家散养新鲜纯天然30枚 粉壳土鸡蛋  891d50a4b916c106   \n",
       "3      569390163639   正宗农村农家野外散养土鸡蛋 新鲜草鸡蛋柴笨鸡蛋 富硒土鸡蛋30枚  7a6d2e534db34688   \n",
       "4      572170484146    野外散养土鸡蛋农家散养树林柴鸡蛋农村草鸡蛋新鲜当日鸡蛋30枚装  b4c281826b800e11   \n",
       "...             ...                                ...               ...   \n",
       "18939  554122150495    鲜故事 圣女果小黄瓜5斤混装小番茄新鲜樱桃西红柿水果黄瓜小柿子  c5b1541973c2e732   \n",
       "18940  565973303002    山东特产莱阳梨当季新鲜时令水果香梨子 烟台贡梨慈梨5斤整箱包邮  2b9b4fb87b0336f8   \n",
       "18941  580245163878     福建番石榴红心芭乐果混装5斤新鲜水果白心巴乐包邮蕃石榴潘石榴  d409413ea2111090   \n",
       "18942  544935851035    10斤包邮正宗湖南常德石门秀萍柑橘橘子桔子现摘早熟新鲜皮薄蜜桔  e9a1c946660f5d0a   \n",
       "18943  534626465863  欢乐家黄桃罐头256gX6罐新鲜糖水砀山黄桃罐头水果整箱玻璃瓶批发  7b0552767a1a471c   \n",
       "\n",
       "          原价   快递费   快递地区                                               基本信息  \\\n",
       "0       56.2  12.0     吉林  包装方式：食用农产品||产地：中国大陆||省份：吉林省||城市：吉林市||枚数：20枚||净...   \n",
       "1      175.0   0.0  山东 淄博  包装方式：食用农产品||生鲜储存温度：0-8℃||产地：中国大陆||省份：山东省||城市：淄...   \n",
       "2       55.0   0.0  湖南 长沙  包装方式：食用农产品||同城服务：同城24小时卖家送货上门||售卖方式：组合||是否为有机食...   \n",
       "3       43.8   0.0  安徽 安庆  净含量：1350g||包装方式：食用农产品||枚数：30枚||产地：中国大陆||省份：安徽省...   \n",
       "4       79.0   0.0  安徽 宣城  包装方式：食用农产品||产地：中国大陆||省份：安徽省||城市：宣城市||枚数：30枚||净...   \n",
       "...      ...   ...    ...                                                ...   \n",
       "18939   42.0   0.0  山东 潍坊  生产日期：2017年06月23日 至 2017年06月25日||产地：中国大陆||省份：山东...   \n",
       "18940   39.0   0.0  山东 烟台  生产日期：2018年09月21日 至 2018年09月23日||品牌：LAIYANG PEA...   \n",
       "18941   68.0   0.0  福建 漳州  生产日期：2018年10月19日 至 2018年10月19日||品牌：世纪村||系列：芭乐|...   \n",
       "18942   31.8   0.0  湖南 常德  包装方式：食用农产品||水果种类：其他||产地：中国大陆||省份：湖南省||城市：常德市||...   \n",
       "18943   60.0   0.0  湖北 武汉  生产日期：2018年07月30日 至 2018年07月31日||净含量：1536g||包装方...   \n",
       "\n",
       "       品类   活动价1    累计评价1  ...   活动价5    累计评价5     月销量5      信誉5  天猫分数5  \\\n",
       "0       蛋   56.2     11.0  ...   56.2      4.0      0.0    938.0    0.0   \n",
       "1       蛋  178.0    339.0  ...  155.0    232.0    109.0   9541.0    0.0   \n",
       "2       蛋   55.0     27.0  ...   55.0     14.0      1.0   2385.0    0.0   \n",
       "3       蛋   43.8    181.0  ...   43.8     76.0      5.0  13770.0    0.0   \n",
       "4       蛋   39.5      4.0  ...   39.5      2.0      0.0  13200.0    0.0   \n",
       "...    ..    ...      ...  ...    ...      ...      ...      ...    ...   \n",
       "18939  水果   39.8  10314.0  ...   39.8  13094.0   7153.0      NaN    4.8   \n",
       "18940  水果   26.8     83.0  ...   29.8    219.0    151.0      NaN    4.6   \n",
       "18941  水果   22.8    415.0  ...   24.8   1255.0    377.0      NaN    4.7   \n",
       "18942  水果   34.8    634.0  ...   45.8    692.0      0.0    800.0    0.0   \n",
       "18943  水果   19.9  11742.0  ...   29.9  33154.0  27250.0      NaN    4.8   \n",
       "\n",
       "        活动价6    累计评价6     月销量6      信誉6  天猫分数6  \n",
       "0       56.2      0.0      0.0    939.0    0.0  \n",
       "1      135.0    205.0    158.0   9919.0    0.0  \n",
       "2       55.0     12.0      0.0   2385.0    0.0  \n",
       "3       43.8     42.0      1.0  13776.0    0.0  \n",
       "4       39.5      2.0      0.0  15004.0    0.0  \n",
       "...      ...      ...      ...      ...    ...  \n",
       "18939   39.8  15146.0   6182.0      NaN    4.8  \n",
       "18940   29.8    241.0     98.0      NaN    4.6  \n",
       "18941   24.8   1326.0    223.0      NaN    4.7  \n",
       "18942   45.8    411.0      0.0    800.0    0.0  \n",
       "18943   29.9  37223.0  14391.0      NaN    4.8  \n",
       "\n",
       "[18944 rows x 38 columns]"
      ]
     },
     "execution_count": 31,
     "metadata": {},
     "output_type": "execute_result"
    }
   ],
   "source": [
    "data1"
   ]
  },
  {
   "cell_type": "code",
   "execution_count": 32,
   "metadata": {
    "ExecuteTime": {
     "end_time": "2020-12-20T02:02:47.249732Z",
     "start_time": "2020-12-20T02:02:47.212755Z"
    }
   },
   "outputs": [],
   "source": [
    "data = data1[['ID','品类','标题','店铺名','原价','快递费','快递地区','基本信息','天猫分数1','活动价1','累计评价1','月销量1','信誉1','活动价2','累计评价2','月销量2','信誉2','活动价3','累计评价3','月销量3','信誉3','活动价4','累计评价4','月销量4','信誉4','活动价5','累计评价5','月销量5','信誉5','活动价6','累计评价6','月销量6','信誉6']]"
   ]
  },
  {
   "cell_type": "code",
   "execution_count": 33,
   "metadata": {
    "ExecuteTime": {
     "end_time": "2020-12-20T02:02:48.815740Z",
     "start_time": "2020-12-20T02:02:48.779780Z"
    },
    "scrolled": false
   },
   "outputs": [
    {
     "name": "stdout",
     "output_type": "stream",
     "text": [
      "<class 'pandas.core.frame.DataFrame'>\n",
      "Int64Index: 18944 entries, 0 to 18943\n",
      "Data columns (total 33 columns):\n",
      " #   Column  Non-Null Count  Dtype  \n",
      "---  ------  --------------  -----  \n",
      " 0   ID      18944 non-null  int64  \n",
      " 1   品类      18944 non-null  object \n",
      " 2   标题      18944 non-null  object \n",
      " 3   店铺名     18944 non-null  object \n",
      " 4   原价      18944 non-null  float64\n",
      " 5   快递费     18944 non-null  float64\n",
      " 6   快递地区    18944 non-null  object \n",
      " 7   基本信息    18944 non-null  object \n",
      " 8   天猫分数1   18944 non-null  float64\n",
      " 9   活动价1    18944 non-null  float64\n",
      " 10  累计评价1   18944 non-null  float64\n",
      " 11  月销量1    18944 non-null  float64\n",
      " 12  信誉1     13811 non-null  float64\n",
      " 13  活动价2    18944 non-null  float64\n",
      " 14  累计评价2   18944 non-null  float64\n",
      " 15  月销量2    18944 non-null  float64\n",
      " 16  信誉2     13813 non-null  float64\n",
      " 17  活动价3    18944 non-null  float64\n",
      " 18  累计评价3   18944 non-null  float64\n",
      " 19  月销量3    18944 non-null  float64\n",
      " 20  信誉3     13817 non-null  float64\n",
      " 21  活动价4    18944 non-null  float64\n",
      " 22  累计评价4   18944 non-null  float64\n",
      " 23  月销量4    18944 non-null  float64\n",
      " 24  信誉4     13801 non-null  float64\n",
      " 25  活动价5    18944 non-null  float64\n",
      " 26  累计评价5   18944 non-null  float64\n",
      " 27  月销量5    18944 non-null  float64\n",
      " 28  信誉5     13795 non-null  float64\n",
      " 29  活动价6    18944 non-null  float64\n",
      " 30  累计评价6   18944 non-null  float64\n",
      " 31  月销量6    18944 non-null  float64\n",
      " 32  信誉6     13817 non-null  float64\n",
      "dtypes: float64(27), int64(1), object(5)\n",
      "memory usage: 4.9+ MB\n"
     ]
    }
   ],
   "source": [
    "data.info()"
   ]
  },
  {
   "cell_type": "code",
   "execution_count": 34,
   "metadata": {
    "ExecuteTime": {
     "end_time": "2020-12-20T02:05:29.382815Z",
     "start_time": "2020-12-20T02:05:29.372821Z"
    }
   },
   "outputs": [
    {
     "name": "stderr",
     "output_type": "stream",
     "text": [
      "C:\\Users\\lb\\AppData\\Local\\Temp\\ipykernel_7432\\732637703.py:1: SettingWithCopyWarning: \n",
      "A value is trying to be set on a copy of a slice from a DataFrame\n",
      "\n",
      "See the caveats in the documentation: https://pandas.pydata.org/pandas-docs/stable/user_guide/indexing.html#returning-a-view-versus-a-copy\n",
      "  data.rename(columns={'天猫分数1':'是否天猫'}, inplace = True)\n"
     ]
    }
   ],
   "source": [
    "data.rename(columns={'天猫分数1':'是否天猫'}, inplace = True)"
   ]
  },
  {
   "cell_type": "code",
   "execution_count": 35,
   "metadata": {
    "ExecuteTime": {
     "end_time": "2020-12-20T02:11:05.679558Z",
     "start_time": "2020-12-20T02:11:05.643700Z"
    }
   },
   "outputs": [
    {
     "name": "stdout",
     "output_type": "stream",
     "text": [
      "<class 'pandas.core.frame.DataFrame'>\n",
      "Int64Index: 18944 entries, 0 to 18943\n",
      "Data columns (total 33 columns):\n",
      " #   Column  Non-Null Count  Dtype  \n",
      "---  ------  --------------  -----  \n",
      " 0   ID      18944 non-null  int64  \n",
      " 1   品类      18944 non-null  object \n",
      " 2   标题      18944 non-null  object \n",
      " 3   店铺名     18944 non-null  object \n",
      " 4   原价      18944 non-null  float64\n",
      " 5   快递费     18944 non-null  float64\n",
      " 6   快递地区    18944 non-null  object \n",
      " 7   基本信息    18944 non-null  object \n",
      " 8   是否天猫    18944 non-null  float64\n",
      " 9   活动价1    18944 non-null  float64\n",
      " 10  累计评价1   18944 non-null  float64\n",
      " 11  月销量1    18944 non-null  float64\n",
      " 12  信誉1     13811 non-null  float64\n",
      " 13  活动价2    18944 non-null  float64\n",
      " 14  累计评价2   18944 non-null  float64\n",
      " 15  月销量2    18944 non-null  float64\n",
      " 16  信誉2     13813 non-null  float64\n",
      " 17  活动价3    18944 non-null  float64\n",
      " 18  累计评价3   18944 non-null  float64\n",
      " 19  月销量3    18944 non-null  float64\n",
      " 20  信誉3     13817 non-null  float64\n",
      " 21  活动价4    18944 non-null  float64\n",
      " 22  累计评价4   18944 non-null  float64\n",
      " 23  月销量4    18944 non-null  float64\n",
      " 24  信誉4     13801 non-null  float64\n",
      " 25  活动价5    18944 non-null  float64\n",
      " 26  累计评价5   18944 non-null  float64\n",
      " 27  月销量5    18944 non-null  float64\n",
      " 28  信誉5     13795 non-null  float64\n",
      " 29  活动价6    18944 non-null  float64\n",
      " 30  累计评价6   18944 non-null  float64\n",
      " 31  月销量6    18944 non-null  float64\n",
      " 32  信誉6     13817 non-null  float64\n",
      "dtypes: float64(27), int64(1), object(5)\n",
      "memory usage: 4.9+ MB\n"
     ]
    }
   ],
   "source": [
    "data.info()"
   ]
  },
  {
   "cell_type": "code",
   "execution_count": 36,
   "metadata": {
    "ExecuteTime": {
     "end_time": "2020-12-20T02:09:18.961649Z",
     "start_time": "2020-12-20T02:09:18.176885Z"
    }
   },
   "outputs": [
    {
     "name": "stderr",
     "output_type": "stream",
     "text": [
      "C:\\Users\\lb\\AppData\\Local\\Temp\\ipykernel_7432\\1975792.py:3: SettingWithCopyWarning: \n",
      "A value is trying to be set on a copy of a slice from a DataFrame\n",
      "\n",
      "See the caveats in the documentation: https://pandas.pydata.org/pandas-docs/stable/user_guide/indexing.html#returning-a-view-versus-a-copy\n",
      "  data['是否天猫'][i] = 1\n"
     ]
    }
   ],
   "source": [
    "for i in range(len(data)):\n",
    "    if data['是否天猫'][i]>0:\n",
    "        data['是否天猫'][i] = 1"
   ]
  },
  {
   "cell_type": "code",
   "execution_count": 37,
   "metadata": {
    "ExecuteTime": {
     "end_time": "2020-12-20T02:12:06.465894Z",
     "start_time": "2020-12-20T02:12:06.452901Z"
    },
    "scrolled": false
   },
   "outputs": [
    {
     "name": "stderr",
     "output_type": "stream",
     "text": [
      "C:\\Users\\lb\\AppData\\Local\\Temp\\ipykernel_7432\\3364836188.py:1: SettingWithCopyWarning: \n",
      "A value is trying to be set on a copy of a slice from a DataFrame.\n",
      "Try using .loc[row_indexer,col_indexer] = value instead\n",
      "\n",
      "See the caveats in the documentation: https://pandas.pydata.org/pandas-docs/stable/user_guide/indexing.html#returning-a-view-versus-a-copy\n",
      "  data['是否天猫'] = data['是否天猫'].astype(int)\n"
     ]
    }
   ],
   "source": [
    "data['是否天猫'] = data['是否天猫'].astype(int)"
   ]
  },
  {
   "cell_type": "code",
   "execution_count": 38,
   "metadata": {
    "ExecuteTime": {
     "end_time": "2020-12-20T02:12:24.044876Z",
     "start_time": "2020-12-20T02:12:24.005883Z"
    },
    "scrolled": false
   },
   "outputs": [
    {
     "name": "stdout",
     "output_type": "stream",
     "text": [
      "<class 'pandas.core.frame.DataFrame'>\n",
      "Int64Index: 18944 entries, 0 to 18943\n",
      "Data columns (total 33 columns):\n",
      " #   Column  Non-Null Count  Dtype  \n",
      "---  ------  --------------  -----  \n",
      " 0   ID      18944 non-null  int64  \n",
      " 1   品类      18944 non-null  object \n",
      " 2   标题      18944 non-null  object \n",
      " 3   店铺名     18944 non-null  object \n",
      " 4   原价      18944 non-null  float64\n",
      " 5   快递费     18944 non-null  float64\n",
      " 6   快递地区    18944 non-null  object \n",
      " 7   基本信息    18944 non-null  object \n",
      " 8   是否天猫    18944 non-null  int32  \n",
      " 9   活动价1    18944 non-null  float64\n",
      " 10  累计评价1   18944 non-null  float64\n",
      " 11  月销量1    18944 non-null  float64\n",
      " 12  信誉1     13811 non-null  float64\n",
      " 13  活动价2    18944 non-null  float64\n",
      " 14  累计评价2   18944 non-null  float64\n",
      " 15  月销量2    18944 non-null  float64\n",
      " 16  信誉2     13813 non-null  float64\n",
      " 17  活动价3    18944 non-null  float64\n",
      " 18  累计评价3   18944 non-null  float64\n",
      " 19  月销量3    18944 non-null  float64\n",
      " 20  信誉3     13817 non-null  float64\n",
      " 21  活动价4    18944 non-null  float64\n",
      " 22  累计评价4   18944 non-null  float64\n",
      " 23  月销量4    18944 non-null  float64\n",
      " 24  信誉4     13801 non-null  float64\n",
      " 25  活动价5    18944 non-null  float64\n",
      " 26  累计评价5   18944 non-null  float64\n",
      " 27  月销量5    18944 non-null  float64\n",
      " 28  信誉5     13795 non-null  float64\n",
      " 29  活动价6    18944 non-null  float64\n",
      " 30  累计评价6   18944 non-null  float64\n",
      " 31  月销量6    18944 non-null  float64\n",
      " 32  信誉6     13817 non-null  float64\n",
      "dtypes: float64(26), int32(1), int64(1), object(5)\n",
      "memory usage: 5.3+ MB\n"
     ]
    }
   ],
   "source": [
    "data.info()"
   ]
  },
  {
   "cell_type": "code",
   "execution_count": 39,
   "metadata": {
    "ExecuteTime": {
     "end_time": "2020-12-20T02:31:13.295145Z",
     "start_time": "2020-12-20T02:31:13.269180Z"
    },
    "scrolled": false
   },
   "outputs": [],
   "source": [
    "data.loc[data['是否天猫']==1,'信誉1'] = -1\n",
    "data.loc[data['是否天猫']==1,'信誉2'] = -1\n",
    "data.loc[data['是否天猫']==1,'信誉3'] = -1\n",
    "data.loc[data['是否天猫']==1,'信誉4'] = -1\n",
    "data.loc[data['是否天猫']==1,'信誉5'] = -1\n",
    "data.loc[data['是否天猫']==1,'信誉6'] = -1"
   ]
  },
  {
   "cell_type": "code",
   "execution_count": 40,
   "metadata": {
    "ExecuteTime": {
     "end_time": "2020-12-20T02:31:19.076105Z",
     "start_time": "2020-12-20T02:31:19.044105Z"
    },
    "scrolled": false
   },
   "outputs": [
    {
     "name": "stdout",
     "output_type": "stream",
     "text": [
      "<class 'pandas.core.frame.DataFrame'>\n",
      "Int64Index: 18944 entries, 0 to 18943\n",
      "Data columns (total 33 columns):\n",
      " #   Column  Non-Null Count  Dtype  \n",
      "---  ------  --------------  -----  \n",
      " 0   ID      18944 non-null  int64  \n",
      " 1   品类      18944 non-null  object \n",
      " 2   标题      18944 non-null  object \n",
      " 3   店铺名     18944 non-null  object \n",
      " 4   原价      18944 non-null  float64\n",
      " 5   快递费     18944 non-null  float64\n",
      " 6   快递地区    18944 non-null  object \n",
      " 7   基本信息    18944 non-null  object \n",
      " 8   是否天猫    18944 non-null  int32  \n",
      " 9   活动价1    18944 non-null  float64\n",
      " 10  累计评价1   18944 non-null  float64\n",
      " 11  月销量1    18944 non-null  float64\n",
      " 12  信誉1     18940 non-null  float64\n",
      " 13  活动价2    18944 non-null  float64\n",
      " 14  累计评价2   18944 non-null  float64\n",
      " 15  月销量2    18944 non-null  float64\n",
      " 16  信誉2     18941 non-null  float64\n",
      " 17  活动价3    18944 non-null  float64\n",
      " 18  累计评价3   18944 non-null  float64\n",
      " 19  月销量3    18944 non-null  float64\n",
      " 20  信誉3     18944 non-null  float64\n",
      " 21  活动价4    18944 non-null  float64\n",
      " 22  累计评价4   18944 non-null  float64\n",
      " 23  月销量4    18944 non-null  float64\n",
      " 24  信誉4     18928 non-null  float64\n",
      " 25  活动价5    18944 non-null  float64\n",
      " 26  累计评价5   18944 non-null  float64\n",
      " 27  月销量5    18944 non-null  float64\n",
      " 28  信誉5     18922 non-null  float64\n",
      " 29  活动价6    18944 non-null  float64\n",
      " 30  累计评价6   18944 non-null  float64\n",
      " 31  月销量6    18944 non-null  float64\n",
      " 32  信誉6     18944 non-null  float64\n",
      "dtypes: float64(26), int32(1), int64(1), object(5)\n",
      "memory usage: 5.3+ MB\n"
     ]
    }
   ],
   "source": [
    "data.info()"
   ]
  },
  {
   "cell_type": "code",
   "execution_count": 41,
   "metadata": {
    "ExecuteTime": {
     "end_time": "2020-12-20T02:33:54.781813Z",
     "start_time": "2020-12-20T02:33:54.733840Z"
    },
    "scrolled": true
   },
   "outputs": [
    {
     "name": "stdout",
     "output_type": "stream",
     "text": [
      "<class 'pandas.core.frame.DataFrame'>\n",
      "RangeIndex: 18899 entries, 0 to 18898\n",
      "Data columns (total 33 columns):\n",
      " #   Column  Non-Null Count  Dtype  \n",
      "---  ------  --------------  -----  \n",
      " 0   ID      18899 non-null  int64  \n",
      " 1   品类      18899 non-null  object \n",
      " 2   标题      18899 non-null  object \n",
      " 3   店铺名     18899 non-null  object \n",
      " 4   原价      18899 non-null  float64\n",
      " 5   快递费     18899 non-null  float64\n",
      " 6   快递地区    18899 non-null  object \n",
      " 7   基本信息    18899 non-null  object \n",
      " 8   是否天猫    18899 non-null  int32  \n",
      " 9   活动价1    18899 non-null  float64\n",
      " 10  累计评价1   18899 non-null  float64\n",
      " 11  月销量1    18899 non-null  float64\n",
      " 12  信誉1     18899 non-null  float64\n",
      " 13  活动价2    18899 non-null  float64\n",
      " 14  累计评价2   18899 non-null  float64\n",
      " 15  月销量2    18899 non-null  float64\n",
      " 16  信誉2     18899 non-null  float64\n",
      " 17  活动价3    18899 non-null  float64\n",
      " 18  累计评价3   18899 non-null  float64\n",
      " 19  月销量3    18899 non-null  float64\n",
      " 20  信誉3     18899 non-null  float64\n",
      " 21  活动价4    18899 non-null  float64\n",
      " 22  累计评价4   18899 non-null  float64\n",
      " 23  月销量4    18899 non-null  float64\n",
      " 24  信誉4     18899 non-null  float64\n",
      " 25  活动价5    18899 non-null  float64\n",
      " 26  累计评价5   18899 non-null  float64\n",
      " 27  月销量5    18899 non-null  float64\n",
      " 28  信誉5     18899 non-null  float64\n",
      " 29  活动价6    18899 non-null  float64\n",
      " 30  累计评价6   18899 non-null  float64\n",
      " 31  月销量6    18899 non-null  float64\n",
      " 32  信誉6     18899 non-null  float64\n",
      "dtypes: float64(26), int32(1), int64(1), object(5)\n",
      "memory usage: 4.7+ MB\n"
     ]
    },
    {
     "name": "stderr",
     "output_type": "stream",
     "text": [
      "C:\\Users\\lb\\AppData\\Local\\Temp\\ipykernel_7432\\1498320655.py:1: SettingWithCopyWarning: \n",
      "A value is trying to be set on a copy of a slice from a DataFrame\n",
      "\n",
      "See the caveats in the documentation: https://pandas.pydata.org/pandas-docs/stable/user_guide/indexing.html#returning-a-view-versus-a-copy\n",
      "  data.dropna(subset = ['信誉1','信誉2','信誉4','信誉5'], inplace = True)\n"
     ]
    }
   ],
   "source": [
    "data.dropna(subset = ['信誉1','信誉2','信誉4','信誉5'], inplace = True)\n",
    "data.reset_index(drop=True,inplace = True)\n",
    "data.info()"
   ]
  },
  {
   "cell_type": "code",
   "execution_count": 42,
   "metadata": {
    "ExecuteTime": {
     "end_time": "2020-12-20T02:34:23.994448Z",
     "start_time": "2020-12-20T02:34:23.164132Z"
    }
   },
   "outputs": [],
   "source": [
    "data.to_csv('./data/1.1/data.csv',header=True,index=False)"
   ]
  },
  {
   "cell_type": "code",
   "execution_count": 43,
   "metadata": {
    "scrolled": false
   },
   "outputs": [
    {
     "data": {
      "text/html": [
       "<div>\n",
       "<style scoped>\n",
       "    .dataframe tbody tr th:only-of-type {\n",
       "        vertical-align: middle;\n",
       "    }\n",
       "\n",
       "    .dataframe tbody tr th {\n",
       "        vertical-align: top;\n",
       "    }\n",
       "\n",
       "    .dataframe thead th {\n",
       "        text-align: right;\n",
       "    }\n",
       "</style>\n",
       "<table border=\"1\" class=\"dataframe\">\n",
       "  <thead>\n",
       "    <tr style=\"text-align: right;\">\n",
       "      <th></th>\n",
       "      <th>ID</th>\n",
       "      <th>品类</th>\n",
       "      <th>标题</th>\n",
       "      <th>店铺名</th>\n",
       "      <th>原价</th>\n",
       "      <th>快递费</th>\n",
       "      <th>快递地区</th>\n",
       "      <th>基本信息</th>\n",
       "      <th>是否天猫</th>\n",
       "      <th>活动价1</th>\n",
       "      <th>...</th>\n",
       "      <th>月销量4</th>\n",
       "      <th>信誉4</th>\n",
       "      <th>活动价5</th>\n",
       "      <th>累计评价5</th>\n",
       "      <th>月销量5</th>\n",
       "      <th>信誉5</th>\n",
       "      <th>活动价6</th>\n",
       "      <th>累计评价6</th>\n",
       "      <th>月销量6</th>\n",
       "      <th>信誉6</th>\n",
       "    </tr>\n",
       "  </thead>\n",
       "  <tbody>\n",
       "    <tr>\n",
       "      <th>0</th>\n",
       "      <td>567797118294</td>\n",
       "      <td>蛋</td>\n",
       "      <td>[山客自养] 绿色有机土鸡蛋 农村散养 20枚装 破蛋包赔</td>\n",
       "      <td>267f241390522d93</td>\n",
       "      <td>56.2</td>\n",
       "      <td>12.0</td>\n",
       "      <td>吉林</td>\n",
       "      <td>包装方式：食用农产品||产地：中国大陆||省份：吉林省||城市：吉林市||枚数：20枚||净...</td>\n",
       "      <td>0</td>\n",
       "      <td>56.2</td>\n",
       "      <td>...</td>\n",
       "      <td>0.0</td>\n",
       "      <td>928.0</td>\n",
       "      <td>56.2</td>\n",
       "      <td>4.0</td>\n",
       "      <td>0.0</td>\n",
       "      <td>938.0</td>\n",
       "      <td>56.2</td>\n",
       "      <td>0.0</td>\n",
       "      <td>0.0</td>\n",
       "      <td>939.0</td>\n",
       "    </tr>\n",
       "    <tr>\n",
       "      <th>1</th>\n",
       "      <td>554095491655</td>\n",
       "      <td>蛋</td>\n",
       "      <td>超大蛋3斤鸵鸟蛋新鲜送礼土豪蛋自家养殖破损包赔</td>\n",
       "      <td>d32a9408880d6d3b</td>\n",
       "      <td>175.0</td>\n",
       "      <td>0.0</td>\n",
       "      <td>山东 淄博</td>\n",
       "      <td>包装方式：食用农产品||生鲜储存温度：0-8℃||产地：中国大陆||省份：山东省||城市：淄...</td>\n",
       "      <td>0</td>\n",
       "      <td>178.0</td>\n",
       "      <td>...</td>\n",
       "      <td>59.0</td>\n",
       "      <td>9340.0</td>\n",
       "      <td>155.0</td>\n",
       "      <td>232.0</td>\n",
       "      <td>109.0</td>\n",
       "      <td>9541.0</td>\n",
       "      <td>135.0</td>\n",
       "      <td>205.0</td>\n",
       "      <td>158.0</td>\n",
       "      <td>9919.0</td>\n",
       "    </tr>\n",
       "    <tr>\n",
       "      <th>2</th>\n",
       "      <td>550183128850</td>\n",
       "      <td>蛋</td>\n",
       "      <td>天飨村 咕叽咕叽农家散养新鲜纯天然30枚 粉壳土鸡蛋</td>\n",
       "      <td>891d50a4b916c106</td>\n",
       "      <td>55.0</td>\n",
       "      <td>0.0</td>\n",
       "      <td>湖南 长沙</td>\n",
       "      <td>包装方式：食用农产品||同城服务：同城24小时卖家送货上门||售卖方式：组合||是否为有机食...</td>\n",
       "      <td>0</td>\n",
       "      <td>55.0</td>\n",
       "      <td>...</td>\n",
       "      <td>2.0</td>\n",
       "      <td>2383.0</td>\n",
       "      <td>55.0</td>\n",
       "      <td>14.0</td>\n",
       "      <td>1.0</td>\n",
       "      <td>2385.0</td>\n",
       "      <td>55.0</td>\n",
       "      <td>12.0</td>\n",
       "      <td>0.0</td>\n",
       "      <td>2385.0</td>\n",
       "    </tr>\n",
       "    <tr>\n",
       "      <th>3</th>\n",
       "      <td>569390163639</td>\n",
       "      <td>蛋</td>\n",
       "      <td>正宗农村农家野外散养土鸡蛋 新鲜草鸡蛋柴笨鸡蛋 富硒土鸡蛋30枚</td>\n",
       "      <td>7a6d2e534db34688</td>\n",
       "      <td>43.8</td>\n",
       "      <td>0.0</td>\n",
       "      <td>安徽 安庆</td>\n",
       "      <td>净含量：1350g||包装方式：食用农产品||枚数：30枚||产地：中国大陆||省份：安徽省...</td>\n",
       "      <td>0</td>\n",
       "      <td>43.8</td>\n",
       "      <td>...</td>\n",
       "      <td>6.0</td>\n",
       "      <td>13759.0</td>\n",
       "      <td>43.8</td>\n",
       "      <td>76.0</td>\n",
       "      <td>5.0</td>\n",
       "      <td>13770.0</td>\n",
       "      <td>43.8</td>\n",
       "      <td>42.0</td>\n",
       "      <td>1.0</td>\n",
       "      <td>13776.0</td>\n",
       "    </tr>\n",
       "    <tr>\n",
       "      <th>4</th>\n",
       "      <td>572170484146</td>\n",
       "      <td>蛋</td>\n",
       "      <td>野外散养土鸡蛋农家散养树林柴鸡蛋农村草鸡蛋新鲜当日鸡蛋30枚装</td>\n",
       "      <td>b4c281826b800e11</td>\n",
       "      <td>79.0</td>\n",
       "      <td>0.0</td>\n",
       "      <td>安徽 宣城</td>\n",
       "      <td>包装方式：食用农产品||产地：中国大陆||省份：安徽省||城市：宣城市||枚数：30枚||净...</td>\n",
       "      <td>0</td>\n",
       "      <td>39.5</td>\n",
       "      <td>...</td>\n",
       "      <td>0.0</td>\n",
       "      <td>12088.0</td>\n",
       "      <td>39.5</td>\n",
       "      <td>2.0</td>\n",
       "      <td>0.0</td>\n",
       "      <td>13200.0</td>\n",
       "      <td>39.5</td>\n",
       "      <td>2.0</td>\n",
       "      <td>0.0</td>\n",
       "      <td>15004.0</td>\n",
       "    </tr>\n",
       "    <tr>\n",
       "      <th>...</th>\n",
       "      <td>...</td>\n",
       "      <td>...</td>\n",
       "      <td>...</td>\n",
       "      <td>...</td>\n",
       "      <td>...</td>\n",
       "      <td>...</td>\n",
       "      <td>...</td>\n",
       "      <td>...</td>\n",
       "      <td>...</td>\n",
       "      <td>...</td>\n",
       "      <td>...</td>\n",
       "      <td>...</td>\n",
       "      <td>...</td>\n",
       "      <td>...</td>\n",
       "      <td>...</td>\n",
       "      <td>...</td>\n",
       "      <td>...</td>\n",
       "      <td>...</td>\n",
       "      <td>...</td>\n",
       "      <td>...</td>\n",
       "      <td>...</td>\n",
       "    </tr>\n",
       "    <tr>\n",
       "      <th>18894</th>\n",
       "      <td>554122150495</td>\n",
       "      <td>水果</td>\n",
       "      <td>鲜故事 圣女果小黄瓜5斤混装小番茄新鲜樱桃西红柿水果黄瓜小柿子</td>\n",
       "      <td>c5b1541973c2e732</td>\n",
       "      <td>42.0</td>\n",
       "      <td>0.0</td>\n",
       "      <td>山东 潍坊</td>\n",
       "      <td>生产日期：2017年06月23日 至 2017年06月25日||产地：中国大陆||省份：山东...</td>\n",
       "      <td>1</td>\n",
       "      <td>39.8</td>\n",
       "      <td>...</td>\n",
       "      <td>2283.0</td>\n",
       "      <td>-1.0</td>\n",
       "      <td>39.8</td>\n",
       "      <td>13094.0</td>\n",
       "      <td>7153.0</td>\n",
       "      <td>-1.0</td>\n",
       "      <td>39.8</td>\n",
       "      <td>15146.0</td>\n",
       "      <td>6182.0</td>\n",
       "      <td>-1.0</td>\n",
       "    </tr>\n",
       "    <tr>\n",
       "      <th>18895</th>\n",
       "      <td>565973303002</td>\n",
       "      <td>水果</td>\n",
       "      <td>山东特产莱阳梨当季新鲜时令水果香梨子 烟台贡梨慈梨5斤整箱包邮</td>\n",
       "      <td>2b9b4fb87b0336f8</td>\n",
       "      <td>39.0</td>\n",
       "      <td>0.0</td>\n",
       "      <td>山东 烟台</td>\n",
       "      <td>生产日期：2018年09月21日 至 2018年09月23日||品牌：LAIYANG PEA...</td>\n",
       "      <td>1</td>\n",
       "      <td>26.8</td>\n",
       "      <td>...</td>\n",
       "      <td>129.0</td>\n",
       "      <td>-1.0</td>\n",
       "      <td>29.8</td>\n",
       "      <td>219.0</td>\n",
       "      <td>151.0</td>\n",
       "      <td>-1.0</td>\n",
       "      <td>29.8</td>\n",
       "      <td>241.0</td>\n",
       "      <td>98.0</td>\n",
       "      <td>-1.0</td>\n",
       "    </tr>\n",
       "    <tr>\n",
       "      <th>18896</th>\n",
       "      <td>580245163878</td>\n",
       "      <td>水果</td>\n",
       "      <td>福建番石榴红心芭乐果混装5斤新鲜水果白心巴乐包邮蕃石榴潘石榴</td>\n",
       "      <td>d409413ea2111090</td>\n",
       "      <td>68.0</td>\n",
       "      <td>0.0</td>\n",
       "      <td>福建 漳州</td>\n",
       "      <td>生产日期：2018年10月19日 至 2018年10月19日||品牌：世纪村||系列：芭乐|...</td>\n",
       "      <td>1</td>\n",
       "      <td>22.8</td>\n",
       "      <td>...</td>\n",
       "      <td>438.0</td>\n",
       "      <td>-1.0</td>\n",
       "      <td>24.8</td>\n",
       "      <td>1255.0</td>\n",
       "      <td>377.0</td>\n",
       "      <td>-1.0</td>\n",
       "      <td>24.8</td>\n",
       "      <td>1326.0</td>\n",
       "      <td>223.0</td>\n",
       "      <td>-1.0</td>\n",
       "    </tr>\n",
       "    <tr>\n",
       "      <th>18897</th>\n",
       "      <td>544935851035</td>\n",
       "      <td>水果</td>\n",
       "      <td>10斤包邮正宗湖南常德石门秀萍柑橘橘子桔子现摘早熟新鲜皮薄蜜桔</td>\n",
       "      <td>e9a1c946660f5d0a</td>\n",
       "      <td>31.8</td>\n",
       "      <td>0.0</td>\n",
       "      <td>湖南 常德</td>\n",
       "      <td>包装方式：食用农产品||水果种类：其他||产地：中国大陆||省份：湖南省||城市：常德市||...</td>\n",
       "      <td>0</td>\n",
       "      <td>34.8</td>\n",
       "      <td>...</td>\n",
       "      <td>0.0</td>\n",
       "      <td>800.0</td>\n",
       "      <td>45.8</td>\n",
       "      <td>692.0</td>\n",
       "      <td>0.0</td>\n",
       "      <td>800.0</td>\n",
       "      <td>45.8</td>\n",
       "      <td>411.0</td>\n",
       "      <td>0.0</td>\n",
       "      <td>800.0</td>\n",
       "    </tr>\n",
       "    <tr>\n",
       "      <th>18898</th>\n",
       "      <td>534626465863</td>\n",
       "      <td>水果</td>\n",
       "      <td>欢乐家黄桃罐头256gX6罐新鲜糖水砀山黄桃罐头水果整箱玻璃瓶批发</td>\n",
       "      <td>7b0552767a1a471c</td>\n",
       "      <td>60.0</td>\n",
       "      <td>0.0</td>\n",
       "      <td>湖北 武汉</td>\n",
       "      <td>生产日期：2018年07月30日 至 2018年07月31日||净含量：1536g||包装方...</td>\n",
       "      <td>1</td>\n",
       "      <td>19.9</td>\n",
       "      <td>...</td>\n",
       "      <td>18075.0</td>\n",
       "      <td>-1.0</td>\n",
       "      <td>29.9</td>\n",
       "      <td>33154.0</td>\n",
       "      <td>27250.0</td>\n",
       "      <td>-1.0</td>\n",
       "      <td>29.9</td>\n",
       "      <td>37223.0</td>\n",
       "      <td>14391.0</td>\n",
       "      <td>-1.0</td>\n",
       "    </tr>\n",
       "  </tbody>\n",
       "</table>\n",
       "<p>18899 rows × 33 columns</p>\n",
       "</div>"
      ],
      "text/plain": [
       "                 ID  品类                                 标题               店铺名  \\\n",
       "0      567797118294   蛋      [山客自养] 绿色有机土鸡蛋 农村散养 20枚装 破蛋包赔  267f241390522d93   \n",
       "1      554095491655   蛋            超大蛋3斤鸵鸟蛋新鲜送礼土豪蛋自家养殖破损包赔  d32a9408880d6d3b   \n",
       "2      550183128850   蛋         天飨村 咕叽咕叽农家散养新鲜纯天然30枚 粉壳土鸡蛋  891d50a4b916c106   \n",
       "3      569390163639   蛋   正宗农村农家野外散养土鸡蛋 新鲜草鸡蛋柴笨鸡蛋 富硒土鸡蛋30枚  7a6d2e534db34688   \n",
       "4      572170484146   蛋    野外散养土鸡蛋农家散养树林柴鸡蛋农村草鸡蛋新鲜当日鸡蛋30枚装  b4c281826b800e11   \n",
       "...             ...  ..                                ...               ...   \n",
       "18894  554122150495  水果    鲜故事 圣女果小黄瓜5斤混装小番茄新鲜樱桃西红柿水果黄瓜小柿子  c5b1541973c2e732   \n",
       "18895  565973303002  水果    山东特产莱阳梨当季新鲜时令水果香梨子 烟台贡梨慈梨5斤整箱包邮  2b9b4fb87b0336f8   \n",
       "18896  580245163878  水果     福建番石榴红心芭乐果混装5斤新鲜水果白心巴乐包邮蕃石榴潘石榴  d409413ea2111090   \n",
       "18897  544935851035  水果    10斤包邮正宗湖南常德石门秀萍柑橘橘子桔子现摘早熟新鲜皮薄蜜桔  e9a1c946660f5d0a   \n",
       "18898  534626465863  水果  欢乐家黄桃罐头256gX6罐新鲜糖水砀山黄桃罐头水果整箱玻璃瓶批发  7b0552767a1a471c   \n",
       "\n",
       "          原价   快递费   快递地区                                               基本信息  \\\n",
       "0       56.2  12.0     吉林  包装方式：食用农产品||产地：中国大陆||省份：吉林省||城市：吉林市||枚数：20枚||净...   \n",
       "1      175.0   0.0  山东 淄博  包装方式：食用农产品||生鲜储存温度：0-8℃||产地：中国大陆||省份：山东省||城市：淄...   \n",
       "2       55.0   0.0  湖南 长沙  包装方式：食用农产品||同城服务：同城24小时卖家送货上门||售卖方式：组合||是否为有机食...   \n",
       "3       43.8   0.0  安徽 安庆  净含量：1350g||包装方式：食用农产品||枚数：30枚||产地：中国大陆||省份：安徽省...   \n",
       "4       79.0   0.0  安徽 宣城  包装方式：食用农产品||产地：中国大陆||省份：安徽省||城市：宣城市||枚数：30枚||净...   \n",
       "...      ...   ...    ...                                                ...   \n",
       "18894   42.0   0.0  山东 潍坊  生产日期：2017年06月23日 至 2017年06月25日||产地：中国大陆||省份：山东...   \n",
       "18895   39.0   0.0  山东 烟台  生产日期：2018年09月21日 至 2018年09月23日||品牌：LAIYANG PEA...   \n",
       "18896   68.0   0.0  福建 漳州  生产日期：2018年10月19日 至 2018年10月19日||品牌：世纪村||系列：芭乐|...   \n",
       "18897   31.8   0.0  湖南 常德  包装方式：食用农产品||水果种类：其他||产地：中国大陆||省份：湖南省||城市：常德市||...   \n",
       "18898   60.0   0.0  湖北 武汉  生产日期：2018年07月30日 至 2018年07月31日||净含量：1536g||包装方...   \n",
       "\n",
       "       是否天猫   活动价1  ...     月销量4      信誉4   活动价5    累计评价5     月销量5      信誉5  \\\n",
       "0         0   56.2  ...      0.0    928.0   56.2      4.0      0.0    938.0   \n",
       "1         0  178.0  ...     59.0   9340.0  155.0    232.0    109.0   9541.0   \n",
       "2         0   55.0  ...      2.0   2383.0   55.0     14.0      1.0   2385.0   \n",
       "3         0   43.8  ...      6.0  13759.0   43.8     76.0      5.0  13770.0   \n",
       "4         0   39.5  ...      0.0  12088.0   39.5      2.0      0.0  13200.0   \n",
       "...     ...    ...  ...      ...      ...    ...      ...      ...      ...   \n",
       "18894     1   39.8  ...   2283.0     -1.0   39.8  13094.0   7153.0     -1.0   \n",
       "18895     1   26.8  ...    129.0     -1.0   29.8    219.0    151.0     -1.0   \n",
       "18896     1   22.8  ...    438.0     -1.0   24.8   1255.0    377.0     -1.0   \n",
       "18897     0   34.8  ...      0.0    800.0   45.8    692.0      0.0    800.0   \n",
       "18898     1   19.9  ...  18075.0     -1.0   29.9  33154.0  27250.0     -1.0   \n",
       "\n",
       "        活动价6    累计评价6     月销量6      信誉6  \n",
       "0       56.2      0.0      0.0    939.0  \n",
       "1      135.0    205.0    158.0   9919.0  \n",
       "2       55.0     12.0      0.0   2385.0  \n",
       "3       43.8     42.0      1.0  13776.0  \n",
       "4       39.5      2.0      0.0  15004.0  \n",
       "...      ...      ...      ...      ...  \n",
       "18894   39.8  15146.0   6182.0     -1.0  \n",
       "18895   29.8    241.0     98.0     -1.0  \n",
       "18896   24.8   1326.0    223.0     -1.0  \n",
       "18897   45.8    411.0      0.0    800.0  \n",
       "18898   29.9  37223.0  14391.0     -1.0  \n",
       "\n",
       "[18899 rows x 33 columns]"
      ]
     },
     "execution_count": 43,
     "metadata": {},
     "output_type": "execute_result"
    }
   ],
   "source": [
    "data"
   ]
  },
  {
   "cell_type": "code",
   "execution_count": null,
   "metadata": {},
   "outputs": [],
   "source": []
  },
  {
   "cell_type": "code",
   "execution_count": null,
   "metadata": {},
   "outputs": [],
   "source": []
  }
 ],
 "metadata": {
  "kernelspec": {
   "display_name": "Python 3 (ipykernel)",
   "language": "python",
   "name": "python3"
  },
  "language_info": {
   "codemirror_mode": {
    "name": "ipython",
    "version": 3
   },
   "file_extension": ".py",
   "mimetype": "text/x-python",
   "name": "python",
   "nbconvert_exporter": "python",
   "pygments_lexer": "ipython3",
   "version": "3.9.13"
  },
  "toc": {
   "base_numbering": 1,
   "nav_menu": {},
   "number_sections": true,
   "sideBar": true,
   "skip_h1_title": false,
   "title_cell": "Table of Contents",
   "title_sidebar": "Contents",
   "toc_cell": false,
   "toc_position": {},
   "toc_section_display": true,
   "toc_window_display": false
  }
 },
 "nbformat": 4,
 "nbformat_minor": 2
}
