{
 "cells": [
  {
   "cell_type": "markdown",
   "id": "4b951bcc-30d3-4b3b-8460-555f89255c45",
   "metadata": {},
   "source": [
    "<p>concat 函数实现多表横向堆叠</p>\n",
    "<p>merge 函数实现主键合并，类似于数据库中的 JOIN，也有左连接、右连接、内连接和外连接</p>"
   ]
  },
  {
   "cell_type": "code",
   "execution_count": null,
   "id": "face148d-99b5-40a8-8cb6-96013aa3fa40",
   "metadata": {},
   "outputs": [],
   "source": [
    "import pandas as pd\n",
    "import numpy as np\n",
    "\n",
    "def clean_data(df):\n",
    "    # 去重\n",
    "    df.drop_duplicates(inplace=True)\n",
    "    # 缺失值中位数填补\n",
    "    for col in df.columns:\n",
    "        if df[col].isnull().sum() > 0:\n",
    "            median = np.median(df[col].dropna())\n",
    "            df[col].fillna(median, inplace=True)\n",
    "    return df"
   ]
  }
 ],
 "metadata": {
  "kernelspec": {
   "display_name": "Python 3 (ipykernel)",
   "language": "python",
   "name": "python3"
  },
  "language_info": {
   "codemirror_mode": {
    "name": "ipython",
    "version": 3
   },
   "file_extension": ".py",
   "mimetype": "text/x-python",
   "name": "python",
   "nbconvert_exporter": "python",
   "pygments_lexer": "ipython3",
   "version": "3.10.9"
  },
  "widgets": {
   "application/vnd.jupyter.widget-state+json": {
    "state": {},
    "version_major": 2,
    "version_minor": 0
   }
  }
 },
 "nbformat": 4,
 "nbformat_minor": 5
}
