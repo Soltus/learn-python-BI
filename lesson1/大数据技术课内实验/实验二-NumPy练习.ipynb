{
 "cells": [
  {
   "cell_type": "markdown",
   "id": "bc638f3f-35d1-4cf1-a944-06e542bc2bdb",
   "metadata": {},
   "source": [
    "<!--\n",
    "模板使用方法：将此代码块转为Markdown块然后点击左侧三角渲染（依赖 jupyter-wysiwyg ）\n",
    "模板参数说明：将超链接的路径替换即可\n",
    "@hyperlink_1: href=\"https://github.com/{组织或用户}/{仓库}/blob/{分支}/{目录和文件名组成的路径}\"\n",
    "@hyperlink_2: href=\"https://nbviewer.org/github/{组织或用户}/{仓库}/blob/{分支}/{目录和文件名组成的路径}\"\n",
    "注意事项：在 <p>...</p> 中添加注释或者空行等行为会破坏渲染效果\n",
    "-->\n",
    "\n",
    "<!-- start of template header -->\n",
    "<p>\n",
    "<div style=\"display:flex\">\n",
    "<a alt=\"hyperlink_1\" title=\"在Github查看当前文件\" href=\"https://github.com/Soltus/learn-python-BI/blob/main/lesson1/%E5%A4%A7%E6%95%B0%E6%8D%AE%E6%8A%80%E6%9C%AF%E8%AF%BE%E5%86%85%E5%AE%9E%E9%AA%8C/%E5%AE%9E%E9%AA%8C%E4%BA%8C-NumPy%E7%BB%83%E4%B9%A0.ipynb\" target=\"_blank\"><img src=\"https://img.shields.io/badge/File-black?logo=github\" style=\"height: 38px\"/></a>\n",
    "<span style=\"width:5.8px\"></span>\n",
    "<a alt=\"hyperlink_2\" title=\"在nbviewer查看当前文件\" href=\"https://nbviewer.org/github/Soltus/learn-python-BI/blob/main/lesson1/%E5%A4%A7%E6%95%B0%E6%8D%AE%E6%8A%80%E6%9C%AF%E8%AF%BE%E5%86%85%E5%AE%9E%E9%AA%8C/%E5%AE%9E%E9%AA%8C%E4%BA%8C-NumPy%E7%BB%83%E4%B9%A0.ipynb\" target=\"_blank\"><img src=\"https://img.shields.io/badge/nbviewer-white?logo=jupyter\" style=\"height: 38px\"/></a>\n",
    "</div>\n",
    "</p>\n",
    "\n",
    "<!-- 避免二次渲染当前块 -->\n",
    "<!-- 请勿在此处添加内容 -->\n",
    "<!-- end of template header -->"
   ]
  },
  {
   "cell_type": "markdown",
   "id": "94194b63-5e31-4802-aabc-5a76927318a1",
   "metadata": {},
   "source": [
    "<h2 class=\"MsoNormal\"><span class=\"15\" style=\"font-family: 'Times New Roman'; font-size: 24pt; color: #b96ad9;\">题一</span></h2>\n",
    "<blockquote><span class=\"15\" style=\"font-family: 'Times New Roman'; font-size: 12pt;\">用单纯形法求解以下线性规划问题：</span></blockquote>"
   ]
  },
  {
   "cell_type": "markdown",
   "id": "66ee27c6-b2d7-42cc-bf79-3bb870a06843",
   "metadata": {},
   "source": [
    "$$\\max z=50x_1+100x_2$$ $$s.t.\\qquad\\begin{split}x_1+x_2\\leq300\\\\2x_1+x_2\\leq400\\\\x_2\\leq250\\\\x_1,x_2\\geq0\\end{split}$$"
   ]
  },
  {
   "cell_type": "markdown",
   "id": "40c2802d-c414-4c9a-9ee8-731604186607",
   "metadata": {},
   "source": [
    "<h2>（1）首先化为标准形式，声明变量且赋值为Numpy对象：</h2>"
   ]
  },
  {
   "cell_type": "markdown",
   "id": "1f2792db-35bc-428f-ae02-7b1fcde2ed74",
   "metadata": {},
   "source": [
    "<p>$$\\max z=50x_1+100x_2$$ $$s.t.\\qquad\\begin{split}x_1+x_2+x_3=300\\\\2x_1+x_2+x_4=400\\\\x_2+x_5=250\\\\x_1,x_2,x_3,x_4,x_5\\geq0\\end{split}$$</p>"
   ]
  },
  {
   "cell_type": "code",
   "execution_count": 8,
   "id": "5e4833d3-2bd9-4632-875d-90362f7e34f1",
   "metadata": {
    "execution": {
     "iopub.execute_input": "2023-03-20T06:43:35.799961Z",
     "iopub.status.busy": "2023-03-20T06:43:35.798960Z",
     "iopub.status.idle": "2023-03-20T06:43:35.802963Z",
     "shell.execute_reply": "2023-03-20T06:43:35.802963Z",
     "shell.execute_reply.started": "2023-03-20T06:43:35.799961Z"
    },
    "tags": []
   },
   "outputs": [],
   "source": [
    "t1_c = np.array([-50, -100, 0, 0, 0]).reshape(-1, 1) # 如果等于-1的话，那么Numpy会根据剩下的维度计算出数组的另外一个shape属性值\n",
    "t1_A = np.array([[1, 1, 1, 0, 0], [2, 1, 0, 1, 0],[0, 1, 0, 0, 1]])\n",
    "t1_b = np.array([300, 400, 250]).reshape(-1, 1)"
   ]
  },
  {
   "cell_type": "markdown",
   "id": "5dd0ee97-b2ca-4bf9-ae1d-90c4584962b1",
   "metadata": {
    "tags": []
   },
   "source": [
    "<h2>（2）接着定义求解函数 <code>simplex</code>：</h2>"
   ]
  },
  {
   "cell_type": "code",
   "execution_count": 12,
   "id": "9d64b6aa-0da8-4e65-8d72-4a8d8be0a06b",
   "metadata": {
    "execution": {
     "iopub.execute_input": "2023-03-20T07:10:46.444982Z",
     "iopub.status.busy": "2023-03-20T07:10:46.444982Z",
     "iopub.status.idle": "2023-03-20T07:10:46.454991Z",
     "shell.execute_reply": "2023-03-20T07:10:46.454991Z",
     "shell.execute_reply.started": "2023-03-20T07:10:46.444982Z"
    },
    "tags": []
   },
   "outputs": [],
   "source": [
    "import numpy as np # 使用 np 作为别名\n",
    "# np.matmul 求两个数组的矩阵乘积 ref: https://numpy.org/doc/stable/reference/generated/numpy.matmul.html\n",
    "# np.linalg.inv 计算矩阵的（乘法）逆运算 ref: https://numpy.org/doc/stable/reference/generated/numpy.linalg.inv.html\n",
    "\n",
    "def myMatmul(a, b):\n",
    "    ''' 使用教材的方式实现 np.matmul '''\n",
    "    kk = []\n",
    "    for i in range(a.shape[0]):\n",
    "        k = []\n",
    "        for j in range(b.shape[1]):\n",
    "            k.append(sum(a[i,...]*b[...,j]))\n",
    "        kk.append(k)\n",
    "    return np.array(kk)\n",
    "\n",
    "def simplex(c,A,b):\n",
    "    ''' 求解函数 '''\n",
    "    # 当输入的c,A,b有缺失值时，输出错误原因，函数执行结束\n",
    "    if c.shape[0] != A.shape[1]:\n",
    "        print(\"A和C形状不匹配\")\n",
    "        return 0\n",
    "    if b.shape[0] != A.shape[0]:\n",
    "        print(\"A和b形状不匹配\")\n",
    "        return 0\n",
    "    num=A.shape[1]-A.shape[0]\n",
    "    N_indexs=np.arange(0,num) # 非基变量的下标索引\n",
    "    B_indexs=np.arange(num,A.shape[1]) # 基变量的下标索引\n",
    "    N=A[:,N_indexs] # 初始的 N\n",
    "    B=A[:,B_indexs] # 初始的 B\n",
    "    c_N=c[N_indexs,:]\n",
    "    c_B=c[B_indexs,:]\n",
    "    # x_B = np.matmul(np.linalg.inv(B), b)\n",
    "    x_B = myMatmul(np.linalg.inv(B), b)\n",
    "    i=0\n",
    "    while 1:\n",
    "        # 判断r值是否>=0，若r的每一维都>=0，则满足最优化条件。若r中有值<0，则继续寻找最优点。\n",
    "        R=(c_N.T - np.matmul(np.matmul(c_B.T, np.linalg.inv(B)), N)).flatten()\n",
    "        if all(R >= 0):\n",
    "            print(\"##########################找到最优点##########################\")\n",
    "            print(\"非基变量的索引为\",N_indexs)\n",
    "            print(\"基变量的索引为\",B_indexs)\n",
    "            print(\"最优点为\",x_B.flatten())\n",
    "            print(\"最优值为\",z.flatten()[0])\n",
    "            return 0\n",
    "        else:\n",
    "            i=i+1\n",
    "            print(\"step\",i)\n",
    "            # 找到入基变量\n",
    "            N_in_index = np.argmin(R)  # 找到入基变量的下标\n",
    "            N_in=N[:,N_in_index] # 入基变量对应的Aq\n",
    "            # 找到出基变量\n",
    "            negd=np.matmul(np.linalg.inv(B),N_in)\n",
    "            y=x_B.flatten()/negd\n",
    "            # 设置一个初值索引index，需满足negd[index]>0\n",
    "            for i in range(len(y)):\n",
    "                if negd[i]>0:\n",
    "                    index=i\n",
    "                    break\n",
    "            # 找到y最小且negd>0的位置\n",
    "            for i in range(len(y)):\n",
    "                if negd[i]<=0:\n",
    "                    continue\n",
    "                elif y[i]<y[index]:\n",
    "                    index=i\n",
    "            B_out_index=index # 找到出基变量的下标\n",
    "            B_out=B[:,B_out_index] # 出基变量对应的Aq\n",
    "            #出入基变量交换位置\n",
    "            in_index=N_indexs[N_in_index]\n",
    "            out_index=B_indexs[B_out_index]\n",
    "            temp=N_indexs[N_in_index]\n",
    "            N_indexs[N_in_index]=B_indexs[B_out_index]\n",
    "            B_indexs[B_out_index]=temp\n",
    "            N[:,N_in_index]=B_out\n",
    "            B[:,B_out_index]=N_in\n",
    "            c_N = c[N_indexs, :]\n",
    "            c_B = c[B_indexs, :]\n",
    "            N = A[:, N_indexs]\n",
    "            B = A[:, B_indexs]\n",
    "            x_B = np.matmul(np.linalg.inv(B), b)\n",
    "            z = np.matmul(c_B.T, x_B)\n",
    "            print(\"出基变量索引\",out_index)\n",
    "            print(\"入基变量索引\",in_index)\n",
    "            print(\"值为\",z.flatten()[0])\n"
   ]
  },
  {
   "cell_type": "markdown",
   "id": "d034b478-7fc7-42f2-9368-6ff16c785845",
   "metadata": {},
   "source": [
    "<h2>（3）最后使用函数求解问题：</h2>"
   ]
  },
  {
   "cell_type": "code",
   "execution_count": 13,
   "id": "ba71831a-ba4a-41fb-964f-00ae0b426d9b",
   "metadata": {
    "execution": {
     "iopub.execute_input": "2023-03-20T07:10:53.325216Z",
     "iopub.status.busy": "2023-03-20T07:10:53.324215Z",
     "iopub.status.idle": "2023-03-20T07:10:53.331902Z",
     "shell.execute_reply": "2023-03-20T07:10:53.331386Z",
     "shell.execute_reply.started": "2023-03-20T07:10:53.325216Z"
    },
    "tags": []
   },
   "outputs": [
    {
     "name": "stdout",
     "output_type": "stream",
     "text": [
      "step 1\n",
      "出基变量索引 4\n",
      "入基变量索引 1\n",
      "值为 -25000.0\n",
      "step 3\n",
      "出基变量索引 2\n",
      "入基变量索引 0\n",
      "值为 -27500.0\n",
      "##########################找到最优点##########################\n",
      "非基变量的索引为 [2 4]\n",
      "基变量的索引为 [0 3 1]\n",
      "最优点为 [ 50.  50. 250.]\n",
      "最优值为 -27500.0\n"
     ]
    },
    {
     "name": "stderr",
     "output_type": "stream",
     "text": [
      "C:\\Windows\\Temp\\ipykernel_24520\\999845842.py:52: RuntimeWarning: divide by zero encountered in divide\n",
      "  y=x_B.flatten()/negd\n"
     ]
    },
    {
     "data": {
      "text/plain": [
       "0"
      ]
     },
     "execution_count": 13,
     "metadata": {},
     "output_type": "execute_result"
    }
   ],
   "source": [
    "simplex(t1_c,t1_A,t1_b)"
   ]
  },
  {
   "cell_type": "markdown",
   "id": "194de5c5-fc0c-4c19-96e2-207f9ed4a085",
   "metadata": {},
   "source": [
    "<h1><span class=\"15\" style=\"font-family: 'Times New Roman'; font-size: 24pt; color: #b96ad9;\">题二</span></h1>\n",
    "<blockquote><span class=\"15\" style=\"font-family: 'Times New Roman'; font-size: 12pt;\">求下列矩阵的逆矩阵</span></blockquote>\n",
    "<p><span class=\"15\" style=\"font-family: 'Times New Roman'; font-size: 12pt;\"><span style=\"font-family: 'Microsoft YaHei'; font-size: medium;\">$$Array_1=np.array([1,1,1],[0,2,5],[2,5,-1])$$</span></span></p>\n",
    "<p>&nbsp;</p>"
   ]
  },
  {
   "cell_type": "markdown",
   "id": "84b3de72-e74d-4464-adc7-83c858681fbb",
   "metadata": {},
   "source": [
    "<h1><span style=\"color: #b96ad9;\">题三</span></h1>\n",
    "<blockquote>\n",
    "<p>使用Numpy数组对象，创建两个3*3的矩阵，并计算矩阵乘积。</p>\n",
    "</blockquote>"
   ]
  },
  {
   "cell_type": "code",
   "execution_count": 49,
   "id": "dfcb9ba0-1955-4ae7-b2c6-65a57b6ef7e5",
   "metadata": {
    "execution": {
     "iopub.execute_input": "2023-03-20T07:49:29.875540Z",
     "iopub.status.busy": "2023-03-20T07:49:29.874538Z",
     "iopub.status.idle": "2023-03-20T07:49:29.879590Z",
     "shell.execute_reply": "2023-03-20T07:49:29.879590Z",
     "shell.execute_reply.started": "2023-03-20T07:49:29.875540Z"
    },
    "tags": []
   },
   "outputs": [
    {
     "name": "stdout",
     "output_type": "stream",
     "text": [
      "[[ 30  24  18]\n",
      " [ 84  69  54]\n",
      " [138 114  90]]\n"
     ]
    }
   ],
   "source": [
    "import numpy as np\n",
    "\n",
    "# 创建两个3*3的矩阵\n",
    "t3_matrix1 = np.array([[1, 2, 3], [4, 5, 6], [7, 8, 9]])\n",
    "t3_matrix2 = np.array([[9, 8, 7], [6, 5, 4], [3, 2, 1]])\n",
    "\n",
    "# 计算矩阵乘积\n",
    "matrix_product = np.dot(t3_matrix1, t3_matrix2)\n",
    "\n",
    "# 输出结果\n",
    "print(matrix_product)"
   ]
  },
  {
   "cell_type": "code",
   "execution_count": 51,
   "id": "53dec210-14df-4ada-8748-1af5f9f6f317",
   "metadata": {
    "execution": {
     "iopub.execute_input": "2023-03-20T07:50:17.093249Z",
     "iopub.status.busy": "2023-03-20T07:50:17.093249Z",
     "iopub.status.idle": "2023-03-20T07:50:17.097253Z",
     "shell.execute_reply": "2023-03-20T07:50:17.097253Z",
     "shell.execute_reply.started": "2023-03-20T07:50:17.093249Z"
    },
    "tags": []
   },
   "outputs": [
    {
     "name": "stdout",
     "output_type": "stream",
     "text": [
      "[[ 30  24  18]\n",
      " [ 84  69  54]\n",
      " [138 114  90]]\n"
     ]
    }
   ],
   "source": [
    "# 计算矩阵乘积\n",
    "matrix_product2 = myMatmul(t3_matrix1, t3_matrix2) # myMatmul 在题一中定义\n",
    "\n",
    "# 输出结果是一样的\n",
    "print(matrix_product2)"
   ]
  },
  {
   "cell_type": "markdown",
   "id": "004f1b70-e887-43df-9881-55e6fab21442",
   "metadata": {},
   "source": [
    "<p><span style=\"font-size: 14pt;\"><code>np.dot</code> 和 <code>np.matmul</code> 都是矩阵乘法，在矢量乘矢量的內积运算中没有区别，但是 <code>np.matmul</code> 无法用于标量与array相乘。在两个 array 的维度均 <span style=\"color: #169179;\"><span style=\"color: #f1c40f;\">n&gt;2</span> </span>的情况下， <code>np.matmul()</code> 是对应位置的矩阵分别作点积，而 <code>np.dot()</code> 是 arrayA 的所有矩阵都与 arrayB 的所有矩阵作点积。</span></p>"
   ]
  },
  {
   "cell_type": "markdown",
   "id": "fb16366c-4ca0-4ed1-b26d-1f8af776f4c5",
   "metadata": {},
   "source": [
    "<h1><span style=\"color: #b96ad9;\">题四</span></h1>\n",
    "<blockquote>\n",
    "<p>计算 $1+1/3+1/5+1/7+\\quad ... \\quad +1/99$ 的和。</p>\n",
    "</blockquote>"
   ]
  },
  {
   "cell_type": "code",
   "execution_count": 45,
   "id": "11ee6db9-fda3-4e3f-b7ce-f5167ec464bb",
   "metadata": {
    "execution": {
     "iopub.execute_input": "2023-03-20T07:38:55.715448Z",
     "iopub.status.busy": "2023-03-20T07:38:55.715448Z",
     "iopub.status.idle": "2023-03-20T07:38:55.719452Z",
     "shell.execute_reply": "2023-03-20T07:38:55.719452Z",
     "shell.execute_reply.started": "2023-03-20T07:38:55.715448Z"
    },
    "tags": []
   },
   "outputs": [
    {
     "name": "stdout",
     "output_type": "stream",
     "text": [
      "和为: 2.9378\n"
     ]
    }
   ],
   "source": [
    "import numpy as np\n",
    "\n",
    "# 生成从1到99的奇数序列\n",
    "t4_odd_nums = np.arange(1, 100, 2)\n",
    "# print(odd_nums)\n",
    "\n",
    "# 计算奇数序列的倒数并相加\n",
    "# t4_sum = np.sum(1.0/t4_odd_nums)\n",
    "t4_sum = 0\n",
    "for i in t4_odd_nums:\n",
    "    t4_sum += 1.0/i\n",
    "\n",
    "print(f\"和为: {t4_sum:.4f}\")"
   ]
  },
  {
   "cell_type": "markdown",
   "id": "5feae115-e0bb-4aed-b71c-af8063d965f8",
   "metadata": {},
   "source": [
    "<h1><span style=\"color: #b96ad9;\">题五</span></h1>\n",
    "<blockquote>\n",
    "<p>对一个 5 &times; 5 的随机矩阵做归一化（可选择不同归一化方法）。</p>\n",
    "</blockquote>"
   ]
  },
  {
   "cell_type": "markdown",
   "id": "fad32dab-9895-4157-a5d0-71e57ed38268",
   "metadata": {},
   "source": [
    "<h1><span style=\"color: #b96ad9;\">题六</span></h1>\n",
    "<blockquote>\n",
    "<p>选取三种排序算法（冒泡排序除外），对列表排序。</p>\n",
    "</blockquote>"
   ]
  },
  {
   "cell_type": "code",
   "execution_count": 14,
   "id": "46d4203f-f20f-4a66-bd6d-1bfff6d55224",
   "metadata": {
    "execution": {
     "iopub.execute_input": "2023-03-20T07:17:46.492119Z",
     "iopub.status.busy": "2023-03-20T07:17:46.491118Z",
     "iopub.status.idle": "2023-03-20T07:17:46.500127Z",
     "shell.execute_reply": "2023-03-20T07:17:46.500127Z",
     "shell.execute_reply.started": "2023-03-20T07:17:46.492119Z"
    },
    "tags": []
   },
   "outputs": [],
   "source": [
    "import numpy as np\n",
    "\n",
    "def quick_sort(arr):\n",
    "    '''快速排序（QuickSort）'''\n",
    "    if len(arr) <= 1:\n",
    "        return arr\n",
    "    pivot = arr[0]\n",
    "    left = np.array([x for x in arr[1:] if x < pivot])\n",
    "    right = np.array([x for x in arr[1:] if x >= pivot])\n",
    "    return np.concatenate((quick_sort(left), [pivot], quick_sort(right)))\n",
    "\n",
    "def merge_sort(arr):\n",
    "    '''归并排序（Merge Sort）'''\n",
    "    if len(arr) <= 1:\n",
    "        return arr\n",
    "    mid = len(arr) // 2\n",
    "    left = merge_sort(arr[:mid])\n",
    "    right = merge_sort(arr[mid:])\n",
    "    i = j = 0\n",
    "    result = np.empty(len(arr), dtype=arr.dtype)\n",
    "    while i < len(left) and j < len(right):\n",
    "        if left[i] < right[j]:\n",
    "            result[i+j] = left[i]\n",
    "            i += 1\n",
    "        else:\n",
    "            result[i+j] = right[j]\n",
    "            j += 1\n",
    "    result[i+j:] = left[i:] if i < len(left) else right[j:]\n",
    "    return result\n",
    "\n",
    "def heap_sort(arr):\n",
    "    '''堆排序（Heap Sort）'''\n",
    "    def sift_down(arr, start, end):\n",
    "        root = start\n",
    "        while True:\n",
    "            child = 2 * root + 1\n",
    "            if child > end:\n",
    "                break\n",
    "            if child + 1 <= end and arr[child] < arr[child + 1]:\n",
    "                child += 1\n",
    "            if arr[root] < arr[child]:\n",
    "                arr[root], arr[child] = arr[child], arr[root]\n",
    "                root = child\n",
    "            else:\n",
    "                break\n",
    "    # Build Max-Heap\n",
    "    for start in range((len(arr)-2)//2, -1, -1):\n",
    "        sift_down(arr, start, len(arr)-1)\n",
    "    # Heap Sort\n",
    "    for end in range(len(arr)-1, 0, -1):\n",
    "        arr[0], arr[end] = arr[end], arr[0]\n",
    "        sift_down(arr, 0, end-1)\n",
    "    return arr\n"
   ]
  },
  {
   "cell_type": "code",
   "execution_count": 24,
   "id": "3cb9e586-86b6-49e8-be38-4a912fbd7f71",
   "metadata": {
    "execution": {
     "iopub.execute_input": "2023-03-20T07:24:16.185773Z",
     "iopub.status.busy": "2023-03-20T07:24:16.185773Z",
     "iopub.status.idle": "2023-03-20T07:24:16.190779Z",
     "shell.execute_reply": "2023-03-20T07:24:16.190779Z",
     "shell.execute_reply.started": "2023-03-20T07:24:16.185773Z"
    },
    "tags": []
   },
   "outputs": [
    {
     "name": "stdout",
     "output_type": "stream",
     "text": [
      "原列表   [ 4 44 67 66 86  8 34 31 85 48]\n",
      "快速排序 [ 4.  8. 31. 34. 44. 48. 66. 67. 85. 86.]\n",
      "归并排序 [ 4  8 31 34 44 48 66 67 85 86]\n",
      "堆排序   [ 4  8 31 34 44 48 66 67 85 86]\n"
     ]
    }
   ],
   "source": [
    "import random\n",
    "\n",
    "my_list = [random.randint(1, 100) for _ in range(10)]\n",
    "my_list = np.array(my_list)\n",
    "print('原列表  ',my_list)\n",
    "\n",
    "t6_s1 = quick_sort(my_list)\n",
    "t6_s2 = merge_sort(my_list)\n",
    "t6_s3 = heap_sort(my_list)\n",
    "print('快速排序',t6_s1)\n",
    "print('归并排序',t6_s2)\n",
    "print('堆排序  ',t6_s3)"
   ]
  },
  {
   "cell_type": "markdown",
   "id": "f06c9cc3-a1f7-4ffd-afcf-00ef5c044b7d",
   "metadata": {},
   "source": [
    "<!-- start of template footer -->\n",
    "<p>\n",
    "<div style=\"display:flex\">\n",
    "<a href=\"tencent://AddContact/?fromId=45&fromSubId=1&subcmd=all&uin=694357845&website=www.oicqzone.com\" target=\"_blank\"><img title=\"添加QQ好友\" src=\"https://img.shields.io/badge/QQ-694357845-blue?logo=Tencent QQ\" style=\"height: 38px\"/></a>\n",
    "</div>\n",
    "</p>\n",
    "<!-- end of template footer -->"
   ]
  }
 ],
 "metadata": {
  "kernelspec": {
   "display_name": "Python 3 (ipykernel)",
   "language": "python",
   "name": "python3"
  },
  "language_info": {
   "codemirror_mode": {
    "name": "ipython",
    "version": 3
   },
   "file_extension": ".py",
   "mimetype": "text/x-python",
   "name": "python",
   "nbconvert_exporter": "python",
   "pygments_lexer": "ipython3",
   "version": "3.10.9"
  },
  "widgets": {
   "application/vnd.jupyter.widget-state+json": {
    "state": {},
    "version_major": 2,
    "version_minor": 0
   }
  }
 },
 "nbformat": 4,
 "nbformat_minor": 5
}
