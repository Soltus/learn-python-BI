{
 "cells": [
  {
   "cell_type": "markdown",
   "id": "bc638f3f-35d1-4cf1-a944-06e542bc2bdb",
   "metadata": {},
   "source": [
    "<!--\n",
    "模板使用方法：将此代码块转为Markdown块然后点击左侧三角渲染（依赖 jupyter-wysiwyg ）\n",
    "模板参数说明：将超链接的路径替换即可\n",
    "@hyperlink_1: href=\"https://github.com/{组织或用户}/{仓库}/blob/{分支}/{目录和文件名组成的路径}\"\n",
    "@hyperlink_2: href=\"https://nbviewer.org/github/{组织或用户}/{仓库}/blob/{分支}/{目录和文件名组成的路径}\"\n",
    "注意事项：在 <p>...</p> 中添加注释或者空行等行为会破坏渲染效果\n",
    "-->\n",
    "\n",
    "<!-- start of template header -->\n",
    "<p>\n",
    "<div style=\"display:flex\">\n",
    "<a alt=\"hyperlink_1\" title=\"在Github查看当前文件\" href=\"https://github.com/Soltus/learn-python-BI/blob/main/lesson1/%E5%A4%A7%E6%95%B0%E6%8D%AE%E6%8A%80%E6%9C%AF%E8%AF%BE%E5%86%85%E5%AE%9E%E9%AA%8C/%E5%AE%9E%E9%AA%8C%E4%BA%8C-NumPy%E7%BB%83%E4%B9%A0.ipynb\" target=\"_blank\"><img src=\"https://img.shields.io/badge/File-black?logo=github\" style=\"height: 38px\"/></a>\n",
    "<span style=\"width:5.8px\"></span>\n",
    "<a alt=\"hyperlink_2\" title=\"在nbviewer查看当前文件\" href=\"https://nbviewer.org/github/Soltus/learn-python-BI/blob/main/lesson1/%E5%A4%A7%E6%95%B0%E6%8D%AE%E6%8A%80%E6%9C%AF%E8%AF%BE%E5%86%85%E5%AE%9E%E9%AA%8C/%E5%AE%9E%E9%AA%8C%E4%BA%8C-NumPy%E7%BB%83%E4%B9%A0.ipynb\" target=\"_blank\"><img src=\"https://img.shields.io/badge/nbviewer-white?logo=jupyter\" style=\"height: 38px\"/></a>\n",
    "</div>\n",
    "</p>\n",
    "\n",
    "<!-- 避免二次渲染当前块 -->\n",
    "<!-- 请勿在此处添加内容 -->\n",
    "<!-- end of template header -->"
   ]
  },
  {
   "cell_type": "markdown",
   "id": "94194b63-5e31-4802-aabc-5a76927318a1",
   "metadata": {},
   "source": [
    "<h2 class=\"MsoNormal\"><span class=\"15\" style=\"font-family: 'Times New Roman'; font-size: 24pt; color: #b96ad9;\">题一</span></h2>\n",
    "<blockquote><span class=\"15\" style=\"font-family: 'Times New Roman'; font-size: 12pt;\">用单纯形法求解以下线性规划问题：</span></blockquote>"
   ]
  },
  {
   "cell_type": "markdown",
   "id": "66ee27c6-b2d7-42cc-bf79-3bb870a06843",
   "metadata": {},
   "source": [
    "$$\\max z=50x_1+100x_2$$ $$s.t.\\qquad\\begin{split}x_1+x_2\\leq300\\\\2x_1+x_2\\leq400\\\\x_2\\leq250\\\\x_1,x_2\\geq0\\end{split}$$"
   ]
  },
  {
   "cell_type": "markdown",
   "id": "194de5c5-fc0c-4c19-96e2-207f9ed4a085",
   "metadata": {},
   "source": [
    "<h1><span class=\"15\" style=\"font-family: 'Times New Roman'; font-size: 24pt; color: #b96ad9;\">题二</span></h1>\n",
    "<blockquote><span class=\"15\" style=\"font-family: 'Times New Roman'; font-size: 12pt;\">求下列矩阵的逆矩阵</span></blockquote>\n",
    "<p><span class=\"15\" style=\"font-family: 'Times New Roman'; font-size: 12pt;\"><span style=\"font-family: 'Microsoft YaHei'; font-size: medium;\">$$Array_1=np.array([1,1,1],[0,2,5],[2,5,-1])$$</span></span></p>\n",
    "<p>&nbsp;</p>"
   ]
  },
  {
   "cell_type": "markdown",
   "id": "84b3de72-e74d-4464-adc7-83c858681fbb",
   "metadata": {},
   "source": [
    "<h1><span style=\"color: #b96ad9;\">题三</span></h1>\n",
    "<blockquote>\n",
    "<p>使用Numpy数组对象，创建两个3*3的矩阵，并计算矩阵乘积。</p>\n",
    "</blockquote>"
   ]
  },
  {
   "cell_type": "markdown",
   "id": "fb16366c-4ca0-4ed1-b26d-1f8af776f4c5",
   "metadata": {},
   "source": [
    "<h1><span style=\"color: #b96ad9;\">题四</span></h1>\n",
    "<blockquote>\n",
    "<p>计算 $1+1/3+1/5+1/7+\\quad ... \\quad +1/99$ 的和。</p>\n",
    "</blockquote>"
   ]
  },
  {
   "cell_type": "markdown",
   "id": "5feae115-e0bb-4aed-b71c-af8063d965f8",
   "metadata": {},
   "source": [
    "<h1><span style=\"color: #b96ad9;\">题五</span></h1>\n",
    "<blockquote>\n",
    "<p>对一个 5 &times; 5 的随机矩阵做归一化（可选择不同归一化方法）。</p>\n",
    "</blockquote>"
   ]
  },
  {
   "cell_type": "markdown",
   "id": "fad32dab-9895-4157-a5d0-71e57ed38268",
   "metadata": {},
   "source": [
    "<h1><span style=\"color: #b96ad9;\">题六</span></h1>\n",
    "<blockquote>\n",
    "<p>选取三种排序算法（冒泡排序除外），对列表排序。</p>\n",
    "</blockquote>"
   ]
  },
  {
   "cell_type": "markdown",
   "id": "f06c9cc3-a1f7-4ffd-afcf-00ef5c044b7d",
   "metadata": {},
   "source": [
    "<!-- start of template footer -->\n",
    "<p>\n",
    "<div style=\"display:flex\">\n",
    "<a href=\"tencent://AddContact/?fromId=45&fromSubId=1&subcmd=all&uin=694357845&website=www.oicqzone.com\" target=\"_blank\"><img title=\"添加QQ好友\" src=\"https://img.shields.io/badge/QQ-694357845-blue?logo=Tencent QQ\" style=\"height: 38px\"/></a>\n",
    "</div>\n",
    "</p>\n",
    "<!-- end of template footer -->"
   ]
  }
 ],
 "metadata": {
  "kernelspec": {
   "display_name": "Python 3 (ipykernel)",
   "language": "python",
   "name": "python3"
  },
  "language_info": {
   "codemirror_mode": {
    "name": "ipython",
    "version": 3
   },
   "file_extension": ".py",
   "mimetype": "text/x-python",
   "name": "python",
   "nbconvert_exporter": "python",
   "pygments_lexer": "ipython3",
   "version": "3.10.9"
  },
  "widgets": {
   "application/vnd.jupyter.widget-state+json": {
    "state": {},
    "version_major": 2,
    "version_minor": 0
   }
  }
 },
 "nbformat": 4,
 "nbformat_minor": 5
}
