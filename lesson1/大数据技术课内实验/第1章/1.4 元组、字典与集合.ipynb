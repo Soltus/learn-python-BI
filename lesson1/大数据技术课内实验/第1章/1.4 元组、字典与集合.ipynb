{
 "cells": [
  {
   "cell_type": "code",
   "execution_count": 4,
   "metadata": {},
   "outputs": [
    {
     "name": "stdout",
     "output_type": "stream",
     "text": [
      "<class 'tuple'>\n"
     ]
    }
   ],
   "source": [
    "tup1 = ('Google', 'Runoob', 1997, 2000)\n",
    "tup2 = (1, 2, 3, 4, 5 )\n",
    "tup3 = \"a\", \"b\", \"c\", \"d\" # 不需要括号也可以 \n",
    "print(type(tup3))"
   ]
  },
  {
   "cell_type": "code",
   "execution_count": 5,
   "metadata": {},
   "outputs": [],
   "source": [
    "tup1 = ()"
   ]
  },
  {
   "cell_type": "code",
   "execution_count": 6,
   "metadata": {},
   "outputs": [
    {
     "data": {
      "text/plain": [
       "tuple"
      ]
     },
     "execution_count": 6,
     "metadata": {},
     "output_type": "execute_result"
    }
   ],
   "source": [
    "tup1 = (50) \n",
    "type(tup1) # 不加逗号，类型为整型 \n",
    "tup1 = (50,) \n",
    "type(tup1) # 加上逗号，类型为元组"
   ]
  },
  {
   "cell_type": "code",
   "execution_count": 7,
   "metadata": {},
   "outputs": [
    {
     "name": "stdout",
     "output_type": "stream",
     "text": [
      "tup1[0]:  Google\n",
      "tup2[1:5]:  (2, 3, 4, 5)\n"
     ]
    }
   ],
   "source": [
    "tup1 = ('Google', 'Runoob', 1997, 2000) \n",
    "tup2 = (1, 2, 3, 4, 5, 6, 7 ) \n",
    "print (\"tup1[0]: \", tup1[0]) \n",
    "print (\"tup2[1:5]: \", tup2[1:5])"
   ]
  },
  {
   "cell_type": "code",
   "execution_count": 8,
   "metadata": {},
   "outputs": [
    {
     "name": "stdout",
     "output_type": "stream",
     "text": [
      "(12, 34.56, 'abc', 'xyz')\n"
     ]
    }
   ],
   "source": [
    "tup1 = (12, 34.56); \n",
    "tup2 = ('abc', 'xyz') \n",
    "# 以下修改元组元素操作是非法的。 \n",
    "# tup1[0] = 100 \n",
    "# 创建一个新的元组 \n",
    "tup3 = tup1 + tup2; \n",
    "print (tup3)"
   ]
  },
  {
   "cell_type": "code",
   "execution_count": 9,
   "metadata": {},
   "outputs": [
    {
     "name": "stdout",
     "output_type": "stream",
     "text": [
      "('Google', 'Runoob', 1997, 2000)\n"
     ]
    }
   ],
   "source": [
    "tup = ('Google', 'Runoob', 1997, 2000) \n",
    "print (tup) \n",
    "del tup"
   ]
  },
  {
   "cell_type": "code",
   "execution_count": 10,
   "metadata": {},
   "outputs": [],
   "source": [
    "L = ('Google', 'Taobao', 'Runoob')"
   ]
  },
  {
   "cell_type": "code",
   "execution_count": 12,
   "metadata": {},
   "outputs": [],
   "source": [
    "dict = {'Alice': '2341', 'Beth': '9102', 'Cecil': '3258'}"
   ]
  },
  {
   "cell_type": "code",
   "execution_count": 13,
   "metadata": {},
   "outputs": [],
   "source": [
    "dict1 = { 'abc': 456 }\n",
    "dict2 = { 'abc': 123, 98.6: 37 }"
   ]
  },
  {
   "cell_type": "code",
   "execution_count": 14,
   "metadata": {},
   "outputs": [
    {
     "name": "stdout",
     "output_type": "stream",
     "text": [
      "dict['Name']:  Runoob\n",
      "dict['Age']:  7\n"
     ]
    }
   ],
   "source": [
    "dict = {'Name': 'Runoob', 'Age': 7, 'Class': 'First'} \n",
    "print (\"dict['Name']: \", dict['Name']) \n",
    "print (\"dict['Age']: \", dict['Age'])"
   ]
  },
  {
   "cell_type": "code",
   "execution_count": 15,
   "metadata": {},
   "outputs": [
    {
     "name": "stdout",
     "output_type": "stream",
     "text": [
      "dict['Age']:  8\n",
      "dict['School']:  菜鸟教程\n"
     ]
    }
   ],
   "source": [
    "dict = {'Name': 'Runoob', 'Age': 7, 'Class': 'First'} \n",
    "dict['Age'] = 8 # 更新 Age \n",
    "dict['School'] = \"菜鸟教程\" # 添加信息 \n",
    "print (\"dict['Age']: \", dict['Age']) \n",
    "print (\"dict['School']: \", dict['School'])"
   ]
  },
  {
   "cell_type": "code",
   "execution_count": 16,
   "metadata": {},
   "outputs": [],
   "source": [
    "dict = {'Name': 'Runoob', 'Age': 7, 'Class': 'First'} \n",
    "del dict['Name'] # 删除键 'Name' \n",
    "dict.clear() # 清空字典 \n",
    "del dict # 删除字典"
   ]
  },
  {
   "cell_type": "code",
   "execution_count": 18,
   "metadata": {},
   "outputs": [
    {
     "name": "stdout",
     "output_type": "stream",
     "text": [
      "{'apple', 'banana', 'pear', 'orange'}\n"
     ]
    }
   ],
   "source": [
    "basket = {'apple', 'orange', 'apple', 'pear', 'orange', 'banana'} \n",
    "print(basket) # 这里演示的是去重功能"
   ]
  },
  {
   "cell_type": "code",
   "execution_count": 19,
   "metadata": {},
   "outputs": [
    {
     "data": {
      "text/plain": [
       "True"
      ]
     },
     "execution_count": 19,
     "metadata": {},
     "output_type": "execute_result"
    }
   ],
   "source": [
    "'orange' in basket # 快速判断元素是否在集合内 "
   ]
  },
  {
   "cell_type": "code",
   "execution_count": 20,
   "metadata": {},
   "outputs": [
    {
     "data": {
      "text/plain": [
       "False"
      ]
     },
     "execution_count": 20,
     "metadata": {},
     "output_type": "execute_result"
    }
   ],
   "source": [
    "'crabgrass' in basket "
   ]
  },
  {
   "cell_type": "code",
   "execution_count": 21,
   "metadata": {},
   "outputs": [
    {
     "data": {
      "text/plain": [
       "{'a', 'b', 'c', 'd', 'r'}"
      ]
     },
     "execution_count": 21,
     "metadata": {},
     "output_type": "execute_result"
    }
   ],
   "source": [
    "# 下面展示两个集合间的运算. \n",
    "a = set('abracadabra') \n",
    "b = set('alacazam') \n",
    "a "
   ]
  },
  {
   "cell_type": "code",
   "execution_count": 22,
   "metadata": {},
   "outputs": [
    {
     "data": {
      "text/plain": [
       "{'b', 'd', 'r'}"
      ]
     },
     "execution_count": 22,
     "metadata": {},
     "output_type": "execute_result"
    }
   ],
   "source": [
    "a - b # 集合a中包含而集合b中不包含的元素"
   ]
  },
  {
   "cell_type": "code",
   "execution_count": 23,
   "metadata": {},
   "outputs": [
    {
     "data": {
      "text/plain": [
       "{'a', 'b', 'c', 'd', 'l', 'm', 'r', 'z'}"
      ]
     },
     "execution_count": 23,
     "metadata": {},
     "output_type": "execute_result"
    }
   ],
   "source": [
    " a | b # 集合a或b中包含的所有元素 "
   ]
  },
  {
   "cell_type": "code",
   "execution_count": 24,
   "metadata": {},
   "outputs": [
    {
     "data": {
      "text/plain": [
       "{'a', 'c'}"
      ]
     },
     "execution_count": 24,
     "metadata": {},
     "output_type": "execute_result"
    }
   ],
   "source": [
    "a & b # 集合a和b中都包含了的元素 "
   ]
  },
  {
   "cell_type": "code",
   "execution_count": 25,
   "metadata": {},
   "outputs": [
    {
     "data": {
      "text/plain": [
       "{'b', 'd', 'l', 'm', 'r', 'z'}"
      ]
     },
     "execution_count": 25,
     "metadata": {},
     "output_type": "execute_result"
    }
   ],
   "source": [
    "a ^ b # 不同时包含于a和b的元素 "
   ]
  },
  {
   "cell_type": "code",
   "execution_count": 26,
   "metadata": {},
   "outputs": [
    {
     "name": "stdout",
     "output_type": "stream",
     "text": [
      "{1, 'Google', 'Taobao', 3, 'Runoob'}\n"
     ]
    }
   ],
   "source": [
    "thisset = set((\"Google\", \"Runoob\", \"Taobao\")) \n",
    "thisset.update({1,3}) \n",
    "print(thisset) "
   ]
  },
  {
   "cell_type": "code",
   "execution_count": 27,
   "metadata": {},
   "outputs": [
    {
     "name": "stdout",
     "output_type": "stream",
     "text": [
      "{1, 'Google', 'Taobao', 3, 4, 5, 6, 'Runoob'}\n"
     ]
    }
   ],
   "source": [
    "thisset.update([1,4],[5,6]) \n",
    "print(thisset) "
   ]
  },
  {
   "cell_type": "markdown",
   "metadata": {},
   "source": [
    "# 1.4.4 举例"
   ]
  },
  {
   "cell_type": "code",
   "execution_count": 34,
   "metadata": {},
   "outputs": [
    {
     "data": {
      "text/plain": [
       "<generator object Tokenizer.cut at 0x0000023E66398448>"
      ]
     },
     "execution_count": 34,
     "metadata": {},
     "output_type": "execute_result"
    }
   ],
   "source": [
    "import jieba\n",
    "s  = '疫情防控工作既面临医务治疗的问题，又面临后勤保障、社会秩序维护、宣传舆论引导等问题，这些问题相互联系、共同演化，任何一方面处理不好都会对打赢疫情防控的阻击战产生系统性的影响。而凭借党的全面领导制度体系，我们党实现了对各部门、各领域、各战线的积极动员，形成了广大党员、干部、医务工作者、人民解放军、人民群众、公安民警、疾控工作人员、社区工作人员、新闻工作者、志愿者，以及卫生健康、发展改革、外交外联、交通运输、农业农村、应急管理、科技教育、市场监管、社保医保等部门和纪检监察、组织、宣传、统战、政法等战线，还有人大、政协以及各人民团体等同舟共济，协同抗“疫”的生动局面。'\n",
    "seg_list = jieba.cut(s, cut_all=False) #返回generator，python中的generator保存的是算法，真正需要计算出值的时候才会去往下计算出值，它是一种惰性计算。\n",
    "seg_list"
   ]
  },
  {
   "cell_type": "code",
   "execution_count": 35,
   "metadata": {
    "scrolled": false
   },
   "outputs": [
    {
     "name": "stdout",
     "output_type": "stream",
     "text": [
      "['疫情', '防控', '工作', '既', '面临', '医务', '治疗', '的', '问题', '，', '又', '面临', '后勤保障', '、', '社会秩序', '维护', '、', '宣传', '舆论', '引导', '等', '问题', '，', '这些', '问题', '相互', '联系', '、', '共同', '演化', '，', '任何', '一方面', '处理', '不好', '都', '会', '对', '打赢', '疫情', '防控', '的', '阻击战', '产生', '系统性', '的', '影响', '。', '而', '凭借', '党', '的', '全面', '领导', '制度', '体系', '，', '我们', '党', '实现', '了', '对', '各', '部门', '、', '各', '领域', '、', '各', '战线', '的', '积极', '动员', '，', '形成', '了', '广大党员', '、', '干部', '、', '医务', '工作者', '、', '人民解放军', '、', '人民', '群众', '、', '公安民警', '、', '疾控', '工作人员', '、', '社区', '工作人员', '、', '新闻', '工作者', '、', '志愿者', '，', '以及', '卫生', '健康', '、', '发展', '改革', '、', '外交', '外联', '、', '交通运输', '、', '农业', '农村', '、', '应急', '管理', '、', '科技', '教育', '、', '市场监管', '、', '社保', '医保', '等', '部门', '和', '纪检监察', '、', '组织', '、', '宣传', '、', '统战', '、', '政法', '等', '战线', '，', '还有', '人大', '、', '政协', '以及', '各', '人民团体', '等', '同舟共济', '，', '协同', '抗', '“', '疫', '”', '的', '生动', '局面', '。']\n"
     ]
    }
   ],
   "source": [
    "lst = list(seg_list)\n",
    "print(lst)"
   ]
  },
  {
   "cell_type": "code",
   "execution_count": 36,
   "metadata": {},
   "outputs": [
    {
     "name": "stdout",
     "output_type": "stream",
     "text": [
      "出现的单词： {'农村', '教育', '一方面', '社会秩序', '纪检监察', '而', '”', '人大', '广大党员', '阻击战', '联系', '卫生', '社保', '群众', '抗', '疾控', '相互', '领导', '改革', '演化', '社区', '不好', '都', '我们', '会', '打赢', '舆论', '宣传', '交通运输', '政法', '产生', '干部', '科技', '战线', '以及', '党', '还有', '各', '后勤保障', '的', '统战', '防控', '部门', '疫情', '和', '制度', '管理', '既', '政协', '公安民警', '等', '发展', '志愿者', '凭借', '领域', '生动', '这些', '疫', '人民解放军', '形成', '、', '应急', '体系', '新闻', '影响', '局面', '实现', '治疗', '系统性', '，', '对', '共同', '农业', '。', '组织', '“', '市场监管', '全面', '任何', '处理', '问题', '维护', '面临', '积极', '动员', '医保', '工作', '外交', '工作人员', '医务', '了', '外联', '协同', '健康', '同舟共济', '人民团体', '又', '人民', '引导', '工作者'}\n"
     ]
    }
   ],
   "source": [
    "word_set = set(lst)\n",
    "print(\"出现的单词：\",word_set)  #运用集合，得出唯一关键词"
   ]
  },
  {
   "cell_type": "code",
   "execution_count": 37,
   "metadata": {},
   "outputs": [],
   "source": [
    "word_dict = {}\n",
    "for i in lst:\n",
    "   if i not in word_dict:\n",
    "     word_dict[i] = 1   #新建“键-值”   {'疫情',1}\n",
    "   else:\n",
    "     word_dict[i] += 1  #增加 键的值    {'疫情',2}"
   ]
  },
  {
   "cell_type": "code",
   "execution_count": 39,
   "metadata": {},
   "outputs": [
    {
     "name": "stdout",
     "output_type": "stream",
     "text": [
      "{'疫情': 2, '防控': 2, '工作': 1, '既': 1, '面临': 2, '医务': 2, '治疗': 1, '的': 6, '问题': 3, '，': 8, '又': 1, '后勤保障': 1, '、': 27, '社会秩序': 1, '维护': 1, '宣传': 2, '舆论': 1, '引导': 1, '等': 4, '这些': 1, '相互': 1, '联系': 1, '共同': 1, '演化': 1, '任何': 1, '一方面': 1, '处理': 1, '不好': 1, '都': 1, '会': 1, '对': 2, '打赢': 1, '阻击战': 1, '产生': 1, '系统性': 1, '影响': 1, '。': 2, '而': 1, '凭借': 1, '党': 2, '全面': 1, '领导': 1, '制度': 1, '体系': 1, '我们': 1, '实现': 1, '了': 2, '各': 4, '部门': 2, '领域': 1, '战线': 2, '积极': 1, '动员': 1, '形成': 1, '广大党员': 1, '干部': 1, '工作者': 2, '人民解放军': 1, '人民': 1, '群众': 1, '公安民警': 1, '疾控': 1, '工作人员': 2, '社区': 1, '新闻': 1, '志愿者': 1, '以及': 2, '卫生': 1, '健康': 1, '发展': 1, '改革': 1, '外交': 1, '外联': 1, '交通运输': 1, '农业': 1, '农村': 1, '应急': 1, '管理': 1, '科技': 1, '教育': 1, '市场监管': 1, '社保': 1, '医保': 1, '和': 1, '纪检监察': 1, '组织': 1, '统战': 1, '政法': 1, '还有': 1, '人大': 1, '政协': 1, '人民团体': 1, '同舟共济': 1, '协同': 1, '抗': 1, '“': 1, '疫': 1, '”': 1, '生动': 1, '局面': 1}\n"
     ]
    }
   ],
   "source": [
    "print(word_dict)"
   ]
  },
  {
   "cell_type": "code",
   "execution_count": 40,
   "metadata": {},
   "outputs": [
    {
     "data": {
      "text/plain": [
       "[('、', 27),\n",
       " ('，', 8),\n",
       " ('的', 6),\n",
       " ('等', 4),\n",
       " ('各', 4),\n",
       " ('问题', 3),\n",
       " ('疫情', 2),\n",
       " ('防控', 2),\n",
       " ('面临', 2),\n",
       " ('医务', 2),\n",
       " ('宣传', 2),\n",
       " ('对', 2),\n",
       " ('。', 2),\n",
       " ('党', 2),\n",
       " ('了', 2),\n",
       " ('部门', 2),\n",
       " ('战线', 2),\n",
       " ('工作者', 2),\n",
       " ('工作人员', 2),\n",
       " ('以及', 2),\n",
       " ('工作', 1),\n",
       " ('既', 1),\n",
       " ('治疗', 1),\n",
       " ('又', 1),\n",
       " ('后勤保障', 1),\n",
       " ('社会秩序', 1),\n",
       " ('维护', 1),\n",
       " ('舆论', 1),\n",
       " ('引导', 1),\n",
       " ('这些', 1),\n",
       " ('相互', 1),\n",
       " ('联系', 1),\n",
       " ('共同', 1),\n",
       " ('演化', 1),\n",
       " ('任何', 1),\n",
       " ('一方面', 1),\n",
       " ('处理', 1),\n",
       " ('不好', 1),\n",
       " ('都', 1),\n",
       " ('会', 1),\n",
       " ('打赢', 1),\n",
       " ('阻击战', 1),\n",
       " ('产生', 1),\n",
       " ('系统性', 1),\n",
       " ('影响', 1),\n",
       " ('而', 1),\n",
       " ('凭借', 1),\n",
       " ('全面', 1),\n",
       " ('领导', 1),\n",
       " ('制度', 1),\n",
       " ('体系', 1),\n",
       " ('我们', 1),\n",
       " ('实现', 1),\n",
       " ('领域', 1),\n",
       " ('积极', 1),\n",
       " ('动员', 1),\n",
       " ('形成', 1),\n",
       " ('广大党员', 1),\n",
       " ('干部', 1),\n",
       " ('人民解放军', 1),\n",
       " ('人民', 1),\n",
       " ('群众', 1),\n",
       " ('公安民警', 1),\n",
       " ('疾控', 1),\n",
       " ('社区', 1),\n",
       " ('新闻', 1),\n",
       " ('志愿者', 1),\n",
       " ('卫生', 1),\n",
       " ('健康', 1),\n",
       " ('发展', 1),\n",
       " ('改革', 1),\n",
       " ('外交', 1),\n",
       " ('外联', 1),\n",
       " ('交通运输', 1),\n",
       " ('农业', 1),\n",
       " ('农村', 1),\n",
       " ('应急', 1),\n",
       " ('管理', 1),\n",
       " ('科技', 1),\n",
       " ('教育', 1),\n",
       " ('市场监管', 1),\n",
       " ('社保', 1),\n",
       " ('医保', 1),\n",
       " ('和', 1),\n",
       " ('纪检监察', 1),\n",
       " ('组织', 1),\n",
       " ('统战', 1),\n",
       " ('政法', 1),\n",
       " ('还有', 1),\n",
       " ('人大', 1),\n",
       " ('政协', 1),\n",
       " ('人民团体', 1),\n",
       " ('同舟共济', 1),\n",
       " ('协同', 1),\n",
       " ('抗', 1),\n",
       " ('“', 1),\n",
       " ('疫', 1),\n",
       " ('”', 1),\n",
       " ('生动', 1),\n",
       " ('局面', 1)]"
      ]
     },
     "execution_count": 40,
     "metadata": {},
     "output_type": "execute_result"
    }
   ],
   "source": [
    "sorted(word_dict.items(), key=lambda e:e[1], reverse=True)  #对字典的键“值”排序"
   ]
  },
  {
   "cell_type": "code",
   "execution_count": null,
   "metadata": {},
   "outputs": [],
   "source": []
  }
 ],
 "metadata": {
  "kernelspec": {
   "display_name": "Python 3",
   "language": "python",
   "name": "python3"
  },
  "language_info": {
   "codemirror_mode": {
    "name": "ipython",
    "version": 3
   },
   "file_extension": ".py",
   "mimetype": "text/x-python",
   "name": "python",
   "nbconvert_exporter": "python",
   "pygments_lexer": "ipython3",
   "version": "3.7.9"
  }
 },
 "nbformat": 4,
 "nbformat_minor": 2
}
