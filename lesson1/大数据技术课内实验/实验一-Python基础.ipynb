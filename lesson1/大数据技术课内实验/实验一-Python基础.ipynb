{
 "cells": [
  {
   "cell_type": "markdown",
   "id": "779a126f-0f4f-4f9e-aecb-47b734a0c726",
   "metadata": {},
   "source": [
    "<!--\n",
    "模板使用方法：将此代码块转为Markdown块然后点击左侧三角渲染（依赖 jupyter-wysiwyg ）\n",
    "模板参数说明：将超链接的路径替换即可\n",
    "@hyperlink_1: href=\"https://github.com/{组织或用户}/{仓库}/blob/{分支}/{目录和文件名组成的路径}\"\n",
    "@hyperlink_2: href=\"https://nbviewer.org/github/{组织或用户}/{仓库}/blob/{分支}/{目录和文件名组成的路径}\"\n",
    "注意事项：在 <p>...</p> 中添加注释或者空行等行为会破坏渲染效果\n",
    "-->\n",
    "\n",
    "<!-- start of template header -->\n",
    "<p>\n",
    "<div style=\"display:flex\">\n",
    "<a alt=\"hyperlink_1\" title=\"在Github查看当前文件\" href=\"https://github.com/Soltus/learn-python-BI/blob/main/lesson1/%E5%A4%A7%E6%95%B0%E6%8D%AE%E6%8A%80%E6%9C%AF%E8%AF%BE%E5%86%85%E5%AE%9E%E9%AA%8C/%E5%AE%9E%E9%AA%8C%E4%B8%80-Python%E5%9F%BA%E7%A1%80.ipynb\" target=\"_blank\"><img src=\"https://img.shields.io/badge/File-black?logo=github\" style=\"height: 38px\"/></a>\n",
    "<span style=\"width:5.8px\"></span>\n",
    "<a alt=\"hyperlink_2\" title=\"在nbviewer查看当前文件\" href=\"https://nbviewer.org/github/Soltus/learn-python-BI/blob/main/lesson1/%E5%A4%A7%E6%95%B0%E6%8D%AE%E6%8A%80%E6%9C%AF%E8%AF%BE%E5%86%85%E5%AE%9E%E9%AA%8C/%E5%AE%9E%E9%AA%8C%E4%B8%80-Python%E5%9F%BA%E7%A1%80.ipynb\" target=\"_blank\"><img src=\"https://img.shields.io/badge/nbviewer-white?logo=jupyter\" style=\"height: 38px\"/></a>\n",
    "</div>\n",
    "</p>\n",
    "\n",
    "<!-- 避免二次渲染当前块 -->\n",
    "<!-- 请勿在此处添加内容 -->\n",
    "<!-- end of template header -->"
   ]
  },
  {
   "cell_type": "markdown",
   "id": "002c3550-f9c4-4918-8ef6-3c83474ecbbd",
   "metadata": {
    "tags": []
   },
   "source": [
    "<h1 id=\"求1～100间所有偶数的和。\"><span style=\"color: #b96ad9;\">题一</span></h1>\n",
    "<blockquote>\n",
    "<p>求1～100间所有偶数的和。</p>\n",
    "</blockquote>"
   ]
  },
  {
   "cell_type": "code",
   "execution_count": 4,
   "id": "8eff0b43-336e-4770-9dc9-3dd423df4753",
   "metadata": {
    "execution": {
     "iopub.execute_input": "2023-03-02T08:01:51.478810Z",
     "iopub.status.busy": "2023-03-02T08:01:51.478810Z",
     "iopub.status.idle": "2023-03-02T08:01:51.483813Z",
     "shell.execute_reply": "2023-03-02T08:01:51.483813Z",
     "shell.execute_reply.started": "2023-03-02T08:01:51.478810Z"
    },
    "slideshow": {
     "slide_type": "slide"
    },
    "tags": [
     "简单"
    ]
   },
   "outputs": [
    {
     "name": "stdout",
     "output_type": "stream",
     "text": [
      "100内所有偶数的和为： 2550\n"
     ]
    }
   ],
   "source": [
    "# 初始化变量\n",
    "nsum = 0\n",
    "\n",
    "# 使用for循环遍历100内的所有数字\n",
    "for num in range(1, 101):\n",
    "    # 判断数字是否为偶数\n",
    "    if num % 2 == 0:\n",
    "        # 如果是偶数，则将其加入和中\n",
    "        nsum += num\n",
    "\n",
    "# 输出结果\n",
    "print(\"100内所有偶数的和为：\", nsum)"
   ]
  },
  {
   "cell_type": "markdown",
   "id": "b06db172-0111-41c9-95a1-fa2ab1af0651",
   "metadata": {},
   "source": [
    "<h1 id=\"假设一年期定期利率为3.25%，计算一下需要过多少年，一万元的一年定期存款连本带息能翻番？\"><span style=\"color: #b96ad9;\">题二</span></h1>\n",
    "<blockquote>\n",
    "<p>假设一年期定期利率为3.25%，计算一下需要过多少年，一万元的一年定期存款连本带息能翻番？</p>\n",
    "</blockquote>"
   ]
  },
  {
   "cell_type": "code",
   "execution_count": 5,
   "id": "bbca852b-e2c4-40ac-982f-092029324a64",
   "metadata": {
    "execution": {
     "iopub.execute_input": "2023-03-02T08:02:00.246330Z",
     "iopub.status.busy": "2023-03-02T08:02:00.246330Z",
     "iopub.status.idle": "2023-03-02T08:02:00.250861Z",
     "shell.execute_reply": "2023-03-02T08:02:00.250861Z",
     "shell.execute_reply.started": "2023-03-02T08:02:00.246330Z"
    },
    "tags": []
   },
   "outputs": [
    {
     "name": "stdout",
     "output_type": "stream",
     "text": [
      "需要过 22 年，一万元的一年定期存款才能翻一倍\n"
     ]
    }
   ],
   "source": [
    "principal = 10000  # 存款本金\n",
    "interest_rate = 0.0325  # 年利率\n",
    "target_amount = principal * 2  # 翻倍后的目标金额\n",
    "\n",
    "years = 0\n",
    "while principal < target_amount:\n",
    "    principal *= (1 + interest_rate)\n",
    "    years += 1\n",
    "\n",
    "print(\"需要过\", years, \"年，一万元的一年定期存款才能翻一倍\")"
   ]
  },
  {
   "cell_type": "markdown",
   "id": "7edabcd6-9662-42f1-b83c-db8e479e45c1",
   "metadata": {},
   "source": [
    "<h1 id=\"一个数如果恰好等于它的因子之和，这个数就称为&ldquo;完数&rdquo;。例如，6的因子为1、2、3，而6=1+2+3，因此6是完数。编程，找出1000之内的所有完数，并输出该完数及对应的因子。\"><span style=\"color: #b96ad9;\">题三</span></h1>\n",
    "<blockquote>\n",
    "<p>一个数如果恰好等于它的因子之和，这个数就称为&ldquo;完数&rdquo;。例如，6的因子为1、2、3，而6=1+2+3，因此6是完数。编程，找出1000之内的所有完数，并输出该完数及对应的因子。</p>\n",
    "</blockquote>"
   ]
  },
  {
   "cell_type": "code",
   "execution_count": 6,
   "id": "e8bfec76-15cb-4556-8371-05bcd080c710",
   "metadata": {
    "execution": {
     "iopub.execute_input": "2023-03-02T08:02:02.745905Z",
     "iopub.status.busy": "2023-03-02T08:02:02.745905Z",
     "iopub.status.idle": "2023-03-02T08:02:02.791981Z",
     "shell.execute_reply": "2023-03-02T08:02:02.791466Z",
     "shell.execute_reply.started": "2023-03-02T08:02:02.745905Z"
    },
    "tags": []
   },
   "outputs": [
    {
     "name": "stdout",
     "output_type": "stream",
     "text": [
      "6 is a perfect number and its factors are [0, 1, 2, 3]\n",
      "28 is a perfect number and its factors are [0, 1, 2, 4, 7, 14]\n",
      "496 is a perfect number and its factors are [0, 1, 2, 4, 8, 16, 31, 62, 124, 248]\n"
     ]
    }
   ],
   "source": [
    "# 如果存在同名变量，需要先前置执行 del sum （不能一起执行）\n",
    "for num in range(2, 1001):\n",
    "    factors = [0]\n",
    "    for i in range(1, num):\n",
    "        if num % i == 0:\n",
    "            factors.append(i)\n",
    "    if sum(factors) == num:\n",
    "        print(f\"{num} is a perfect number and its factors are {factors}\")"
   ]
  },
  {
   "cell_type": "markdown",
   "id": "82a2f35f-21da-4ccc-9bf1-53d14b4e6c4c",
   "metadata": {},
   "source": [
    "<h1 id=\"写一判素数的函数，在主函数中输入一个整数，调用该函数进行判断并输出结果。\"><span style=\"color: #b96ad9;\">题四</span></h1>\n",
    "<blockquote>写一判素数的函数，在主函数中输入一个整数，调用该函数进行判断并输出结果。</blockquote>"
   ]
  },
  {
   "cell_type": "code",
   "execution_count": 5,
   "id": "11f86948-0468-47c5-844e-be35e336d769",
   "metadata": {
    "execution": {
     "iopub.execute_input": "2023-03-13T06:47:16.947087Z",
     "iopub.status.busy": "2023-03-13T06:47:16.947087Z",
     "iopub.status.idle": "2023-03-13T06:47:22.086281Z",
     "shell.execute_reply": "2023-03-13T06:47:22.086281Z",
     "shell.execute_reply.started": "2023-03-13T06:47:16.947087Z"
    },
    "tags": []
   },
   "outputs": [
    {
     "name": "stdin",
     "output_type": "stream",
     "text": [
      "请输入一个整数： 33\n"
     ]
    },
    {
     "name": "stdout",
     "output_type": "stream",
     "text": [
      "33不是素数\n"
     ]
    }
   ],
   "source": [
    "def is_prime(n):\n",
    "    \"\"\"\n",
    "    判断一个数是否为素数\n",
    "    \"\"\"\n",
    "    if n < 2:\n",
    "        return False\n",
    "    for i in range(2, int(n ** 0.5) + 1):\n",
    "        # 开根号的目的是减少计算量\n",
    "        if n % i == 0:\n",
    "            return False\n",
    "    return True\n",
    "\n",
    "# 主函数\n",
    "if __name__ == \"__main__\":\n",
    "    num = int(input('请输入一个整数：'))\n",
    "    if is_prime(num):\n",
    "      print(f'{num}是素数')\n",
    "    else:\n",
    "      print(f'{num}不是素数')"
   ]
  },
  {
   "cell_type": "markdown",
   "id": "4d1c9be1-40be-4630-8756-113e175bd731",
   "metadata": {},
   "source": [
    "<h1 id=\"有列表li＝['alex',-'eric',-'rain']，按照要求实现每一个功能：\"><span style=\"color: #b96ad9;\">题五</span></h1>\n",
    "<blockquote>\n",
    "<p>有列表<code>li＝['alex', 'eric', 'rain']</code>，按照要求实现每一个功能：</p>\n",
    "<p>a.计算列表长度并输出；</p>\n",
    "<p>b.列表中追加元素&ldquo;seven&rdquo;，并输出添加后的列表；</p>\n",
    "<p>c.请在列表的第1个位置插入元素&ldquo;Tony&rdquo;，并输出添加后的列表；</p>\n",
    "<p>d.请修改列表第2个位置的元素为&ldquo;Kelly&rdquo;，并输出修改后的列表；</p>\n",
    "<p>e.请删除列表中的元素&ldquo;eric&rdquo; ，并输出修改后的列表。</p>\n",
    "</blockquote>"
   ]
  },
  {
   "cell_type": "code",
   "execution_count": 8,
   "id": "7da79b1f-ebe3-4ab3-87d8-bece3723da4c",
   "metadata": {
    "execution": {
     "iopub.execute_input": "2023-03-02T08:02:16.512128Z",
     "iopub.status.busy": "2023-03-02T08:02:16.512128Z",
     "iopub.status.idle": "2023-03-02T08:02:16.517133Z",
     "shell.execute_reply": "2023-03-02T08:02:16.517133Z",
     "shell.execute_reply.started": "2023-03-02T08:02:16.512128Z"
    },
    "tags": []
   },
   "outputs": [
    {
     "name": "stdout",
     "output_type": "stream",
     "text": [
      "3\n",
      "['alex', 'eric', 'rain', 'seven']\n",
      "['Tony', 'alex', 'eric', 'rain', 'seven']\n",
      "['Tony', 'Kelly', 'eric', 'rain', 'seven']\n",
      "['Tony', 'Kelly', 'rain', 'seven']\n"
     ]
    }
   ],
   "source": [
    "li = ['alex', 'eric', 'rain']\n",
    "\n",
    "# a.计算列表长度并输出\n",
    "print(len(li))\n",
    "\n",
    "# b.列表中追加元素“seven”，并输出添加后的列表\n",
    "li.append('seven')\n",
    "print(li)\n",
    "\n",
    "# c.请在列表的第1个位置插入元素“Tony”，并输出添加后的列表\n",
    "li.insert(0, 'Tony')\n",
    "print(li)\n",
    "\n",
    "# d.请修改列表第2个位置的元素为“Kelly”，并输出修改后的列表\n",
    "li[1] = 'Kelly'\n",
    "print(li)\n",
    "\n",
    "# e.请删除列表中的元素“eric” ，并输出修改后的列表\n",
    "li.remove('eric')\n",
    "print(li)"
   ]
  },
  {
   "cell_type": "markdown",
   "id": "100fc85e-5af8-4666-a9b4-decc02866f72",
   "metadata": {},
   "source": [
    "<h1 id=\"有元组tu-＝-('alex',-'eric',-'rain')，按照要求实现每一个功能：\"><span style=\"color: #b96ad9;\">题六</span></h1>\n",
    "<blockquote>\n",
    "<p>有元组<code>tu ＝ ('alex', 'eric', 'rain')</code>，按照要求实现每一个功能：</p>\n",
    "<p>a. 计算元组长度并输出；</p>\n",
    "<p>b. 获取元组的第2个元素，并输出；</p>\n",
    "<p>c. 获取元组的第1-2个元素，并输出；</p>\n",
    "<p>d. 请使用for输出元组的元素；</p>\n",
    "<p>e. 请使用for、len、range输出元组的索引；</p>\n",
    "<p>f. 请使用 enumrate 输出元祖元素和序号（序号从 10 开始）。</p>\n",
    "</blockquote>"
   ]
  },
  {
   "cell_type": "code",
   "execution_count": 9,
   "id": "d40beac9-5dcc-4836-bde2-1b49432e1027",
   "metadata": {
    "execution": {
     "iopub.execute_input": "2023-03-02T08:02:21.471004Z",
     "iopub.status.busy": "2023-03-02T08:02:21.470004Z",
     "iopub.status.idle": "2023-03-02T08:02:21.475008Z",
     "shell.execute_reply": "2023-03-02T08:02:21.475008Z",
     "shell.execute_reply.started": "2023-03-02T08:02:21.471004Z"
    },
    "tags": []
   },
   "outputs": [
    {
     "name": "stdout",
     "output_type": "stream",
     "text": [
      "3\n"
     ]
    }
   ],
   "source": [
    "tu = ('alex', 'eric', 'rain')\n",
    "print(len(tu))"
   ]
  },
  {
   "cell_type": "code",
   "execution_count": 10,
   "id": "083798e4-38ab-41ec-b403-776b4bc6abe3",
   "metadata": {
    "execution": {
     "iopub.execute_input": "2023-03-02T08:02:24.381549Z",
     "iopub.status.busy": "2023-03-02T08:02:24.380548Z",
     "iopub.status.idle": "2023-03-02T08:02:24.385552Z",
     "shell.execute_reply": "2023-03-02T08:02:24.385552Z",
     "shell.execute_reply.started": "2023-03-02T08:02:24.381549Z"
    },
    "tags": []
   },
   "outputs": [
    {
     "name": "stdout",
     "output_type": "stream",
     "text": [
      "eric\n"
     ]
    }
   ],
   "source": [
    "tu = ('alex', 'eric', 'rain')\n",
    "print(tu[1])"
   ]
  },
  {
   "cell_type": "code",
   "execution_count": 11,
   "id": "4c2a7ce6-291a-4551-9688-a36bf6fb26a5",
   "metadata": {
    "execution": {
     "iopub.execute_input": "2023-03-02T08:02:26.729936Z",
     "iopub.status.busy": "2023-03-02T08:02:26.728936Z",
     "iopub.status.idle": "2023-03-02T08:02:26.732939Z",
     "shell.execute_reply": "2023-03-02T08:02:26.732939Z",
     "shell.execute_reply.started": "2023-03-02T08:02:26.729936Z"
    },
    "tags": []
   },
   "outputs": [
    {
     "name": "stdout",
     "output_type": "stream",
     "text": [
      "('alex', 'eric')\n"
     ]
    }
   ],
   "source": [
    "tu = ('alex', 'eric', 'rain')\n",
    "print(tu[0:2])"
   ]
  },
  {
   "cell_type": "code",
   "execution_count": 12,
   "id": "a6d1449e-980a-436b-8512-bfe68d810c2b",
   "metadata": {
    "execution": {
     "iopub.execute_input": "2023-03-02T08:02:29.702271Z",
     "iopub.status.busy": "2023-03-02T08:02:29.702271Z",
     "iopub.status.idle": "2023-03-02T08:02:29.705273Z",
     "shell.execute_reply": "2023-03-02T08:02:29.705273Z",
     "shell.execute_reply.started": "2023-03-02T08:02:29.702271Z"
    },
    "tags": []
   },
   "outputs": [
    {
     "name": "stdout",
     "output_type": "stream",
     "text": [
      "alex\n",
      "eric\n",
      "rain\n"
     ]
    }
   ],
   "source": [
    "tu = ('alex', 'eric', 'rain')\n",
    "for i in tu:\n",
    "    print(i)"
   ]
  },
  {
   "cell_type": "code",
   "execution_count": 13,
   "id": "774d6329-10b4-4804-8eb4-1b479ddc4bcc",
   "metadata": {
    "execution": {
     "iopub.execute_input": "2023-03-02T08:02:32.565346Z",
     "iopub.status.busy": "2023-03-02T08:02:32.564345Z",
     "iopub.status.idle": "2023-03-02T08:02:32.568883Z",
     "shell.execute_reply": "2023-03-02T08:02:32.568349Z",
     "shell.execute_reply.started": "2023-03-02T08:02:32.565346Z"
    },
    "tags": []
   },
   "outputs": [
    {
     "name": "stdout",
     "output_type": "stream",
     "text": [
      "0\n",
      "1\n",
      "2\n"
     ]
    }
   ],
   "source": [
    "tu = ('alex', 'eric', 'rain')\n",
    "for i in range(len(tu)):\n",
    "    print(i)"
   ]
  },
  {
   "cell_type": "code",
   "execution_count": 14,
   "id": "4f4ed60f-1546-4387-b7d7-d0f6e2e85efe",
   "metadata": {
    "execution": {
     "iopub.execute_input": "2023-03-02T08:02:35.536294Z",
     "iopub.status.busy": "2023-03-02T08:02:35.535294Z",
     "iopub.status.idle": "2023-03-02T08:02:35.539297Z",
     "shell.execute_reply": "2023-03-02T08:02:35.539297Z",
     "shell.execute_reply.started": "2023-03-02T08:02:35.536294Z"
    },
    "tags": []
   },
   "outputs": [
    {
     "name": "stdout",
     "output_type": "stream",
     "text": [
      "10 alex\n",
      "11 eric\n",
      "12 rain\n"
     ]
    }
   ],
   "source": [
    "tu = ('alex', 'eric', 'rain')\n",
    "for i, value in enumerate(tu, 10):\n",
    "    print(i, value)"
   ]
  },
  {
   "cell_type": "markdown",
   "id": "64509fdc-084d-464c-83cf-200a193c5b36",
   "metadata": {},
   "source": [
    "<h1 id=\"字典dic-=-{'k1':-&quot;v1&quot;,-&quot;k2&quot;:-&quot;v2&quot;,-&quot;k3&quot;:-[11,22,33]}：\"><span style=\"color: #b96ad9;\">题七</span></h1>\n",
    "<blockquote>\n",
    "<p>字典<code>dic = {'k1': \"v1\", \"k2\": \"v2\", \"k3\": [11,22,33]}</code>：</p>\n",
    "<p>a. 请循环输出所有的 key；</p>\n",
    "<p>b. 请循环输出所有的 value；</p>\n",
    "<p>c. 请循环输出所有的 key 和 value；</p>\n",
    "<p>d. 请在字典中添加一个键值对，\"k4\": \"v4\"，输出添加后的字典；</p>\n",
    "<p>e. 请在修改字典中&ldquo;k1&rdquo;对应的值为&ldquo;alex&rdquo;，输出修改后的字典；</p>\n",
    "<p>f. 请在 k3 对应的值中追加一个元素 44，输出修改后的字典；</p>\n",
    "<p>g. 请在 k3 对应的值的第 1 个位置插入个元素 18，输出修改后的字典。</p>\n",
    "</blockquote>"
   ]
  },
  {
   "cell_type": "code",
   "execution_count": 15,
   "id": "b2018749-3089-4f1d-af83-d2fdf3a98c26",
   "metadata": {
    "execution": {
     "iopub.execute_input": "2023-03-02T08:02:39.420458Z",
     "iopub.status.busy": "2023-03-02T08:02:39.419457Z",
     "iopub.status.idle": "2023-03-02T08:02:39.424462Z",
     "shell.execute_reply": "2023-03-02T08:02:39.424462Z",
     "shell.execute_reply.started": "2023-03-02T08:02:39.420458Z"
    },
    "tags": []
   },
   "outputs": [
    {
     "name": "stdout",
     "output_type": "stream",
     "text": [
      "{'k1': 'v1', 'k2': 'v2', 'k3': [11, 22, 33]}\n"
     ]
    }
   ],
   "source": [
    "dic = {'k1': \"v1\", \"k2\": \"v2\", \"k3\": [11,22,33]}\n",
    "print(dic)"
   ]
  },
  {
   "cell_type": "code",
   "execution_count": 39,
   "id": "fecdf2e1-a1ae-4812-8614-496a9a6e561e",
   "metadata": {},
   "outputs": [
    {
     "name": "stdout",
     "output_type": "stream",
     "text": [
      "k1\n",
      "k2\n",
      "k3\n"
     ]
    }
   ],
   "source": [
    "#dic = {'k1': \"v1\", \"k2\": \"v2\", \"k3\": [11,22,33]}\n",
    "\n",
    "for key in dic:\n",
    "    print(key)\n"
   ]
  },
  {
   "cell_type": "code",
   "execution_count": 40,
   "id": "17ca4df9-8e28-46a8-a822-576ab035175d",
   "metadata": {
    "tags": []
   },
   "outputs": [
    {
     "name": "stdout",
     "output_type": "stream",
     "text": [
      "v1\n",
      "v2\n",
      "[11, 22, 33]\n"
     ]
    }
   ],
   "source": [
    "#dic = {'k1': \"v1\", \"k2\": \"v2\", \"k3\": [11,22,33]}\n",
    "\n",
    "for value in dic.values():\n",
    "    print(value)"
   ]
  },
  {
   "cell_type": "code",
   "execution_count": 16,
   "id": "a49df06a-bf30-4990-8828-ddde096e27b0",
   "metadata": {
    "execution": {
     "iopub.execute_input": "2023-03-02T08:06:14.850028Z",
     "iopub.status.busy": "2023-03-02T08:06:14.849027Z",
     "iopub.status.idle": "2023-03-02T08:06:14.853031Z",
     "shell.execute_reply": "2023-03-02T08:06:14.853031Z",
     "shell.execute_reply.started": "2023-03-02T08:06:14.849027Z"
    },
    "tags": []
   },
   "outputs": [
    {
     "name": "stdout",
     "output_type": "stream",
     "text": [
      "k1 v1\n",
      "k2 v2\n",
      "k3 [11, 22, 33]\n"
     ]
    }
   ],
   "source": [
    "#dic = {'k1': \"v1\", \"k2\": \"v2\", \"k3\": [11,22,33]}\n",
    "\n",
    "for key, value in dic.items():\n",
    "    print(key, value)"
   ]
  },
  {
   "cell_type": "code",
   "execution_count": 42,
   "id": "3474d703-f9a0-4133-9a7e-deaf10a31316",
   "metadata": {
    "tags": []
   },
   "outputs": [
    {
     "name": "stdout",
     "output_type": "stream",
     "text": [
      "{'k1': 'v1', 'k2': 'v2', 'k3': [11, 22, 33], 'k4': 'v4'}\n"
     ]
    }
   ],
   "source": [
    "#dic = {'k1': \"v1\", \"k2\": \"v2\", \"k3\": [11,22,33]}\n",
    "dic[\"k4\"] = \"v4\"\n",
    "print(dic)"
   ]
  },
  {
   "cell_type": "code",
   "execution_count": 43,
   "id": "0ab3b0b6-2b07-4546-8166-28f01a5b5f7b",
   "metadata": {
    "tags": []
   },
   "outputs": [
    {
     "name": "stdout",
     "output_type": "stream",
     "text": [
      "{'k1': 'alex', 'k2': 'v2', 'k3': [11, 22, 33], 'k4': 'v4'}\n"
     ]
    }
   ],
   "source": [
    "#dic = {'k1': \"v1\", \"k2\": \"v2\", \"k3\": [11,22,33]}\n",
    "dic[\"k1\"] = \"alex\"\n",
    "print(dic)"
   ]
  },
  {
   "cell_type": "code",
   "execution_count": 44,
   "id": "4aa7e6e7-7f6b-47f5-8f2d-0180c0faedea",
   "metadata": {
    "tags": []
   },
   "outputs": [
    {
     "name": "stdout",
     "output_type": "stream",
     "text": [
      "{'k1': 'alex', 'k2': 'v2', 'k3': [11, 22, 33, 44], 'k4': 'v4'}\n"
     ]
    }
   ],
   "source": [
    "#dic = {'k1': \"v1\", \"k2\": \"v2\", \"k3\": [11,22,33]}\n",
    "dic[\"k3\"].append(44)\n",
    "print(dic)"
   ]
  },
  {
   "cell_type": "code",
   "execution_count": 45,
   "id": "92408117-944f-4f92-8d9c-0395a2de14cc",
   "metadata": {
    "tags": []
   },
   "outputs": [
    {
     "name": "stdout",
     "output_type": "stream",
     "text": [
      "{'k1': 'alex', 'k2': 'v2', 'k3': [18, 11, 22, 33, 44], 'k4': 'v4'}\n"
     ]
    }
   ],
   "source": [
    "#dic = {'k1': \"v1\", \"k2\": \"v2\", \"k3\": [11,22,33]}\n",
    "dic[\"k3\"].insert(0, 18)\n",
    "print(dic)"
   ]
  },
  {
   "cell_type": "markdown",
   "id": "b2e6ce82-52e5-45d6-9b8c-9b3a4fe9cfd3",
   "metadata": {},
   "source": [
    "<h1 id=\"根据下文，使用集合生成单词表（不重复），并存为文本文件。\"><span style=\"color: #b96ad9;\">题八</span></h1>\n",
    "<blockquote>根据下文，使用集合生成单词表（不重复），并存为文本文件。</blockquote>\n",
    "<p><span style=\"color: #f1c40f;\"><em>Last week I went to the theatre, I had a very good seat. The play was very interesting. I did not enjoy it. A young man and a young woman were sitting behind me. They were talking loudly. I got very angry. I could not hear the actors. I turned round. I looked at the man and the woman angrily. They did not pay any attention. In the end, I could not bear it. I turned round again.̒ I can&rsquo;t hear a word!&rsquo; I said angrily.̒ It&rsquo;s none of your business,&rsquo; the young man said rudely.̒ This is a private conversation!&rsquo;</em></span></p>"
   ]
  },
  {
   "cell_type": "code",
   "execution_count": 115,
   "id": "2a7be7f1-d482-431d-a360-579cd3a9d932",
   "metadata": {
    "execution": {
     "iopub.execute_input": "2023-03-09T18:25:49.972252Z",
     "iopub.status.busy": "2023-03-09T18:25:49.971252Z",
     "iopub.status.idle": "2023-03-09T18:25:49.975255Z",
     "shell.execute_reply": "2023-03-09T18:25:49.975255Z",
     "shell.execute_reply.started": "2023-03-09T18:25:49.972252Z"
    },
    "tags": []
   },
   "outputs": [
    {
     "name": "stdout",
     "output_type": "stream",
     "text": [
      "510\n"
     ]
    }
   ],
   "source": [
    "rawContents = '''Last week I went to the theatre, I had a very good seat. The play was very interesting. I did not enjoy it. A young man and a young woman were sitting behind me. They were talking loudly. I got very angry. I could not hear the actors. I turned round. I looked at the man and the woman angrily. They did not pay any attention. In the end, I could not bear it. I turned round again.̒ I can’t hear a word!’ I said angrily.̒ It’s none of your business,’ the young man said rudely.̒ This is a private conversation!’'''\n",
    "print(len(rawContents))"
   ]
  },
  {
   "cell_type": "code",
   "execution_count": 108,
   "id": "930bcedb-913e-45af-a9c9-a75a9a79beb5",
   "metadata": {
    "execution": {
     "iopub.execute_input": "2023-03-09T18:22:12.019736Z",
     "iopub.status.busy": "2023-03-09T18:22:12.018735Z",
     "iopub.status.idle": "2023-03-09T18:22:12.025741Z",
     "shell.execute_reply": "2023-03-09T18:22:12.025741Z",
     "shell.execute_reply.started": "2023-03-09T18:22:12.019736Z"
    },
    "tags": []
   },
   "outputs": [
    {
     "name": "stdout",
     "output_type": "stream",
     "text": [
      "{'the', 'were', 'me', 'again̒', 'could', 'pay', 'any', 'is', 'sitting', 'angry', 'enjoy', 'rudely̒', 'behind', 'conversation’', 'actors', 'they', 'had', 'private', 'went', 'of', 'theatre', 'i', 'at', 'can’t', 'young', 'hear', 'not', 'a', 'got', 'said', 'this', 'loudly', 'attention', 'looked', 'interesting', 'and', 'last', 'was', 'angrily', 'business’', 'man', 'turned', 'week', 'in', 'round', 'very', 'end', 'bear', 'your', 'seat', 'good', 'angrily̒', 'play', 'it', 'woman', 'none', 'word’', 'did', 'talking', 'to', 'it’s'}\n"
     ]
    }
   ],
   "source": [
    "import re\n",
    "\n",
    "# 将文本转换为小写，以便在比较时忽略大小写\n",
    "text = rawContents.lower()\n",
    "\n",
    "# 去除多余字符\n",
    "text = re.sub(r\"\\?|!|\\.|,\", \"\", text)\n",
    "\n",
    "\n",
    "# 将文本拆分为单词\n",
    "words = text.split()\n",
    "\n",
    "# 创建一个不重复的集合\n",
    "unique_words = set(words)\n",
    "print(unique_words)\n",
    "\n",
    "# 将集合写入文件\n",
    "with open(\"E1T1--unique_words.txt\", \"w\", encoding=\"utf-8\") as file:\n",
    "    file.write(\"\\n\".join(unique_words))"
   ]
  },
  {
   "cell_type": "markdown",
   "id": "a94ac533-9d70-4b96-8c14-e28820836976",
   "metadata": {},
   "source": [
    "<p style=\"text-align: center;\"><span style=\"font-size: 18pt;\">上面简单的处理效果不是很好，主要是文本中包含一些难以处理的特殊字符</span></p>\n",
    "<p style=\"text-align: center;\"><span style=\"font-size: 18pt;\">下面用第三方模块重新处理</span></p>"
   ]
  },
  {
   "cell_type": "code",
   "execution_count": 25,
   "id": "2f242d9a-6b22-480d-8ca0-683b5028a1e3",
   "metadata": {
    "execution": {
     "iopub.execute_input": "2023-03-09T17:00:11.472887Z",
     "iopub.status.busy": "2023-03-09T17:00:11.472887Z",
     "iopub.status.idle": "2023-03-09T17:00:14.306380Z",
     "shell.execute_reply": "2023-03-09T17:00:14.306380Z",
     "shell.execute_reply.started": "2023-03-09T17:00:11.472887Z"
    },
    "tags": []
   },
   "outputs": [
    {
     "name": "stdout",
     "output_type": "stream",
     "text": [
      "Note: you may need to restart the kernel to use updated packages.\n"
     ]
    },
    {
     "data": {
      "text/plain": [
       "True"
      ]
     },
     "execution_count": 25,
     "metadata": {},
     "output_type": "execute_result"
    }
   ],
   "source": [
    "# 安装英文分词库 nltk\n",
    "%pip install nltk -q\n",
    "import nltk\n",
    "\n",
    "# 下载依赖资源\n",
    "nltk.download('punkt', quiet=True)\n",
    "nltk.download('stopwords', quiet=True)"
   ]
  },
  {
   "cell_type": "code",
   "execution_count": 109,
   "id": "2e75d293-7fd6-48ea-94d4-bb87239d61e5",
   "metadata": {
    "execution": {
     "iopub.execute_input": "2023-03-09T18:22:16.737432Z",
     "iopub.status.busy": "2023-03-09T18:22:16.736430Z",
     "iopub.status.idle": "2023-03-09T18:22:16.742436Z",
     "shell.execute_reply": "2023-03-09T18:22:16.742436Z",
     "shell.execute_reply.started": "2023-03-09T18:22:16.737432Z"
    },
    "tags": []
   },
   "outputs": [
    {
     "name": "stdout",
     "output_type": "stream",
     "text": [
      "{'the', 'were', 'me', 'rudely', 'word', 'could', 'business', 'pay', 'any', 'is', 'sitting', 'angry', 'enjoy', 'behind', 'actors', 'they', 'had', 'private', 'went', 'of', 'theatre', 'i', 'can', 'at', 'young', 'hear', 'not', 'a', 'got', 'said', 'this', 'loudly', 'attention', 'looked', 'interesting', 'and', 'last', 'was', 'angrily', 't', 'man', 'turned', 'week', 'in', 'round', 'very', 'end', 'bear', 'conversation', 'again', 'your', 'seat', 'good', 's', 'play', 'it', 'woman', 'none', 'did', 'talking', 'to'}\n"
     ]
    }
   ],
   "source": [
    "# 引入模块\n",
    "from nltk.tokenize import RegexpTokenizer\n",
    "\n",
    "# 正则分词器\n",
    "tokenizer2 = RegexpTokenizer(r'\\w+')\n",
    "\n",
    "# 将文本转换为小写，以便在比较时忽略大小写\n",
    "text2 = rawContents.lower()\n",
    "\n",
    "# 分词\n",
    "tokens2 = tokenizer2.tokenize(text2)\n",
    "\n",
    "# 创建一个不重复的集合\n",
    "unique_words2 = set(tokens2)\n",
    "print(unique_words2)\n",
    "\n",
    "# 将集合写入文件\n",
    "with open(\"E1T1--unique_words_useNLTK.txt\", \"w\", encoding=\"utf-8\") as file:\n",
    "    file.write(\"\\n\".join(unique_words2))"
   ]
  },
  {
   "cell_type": "code",
   "execution_count": 114,
   "id": "d71090f7-5e56-4d09-a033-2719f3b85e05",
   "metadata": {
    "execution": {
     "iopub.execute_input": "2023-03-09T18:24:45.498741Z",
     "iopub.status.busy": "2023-03-09T18:24:45.497740Z",
     "iopub.status.idle": "2023-03-09T18:24:45.504762Z",
     "shell.execute_reply": "2023-03-09T18:24:45.504762Z",
     "shell.execute_reply.started": "2023-03-09T18:24:45.498741Z"
    },
    "tags": []
   },
   "outputs": [
    {
     "name": "stdout",
     "output_type": "stream",
     "text": [
      "第一次分词独有：\n",
      "{'angrily̒': False}\n",
      "{'again̒': False}\n",
      "{'business’': False}\n",
      "{'can’t': True}\n",
      "{'word’': False}\n",
      "{'rudely̒': False}\n",
      "{'conversation’': False}\n",
      "{'it’s': True}\n",
      "第二次分词独有：\n",
      "{'again': True}\n",
      "{'rudely': True}\n",
      "{'s': True}\n",
      "{'word': True}\n",
      "{'business': True}\n",
      "{'can': True}\n",
      "{'t': True}\n",
      "{'conversation': True}\n"
     ]
    }
   ],
   "source": [
    "# 简单查看一下两次分词对比\n",
    "交集 = unique_words & unique_words2\n",
    "unique1 = unique_words - 交集\n",
    "unique2 = unique_words2 - 交集\n",
    "print('第一次分词独有：')\n",
    "for i in map(lambda u: {u : u in rawContents.lower()}, unique1):\n",
    "    print(i)\n",
    "\n",
    "print('第二次分词独有：')\n",
    "for i in map(lambda u: {u : u in rawContents.lower()}, unique2):\n",
    "    print(i)"
   ]
  },
  {
   "cell_type": "markdown",
   "id": "cd382892-b84d-40f1-ae64-fe98b0e0cb42",
   "metadata": {},
   "source": [
    "<p style=\"text-align: center;\"><span style=\"font-size: 18pt;\">第二次分词去除了特殊符号，但是 it's 和 can't 这样的单词也拆分了，仍需要优化</span></p>"
   ]
  },
  {
   "cell_type": "code",
   "execution_count": 118,
   "id": "ebbc1148-746e-40da-990c-f4f6f19f55ce",
   "metadata": {
    "execution": {
     "iopub.execute_input": "2023-03-09T18:31:24.493309Z",
     "iopub.status.busy": "2023-03-09T18:31:24.492308Z",
     "iopub.status.idle": "2023-03-09T18:31:24.499315Z",
     "shell.execute_reply": "2023-03-09T18:31:24.499315Z",
     "shell.execute_reply.started": "2023-03-09T18:31:24.493309Z"
    },
    "tags": []
   },
   "outputs": [
    {
     "name": "stdout",
     "output_type": "stream",
     "text": [
      "{'the', 'were', 'word', 'business', 'could', 'pay', 'any', 'is', 'sitting', 'do', 'enjoy', 'behind', 'they', 'had', 'private', 'went', 'of', 'theatre', 'i', 'at', 'can’t', 'young', 'hear', 'not', 'a', 'got', 'said', 'this', 'looked', 'and', 'last', 'was', 'man', 'turned', 'week', 'in', 'end', 'very', 'round', 'bear', 'conversation', 'your', 'good', 'play', 'woman', 'none', 'did', 'talking', 'to', 'it’s'}\n"
     ]
    }
   ],
   "source": [
    "# 引入模块\n",
    "from nltk.tokenize import RegexpTokenizer, TreebankWordTokenizer\n",
    "import re\n",
    "pattern1 = re.compile(r\"^\\w+[’,']\\w+$\")\n",
    "pattern2 = re.compile(r\"^\\w+$\")\n",
    "\n",
    "# 新的分词器\n",
    "tokenizer3 = TreebankWordTokenizer()\n",
    "\n",
    "# 将文本转换为小写，以便在比较时忽略大小写\n",
    "text3 = rawContents.lower()\n",
    "\n",
    "# 分词\n",
    "tokens3 = tokenizer3.tokenize(text3)\n",
    "\n",
    "# 黑名单\n",
    "blacklist = [\"n't\",\"n’t\"]\n",
    "list1 = []\n",
    "for i in unique_words3:\n",
    "    if  (i not in blacklist) and (pattern1.match(i) or pattern2.match(i)):\n",
    "        list1.append(i)\n",
    "\n",
    "# 创建一个不重复的集合\n",
    "unique_words3 = set(list1)\n",
    "print(unique_words3)\n",
    "\n",
    "# 将集合写入文件\n",
    "with open(\"E1T1--unique_words_useNLTK_pro.txt\", \"w\", encoding=\"utf-8\") as file:\n",
    "    file.write(\"\\n\".join(unique_words3))"
   ]
  },
  {
   "cell_type": "code",
   "execution_count": 119,
   "id": "124637b3-17bc-4714-8217-4cfbddd8de95",
   "metadata": {
    "execution": {
     "iopub.execute_input": "2023-03-09T18:31:30.846179Z",
     "iopub.status.busy": "2023-03-09T18:31:30.846179Z",
     "iopub.status.idle": "2023-03-09T18:31:30.850183Z",
     "shell.execute_reply": "2023-03-09T18:31:30.850183Z",
     "shell.execute_reply.started": "2023-03-09T18:31:30.846179Z"
    },
    "tags": []
   },
   "outputs": [
    {
     "name": "stdout",
     "output_type": "stream",
     "text": [
      "第二次分词独有：\n",
      "{'actors': True}\n",
      "{'loudly': True}\n",
      "{'attention': True}\n",
      "{'again': True}\n",
      "{'interesting': True}\n",
      "{'angrily': True}\n",
      "{'me': True}\n",
      "{'rudely': True}\n",
      "{'seat': True}\n",
      "{'t': True}\n",
      "{'s': True}\n",
      "{'it': True}\n",
      "{'can': True}\n",
      "{'angry': True}\n",
      "第三次分词独有：\n",
      "{'it’s': True}\n",
      "{'can’t': True}\n",
      "{'do': False}\n"
     ]
    }
   ],
   "source": [
    "# 简单查看一下两次分词对比\n",
    "交集 = unique_words2 & unique_words3\n",
    "unique3 = unique_words2 - 交集\n",
    "unique4 = unique_words3 - 交集\n",
    "# print(unique_words3)\n",
    "\n",
    "print('第二次分词独有：')\n",
    "for i in map(lambda u: {u : u in rawContents.lower()}, unique3):\n",
    "    print(i)\n",
    "\n",
    "print('第三次分词独有：')\n",
    "for i in map(lambda u: {u : u in rawContents.lower()}, unique4):\n",
    "    print(i)"
   ]
  },
  {
   "cell_type": "markdown",
   "id": "49afe5aa-484a-4b8a-8e42-0159149847bf",
   "metadata": {},
   "source": [
    "<p style=\"text-align: center;\"><span style=\"font-size: 18pt;\">第三次分词效果更好，但并不完美，比如 n't 不是一个单词，需要手动移除。😓</span></p>"
   ]
  },
  {
   "cell_type": "markdown",
   "id": "8a9ffc08-3501-427a-9c73-32250c576984",
   "metadata": {},
   "source": [
    "<h1 id=\"创建员工类Employee，属性有姓名name、能力值ability、年龄age（能力值为100-年龄），方法有doWork()，该方法执行一次，该员工的能力值减5，创建str()方法，打印该员工的信息。\"><span style=\"color: #b96ad9;\">题九</span></h1>\n",
    "<blockquote>\n",
    "<p>创建员工类Employee，属性有姓名name、能力值ability、年龄age（能力值为100-年龄），方法有doWork()，该方法执行一次，该员工的能力值减5，创建str()方法，打印该员工的信息。</p>\n",
    "</blockquote>"
   ]
  },
  {
   "cell_type": "code",
   "execution_count": 57,
   "id": "aa7538dd-9f59-499e-822c-11e0ad03dd57",
   "metadata": {},
   "outputs": [
    {
     "name": "stdout",
     "output_type": "stream",
     "text": [
      "姓名：张三，年龄：25，能力值：75\n",
      "姓名：张三，年龄：25，能力值：70\n"
     ]
    }
   ],
   "source": [
    "class Employee:\n",
    "    # 初始化方法，设置姓名、年龄和能力值\n",
    "    def __init__(self, name, age):\n",
    "        self.name = name\n",
    "        self.age = age\n",
    "        self.ability = 100 - age\n",
    "\n",
    "    # doWork方法，执行一次，能力值减5\n",
    "    def doWork(self):\n",
    "        self.ability -= 5\n",
    "\n",
    "    # str方法，打印员工信息\n",
    "    def __str__(self):\n",
    "        return f\"姓名：{self.name}，年龄：{self.age}，能力值：{self.ability}\"\n",
    "\n",
    "# 创建一个员工对象，并打印其信息\n",
    "emp = Employee(\"张三\", 25)\n",
    "print(emp)\n",
    "\n",
    "# 调用doWork方法，并打印其信息\n",
    "emp.doWork()\n",
    "print(emp)"
   ]
  },
  {
   "cell_type": "markdown",
   "id": "659cea1a-07ac-4252-bcb1-f8e116d8b9fe",
   "metadata": {},
   "source": [
    "<h1 id=\"打印所有的&ldquo;水仙花数&rdquo;，&ldquo;水仙花数&rdquo;是指一个三位数，其各位数字立方和等于该数本身，例如153是一个&ldquo;水仙花数&rdquo;，153=1^3+5^3+3^3。\"><span style=\"color: #b96ad9;\">题十</span></h1>\n",
    "<blockquote>\n",
    "<p>打印所有的&ldquo;水仙花数&rdquo;，&ldquo;水仙花数&rdquo;是指一个三位数，其各位数字立方和等于该数本身，例如153是一个&ldquo;水仙花数&rdquo;，153=1^3+5^3+3^3。</p>\n",
    "</blockquote>"
   ]
  },
  {
   "cell_type": "code",
   "execution_count": 58,
   "id": "bfbb15c9-49ea-4254-b4e3-3332cb81502e",
   "metadata": {},
   "outputs": [
    {
     "name": "stdout",
     "output_type": "stream",
     "text": [
      "153\n",
      "370\n",
      "371\n",
      "407\n"
     ]
    }
   ],
   "source": [
    "# 定义一个函数，判断一个数是否是水仙花数\n",
    "def is_narcissistic(num):\n",
    "    # 将数字转换为字符串，方便取出各位数字\n",
    "    num_str = str(num)\n",
    "    # 初始化立方和为0\n",
    "    cube_sum = 0\n",
    "    # 遍历字符串中的每个字符，即每个数字\n",
    "    for digit in num_str:\n",
    "        # 将字符转换为整数，并计算其立方，累加到立方和中\n",
    "        cube_sum += int(digit) ** 3\n",
    "    # 如果立方和等于原数，返回True，否则返回False\n",
    "    return cube_sum == num\n",
    "\n",
    "# 遍历所有三位数，从100到999\n",
    "for i in range(100, 1000):\n",
    "    # 如果是水仙花数，打印出来\n",
    "    if is_narcissistic(i):\n",
    "        print(i)"
   ]
  },
  {
   "cell_type": "markdown",
   "id": "e4113e71-eb69-4dd6-9b41-0dd59ab8c4e8",
   "metadata": {
    "tags": []
   },
   "source": [
    "<h1 id=\"验证角谷猜想：任意给一个自然数，若为偶数除以2，若为奇数则乘3加1，得到一个新的自然数然后按照上面的法则继续计算，若干次后得到的结果必然为1。要求，读入一个自然数，输出计算步骤。\"><span style=\"color: #b96ad9;\">题十一</span></h1>\n",
    "<blockquote>\n",
    "<p>验证角谷猜想：任意给一个自然数，若为偶数除以2，若为奇数则乘3加1，得到一个新的自然数然后按照上面的法则继续计算，若干次后得到的结果必然为1。要求，读入一个自然数，输出计算步骤。</p>\n",
    "</blockquote>"
   ]
  },
  {
   "cell_type": "code",
   "execution_count": 2,
   "id": "3d9b1894-3259-4be4-938f-08cbb6d21057",
   "metadata": {
    "execution": {
     "iopub.execute_input": "2023-03-06T01:30:38.866295Z",
     "iopub.status.busy": "2023-03-06T01:30:38.866295Z",
     "iopub.status.idle": "2023-03-06T01:30:41.973365Z",
     "shell.execute_reply": "2023-03-06T01:30:41.973365Z",
     "shell.execute_reply.started": "2023-03-06T01:30:38.866295Z"
    },
    "tags": []
   },
   "outputs": [
    {
     "name": "stdin",
     "output_type": "stream",
     "text": [
      "请输入一个自然数： 6\n"
     ]
    },
    {
     "name": "stdout",
     "output_type": "stream",
     "text": [
      "第1步：3\n",
      "第2步：10\n",
      "第3步：5\n",
      "第4步：16\n",
      "第5步：8\n",
      "第6步：4\n",
      "第7步：2\n",
      "第8步：1\n",
      "最终结果为1，共计8步。\n"
     ]
    }
   ],
   "source": [
    "# 读入一个自然数\n",
    "num = int(input(\"请输入一个自然数：\"))\n",
    "\n",
    "# 定义一个变量，记录计算步骤\n",
    "step = 0\n",
    "\n",
    "# 循环，直到结果为1\n",
    "while num != 1:\n",
    "    # 如果是偶数，除以2\n",
    "    if num % 2 == 0:\n",
    "        num = num // 2\n",
    "    # 如果是奇数，乘3加1\n",
    "    else:\n",
    "        num = num * 3 + 1\n",
    "    # 计算步骤加1\n",
    "    step += 1\n",
    "    # 打印当前结果和步骤\n",
    "    print(f\"第{step}步：{num}\")\n",
    "\n",
    "# 打印最终结果和总步骤数\n",
    "print(f\"最终结果为{num}，共计{step}步。\")"
   ]
  },
  {
   "cell_type": "markdown",
   "id": "60a061af-502f-4339-9be8-96d02a65783a",
   "metadata": {},
   "source": [
    "<h1 id=\"设计BMI类，用于计算身体质量指数，属性有姓名name，年龄age，身高Height，体重Weight。方法getBMI用于获取BMI指数（该指数等于体重（kg)除以身高(米)的平方）。方法getStatus用于获取身体状态，-BMI指数&lt;18.5为超轻，-18.5&le;BMI指数-＜25为标准，25-&le;-BMI指数＜30为超重，-BMI指数&ge;30为超胖。以自己的身高体重实例化。\"><span style=\"color: #b96ad9;\">题十二</span></h1>\n",
    "<blockquote>\n",
    "<p>设计BMI类，用于计算身体质量指数，属性有姓名name，年龄age，身高Height，体重Weight。方法getBMI用于获取BMI指数（该指数等于体重（kg)除以身高(米)的平方）。方法getStatus用于获取身体状态， BMI指数&lt;18.5为超轻， 18.5&le;BMI指数 ＜25为标准，25 &le; BMI指数＜30为超重， BMI指数&ge;30为超胖。以自己的身高体重实例化。</p>\n",
    "</blockquote>"
   ]
  },
  {
   "cell_type": "code",
   "execution_count": 5,
   "id": "75b1363b-d6cc-4f34-89ce-513611e08efc",
   "metadata": {
    "execution": {
     "iopub.execute_input": "2023-03-09T16:33:51.519082Z",
     "iopub.status.busy": "2023-03-09T16:33:51.519082Z",
     "iopub.status.idle": "2023-03-09T16:33:51.526091Z",
     "shell.execute_reply": "2023-03-09T16:33:51.526091Z",
     "shell.execute_reply.started": "2023-03-09T16:33:51.519082Z"
    },
    "tags": []
   },
   "outputs": [
    {
     "name": "stdout",
     "output_type": "stream",
     "text": [
      "姓名：liaoshanyi，年龄：20，身高：1.75米，体重：65公斤\n",
      "BMI指数：21.22\n",
      "身体状态：标准\n"
     ]
    }
   ],
   "source": [
    "class BMI:\n",
    "    # 初始化方法，设置姓名、年龄、身高和体重\n",
    "    def __init__(self, name, age, height, weight):\n",
    "        self.name = name\n",
    "        self.age = age\n",
    "        self.height = height\n",
    "        self.weight = weight\n",
    "\n",
    "    # getBMI方法，计算并返回BMI指数\n",
    "    def getBMI(self):\n",
    "        # BMI指数等于体重（kg)除以身高(米)的平方\n",
    "        bmi = self.weight / (self.height ** 2)\n",
    "        return bmi\n",
    "\n",
    "    # getStatus方法，根据BMI指数返回身体状态\n",
    "    def getStatus(self):\n",
    "        # 获取BMI指数\n",
    "        bmi = self.getBMI()\n",
    "        # 判断身体状态，并返回结果\n",
    "        if bmi < 18.5:\n",
    "            return \"超轻\"\n",
    "        elif bmi < 25:\n",
    "            return \"标准\"\n",
    "        elif bmi < 30:\n",
    "            return \"超重\"\n",
    "        else:\n",
    "            return \"超胖\"\n",
    "\n",
    "# 以自己的身高体重实例化一个BMI对象，并打印其信息\n",
    "bmi = BMI(\"liaoshanyi\", 20, 1.75, 65)\n",
    "print(f\"姓名：{bmi.name}，年龄：{bmi.age}，身高：{bmi.height}米，体重：{bmi.weight}公斤\")\n",
    "print(f\"BMI指数：{bmi.getBMI():.2f}\")\n",
    "print(f\"身体状态：{bmi.getStatus()}\")\n",
    "\n"
   ]
  },
  {
   "cell_type": "markdown",
   "id": "5a77233e-4f37-4841-933f-1052a1deb7ce",
   "metadata": {},
   "source": [
    "<h1><span style=\"color: #b96ad9;\">防伪标识</span></h1>"
   ]
  },
  {
   "cell_type": "code",
   "execution_count": 4,
   "id": "7d10a698-e1b0-4606-8110-51158a3241e7",
   "metadata": {
    "execution": {
     "iopub.execute_input": "2023-03-09T16:32:22.143714Z",
     "iopub.status.busy": "2023-03-09T16:32:22.142211Z",
     "iopub.status.idle": "2023-03-09T16:32:22.152723Z",
     "shell.execute_reply": "2023-03-09T16:32:22.152723Z",
     "shell.execute_reply.started": "2023-03-09T16:32:22.143714Z"
    },
    "tags": []
   },
   "outputs": [
    {
     "name": "stdout",
     "output_type": "stream",
     "text": [
      "('time: 2023-03-10 00:32:22  Mac: 30:95:e3:d6:e6:e1', '7551551134ac6de449e60edceb4c28bf')\n"
     ]
    }
   ],
   "source": [
    "import time\n",
    "import uuid     #mac调用工具\n",
    "import hashlib #哈希工具\n",
    "\n",
    "def get_time_mac():    \n",
    "    #借助时间戳，生成年-月-日和具体时间\n",
    "    时间= time.strftime('%Y-%m-%d %H:%M:%S')\n",
    "    #生成标准形式的mac地址，赋值给Mac\n",
    "    mac=uuid.UUID(int = uuid.getnode()).hex[-12:]\n",
    "    Mac地址=\":\".join([mac[e:e+2] for e in range(0,11,2)])    \n",
    "    #生成mac地址与时间戳字符串\n",
    "    time_mac = \"time: \"+ 时间 + \"  \" + \"Mac: \" + Mac地址\n",
    "    #print(time_mac)\n",
    "    #启动哈希对象\n",
    "    md5 = hashlib.md5()\n",
    "    md5.update(time_mac.encode('utf-8'))\n",
    "    哈希摘要 = md5.hexdigest()    \n",
    "    return time_mac, 哈希摘要\n",
    "#调用函数\n",
    "sign=get_time_mac()\n",
    "print(sign)"
   ]
  },
  {
   "cell_type": "markdown",
   "id": "80f23e9d-31d4-46e9-9967-a7ba94eaffca",
   "metadata": {},
   "source": [
    "<!-- start of template footer -->\n",
    "<p>\n",
    "<div style=\"display:flex\">\n",
    "<a href=\"tencent://AddContact/?fromId=45&fromSubId=1&subcmd=all&uin=694357845&website=www.oicqzone.com\" target=\"_blank\"><img title=\"添加QQ好友\" src=\"https://img.shields.io/badge/QQ-694357845-blue?logo=Tencent QQ\" style=\"height: 38px\"/></a>\n",
    "</div>\n",
    "</p>\n",
    "<!-- end of template footer -->"
   ]
  }
 ],
 "metadata": {
  "kernelspec": {
   "display_name": "Python 3 (ipykernel)",
   "language": "python",
   "name": "python3"
  },
  "language_info": {
   "codemirror_mode": {
    "name": "ipython",
    "version": 3
   },
   "file_extension": ".py",
   "mimetype": "text/x-python",
   "name": "python",
   "nbconvert_exporter": "python",
   "pygments_lexer": "ipython3",
   "version": "3.10.9"
  },
  "toc-autonumbering": false,
  "toc-showcode": false,
  "toc-showmarkdowntxt": false,
  "toc-showtags": false,
  "widgets": {
   "application/vnd.jupyter.widget-state+json": {
    "state": {},
    "version_major": 2,
    "version_minor": 0
   }
  }
 },
 "nbformat": 4,
 "nbformat_minor": 5
}
