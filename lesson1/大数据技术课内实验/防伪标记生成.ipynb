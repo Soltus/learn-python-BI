{
 "cells": [
  {
   "cell_type": "code",
   "execution_count": null,
   "id": "6fd57a30",
   "metadata": {},
   "outputs": [],
   "source": [
    "import time\n",
    "import uuid     #mac调用工具\n",
    "import hashlib #哈希工具\n",
    "\n",
    "def get_time_mac():    \n",
    "    #借助时间戳，生成年-月-日和具体时间\n",
    "    时间= time.strftime('%Y-%m-%d %H:%M:%S')\n",
    "    #生成标准形式的mac地址，赋值给Mac\n",
    "    mac=uuid.UUID(int = uuid.getnode()).hex[-12:]\n",
    "    Mac地址=\":\".join([mac[e:e+2] for e in range(0,11,2)])    \n",
    "    #生成mac地址与时间戳字符串\n",
    "    time_mac = \"time: \"+ 时间 + \"  \" + \"Mac: \" + Mac地址\n",
    "    #print(time_mac)\n",
    "    #启动哈希对象\n",
    "    md5 = hashlib.md5()\n",
    "    md5.update(time_mac.encode('utf-8'))\n",
    "    哈希摘要 = md5.hexdigest()    \n",
    "    return time_mac, 哈希摘要\n",
    "#调用函数\n",
    "sign=get_time_mac()\n",
    "print(sign)"
   ]
  }
 ],
 "metadata": {
  "kernelspec": {
   "display_name": "Python 3 (ipykernel)",
   "language": "python",
   "name": "python3"
  },
  "language_info": {
   "codemirror_mode": {
    "name": "ipython",
    "version": 3
   },
   "file_extension": ".py",
   "mimetype": "text/x-python",
   "name": "python",
   "nbconvert_exporter": "python",
   "pygments_lexer": "ipython3",
   "version": "3.10.9"
  },
  "widgets": {
   "application/vnd.jupyter.widget-state+json": {
    "state": {},
    "version_major": 2,
    "version_minor": 0
   }
  }
 },
 "nbformat": 4,
 "nbformat_minor": 5
}
