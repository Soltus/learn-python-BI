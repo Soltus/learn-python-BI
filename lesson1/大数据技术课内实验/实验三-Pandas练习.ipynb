{
 "cells": [
  {
   "cell_type": "markdown",
   "id": "30646f7a-e7cb-44d9-863a-c55871a244d5",
   "metadata": {},
   "source": [
    "<!--\n",
    "模板使用方法：将此代码块转为Markdown块然后点击左侧三角渲染（依赖 jupyter-wysiwyg ）\n",
    "模板参数说明：将超链接的路径替换即可\n",
    "@hyperlink_1: href=\"https://github.com/{组织或用户}/{仓库}/blob/{分支}/{目录和文件名组成的路径}\"\n",
    "@hyperlink_2: href=\"https://nbviewer.org/github/{组织或用户}/{仓库}/blob/{分支}/{目录和文件名组成的路径}\"\n",
    "注意事项：在 <p>...</p> 中添加注释或者空行等行为会破坏渲染效果\n",
    "-->\n",
    "\n",
    "<!-- start of template header -->\n",
    "<p>\n",
    "<div style=\"display:flex\">\n",
    "<a alt=\"hyperlink_1\" title=\"在Github查看当前文件\" href=\"https://github.com/Soltus/learn-python-BI/blob/main/lesson1/%E5%A4%A7%E6%95%B0%E6%8D%AE%E6%8A%80%E6%9C%AF%E8%AF%BE%E5%86%85%E5%AE%9E%E9%AA%8C/%E5%AE%9E%E9%AA%8C%E4%B8%89-Pandas%E7%BB%83%E4%B9%A0.ipynb\" target=\"_blank\"><img src=\"https://img.shields.io/badge/File-black?logo=github\" style=\"height: 38px\"/></a>\n",
    "<span style=\"width:5.8px\"></span>\n",
    "<a alt=\"hyperlink_2\" title=\"在nbviewer查看当前文件\" href=\"https://nbviewer.org/github/Soltus/learn-python-BI/blob/main/lesson1/%E5%A4%A7%E6%95%B0%E6%8D%AE%E6%8A%80%E6%9C%AF%E8%AF%BE%E5%86%85%E5%AE%9E%E9%AA%8C/%E5%AE%9E%E9%AA%8C%E4%B8%89-Pandas%E7%BB%83%E4%B9%A0.ipynb\" target=\"_blank\"><img src=\"https://img.shields.io/badge/nbviewer-white?logo=jupyter\" style=\"height: 38px\"/></a>\n",
    "</div>\n",
    "</p>\n",
    "\n",
    "<!-- 避免二次渲染当前块 -->\n",
    "<!-- 请勿在此处添加内容 -->\n",
    "<!-- end of template header -->"
   ]
  },
  {
   "cell_type": "markdown",
   "id": "b6e6fa4e-c463-4585-8862-7f7a7c50ee8c",
   "metadata": {
    "tags": []
   },
   "source": [
    "<h1><span style=\"line-height: 150%; font-size: 24pt; color: #b96ad9;\">题一</span></h1>\n",
    "<blockquote>\n",
    "<p><span style=\"line-height: 150%; font-size: 14pt;\">读取 <span style=\"font-family: Times New Roman;\">mtcars </span>数据集并实现以下操作：</span></p>\n",
    "</blockquote>\n",
    "<ol>\n",
    "<li class=\"MsoNormal\" style=\"text-indent: 24pt; line-height: 150%;\"><span style=\"font-size: 14pt;\"><span style=\"line-height: 150%;\">查</span><span style=\"font-family: 'Times New Roman'; line-height: 150%;\">&nbsp;mtcars</span><span style=\"line-height: 150%;\">数据集的维度、大小等信息；</span></span></li>\n",
    "<li class=\"MsoNormal\" style=\"text-indent: 24pt; line-height: 150%;\"><span style=\"font-size: 14pt;\"><span style=\"text-indent: 24pt; line-height: 150%;\">使用</span><span style=\"text-indent: 24pt; font-family: 'Times New Roman'; line-height: 150%;\">describe</span><span style=\"text-indent: 24pt; line-height: 150%;\">方法对整个</span><span style=\"text-indent: 24pt; font-family: 'Times New Roman'; line-height: 150%;\">mtcars</span><span style=\"text-indent: 24pt; line-height: 150%;\">数据集进行描述性统计；</span></span></li>\n",
    "<li class=\"MsoNormal\" style=\"text-indent: 24pt; line-height: 150%;\"><span style=\"font-size: 14pt;\">计算不同<span style=\"text-indent: 24pt; font-family: 'Times New Roman'; line-height: 150%;\">cyl</span><span style=\"text-indent: 24pt; line-height: 150%;\">（汽缸数）、</span><span style=\"text-indent: 24pt; font-family: 'Times New Roman'; line-height: 150%;\">carb</span><span style=\"text-indent: 24pt; line-height: 150%;\">（化油器）对应的</span><span style=\"text-indent: 24pt; font-family: 'Times New Roman'; line-height: 150%;\">mpg</span><span style=\"text-indent: 24pt; line-height: 150%;\">（油耗）和</span><span style=\"text-indent: 24pt; font-family: 'Times New Roman'; line-height: 150%;\">hp</span><span style=\"text-indent: 24pt; line-height: 150%;\">（马力）的均值。</span></span></li>\n",
    "</ol>"
   ]
  },
  {
   "cell_type": "code",
   "execution_count": 10,
   "id": "34767361-320d-49a6-8919-39c228152400",
   "metadata": {
    "execution": {
     "iopub.execute_input": "2023-03-28T11:25:54.621233Z",
     "iopub.status.busy": "2023-03-28T11:25:54.620237Z",
     "iopub.status.idle": "2023-03-28T11:25:54.672258Z",
     "shell.execute_reply": "2023-03-28T11:25:54.672258Z",
     "shell.execute_reply.started": "2023-03-28T11:25:54.621233Z"
    },
    "tags": []
   },
   "outputs": [
    {
     "data": {
      "text/html": [
       "<div>\n",
       "<style scoped>\n",
       "    .dataframe tbody tr th:only-of-type {\n",
       "        vertical-align: middle;\n",
       "    }\n",
       "\n",
       "    .dataframe tbody tr th {\n",
       "        vertical-align: top;\n",
       "    }\n",
       "\n",
       "    .dataframe thead th {\n",
       "        text-align: right;\n",
       "    }\n",
       "</style>\n",
       "<table border=\"1\" class=\"dataframe\">\n",
       "  <thead>\n",
       "    <tr style=\"text-align: right;\">\n",
       "      <th></th>\n",
       "      <th>Unnamed: 0</th>\n",
       "      <th>mpg</th>\n",
       "      <th>cyl</th>\n",
       "      <th>disp</th>\n",
       "      <th>hp</th>\n",
       "      <th>drat</th>\n",
       "      <th>wt</th>\n",
       "      <th>qsec</th>\n",
       "      <th>vs</th>\n",
       "      <th>am</th>\n",
       "      <th>gear</th>\n",
       "      <th>carb</th>\n",
       "    </tr>\n",
       "  </thead>\n",
       "  <tbody>\n",
       "    <tr>\n",
       "      <th>0</th>\n",
       "      <td>Mazda RX4</td>\n",
       "      <td>21.0</td>\n",
       "      <td>6</td>\n",
       "      <td>160.0</td>\n",
       "      <td>110</td>\n",
       "      <td>3.90</td>\n",
       "      <td>2.620</td>\n",
       "      <td>16.46</td>\n",
       "      <td>0</td>\n",
       "      <td>1</td>\n",
       "      <td>4</td>\n",
       "      <td>4</td>\n",
       "    </tr>\n",
       "    <tr>\n",
       "      <th>1</th>\n",
       "      <td>Mazda RX4 Wag</td>\n",
       "      <td>21.0</td>\n",
       "      <td>6</td>\n",
       "      <td>160.0</td>\n",
       "      <td>110</td>\n",
       "      <td>3.90</td>\n",
       "      <td>2.875</td>\n",
       "      <td>17.02</td>\n",
       "      <td>0</td>\n",
       "      <td>1</td>\n",
       "      <td>4</td>\n",
       "      <td>4</td>\n",
       "    </tr>\n",
       "    <tr>\n",
       "      <th>2</th>\n",
       "      <td>Datsun 710</td>\n",
       "      <td>22.8</td>\n",
       "      <td>4</td>\n",
       "      <td>108.0</td>\n",
       "      <td>93</td>\n",
       "      <td>3.85</td>\n",
       "      <td>2.320</td>\n",
       "      <td>18.61</td>\n",
       "      <td>1</td>\n",
       "      <td>1</td>\n",
       "      <td>4</td>\n",
       "      <td>1</td>\n",
       "    </tr>\n",
       "    <tr>\n",
       "      <th>3</th>\n",
       "      <td>Hornet 4 Drive</td>\n",
       "      <td>21.4</td>\n",
       "      <td>6</td>\n",
       "      <td>258.0</td>\n",
       "      <td>110</td>\n",
       "      <td>3.08</td>\n",
       "      <td>3.215</td>\n",
       "      <td>19.44</td>\n",
       "      <td>1</td>\n",
       "      <td>0</td>\n",
       "      <td>3</td>\n",
       "      <td>1</td>\n",
       "    </tr>\n",
       "    <tr>\n",
       "      <th>4</th>\n",
       "      <td>Hornet Sportabout</td>\n",
       "      <td>18.7</td>\n",
       "      <td>8</td>\n",
       "      <td>360.0</td>\n",
       "      <td>175</td>\n",
       "      <td>3.15</td>\n",
       "      <td>3.440</td>\n",
       "      <td>17.02</td>\n",
       "      <td>0</td>\n",
       "      <td>0</td>\n",
       "      <td>3</td>\n",
       "      <td>2</td>\n",
       "    </tr>\n",
       "  </tbody>\n",
       "</table>\n",
       "</div>"
      ],
      "text/plain": [
       "          Unnamed: 0   mpg  cyl   disp   hp  drat     wt   qsec  vs  am  gear  \\\n",
       "0          Mazda RX4  21.0    6  160.0  110  3.90  2.620  16.46   0   1     4   \n",
       "1      Mazda RX4 Wag  21.0    6  160.0  110  3.90  2.875  17.02   0   1     4   \n",
       "2         Datsun 710  22.8    4  108.0   93  3.85  2.320  18.61   1   1     4   \n",
       "3     Hornet 4 Drive  21.4    6  258.0  110  3.08  3.215  19.44   1   0     3   \n",
       "4  Hornet Sportabout  18.7    8  360.0  175  3.15  3.440  17.02   0   0     3   \n",
       "\n",
       "   carb  \n",
       "0     4  \n",
       "1     4  \n",
       "2     1  \n",
       "3     1  \n",
       "4     2  "
      ]
     },
     "execution_count": 10,
     "metadata": {},
     "output_type": "execute_result"
    }
   ],
   "source": [
    "import pandas as pd\n",
    "mtcars = pd.read_csv('第3章/data/mtcars.csv')\n",
    "mtcars.head()"
   ]
  },
  {
   "cell_type": "markdown",
   "id": "0c2ee8c9-9e59-4c4f-97e4-58b394592ae1",
   "metadata": {},
   "source": [
    "<p><span style=\"font-size: 14pt; color: #e67e23;\"><span style=\"box-sizing: border-box; font-family: -apple-system, BlinkMacSystemFont, 'Segoe UI', Helvetica, Arial, sans-serif, 'Apple Color Emoji', 'Segoe UI Emoji', 'Segoe UI Symbol'; text-indent: 32px; line-height: 24px; border: 0px solid #e5e7eb;\">解1. 查</span><span style=\"box-sizing: border-box; text-indent: 32px; font-family: 'Times New Roman'; line-height: 24px; border: 0px solid #e5e7eb;\"> mtcars&nbsp;</span><span style=\"box-sizing: border-box; font-family: -apple-system, BlinkMacSystemFont, 'Segoe UI', Helvetica, Arial, sans-serif, 'Apple Color Emoji', 'Segoe UI Emoji', 'Segoe UI Symbol'; text-indent: 32px; line-height: 24px; border: 0px solid #e5e7eb;\">数据集的维度、大小等信息</span></span></p>"
   ]
  },
  {
   "cell_type": "code",
   "execution_count": 8,
   "id": "0caa5e9b-ca16-4c7b-9692-280779c43f24",
   "metadata": {
    "execution": {
     "iopub.execute_input": "2023-03-28T10:22:26.850278Z",
     "iopub.status.busy": "2023-03-28T10:22:26.849278Z",
     "iopub.status.idle": "2023-03-28T10:22:26.856277Z",
     "shell.execute_reply": "2023-03-28T10:22:26.855280Z",
     "shell.execute_reply.started": "2023-03-28T10:22:26.850278Z"
    },
    "tags": []
   },
   "outputs": [
    {
     "name": "stdout",
     "output_type": "stream",
     "text": [
      "数据集的维度： (32, 12)\n",
      "数据集的大小： 384\n",
      "数据集的列名： Index(['Unnamed: 0', 'mpg', 'cyl', 'disp', 'hp', 'drat', 'wt', 'qsec', 'vs',\n",
      "       'am', 'gear', 'carb'],\n",
      "      dtype='object')\n"
     ]
    }
   ],
   "source": [
    "# 查看维度\n",
    "print('数据集的维度：', mtcars.shape)\n",
    "\n",
    "# 查看大小\n",
    "print('数据集的大小：', mtcars.size)\n",
    "\n",
    "# 查看列名\n",
    "print('数据集的列名：', mtcars.columns)"
   ]
  },
  {
   "cell_type": "markdown",
   "id": "8a637f17-8930-4582-b0d3-f96aa56413c2",
   "metadata": {
    "jp-MarkdownHeadingCollapsed": true,
    "tags": []
   },
   "source": [
    "<p><span style=\"font-size: 14pt; color: #e67e23;\"><span style=\"box-sizing: border-box; font-family: -apple-system, BlinkMacSystemFont, 'Segoe UI', Helvetica, Arial, sans-serif, 'Apple Color Emoji', 'Segoe UI Emoji', 'Segoe UI Symbol'; text-indent: 24pt; line-height: 24px; border: 0px solid #e5e7eb;\">解2. 使用</span><span style=\"box-sizing: border-box; text-indent: 24pt; font-family: 'Times New Roman'; line-height: 24px; border: 0px solid #e5e7eb;\">describe</span><span style=\"box-sizing: border-box; font-family: -apple-system, BlinkMacSystemFont, 'Segoe UI', Helvetica, Arial, sans-serif, 'Apple Color Emoji', 'Segoe UI Emoji', 'Segoe UI Symbol'; text-indent: 24pt; line-height: 24px; border: 0px solid #e5e7eb;\">方法对整个</span><span style=\"box-sizing: border-box; text-indent: 24pt; font-family: 'Times New Roman'; line-height: 24px; border: 0px solid #e5e7eb;\">mtcars</span><span style=\"box-sizing: border-box; font-family: -apple-system, BlinkMacSystemFont, 'Segoe UI', Helvetica, Arial, sans-serif, 'Apple Color Emoji', 'Segoe UI Emoji', 'Segoe UI Symbol'; text-indent: 24pt; line-height: 24px; border: 0px solid #e5e7eb;\">数据集进行描述性统计</span></span></p>"
   ]
  },
  {
   "cell_type": "code",
   "execution_count": 6,
   "id": "588bed83-a29f-407c-932b-e6fb596cec8c",
   "metadata": {
    "execution": {
     "iopub.execute_input": "2023-03-28T10:18:49.150156Z",
     "iopub.status.busy": "2023-03-28T10:18:49.150156Z",
     "iopub.status.idle": "2023-03-28T10:18:49.172706Z",
     "shell.execute_reply": "2023-03-28T10:18:49.172706Z",
     "shell.execute_reply.started": "2023-03-28T10:18:49.150156Z"
    },
    "tags": []
   },
   "outputs": [
    {
     "name": "stdout",
     "output_type": "stream",
     "text": [
      "             mpg        cyl        disp          hp       drat         wt  \\\n",
      "count  32.000000  32.000000   32.000000   32.000000  32.000000  32.000000   \n",
      "mean   20.090625   6.187500  230.721875  146.687500   3.596563   3.217250   \n",
      "std     6.026948   1.785922  123.938694   68.562868   0.534679   0.978457   \n",
      "min    10.400000   4.000000   71.100000   52.000000   2.760000   1.513000   \n",
      "25%    15.425000   4.000000  120.825000   96.500000   3.080000   2.581250   \n",
      "50%    19.200000   6.000000  196.300000  123.000000   3.695000   3.325000   \n",
      "75%    22.800000   8.000000  326.000000  180.000000   3.920000   3.610000   \n",
      "max    33.900000   8.000000  472.000000  335.000000   4.930000   5.424000   \n",
      "\n",
      "            qsec         vs         am       gear     carb  \n",
      "count  32.000000  32.000000  32.000000  32.000000  32.0000  \n",
      "mean   17.848750   0.437500   0.406250   3.687500   2.8125  \n",
      "std     1.786943   0.504016   0.498991   0.737804   1.6152  \n",
      "min    14.500000   0.000000   0.000000   3.000000   1.0000  \n",
      "25%    16.892500   0.000000   0.000000   3.000000   2.0000  \n",
      "50%    17.710000   0.000000   0.000000   4.000000   2.0000  \n",
      "75%    18.900000   1.000000   1.000000   4.000000   4.0000  \n",
      "max    22.900000   1.000000   1.000000   5.000000   8.0000  \n"
     ]
    }
   ],
   "source": [
    "print(mtcars.describe())"
   ]
  },
  {
   "cell_type": "markdown",
   "id": "36d9e58d-79c7-4c83-a588-833db40e8979",
   "metadata": {},
   "source": [
    "<p><span style=\"color: #e67e23; font-size: 14pt;\"><span style=\"font-family: -apple-system, BlinkMacSystemFont, 'Segoe UI', Helvetica, Arial, sans-serif, 'Apple Color Emoji', 'Segoe UI Emoji', 'Segoe UI Symbol'; font-weight: 400; text-indent: 32px;\">解3. 计算不同</span><span style=\"box-sizing: border-box; font-weight: 400; text-indent: 24pt; font-family: 'Times New Roman'; line-height: 24px; border: 0px solid #e5e7eb;\">cyl</span><span style=\"box-sizing: border-box; font-family: -apple-system, BlinkMacSystemFont, 'Segoe UI', Helvetica, Arial, sans-serif, 'Apple Color Emoji', 'Segoe UI Emoji', 'Segoe UI Symbol'; font-weight: 400; text-indent: 24pt; line-height: 24px; border: 0px solid #e5e7eb;\">（汽缸数）、</span><span style=\"box-sizing: border-box; font-weight: 400; text-indent: 24pt; font-family: 'Times New Roman'; line-height: 24px; border: 0px solid #e5e7eb;\">carb</span><span style=\"box-sizing: border-box; font-family: -apple-system, BlinkMacSystemFont, 'Segoe UI', Helvetica, Arial, sans-serif, 'Apple Color Emoji', 'Segoe UI Emoji', 'Segoe UI Symbol'; font-weight: 400; text-indent: 24pt; line-height: 24px; border: 0px solid #e5e7eb;\">（化油器）对应的</span><span style=\"box-sizing: border-box; font-weight: 400; text-indent: 24pt; font-family: 'Times New Roman'; line-height: 24px; border: 0px solid #e5e7eb;\">mpg</span><span style=\"box-sizing: border-box; font-family: -apple-system, BlinkMacSystemFont, 'Segoe UI', Helvetica, Arial, sans-serif, 'Apple Color Emoji', 'Segoe UI Emoji', 'Segoe UI Symbol'; font-weight: 400; text-indent: 24pt; line-height: 24px; border: 0px solid #e5e7eb;\">（油耗）和</span><span style=\"box-sizing: border-box; font-weight: 400; text-indent: 24pt; font-family: 'Times New Roman'; line-height: 24px; border: 0px solid #e5e7eb;\">hp</span><span style=\"box-sizing: border-box; font-family: -apple-system, BlinkMacSystemFont, 'Segoe UI', Helvetica, Arial, sans-serif, 'Apple Color Emoji', 'Segoe UI Emoji', 'Segoe UI Symbol'; font-weight: 400; text-indent: 24pt; line-height: 24px; border: 0px solid #e5e7eb;\">（马力）的均值</span></span></p>"
   ]
  },
  {
   "cell_type": "code",
   "execution_count": 7,
   "id": "5306aa64-895c-4a99-8258-43db0d0857b9",
   "metadata": {
    "execution": {
     "iopub.execute_input": "2023-03-28T10:20:54.086645Z",
     "iopub.status.busy": "2023-03-28T10:20:54.086114Z",
     "iopub.status.idle": "2023-03-28T10:20:54.094863Z",
     "shell.execute_reply": "2023-03-28T10:20:54.094863Z",
     "shell.execute_reply.started": "2023-03-28T10:20:54.086645Z"
    },
    "tags": []
   },
   "outputs": [
    {
     "name": "stdout",
     "output_type": "stream",
     "text": [
      "            mpg     hp\n",
      "cyl carb              \n",
      "4   1     27.58   77.4\n",
      "    2     25.90   87.0\n",
      "6   1     19.75  107.5\n",
      "    4     19.75  116.5\n",
      "    6     19.70  175.0\n",
      "8   2     17.15  162.5\n",
      "    3     16.30  180.0\n",
      "    4     13.15  234.0\n",
      "    8     15.00  335.0\n"
     ]
    }
   ],
   "source": [
    "grouped = mtcars.groupby(['cyl', 'carb'])[['mpg', 'hp']].mean()\n",
    "print(grouped)"
   ]
  },
  {
   "cell_type": "markdown",
   "id": "a54d67d2-1bab-41c0-9e6b-5049bbdfecc2",
   "metadata": {},
   "source": [
    "<p><span style=\"font-size: 14pt;\">以上结果显示了不同汽缸数和化油器数量的组合对应的 mpg（油耗）和 hp（马力）的均值。例如，当汽缸数为4，化油器数量为1时，平均mpg为25.8，平均hp为91.0。</span></p>"
   ]
  },
  {
   "cell_type": "markdown",
   "id": "f9c37664-ff28-4783-803e-8391bfafa464",
   "metadata": {},
   "source": [
    "<h1><span style=\"line-height: 150%; font-size: 24pt; color: #b96ad9;\">题二</span></h1>\n",
    "<blockquote>\n",
    "<p><span style=\"line-height: 150%; font-size: 14pt;\">使用如下方法规范化数组：<span style=\"font-family: Times New Roman;\">200</span>，<span style=\"font-family: Times New Roman;\">300</span>，<span style=\"font-family: Times New Roman;\">400</span>，<span style=\"font-family: Times New Roman;\">600</span>，<span style=\"font-family: Times New Roman;\">1000</span>。</span></p>\n",
    "</blockquote>\n",
    "<ol>\n",
    "<li class=\"MsoNormal\" style=\"text-indent: 24pt; line-height: 150%;\"><span style=\"font-size: 14pt;\"><span style=\"line-height: 150%;\">令</span><span style=\"font-family: 'Times New Roman'; line-height: 150%;\">min=0</span><span style=\"line-height: 150%;\">，</span><span style=\"font-family: 'Times New Roman'; line-height: 150%;\">max=1</span><span style=\"line-height: 150%;\">，进行&ldquo;最小－最大&rdquo;规范化；</span></span></li>\n",
    "<li class=\"MsoNormal\" style=\"text-indent: 24pt; line-height: 150%;\"><span style=\"font-size: 14pt;\">标准差标准化；</span></li>\n",
    "<li class=\"MsoNormal\" style=\"text-indent: 24pt; line-height: 150%;\"><span style=\"font-size: 14pt;\">小数定标规范化。</span></li>\n",
    "</ol>"
   ]
  },
  {
   "cell_type": "code",
   "execution_count": 12,
   "id": "ab625cb2-cc78-4682-a964-664bc1a27b95",
   "metadata": {
    "execution": {
     "iopub.execute_input": "2023-03-28T11:31:02.982950Z",
     "iopub.status.busy": "2023-03-28T11:31:02.982950Z",
     "iopub.status.idle": "2023-03-28T11:31:02.987540Z",
     "shell.execute_reply": "2023-03-28T11:31:02.986950Z",
     "shell.execute_reply.started": "2023-03-28T11:31:02.982950Z"
    },
    "tags": []
   },
   "outputs": [],
   "source": [
    "import pandas as pd\n",
    "import numpy as np\n",
    "data = [200,300,400,600,1000]"
   ]
  },
  {
   "cell_type": "markdown",
   "id": "93555e3b-4a97-4a4f-a175-15006ad7ad47",
   "metadata": {},
   "source": [
    "<p><span style=\"color: #e67e23; font-size: 14pt;\">解1. 令<span style=\"font-family: 'Times New Roman';\">min=0</span>，<span style=\"font-family: 'Times New Roman';\">max=1</span>，进行&ldquo;最小－最大&rdquo;规范化</span></p>"
   ]
  },
  {
   "cell_type": "code",
   "execution_count": 15,
   "id": "f0bf7cab-5641-4a98-8cea-91c578ed146c",
   "metadata": {
    "execution": {
     "iopub.execute_input": "2023-03-28T11:31:29.242606Z",
     "iopub.status.busy": "2023-03-28T11:31:29.242606Z",
     "iopub.status.idle": "2023-03-28T11:31:29.248605Z",
     "shell.execute_reply": "2023-03-28T11:31:29.248605Z",
     "shell.execute_reply.started": "2023-03-28T11:31:29.242606Z"
    },
    "tags": []
   },
   "outputs": [
    {
     "name": "stdout",
     "output_type": "stream",
     "text": [
      "0     200\n",
      "1     300\n",
      "2     400\n",
      "3     600\n",
      "4    1000\n",
      "dtype: int64\n",
      "令 min=0，max=1，进行“最小－最大”规范化的结果为：\n",
      " 0    0.000\n",
      "1    0.125\n",
      "2    0.250\n",
      "3    0.500\n",
      "4    1.000\n",
      "dtype: float64\n",
      "\n"
     ]
    }
   ],
   "source": [
    "t2_ser = pd.Series(data)\n",
    "print(t2_ser)\n",
    "t2_j1 = (t2_ser - t2_ser.min()) / (t2_ser.max() - t2_ser.min())\n",
    "print('令 min=0，max=1，进行“最小－最大”规范化的结果为：\\n', t2_j1)\n",
    "print()"
   ]
  },
  {
   "cell_type": "markdown",
   "id": "b27eee34-3cd6-46bc-a8af-9deec2a67bda",
   "metadata": {},
   "source": [
    "<p class=\"MsoNormal\"><span style=\"font-size: 14pt; color: #e67e23;\">解2. 标准差标准化</span></p>"
   ]
  },
  {
   "cell_type": "code",
   "execution_count": 18,
   "id": "693b7709-bb22-46ec-a002-21cd9cd6fbab",
   "metadata": {
    "execution": {
     "iopub.execute_input": "2023-03-28T11:33:09.333684Z",
     "iopub.status.busy": "2023-03-28T11:33:09.332684Z",
     "iopub.status.idle": "2023-03-28T11:33:09.338685Z",
     "shell.execute_reply": "2023-03-28T11:33:09.338685Z",
     "shell.execute_reply.started": "2023-03-28T11:33:09.333684Z"
    },
    "tags": []
   },
   "outputs": [
    {
     "name": "stdout",
     "output_type": "stream",
     "text": [
      "标准差标准化后的结果为：\n",
      " 0   -0.948683\n",
      "1   -0.632456\n",
      "2   -0.316228\n",
      "3    0.316228\n",
      "4    1.581139\n",
      "dtype: float64\n",
      "\n"
     ]
    }
   ],
   "source": [
    "t2_j2 = (t2_ser - t2_ser.mean()) / t2_ser.std()\n",
    "print('标准差标准化后的结果为：\\n', t2_j2)\n",
    "print()"
   ]
  },
  {
   "cell_type": "markdown",
   "id": "86b7eb5d-a826-4f0a-a5ec-03e68ef84fdf",
   "metadata": {},
   "source": [
    "<p class=\"MsoNormal\"><span style=\"font-size: 14pt; color: #e67e23;\">解3. 小数定标规范化</span></p>"
   ]
  },
  {
   "cell_type": "code",
   "execution_count": 19,
   "id": "691a319b-4a53-4755-abde-4a9eb9fadaba",
   "metadata": {
    "execution": {
     "iopub.execute_input": "2023-03-28T11:34:22.336808Z",
     "iopub.status.busy": "2023-03-28T11:34:22.336808Z",
     "iopub.status.idle": "2023-03-28T11:34:22.341810Z",
     "shell.execute_reply": "2023-03-28T11:34:22.341810Z",
     "shell.execute_reply.started": "2023-03-28T11:34:22.336808Z"
    },
    "tags": []
   },
   "outputs": [
    {
     "name": "stdout",
     "output_type": "stream",
     "text": [
      "小数定标规范化后的结果为\n",
      " 0    0.2\n",
      "1    0.3\n",
      "2    0.4\n",
      "3    0.6\n",
      "4    1.0\n",
      "dtype: float64\n"
     ]
    }
   ],
   "source": [
    "t2_j3 = t2_ser / 10 ** np.ceil(np.log10(t2_ser.abs().max()))\n",
    "print('小数定标规范化后的结果为\\n', t2_j3)"
   ]
  },
  {
   "cell_type": "markdown",
   "id": "44ca4e3b-730f-4d2a-8a7d-fe76ba81e247",
   "metadata": {},
   "source": [
    "<h1><span style=\"font-size: 24pt; color: #b96ad9;\">题三</span></h1>\n",
    "<blockquote>\n",
    "<p><span style=\"font-size: 14pt;\">假设<span style=\"font-family: Times New Roman;\">12</span>个销售价格记录已经排序：<span style=\"font-family: Times New Roman;\">5</span>，<span style=\"font-family: Times New Roman;\">10</span>，<span style=\"font-family: Times New Roman;\">11</span>，<span style=\"font-family: Times New Roman;\">13</span>，<span style=\"font-family: Times New Roman;\">15</span>，<span style=\"font-family: Times New Roman;\">35</span>，<span style=\"font-family: Times New Roman;\">50</span>，<span style=\"font-family: Times New Roman;\">55</span>，<span style=\"font-family: Times New Roman;\">72</span>，<span style=\"font-family: Times New Roman;\">92</span>，<span style=\"font-family: Times New Roman;\">204</span>，<span style=\"font-family: Times New Roman;\">215</span>。使用等宽法对其进行离散化处理</span></p>\n",
    "</blockquote>"
   ]
  },
  {
   "cell_type": "markdown",
   "id": "009dafec-ba8d-4421-807d-429532116f5e",
   "metadata": {},
   "source": [
    "<p><span style=\"font-size: 14pt; color: #e67e23;\">使用 pandas&nbsp;</span></p>"
   ]
  },
  {
   "cell_type": "code",
   "execution_count": 38,
   "id": "c48f1b41-f11c-46cc-8898-ba0d27b5ff46",
   "metadata": {
    "execution": {
     "iopub.execute_input": "2023-03-28T11:44:27.239782Z",
     "iopub.status.busy": "2023-03-28T11:44:27.238781Z",
     "iopub.status.idle": "2023-03-28T11:44:27.246781Z",
     "shell.execute_reply": "2023-03-28T11:44:27.246781Z",
     "shell.execute_reply.started": "2023-03-28T11:44:27.239782Z"
    },
    "tags": []
   },
   "outputs": [
    {
     "name": "stdout",
     "output_type": "stream",
     "text": [
      "使用等宽法对其进行离散化处理结果为：\n",
      "0       (4.79, 57.5]\n",
      "1       (4.79, 57.5]\n",
      "2       (4.79, 57.5]\n",
      "3       (4.79, 57.5]\n",
      "4       (4.79, 57.5]\n",
      "5       (4.79, 57.5]\n",
      "6       (4.79, 57.5]\n",
      "7       (4.79, 57.5]\n",
      "8      (57.5, 110.0]\n",
      "9      (57.5, 110.0]\n",
      "10    (162.5, 215.0]\n",
      "11    (162.5, 215.0]\n",
      "dtype: category\n",
      "Categories (4, interval[float64, right]): [(4.79, 57.5] < (57.5, 110.0] < (110.0, 162.5] < (162.5, 215.0]]\n",
      "\n"
     ]
    }
   ],
   "source": [
    "t3_price = np.array([5,10,11,13,15,35,50,55,72,92,204,215])\n",
    "t3_ser = pd.Series(t3_price)\n",
    "print('使用等宽法对其进行离散化处理结果为：')\n",
    "print(pd.cut(t3_ser, 4)) # 分为四组\n",
    "print()"
   ]
  },
  {
   "cell_type": "markdown",
   "id": "8bc34967-e9da-4dd0-951b-c62bdb1851ee",
   "metadata": {},
   "source": [
    "<p><span style=\"font-size: 14pt; color: #e67e23;\">不使用 pandas</span></p>"
   ]
  },
  {
   "cell_type": "code",
   "execution_count": 44,
   "id": "70766bb2-3e78-4cf6-babe-34ec4d942670",
   "metadata": {
    "execution": {
     "iopub.execute_input": "2023-03-28T11:48:48.768192Z",
     "iopub.status.busy": "2023-03-28T11:48:48.768192Z",
     "iopub.status.idle": "2023-03-28T11:48:48.776191Z",
     "shell.execute_reply": "2023-03-28T11:48:48.776191Z",
     "shell.execute_reply.started": "2023-03-28T11:48:48.768192Z"
    },
    "tags": []
   },
   "outputs": [
    {
     "name": "stdout",
     "output_type": "stream",
     "text": [
      "Counts: [8 2 0 2]\n",
      "Boundaries:\n",
      "5.0, 57.5\n",
      "57.5, 110.0\n",
      "110.0, 162.5\n",
      "162.5, 215.0\n",
      "\n"
     ]
    }
   ],
   "source": [
    "import numpy as np\n",
    "\n",
    "def equal_width_discretization(data, num_bins):\n",
    "    # 计算区间宽度\n",
    "    width = (max(data) - min(data)) / num_bins\n",
    "    # 确定分箱的边界值\n",
    "    boundaries = [min(data) + i * width for i in range(num_bins+1)]\n",
    "    # 使用numpy的histogram函数计算每个区间内的计数\n",
    "    counts, _ = np.histogram(data, bins=boundaries)\n",
    "    return counts, boundaries\n",
    "\n",
    "t3_data = [5, 10, 11, 13, 15, 35, 50, 55, 72, 92, 204, 215]\n",
    "t3_num_bins = 4\n",
    "t3_counts, t3_boundaries = equal_width_discretization(t3_data, t3_num_bins)\n",
    "print(\"Counts:\", t3_counts)\n",
    "print(\"Boundaries:\")\n",
    "for i in range(t3_num_bins):\n",
    "    print(f\"{t3_boundaries[i]}, {t3_boundaries[i+1]}\")\n",
    "print()"
   ]
  },
  {
   "cell_type": "markdown",
   "id": "e3929205-1076-4f22-b9c0-b4475f0876a3",
   "metadata": {},
   "source": [
    "<h1><span style=\"font-size: 24pt; color: #b96ad9;\">题四</span></h1>\n",
    "<blockquote>\n",
    "<p><span style=\"font-size: 14pt;\">自定义一个能够自动实现数据去重、缺失值中位数填补的函数</span></p>\n",
    "</blockquote>"
   ]
  },
  {
   "cell_type": "code",
   "execution_count": 59,
   "id": "f51cf355-7ab4-4613-9451-45e2cfe8d5a1",
   "metadata": {
    "execution": {
     "iopub.execute_input": "2023-03-28T12:01:36.688943Z",
     "iopub.status.busy": "2023-03-28T12:01:36.688943Z",
     "iopub.status.idle": "2023-03-28T12:01:36.693943Z",
     "shell.execute_reply": "2023-03-28T12:01:36.693943Z",
     "shell.execute_reply.started": "2023-03-28T12:01:36.688943Z"
    },
    "tags": []
   },
   "outputs": [],
   "source": [
    "import pandas as pd\n",
    "import numpy as np\n",
    "\n",
    "def clean_data(df):\n",
    "    # 去重\n",
    "    df.drop_duplicates(inplace=True)\n",
    "    # 缺失值中位数填补\n",
    "    for col in df.columns:\n",
    "        if df[col].isnull().sum() > 0:\n",
    "            median = np.median(df[col].dropna())\n",
    "            df[col].fillna(median, inplace=True)\n",
    "    return df\n"
   ]
  },
  {
   "cell_type": "code",
   "execution_count": 65,
   "id": "652678fb-c6c4-4c27-be7c-5e9380730ffa",
   "metadata": {
    "execution": {
     "iopub.execute_input": "2023-03-28T12:02:27.462434Z",
     "iopub.status.busy": "2023-03-28T12:02:27.462434Z",
     "iopub.status.idle": "2023-03-28T12:02:27.474434Z",
     "shell.execute_reply": "2023-03-28T12:02:27.474434Z",
     "shell.execute_reply.started": "2023-03-28T12:02:27.462434Z"
    },
    "tags": []
   },
   "outputs": [
    {
     "name": "stdout",
     "output_type": "stream",
     "text": [
      "原始数据：\n",
      "     A    B  C\n",
      "0  1.0  4.0  a\n",
      "1  2.0  NaN  b\n",
      "2  3.0  6.0  c\n",
      "3  NaN  7.0  a\n",
      "4  2.0  8.0  b\n",
      "5  3.0  NaN  c\n",
      "\n",
      "清洗后的数据：\n",
      "     A    B  C\n",
      "0  1.0  4.0  a\n",
      "1  2.0  6.5  b\n",
      "2  3.0  6.0  c\n",
      "3  2.0  7.0  a\n",
      "4  2.0  8.0  b\n",
      "5  3.0  6.5  c\n",
      "\n"
     ]
    }
   ],
   "source": [
    "# 创建数据集\n",
    "t4_data = pd.DataFrame({\n",
    "    'A': [1, 2, 3, np.nan, 2, 3],\n",
    "    'B': [4, np.nan, 6, 7, 8, np.nan],\n",
    "    'C': ['a', 'b', 'c', 'a', 'b', 'c']\n",
    "})\n",
    "\n",
    "# 打印原始数据\n",
    "print('原始数据：')\n",
    "print(t4_data)\n",
    "print()\n",
    "\n",
    "# 清洗数据\n",
    "t4_df = clean_data(t4_data)\n",
    "\n",
    "# 打印清洗后的数据\n",
    "print('清洗后的数据：')\n",
    "print(t4_df)\n",
    "print()"
   ]
  },
  {
   "cell_type": "markdown",
   "id": "0ee90710-fa05-484f-ab33-a020ddece1cb",
   "metadata": {},
   "source": [
    "<p>&nbsp;</p>\n",
    "<div style=\"display: flex;\"><a target=\"_blank\" rel=\"nofollow\"><img style=\"height: 38px;\" title=\"添加QQ好友\" src=\"https://img.shields.io/badge/QQ-694357845-blue?logo=Tencent QQ\" alt=\"Image\" /></a></div>\n",
    "<p>&nbsp;</p>"
   ]
  },
  {
   "cell_type": "code",
   "execution_count": 66,
   "id": "7a29bf59-68d2-4cce-bbdd-7f7793608784",
   "metadata": {
    "execution": {
     "iopub.execute_input": "2023-03-28T12:02:35.068917Z",
     "iopub.status.busy": "2023-03-28T12:02:35.067916Z",
     "iopub.status.idle": "2023-03-28T12:02:35.075915Z",
     "shell.execute_reply": "2023-03-28T12:02:35.075915Z",
     "shell.execute_reply.started": "2023-03-28T12:02:35.068917Z"
    },
    "tags": []
   },
   "outputs": [
    {
     "name": "stdout",
     "output_type": "stream",
     "text": [
      "('time: 2023-03-28 20:02:35  Mac: 30:95:e3:d6:e6:e1', '8fd2983aa3f9b4b3a74096b942750fd5')\n"
     ]
    }
   ],
   "source": [
    "import time\n",
    "import uuid     #mac调用工具\n",
    "import hashlib #哈希工具\n",
    "\n",
    "def get_time_mac():    \n",
    "    #借助时间戳，生成年-月-日和具体时间\n",
    "    时间= time.strftime('%Y-%m-%d %H:%M:%S')\n",
    "    #生成标准形式的mac地址，赋值给Mac\n",
    "    mac=uuid.UUID(int = uuid.getnode()).hex[-12:]\n",
    "    Mac地址=\":\".join([mac[e:e+2] for e in range(0,11,2)])    \n",
    "    #生成mac地址与时间戳字符串\n",
    "    time_mac = \"time: \"+ 时间 + \"  \" + \"Mac: \" + Mac地址\n",
    "    #print(time_mac)\n",
    "    #启动哈希对象\n",
    "    md5 = hashlib.md5()\n",
    "    md5.update(time_mac.encode('utf-8'))\n",
    "    哈希摘要 = md5.hexdigest()    \n",
    "    return time_mac, 哈希摘要\n",
    "#调用函数\n",
    "sign=get_time_mac()\n",
    "print(sign)"
   ]
  }
 ],
 "metadata": {
  "kernelspec": {
   "display_name": "Python 3 (ipykernel)",
   "language": "python",
   "name": "python3"
  },
  "language_info": {
   "codemirror_mode": {
    "name": "ipython",
    "version": 3
   },
   "file_extension": ".py",
   "mimetype": "text/x-python",
   "name": "python",
   "nbconvert_exporter": "python",
   "pygments_lexer": "ipython3",
   "version": "3.10.9"
  },
  "widgets": {
   "application/vnd.jupyter.widget-state+json": {
    "state": {},
    "version_major": 2,
    "version_minor": 0
   }
  }
 },
 "nbformat": 4,
 "nbformat_minor": 5
}
