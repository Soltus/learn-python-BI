{
 "cells": [
  {
   "cell_type": "markdown",
   "id": "6caf219f-ce01-4f4b-8144-3c09ca2c6dde",
   "metadata": {},
   "source": [
    "# 第一章 Python 基础"
   ]
  },
  {
   "cell_type": "markdown",
   "id": "346ab556-d9f6-485a-b70c-ed9c21ebcf18",
   "metadata": {},
   "source": [
    "## 保留字"
   ]
  },
  {
   "cell_type": "code",
   "execution_count": 2,
   "id": "4d9f0133-0ef7-4612-a3b7-5e4cdc6479f2",
   "metadata": {
    "execution": {
     "iopub.execute_input": "2023-04-10T06:38:37.708514Z",
     "iopub.status.busy": "2023-04-10T06:38:37.708122Z",
     "iopub.status.idle": "2023-04-10T06:38:37.713747Z",
     "shell.execute_reply": "2023-04-10T06:38:37.712794Z",
     "shell.execute_reply.started": "2023-04-10T06:38:37.708485Z"
    },
    "tags": []
   },
   "outputs": [
    {
     "name": "stdout",
     "output_type": "stream",
     "text": [
      "['False', 'None', 'True', '__peg_parser__', 'and', 'as', 'assert', 'async', 'await', 'break', 'class', 'continue', 'def', 'del', 'elif', 'else', 'except', 'finally', 'for', 'from', 'global', 'if', 'import', 'in', 'is', 'lambda', 'nonlocal', 'not', 'or', 'pass', 'raise', 'return', 'try', 'while', 'with', 'yield']\n"
     ]
    }
   ],
   "source": [
    "import keyword\n",
    "print(keyword.kwlist)"
   ]
  },
  {
   "cell_type": "code",
   "execution_count": 8,
   "id": "5cb09b94-9755-4014-a368-9ed760411a72",
   "metadata": {
    "execution": {
     "iopub.execute_input": "2023-04-10T06:41:06.295225Z",
     "iopub.status.busy": "2023-04-10T06:41:06.294380Z",
     "iopub.status.idle": "2023-04-10T06:41:06.299997Z",
     "shell.execute_reply": "2023-04-10T06:41:06.299154Z",
     "shell.execute_reply.started": "2023-04-10T06:41:06.295187Z"
    },
    "tags": []
   },
   "outputs": [
    {
     "name": "stdout",
     "output_type": "stream",
     "text": [
      "\n"
     ]
    }
   ],
   "source": [
    "# 这是单行注释\n",
    "'''\n",
    "这是多行注释\n",
    "'''\n",
    "\"\"\"\n",
    "这也是多行注释\n",
    "\"\"\"\n",
    "print() # 这也是单行注释"
   ]
  },
  {
   "cell_type": "code",
   "execution_count": null,
   "id": "c61e24e8-2ee4-4f59-928a-5d57df069f47",
   "metadata": {},
   "outputs": [],
   "source": [
    "## 多行语句"
   ]
  },
  {
   "cell_type": "code",
   "execution_count": 9,
   "id": "8cd93437-1f14-4738-8e63-4ff8562310de",
   "metadata": {
    "execution": {
     "iopub.execute_input": "2023-04-10T06:42:16.607380Z",
     "iopub.status.busy": "2023-04-10T06:42:16.606280Z",
     "iopub.status.idle": "2023-04-10T06:42:16.612034Z",
     "shell.execute_reply": "2023-04-10T06:42:16.611155Z",
     "shell.execute_reply.started": "2023-04-10T06:42:16.607343Z"
    },
    "tags": []
   },
   "outputs": [
    {
     "name": "stdout",
     "output_type": "stream",
     "text": [
      "6\n"
     ]
    }
   ],
   "source": [
    "total = 1+\\\n",
    "2+\\\n",
    "3\n",
    "print(total)"
   ]
  },
  {
   "cell_type": "code",
   "execution_count": null,
   "id": "0ccd5878-65a8-453d-a2ae-836789507e89",
   "metadata": {},
   "outputs": [],
   "source": [
    "特殊情况：在[] {} () 中不需要反斜杠"
   ]
  },
  {
   "cell_type": "code",
   "execution_count": 11,
   "id": "fc0fde20-ed55-4608-9e11-777b4b8d46fc",
   "metadata": {
    "execution": {
     "iopub.execute_input": "2023-04-10T06:43:19.722243Z",
     "iopub.status.busy": "2023-04-10T06:43:19.721094Z",
     "iopub.status.idle": "2023-04-10T06:43:19.726917Z",
     "shell.execute_reply": "2023-04-10T06:43:19.726142Z",
     "shell.execute_reply.started": "2023-04-10T06:43:19.722191Z"
    },
    "tags": []
   },
   "outputs": [
    {
     "name": "stdout",
     "output_type": "stream",
     "text": [
      "[1, 2, 3, 4]\n"
     ]
    }
   ],
   "source": [
    "total2 = [1,2,\n",
    "          3,4]\n",
    "print(total2)"
   ]
  },
  {
   "cell_type": "code",
   "execution_count": null,
   "id": "6d74d1e6-7182-4897-b157-5d01fe1c5323",
   "metadata": {},
   "outputs": [],
   "source": [
    "语句之间可以使用分号，从而在同一行"
   ]
  },
  {
   "cell_type": "code",
   "execution_count": 12,
   "id": "d458fbdc-bd67-4b65-8921-9c76348cbad8",
   "metadata": {
    "execution": {
     "iopub.execute_input": "2023-04-10T06:44:36.861325Z",
     "iopub.status.busy": "2023-04-10T06:44:36.860446Z",
     "iopub.status.idle": "2023-04-10T06:44:36.866458Z",
     "shell.execute_reply": "2023-04-10T06:44:36.865474Z",
     "shell.execute_reply.started": "2023-04-10T06:44:36.861278Z"
    },
    "tags": []
   },
   "outputs": [
    {
     "name": "stdout",
     "output_type": "stream",
     "text": [
      "['/opt/conda/lib/python3.9/site-packages/ipykernel_launcher.py', '-f', '/home/jovyan/.local/share/jupyter/runtime/kernel-097430fd-210b-44ad-8004-0047d5e4a67c.json']\n"
     ]
    }
   ],
   "source": [
    "import sys;x=sys.argv;print(x)"
   ]
  },
  {
   "cell_type": "markdown",
   "id": "339da30c-9c4d-49e7-8da0-09bdaf374a17",
   "metadata": {},
   "source": [
    "<p>标识符重点规则</p>\n",
    "<ol>\n",
    "<li>大小写敏感</li>\n",
    "<li>第一个字符必须是字母或下划线（特别注意不允许以数字开头）</li>\n",
    "</ol>"
   ]
  },
  {
   "cell_type": "code",
   "execution_count": null,
   "id": "5eae4762-f3cc-4525-96e2-c64aa5833d02",
   "metadata": {},
   "outputs": [],
   "source": [
    "## 数据类型"
   ]
  },
  {
   "cell_type": "code",
   "execution_count": null,
   "id": "06c8b194-a0b2-428c-954d-f79a71156ea9",
   "metadata": {},
   "outputs": [],
   "source": [
    "py3中有6种标准的数据类型\n",
    "不可变：number（数字）string（字符串）tuple（元组）\n",
    "可变：list（列表）dict（字典）set（集合）"
   ]
  },
  {
   "cell_type": "code",
   "execution_count": null,
   "id": "b4253334-df16-42f6-a8ec-8ec9bc4add68",
   "metadata": {},
   "outputs": [],
   "source": [
    "### 数字类型\n",
    "#### 整形（Int）\n",
    "py3的int范围为正负数，没有大小限制，可以当做long使用\n"
   ]
  },
  {
   "cell_type": "code",
   "execution_count": 13,
   "id": "d4dc3641-e475-4cd2-ab85-c53ee939aa4d",
   "metadata": {
    "execution": {
     "iopub.execute_input": "2023-04-10T06:57:44.607392Z",
     "iopub.status.busy": "2023-04-10T06:57:44.606482Z",
     "iopub.status.idle": "2023-04-10T06:57:44.614719Z",
     "shell.execute_reply": "2023-04-10T06:57:44.613475Z",
     "shell.execute_reply.started": "2023-04-10T06:57:44.607352Z"
    },
    "tags": []
   },
   "outputs": [
    {
     "data": {
      "text/plain": [
       "(1.2+2j)"
      ]
     },
     "execution_count": 13,
     "metadata": {},
     "output_type": "execute_result"
    }
   ],
   "source": [
    "#### 数字类型转换\n",
    "x=1.2\n",
    "int(x) # 将x转换为一个整数\n",
    "float(x) # 将x转换为一个浮点数\n",
    "y=2\n",
    "complex(x) # 将x转换为一个复数，实数部分为x，虚数部分为0\n",
    "complex(x,y) # 将x转换为一个复数，实数部分为x，虚数部分为y"
   ]
  },
  {
   "cell_type": "code",
   "execution_count": 46,
   "id": "26542d43-576f-4391-887a-9080648eae31",
   "metadata": {
    "execution": {
     "iopub.execute_input": "2023-04-10T07:14:39.214184Z",
     "iopub.status.busy": "2023-04-10T07:14:39.213777Z",
     "iopub.status.idle": "2023-04-10T07:14:39.229015Z",
     "shell.execute_reply": "2023-04-10T07:14:39.227190Z",
     "shell.execute_reply.started": "2023-04-10T07:14:39.214153Z"
    },
    "tags": []
   },
   "outputs": [
    {
     "data": {
      "text/plain": [
       "171.88733853924697"
      ]
     },
     "execution_count": 46,
     "metadata": {},
     "output_type": "execute_result"
    }
   ],
   "source": [
    "#### 常用数学函数\n",
    "import math\n",
    "x=x1=x2=3\n",
    "abs(x) #返回数字的绝对值，abs是absolute的简称\n",
    "math.fabs(x) #同上，返回数字的绝对值\n",
    "math.exp(x) #返回e的x次幂\n",
    "math.floor(4.9) #返回数字的整数（向下取整）\n",
    "round(4.9) #四舍五入\n",
    "math.log(math.e) #返回对数,第二个参数是底，省略使用默认底自然数e\n",
    "math.log10(100) # 等同于math.log(100,10)\n",
    "max(x1,x2)\n",
    "min(x1,x2)\n",
    "math.modf(3) # 返回整数部分与小数部分，例如 (0.0, 3.0)\n",
    "pow(x,2) # 返回x的二次幂\n",
    "math.sqrt(x) # 返回x的平方根\n",
    "math.cos(x) # 返回余弦值\n",
    "math.sin(x) # 返回正弦值\n",
    "math.tan(x) # 返回正切值\n",
    "math.degrees(x) # 将弧度转换为角度，例如 x=math.pi/2 则返回 90.0"
   ]
  },
  {
   "cell_type": "code",
   "execution_count": 72,
   "id": "1a5adbe0-ce11-47db-931f-7c99bcdf0321",
   "metadata": {
    "execution": {
     "iopub.execute_input": "2023-04-10T07:36:29.355166Z",
     "iopub.status.busy": "2023-04-10T07:36:29.353821Z",
     "iopub.status.idle": "2023-04-10T07:36:29.365542Z",
     "shell.execute_reply": "2023-04-10T07:36:29.364019Z",
     "shell.execute_reply.started": "2023-04-10T07:36:29.355073Z"
    },
    "tags": []
   },
   "outputs": [
    {
     "name": "stdout",
     "output_type": "stream",
     "text": [
      "True\n"
     ]
    },
    {
     "data": {
      "text/plain": [
       "True"
      ]
     },
     "execution_count": 72,
     "metadata": {},
     "output_type": "execute_result"
    }
   ],
   "source": [
    "#### 运算符\n",
    "##### + - * / 加减乘除略\n",
    "10%3 # 取模（返回除法的余数）\n",
    "3**2 # 幂运算，等同于 pow(3,2)\n",
    "9//2 # 取整除，等同于 math.floor(9/2)\n",
    "##### == != > < 等于 不等于 大于 小于 略\n",
    "##### >= <= 大于等于 小于等于 略\n",
    "\n",
    "a1=a2=2\n",
    "a1-=1\n",
    "a2=a2-1\n",
    "print(a1==a2==1)\n",
    "##### += *= /= %= **= //= 类似的\n",
    "\n",
    "##### 没有 =- =+ =* =/ ...\n",
    "\n",
    "##### 以下略\n",
    "True and False\n",
    "True or False\n",
    "not True\n",
    "3 in [1,2,3]\n",
    "4 not in [1,2,3]"
   ]
  },
  {
   "cell_type": "markdown",
   "id": "8c5d920d-62ce-4352-a85e-d24d431f1b4a",
   "metadata": {},
   "source": [
    "#### 字符串 python没有自带的单字符串类型（一般在其他编程语言用单引号 'a' 表示）\n",
    "\n",
    "转义需要注意 `\\\\` `\\'` `\\\"` `\\b` `\\n` `\\t` `\\r` ，其他略"
   ]
  },
  {
   "cell_type": "code",
   "execution_count": 81,
   "id": "953dc8b6-009c-45f5-b402-e1ebf536c108",
   "metadata": {
    "execution": {
     "iopub.execute_input": "2023-04-10T07:43:51.469190Z",
     "iopub.status.busy": "2023-04-10T07:43:51.468694Z",
     "iopub.status.idle": "2023-04-10T07:43:51.478419Z",
     "shell.execute_reply": "2023-04-10T07:43:51.477334Z",
     "shell.execute_reply.started": "2023-04-10T07:43:51.469150Z"
    },
    "tags": []
   },
   "outputs": [
    {
     "name": "stdout",
     "output_type": "stream",
     "text": [
      "ab\n",
      "a b\n",
      "aaa\n",
      "a\n",
      "a\n",
      "a\n",
      "c\n",
      "a\n"
     ]
    }
   ],
   "source": [
    "print(\"a\"+\"b\")\n",
    "print(\"a\",\"b\")\n",
    "print(\"a\"*3)\n",
    "print(\"abc\"[0])\n",
    "print(\"abc\"[0:1])\n",
    "print(\"abc\"[:1])\n",
    "print(\"abc\"[-1])\n",
    "print(\"abc\"[:-2])"
   ]
  },
  {
   "cell_type": "code",
   "execution_count": null,
   "id": "6f039765-5bfc-4f35-bd88-1bfbaff440ff",
   "metadata": {},
   "outputs": [],
   "source": [
    "##### 格式化字符串略"
   ]
  },
  {
   "cell_type": "code",
   "execution_count": 93,
   "id": "0f31ccff-8679-44fe-bca9-77d73c15ca49",
   "metadata": {
    "execution": {
     "iopub.execute_input": "2023-04-10T07:53:12.808355Z",
     "iopub.status.busy": "2023-04-10T07:53:12.807812Z",
     "iopub.status.idle": "2023-04-10T07:53:12.861556Z",
     "shell.execute_reply": "2023-04-10T07:53:12.848552Z",
     "shell.execute_reply.started": "2023-04-10T07:53:12.808313Z"
    },
    "tags": []
   },
   "outputs": [
    {
     "data": {
      "text/plain": [
       "'abc'"
      ]
     },
     "execution_count": 93,
     "metadata": {},
     "output_type": "execute_result"
    }
   ],
   "source": [
    "##### 字符串函数\n",
    "\"  \".isspace() # 判断是否只包含空格\n",
    "\"abca\".count(\"a\") # 判断子字符串 a 在字符串出现的次数，其他参数略\n",
    "\"abca\".find(\"b\") # 查找索引（从0开始），未找到返回 －1\n",
    "\"*\".join([\"a\",\"b\"]) # 以 ＊ 为分隔符拼接 seq\n",
    "\"abca old\".replace(\"old\",\"new\") #懂的都懂\n",
    "\"abcabcdabc\".split(\"c\") # 返回 ['ab', 'ab', 'dab', '']\n",
    "\" abc \".strip() # 去除左右的空格，等价于 \" abc \".lstrip().rstrip()\n",
    "\"abC\".upper() # 转为大写字母\n",
    "\"abC\".lower() # 转为小写字母"
   ]
  },
  {
   "cell_type": "code",
   "execution_count": 23,
   "id": "e711976f-1088-4ea9-b37e-38f4ebf2a2ab",
   "metadata": {
    "execution": {
     "iopub.execute_input": "2023-04-10T13:57:45.705508Z",
     "iopub.status.busy": "2023-04-10T13:57:45.704508Z",
     "iopub.status.idle": "2023-04-10T13:57:45.711510Z",
     "shell.execute_reply": "2023-04-10T13:57:45.711510Z",
     "shell.execute_reply.started": "2023-04-10T13:57:45.705508Z"
    },
    "tags": []
   },
   "outputs": [
    {
     "name": "stdout",
     "output_type": "stream",
     "text": [
      "3\n",
      "2\n"
     ]
    },
    {
     "data": {
      "text/plain": [
       "[3, 2, 1]"
      ]
     },
     "execution_count": 23,
     "metadata": {},
     "output_type": "execute_result"
    }
   ],
   "source": [
    "##### 列表\n",
    "list1 = [\"1\",\"2\"]\n",
    "list1.append(\"item1\") # 列表末尾追加元素\n",
    "list1.extend([\"3\",\"4\"]) # 相当于列表相加\n",
    "print(list1.index(\"3\")) # 返回匹配的首个索引值\n",
    "list1.insert(0,\"item2\") # 列表指定位置插入元素\n",
    "list1.sort() # 列表排序，参数略\n",
    "list1.reverse() # 两极反转\n",
    "print(list1.pop(1)) # 弹出指定位置元素（默认列表末尾），返回元素值（删除+返回=弹出，很容易理解）\n",
    "list1.remove(\"1\") # 删除列表中首次出现的给定值项\n",
    "list1[0] = 0 # 列表根据索引赋值\n",
    "del list1[0] # 列表根据索引删除\n",
    "list1.clear() # 清空列表\n",
    "\n",
    "##### Python 3.X 的版本中已经没有 cmp 函数，可以使用 (a > b) - (a < b) 实现\n",
    "list1 = [1,2,3,4]\n",
    "len(list1) # 返回列表长度\n",
    "max(list1) # 返回列表最大值\n",
    "min(list1) # 返回列表最小值\n",
    "list((3,2,1)) # 将元组转换为列表"
   ]
  },
  {
   "cell_type": "code",
   "execution_count": 30,
   "id": "25ef8004-1239-41ff-8bd7-67f08b4e39e1",
   "metadata": {
    "execution": {
     "iopub.execute_input": "2023-04-10T14:09:06.010052Z",
     "iopub.status.busy": "2023-04-10T14:09:06.009054Z",
     "iopub.status.idle": "2023-04-10T14:09:06.013055Z",
     "shell.execute_reply": "2023-04-10T14:09:06.013055Z",
     "shell.execute_reply.started": "2023-04-10T14:09:06.010052Z"
    },
    "tags": []
   },
   "outputs": [],
   "source": [
    "##### 元组\n",
    "tup1 = (50,) # 声明只有一个元素的元组，需要添加分隔符，否则括号会被视为运算符\n",
    "tup2 = 1,2,3 # 可以省略括号"
   ]
  },
  {
   "cell_type": "code",
   "execution_count": 65,
   "id": "ce0f94ad-37ed-47d3-9168-eb2eb9cffd42",
   "metadata": {
    "execution": {
     "iopub.execute_input": "2023-04-10T14:35:20.754544Z",
     "iopub.status.busy": "2023-04-10T14:35:20.753546Z",
     "iopub.status.idle": "2023-04-10T14:35:20.761545Z",
     "shell.execute_reply": "2023-04-10T14:35:20.761545Z",
     "shell.execute_reply.started": "2023-04-10T14:35:20.754544Z"
    },
    "tags": []
   },
   "outputs": [
    {
     "data": {
      "text/plain": [
       "{(4, 5), 2, 3, 'a'}"
      ]
     },
     "execution_count": 65,
     "metadata": {},
     "output_type": "execute_result"
    }
   ],
   "source": [
    "##### 字典 略\n",
    "##### 集合\n",
    "#### 集合的最重要特定是它不重复，其次它是无序的\n",
    "set1 = {1,2,3}\n",
    "set11 = set() # 空集合只能使用 set() ，因为 {} 是创建空字典\n",
    "set2 = set(\"abc\")\n",
    "set3 = set([1,3])\n",
    "\n",
    "set1.add((4,5)) # 集合添加 可哈希（hashable） 的元素，也就是不可变对象（数字、字符串、元组），元组将作为单个对象加入目标集合\n",
    "set1.update({\"a\":1,\"b\":2}) # 集合添加（必须是）可迭代的对象（列表、字典、集合），迭代对象遍历元素而不是作为单个对象加入集合。特别注意：如果是字典，字典的 keys() 会被遍历加入目标集合, values() 则丢弃\n",
    "##### 集合删除元素有三种方式\n",
    "set1.remove(1) # 不存在会报错\n",
    "set1.discard(999) # 不存在不报错\n",
    "set1.pop() # 略\n",
    "set1"
   ]
  },
  {
   "cell_type": "code",
   "execution_count": 26,
   "id": "4b5317b0-65d9-4d26-bdc9-f0d64fbc60b7",
   "metadata": {
    "execution": {
     "iopub.execute_input": "2023-04-10T14:02:32.279824Z",
     "iopub.status.busy": "2023-04-10T14:02:32.279285Z",
     "iopub.status.idle": "2023-04-10T14:02:32.284138Z",
     "shell.execute_reply": "2023-04-10T14:02:32.283604Z",
     "shell.execute_reply.started": "2023-04-10T14:02:32.279824Z"
    },
    "tags": []
   },
   "outputs": [
    {
     "name": "stdout",
     "output_type": "stream",
     "text": [
      "1\n"
     ]
    }
   ],
   "source": [
    "#### 条件语句\n",
    "if 1==1:\n",
    "    print(1)\n",
    "elif 1==2: # 注意 elif 不要和其他语言的 else if 搞混就行\n",
    "    print(2)\n",
    "else: # else 部分可以省略,但是不能留空\n",
    "    print(3)"
   ]
  },
  {
   "cell_type": "code",
   "execution_count": 27,
   "id": "3cd258fc-0f85-4818-967e-e65becb47b05",
   "metadata": {
    "execution": {
     "iopub.execute_input": "2023-04-10T14:03:27.956878Z",
     "iopub.status.busy": "2023-04-10T14:03:27.955877Z",
     "iopub.status.idle": "2023-04-10T14:03:27.960878Z",
     "shell.execute_reply": "2023-04-10T14:03:27.960878Z",
     "shell.execute_reply.started": "2023-04-10T14:03:27.956878Z"
    },
    "tags": []
   },
   "outputs": [
    {
     "name": "stdout",
     "output_type": "stream",
     "text": [
      "0\n",
      "1\n",
      "2\n",
      "3\n",
      "4\n",
      "5\n",
      "6\n",
      "7\n",
      "8\n"
     ]
    }
   ],
   "source": [
    "##### range 是很常用的遍历数字序列的方式\n",
    "for i in range(5):\n",
    "    print(i)\n",
    "\n",
    "for i in range(5,9): # 第三位参数为步长,默认为1,可以为负数\n",
    "    print(i)"
   ]
  },
  {
   "cell_type": "code",
   "execution_count": null,
   "id": "89cc5d23-c400-4e2c-89ab-79e934988adf",
   "metadata": {},
   "outputs": [],
   "source": [
    "# 函数 def 略\n",
    "# lambda 表达式（匿名函数） 略\n",
    "# 类 class 略"
   ]
  },
  {
   "cell_type": "code",
   "execution_count": 66,
   "id": "b117242b-5faf-49fc-b8c6-2cf5293226ae",
   "metadata": {
    "execution": {
     "iopub.execute_input": "2023-04-10T16:40:16.677142Z",
     "iopub.status.busy": "2023-04-10T16:40:16.676142Z",
     "iopub.status.idle": "2023-04-10T16:40:16.685141Z",
     "shell.execute_reply": "2023-04-10T16:40:16.684142Z",
     "shell.execute_reply.started": "2023-04-10T16:40:16.677142Z"
    },
    "tags": []
   },
   "outputs": [
    {
     "name": "stdout",
     "output_type": "stream",
     "text": [
      "123\n",
      "124\n",
      "132\n",
      "134\n",
      "142\n",
      "143\n",
      "213\n",
      "214\n",
      "231\n",
      "234\n",
      "241\n",
      "243\n",
      "312\n",
      "314\n",
      "321\n",
      "324\n",
      "341\n",
      "342\n",
      "412\n",
      "413\n",
      "421\n",
      "423\n",
      "431\n",
      "432\n"
     ]
    }
   ],
   "source": [
    "# 有四个数字：1、2、3、4，打印由这四个数字组成的互不相同且无重复数字的三位数\n",
    "for i in range(1,5):\n",
    "    for j in range(1,5):\n",
    "        for k in range(1,5):\n",
    "            if (i!=j) and (j!=k) and (i!=k):\n",
    "                print(f\"{i}{j}{k}\")"
   ]
  },
  {
   "cell_type": "code",
   "execution_count": 67,
   "id": "fb65cb4a-67c8-4f33-b922-f45b36d9130c",
   "metadata": {
    "execution": {
     "iopub.execute_input": "2023-04-10T16:43:13.621836Z",
     "iopub.status.busy": "2023-04-10T16:43:13.621836Z",
     "iopub.status.idle": "2023-04-10T16:43:25.091317Z",
     "shell.execute_reply": "2023-04-10T16:43:25.091317Z",
     "shell.execute_reply.started": "2023-04-10T16:43:13.621836Z"
    },
    "tags": []
   },
   "outputs": [
    {
     "name": "stdin",
     "output_type": "stream",
     "text": [
      "请输入分数：\n",
      " 80\n"
     ]
    },
    {
     "name": "stdout",
     "output_type": "stream",
     "text": [
      "80 属于 B\n"
     ]
    }
   ],
   "source": [
    "# 利用条件运算符的嵌套来完成此题：学习成绩>=90分的同学用A表示，60-89分之间的用B表示，60分以下的用C表示\n",
    "score = int(input('请输入分数：\\n'))\n",
    "if score >= 90:\n",
    "    grade = 'A'\n",
    "elif score >= 60:\n",
    "    grade = 'B'\n",
    "else:\n",
    "    grade = 'C'\n",
    "print('%d 属于 %s' % (score,grade))"
   ]
  },
  {
   "cell_type": "code",
   "execution_count": 78,
   "id": "6ee87d42-f0f3-4b9f-a21f-6dface6d9bc5",
   "metadata": {
    "execution": {
     "iopub.execute_input": "2023-04-10T16:54:45.372113Z",
     "iopub.status.busy": "2023-04-10T16:54:45.372113Z",
     "iopub.status.idle": "2023-04-10T16:54:45.377111Z",
     "shell.execute_reply": "2023-04-10T16:54:45.377111Z",
     "shell.execute_reply.started": "2023-04-10T16:54:45.372113Z"
    },
    "tags": []
   },
   "outputs": [
    {
     "name": "stdout",
     "output_type": "stream",
     "text": [
      "003 92\n",
      "001 89\n",
      "002 78\n",
      "126 48\n"
     ]
    }
   ],
   "source": [
    "d = {'001': 89, '002': 78, '003': 92, '126': 48}\n",
    "items = list(d.items())\n",
    "n = len(items) # 4\n",
    "# 冒泡排序\n",
    "for i in range(n): # 0,1,2,3\n",
    "    for j in range(n-i-1): # 0,1,2, 0,1, 0\n",
    "        if items[j][1] < items[j+1][1]:\n",
    "            items[j], items[j+1] = items[j+1], items[j]\n",
    "\n",
    "for i in items:\n",
    "    print(i[0],i[1])"
   ]
  }
 ],
 "metadata": {
  "kernelspec": {
   "display_name": "Python 3 (ipykernel)",
   "language": "python",
   "name": "python3"
  },
  "language_info": {
   "codemirror_mode": {
    "name": "ipython",
    "version": 3
   },
   "file_extension": ".py",
   "mimetype": "text/x-python",
   "name": "python",
   "nbconvert_exporter": "python",
   "pygments_lexer": "ipython3",
   "version": "3.10.9"
  },
  "widgets": {
   "application/vnd.jupyter.widget-state+json": {
    "state": {},
    "version_major": 2,
    "version_minor": 0
   }
  }
 },
 "nbformat": 4,
 "nbformat_minor": 5
}
