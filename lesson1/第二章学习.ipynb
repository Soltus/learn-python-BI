{
 "cells": [
  {
   "cell_type": "code",
   "execution_count": 54,
   "id": "8ec8b0a7-26fa-4a21-a9ce-c46b9c97dcfa",
   "metadata": {
    "execution": {
     "iopub.execute_input": "2023-04-10T15:52:50.778428Z",
     "iopub.status.busy": "2023-04-10T15:52:50.778428Z",
     "iopub.status.idle": "2023-04-10T15:52:50.786428Z",
     "shell.execute_reply": "2023-04-10T15:52:50.786428Z",
     "shell.execute_reply.started": "2023-04-10T15:52:50.778428Z"
    },
    "tags": []
   },
   "outputs": [
    {
     "name": "stdout",
     "output_type": "stream",
     "text": [
      "2\n",
      "(2, 3)\n",
      "6\n",
      "int32\n",
      "4\n",
      "[[1 2]\n",
      " [1 3]\n",
      " [4 5]]\n",
      "[[[1]\n",
      "  [2]]\n",
      "\n",
      " [[1]\n",
      "  [3]]\n",
      "\n",
      " [[4]\n",
      "  [5]]]\n",
      "[3 4 5]\n",
      "[1 2 1 3 4 5]\n",
      "[[1 3]\n",
      " [1 2]]\n",
      "[[4 5]\n",
      " [1 3]]\n",
      "(3, 2)\n"
     ]
    }
   ],
   "source": [
    "#### ndarray 属性\n",
    "import numpy as np\n",
    "a = np.array([[1,2,1],[3,4,5]])\n",
    "print(a.ndim) # 秩，即轴的数量或者维度的数量\n",
    "print(a.shape) # 数组的维度，对于矩阵 n 行 m 列\n",
    "print(a.size) # n * m ，即元素个数\n",
    "print(a.dtype) # 元素类型\n",
    "print(a.itemsize) # 元素的大小，以字节为单位\n",
    "a.shape = (3,2)\n",
    "print(a)\n",
    "b = a.reshape(3,2,1)\n",
    "print(b)\n",
    "print(a[a>2])\n",
    "print(a[~np.isnan(a)]) # 过滤 NaN\n",
    "print(a[[1,0]])\n",
    "print(a[[-1,-2]])\n",
    "np.save(\"a.npy\",a)\n",
    "aa=np.load(\"a.npy\")\n",
    "print(aa.shape)"
   ]
  },
  {
   "cell_type": "code",
   "execution_count": 60,
   "id": "a406f415-7d72-40a9-9ad8-ae7e4084e791",
   "metadata": {
    "execution": {
     "iopub.execute_input": "2023-04-10T16:08:08.217040Z",
     "iopub.status.busy": "2023-04-10T16:08:08.217040Z",
     "iopub.status.idle": "2023-04-10T16:08:08.222041Z",
     "shell.execute_reply": "2023-04-10T16:08:08.222041Z",
     "shell.execute_reply.started": "2023-04-10T16:08:08.217040Z"
    },
    "tags": []
   },
   "outputs": [
    {
     "name": "stdout",
     "output_type": "stream",
     "text": [
      "[[[[ 0  1]\n",
      "   [ 2  3]]\n",
      "\n",
      "  [[ 4  5]\n",
      "   [ 6  7]]\n",
      "\n",
      "  [[ 8  9]\n",
      "   [10 11]]]\n",
      "\n",
      "\n",
      " [[[12 13]\n",
      "   [14 15]]\n",
      "\n",
      "  [[16 17]\n",
      "   [18 19]]\n",
      "\n",
      "  [[20 21]\n",
      "   [22 23]]]]\n"
     ]
    },
    {
     "data": {
      "text/plain": [
       "(2, 3, 2, 2)"
      ]
     },
     "execution_count": 60,
     "metadata": {},
     "output_type": "execute_result"
    }
   ],
   "source": [
    "n = np.arange(24).reshape(2,-1,2,2) # -1 自动补全，等于 24/2/2/2\n",
    "print(n)\n",
    "n.shape"
   ]
  },
  {
   "cell_type": "code",
   "execution_count": 64,
   "id": "6ef252f5-85b2-4f92-99df-9fe995672f70",
   "metadata": {
    "execution": {
     "iopub.execute_input": "2023-04-10T16:11:56.069442Z",
     "iopub.status.busy": "2023-04-10T16:11:56.068438Z",
     "iopub.status.idle": "2023-04-10T16:11:56.075442Z",
     "shell.execute_reply": "2023-04-10T16:11:56.074444Z",
     "shell.execute_reply.started": "2023-04-10T16:11:56.069442Z"
    },
    "tags": []
   },
   "outputs": [
    {
     "name": "stdout",
     "output_type": "stream",
     "text": [
      "[0. 0. 0. 0. 0. 0. 0. 0. 0. 0. 0.]\n",
      "[0. 0. 0. 0. 0. 0. 0. 0. 0. 0. 0.]\n"
     ]
    }
   ],
   "source": [
    "print(np.zeros(11)) # 0 数组\n",
    "print(np.empty(11)) # 空数组"
   ]
  },
  {
   "cell_type": "code",
   "execution_count": 77,
   "id": "538a6b90-7cdb-4435-a569-7f9e65fa830a",
   "metadata": {
    "execution": {
     "iopub.execute_input": "2023-04-10T17:10:38.101613Z",
     "iopub.status.busy": "2023-04-10T17:10:38.100616Z",
     "iopub.status.idle": "2023-04-10T17:10:38.108612Z",
     "shell.execute_reply": "2023-04-10T17:10:38.108612Z",
     "shell.execute_reply.started": "2023-04-10T17:10:38.101613Z"
    },
    "tags": []
   },
   "outputs": [
    {
     "name": "stdout",
     "output_type": "stream",
     "text": [
      "[[4. 7.]\n",
      " [2. 3.]]\n",
      "[[4 7]\n",
      " [2 3]]\n"
     ]
    }
   ],
   "source": [
    "import numpy as np\n",
    "mx1 = np.random.randint(-1,3,(2,2))\n",
    "mx2 = np.array([[1,2],[2,3]])\n",
    "\n",
    "result = np.zeros((mx1.shape[0], mx2.shape[1])) # shape[0]代表行数 shape[1]代表列数\n",
    "\n",
    "# 外层的两个循环用来遍历结果矩阵的每一个位置，而内层的循环用来计算每一个位置的值\n",
    "for i in range(mx1.shape[0]):\n",
    "    for j in range(mx2.shape[1]):\n",
    "        for k in range(mx1.shape[1]):\n",
    "            result[i,j] += mx1[i,k] * mx2[k,j]\n",
    "print(result)"
   ]
  },
  {
   "cell_type": "code",
   "execution_count": null,
   "id": "ebea6839-2b77-4ada-a435-14b3dc363c4d",
   "metadata": {},
   "outputs": [],
   "source": [
    "import numpy as np\n",
    "\n",
    "# 生成从1到99的奇数序列\n",
    "t4_odd_nums = np.arange(1, 100, 2)\n",
    "# print(odd_nums)\n",
    "\n",
    "# 计算奇数序列的倒数并相加\n",
    "t4_sum = 0\n",
    "for i in t4_odd_nums:\n",
    "    t4_sum += 1.0/i\n",
    "\n",
    "print(f\"和为: {t4_sum:.4f}\")"
   ]
  }
 ],
 "metadata": {
  "kernelspec": {
   "display_name": "Python 3 (ipykernel)",
   "language": "python",
   "name": "python3"
  },
  "language_info": {
   "codemirror_mode": {
    "name": "ipython",
    "version": 3
   },
   "file_extension": ".py",
   "mimetype": "text/x-python",
   "name": "python",
   "nbconvert_exporter": "python",
   "pygments_lexer": "ipython3",
   "version": "3.10.9"
  },
  "widgets": {
   "application/vnd.jupyter.widget-state+json": {
    "state": {},
    "version_major": 2,
    "version_minor": 0
   }
  }
 },
 "nbformat": 4,
 "nbformat_minor": 5
}
